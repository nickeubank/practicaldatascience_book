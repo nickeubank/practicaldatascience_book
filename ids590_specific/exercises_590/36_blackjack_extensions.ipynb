{
 "cells": [
  {
   "cell_type": "markdown",
   "id": "17a1950b",
   "metadata": {},
   "source": [
    "# Blackjack Extensions\n",
    "\n",
    "If you've completed the [Blackjack exercise](./35_blackjack.ipynb) but are interested in getting more practice, here are two extensions you can try."
   ]
  },
  {
   "cell_type": "markdown",
   "id": "9013c1dc",
   "metadata": {},
   "source": [
    "## Aces\n",
    "\n",
    "One major simplification we applied to Blackjack was to assume the game did not use any aces. Aces are complicated because their value can be *either* 11 or 1, depending on the value of the other cards in a player's hand.\n",
    "\n",
    "If a player has a hand with an Ace in it, the card will be worth 11 *unless* treating the Ace as 11 results in the player busting (going over 21), in which case the Ace is valued as 1. So in a hand that has a 10, a 7, and an Ace, the hand will be valued at 18. But in a hand with a 10 and an Ace, the hand is valued at 21.\n",
    "\n",
    "The value of an ace is also not fixed within a game. If a player has an Ace in their first two cards, it will always be valued at 11 initially (you can't bust with two cards). So a hand with a 7 and an Ace is worth 18. But if the player then hits and gets a 7, then the Ace becomes a 1 and the hand is worth 7 + 7 + 1 = 15."
   ]
  },
  {
   "cell_type": "markdown",
   "id": "c04bb611",
   "metadata": {},
   "source": [
    "## Monte Carlo Simulation\n",
    "\n",
    "The second extension to Blackjack is to try simulating lots of games of Blackjack to figure out how often the Player is likely to win given the decision rule we chose (hit if less than or equal to 16). \n",
    "\n",
    "This is an example of what's called a *Monte Carlo Simulation*. Monte Carlo simulation is as it has a wide variety of uses outside of card games, as there are a lot of scenarios where calculating the exact outcomes directly are hard to impossible, but estimating them with randomness works well.\n",
    "\n",
    "For example, suppose you wanted to predict the outcome of an election.  You might have a lot of data from various polls, unemployment numbers, or other factors.  However, even the best data analysis would have a very hard time accurately predicting what will happen as there are many unknowns.   Instead, you might use this information to build a model with random factors built in, and perform several evaluations of the model, picking different random values each time.   If your model is well design, and the input data is good (or you do a good job of weighting the input data based on how good it is), then your model will give a good estimation of the probability of each candidate winning the election.  In the United States, there is a website called Five Thirty Eight, which has used this technique (and a lot of data) to make predictions on elections and sporting events.\n",
    "\n",
    "Another example is in predicting financial returns on investments.   I have a retirement account, where the money is invested in stocks and bonds.  The financial company has a tool on their website where I can select an age to retire, and it predicts how much money I will be able to take each month from my retirement accounts.  The stock market is a complex and difficult to predict system, so they are almost certainly running a Monte Carlo simulation: taking data about what I have in my account, what I contribute to them each month, what the stock market has done in the past, and whatever else they can put into it, and simulating a lot of random variations to come up with an answer.\n",
    "\n",
    "These are just a few examples of Monte Carlo simulations beyond card games.  They also get used in a variety of other fields.   We aren’t going to go deep into details of various applications, nor more complex models. However, we wanted you to know that this general technique has a lot of uses in predicting complex systems across a wide variety of domains.\n",
    "\n"
   ]
  }
 ],
 "metadata": {
  "language_info": {
   "name": "python"
  }
 },
 "nbformat": 4,
 "nbformat_minor": 5
}
