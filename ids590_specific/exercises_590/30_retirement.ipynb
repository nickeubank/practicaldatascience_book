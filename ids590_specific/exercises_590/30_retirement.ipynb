{
 "cells": [
  {
   "cell_type": "code",
   "execution_count": 1,
   "id": "e9feb0b3",
   "metadata": {},
   "outputs": [],
   "source": [
    "# Retirement Planner"
   ]
  },
  {
   "cell_type": "markdown",
   "id": "1776ffa5",
   "metadata": {},
   "source": [
    "```python\n",
    "# calculate retirement savings\n",
    "#  start_age is the age (in months) when we start the calculation\n",
    "#  initial is the initially saved balance at the start\n",
    "#  working is a three tuple (months, contribution, rate of return)\n",
    "#  retired is a three tuple (months, contribution, rate of return)\n",
    "def calculateRetirement(start_age, initial, working, retired):\n",
    "    pass\n",
    "\n",
    "\n",
    "def main():\n",
    "    working = (489, 1000, 0.045 / 12)\n",
    "    retired = (384, -4000, 0.01 / 12)\n",
    "    calculateRetirement(327, 21345, working, retired)\n",
    "    pass\n",
    "\n",
    "\n",
    "if __name__ == \"__main__\":\n",
    "    main()\n",
    "    pass\n",
    "\n",
    "```"
   ]
  }
 ],
 "metadata": {
  "kernelspec": {
   "display_name": "base",
   "language": "python",
   "name": "python3"
  },
  "language_info": {
   "codemirror_mode": {
    "name": "ipython",
    "version": 3
   },
   "file_extension": ".py",
   "mimetype": "text/x-python",
   "name": "python",
   "nbconvert_exporter": "python",
   "pygments_lexer": "ipython3",
   "version": "3.12.8"
  }
 },
 "nbformat": 4,
 "nbformat_minor": 5
}
