{
    "cells": [
        {
            "cell_type": "markdown",
            "metadata": {},
            "source": [
                "# Working with tabular data\n",
                "\n",
                "In the last class, we discussed how to work with numerical data through arrays and matrices in cases when *all the data were of the same type*. You encounter this often, so `numpy` is a powerful tool for working with such homogeneous data (data of the same type) and in such cases is often the preferred tool if you want to do numeric computations because of its speed. However, there are a number of frequently encountered situations in which `numpy` tools may not be ideal and where instead the `pandas` library may be best. These include:\n",
                "\n",
                "1. If you do not have purely numerical data (i.e. if your data are heterogeneous), and therefore have a mix of data types, `numpy` may not be appropriate, while `pandas` can easily handle and analyze mixed data types\n",
                "2. If you have tabular data, `pandas` makes life much easier to **describe**, **summarize**, **query**, and **visualize** the data than the equivalent processes with `numpy`.\n",
                "\n",
                "## Mixed data types\n",
                "\n",
                "Often times our data are of mixed types (e.g. integers and strings). This happens all the time. Imagine that you are collecting basic medical information from a patient. You may ask for height and weight (numerical, floating point numbers), age (integer), and blood type (categorical, string). While numpy can store these together in an array, there's not much you're going to be able to do with it computationally. Consider the following example where `numpy` throws an error:"
            ]
        },
        {
            "cell_type": "markdown",
            "id": "97e962d2",
            "metadata": {},
            "source": [
                "```\n",
                "import numpy as np\n",
                "a = np.array([6.1,150.0,25,'A-'])\n",
                "b = np.array([5.6,122.0,29,'B+'])\n",
                "c = a + b\n",
                "```\n",
                "\n",
                "```\n",
                "---------------------------------------------------------------------------\n",
                "UFuncTypeError                            Traceback (most recent call last)\n",
                "c:\\Users\\kjb17\\Dropbox\\Code\\mids_coursera\\class_3\\week_2\\10_intro_to_pandas.ipynb Cell 2' in <module>\n",
                "      2 a = np.array([6.1,150.0,25,'A-'])\n",
                "      3 b = np.array([5.6,122.0,29,'B+'])\n",
                "----> 4 c = a + b\n",
                "\n",
                "UFuncTypeError: ufunc 'add' did not contain a loop with signature matching types (dtype('<U32'), dtype('<U32')) -> None\n",
                "```"
            ]
        },
        {
            "cell_type": "markdown",
            "metadata": {},
            "source": [
                "`pandas`, on the other hand, doesn't have any problem with mixed data types, on the other hand. It will use the appropriate operation for each data type, adding the numbers and concatenating the strings:"
            ]
        },
        {
            "cell_type": "code",
            "execution_count": 2,
            "metadata": {},
            "outputs": [
                {
                    "data": {
                        "text/plain": [
                            "0     11.7\n",
                            "1    272.0\n",
                            "2       54\n",
                            "3     A-B+\n",
                            "dtype: object"
                        ]
                    },
                    "execution_count": 2,
                    "metadata": {},
                    "output_type": "execute_result"
                }
            ],
            "source": [
                "import pandas as pd\n",
                "\n",
                "a = pd.Series([6.1, 150.0, 25, \"A-\"])\n",
                "b = pd.Series([5.6, 122.0, 29, \"B+\"])\n",
                "c = a + b\n",
                "c"
            ]
        },
        {
            "cell_type": "markdown",
            "metadata": {},
            "source": [
                "While we will see how `pandas` ability to use mixed types really shines later in this lesson, let's also take a look at some motivating examples of what makes `DataFrames` so useful"
            ]
        },
        {
            "cell_type": "markdown",
            "id": "721d57c5",
            "metadata": {},
            "source": [
                "```NOTE:``` In the summer of 2023, the `pandas` package was updated to `pandas 2.0`. In *most* cases, `pandas 2.0` operates in the same manner as `pandas 1.0`, but there are a few important differences. *All* materials in this course reflect the behavior of `pandas 2.0`, and where the behavior of `pandas 2.0` is notably different from the behavior of previous versions of `pandas`, we will note that explicitly. \n",
                "\n",
                "It is important you understand this change took place recently because the various versions of `pandas 1.x` (e.g., `pandas 1.0, 1.1, 1.2, ...`) were around for over three years, and much of the behavior of `pandas 1.x` was also present before `pandas 1.0` was released. As a result, a *lot* of answers you find on resources like StackOverflow or google, or code you get from generative AI tools like `chatGPT` or `Github Copilot` will be based on behavior that, in places, may now be out of date!"
            ]
        },
        {
            "cell_type": "markdown",
            "metadata": {},
            "source": [
                "## A hierarchy of data types: from lists to `numpy` arrays to `pandas` Series and DataFrames\n",
                "\n",
                "We've encountered a few data types already in Python including lists and dictionaries, and more recently `numpy` arrays. Numpy arrays were essentially ways of creating 1, 2, or N-dimensional matrices and the computational tools to work with them efficiently. As a practice, it's best to use the simplest tool for the job. If all we need is a collection and we're not going to perform much computation on it, lists and dictionaries may be just fine. If we need to perform computation, then using the `numpy` arrays may make more sense. In this section, we're introducing `pandas` objects/data types including the series and the dataframe. We can think of a `pandas` series as a 1-dimensional numpy array with more functionality for selecting and querying the data. Data frames are then a collection of series with even more querying tools build into the objects themselves."
            ]
        },
        {
            "cell_type": "markdown",
            "metadata": {},
            "source": [
                "## Effectively working with tabular data\n",
                "\n",
                "Let's walk through 3 examples of what you can do easily with `pandas` that can be rather complicated without it:\n",
                "\n",
                "1. Quickly reading your data into a structured tabular form \n",
                "2. Quickly describe/summarize your data\n",
                "3. Quickly querying your dataset\n",
                "4. Quickly plotting your data"
            ]
        },
        {
            "cell_type": "markdown",
            "metadata": {},
            "source": [
                "### Example 1: Quickly reading your data into a structured tabular form\n",
                "\n",
                "Using the convenient `pandas` methods that hide away the tricky bits, loading in tabular data is trivially easy. Let's load in a dataset to demonstrate (we'll talk more about how these work throughout this week):"
            ]
        },
        {
            "cell_type": "code",
            "execution_count": 5,
            "metadata": {},
            "outputs": [
                {
                    "data": {
                        "text/html": [
                            "<div>\n",
                            "<style scoped>\n",
                            "    .dataframe tbody tr th:only-of-type {\n",
                            "        vertical-align: middle;\n",
                            "    }\n",
                            "\n",
                            "    .dataframe tbody tr th {\n",
                            "        vertical-align: top;\n",
                            "    }\n",
                            "\n",
                            "    .dataframe thead th {\n",
                            "        text-align: right;\n",
                            "    }\n",
                            "</style>\n",
                            "<table border=\"1\" class=\"dataframe\">\n",
                            "  <thead>\n",
                            "    <tr style=\"text-align: right;\">\n",
                            "      <th></th>\n",
                            "      <th>country</th>\n",
                            "      <th>region</th>\n",
                            "      <th>gdppcap08</th>\n",
                            "      <th>polityIV</th>\n",
                            "    </tr>\n",
                            "  </thead>\n",
                            "  <tbody>\n",
                            "    <tr>\n",
                            "      <th>0</th>\n",
                            "      <td>Brazil</td>\n",
                            "      <td>S. America</td>\n",
                            "      <td>10296</td>\n",
                            "      <td>18</td>\n",
                            "    </tr>\n",
                            "    <tr>\n",
                            "      <th>1</th>\n",
                            "      <td>Germany</td>\n",
                            "      <td>W. Europe</td>\n",
                            "      <td>35613</td>\n",
                            "      <td>20</td>\n",
                            "    </tr>\n",
                            "    <tr>\n",
                            "      <th>2</th>\n",
                            "      <td>Mexico</td>\n",
                            "      <td>N. America</td>\n",
                            "      <td>14495</td>\n",
                            "      <td>18</td>\n",
                            "    </tr>\n",
                            "    <tr>\n",
                            "      <th>3</th>\n",
                            "      <td>Mozambique</td>\n",
                            "      <td>Africa</td>\n",
                            "      <td>855</td>\n",
                            "      <td>16</td>\n",
                            "    </tr>\n",
                            "    <tr>\n",
                            "      <th>4</th>\n",
                            "      <td>Russia</td>\n",
                            "      <td>C&amp;E Europe</td>\n",
                            "      <td>16139</td>\n",
                            "      <td>17</td>\n",
                            "    </tr>\n",
                            "    <tr>\n",
                            "      <th>5</th>\n",
                            "      <td>Ukraine</td>\n",
                            "      <td>C&amp;E Europe</td>\n",
                            "      <td>7271</td>\n",
                            "      <td>16</td>\n",
                            "    </tr>\n",
                            "  </tbody>\n",
                            "</table>\n",
                            "</div>"
                        ],
                        "text/plain": [
                            "      country      region  gdppcap08  polityIV\n",
                            "0      Brazil  S. America      10296        18\n",
                            "1     Germany   W. Europe      35613        20\n",
                            "2      Mexico  N. America      14495        18\n",
                            "3  Mozambique      Africa        855        16\n",
                            "4      Russia  C&E Europe      16139        17\n",
                            "5     Ukraine  C&E Europe       7271        16"
                        ]
                    },
                    "execution_count": 5,
                    "metadata": {},
                    "output_type": "execute_result"
                }
            ],
            "source": [
                "import pandas as pd\n",
                "\n",
                "smallworld = pd.read_csv(\"../Example_data/world-very-small.csv\")\n",
                "smallworld"
            ]
        },
        {
            "cell_type": "markdown",
            "metadata": {},
            "source": [
                "It really doesn't get much easier than that. We have text content (under 'country' and 'region') and numerical content ('gdp_per_capita_2008') and column headings are even included!"
            ]
        },
        {
            "cell_type": "markdown",
            "metadata": {},
            "source": [
                "### Example 2: Quickly describe / summarize your data\n",
                "\n",
                "With the use of a single `pandas` method, we can summarize the statistics of any fully-numerical columns of data:"
            ]
        },
        {
            "cell_type": "code",
            "execution_count": 6,
            "metadata": {},
            "outputs": [
                {
                    "data": {
                        "text/html": [
                            "<div>\n",
                            "<style scoped>\n",
                            "    .dataframe tbody tr th:only-of-type {\n",
                            "        vertical-align: middle;\n",
                            "    }\n",
                            "\n",
                            "    .dataframe tbody tr th {\n",
                            "        vertical-align: top;\n",
                            "    }\n",
                            "\n",
                            "    .dataframe thead th {\n",
                            "        text-align: right;\n",
                            "    }\n",
                            "</style>\n",
                            "<table border=\"1\" class=\"dataframe\">\n",
                            "  <thead>\n",
                            "    <tr style=\"text-align: right;\">\n",
                            "      <th></th>\n",
                            "      <th>gdp_per_capita_2008</th>\n",
                            "    </tr>\n",
                            "  </thead>\n",
                            "  <tbody>\n",
                            "    <tr>\n",
                            "      <th>count</th>\n",
                            "      <td>6.000000</td>\n",
                            "    </tr>\n",
                            "    <tr>\n",
                            "      <th>mean</th>\n",
                            "      <td>14111.500000</td>\n",
                            "    </tr>\n",
                            "    <tr>\n",
                            "      <th>std</th>\n",
                            "      <td>11863.031683</td>\n",
                            "    </tr>\n",
                            "    <tr>\n",
                            "      <th>min</th>\n",
                            "      <td>855.000000</td>\n",
                            "    </tr>\n",
                            "    <tr>\n",
                            "      <th>25%</th>\n",
                            "      <td>8027.250000</td>\n",
                            "    </tr>\n",
                            "    <tr>\n",
                            "      <th>50%</th>\n",
                            "      <td>12395.500000</td>\n",
                            "    </tr>\n",
                            "    <tr>\n",
                            "      <th>75%</th>\n",
                            "      <td>15728.000000</td>\n",
                            "    </tr>\n",
                            "    <tr>\n",
                            "      <th>max</th>\n",
                            "      <td>35613.000000</td>\n",
                            "    </tr>\n",
                            "  </tbody>\n",
                            "</table>\n",
                            "</div>"
                        ],
                        "text/plain": [
                            "       gdp_per_capita_2008\n",
                            "count             6.000000\n",
                            "mean          14111.500000\n",
                            "std           11863.031683\n",
                            "min             855.000000\n",
                            "25%            8027.250000\n",
                            "50%           12395.500000\n",
                            "75%           15728.000000\n",
                            "max           35613.000000"
                        ]
                    },
                    "execution_count": 6,
                    "metadata": {},
                    "output_type": "execute_result"
                }
            ],
            "source": [
                "smallworld.describe()\n"
            ]
        },
        {
            "cell_type": "markdown",
            "metadata": {},
            "source": [
                "### Example 3 Quickly querying your data\n",
                "\n",
                "Not only can we load and describe our data quickly, but we can query our data quickly, too. Let's say we wanted to find the countries on the list with per-capita GDP below $10,000. This also becomes extremely simple:\n"
            ]
        },
        {
            "cell_type": "code",
            "execution_count": 6,
            "metadata": {},
            "outputs": [
                {
                    "data": {
                        "text/html": [
                            "<div>\n",
                            "<style scoped>\n",
                            "    .dataframe tbody tr th:only-of-type {\n",
                            "        vertical-align: middle;\n",
                            "    }\n",
                            "\n",
                            "    .dataframe tbody tr th {\n",
                            "        vertical-align: top;\n",
                            "    }\n",
                            "\n",
                            "    .dataframe thead th {\n",
                            "        text-align: right;\n",
                            "    }\n",
                            "</style>\n",
                            "<table border=\"1\" class=\"dataframe\">\n",
                            "  <thead>\n",
                            "    <tr style=\"text-align: right;\">\n",
                            "      <th></th>\n",
                            "      <th>country</th>\n",
                            "      <th>region</th>\n",
                            "      <th>gdppcap08</th>\n",
                            "      <th>polityIV</th>\n",
                            "    </tr>\n",
                            "  </thead>\n",
                            "  <tbody>\n",
                            "    <tr>\n",
                            "      <th>3</th>\n",
                            "      <td>Mozambique</td>\n",
                            "      <td>Africa</td>\n",
                            "      <td>855</td>\n",
                            "      <td>16</td>\n",
                            "    </tr>\n",
                            "    <tr>\n",
                            "      <th>5</th>\n",
                            "      <td>Ukraine</td>\n",
                            "      <td>C&amp;E Europe</td>\n",
                            "      <td>7271</td>\n",
                            "      <td>16</td>\n",
                            "    </tr>\n",
                            "  </tbody>\n",
                            "</table>\n",
                            "</div>"
                        ],
                        "text/plain": [
                            "      country      region  gdppcap08  polityIV\n",
                            "3  Mozambique      Africa        855        16\n",
                            "5     Ukraine  C&E Europe       7271        16"
                        ]
                    },
                    "execution_count": 6,
                    "metadata": {},
                    "output_type": "execute_result"
                }
            ],
            "source": [
                "smallworld.loc[smallworld.gdppcap08 < 10000]\n"
            ]
        },
        {
            "cell_type": "markdown",
            "metadata": {},
            "source": [
                "### Example 4: Quickly plotting your data\n",
                "\n",
                "And if you want/need a quick look at your data, plotting is also extremely straightforward with `pandas` as it builds on the `matplotlib` ecosystem for plotting. Let's create a bar plot of the GDP per capita for each of the countries in our list:"
            ]
        },
        {
            "cell_type": "code",
            "execution_count": 7,
            "metadata": {},
            "outputs": [
                {
                    "data": {
                        "text/plain": [
                            "<AxesSubplot:xlabel='country'>"
                        ]
                    },
                    "execution_count": 7,
                    "metadata": {},
                    "output_type": "execute_result"
                },
                {
                    "data": {
                        "image/png": "[encoded data removed]",
                        "text/plain": [
                            "<Figure size 640x480 with 1 Axes>"
                        ]
                    },
                    "metadata": {},
                    "output_type": "display_data"
                }
            ],
            "source": [
                "smallworld.plot.bar(x=\"country\", y=\"gdppcap08\")"
            ]
        },
        {
            "cell_type": "markdown",
            "id": "041356ef",
            "metadata": {},
            "source": [
                "### Drawbacks of `pandas`\n",
                "\n",
                "Despite its many advantages, and as with all tools, `pandas` also has its drawbacks. First of all, the syntax of `pandas` is a bit different from what we've discussed previously with base Python and with `numpy`, making it a bit challenging to learn. Personally, I still find myself regularly consulting the documentation for `pandas` when I'm using a method I haven't used in awhile. The other drawback is that `pandas` is particularly well-designed for 1D series/arrays and 2D matrices. It's not suitable for handling 3D or N-D matrices (where N > 3). In such cases, there are two main options. The first is to simply revert to our trustworthy friend `numpy` — it's extremely flexible, powerful, and you already know how to use it! The second option is to use the [xarray](https://docs.xarray.dev/en/stable/getting-started-guide/why-xarray.html) package, which is to higher-dimensional numpy arrays what pandas is to 1 or 2D numpy arrays — essentially a wrapper around numpy arrays that adds an ability to label your dimensions in a more intuitive manner!"
            ]
        }
    ],
    "metadata": {
        "kernelspec": {
            "display_name": "Python 3.10.6 ('base')",
            "language": "python",
            "name": "python3"
        },
        "language_info": {
            "codemirror_mode": {
                "name": "ipython",
                "version": 3
            },
            "file_extension": ".py",
            "mimetype": "text/x-python",
            "name": "python",
            "nbconvert_exporter": "python",
            "pygments_lexer": "ipython3",
            "version": "3.10.6"
        },
        "orig_nbformat": 4,
        "vscode": {
            "interpreter": {
                "hash": "718fed28bf9f8c7851519acf2fb923cd655120b36de3b67253eeb0428bd33d2d"
            }
        }
    },
    "nbformat": 4,
    "nbformat_minor": 5
}
