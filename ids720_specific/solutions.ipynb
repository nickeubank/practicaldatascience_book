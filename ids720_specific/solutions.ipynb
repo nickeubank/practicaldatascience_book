{
 "cells": [
  {
   "cell_type": "markdown",
   "metadata": {},
   "source": [
    "# Solutions"
   ]
  },
  {
   "cell_type": "markdown",
   "metadata": {},
   "source": [
    "- [Numpy Vector Solutions](./exercises/Solutions_numpy_vectors.ipynb) \n",
    "- [Numpy View/Copy Solutions](./exercises/Solutions_numpy_viewcopies.ipynb) \n",
    "- [Pandas Series Solutions](./exercises/Solutions_series.ipynb)\n",
    "- [Pandas DataFrames Solutions](./exercises/Solutions_dataframes.ipynb)\n",
    "- [Pandas Missing Solutions](./exercises/Solutions_missing.ipynb)\n",
    "- [Pandas Cleaning Solutions](./exercises/Solutions_cleaning.ipynb)\n",
    "- [Missing](./exercises/Solutions_missing.ipynb)\n",
    "- [Merging](./exercises/Solutions_merging.ipynb)\n",
    "- [Groupby](./exercises/Solutions_groupby.ipynb)\n",
    "- [Reshaping](./exercises/Solutions_reshaping.ipynb)\n",
    "- [statsmodels](./exercises/Solutions_statsmodels.ipynb)\n",
    "- [sklearn](./exercises/Solutions_sklearn.ipynb)"
   ]
  }
 ],
 "metadata": {
  "kernelspec": {
   "display_name": "Python 3.10.6 ('base')",
   "language": "python",
   "name": "python3"
  },
  "language_info": {
   "codemirror_mode": {
    "name": "ipython",
    "version": 3
   },
   "file_extension": ".py",
   "mimetype": "text/x-python",
   "name": "python",
   "nbconvert_exporter": "python",
   "pygments_lexer": "ipython3",
   "version": "3.10.6"
  },
  "vscode": {
   "interpreter": {
    "hash": "718fed28bf9f8c7851519acf2fb923cd655120b36de3b67253eeb0428bd33d2d"
   }
  }
 },
 "nbformat": 4,
 "nbformat_minor": 4
}
