{
    "cells": [
        {
            "cell_type": "markdown",
            "id": "9eedd7f7",
            "metadata": {},
            "source": [
                "# Guidelines for Using the Gradescope Autograder\n",
                "\n",
                "In an effort to provide rapid feedback and to provide you with opportunities learn from your mistakes, most assignments in this class will be at least partially autograded upon submission to Gradescope. \n",
                "\n",
                "The autograder will expect you to upload a Jupyter Notebook with Python code. The notebook will then be executed, and then the autograder will look for a dictionary called `results` in which it expects you to have stored your answers. The autograder will expect your answers to be stored using the strings specified in the exercise as keys (e.g. you may be asked to store the youngest age in a dataset with the key `\"ex5_age_young\"`).\n",
                "\n",
                "However, be aware TAs will _also_ review your notebooks for answers to other questions and to ensure your notebook is well written and formatted, so even though the *autograder* won't care if you organize your notebook well and explain what you're doing clearly, we will! So please use [best practices in writing good notebooks.](https://nickeubank.github.io/practicaldatascience_book/notebooks/PDS_not_yet_in_coursera/20_programming_concepts/writing_good_jupyter_notebooks.html)\n",
                "\n",
                "When storing numeric answers, please put the exact computed value into your `results` dictionary. We will use `np.isclose()` to evaluate numeric solutions to be sure that very small floating point errors won't cause problems, but the closer you are to an exact solution the less likely you are to have issues.\n"
            ]
        },
        {
            "cell_type": "markdown",
            "id": "78571ad9",
            "metadata": {},
            "source": [
                "\n",
                "## Specific Guidelines\n",
                "\n",
                "The only requirements for your submitted notebook are:\n",
                "\n",
                "- Unless otherwise noted in the exercise, you may only import pandas, numpy, matplotlib, seaborn, statsmodels, patsy and sklearn libraries.\n",
                "- Please make sure you are using at least **Python 3.11** and at least **pandas 2.1.**\n",
                "- Import data **from a URL** (since the autograder in the cloud won't see your file system)\n",
                "- Name your notebook as instructed in the exercise before submission. These will generally follow a format like `exercise_[name of topic].ipynb` (e.g., `exercise_sklearn.ipynb`).\n",
                "- Store your solutions in a dictionary called `results` with answers assigned to the keys provided in the exercise prompts.\n",
                "- Your notebook runs from start to completion without any errors. That means that for questions that (deliberately) invite you to write code that *causes* errors, before submitting comment out the code that generates the error to ensure it won't interrupt notebook execution.\n",
                "- Your notebook does not include any [IPython magics](https://ipython.readthedocs.io/en/stable/interactive/magics.html)—these are the types of commands you can run in a jupyter notebook that starts with a `%` or `%%`, but which aren't valid regular Python commands.\n",
                "- Jupyter Notebooks now allow you to write `pip install [package]` directly into a code cell. However, this is **NOT** valid Python code, and will cause problems with the autograder.\n",
                "  - Similarly, do not start cells with `!` (an IPython magic for accessing the terminal from inside a notebook). That's also not valid Python code.\n",
                "- You don't overwrite any standard functions. This is actually good practice in general—in Python, you can reassign any function at any time, but doing so will cause problems for other people using your code who expect certain standard functions—like `list()`, `set()`, `mean()`, etc.—to do what they do in the standard library. So if you assign something to a variable called `list` (e.g. you run `list = pd.Series([\"Nick\", \"Trillian\"])`), then anyone who tries to create a list using the list function (e.g. `my_list = list(x)`) later will get an error.\n",
                "- Your notebook should be formatted with `black` prior to submission ([directions](https://nickeubank.github.io/practicaldatascience_book/notebooks/PDS_not_yet_in_coursera/00_setup_env/setup_vscode.html#format-on-save-with-black-extension)).\n"
            ]
        },
        {
            "cell_type": "markdown",
            "id": "e895ccbe",
            "metadata": {},
            "source": [
                "## Submission Limits\n",
                "\n",
                "Unlike many autograders, beware that in this class the number of submissions allowed for each assignment will be limited. _Usually_, this limit will be three submissions. Your last submission (if you submit 3 or fewer times), or your third submission (if you submit more than 3 times) will determine your grade. Submissions that error out will **not** count against this total.\n",
                "\n",
                "Why?\n",
                "\n",
                "In software development, we can run our test suite as many times as we want. Indeed, we are encouraged to do so with Continuous Integration tools. But in Data Science, we generally never know if our answer is actually *right*. Instead, we have to learn to think carefully as we write our code and make sure that our intermediate results make sense because the whole point of generating a new result is that it's something we didn't know before!\n",
                "\n",
                "In this class, however, I would also like to provide the opportunity to learn from your mistakes and iterate, and this \"submission limit\" model seems like a reasonable compromise."
            ]
        }
    ],
    "metadata": {
        "kernelspec": {
            "display_name": "Python 3.10.6 ('base')",
            "language": "python",
            "name": "python3"
        },
        "language_info": {
            "name": "python",
            "version": "3.10.6"
        },
        "orig_nbformat": 4,
        "vscode": {
            "interpreter": {
                "hash": "718fed28bf9f8c7851519acf2fb923cd655120b36de3b67253eeb0428bd33d2d"
            }
        }
    },
    "nbformat": 4,
    "nbformat_minor": 5
}
