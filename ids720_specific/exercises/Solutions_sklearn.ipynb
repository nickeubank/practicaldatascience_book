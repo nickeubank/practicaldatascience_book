{
 "cells": [
  {
   "cell_type": "markdown",
   "metadata": {},
   "source": [
    "# Machine Learning with Scikit-Learn\n",
    "\n"
   ]
  },
  {
   "cell_type": "markdown",
   "metadata": {},
   "source": [
    "\n",
    "## Gradescope Autograding\n",
    "\n",
    "Please follow [all standard guidance](https://www.practicaldatascience.org/html/autograder_guidelines.html) for submitting this assignment to the Gradescope autograder, including storing your solutions in a dictionary called `results` and ensuring your notebook runs from the start to completion without any errors.\n",
    "\n",
    "For this assignment, please name your file `exercise_sklearn.ipynb` before uploading.\n",
    "\n",
    "You can check that you have answers for all questions in your `results` dictionary with this code:\n",
    "\n",
    "```python\n",
    "assert set(results.keys()) == {\n",
    "    \"ex3_num_columns\",\n",
    "    \"ex6_model_smoking\",\n",
    "    \"ex7_first_prediction\",\n",
    "    \"ex8_score\",\n",
    "    \"ex9_SVR_score\",\n",
    "    \"ex10_SVR_linear_score\",\n",
    "}\n",
    "```\n",
    "\n",
    "\n",
    "### Submission Limits\n",
    "\n",
    "Please remember that you are **only allowed three submissions to the autograder.** Your last submission (if you submit 3 or fewer times), or your third submission (if you submit more than 3 times) will determine your grade Submissions that error out will **not** count against this total."
   ]
  },
  {
   "cell_type": "markdown",
   "metadata": {},
   "source": [
    "\n",
    "## Machine Learning in Medicine\n",
    "\n",
    "In these exercises, we'll learn to fit and evaluate (in a basic way) machine learning models using the package `scikit-learn`.\n",
    "\n",
    "The emphasis of these exercises is to help you get comfortable with the data-wrangling component of machine learning so that in future courses you can focus on the *theory* underlying machine learning. With that in mind, we will be quite cavalier with model fitting and evaluation. As with our `statsmodels` exercises—in which we quickly ran through a few models to practice model *implemention* without thinking too much about model selection and specification—this is **not** how you should do your actual data science analyses!\n",
    "\n",
    "Though this is true generally, it is doubly true in the context of these exercises: the application of machine learning to medicine.\n",
    "\n",
    "In these exercises, we will use the birth-weight data we used for our `statsmodels` exercises to predict birth weights. As you will see, implementing a machine learning model to predict birth weights is actually surprisingly straightforward. But that ease is deceptive; while machine learning algorithms are easy to use, they're hard to use *well*, and if you get them wrong in contexts where they impact real people, poorly implemented machine learning models can literally kill people.\n",
    "\n",
    "Lest you think I'm being hyperbolic, consider the case of a machine learning model used by medical providers across the US to make treatment decisions for millions of people. The goal of the model (distributed by a company called Optum) was to help providers figure out what patients were especially likely to face health problems down the road, so they could provide these patients extra preventative care.\n",
    "\n",
    "The problem, though, is that the way Optum did this was by training a supervised machine learning model to predict future healthcare use by patients. Patients the model predicted would consume more healthcare in the future, the model implicitly *assumed*, were those who should get extra care today.\n",
    "\n",
    "But [as was recently described in a paper in the journal Science](https://www.washingtonpost.com/health/2019/10/24/racial-bias-medical-algorithm-favors-white-patients-over-sicker-black-patients/), the problem is that the model had a large racial bias, and was less likely to recommend extra preventative care for black patients.\n",
    "\n",
    "The reason was that Black patients in the United States tend to use the medical system less than White patients *even when the Black patients have the same level of medical need as White patients*. Why? The paper doesn't explore that fully, but the causes likely include skepticism towards the medical establishment due to the history of Black Americans being used as [unknowing test subjects for medical studies](https://en.wikipedia.org/wiki/Tuskegee_syphilis_experiment), or the fact that Black Americans tend to have lower incomes and are less likely to be insured than White Americans.\n",
    "\n",
    "So when this model saw that Black patients didn't consume as much healthcare in the future, the algorithm interpreted that as evidence that Black patients *didn't need* healthcare in the future. This resulted in the model falsely telling doctors that Black patients were systematically less in need of preventative care.\n",
    "\n",
    "**Crucially, this occurred even though race wasn't even a variable in the model.** Machine learning models are very good at picking up subtle signals, and so even though patient race wasn't an explicit factor in the model, the model was nevertheless able to differentiate Black and White patients. Though it's not clear exactly how it did so, this can happen whenever variables are included in models that are *correlated* with race. For example, people's zip codes (which identify where people live) are notorious for proxying for race in machine learning algorithms since residential segregation in the US means that most people in a given zip code are of the same race.\n",
    "\n",
    "And so as a result, this well-meaning machine learning algorithm resulted in black patients receiving fewer preventative medical interventions than white patients, even after taking into account other (medically relevant) factors.\n",
    "\n",
    "So: in this exercise, we'll play with predicting birth weights in infants. But do **NOT** think that just because it's this easy to fit a model, it is appropriate to then go use these in the real world in contexts where people's lives are affected!"
   ]
  },
  {
   "cell_type": "markdown",
   "metadata": {},
   "source": [
    "## Exercises\n",
    "\n",
    "### Exercise 1 \n",
    "\n",
    "Load the data \"smoking.csv\", which includes information on both biometrics of infants at birth, and information on mothers (variables prefixed with the letter \"m\"), from [this MIDS repo](https://github.com/nickeubank/MIDS_Data). We'll be working with this data in this exercise. "
   ]
  },
  {
   "cell_type": "code",
   "execution_count": 1,
   "metadata": {},
   "outputs": [],
   "source": [
    "import pandas as pd\n",
    "import numpy as np\n",
    "import patsy\n",
    "from sklearn.model_selection import train_test_split\n",
    "\n",
    "pd.set_option(\"mode.copy_on_write\", True)"
   ]
  },
  {
   "cell_type": "code",
   "execution_count": 2,
   "metadata": {},
   "outputs": [],
   "source": [
    "smoking_and_bw = pd.read_csv(\n",
    "    \"https://media.githubusercontent.com/media/nickeubank/MIDS_Data/master/smoking.csv\"\n",
    ")"
   ]
  },
  {
   "cell_type": "markdown",
   "metadata": {},
   "source": [
    "## Formatting Your Data\n",
    "\n",
    "Unlike in `statsmodels`, we can't use `pandas` DataFrames in scikit-learn, so the first step in nearly any machine learning workflow (if you haven't already been given a nice giant numpy array) is to convert our heterogeneous pandas array (which includes strings, categorical variables, integers, and floating point numbers) into a single large matrix that consists only of floating point numbers. \n",
    "\n",
    "While you can do this by hand, this is most easily accomplished using the `patsy` library, which will take a pandas array and a special formula string and return numpy arrays for use in libraries like scikit-learn. (`patsy` is actually the library that implemented the formulas we used in `statsmodels` to specify our regression models—here we're just using it on its own).\n",
    "\n",
    "Let's assume that for most of these exercises, we want to predict birth weight (`bwt.oz`) using:\n",
    "\n",
    "- whether the mother is (a) White, (b) Black, (c) Hispanic or (d) of another ethnicity (in other words, please recode `mrace` into four categories)\n",
    "- whether the mother smokes (`smoke`)\n",
    "- Mother's age (`mage`)\n",
    "- Mother's weight (`mpregwt`)\n",
    "- Mother's height (`mht`)\n",
    "\n",
    "We won't use any interaction terms in this exercise, just these entered on their own.\n",
    "\n",
    "For race, recall that in the raw data, `mrace` is coded as:\n",
    "\n",
    "```\n",
    "mrace    mother’s race or ethnicity\n",
    "         0-5= white\n",
    "         6  = mexican\n",
    "         7 = black\n",
    "         8 = asian\n",
    "         9 = mix\n",
    "         99 = unknown\n",
    "```\n",
    "\n",
    "Re-group mrace to be White(0-5), Hispanic (6), Black(7), other (8, 9, 99)\n",
    "\n",
    "(We're ignoring `gestation` because we don't really know the value of `gestation` before the child is born, so we can't use it to predict the birthweight of not-yet-born children!)"
   ]
  },
  {
   "cell_type": "markdown",
   "metadata": {},
   "source": [
    "### Exercise 2\n",
    "\n",
    "Begin by using `patsy.dmatrices()` to create two datasets (`y`, which is the birth weights, and `X`, which is a matrix with all your \"features\" in a nice numpy array).\n",
    "\n",
    "**Note:** You may hit a similar issue using patsy here you encountered when writing formulas in the [statsmodels](exercises/statsmodel.ipynb) exercise."
   ]
  },
  {
   "cell_type": "code",
   "execution_count": 3,
   "metadata": {},
   "outputs": [],
   "source": [
    "# Re-group race to be White (0), Hispanic (6), Black (7), other (8, 9, 99)\n",
    "smoking_and_bw[\"race_recoded\"] = -1\n",
    "smoking_and_bw.loc[smoking_and_bw.mrace <= 5, \"race_recoded\"] = 0\n",
    "smoking_and_bw.loc[smoking_and_bw.mrace == 6, \"race_recoded\"] = 1\n",
    "smoking_and_bw.loc[smoking_and_bw.mrace == 7, \"race_recoded\"] = 2\n",
    "smoking_and_bw.loc[smoking_and_bw.mrace > 7, \"race_recoded\"] = 3\n",
    "assert (smoking_and_bw[\"race_recoded\"] != -1).all()\n",
    "\n",
    "# Fix birth weight var name\n",
    "smoking_and_bw = smoking_and_bw.rename({\"bwt.oz\": \"bwt_oz\"}, axis=\"columns\")"
   ]
  },
  {
   "cell_type": "code",
   "execution_count": 4,
   "metadata": {},
   "outputs": [
    {
     "data": {
      "text/plain": [
       "race_recoded\n",
       "0    626\n",
       "2    169\n",
       "3     49\n",
       "1     25\n",
       "Name: count, dtype: int64"
      ]
     },
     "execution_count": 4,
     "metadata": {},
     "output_type": "execute_result"
    }
   ],
   "source": [
    "smoking_and_bw.race_recoded.value_counts()"
   ]
  },
  {
   "cell_type": "code",
   "execution_count": 5,
   "metadata": {},
   "outputs": [
    {
     "name": "stderr",
     "output_type": "stream",
     "text": [
      "/Users/nce8/opt/miniconda3/lib/python3.11/site-packages/patsy/util.py:672: FutureWarning: is_categorical_dtype is deprecated and will be removed in a future version. Use isinstance(dtype, CategoricalDtype) instead\n",
      "  return _pandas_is_categorical_dtype(dt)\n",
      "/Users/nce8/opt/miniconda3/lib/python3.11/site-packages/patsy/util.py:672: FutureWarning: is_categorical_dtype is deprecated and will be removed in a future version. Use isinstance(dtype, CategoricalDtype) instead\n",
      "  return _pandas_is_categorical_dtype(dt)\n",
      "/Users/nce8/opt/miniconda3/lib/python3.11/site-packages/patsy/util.py:672: FutureWarning: is_categorical_dtype is deprecated and will be removed in a future version. Use isinstance(dtype, CategoricalDtype) instead\n",
      "  return _pandas_is_categorical_dtype(dt)\n",
      "/Users/nce8/opt/miniconda3/lib/python3.11/site-packages/patsy/util.py:672: FutureWarning: is_categorical_dtype is deprecated and will be removed in a future version. Use isinstance(dtype, CategoricalDtype) instead\n",
      "  return _pandas_is_categorical_dtype(dt)\n",
      "/Users/nce8/opt/miniconda3/lib/python3.11/site-packages/patsy/util.py:672: FutureWarning: is_categorical_dtype is deprecated and will be removed in a future version. Use isinstance(dtype, CategoricalDtype) instead\n",
      "  return _pandas_is_categorical_dtype(dt)\n",
      "/Users/nce8/opt/miniconda3/lib/python3.11/site-packages/patsy/util.py:672: FutureWarning: is_categorical_dtype is deprecated and will be removed in a future version. Use isinstance(dtype, CategoricalDtype) instead\n",
      "  return _pandas_is_categorical_dtype(dt)\n"
     ]
    }
   ],
   "source": [
    "y, X = patsy.dmatrices(\n",
    "    \"bwt_oz ~ C(race_recoded) + smoke + mage + mpregwt + mht\", smoking_and_bw\n",
    ")"
   ]
  },
  {
   "cell_type": "markdown",
   "metadata": {},
   "source": [
    "### Exercise 3\n",
    "\n",
    "Look at your features matrix `X`. How many columns does it have? Store your answer as `ex3_num_columns`. How does that compare to the number of variables you used as inputs? (if they're the same, you probably did something wrong...). \n",
    "\n",
    "Explain all the things patsy has done with your data (hint: it's made TWO changes affecting the number of columns in your data)."
   ]
  },
  {
   "cell_type": "code",
   "execution_count": 6,
   "metadata": {},
   "outputs": [
    {
     "data": {
      "text/plain": [
       "(869, 8)"
      ]
     },
     "execution_count": 6,
     "metadata": {},
     "output_type": "execute_result"
    }
   ],
   "source": [
    "X.shape"
   ]
  },
  {
   "cell_type": "code",
   "execution_count": 7,
   "metadata": {},
   "outputs": [
    {
     "data": {
      "text/plain": [
       "DesignMatrix with shape (869, 8)\n",
       "  Columns:\n",
       "    ['Intercept',\n",
       "     'C(race_recoded)[T.1]',\n",
       "     'C(race_recoded)[T.2]',\n",
       "     'C(race_recoded)[T.3]',\n",
       "     'smoke',\n",
       "     'mage',\n",
       "     'mpregwt',\n",
       "     'mht']\n",
       "  Terms:\n",
       "    'Intercept' (column 0)\n",
       "    'C(race_recoded)' (columns 1:4)\n",
       "    'smoke' (column 4)\n",
       "    'mage' (column 5)\n",
       "    'mpregwt' (column 6)\n",
       "    'mht' (column 7)\n",
       "  (to view full data, use np.asarray(this_obj))"
      ]
     },
     "execution_count": 7,
     "metadata": {},
     "output_type": "execute_result"
    }
   ],
   "source": [
    "X"
   ]
  },
  {
   "cell_type": "code",
   "execution_count": 8,
   "metadata": {},
   "outputs": [],
   "source": [
    "results = dict()\n",
    "results[\"ex3_num_columns\"] = X.shape[1]"
   ]
  },
  {
   "cell_type": "markdown",
   "metadata": {},
   "source": [
    "> I had 5 features going in, but now I have 8 variables! That's for two reasons:\n",
    "> \n",
    "> 1) patsy added a column of 1 for the intercept, and \n",
    "> 2) the categorical variable \"race\" was recoded from 1 var into 3 indicator variables, so that all 3 are zero if the person is White, the first is 1 and the others are zero if the person is Hispanic, the second is 1 and the others are zero if the person is Black, and the third is 1 and the others are zero if the person is \"other\". This is called one-hot-encoding, and it's how we represent categorical variables."
   ]
  },
  {
   "cell_type": "markdown",
   "metadata": {},
   "source": [
    "## Splitting Your Data\n",
    "\n",
    "In machine learning, model selection is often accomplished by: \n",
    "\n",
    "1. Splitting your data into two parts (a training set and a test set), \n",
    "2. Training your model on the training set (i.e. set the parameters of your model to best explain the training data).\n",
    "3. Testing the model by using the parameters generated during that training to predict values for the testing data, then comparing the predicted values for the testing data to the actual values in the test data. The smaller the difference between the predicted values and the true values in the testing data, the better the model is said to perform.\n",
    "\n",
    "Suppose we just wanted to use linear regression as our model. First, we'd randomly pick 80% our data, then regress birth weight on the various variables (\"features\" in machine learning terminology) we specified above. Then we'd use the coefficients from that regression to predict birth weights for the 20% of children we didn't use in our estimation, and see how different those predictions are from actual birth weights. If we find a model that performs well on our testing data, then we *assume* (*hope*) that that model will also work well on new data (i.e. on children who haven't been born yet whose weight we want to predict).\n",
    "\n",
    "(Readers from a statistics background will recognize this as being a little analogous to \"cross-validation.\")\n",
    "\n",
    "So the first step in machine learning is to split our sample! Thankfully this is easy to do with the `sklearn` `train_test_split` function. Import the function with `from sklearn.model_selection import train_test_split`, and split your data. To give you a sense of how it works, this is a common syntax:\n",
    "\n",
    "```python \n",
    "from sklearn.model_selection import train_test_split\n",
    "\n",
    "X_train, X_test, Y_train, Y_test = train_test_split(\n",
    "    X, y, test_size=0.2, train_size=0.8, random_state=42\n",
    ")\n",
    "```\n",
    "\n",
    "Where `X_train` is your training features, `Y_train` are your training birth weights, `X_test` are your test features, and `Y_test` are your test birth weights. The `random_state` var just ensures that you can re-create this split if you have to re-run your code (helpful for debugging and for our autograder).\n",
    "\n",
    "### Exercise 4\n",
    "\n",
    "Start by splitting YOUR data, putting 80% into the training data. Set your random state with the seed `42` so your random split is the same as will be used by the autograder."
   ]
  },
  {
   "cell_type": "code",
   "execution_count": 9,
   "metadata": {},
   "outputs": [],
   "source": [
    "from sklearn.model_selection import train_test_split\n",
    "\n",
    "X_train, X_test, y_train, y_test = train_test_split(\n",
    "    X, y, test_size=0.2, train_size=0.8, random_state=42\n",
    ")"
   ]
  },
  {
   "cell_type": "markdown",
   "metadata": {},
   "source": [
    "## Training your Model"
   ]
  },
  {
   "cell_type": "markdown",
   "metadata": {},
   "source": [
    "Now it's time to train our model! \n",
    "\n",
    "`scikit-learn` is much loved because it has, like... every model ever already built in, and it provides a common interface (API) for all of them. Seriously—go check out all the supervised machine learning models that come [with scikit-learn here](https://scikit-learn.org/stable/supervised_learning.html#supervised-learning). \n",
    "\n",
    "Moreover, unlike many open-source projects, all of its models are really well documented, so you can read all about them. And [check out this nifty guide to choosing an appropriate model](https://scikit-learn.org/stable/tutorial/machine_learning_map/index.html).\n",
    "\n",
    "For this exercise, let's start by fitting a `LinearRegression` model. \n",
    "\n",
    "Wait, you say: isn't that what we did in `statsmodels`? Yes! \n",
    "\n",
    "Data Science is a very fragmented discipline, and some stuff gets recapitulated in slightly different ways in different places, so it's common to see different implementations of the same thing as you move from the world of statisticians (`statsmodels`) to the world of computer scientists (i.e. machine learning and `scikit-learn`). \n",
    "\n",
    "### Exercise 5\n",
    "\n",
    "Import the Linear Regression model and instantiate it with code like:\n",
    "\n",
    "```python \n",
    "from sklearn.linear_model import LinearRegression\n",
    "my_model = LinearRegression(fit_intercept=False)\n",
    "```\n",
    "\n",
    "The `fit_intercept=False` tells `scikit-learn` you don't want it to fit an intercept for your model *behind the scenes*. We use `False` because `patsy` included an intercept in our design matrix (a column of 1s), and we want to see the coefficient on that column in our coefficients."
   ]
  },
  {
   "cell_type": "code",
   "execution_count": 10,
   "metadata": {},
   "outputs": [],
   "source": [
    "from sklearn.linear_model import LinearRegression\n",
    "\n",
    "my_model = LinearRegression(fit_intercept=False)"
   ]
  },
  {
   "cell_type": "markdown",
   "metadata": {},
   "source": [
    "### Exercise 6\n",
    "\n",
    "Now fit your model against X and y and take a look at the coefficients.\n",
    "\n",
    "Machine learning, more than absolutely anything else, is concerned with *predicting* values, and that's evident in what functionality is exposed by this implementation of linear regressions. As you may recall, in `statsmodels`, you could type `.summary()` and get something that looked like this:\n",
    "\n",
    "![statsmodel_output](../images/statsmodel_output.png)\n",
    "\n",
    "A full printout of various diagnostics, all your coefficients, estimates of confidence intervals for each coefficient, etc. \n",
    "\n",
    "By contrast, `LinearRegression` from `sklearn` has no `summary` method. Indeed, the only output you really get for what the model has actually fit is `my_model.coef_`, which will look something like (not real values or number of coefficients you should get here):\n",
    "\n",
    "```python\n",
    "> my_model.fit(X_train, y_train)\n",
    "> my_model.coef_\n",
    "\n",
    "array([[ 7.89347789e+00, -12.3442359e+00,\n",
    "        -8.78152768e+00, 3.215196740e+00]])\n",
    "```\n",
    "\n",
    "Which I think we can all agree is not nearly as informative a print-out! \n",
    "\n",
    "To be clear, you can recover many of the diagnostics for LinearRegression by digging around in other corners of `sklearn`, but what is made available speaks to the prioritizes of different users: `sklearn` is for making predictions; `statsmodels` is for statistics and understanding mechanisms (i.e. seeing if the coefficient on smoking is significant). \n",
    "\n",
    "Store your model's coefficients for smoking in `ex6_model_smoking`. (Note how much trickier this is here than with `statsmodels`! sklearn doesn't think anyone would ever care about individual coefficients).\n",
    "\n",
    "**Note:** In `statsmodels`, the `.fit()` method returned a new fitted model. In `sklearn`, by contrast, `.fit` modifies (mutates) the model in place."
   ]
  },
  {
   "cell_type": "code",
   "execution_count": 11,
   "metadata": {},
   "outputs": [
    {
     "data": {
      "text/plain": [
       "array([[ 4.35089054e+01,  4.21730099e+00, -9.33373203e+00,\n",
       "        -5.71536867e+00, -9.19056294e+00, -1.73718147e-04,\n",
       "         1.22252130e-01,  1.02349443e+00]])"
      ]
     },
     "execution_count": 11,
     "metadata": {},
     "output_type": "execute_result"
    }
   ],
   "source": [
    "my_model.fit(X_train, y_train)\n",
    "my_model.coef_"
   ]
  },
  {
   "cell_type": "code",
   "execution_count": 12,
   "metadata": {},
   "outputs": [
    {
     "data": {
      "text/plain": [
       "DesignMatrix with shape (869, 8)\n",
       "  Columns:\n",
       "    ['Intercept',\n",
       "     'C(race_recoded)[T.1]',\n",
       "     'C(race_recoded)[T.2]',\n",
       "     'C(race_recoded)[T.3]',\n",
       "     'smoke',\n",
       "     'mage',\n",
       "     'mpregwt',\n",
       "     'mht']\n",
       "  Terms:\n",
       "    'Intercept' (column 0)\n",
       "    'C(race_recoded)' (columns 1:4)\n",
       "    'smoke' (column 4)\n",
       "    'mage' (column 5)\n",
       "    'mpregwt' (column 6)\n",
       "    'mht' (column 7)\n",
       "  (to view full data, use np.asarray(this_obj))"
      ]
     },
     "execution_count": 12,
     "metadata": {},
     "output_type": "execute_result"
    }
   ],
   "source": [
    "# Get columns back\n",
    "X"
   ]
  },
  {
   "cell_type": "code",
   "execution_count": 13,
   "metadata": {},
   "outputs": [
    {
     "data": {
      "text/plain": [
       "-9.19056294422975"
      ]
     },
     "execution_count": 13,
     "metadata": {},
     "output_type": "execute_result"
    }
   ],
   "source": [
    "results[\"ex6_model_smoking\"] = my_model.coef_[0, 4]\n",
    "results[\"ex6_model_smoking\"]"
   ]
  },
  {
   "cell_type": "markdown",
   "metadata": {},
   "source": [
    "### Exercise 7 \n",
    "\n",
    "OK, but we're in the world of sklearn, so let's do some prediction! Now that you've fit your model, use the `predict` method your data to create a set of predictions. Store the first (index 0) predicted birthweight in `ex7_first_prediction`."
   ]
  },
  {
   "cell_type": "code",
   "execution_count": 14,
   "metadata": {},
   "outputs": [],
   "source": [
    "predictions = my_model.predict(X_test)"
   ]
  },
  {
   "cell_type": "code",
   "execution_count": 15,
   "metadata": {},
   "outputs": [
    {
     "data": {
      "text/plain": [
       "(174, 1)"
      ]
     },
     "execution_count": 15,
     "metadata": {},
     "output_type": "execute_result"
    }
   ],
   "source": [
    "predictions.shape"
   ]
  },
  {
   "cell_type": "code",
   "execution_count": 16,
   "metadata": {},
   "outputs": [
    {
     "data": {
      "text/plain": [
       "118.77419618919215"
      ]
     },
     "execution_count": 16,
     "metadata": {},
     "output_type": "execute_result"
    }
   ],
   "source": [
    "results[\"ex7_first_prediction\"] = predictions[0][0]\n",
    "results[\"ex7_first_prediction\"]"
   ]
  },
  {
   "cell_type": "markdown",
   "metadata": {},
   "source": [
    "## Evaluating your Model\n",
    "\n",
    "So we now have a trained model that we can use to predict birthweights. Yay! But is it any good? \n",
    "\n",
    "All `sklearn` models have a method called `score` you can used to get the most basic evaluation of your model. The syntax is just:\n",
    "\n",
    "```python\n",
    "my_model.score(X_test, y_test)\n",
    "```\n",
    "\n",
    "If you're doing a classification model (something that tries to guess the category for each observation, like a model that evalutes a set of pictures and tries to figure out if the pictures are of cats, dogs, or humans), `score` will return an \"accuracy\" score (the percentage of observations you properly classified). For a regression model (trying to guess a continuous variable) it will give an R-squared score. \n",
    "\n",
    "As you get more sophisticated, you will discover these basic scores are often inadequate for evaluating models, and you can turn to other evaluation functions found in [sklearn.metrics](https://scikit-learn.org/stable/modules/model_evaluation.html#scoring-parameter). But for now we'll just use the default `score` output of R-squared. \n",
    "\n",
    "### Exercise 8\n",
    "\n",
    "What is the score of your model? Store the result as `ex8_score`"
   ]
  },
  {
   "cell_type": "code",
   "execution_count": 17,
   "metadata": {},
   "outputs": [
    {
     "name": "stdout",
     "output_type": "stream",
     "text": [
      "The score is: 0.0743\n"
     ]
    }
   ],
   "source": [
    "print(f\"The score is: {my_model.score(X_test, y_test):,.4f}\")"
   ]
  },
  {
   "cell_type": "code",
   "execution_count": 18,
   "metadata": {},
   "outputs": [],
   "source": [
    "results[\"ex8_score\"] = my_model.score(X_test, y_test)"
   ]
  },
  {
   "cell_type": "markdown",
   "metadata": {},
   "source": [
    "## Machine Learning Workflow Summary\n",
    "\n",
    "Congratulations! You just did you just fit your machine learning algorithm! And you also learned that sometimes what constitutes \"machine learning\" is in the eye of the beholder, given what you did today is the same thing you did in our last class without calling it machine learning. :)\n",
    "\n",
    "But hopefully that's given you a general sense for the work-flow of scikit-learn:\n",
    "\n",
    "1. Prep your data:\n",
    "\n",
    "```python\n",
    "import patsy\n",
    "\n",
    "y, X = patsy.dmatrices(\n",
    "    \"bwt_oz ~ C(race_recoded) + smoke + mage + mpregwt + mht\", smoking_and_bw\n",
    ")\n",
    "```\n",
    "\n",
    "2. Split your data:\n",
    "\n",
    "```python \n",
    "from sklearn.model_selection import train_test_split\n",
    "\n",
    "X_train, X_test, Y_train, Y_test = train_test_split(\n",
    "    X, y, test_size=0.2, train_size=0.8, random_state=42\n",
    ")\n",
    "```\n",
    "\n",
    "3. Import and fit a model:\n",
    "\n",
    "```python\n",
    "from sklearn.linear_model import LinearRegression\n",
    "\n",
    "my_model = LinearRegression()\n",
    "my_model.fit(X_train, y_train)\n",
    "```\n",
    "\n",
    "4. Evaluate your model:\n",
    "\n",
    "```python\n",
    "my_model.score(X_test, y_test)\n",
    "```\n",
    "\n",
    "5. Use youre model to make predictions:\n",
    "\n",
    "```python\n",
    "my_predictions = my_model.predict(X_test)\n",
    "```"
   ]
  },
  {
   "cell_type": "code",
   "execution_count": 19,
   "metadata": {},
   "outputs": [
    {
     "name": "stderr",
     "output_type": "stream",
     "text": [
      "/Users/nce8/opt/miniconda3/lib/python3.11/site-packages/patsy/util.py:672: FutureWarning: is_categorical_dtype is deprecated and will be removed in a future version. Use isinstance(dtype, CategoricalDtype) instead\n",
      "  return _pandas_is_categorical_dtype(dt)\n",
      "/Users/nce8/opt/miniconda3/lib/python3.11/site-packages/patsy/util.py:672: FutureWarning: is_categorical_dtype is deprecated and will be removed in a future version. Use isinstance(dtype, CategoricalDtype) instead\n",
      "  return _pandas_is_categorical_dtype(dt)\n",
      "/Users/nce8/opt/miniconda3/lib/python3.11/site-packages/patsy/util.py:672: FutureWarning: is_categorical_dtype is deprecated and will be removed in a future version. Use isinstance(dtype, CategoricalDtype) instead\n",
      "  return _pandas_is_categorical_dtype(dt)\n",
      "/Users/nce8/opt/miniconda3/lib/python3.11/site-packages/patsy/util.py:672: FutureWarning: is_categorical_dtype is deprecated and will be removed in a future version. Use isinstance(dtype, CategoricalDtype) instead\n",
      "  return _pandas_is_categorical_dtype(dt)\n",
      "/Users/nce8/opt/miniconda3/lib/python3.11/site-packages/patsy/util.py:672: FutureWarning: is_categorical_dtype is deprecated and will be removed in a future version. Use isinstance(dtype, CategoricalDtype) instead\n",
      "  return _pandas_is_categorical_dtype(dt)\n",
      "/Users/nce8/opt/miniconda3/lib/python3.11/site-packages/patsy/util.py:672: FutureWarning: is_categorical_dtype is deprecated and will be removed in a future version. Use isinstance(dtype, CategoricalDtype) instead\n",
      "  return _pandas_is_categorical_dtype(dt)\n"
     ]
    }
   ],
   "source": [
    "import patsy\n",
    "\n",
    "y, X = patsy.dmatrices(\n",
    "    \"bwt_oz ~ C(race_recoded) + smoke + mage + mpregwt + mht\", smoking_and_bw\n",
    ")\n",
    "my_model.score(X_test, y_test)\n",
    "my_predictions = my_model.predict(X_test)"
   ]
  },
  {
   "cell_type": "markdown",
   "metadata": {},
   "source": [
    "\n",
    "## Comparing Models\n",
    "\n",
    "Now that we have a baseline estimate for the performance of `LinearRegression` for this set of features and outputs, let's try a different model and see how it compares! \n",
    "\n",
    "### Exercise 9\n",
    "\n",
    "Now repeat your analysis using a Support Vector Regression (`from sklearn.svm import SVR`). \n",
    "\n",
    "How does the model perform? Is it better or worse than LinearRegression?  \n",
    "\n",
    "\n",
    "**Note:** You'll probably get a `DataConversionWarning: A column-vector y was passed when a 1d array was expected`. This is [related to this common gotcha](https://www.practicaldatascience.org/html/41_broadcasting.html#A-Common-Gotcha:-Narrow-Matrices-v.-1-Dimensional-Vectors). Make sure you understand the problem / are able to resolve the warning. \n",
    "\n",
    "Why didn't you get this with `LinearRegression`? That I can't say! They must each be implemented slightly differently beneath the hood.\n",
    "\n",
    "**ROUND** your value of the score of this fit model result to *2* decimal places and store as `\"ex9_SVR_score\"`. (SVR is not deterministic, and it doesn't seem to respect our random seeds, so values beyond this may differ a little across computers.)\n"
   ]
  },
  {
   "cell_type": "code",
   "execution_count": 20,
   "metadata": {},
   "outputs": [
    {
     "name": "stdout",
     "output_type": "stream",
     "text": [
      "The score is: 0.0164\n"
     ]
    }
   ],
   "source": [
    "from sklearn.svm import SVR\n",
    "\n",
    "my_svr_model = SVR()\n",
    "my_svr_model.fit(\n",
    "    X_train, y_train[:, 0]\n",
    ")  # Otherwise get annoying warning, but doesn't actually matter.\n",
    "print(f\"The score is: {my_svr_model.score(X_test, y_test):,.4f}\")"
   ]
  },
  {
   "cell_type": "code",
   "execution_count": 21,
   "metadata": {},
   "outputs": [
    {
     "data": {
      "text/plain": [
       "0.02"
      ]
     },
     "execution_count": 21,
     "metadata": {},
     "output_type": "execute_result"
    }
   ],
   "source": [
    "results[\"ex9_SVR_score\"] = np.round(my_svr_model.score(X_test, y_test), 2)\n",
    "results[\"ex9_SVR_score\"]"
   ]
  },
  {
   "cell_type": "markdown",
   "metadata": {},
   "source": [
    "**(10)** One choice parameter for SVRs is the kernel it uses for weighting (again, this isn't a class on machine learning, so don't worry too much about what this means—just know that it's a parameter of the model). Check the SVR documentation to figure out how to set the kernel to `linear` and see how it performs now.\n",
    "\n",
    "**ROUND** your value of the score of the SVR with linear kernel to *2* decimal places and store as `\"ex10_SVR_linear_score\"` Why? Some kind of numerical instability that random number generators can't seem to help with, sorry!"
   ]
  },
  {
   "cell_type": "code",
   "execution_count": 22,
   "metadata": {},
   "outputs": [
    {
     "name": "stdout",
     "output_type": "stream",
     "text": [
      "The score is: 0.0752\n"
     ]
    }
   ],
   "source": [
    "from sklearn.svm import SVR\n",
    "\n",
    "my_linear_svr_model = SVR(kernel=\"linear\")\n",
    "my_linear_svr_model.fit(\n",
    "    X_train, y_train[:, 0]\n",
    ")  # Otherwise get annoying warning, but doesn't actually matter.\n",
    "print(f\"The score is: {my_linear_svr_model.score(X_test, y_test):,.4f}\")"
   ]
  },
  {
   "cell_type": "code",
   "execution_count": 23,
   "metadata": {},
   "outputs": [
    {
     "data": {
      "text/plain": [
       "0.08"
      ]
     },
     "execution_count": 23,
     "metadata": {},
     "output_type": "execute_result"
    }
   ],
   "source": [
    "results[\"ex10_SVR_linear_score\"] = np.round(\n",
    "    my_linear_svr_model.score(X_test, y_test), 2\n",
    ")\n",
    "results[\"ex10_SVR_linear_score\"]"
   ]
  },
  {
   "cell_type": "markdown",
   "metadata": {},
   "source": [
    "**(11)** Now pick whatever regression model you'd like and see how it performs ([some suggestions](https://scikit-learn.org/stable/tutorial/machine_learning_map/index.html)). Play with your model specifications and see how well you can do with your new model of one of the ones we used above. "
   ]
  },
  {
   "cell_type": "code",
   "execution_count": 24,
   "metadata": {},
   "outputs": [
    {
     "data": {
      "text/plain": [
       "0.07467030490122828"
      ]
     },
     "execution_count": 24,
     "metadata": {},
     "output_type": "execute_result"
    }
   ],
   "source": [
    "from sklearn.linear_model import Ridge\n",
    "\n",
    "my_ridge_model = Ridge()\n",
    "my_ridge_model.fit(X_train, y_train)\n",
    "my_ridge_model.score(X_test, y_test)"
   ]
  },
  {
   "cell_type": "markdown",
   "metadata": {},
   "source": [
    "## Want More Practice?\n",
    "\n",
    "Try replicating our attempts to predict whether infants would be born premature from the [statsmodels exercises](Exercise_statsmodels.ipynb) in scikit-learn. Start with a LogisticRegression, then try some different \"classification models\" for comparison!"
   ]
  },
  {
   "cell_type": "code",
   "execution_count": 25,
   "metadata": {},
   "outputs": [
    {
     "data": {
      "text/plain": [
       "{'ex10_SVR_linear_score',\n",
       " 'ex3_num_columns',\n",
       " 'ex6_model_smoking',\n",
       " 'ex7_first_prediction',\n",
       " 'ex8_score',\n",
       " 'ex9_SVR_score'}"
      ]
     },
     "execution_count": 25,
     "metadata": {},
     "output_type": "execute_result"
    }
   ],
   "source": [
    "set(results.keys())"
   ]
  },
  {
   "cell_type": "code",
   "execution_count": 26,
   "metadata": {},
   "outputs": [],
   "source": [
    "assert set(results.keys()) == {\n",
    "    \"ex3_num_columns\",\n",
    "    \"ex6_model_smoking\",\n",
    "    \"ex7_first_prediction\",\n",
    "    \"ex8_score\",\n",
    "    \"ex9_SVR_score\",\n",
    "    \"ex10_SVR_linear_score\",\n",
    "}"
   ]
  }
 ],
 "metadata": {
  "kernelspec": {
   "display_name": "Python 3",
   "language": "python",
   "name": "python3"
  },
  "language_info": {
   "codemirror_mode": {
    "name": "ipython",
    "version": 3
   },
   "file_extension": ".py",
   "mimetype": "text/x-python",
   "name": "python",
   "nbconvert_exporter": "python",
   "pygments_lexer": "ipython3",
   "version": "3.12.5"
  }
 },
 "nbformat": 4,
 "nbformat_minor": 4
}
