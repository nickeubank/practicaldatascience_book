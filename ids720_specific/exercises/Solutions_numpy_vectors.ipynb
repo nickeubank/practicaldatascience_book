{
    "cells": [
        {
            "cell_type": "markdown",
            "metadata": {},
            "source": [
                "# Measuring Income Inequality\n"
            ]
        },
        {
            "cell_type": "markdown",
            "metadata": {},
            "source": [
                "\n",
                "In these exercises, we will load and work with a vector that contains estimates of the total income (from all sources) of a random sample of American households collected by the U.S. Census Bureau in 2019 as part of the American Community Survey (ACS).\n",
                "\n",
                "In particular, we are going to use this data to measure household income inequality in the United States, then analyze how that income inequality might change under a range of different tax policies.\n",
                "\n",
                "(Apologies to people who are not from the United States—the United States had some of the cleanest and the easiest household data to work with in the world, and our modal student (after we remove students from countries that don't have similar data) is American, to so picking the United States seemed like the least bad option. \n",
                "\n",
                "However, if you are interested in completing these same exercises for your own country, head over to [IPUMS International](https://international.ipums.org/international/) to see if analogous income data has been made available by your country's Census Bureau. Simply click on the \"Browse Data\" button, then \"Select Sample\" in the top left to find the most recent data available for your country. Then see if you can find income data under the \"Select Harmonized Variables\" \"PERSON\" or \"HOUSEHOLD\" drop-down menus. Note that income data is hard to collect, so it's probably not available for most countries.)"
            ]
        },
        {
            "cell_type": "markdown",
            "metadata": {},
            "source": [
                "## Exercise 0\n",
                "\n",
                "Welcome to your first autograded exercise!\n",
                "\n",
                "Please **begin by reading the** [course autograder guidelines](https://www.practicaldatascience.org/html/ids720_specific/autograder_guidelines.html). Read them *carefully* please!\n",
                "\n",
                "Then please also read the guidelines for [writing good notebooks.](https://practicaldatascience.org/html/notebooks/PDS_not_yet_in_coursera/20_programming_concepts/writing_good_jupyter_notebooks.html)\n",
                "\n",
                "For this assignment, please name your file `exercise_numpy_vectors.ipynb` before uploading.\n",
                "\n",
                "You can check that you have answers for all questions in your `results` dictionary with this code:\n",
                "\n",
                "```python\n",
                "assert set(results.keys()) == {\n",
                "    \"ex4_share_below_poverty\",\n",
                "    \"ex4_gini\",\n",
                "    \"ex6_gini_policy_a\",\n",
                "    \"ex6_gini_policy_b\",\n",
                "    \"ex6_gini_which_reduced_more\",\n",
                "    \"ex7_gini_policy_c\",\n",
                "    \"ex8_revenue_raised\",\n",
                "    \"ex9_transfers\",\n",
                "    \"ex10_gini_policy_d\",\n",
                "    \"ex11_gini_policy_e\",\n",
                "    \"ex12_policy_recommendation\",\n",
                "}\n",
                "```\n",
                "\n",
                "### Submission Limits\n",
                "\n",
                "Please remember that you are **only allowed three submissions to the autograder.** Your last submission (if you submit 3 or fewer times), or your third submission (if you submit more than 3 times) will determine your grade Submissions that error out due to problems like the file not having the right name will **not** count against this total.\n"
            ]
        },
        {
            "cell_type": "markdown",
            "metadata": {},
            "source": [
                "## Exercise 1\n",
                "\n",
                "Using `np.loadtxt()`, load the vector of household incomes located at [https://raw.githubusercontent.com/nickeubank/practicaldatascience/master/Example_Data/us_household_incomes.txt](https://raw.githubusercontent.com/nickeubank/practicaldatascience/master/Example_Data/us_household_incomes.txt). Please load the data by passing that URL directly into `np.loadtxt()` as a string—the autograder we're using needs to be able to run your code remotely, which it can't do if it references a file on your hard drive.\n",
                "\n"
            ]
        },
        {
            "cell_type": "code",
            "execution_count": 1,
            "metadata": {},
            "outputs": [],
            "source": [
                "import numpy as np\n",
                "\n",
                "incomes = np.loadtxt(\n",
                "    \"https://raw.githubusercontent.com/nickeubank/\"\n",
                "    \"practicaldatascience/master/Example_Data\"\n",
                "    \"/us_household_incomes.txt\"\n",
                ")"
            ]
        },
        {
            "cell_type": "markdown",
            "metadata": {},
            "source": [
                "## Exercise 2\n",
                "\n",
                "One of the best ways we have for getting a feel for our data is to plot our data. We will talk much more extensively about plotting in upcoming lessons, but for the moment it's sufficient to know that you can plot a histogram of a numpy vector with:\n",
                "\n",
                "```python\n",
                "from matplotlib import pyplot as plt\n",
                "plt.hist(your_array)\n",
                "```\n",
                "\n",
                "Use this `plt.hist()` method to plot your income data. Does it look like a normal distribution? Uniform? Does this make you think that in common equality is relatively high or low in the United States?\n",
                "\n",
                "**Note:** The x-axis' will range will be determined by the data, with the x-axis being made long enough to include ALL data (but no longer). As a result, there *are* observations across the x-axis, even if there are too few for the bar to be visible.\n",
                "\n",
                "**Note:** Be aware that this data only measures *income*—e.g., wages, salaries, etc. As a result, it actually massively underestimates incomes at the top of the United States income distribution because most of the income for high earners comes in the form of capital gains and investment appreciation which are not included here.\n"
            ]
        },
        {
            "cell_type": "code",
            "execution_count": 2,
            "metadata": {},
            "outputs": [
                {
                    "data": {
                        "text/plain": [
                            "(array([8.77542e+05, 4.35030e+04, 1.01710e+04, 1.92100e+03, 3.98000e+02,\n",
                            "        1.17000e+02, 2.90000e+01, 8.00000e+00, 4.00000e+00, 2.00000e+00]),\n",
                            " array([ -16942. ,  225842.5,  468627. ,  711411.5,  954196. , 1196980.5,\n",
                            "        1439765. , 1682549.5, 1925334. , 2168118.5, 2410903. ]),\n",
                            " <BarContainer object of 10 artists>)"
                        ]
                    },
                    "execution_count": 2,
                    "metadata": {},
                    "output_type": "execute_result"
                },
                {
                    "data": {
                        "image/png": "[encoded data removed]",
                        "text/plain": [
                            "<Figure size 640x480 with 1 Axes>"
                        ]
                    },
                    "metadata": {},
                    "output_type": "display_data"
                }
            ],
            "source": [
                "from matplotlib import pyplot as plt\n",
                "\n",
                "plt.hist(incomes)"
            ]
        },
        {
            "cell_type": "markdown",
            "metadata": {},
            "source": [
                "## Exercise 3\n",
                "\n",
                "You will likely notice that much of the plot is difficult to see because most of the plot is taken up by very high earners. \n",
                "\n",
                "Since the x-axis of our plot is determined by the range of our data, we can create a histogram of US household incomes that includes only households making less than $500,000 to improve our ability to visualize what's going on at lower incomes. For these households—the non-millionaires—do we see a more uniform distribution of incomes? Or is there still a significant [right-skew / positive-skew](https://en.wikipedia.org/wiki/Skewness) (most people are on the left of the distribution, but there are more extreme values in the right tail) in the income distribution?\n",
                "\n",
                "In other words, is the skewness in the US income distribution driven by extreme high earners, or is it evident at all income levels?\n",
                "\n",
                "(Obviously the autograder will not be able to evaluate your answer to this question, but the TAs will)."
            ]
        },
        {
            "cell_type": "code",
            "execution_count": 3,
            "metadata": {},
            "outputs": [
                {
                    "data": {
                        "text/plain": [
                            "(array([262190., 338722., 173615.,  76580.,  33854.,  16134.,   8329.,\n",
                            "          5401.,   4556.,   4038.]),\n",
                            " array([-16942.,  34752.,  86446., 138140., 189834., 241528., 293222.,\n",
                            "        344916., 396610., 448304., 499998.]),\n",
                            " <BarContainer object of 10 artists>)"
                        ]
                    },
                    "execution_count": 3,
                    "metadata": {},
                    "output_type": "execute_result"
                },
                {
                    "data": {
                        "image/png": "[encoded data removed]",
                        "text/plain": [
                            "<Figure size 640x480 with 1 Axes>"
                        ]
                    },
                    "metadata": {},
                    "output_type": "display_data"
                }
            ],
            "source": [
                "plt.hist(incomes[incomes < 500_000])"
            ]
        },
        {
            "cell_type": "code",
            "execution_count": 4,
            "metadata": {},
            "outputs": [
                {
                    "data": {
                        "text/plain": [
                            "(array([ 28779., 164499., 173795., 143583., 111923.,  85298.,  59470.,\n",
                            "         42296.,  29866.,  20199.]),\n",
                            " array([-16942. ,   4751.3,  26444.6,  48137.9,  69831.2,  91524.5,\n",
                            "        113217.8, 134911.1, 156604.4, 178297.7, 199991. ]),\n",
                            " <BarContainer object of 10 artists>)"
                        ]
                    },
                    "execution_count": 4,
                    "metadata": {},
                    "output_type": "execute_result"
                },
                {
                    "data": {
                        "image/png": "[encoded data removed]",
                        "text/plain": [
                            "<Figure size 640x480 with 1 Axes>"
                        ]
                    },
                    "metadata": {},
                    "output_type": "display_data"
                }
            ],
            "source": [
                "plt.hist(incomes[incomes < 200_000])"
            ]
        },
        {
            "cell_type": "markdown",
            "metadata": {},
            "source": [
                "> The skewness appears to be persistent throughout most of the income distribution, not just at extreme values."
            ]
        },
        {
            "cell_type": "markdown",
            "metadata": {},
            "source": [
                "## Gini Index\n",
                "\n",
                "A standard measure of inequality is the [Gini Index / Gini Coefficient](https://en.wikipedia.org/wiki/Gini_coefficient). The measure takes on a value of 0 when everyone in a population has the same allocation of some resource or property, and a value of 1 when all the resource in population accrues to a single person. It is commonly used to measure income and wealth inequality, although it is also worth noting that it has been used in many other contexts, [including neuroscience.](https://neuroplausible.com/gini) \n",
                "\n",
                "For discrete data, the definition of the Gini Index is given below:\n",
                "\n",
                "$$Gini\\ Index = \\frac{2 \\sum_{i=1}^n i y_i}{n \\sum_{i=1}^n y_i} -\\frac{n+1}{n}$$\n",
                "\n",
                "Where $i$ is each observations' rank ordering from those with the fewest resources to those with the most, and $y_i$ is the resources of observation $i$. \n",
                "\n",
                "In an upcoming exercise, you will be asked to code this up yourself in a few different ways, but as that is not the focus of *this* exercise, you can just use the `gini()` function from the `ineqpy` package. You can install it with `pip install ineqpy` (it's a little too small of a package to appear in the conda repositories) and import with `from ineqpy.inequality import gini`.\n",
                "\n",
                "NOTE: You may get an error saying that you have numpy 2.1 installed, but that ineqpy only works with numpy <= 2.0. To change your numpy install to a specific older version, just run `conda install numpy=2.0` (where the number after `=` is the version you want). Run that to load numpy 2.0 in place of 2.1 so ineqpy will work!"
            ]
        },
        {
            "cell_type": "markdown",
            "metadata": {},
            "source": [
                "## Exercise 4\n",
                "\n",
                "The US poverty line is *about* 20,000 dollars a year. What share of households in these data fall below the US poverty line? (By \"share\" I mean the proportion, a value between 0 and 1).\n",
                "\n",
                "(I say \"about\" because the actual poverty line for household income depends on the number of people in the household, which we have not included in these data.)\n",
                "\n",
                "Using the `gini` function above, calculate the Gini Index of income inequality in the US. What is that value?\n",
                "\n",
                "Store your share of households under 20,000 as `ex4_share_below_poverty`, store the gini score as `ex4_gini`.\n"
            ]
        },
        {
            "cell_type": "code",
            "execution_count": 5,
            "metadata": {},
            "outputs": [
                {
                    "name": "stdout",
                    "output_type": "stream",
                    "text": [
                        "The share of households below the poverty line is about 0.147\n",
                        "The US Gini is 0.4811\n"
                    ]
                }
            ],
            "source": [
                "results = dict()\n",
                "results[\"ex4_share_below_poverty\"] = np.mean(incomes < 20_000)\n",
                "\n",
                "from ineqpy.inequality import gini\n",
                "\n",
                "results[\"ex4_gini\"] = gini(incomes)\n",
                "\n",
                "print(\n",
                "    \"The share of households below the poverty \"\n",
                "    f\"line is about {results['ex4_share_below_poverty']:.3}\"\n",
                ")\n",
                "print(f\"The US Gini is {results['ex4_gini']:.4}\")"
            ]
        },
        {
            "cell_type": "markdown",
            "metadata": {},
            "source": [
                "## Exercise 5\n",
                "\n",
                "Go compare your estimate to that of [other countries here.](https://www.indexmundi.com/facts/indicators/SI.POV.GINI/rankings) (Note: in this table, estimated Gini values have been multiplied 100. In addition, as a result of sampling variation, income binning, differences in the exact methods used to calculate income, year of data, availability of data on top incomes, etc., your Gini for the US will be somewhat different from the Gini for the US in this table. It *should* be close to the data from the [US Census Bureau](https://www.statista.com/statistics/219643/gini-coefficient-for-us-individuals-families-and-households/)). How does the US compare to other countries? Is that what you expected? \n",
                "   - **Note:** The Gini Index of income is only one metric of inequality! Results would be very different if we were to calculate, for example, the ratio of the income of the top 0.1% of earners to the income of the lowest-earning 10% of the population, or if we calculated this metric using wealth instead of income!\n"
            ]
        },
        {
            "cell_type": "markdown",
            "metadata": {},
            "source": [
                "> Well, the US isn't the worst, but that's a pretty awful score for one of the richest countries in the world, especially as this data under-estimates incomes at the extreme high end of the distribution. "
            ]
        },
        {
            "cell_type": "markdown",
            "metadata": {},
            "source": [
                "\n",
                "## Exercise 6\n",
                "\n",
                "Congratulations! You have been hired by the President of the United States to advise them on their efforts to reduce income inequality. The first set of policies that the president has asked you to evaluate is whether income inequality would be decreased more under:\n",
                "\n",
                "- `Policy A`: giving every household that makes less than 40,000 dollars a check for 5,000 dollars, or \n",
                "- `Policy B`: giving every household that makes less than 30,000 dollars a check for 7,000 dollars. \n",
                "\n",
                "What is the new Gini under Policy A?  Store in the `results` dict under the key `\"ex6_gini_policy_a\"`.\n",
                "What is the new Gini under Policy B?  Store in the `results` dict under the key `\"ex6_gini_policy_b\"`.\n",
                "\n",
                "Which has lowered inequality more? Store your answer as the string `\"Policy A\"` or `\"Policy B\"` in the `results` dict under the key `\"ex6_gini_which_reduced_more`.\n",
                "\n",
                "**Note:** Vectors are mutable (like lists), so you should create a clean copy of your income data with the `.copy()` method (e.g. `experiment1 = income_vector.copy()`) before starting to make changes during each exercise. We'll talk a lot more about vector mutability in a future reading, but so long as you use `.copy()` you will be fine here! \n",
                "\n",
                "**Note:** Gini values won't change a lot due to these kinds of changes, so you'll need to look to three or four decimal places."
            ]
        },
        {
            "cell_type": "code",
            "execution_count": 6,
            "metadata": {},
            "outputs": [
                {
                    "name": "stdout",
                    "output_type": "stream",
                    "text": [
                        "Policy A Gini is 0.4602\n",
                        "Policy B Gini is 0.4583\n",
                        "Policy B reduced inequality more\n"
                    ]
                }
            ],
            "source": [
                "policy_A = incomes.copy()\n",
                "CUTOFF_A = 40_000\n",
                "CREDIT_A = 5_000\n",
                "policy_A[policy_A < CUTOFF_A] = policy_A[policy_A < CUTOFF_A] + CREDIT_A\n",
                "results[\"ex6_gini_policy_a\"] = gini(policy_A)\n",
                "\n",
                "\n",
                "policy_B = incomes.copy()\n",
                "CUTOFF_B = 30_000\n",
                "CREDIT_B = 7_000\n",
                "policy_B[policy_B < CUTOFF_B] = policy_B[policy_B < CUTOFF_B] + CREDIT_B\n",
                "results[\"ex6_gini_policy_b\"] = gini(policy_B)\n",
                "\n",
                "print(f\"Policy A Gini is {results['ex6_gini_policy_a']:.4}\")\n",
                "print(f\"Policy B Gini is {results['ex6_gini_policy_b']:.4}\")\n",
                "print(f\"Policy B reduced inequality more\")\n",
                "\n",
                "results[\"ex6_gini_which_reduced_more\"] = \"Policy B\""
            ]
        },
        {
            "cell_type": "markdown",
            "metadata": {},
            "source": [
                "## Exercise 7"
            ]
        },
        {
            "cell_type": "markdown",
            "metadata": {},
            "source": [
                "Now the president would like to know whether income inequality can be reduced more the policy you decided was preferable above, *or* through `Policy C`: applying a tax of 5% to households making more than 250,000 dollars and using the money to pay down the National Debt. \n",
                "\n",
                "(In other words, `Policy C` would reduce the income of any households earning more than 250,000 dollars by 5%.)\n",
                "\n",
                "Calculate the Gini Index resulting from the President's tax proposal? Store in the `results` dict under the key `\"ex7_gini_policy_c\"`."
            ]
        },
        {
            "cell_type": "code",
            "execution_count": 7,
            "metadata": {},
            "outputs": [],
            "source": [
                "policy_C = incomes.copy()\n",
                "TAX_CUTOFF_C = 250_000\n",
                "TAX_C = 0.05\n",
                "policy_C[TAX_CUTOFF_C < policy_C] = policy_C[TAX_CUTOFF_C < policy_C] * (1 - TAX_C)\n",
                "results[\"ex7_gini_policy_c\"] = gini(policy_C)"
            ]
        },
        {
            "cell_type": "code",
            "execution_count": 8,
            "metadata": {},
            "outputs": [
                {
                    "name": "stdout",
                    "output_type": "stream",
                    "text": [
                        "Policy B Gini is 0.4756\n"
                    ]
                }
            ],
            "source": [
                "print(f\"Policy B Gini is {results['ex7_gini_policy_c']:.4}\")"
            ]
        },
        {
            "cell_type": "markdown",
            "metadata": {},
            "source": [
                "## Exercise 8\n",
                "\n",
                "Now suppose we were thinking about applying a 5% tax to people making more than 250,000 dollars and *evenly distributed that tax revenue* to households earning less than 30,000 dollars. Call this `Policy D`. \n",
                "\n",
                "To estimate the effective such a policy on inequality, first calculate the total amount of money that would be generated by this tax if the households in this data were all households in the US.  Store in the `results` dict under the key `\"ex8_revenue_raised\"`.\n",
                "  \n",
                "**Note:** because these data are just a *sample* of households in the US, the quantity you calculate isn't the actual revenue such a tax would generate in the real world; if you want to calculate the real amount that would be raised, you can multiply the quantity you calculate by 137 (our data include about 1 out of every 137 households in the US)."
            ]
        },
        {
            "cell_type": "code",
            "execution_count": 9,
            "metadata": {},
            "outputs": [
                {
                    "name": "stdout",
                    "output_type": "stream",
                    "text": [
                        "Policy D would raise $929,623,340.85\n"
                    ]
                }
            ],
            "source": [
                "policy_D = incomes.copy()\n",
                "TAX_CUTOFF_D = 250_000\n",
                "TAX_D = 0.05\n",
                "\n",
                "# Calculate transfers\n",
                "results[\"ex8_revenue_raised\"] = np.sum(TAX_D * policy_D[TAX_CUTOFF_D < policy_D])\n",
                "print(f\"Policy D would raise ${results['ex8_revenue_raised']:,.2f}\")"
            ]
        },
        {
            "cell_type": "markdown",
            "metadata": {},
            "source": [
                "## Exercise 9\n",
                "\n",
                "Now calculate the total number of households earning less than 30,000 dollars in these data, and divide the revenue generated by the tax by the number of households earning less than 30,000 dollars. This is the amount of transfer these household would receive. Store in your `results` dict with the key `\"ex9_transfers\"`.\n",
                "\n",
                "**Note:** unlike in Question 8, the quantity you estimate here *is* a good estimate of the amount of money that would be available for each household if we imposed this tax on the real world. Why? Because both the quantity you estimated in Question 8 *and* the number of households you calculate here represent 1/137th the actual, real world quantities in the United States. So when you divide one by the other, you get the true ratio -- the fact that both are 1/137th the real quality cancels out!"
            ]
        },
        {
            "cell_type": "code",
            "execution_count": 10,
            "metadata": {},
            "outputs": [
                {
                    "name": "stdout",
                    "output_type": "stream",
                    "text": [
                        "Each household would get about $4,208.23\n"
                    ]
                }
            ],
            "source": [
                "CREDIT_CUTOFF_D = 30_000\n",
                "num_hh_under_30k = np.sum(policy_D < CREDIT_CUTOFF_D)\n",
                "results[\"ex9_transfers\"] = results[\"ex8_revenue_raised\"] / num_hh_under_30k\n",
                "print(f\"Each household would get about ${results['ex9_transfers']:,.2f}\")"
            ]
        },
        {
            "cell_type": "markdown",
            "metadata": {},
            "source": [
                "## Exercise 10\n",
                "\n",
                "Finally, update the incomes in our data *as if* we had enacted this policy -- reduce the incomes of households earning more than 250,000 dollars by 5% and increase the incomes of households earning less than 30,000 dollars by the quantity you estimated in Question 8. \n",
                "\n",
                "What is the resulting Gini Index of `Policy D`? Store as `ex10_gini_policy_d`.\n"
            ]
        },
        {
            "cell_type": "code",
            "execution_count": 11,
            "metadata": {},
            "outputs": [
                {
                    "name": "stdout",
                    "output_type": "stream",
                    "text": [
                        "The gini from Policy D would be 0.4617\n"
                    ]
                }
            ],
            "source": [
                "policy_D[policy_D < CREDIT_CUTOFF_D] = (\n",
                "    policy_D[policy_D < CREDIT_CUTOFF_D] + results[\"ex9_transfers\"]\n",
                ")\n",
                "policy_D[TAX_CUTOFF_D < policy_D] = policy_D[TAX_CUTOFF_D < policy_D] * (1 - TAX_D)\n",
                "results[\"ex10_gini_policy_d\"] = gini(policy_D)\n",
                "print(f\"The gini from Policy D would be {results['ex10_gini_policy_d']:.4f}\")"
            ]
        },
        {
            "cell_type": "markdown",
            "metadata": {},
            "source": [
                "## Exercise 11\n",
                "\n",
                "Now suppose we also wanted to explore a slightly different intervention: `Policy E`. In `Policy E`, we would distribute the revenue generated with the same tax, but this time we would distribute it evenly to all households earning less than 40,000 dollars (instead of less than 30,000 dollars). \n",
                "\n",
                "What is the resulting Gini Index of `Policy E`? Store as `ex11_gini_policy_e`."
            ]
        },
        {
            "cell_type": "code",
            "execution_count": 12,
            "metadata": {},
            "outputs": [
                {
                    "name": "stdout",
                    "output_type": "stream",
                    "text": [
                        "The gini from policy E is 0.4626\n"
                    ]
                }
            ],
            "source": [
                "policy_E = incomes.copy()\n",
                "CREDIT_CUTOFF_E = 40_000\n",
                "TAX_CUTOFF_E = 250_000\n",
                "TAX_E = 0.05\n",
                "num_hh_under_40k = np.sum(policy_E < CREDIT_CUTOFF_E)\n",
                "transfers_E = results[\"ex8_revenue_raised\"] / num_hh_under_40k\n",
                "\n",
                "policy_E[policy_E < CREDIT_CUTOFF_E] = (\n",
                "    policy_E[policy_E < CREDIT_CUTOFF_E] + transfers_E\n",
                ")\n",
                "policy_E[TAX_CUTOFF_E < policy_E] = policy_E[TAX_CUTOFF_E < policy_E] * (1 - TAX_E)\n",
                "results[\"ex11_gini_policy_e\"] = gini(policy_E)\n",
                "print(f\"The gini from policy E is {results['ex11_gini_policy_e']:.4f}\")"
            ]
        },
        {
            "cell_type": "markdown",
            "metadata": {},
            "source": [
                "## Exercise 12 \n",
                "\n",
                "If the President asked you whether you could better reduce inequality (as measured by the Gini Index) by re-distributing the tax revenue from taxing households earning more than 250,000 dollars even to households earning less than 30,000 dollars (`Policy D`) or households earning less than 40,000 dollars (`Policy E`), which would you recommend? Assign the string `\"Policy D\"` or `\"Policy E\"` to your `results` dict under the key `ex12_policy_recommendation`."
            ]
        },
        {
            "cell_type": "code",
            "execution_count": 13,
            "metadata": {},
            "outputs": [],
            "source": [
                "results[\"ex12_policy_recommendation\"] = \"Policy D\""
            ]
        },
        {
            "cell_type": "markdown",
            "metadata": {},
            "source": [
                "### Data Citation\n",
                "\n",
                "The ACS data used in this exercise are a subsample of the IPUMS USA data available from [usa.ipums.org.](usa.ipums.org)\n",
                "\n",
                "Please cite use of the data as follows: Steven Ruggles, Sarah Flood, Sophia Foster, Ronald Goeken, Jose Pacas, Megan Schouweiler and Matthew Sobek. IPUMS USA: Version 11.0 [dataset]. Minneapolis, MN: IPUMS, 2021. https://doi.org/10.18128/D010.V11.0\n",
                "\n",
                "These data are intended for this exercise only. Individuals analyzing the data for other purposes must submit a separate data extract request directly via IPUMS USA.\n",
                "\n",
                "Individuals are not to redistribute the data without permission. Contact ipums@umn.edu for redistribution requests."
            ]
        }
    ],
    "metadata": {
        "kernelspec": {
            "display_name": "Python 3.10.6 ('base')",
            "language": "python",
            "name": "python3"
        },
        "language_info": {
            "codemirror_mode": {
                "name": "ipython",
                "version": 3
            },
            "file_extension": ".py",
            "mimetype": "text/x-python",
            "name": "python",
            "nbconvert_exporter": "python",
            "pygments_lexer": "ipython3",
            "version": "3.12.5"
        },
        "otter": {
            "OK_FORMAT": true,
            "tests": {
                "q10": {
                    "name": "q10",
                    "points": 1,
                    "suites": [
                        {
                            "cases": [
                                {
                                    "code": ">>> ANS_EX10_GINI_POLICY_D = 0.46166900570205516\n>>> assert np.isclose(EX10_GINI_POLICY_D, ANS_EX10_GINI_POLICY_D, atol=1E-6)\n",
                                    "hidden": false,
                                    "locked": false
                                }
                            ],
                            "scored": true,
                            "setup": "",
                            "teardown": "",
                            "type": "doctest"
                        }
                    ]
                },
                "q11": {
                    "name": "q11",
                    "points": 1,
                    "suites": [
                        {
                            "cases": [
                                {
                                    "code": ">>> ANS_EX11_GINI_POLICY_E = 0.46264861963052545\n>>> assert np.isclose(EX11_GINI_POLICY_E, ANS_EX11_GINI_POLICY_E)\n",
                                    "hidden": false,
                                    "locked": false
                                }
                            ],
                            "scored": true,
                            "setup": "",
                            "teardown": "",
                            "type": "doctest"
                        }
                    ]
                },
                "q12": {
                    "name": "q12",
                    "points": 1,
                    "suites": [
                        {
                            "cases": [
                                {
                                    "code": ">>> ANS_EX12_RECOMMENDATION = \"POLICY D\"\n>>> assert EX12_RECOMMENDATION == ANS_EX12_RECOMMENDATION\n",
                                    "hidden": false,
                                    "locked": false
                                }
                            ],
                            "scored": true,
                            "setup": "",
                            "teardown": "",
                            "type": "doctest"
                        }
                    ]
                },
                "q4": {
                    "name": "q4",
                    "points": 1,
                    "suites": [
                        {
                            "cases": [
                                {
                                    "code": ">>> ANS_EX4_SHARE_BELOW_POVERTY = 0.14711442173300704\n>>> assert np.isclose(EX4_SHARE_BELOW_POVERTY, EX4_SHARE_BELOW_POVERTY), \"Share below povery incorrect\"\n",
                                    "hidden": false,
                                    "locked": false
                                },
                                {
                                    "code": ">>> ANS_EX4_GINI = 0.48109255468791906\n>>> assert np.isclose(EX4_GINI, ANS_EX4_GINI), \"Gini incorrect\"\n",
                                    "hidden": false,
                                    "locked": false
                                }
                            ],
                            "scored": true,
                            "setup": "",
                            "teardown": "",
                            "type": "doctest"
                        }
                    ]
                },
                "q6": {
                    "name": "q6",
                    "points": 1,
                    "suites": [
                        {
                            "cases": [
                                {
                                    "code": ">>> ANS_EX6_GINI_POLICY_A = 0.46024685074894656\n>>> assert np.isclose(EX6_GINI_POLICY_A, ANS_EX6_GINI_POLICY_A), \"Policy A Gini Incorrect\"\n",
                                    "hidden": false,
                                    "locked": false
                                },
                                {
                                    "code": ">>> ANS_EX6_GINI_POLICY_B = 0.45828217787897124\n>>> assert np.isclose(EX6_GINI_POLICY_B, ANS_EX6_GINI_POLICY_B), \"Policy B Gini Incorrect\"\n",
                                    "hidden": false,
                                    "locked": false
                                }
                            ],
                            "scored": true,
                            "setup": "",
                            "teardown": "",
                            "type": "doctest"
                        }
                    ]
                },
                "q7": {
                    "name": "q7",
                    "points": 1,
                    "suites": [
                        {
                            "cases": [
                                {
                                    "code": ">>> ANS_EX7_GINI_POLICY_C = 0.4756173843900709\n>>> assert np.isclose(EX7_GINI_POLICY_C, ANS_EX7_GINI_POLICY_C)\n",
                                    "hidden": false,
                                    "locked": false
                                }
                            ],
                            "scored": true,
                            "setup": "",
                            "teardown": "",
                            "type": "doctest"
                        }
                    ]
                },
                "q8": {
                    "name": "q8",
                    "points": 1,
                    "suites": [
                        {
                            "cases": [
                                {
                                    "code": ">>> ANS_EX8_REVENUE_RAISED = 929623340.85\n>>> assert np.isclose(EX8_REVENUE_RAISED, ANS_EX8_REVENUE_RAISED)\n",
                                    "hidden": false,
                                    "locked": false
                                }
                            ],
                            "scored": true,
                            "setup": "",
                            "teardown": "",
                            "type": "doctest"
                        }
                    ]
                },
                "q9": {
                    "name": "q9",
                    "points": 1,
                    "suites": [
                        {
                            "cases": [
                                {
                                    "code": ">>> ANS_EX9_TRANSFERS = 4208.230382379836\n>>> assert np.isclose(EX9_TRANSFERS, ANS_EX9_TRANSFERS, atol=1E-6)\n",
                                    "hidden": true,
                                    "locked": false
                                }
                            ],
                            "scored": true,
                            "setup": "",
                            "teardown": "",
                            "type": "doctest"
                        }
                    ]
                }
            }
        },
        "vscode": {
            "interpreter": {
                "hash": "718fed28bf9f8c7851519acf2fb923cd655120b36de3b67253eeb0428bd33d2d"
            }
        }
    },
    "nbformat": 4,
    "nbformat_minor": 2
}
