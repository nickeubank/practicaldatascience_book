{
 "cells": [
  {
   "cell_type": "markdown",
   "metadata": {},
   "source": [
    "# Cleaning Data Exercises\n",
    "\n",
    "In this exercise, we'll be returning to the American Community Survey data we used previously to measuring racial income inequality in the United States. In today's exercise, we'll be using it to measure the returns to education and how those returns vary by race and gender.\n",
    "\n"
   ]
  },
  {
   "cell_type": "markdown",
   "metadata": {},
   "source": [
    "\n",
    "## Gradescope Autograding\n",
    "\n",
    "Please follow [all standard guidance](https://www.practicaldatascience.org/html/autograder_guidelines.html) for submitting this assignment to the Gradescope autograder, including storing your solutions in a dictionary called `results` and ensuring your notebook runs from the start to completion without any errors.\n",
    "\n",
    "For this assignment, please name your file `exercise_cleaning.ipynb` before uploading.\n",
    "\n",
    "You can check that you have answers for all questions in your `results` dictionary with this code:\n",
    "\n",
    "```python\n",
    "assert set(results.keys()) == {\n",
    "    \"ex5_age_young\",\n",
    "    \"ex5_age_old\",\n",
    "    \"ex7_avg_age\",\n",
    "    \"ex8_avg_age\",\n",
    "    \"ex9_num_college\",\n",
    "    \"ex11_share_male_w_degrees\",\n",
    "    \"ex11_share_female_w_degrees\",\n",
    "    \"ex12_comparing\",\n",
    "}\n",
    "```\n",
    "\n",
    "\n",
    "### Submission Limits\n",
    "\n",
    "Please remember that you are **only allowed three submissions to the autograder.** Your last submission (if you submit 3 or fewer times), or your third submission (if you submit more than 3 times) will determine your grade Submissions that error out will **not** count against this total."
   ]
  },
  {
   "cell_type": "markdown",
   "metadata": {},
   "source": [
    "## Exercises\n",
    "\n",
    "### Exercise 1\n",
    "\n",
    "For these cleaning exercises, we'll return to the ACS data we've used before one last time. We'll be working with `US_ACS_2017_10pct_sample.dta`. Import the data (please use url for the autograder)."
   ]
  },
  {
   "cell_type": "code",
   "execution_count": 1,
   "metadata": {},
   "outputs": [],
   "source": [
    "import pandas as pd\n",
    "import numpy as np\n",
    "\n",
    "pd.set_option(\"mode.copy_on_write\", True)\n",
    "\n",
    "# Download the data\n",
    "acs = pd.read_stata(\n",
    "    \"https://github.com/nickeubank/MIDS_Data/blob/master\"\n",
    "    \"/US_AmericanCommunitySurvey/US_ACS_2017_10pct_sample.dta?raw=True\"\n",
    ")"
   ]
  },
  {
   "cell_type": "markdown",
   "metadata": {},
   "source": [
    "### Exercise 2\n",
    "\n",
    "For our exercises today, we'll focus on `age`, `sex`, `educ` (education), and `inctot` (total income). Subset your data to those variables, and quickly look at a sample of 10 rows."
   ]
  },
  {
   "cell_type": "code",
   "execution_count": 2,
   "metadata": {},
   "outputs": [],
   "source": [
    "acs = acs[[\"age\", \"sex\", \"educ\", \"inctot\"]].copy()"
   ]
  },
  {
   "cell_type": "code",
   "execution_count": 3,
   "metadata": {},
   "outputs": [
    {
     "data": {
      "text/html": [
       "<div>\n",
       "<style scoped>\n",
       "    .dataframe tbody tr th:only-of-type {\n",
       "        vertical-align: middle;\n",
       "    }\n",
       "\n",
       "    .dataframe tbody tr th {\n",
       "        vertical-align: top;\n",
       "    }\n",
       "\n",
       "    .dataframe thead th {\n",
       "        text-align: right;\n",
       "    }\n",
       "</style>\n",
       "<table border=\"1\" class=\"dataframe\">\n",
       "  <thead>\n",
       "    <tr style=\"text-align: right;\">\n",
       "      <th></th>\n",
       "      <th>age</th>\n",
       "      <th>sex</th>\n",
       "      <th>educ</th>\n",
       "      <th>inctot</th>\n",
       "    </tr>\n",
       "  </thead>\n",
       "  <tbody>\n",
       "    <tr>\n",
       "      <th>45400</th>\n",
       "      <td>43</td>\n",
       "      <td>female</td>\n",
       "      <td>grade 12</td>\n",
       "      <td>8100</td>\n",
       "    </tr>\n",
       "    <tr>\n",
       "      <th>261107</th>\n",
       "      <td>74</td>\n",
       "      <td>female</td>\n",
       "      <td>grade 12</td>\n",
       "      <td>8400</td>\n",
       "    </tr>\n",
       "    <tr>\n",
       "      <th>283744</th>\n",
       "      <td>6</td>\n",
       "      <td>male</td>\n",
       "      <td>nursery school to grade 4</td>\n",
       "      <td>9999999</td>\n",
       "    </tr>\n",
       "    <tr>\n",
       "      <th>221953</th>\n",
       "      <td>18</td>\n",
       "      <td>male</td>\n",
       "      <td>grade 12</td>\n",
       "      <td>5000</td>\n",
       "    </tr>\n",
       "    <tr>\n",
       "      <th>235877</th>\n",
       "      <td>45</td>\n",
       "      <td>male</td>\n",
       "      <td>5+ years of college</td>\n",
       "      <td>841000</td>\n",
       "    </tr>\n",
       "    <tr>\n",
       "      <th>308767</th>\n",
       "      <td>28</td>\n",
       "      <td>male</td>\n",
       "      <td>4 years of college</td>\n",
       "      <td>50000</td>\n",
       "    </tr>\n",
       "    <tr>\n",
       "      <th>257116</th>\n",
       "      <td>24</td>\n",
       "      <td>female</td>\n",
       "      <td>4 years of college</td>\n",
       "      <td>20000</td>\n",
       "    </tr>\n",
       "    <tr>\n",
       "      <th>134982</th>\n",
       "      <td>56</td>\n",
       "      <td>male</td>\n",
       "      <td>grade 12</td>\n",
       "      <td>60200</td>\n",
       "    </tr>\n",
       "    <tr>\n",
       "      <th>173144</th>\n",
       "      <td>9</td>\n",
       "      <td>male</td>\n",
       "      <td>nursery school to grade 4</td>\n",
       "      <td>9999999</td>\n",
       "    </tr>\n",
       "    <tr>\n",
       "      <th>113986</th>\n",
       "      <td>58</td>\n",
       "      <td>female</td>\n",
       "      <td>4 years of college</td>\n",
       "      <td>20000</td>\n",
       "    </tr>\n",
       "  </tbody>\n",
       "</table>\n",
       "</div>"
      ],
      "text/plain": [
       "       age     sex                       educ   inctot\n",
       "45400   43  female                   grade 12     8100\n",
       "261107  74  female                   grade 12     8400\n",
       "283744   6    male  nursery school to grade 4  9999999\n",
       "221953  18    male                   grade 12     5000\n",
       "235877  45    male        5+ years of college   841000\n",
       "308767  28    male         4 years of college    50000\n",
       "257116  24  female         4 years of college    20000\n",
       "134982  56    male                   grade 12    60200\n",
       "173144   9    male  nursery school to grade 4  9999999\n",
       "113986  58  female         4 years of college    20000"
      ]
     },
     "execution_count": 3,
     "metadata": {},
     "output_type": "execute_result"
    }
   ],
   "source": [
    "acs.sample(10)"
   ]
  },
  {
   "cell_type": "markdown",
   "metadata": {},
   "source": [
    "### Exercise 3\n",
    "\n",
    "As before, all the values of `9999999` have the potential to cause us real problems, so replace all the values of `inctot` that are `9999999` with `np.nan`. "
   ]
  },
  {
   "cell_type": "code",
   "execution_count": 4,
   "metadata": {},
   "outputs": [],
   "source": [
    "acs[\"inctot\"] = acs[\"inctot\"].replace(9999999, np.nan)"
   ]
  },
  {
   "cell_type": "markdown",
   "metadata": {},
   "source": [
    "### Exercise 4\n",
    "\n",
    "Attempt to calculate the average age of people in our data. What do you get? Why are you getting that error?\n",
    "\n",
    "You *should* get an error in trying to answer this question, but **PLEASE LEAVE THE CODE THAT GENERATES THIS ERROR COMMENTED OUT SO YOUR NOTEBOOK WILL RUN IN THE AUTOGRADER**. \n",
    "\n",
    "Then talk about the error in a markdown cell."
   ]
  },
  {
   "cell_type": "code",
   "execution_count": 5,
   "metadata": {},
   "outputs": [],
   "source": [
    "# Code I'd run, but which I'm commenting out so this notebook runs:\n",
    "\n",
    "# acs[\"age\"].mean()"
   ]
  },
  {
   "cell_type": "markdown",
   "metadata": {},
   "source": [
    "> I get a `TypeError`. Namely: `TypeError: 'Categorical' with dtype category does not support reduction 'mean'` It appears I'm getting the error because `age` is being stored as a Categorical rather than as a numeric type, and `mean` only works for numeric data."
   ]
  },
  {
   "cell_type": "markdown",
   "metadata": {},
   "source": [
    "### Exercise 5\n",
    "\n",
    "We want to be able to calculate things using age, so we need it to be a numeric type. Check the current type of `age`, and look at all the values of `age` to figure out why it's categorical and not numeric. You should find two problematic categories. Store the values of these categories in `\"ex5_age_young\"` and `\"ex5_age_old\"` (once you find them, it should be clear which is which)."
   ]
  },
  {
   "cell_type": "code",
   "execution_count": 6,
   "metadata": {},
   "outputs": [
    {
     "data": {
      "text/plain": [
       "array(['less than 1 year old', '90 (90+ in 1980 and 1990)'], dtype=object)"
      ]
     },
     "execution_count": 6,
     "metadata": {},
     "output_type": "execute_result"
    }
   ],
   "source": [
    "results = dict()\n",
    "\n",
    "# One way to find problems:\n",
    "\n",
    "# Make string so can use `str.isnumeric`\n",
    "acs[\"age\"] = acs[\"age\"].astype(\"str\")\n",
    "\n",
    "# us `str.isnumeric`\n",
    "problems = acs.loc[~acs[\"age\"].str.isnumeric(), \"age\"].unique()\n",
    "problems"
   ]
  },
  {
   "cell_type": "code",
   "execution_count": 7,
   "metadata": {},
   "outputs": [],
   "source": [
    "# Or just poke around!\n",
    "\n",
    "# I could run this code, but I'm commenting it out so this notebook isn't awful to look at:\n",
    "\n",
    "# for i in acs.age.value_counts().index:\n",
    "#     print(i)"
   ]
  },
  {
   "cell_type": "code",
   "execution_count": 8,
   "metadata": {},
   "outputs": [
    {
     "name": "stdout",
     "output_type": "stream",
     "text": [
      "The problematic values are 'less than 1 year old' and '90 (90+ in 1980 and 1990)'\n"
     ]
    }
   ],
   "source": [
    "results[\"ex5_age_young\"] = problems[0]\n",
    "results[\"ex5_age_old\"] = problems[1]\n",
    "print(\n",
    "    f\"The problematic values are '{results['ex5_age_young']}' and '{results['ex5_age_old']}'\"\n",
    ")"
   ]
  },
  {
   "cell_type": "markdown",
   "metadata": {},
   "source": [
    "### Exercise 6\n",
    "\n",
    "In order to convert `age` into a numeric variable, we need to replace those problematic entries with values that `pandas` can later convert into numbers. Pick appropriate substitutions for the existing values and replace the current values. \n",
    "\n",
    "**Hint 1:** Categorical variables act like strings, so you might want to use string methods! \n",
    "\n",
    "**Hint 2:** Remember that characters like parentheses, pluses, asterisks, etc. are special in Python strings, and you have to escape them if you want them to be interpreted literally!\n",
    "\n",
    "**Hint 3:** Because the US Census has been conducted regularly for hundreds of years but exactly how the census has been conducted has occasionally changed, variables are sometimes coded in a way that might be interpreted in different ways for different census years. For example, hypothetically, one might write `90 (90+ in 1980 and 1990)` if the Censuses conducted in 1980 and 1990 used to top-code age at 90 (any values *over* 90 were just coded as 90), but more recent Censuses no longer top-coded age and recorded ages over 90 as the respondent's actual age. We're only working with more recent data, so anyone with a value of `90 (90+ in 1980 and 1990)` can safely be assumed to be 90 years old. People with an age less than 1 year old can be treated as being of age `0`."
   ]
  },
  {
   "cell_type": "code",
   "execution_count": 9,
   "metadata": {},
   "outputs": [
    {
     "name": "stderr",
     "output_type": "stream",
     "text": [
      "<>:2: SyntaxWarning: invalid escape sequence '\\('\n",
      "<>:2: SyntaxWarning: invalid escape sequence '\\('\n",
      "/var/folders/fs/h_8_rwsn5hvg9mhp0txgc_s9v6191b/T/ipykernel_77720/3726935054.py:2: SyntaxWarning: invalid escape sequence '\\('\n",
      "  acs[\"age\"] = acs[\"age\"].str.replace(\"90 \\(90\\+ in 1980 and 1990\\)\", \"90\", regex=True)\n"
     ]
    }
   ],
   "source": [
    "acs[\"age\"] = acs[\"age\"].str.replace(\"less than 1 year old\", \"0\", regex=True)\n",
    "acs[\"age\"] = acs[\"age\"].str.replace(\"90 \\(90\\+ in 1980 and 1990\\)\", \"90\", regex=True)"
   ]
  },
  {
   "cell_type": "code",
   "execution_count": 10,
   "metadata": {},
   "outputs": [
    {
     "data": {
      "text/plain": [
       "array([], dtype=object)"
      ]
     },
     "execution_count": 10,
     "metadata": {},
     "output_type": "execute_result"
    }
   ],
   "source": [
    "# Check that worked\n",
    "acs.loc[~acs[\"age\"].str.isnumeric(), \"age\"].unique()"
   ]
  },
  {
   "cell_type": "code",
   "execution_count": 11,
   "metadata": {},
   "outputs": [],
   "source": [
    "assert acs[\"age\"].str.isnumeric().all()"
   ]
  },
  {
   "cell_type": "markdown",
   "metadata": {},
   "source": [
    "### Exercise 7\n",
    "\n",
    "Now convert age from a categorical to numeric. Calculate the average age amoung this group, and store it in `\"ex7_avg_age\"`."
   ]
  },
  {
   "cell_type": "code",
   "execution_count": 12,
   "metadata": {},
   "outputs": [
    {
     "name": "stdout",
     "output_type": "stream",
     "text": [
      "The average age is 41.30\n"
     ]
    }
   ],
   "source": [
    "acs[\"age\"] = acs[\"age\"].astype(\"int\")\n",
    "results[\"ex7_avg_age\"] = acs[\"age\"].mean()\n",
    "print(f\"The average age is {results['ex7_avg_age']:.2f}\")"
   ]
  },
  {
   "cell_type": "markdown",
   "metadata": {},
   "source": [
    "### Exercise 8\n",
    "\n",
    "Let's now filter out anyone in our data whose age is less than 18. Note that before made `age` a numeric variable, we couldn't do this! Again, calculate the average age and this time store it in `\"ex8_avg_age\"`. \n",
    "\n",
    "Use this sample of people 18 and over for all subsequent exercises."
   ]
  },
  {
   "cell_type": "code",
   "execution_count": 13,
   "metadata": {},
   "outputs": [
    {
     "name": "stdout",
     "output_type": "stream",
     "text": [
      "The average age of those above 18 is 49.76\n"
     ]
    }
   ],
   "source": [
    "acs = acs[acs[\"age\"] >= 18].copy()\n",
    "results[\"ex8_avg_age\"] = acs[\"age\"].mean()\n",
    "print(f\"The average age of those above 18 is {results['ex8_avg_age']:.2f}\")"
   ]
  },
  {
   "cell_type": "markdown",
   "metadata": {},
   "source": [
    "### Exercise 9\n",
    "\n",
    "Create an indicator variable for whether each person has *at least* a college Bachelor's degree called `college_degree`. Use this variable to calculate the number of people in the dataset with a college degree. You may assume that to get a college degree you need to complete at least 4 years of college. Save the result as `\"ex9_num_college\"`."
   ]
  },
  {
   "cell_type": "code",
   "execution_count": 14,
   "metadata": {},
   "outputs": [
    {
     "data": {
      "text/plain": [
       "educ\n",
       "grade 12                     92576\n",
       "4 years of college           47212\n",
       "1 year of college            38746\n",
       "5+ years of college          29801\n",
       "2 years of college           20753\n",
       "grade 5, 6, 7, or 8           5975\n",
       "grade 11                      5816\n",
       "grade 10                      4078\n",
       "n/a or no schooling           3644\n",
       "grade 9                       3145\n",
       "nursery school to grade 4     1288\n",
       "Name: count, dtype: int64"
      ]
     },
     "execution_count": 14,
     "metadata": {},
     "output_type": "execute_result"
    }
   ],
   "source": [
    "acs[\"educ\"].value_counts(dropna=False)"
   ]
  },
  {
   "cell_type": "code",
   "execution_count": 15,
   "metadata": {},
   "outputs": [
    {
     "data": {
      "text/plain": [
       "college_degree\n",
       "False    176021\n",
       "True      77013\n",
       "Name: count, dtype: int64"
      ]
     },
     "execution_count": 15,
     "metadata": {},
     "output_type": "execute_result"
    }
   ],
   "source": [
    "# Could do with two conditions and |\n",
    "acs[\"college_degree\"] = (acs[\"educ\"] == \"4 years of college\") | (\n",
    "    acs[\"educ\"] == \"5+ years of college\"\n",
    ")\n",
    "acs[\"college_degree\"].value_counts(dropna=False)"
   ]
  },
  {
   "cell_type": "code",
   "execution_count": 16,
   "metadata": {},
   "outputs": [
    {
     "data": {
      "text/plain": [
       "college_degree\n",
       "False    176021\n",
       "True      77013\n",
       "Name: count, dtype: int64"
      ]
     },
     "execution_count": 16,
     "metadata": {},
     "output_type": "execute_result"
    }
   ],
   "source": [
    "# Or you could do with `.isin`\n",
    "acs[\"college_degree\"] = acs[\"educ\"].isin([\"4 years of college\", \"5+ years of college\"])\n",
    "acs[\"college_degree\"].value_counts(dropna=False)"
   ]
  },
  {
   "cell_type": "code",
   "execution_count": 17,
   "metadata": {},
   "outputs": [
    {
     "data": {
      "text/plain": [
       "educ\n",
       "4 years of college           47212\n",
       "5+ years of college          29801\n",
       "n/a or no schooling              0\n",
       "nursery school to grade 4        0\n",
       "grade 5, 6, 7, or 8              0\n",
       "grade 9                          0\n",
       "grade 10                         0\n",
       "grade 11                         0\n",
       "grade 12                         0\n",
       "1 year of college                0\n",
       "2 years of college               0\n",
       "Name: count, dtype: int64"
      ]
     },
     "execution_count": 17,
     "metadata": {},
     "output_type": "execute_result"
    }
   ],
   "source": [
    "# Check it worked\n",
    "acs.loc[acs[\"college_degree\"] == 1, \"educ\"].value_counts()"
   ]
  },
  {
   "cell_type": "code",
   "execution_count": 18,
   "metadata": {},
   "outputs": [
    {
     "name": "stdout",
     "output_type": "stream",
     "text": [
      "There are 77,013 people in our data with a college degree.\n"
     ]
    }
   ],
   "source": [
    "# Remember booleans are just special cases of 0 and 1, so\n",
    "# the count that's true we can get with `sum`\n",
    "results[\"ex9_num_college\"] = acs[\"college_degree\"].sum()\n",
    "print(\n",
    "    f\"There are {results['ex9_num_college']:,.0f} people in our data with a college degree.\"\n",
    ")"
   ]
  },
  {
   "cell_type": "markdown",
   "metadata": {},
   "source": [
    "### Exercise 10\n",
    "\n",
    "Let's examine how the educational gender gap. Use `pd.crosstab` to create a cross-tabulation of `sex` and `college_degree`. `pd.crosstab` will give you the number of people who have each combination of `sex` and `college_degree` (so in this case, it will give us a 2x2 table with Male and Female as rows, and `college_degree` True and False as columns, or vice versa. "
   ]
  },
  {
   "cell_type": "code",
   "execution_count": 19,
   "metadata": {},
   "outputs": [
    {
     "data": {
      "text/html": [
       "<div>\n",
       "<style scoped>\n",
       "    .dataframe tbody tr th:only-of-type {\n",
       "        vertical-align: middle;\n",
       "    }\n",
       "\n",
       "    .dataframe tbody tr th {\n",
       "        vertical-align: top;\n",
       "    }\n",
       "\n",
       "    .dataframe thead th {\n",
       "        text-align: right;\n",
       "    }\n",
       "</style>\n",
       "<table border=\"1\" class=\"dataframe\">\n",
       "  <thead>\n",
       "    <tr style=\"text-align: right;\">\n",
       "      <th>sex</th>\n",
       "      <th>male</th>\n",
       "      <th>female</th>\n",
       "    </tr>\n",
       "    <tr>\n",
       "      <th>college_degree</th>\n",
       "      <th></th>\n",
       "      <th></th>\n",
       "    </tr>\n",
       "  </thead>\n",
       "  <tbody>\n",
       "    <tr>\n",
       "      <th>False</th>\n",
       "      <td>85821</td>\n",
       "      <td>90200</td>\n",
       "    </tr>\n",
       "    <tr>\n",
       "      <th>True</th>\n",
       "      <td>36181</td>\n",
       "      <td>40832</td>\n",
       "    </tr>\n",
       "  </tbody>\n",
       "</table>\n",
       "</div>"
      ],
      "text/plain": [
       "sex              male  female\n",
       "college_degree               \n",
       "False           85821   90200\n",
       "True            36181   40832"
      ]
     },
     "execution_count": 19,
     "metadata": {},
     "output_type": "execute_result"
    }
   ],
   "source": [
    "pd.crosstab(acs[\"college_degree\"], acs[\"sex\"])"
   ]
  },
  {
   "cell_type": "markdown",
   "metadata": {},
   "source": [
    "### Exercise 11\n",
    "\n",
    "Counts are kind of hard to interpret. `pd.crosstab` can also normalize values to give percentages. Look at the `pd.crosstab` help file to figure out how to normalize the values in the table. Normalize them so that you get the share of men with and without college degree, and the share of women with and without college degrees.\n",
    "\n",
    "Store the share (between 0 and 1) of men with college degrees in `\"ex11_share_male_w_degrees\"`, and the share of women with degrees in `\"ex11_share_female_w_degrees\"`."
   ]
  },
  {
   "cell_type": "code",
   "execution_count": 20,
   "metadata": {},
   "outputs": [
    {
     "data": {
      "text/html": [
       "<div>\n",
       "<style scoped>\n",
       "    .dataframe tbody tr th:only-of-type {\n",
       "        vertical-align: middle;\n",
       "    }\n",
       "\n",
       "    .dataframe tbody tr th {\n",
       "        vertical-align: top;\n",
       "    }\n",
       "\n",
       "    .dataframe thead th {\n",
       "        text-align: right;\n",
       "    }\n",
       "</style>\n",
       "<table border=\"1\" class=\"dataframe\">\n",
       "  <thead>\n",
       "    <tr style=\"text-align: right;\">\n",
       "      <th>sex</th>\n",
       "      <th>male</th>\n",
       "      <th>female</th>\n",
       "    </tr>\n",
       "    <tr>\n",
       "      <th>college_degree</th>\n",
       "      <th></th>\n",
       "      <th></th>\n",
       "    </tr>\n",
       "  </thead>\n",
       "  <tbody>\n",
       "    <tr>\n",
       "      <th>False</th>\n",
       "      <td>0.703439</td>\n",
       "      <td>0.688381</td>\n",
       "    </tr>\n",
       "    <tr>\n",
       "      <th>True</th>\n",
       "      <td>0.296561</td>\n",
       "      <td>0.311619</td>\n",
       "    </tr>\n",
       "  </tbody>\n",
       "</table>\n",
       "</div>"
      ],
      "text/plain": [
       "sex                 male    female\n",
       "college_degree                    \n",
       "False           0.703439  0.688381\n",
       "True            0.296561  0.311619"
      ]
     },
     "execution_count": 20,
     "metadata": {},
     "output_type": "execute_result"
    }
   ],
   "source": [
    "tab = pd.crosstab(acs[\"college_degree\"], acs[\"sex\"], normalize=\"columns\")\n",
    "tab"
   ]
  },
  {
   "cell_type": "code",
   "execution_count": 21,
   "metadata": {},
   "outputs": [
    {
     "name": "stdout",
     "output_type": "stream",
     "text": [
      "The share of males with college degrees is 0.2966\n",
      "The share of females with college degrees is 0.3116\n"
     ]
    }
   ],
   "source": [
    "for g in [\"male\", \"female\"]:\n",
    "    results[f\"ex11_share_{g}_w_degrees\"] = tab.loc[True, g]\n",
    "    print(\n",
    "        f\"The share of {g}s with college degrees is \"\n",
    "        f\"{results[f'ex11_share_{g}_w_degrees']:.4f}\"\n",
    "    )"
   ]
  },
  {
   "cell_type": "markdown",
   "metadata": {},
   "source": [
    "### Exercise 12\n",
    "\n",
    "Now, let's recreate that table for people who are 40 and over and people under 40. Over time, what does this suggest about the absolute difference in the share of men and women earning college degrees? Has it gotten larger, stayed the same, or gotten smaller? Store your answer (either `\"the absolute difference has increased\"` or `\"the absolute difference has decreased\"`) in `\"ex12_comparing\"`."
   ]
  },
  {
   "cell_type": "code",
   "execution_count": 22,
   "metadata": {},
   "outputs": [
    {
     "data": {
      "text/html": [
       "<div>\n",
       "<style scoped>\n",
       "    .dataframe tbody tr th:only-of-type {\n",
       "        vertical-align: middle;\n",
       "    }\n",
       "\n",
       "    .dataframe tbody tr th {\n",
       "        vertical-align: top;\n",
       "    }\n",
       "\n",
       "    .dataframe thead th {\n",
       "        text-align: right;\n",
       "    }\n",
       "</style>\n",
       "<table border=\"1\" class=\"dataframe\">\n",
       "  <thead>\n",
       "    <tr style=\"text-align: right;\">\n",
       "      <th>sex</th>\n",
       "      <th>male</th>\n",
       "      <th>female</th>\n",
       "    </tr>\n",
       "    <tr>\n",
       "      <th>college_degree</th>\n",
       "      <th></th>\n",
       "      <th></th>\n",
       "    </tr>\n",
       "  </thead>\n",
       "  <tbody>\n",
       "    <tr>\n",
       "      <th>False</th>\n",
       "      <td>0.682123</td>\n",
       "      <td>0.699144</td>\n",
       "    </tr>\n",
       "    <tr>\n",
       "      <th>True</th>\n",
       "      <td>0.317877</td>\n",
       "      <td>0.300856</td>\n",
       "    </tr>\n",
       "  </tbody>\n",
       "</table>\n",
       "</div>"
      ],
      "text/plain": [
       "sex                 male    female\n",
       "college_degree                    \n",
       "False           0.682123  0.699144\n",
       "True            0.317877  0.300856"
      ]
     },
     "execution_count": 22,
     "metadata": {},
     "output_type": "execute_result"
    }
   ],
   "source": [
    "older = acs[40 <= acs[\"age\"]]\n",
    "older_table = pd.crosstab(older[\"college_degree\"], older[\"sex\"], normalize=\"columns\")\n",
    "older_table"
   ]
  },
  {
   "cell_type": "code",
   "execution_count": 23,
   "metadata": {},
   "outputs": [
    {
     "name": "stdout",
     "output_type": "stream",
     "text": [
      "the gap between men and women's college attainment for those OVER 40 is 0.006\n"
     ]
    }
   ],
   "source": [
    "older_gap = older_table.loc[True, \"male\"] - tab.loc[True, \"female\"]\n",
    "print(\n",
    "    f\"the gap between men and women's college attainment\"\n",
    "    f\" for those OVER 40 is {older_gap:.3f}\"\n",
    ")"
   ]
  },
  {
   "cell_type": "code",
   "execution_count": 24,
   "metadata": {},
   "outputs": [
    {
     "data": {
      "text/html": [
       "<div>\n",
       "<style scoped>\n",
       "    .dataframe tbody tr th:only-of-type {\n",
       "        vertical-align: middle;\n",
       "    }\n",
       "\n",
       "    .dataframe tbody tr th {\n",
       "        vertical-align: top;\n",
       "    }\n",
       "\n",
       "    .dataframe thead th {\n",
       "        text-align: right;\n",
       "    }\n",
       "</style>\n",
       "<table border=\"1\" class=\"dataframe\">\n",
       "  <thead>\n",
       "    <tr style=\"text-align: right;\">\n",
       "      <th>sex</th>\n",
       "      <th>male</th>\n",
       "      <th>female</th>\n",
       "    </tr>\n",
       "    <tr>\n",
       "      <th>college_degree</th>\n",
       "      <th></th>\n",
       "      <th></th>\n",
       "    </tr>\n",
       "  </thead>\n",
       "  <tbody>\n",
       "    <tr>\n",
       "      <th>False</th>\n",
       "      <td>0.703439</td>\n",
       "      <td>0.688381</td>\n",
       "    </tr>\n",
       "    <tr>\n",
       "      <th>True</th>\n",
       "      <td>0.296561</td>\n",
       "      <td>0.311619</td>\n",
       "    </tr>\n",
       "  </tbody>\n",
       "</table>\n",
       "</div>"
      ],
      "text/plain": [
       "sex                 male    female\n",
       "college_degree                    \n",
       "False           0.703439  0.688381\n",
       "True            0.296561  0.311619"
      ]
     },
     "execution_count": 24,
     "metadata": {},
     "output_type": "execute_result"
    }
   ],
   "source": [
    "younger = acs[acs[\"age\"] < 40]\n",
    "younger_table = pd.crosstab(\n",
    "    younger[\"college_degree\"], younger[\"sex\"], normalize=\"columns\"\n",
    ")\n",
    "tab"
   ]
  },
  {
   "cell_type": "code",
   "execution_count": 25,
   "metadata": {},
   "outputs": [
    {
     "name": "stdout",
     "output_type": "stream",
     "text": [
      "the gap between men and women's college attainment for those UNDER 40 is -0.015\n"
     ]
    }
   ],
   "source": [
    "younger_gap = tab.loc[True, \"male\"] - tab.loc[True, \"female\"]\n",
    "print(\n",
    "    f\"the gap between men and women's college attainment\"\n",
    "    f\" for those UNDER 40 is {younger_gap:.3f}\"\n",
    ")"
   ]
  },
  {
   "cell_type": "code",
   "execution_count": 26,
   "metadata": {},
   "outputs": [
    {
     "name": "stdout",
     "output_type": "stream",
     "text": [
      "The male-female gap has gone from 0.006 to -0.015. Thus the absolute change from older to younger cohorts is 0.009.\n"
     ]
    }
   ],
   "source": [
    "print(\n",
    "    f\"The male-female gap has gone from {older_gap:.3f} to {younger_gap:.3f}. \"\n",
    "    f\"Thus the absolute change from older to younger cohorts is {np.abs(younger_gap) - np.abs(older_gap):.3f}.\"\n",
    ")"
   ]
  },
  {
   "cell_type": "code",
   "execution_count": 27,
   "metadata": {},
   "outputs": [],
   "source": [
    "results[\"ex12_comparing\"] = \"the absolute difference has increased\""
   ]
  },
  {
   "cell_type": "markdown",
   "metadata": {},
   "source": [
    "### Exercise 13\n",
    "\n",
    "In words, what is causing the change noted in Exercise 12 (i.e., looking at the tables above, tell me a story about Men and Women's College attainment)."
   ]
  },
  {
   "cell_type": "markdown",
   "metadata": {},
   "source": [
    "> While a larger proportion of men than women have a college degree in the older cohort, that relationship is flipped for younger Americans; among those under 40, a larger share of adult women have college degrees then men.\n",
    ">\n",
    "> Interestingly, this appears to be the result of *both* an increasing share of women getting college degrees *and* a decreasing share of men getting college degrees:"
   ]
  },
  {
   "cell_type": "code",
   "execution_count": 28,
   "metadata": {},
   "outputs": [
    {
     "name": "stdout",
     "output_type": "stream",
     "text": [
      "Among older Americans, 31.8% of \n",
      "men have college degrees; among younger men, this number has \n",
      "fallen to 25.7%.\n",
      "By contrast, among older Americans 30.1% of \n",
      "women have college degrees; among younger women, this number has \n",
      "risen to 33.4%.\n"
     ]
    }
   ],
   "source": [
    "print(\n",
    "    f\"Among older Americans, {older_table.loc[True, 'male']:.1%} of \\n\"\n",
    "    f\"men have college degrees; among younger men, this number has \\n\"\n",
    "    f\"fallen to {younger_table.loc[True, 'male']:.1%}.\"\n",
    ")\n",
    "\n",
    "print(\n",
    "    f\"By contrast, among older Americans {older_table.loc[True, 'female']:.1%} of \\n\"\n",
    "    f\"women have college degrees; among younger women, this number has \\n\"\n",
    "    f\"risen to {younger_table.loc[True, 'female']:.1%}.\"\n",
    ")"
   ]
  },
  {
   "cell_type": "markdown",
   "metadata": {},
   "source": [
    "## Want More Practice?\n",
    "\n",
    "Calculate the educational racial gap in the United States for White Americans, Black Americans, Hispanic Americans, and other groups. \n",
    "\n",
    "Note that to do these calculations, you'll have to deal with the fact that unlike most Americans, the American Census Bureau treats \"Hispanic\" not as a racial category, but a linguistic one. As a result, the racial category \"White\" in `race` actually includes most Hispanic Americans. For this analysis, we wish to work with the mutually exclusive categories of \"White, non-Hispanic\", \"White, Hispanic\", \"Black (Hispanic or non-Hispanic)\", and a category for everyone else. "
   ]
  },
  {
   "cell_type": "code",
   "execution_count": 29,
   "metadata": {},
   "outputs": [],
   "source": [
    "assert set(results.keys()) == {\n",
    "    \"ex5_age_young\",\n",
    "    \"ex5_age_old\",\n",
    "    \"ex7_avg_age\",\n",
    "    \"ex8_avg_age\",\n",
    "    \"ex9_num_college\",\n",
    "    \"ex11_share_male_w_degrees\",\n",
    "    \"ex11_share_female_w_degrees\",\n",
    "    \"ex12_comparing\",\n",
    "}"
   ]
  },
  {
   "cell_type": "code",
   "execution_count": 30,
   "metadata": {},
   "outputs": [
    {
     "data": {
      "text/plain": [
       "['ex11_share_female_w_degrees',\n",
       " 'ex11_share_male_w_degrees',\n",
       " 'ex12_comparing',\n",
       " 'ex5_age_old',\n",
       " 'ex5_age_young',\n",
       " 'ex7_avg_age',\n",
       " 'ex8_avg_age',\n",
       " 'ex9_num_college']"
      ]
     },
     "execution_count": 30,
     "metadata": {},
     "output_type": "execute_result"
    }
   ],
   "source": [
    "sorted(list(results.keys()))"
   ]
  },
  {
   "cell_type": "code",
   "execution_count": 31,
   "metadata": {},
   "outputs": [
    {
     "data": {
      "text/plain": [
       "8"
      ]
     },
     "execution_count": 31,
     "metadata": {},
     "output_type": "execute_result"
    }
   ],
   "source": [
    "len(results.keys())"
   ]
  }
 ],
 "metadata": {
  "kernelspec": {
   "display_name": "Python 3.10.6 ('base')",
   "language": "python",
   "name": "python3"
  },
  "language_info": {
   "codemirror_mode": {
    "name": "ipython",
    "version": 3
   },
   "file_extension": ".py",
   "mimetype": "text/x-python",
   "name": "python",
   "nbconvert_exporter": "python",
   "pygments_lexer": "ipython3",
   "version": "3.12.5"
  },
  "vscode": {
   "interpreter": {
    "hash": "718fed28bf9f8c7851519acf2fb923cd655120b36de3b67253eeb0428bd33d2d"
   }
  }
 },
 "nbformat": 4,
 "nbformat_minor": 4
}
