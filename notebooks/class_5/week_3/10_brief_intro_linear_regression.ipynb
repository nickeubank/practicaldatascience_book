{
 "cells": [
  {
   "cell_type": "markdown",
   "metadata": {},
   "source": [
    "# Linear Regression: A Brief Introduction\n",
    "\n",
    "Suppose you are given the data in the picture below and asked to draw a straight line that you feel best describes the relationship between the square footage of a house (on the x-axis) and its price (on the y-axis). What might that line look like? Seriously, pause for a moment and imagine a line on that graph. What would it look like?\n",
    "\n",
    "[figure with point cloud in approximate line]\n",
    "\n",
    "\n",
    "Most of us would probably end up drawing a line that looks something like the line in the figure below. And that, in a basic sense, is precisely what we are trying to do with linear regression: use mathematics to estimate a \"line of best fit\" that (we hope) gives a pretty good summary of the relationship between different variables.\n",
    "\n",
    "[figure with red line]\n",
    "\n",
    "But how exactly does linear regression do this? Odds are, you probably aren't even quite sure what guided you to think about a line very similar to the red one in the figure above — you just followed your intuition. But the basic idea that probably guided how you drew the line in your head is very similar to the principle used by a linear regression: try to draw a line that, on average, is as close as possible to all the data points plotted.\n",
    "\n",
    "To be more specific, a linear regression estimates the line that minimizes the sum of squared errors between the line of best fit and each data point. Indeed, linear regression is often called \"Ordinary Least Squares\" or \"Least Squares Regression\" precisely because it tries to find the line that minimizes (gives rise to the smallest or least) sum of squared errors. There are reasons that linear regression minimizes the sum of *squared* errors (instead of just the sum of errors), but those reasons aren't crucial to getting an intuitive sense of how linear regression works.\n"
   ]
  },
  {
   "cell_type": "markdown",
   "metadata": {},
   "source": [
    "\n",
    "## Representing A Regression Line\n",
    "\n",
    "While this kind of picture is the easiest way to visualize a simple regression, this is not how most regressions are presented for reasons we'll discuss below. Instead, regressions generally take advantage of the fact that a line can be represented with an intercept (where the line crosses the y-axis) and a slope (the amount the line rises when you move one unit along the x-axis). In math notation, this generally gets written something like:\n",
    "\n",
    "$$\\text{price} = \\alpha + \\beta * \\text{square footage} + \\epsilon$$\n",
    "\n",
    "The variable we're trying to explain (here, price) is on the left-hand side of the equation, and we write that the price of a house is equal to a constant term (the intercept, the value of $\\alpha$) plus the houses square footage times the slope of the line of best fit ($\\beta$). The last term — $\\epsilon$ — is the error associated with a given observation (the difference between the value of the line of best fit for a given house and the house's true price). Mathematically, it works out that the sum of all the error terms ($\\epsilon$) from a regression will always add up to zero.\n",
    "\n",
    "So suppose we ran a regression, and the regression model estimated that $\\alpha = -43,000$ and $\\beta = 280$. From this, we could conclude that the model's estimate is that a 1,500 square foot house would have a price of 377,000 US Dollars. \n",
    "\n",
    "From this model, we could also infer that if someone owned a 1,500 square foot house and was thinking of building an extension that would add 500 square feet to the house, then the model's best guess would be that the price of the house would increase by $500 * \\beta = 97,000$.\n",
    "\n",
    "While the equation above shows us how regressions are often written out in books or papers, that's not quite how regression models are presented in Python. In Python, the result of a regression will appear in a table with a lot of diagnostic statistics that can look quite intimidating at first (and many of which you don't need to worry about). To illustrate, let's use the Kings County dataset we used last week and regress the price of a home on its square footage. Don't worry about the code — we'll cover the syntax being used here in a later reading — just take a look at the output that follows. "
   ]
  },
  {
   "cell_type": "code",
   "execution_count": 1,
   "metadata": {},
   "outputs": [
    {
     "data": {
      "text/html": [
       "<table class=\"simpletable\">\n",
       "<caption>OLS Regression Results</caption>\n",
       "<tr>\n",
       "  <th>Dep. Variable:</th>          <td>price</td>      <th>  R-squared:         </th>  <td>   0.493</td>  \n",
       "</tr>\n",
       "<tr>\n",
       "  <th>Model:</th>                   <td>OLS</td>       <th>  Adj. R-squared:    </th>  <td>   0.493</td>  \n",
       "</tr>\n",
       "<tr>\n",
       "  <th>Method:</th>             <td>Least Squares</td>  <th>  F-statistic:       </th>  <td>2.100e+04</td> \n",
       "</tr>\n",
       "<tr>\n",
       "  <th>Date:</th>             <td>Wed, 10 Jul 2024</td> <th>  Prob (F-statistic):</th>   <td>  0.00</td>   \n",
       "</tr>\n",
       "<tr>\n",
       "  <th>Time:</th>                 <td>13:43:15</td>     <th>  Log-Likelihood:    </th> <td>-3.0027e+05</td>\n",
       "</tr>\n",
       "<tr>\n",
       "  <th>No. Observations:</th>      <td> 21613</td>      <th>  AIC:               </th>  <td>6.005e+05</td> \n",
       "</tr>\n",
       "<tr>\n",
       "  <th>Df Residuals:</th>          <td> 21611</td>      <th>  BIC:               </th>  <td>6.006e+05</td> \n",
       "</tr>\n",
       "<tr>\n",
       "  <th>Df Model:</th>              <td>     1</td>      <th>                     </th>      <td> </td>     \n",
       "</tr>\n",
       "<tr>\n",
       "  <th>Covariance Type:</th>      <td>nonrobust</td>    <th>                     </th>      <td> </td>     \n",
       "</tr>\n",
       "</table>\n",
       "<table class=\"simpletable\">\n",
       "<tr>\n",
       "       <td></td>          <th>coef</th>     <th>std err</th>      <th>t</th>      <th>P>|t|</th>  <th>[0.025</th>    <th>0.975]</th>  \n",
       "</tr>\n",
       "<tr>\n",
       "  <th>Intercept</th>   <td>-4.358e+04</td> <td> 4402.690</td> <td>   -9.899</td> <td> 0.000</td> <td>-5.22e+04</td> <td> -3.5e+04</td>\n",
       "</tr>\n",
       "<tr>\n",
       "  <th>sqft_living</th> <td>  280.6236</td> <td>    1.936</td> <td>  144.920</td> <td> 0.000</td> <td>  276.828</td> <td>  284.419</td>\n",
       "</tr>\n",
       "</table>\n",
       "<table class=\"simpletable\">\n",
       "<tr>\n",
       "  <th>Omnibus:</th>       <td>14832.490</td> <th>  Durbin-Watson:     </th>  <td>   1.983</td> \n",
       "</tr>\n",
       "<tr>\n",
       "  <th>Prob(Omnibus):</th>  <td> 0.000</td>   <th>  Jarque-Bera (JB):  </th> <td>546444.713</td>\n",
       "</tr>\n",
       "<tr>\n",
       "  <th>Skew:</th>           <td> 2.824</td>   <th>  Prob(JB):          </th>  <td>    0.00</td> \n",
       "</tr>\n",
       "<tr>\n",
       "  <th>Kurtosis:</th>       <td>26.977</td>   <th>  Cond. No.          </th>  <td>5.63e+03</td> \n",
       "</tr>\n",
       "</table><br/><br/>Notes:<br/>[1] Standard Errors assume that the covariance matrix of the errors is correctly specified.<br/>[2] The condition number is large, 5.63e+03. This might indicate that there are<br/>strong multicollinearity or other numerical problems."
      ],
      "text/latex": [
       "\\begin{center}\n",
       "\\begin{tabular}{lclc}\n",
       "\\toprule\n",
       "\\textbf{Dep. Variable:}    &      price       & \\textbf{  R-squared:         } &      0.493   \\\\\n",
       "\\textbf{Model:}            &       OLS        & \\textbf{  Adj. R-squared:    } &      0.493   \\\\\n",
       "\\textbf{Method:}           &  Least Squares   & \\textbf{  F-statistic:       } &  2.100e+04   \\\\\n",
       "\\textbf{Date:}             & Wed, 10 Jul 2024 & \\textbf{  Prob (F-statistic):} &      0.00    \\\\\n",
       "\\textbf{Time:}             &     13:43:15     & \\textbf{  Log-Likelihood:    } & -3.0027e+05  \\\\\n",
       "\\textbf{No. Observations:} &       21613      & \\textbf{  AIC:               } &  6.005e+05   \\\\\n",
       "\\textbf{Df Residuals:}     &       21611      & \\textbf{  BIC:               } &  6.006e+05   \\\\\n",
       "\\textbf{Df Model:}         &           1      & \\textbf{                     } &              \\\\\n",
       "\\textbf{Covariance Type:}  &    nonrobust     & \\textbf{                     } &              \\\\\n",
       "\\bottomrule\n",
       "\\end{tabular}\n",
       "\\begin{tabular}{lcccccc}\n",
       "                      & \\textbf{coef} & \\textbf{std err} & \\textbf{t} & \\textbf{P$> |$t$|$} & \\textbf{[0.025} & \\textbf{0.975]}  \\\\\n",
       "\\midrule\n",
       "\\textbf{Intercept}    &   -4.358e+04  &     4402.690     &    -9.899  &         0.000        &    -5.22e+04    &     -3.5e+04     \\\\\n",
       "\\textbf{sqft\\_living} &     280.6236  &        1.936     &   144.920  &         0.000        &      276.828    &      284.419     \\\\\n",
       "\\bottomrule\n",
       "\\end{tabular}\n",
       "\\begin{tabular}{lclc}\n",
       "\\textbf{Omnibus:}       & 14832.490 & \\textbf{  Durbin-Watson:     } &     1.983   \\\\\n",
       "\\textbf{Prob(Omnibus):} &    0.000  & \\textbf{  Jarque-Bera (JB):  } & 546444.713  \\\\\n",
       "\\textbf{Skew:}          &    2.824  & \\textbf{  Prob(JB):          } &      0.00   \\\\\n",
       "\\textbf{Kurtosis:}      &   26.977  & \\textbf{  Cond. No.          } &  5.63e+03   \\\\\n",
       "\\bottomrule\n",
       "\\end{tabular}\n",
       "%\\caption{OLS Regression Results}\n",
       "\\end{center}\n",
       "\n",
       "Notes: \\newline\n",
       " [1] Standard Errors assume that the covariance matrix of the errors is correctly specified. \\newline\n",
       " [2] The condition number is large, 5.63e+03. This might indicate that there are \\newline\n",
       " strong multicollinearity or other numerical problems."
      ],
      "text/plain": [
       "<class 'statsmodels.iolib.summary.Summary'>\n",
       "\"\"\"\n",
       "                            OLS Regression Results                            \n",
       "==============================================================================\n",
       "Dep. Variable:                  price   R-squared:                       0.493\n",
       "Model:                            OLS   Adj. R-squared:                  0.493\n",
       "Method:                 Least Squares   F-statistic:                 2.100e+04\n",
       "Date:                Wed, 10 Jul 2024   Prob (F-statistic):               0.00\n",
       "Time:                        13:43:15   Log-Likelihood:            -3.0027e+05\n",
       "No. Observations:               21613   AIC:                         6.005e+05\n",
       "Df Residuals:                   21611   BIC:                         6.006e+05\n",
       "Df Model:                           1                                         \n",
       "Covariance Type:            nonrobust                                         \n",
       "===============================================================================\n",
       "                  coef    std err          t      P>|t|      [0.025      0.975]\n",
       "-------------------------------------------------------------------------------\n",
       "Intercept   -4.358e+04   4402.690     -9.899      0.000   -5.22e+04    -3.5e+04\n",
       "sqft_living   280.6236      1.936    144.920      0.000     276.828     284.419\n",
       "==============================================================================\n",
       "Omnibus:                    14832.490   Durbin-Watson:                   1.983\n",
       "Prob(Omnibus):                  0.000   Jarque-Bera (JB):           546444.713\n",
       "Skew:                           2.824   Prob(JB):                         0.00\n",
       "Kurtosis:                      26.977   Cond. No.                     5.63e+03\n",
       "==============================================================================\n",
       "\n",
       "Notes:\n",
       "[1] Standard Errors assume that the covariance matrix of the errors is correctly specified.\n",
       "[2] The condition number is large, 5.63e+03. This might indicate that there are\n",
       "strong multicollinearity or other numerical problems.\n",
       "\"\"\""
      ]
     },
     "execution_count": 1,
     "metadata": {},
     "output_type": "execute_result"
    }
   ],
   "source": [
    "import pandas as pd\n",
    "import numpy as np\n",
    "import statsmodels.api as sm\n",
    "import statsmodels.formula.api as smf\n",
    "\n",
    "pd.set_option(\"mode.copy_on_write\", True)\n",
    "\n",
    "home_prices = pd.read_csv(\"data/kc_house_data.csv\")\n",
    "price_and_footage_reg = smf.ols(\"price ~ sqft_living\", data=home_prices).fit()\n",
    "price_and_footage_reg.summary()"
   ]
  },
  {
   "cell_type": "markdown",
   "metadata": {},
   "source": [
    "Now, there's a lot in this table, but the *main* think to look at in the model are these two numbers:\n",
    "\n",
    "![Bivariate Regression with Coefficients Flagged](img/bivariate_regression_table.png)"
   ]
  },
  {
   "cell_type": "markdown",
   "metadata": {},
   "source": [
    "These are the estimates from the regression of the intercept ($\\alpha$ above) and the slope of our line of best fit ($\\beta$). These parameters of the model are generally referred to as *coefficients*, which is why the header above these numbers is `coef`. From this table, we can see that our model has an intercept of about -43,000 and a slope of 280.\n",
    "\n",
    "All of the other terms in this table are statistics that can be used to evaluate the statistical properties of the model — is it fitting the data well, how much is square footage contributing to price, etc. Most of these are important to understand in practice, but are beyond the scope of this introductory reading. \n",
    "\n",
    "If I plot the prices this model would predict for each home in our dataset in red (and plot it over the real data points in blue), you can see that we do indeed have what looks like a reasonable line of best fit (similar to what we see in the figure above). We can also see that the red line has a slope of about 280 — this isn't immediately obvious because each tick on the y-axis is 1,000,000 units (note the 1e6 at the top), while each tick on the x-axis is only 2,000, but if you pick a few points and to the math it works out. "
   ]
  },
  {
   "cell_type": "code",
   "execution_count": 2,
   "metadata": {},
   "outputs": [
    {
     "data": {
      "image/png": "[encoded data removed]",
      "text/plain": [
       "<Figure size 640x480 with 1 Axes>"
      ]
     },
     "metadata": {},
     "output_type": "display_data"
    }
   ],
   "source": [
    "# Get home prices predicted by the model\n",
    "predicted_price = price_and_footage_reg.predict(home_prices[\"sqft_living\"])\n",
    "\n",
    "# Plot predicted home prices\n",
    "import matplotlib.pyplot as plt\n",
    "\n",
    "fig, ax = plt.subplots()\n",
    "ax.scatter(home_prices[\"sqft_living\"], home_prices[\"price\"])\n",
    "ax.plot(home_prices[\"sqft_living\"], predicted_price, color=\"red\")\n",
    "ax.set_title(\"Square Footage and Home Prices\")\n",
    "ax.set_xlabel(\"House Size (m^2)\")\n",
    "ax.set_ylabel(\"Home Sale Price\")\n",
    "ax.grid(True)"
   ]
  },
  {
   "cell_type": "markdown",
   "metadata": {},
   "source": [
    "It's common for people new to regression to look at the intercept (here, -43,000 dollars) and say that's nuts — no house has a negative price. However, there are also no houses with 0 square footage, which means there are no actual houses at 0 or even too close to that point. Given that, the intercept in a regression like this is generally not something we interpret — it just provides the model with an extra parameter the model can use to best fit the data."
   ]
  },
  {
   "cell_type": "markdown",
   "metadata": {},
   "source": [
    "## Multivariate Regression\n",
    "\n",
    "Up until now, we've only looked at regressions in the context of two variables: one we're trying to understand (the \"dependent variable\") and one we think helps to explain variation in the first (our \"explanatory variable\"). But this doesn't really tell the whole story of linear regression. Indeed, what makes linear regressions powerful is not their ability to model the relationship between two variables but between a single dependent variable and an arbitrary number of explanatory variables that we think *jointly and simultaneously* explain the variation we observe in the dependent variable. For that reason, linear regression is also often called \"multiple regression.\"\n",
    "\n",
    "To illustrate, consider the example of home prices — while it's true that square footage is a major factor in a home's value, it's obviously not the only factor. In our dataset, we also have a variable called `condition`, which rates the condition of the house. Homes in desperate need of repairs have low `condition` values (the lowest value is a `1`), while homes in like-new condition have high values (up to `5`).\n",
    "\n",
    "With a multivariate regression, we can model home prices taking into account *both* the size of a home *and* its condition simultaneously:\n"
   ]
  },
  {
   "cell_type": "code",
   "execution_count": 28,
   "metadata": {},
   "outputs": [
    {
     "data": {
      "text/html": [
       "<table class=\"simpletable\">\n",
       "<caption>OLS Regression Results</caption>\n",
       "<tr>\n",
       "  <th>Dep. Variable:</th>          <td>price</td>      <th>  R-squared:         </th>  <td>   0.499</td>  \n",
       "</tr>\n",
       "<tr>\n",
       "  <th>Model:</th>                   <td>OLS</td>       <th>  Adj. R-squared:    </th>  <td>   0.499</td>  \n",
       "</tr>\n",
       "<tr>\n",
       "  <th>Method:</th>             <td>Least Squares</td>  <th>  F-statistic:       </th>  <td>1.076e+04</td> \n",
       "</tr>\n",
       "<tr>\n",
       "  <th>Date:</th>             <td>Wed, 10 Jul 2024</td> <th>  Prob (F-statistic):</th>   <td>  0.00</td>   \n",
       "</tr>\n",
       "<tr>\n",
       "  <th>Time:</th>                 <td>14:13:21</td>     <th>  Log-Likelihood:    </th> <td>-3.0014e+05</td>\n",
       "</tr>\n",
       "<tr>\n",
       "  <th>No. Observations:</th>      <td> 21613</td>      <th>  AIC:               </th>  <td>6.003e+05</td> \n",
       "</tr>\n",
       "<tr>\n",
       "  <th>Df Residuals:</th>          <td> 21610</td>      <th>  BIC:               </th>  <td>6.003e+05</td> \n",
       "</tr>\n",
       "<tr>\n",
       "  <th>Df Model:</th>              <td>     2</td>      <th>                     </th>      <td> </td>     \n",
       "</tr>\n",
       "<tr>\n",
       "  <th>Covariance Type:</th>      <td>nonrobust</td>    <th>                     </th>      <td> </td>     \n",
       "</tr>\n",
       "</table>\n",
       "<table class=\"simpletable\">\n",
       "<tr>\n",
       "       <td></td>          <th>coef</th>     <th>std err</th>      <th>t</th>      <th>P>|t|</th>  <th>[0.025</th>    <th>0.975]</th>  \n",
       "</tr>\n",
       "<tr>\n",
       "  <th>Intercept</th>   <td>-1.972e+05</td> <td> 1.05e+04</td> <td>  -18.829</td> <td> 0.000</td> <td>-2.18e+05</td> <td>-1.77e+05</td>\n",
       "</tr>\n",
       "<tr>\n",
       "  <th>sqft_living</th> <td>  282.4525</td> <td>    1.928</td> <td>  146.485</td> <td> 0.000</td> <td>  278.673</td> <td>  286.232</td>\n",
       "</tr>\n",
       "<tr>\n",
       "  <th>condition</th>   <td> 4.394e+04</td> <td> 2721.410</td> <td>   16.144</td> <td> 0.000</td> <td> 3.86e+04</td> <td> 4.93e+04</td>\n",
       "</tr>\n",
       "</table>\n",
       "<table class=\"simpletable\">\n",
       "<tr>\n",
       "  <th>Omnibus:</th>       <td>14863.109</td> <th>  Durbin-Watson:     </th>  <td>   0.921</td> \n",
       "</tr>\n",
       "<tr>\n",
       "  <th>Prob(Omnibus):</th>  <td> 0.000</td>   <th>  Jarque-Bera (JB):  </th> <td>557323.673</td>\n",
       "</tr>\n",
       "<tr>\n",
       "  <th>Skew:</th>           <td> 2.826</td>   <th>  Prob(JB):          </th>  <td>    0.00</td> \n",
       "</tr>\n",
       "<tr>\n",
       "  <th>Kurtosis:</th>       <td>27.227</td>   <th>  Cond. No.          </th>  <td>1.38e+04</td> \n",
       "</tr>\n",
       "</table><br/><br/>Notes:<br/>[1] Standard Errors assume that the covariance matrix of the errors is correctly specified.<br/>[2] The condition number is large, 1.38e+04. This might indicate that there are<br/>strong multicollinearity or other numerical problems."
      ],
      "text/latex": [
       "\\begin{center}\n",
       "\\begin{tabular}{lclc}\n",
       "\\toprule\n",
       "\\textbf{Dep. Variable:}    &      price       & \\textbf{  R-squared:         } &      0.499   \\\\\n",
       "\\textbf{Model:}            &       OLS        & \\textbf{  Adj. R-squared:    } &      0.499   \\\\\n",
       "\\textbf{Method:}           &  Least Squares   & \\textbf{  F-statistic:       } &  1.076e+04   \\\\\n",
       "\\textbf{Date:}             & Wed, 10 Jul 2024 & \\textbf{  Prob (F-statistic):} &      0.00    \\\\\n",
       "\\textbf{Time:}             &     14:13:21     & \\textbf{  Log-Likelihood:    } & -3.0014e+05  \\\\\n",
       "\\textbf{No. Observations:} &       21613      & \\textbf{  AIC:               } &  6.003e+05   \\\\\n",
       "\\textbf{Df Residuals:}     &       21610      & \\textbf{  BIC:               } &  6.003e+05   \\\\\n",
       "\\textbf{Df Model:}         &           2      & \\textbf{                     } &              \\\\\n",
       "\\textbf{Covariance Type:}  &    nonrobust     & \\textbf{                     } &              \\\\\n",
       "\\bottomrule\n",
       "\\end{tabular}\n",
       "\\begin{tabular}{lcccccc}\n",
       "                      & \\textbf{coef} & \\textbf{std err} & \\textbf{t} & \\textbf{P$> |$t$|$} & \\textbf{[0.025} & \\textbf{0.975]}  \\\\\n",
       "\\midrule\n",
       "\\textbf{Intercept}    &   -1.972e+05  &     1.05e+04     &   -18.829  &         0.000        &    -2.18e+05    &    -1.77e+05     \\\\\n",
       "\\textbf{sqft\\_living} &     282.4525  &        1.928     &   146.485  &         0.000        &      278.673    &      286.232     \\\\\n",
       "\\textbf{condition}    &    4.394e+04  &     2721.410     &    16.144  &         0.000        &     3.86e+04    &     4.93e+04     \\\\\n",
       "\\bottomrule\n",
       "\\end{tabular}\n",
       "\\begin{tabular}{lclc}\n",
       "\\textbf{Omnibus:}       & 14863.109 & \\textbf{  Durbin-Watson:     } &     0.921   \\\\\n",
       "\\textbf{Prob(Omnibus):} &    0.000  & \\textbf{  Jarque-Bera (JB):  } & 557323.673  \\\\\n",
       "\\textbf{Skew:}          &    2.826  & \\textbf{  Prob(JB):          } &      0.00   \\\\\n",
       "\\textbf{Kurtosis:}      &   27.227  & \\textbf{  Cond. No.          } &  1.38e+04   \\\\\n",
       "\\bottomrule\n",
       "\\end{tabular}\n",
       "%\\caption{OLS Regression Results}\n",
       "\\end{center}\n",
       "\n",
       "Notes: \\newline\n",
       " [1] Standard Errors assume that the covariance matrix of the errors is correctly specified. \\newline\n",
       " [2] The condition number is large, 1.38e+04. This might indicate that there are \\newline\n",
       " strong multicollinearity or other numerical problems."
      ],
      "text/plain": [
       "<class 'statsmodels.iolib.summary.Summary'>\n",
       "\"\"\"\n",
       "                            OLS Regression Results                            \n",
       "==============================================================================\n",
       "Dep. Variable:                  price   R-squared:                       0.499\n",
       "Model:                            OLS   Adj. R-squared:                  0.499\n",
       "Method:                 Least Squares   F-statistic:                 1.076e+04\n",
       "Date:                Wed, 10 Jul 2024   Prob (F-statistic):               0.00\n",
       "Time:                        14:13:21   Log-Likelihood:            -3.0014e+05\n",
       "No. Observations:               21613   AIC:                         6.003e+05\n",
       "Df Residuals:                   21610   BIC:                         6.003e+05\n",
       "Df Model:                           2                                         \n",
       "Covariance Type:            nonrobust                                         \n",
       "===============================================================================\n",
       "                  coef    std err          t      P>|t|      [0.025      0.975]\n",
       "-------------------------------------------------------------------------------\n",
       "Intercept   -1.972e+05   1.05e+04    -18.829      0.000   -2.18e+05   -1.77e+05\n",
       "sqft_living   282.4525      1.928    146.485      0.000     278.673     286.232\n",
       "condition    4.394e+04   2721.410     16.144      0.000    3.86e+04    4.93e+04\n",
       "==============================================================================\n",
       "Omnibus:                    14863.109   Durbin-Watson:                   0.921\n",
       "Prob(Omnibus):                  0.000   Jarque-Bera (JB):           557323.673\n",
       "Skew:                           2.826   Prob(JB):                         0.00\n",
       "Kurtosis:                      27.227   Cond. No.                     1.38e+04\n",
       "==============================================================================\n",
       "\n",
       "Notes:\n",
       "[1] Standard Errors assume that the covariance matrix of the errors is correctly specified.\n",
       "[2] The condition number is large, 1.38e+04. This might indicate that there are\n",
       "strong multicollinearity or other numerical problems.\n",
       "\"\"\""
      ]
     },
     "execution_count": 28,
     "metadata": {},
     "output_type": "execute_result"
    }
   ],
   "source": [
    "price_sqft_and_condition_reg = smf.ols(\n",
    "    \"price ~ sqft_living + condition\", data=home_prices\n",
    ").fit()\n",
    "price_sqft_and_condition_reg.summary()"
   ]
  },
  {
   "cell_type": "markdown",
   "metadata": {},
   "source": [
    "As we can see, the coefficient on `condition` is about 43,000, meaning that the model predicts that a one-point increase in a home's `condition` score (from a `1` to a `2`, or a `3` to a `4`, for example) would increase the value of the home by about 43,000 dollars. \n",
    "\n",
    "### A Line of Best Fit in Higher Dimensions\n",
    "\n",
    "How did it come by this number? The intuition for a multivariate regression remains the same as the intuition we developed when we only had one explanatory variable above — the model is picking parameters to minimize the sum of squared errors (the difference between the value the model predicts for our dependent variable, `price`, and the true value for each home in the data). With multivariate regressions, however, this relationship becomes harder to imagine because we are effectively working in higher dimensions. With two explanatory variables, for example, we're trying to draw a surface of best fit in a three-dimensional space (two explanatory variables plus the dependent variable). This is harder to picture, but not impossible, as illustrated below:"
   ]
  },
  {
   "cell_type": "markdown",
   "metadata": {},
   "source": [
    "[3-D plot about here]"
   ]
  },
  {
   "cell_type": "markdown",
   "metadata": {},
   "source": [
    "The logic is also the same for even more regressors, but visualization goes from \"hard\" to basically impossible, so you'll just have to trust me at that point!"
   ]
  },
  {
   "cell_type": "markdown",
   "metadata": {},
   "source": [
    "## Indicator Variables\n",
    "\n",
    "\n",
    "\n",
    "## Indicator Variables, Categorical Variables, and One-Hot Encoding\n",
    "\n",
    "The variables we used as explanatory variables above were all what are called *cardinal* variables. Cardinal variables are ones in which changes in the value of the variable have the same significance, regardless of the starting and end points. Moving from 100 to 101 square feet is the same as moving from 1,000 to 1,001 square feet, for example, and moving from `condition=1` to `condition=2` is *supposed* to have the same meaning as moving from `condition=4` to `condition=5`. \n",
    "\n",
    "But what do we do when we're dealing with variables for which this is not true? Suppose, for example, you are analyzing data on private sector income, and your data includes a variable for education. The variable has values `0`, `1`, `2`, and `3`. The documentation says the variable reports the highest level of education completed by the respondent, and that values of `0` are for respondents with \"less than a high school diploma,\" `1` is for respondents who graduated high school, `2` is for respondents who graduated college, and `3` is for respondents with a graduate degree. \n",
    "\n",
    "Clearly, there's no reason to think that going from not having a high school diploma to graduating high school (moving from `0` to `1`) would have the same effect on earnings as moving from being a high school graduate (`1`) to becoming a college graduate (`2`). \n",
    "\n",
    "But if we were to put this variable into a linear regression as a numeric variable with values 0, 1, 2, and 3, because we are estimating a single coefficient for the variable (the \"slope\" associated with the line of best fit, as it were), we are assuming the impact of each one unit change is the same, regardless of whether we're moving from 0 to 1, or 2 to 3. \n",
    "\n",
    "So how do we get around this?\n",
    "\n",
    "The answer is indicator variables: variables "
   ]
  },
  {
   "cell_type": "markdown",
   "metadata": {},
   "source": [
    "## Reading Regression Output"
   ]
  },
  {
   "cell_type": "markdown",
   "metadata": {},
   "source": [
    "## Want to Learn More?\n",
    "\n",
    "Great! Our colleague from the statistics department — Mine Çetinkaya-Rundel — has developed an entire course on linear regression and modeling that we think is terrific (and judging by the ratings the course has received, past students do too!). You can check it out here: [Linear Regression and Modeling](https://www.coursera.org/learn/linear-regression-model). The course uses R when they do actual coding, but the focus of the class is on how linear regression works and how results can be interpreted, which is the same whether you're using R, Python, or doing the matrix algebra on a napkin."
   ]
  }
 ],
 "metadata": {
  "kernelspec": {
   "display_name": "base",
   "language": "python",
   "name": "python3"
  },
  "language_info": {
   "codemirror_mode": {
    "name": "ipython",
    "version": 3
   },
   "file_extension": ".py",
   "mimetype": "text/x-python",
   "name": "python",
   "nbconvert_exporter": "python",
   "pygments_lexer": "ipython3",
   "version": "3.11.8"
  }
 },
 "nbformat": 4,
 "nbformat_minor": 2
}
