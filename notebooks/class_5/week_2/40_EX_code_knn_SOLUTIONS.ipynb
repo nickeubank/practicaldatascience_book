{
 "cells": [
  {
   "cell_type": "markdown",
   "metadata": {},
   "source": [
    "# Exercise: code your own KNN classifier"
   ]
  },
  {
   "cell_type": "markdown",
   "metadata": {},
   "source": [
    "Now it's your turn! Go ahead and complete the KNN classifier class below."
   ]
  },
  {
   "cell_type": "code",
   "execution_count": 107,
   "metadata": {},
   "outputs": [],
   "source": [
    "import numpy as np\n",
    "import pandas as pd\n",
    "\n",
    "class Knn:\n",
    "\n",
    "    def __init__(self):\n",
    "        \"\"\"\n",
    "        Initialize the Knn class\n",
    "        self.x_train: training data\n",
    "        self.y_train: training labels\n",
    "        \"\"\"\n",
    "        # Save the training data to properties of this class\n",
    "        self.x_train = []\n",
    "        self.y_train = []\n",
    "\n",
    "    def fit(self, x, y):\n",
    "        \"\"\"\n",
    "        Save the training data to properties of this class\n",
    "        Parameters\n",
    "        ----------\n",
    "        x: training data\n",
    "        y: training labels\n",
    "\n",
    "        Returns\n",
    "        -------\n",
    "        None\n",
    "        \"\"\"\n",
    "        self.x_train = x\n",
    "        self.y_train = y\n",
    "\n",
    "    def predict(self, x, k):\n",
    "        \"\"\"\n",
    "        Predict the class labels for the provided data\n",
    "        Parameters\n",
    "        ----------\n",
    "        x: data to classify\n",
    "        k: number of neighbors to use\n",
    "\n",
    "        Returns\n",
    "        -------\n",
    "        np.array(y_hat): array of predicted class labels\n",
    "        \"\"\"\n",
    "        y_hat = []  # Variable to store the estimated class label\n",
    "        # Calculate the distance from each vector in x to the training data\n",
    "        \n",
    "        # Calculate the distance between one observation and a list of observations\n",
    "        def get_distance(x,X):\n",
    "            diff = X - x\n",
    "            return np.sum(diff**2, axis=1)\n",
    "        \n",
    "        def get_nearest(dist,k,labels):\n",
    "            df_distance = pd.DataFrame({\n",
    "                'distance':dist, \n",
    "                'y':labels\n",
    "            })\n",
    "            df_sorted = df_distance.sort_values('distance')\n",
    "            return df_sorted['y'].iloc[0:k].values\n",
    "        \n",
    "        def get_most_frequent_class(labels):\n",
    "            label_series = pd.Series(labels)\n",
    "            df = label_series.value_counts()\n",
    "            max_value = df.max()\n",
    "            options = df[df==max_value].index.values\n",
    "            return np.random.choice(options) # If there's one option, return it; else, pick one at random\n",
    "        \n",
    "        for v in x:\n",
    "            distance = get_distance(v,self.x_train)\n",
    "            nearest = get_nearest(distance,k,np.squeeze(self.y_train))\n",
    "            class_estimate = get_most_frequent_class(nearest)\n",
    "            y_hat.append(class_estimate)\n",
    "\n",
    "        # Return the estimated targets\n",
    "        return np.array(y_hat)"
   ]
  },
  {
   "cell_type": "markdown",
   "metadata": {},
   "source": [
    "To test this out, you'll need to apply it to some data. You'll apply this to the iris data that we split previously. Let's start by loading our training and test data:"
   ]
  },
  {
   "cell_type": "code",
   "execution_count": 108,
   "metadata": {},
   "outputs": [],
   "source": [
    "# Solution\n",
    "\n",
    "import pandas as pd\n",
    "data_train = pd.read_csv(\"data/train.csv\")\n",
    "data_test = pd.read_csv(\"data/test.csv\")"
   ]
  },
  {
   "cell_type": "code",
   "execution_count": 109,
   "metadata": {},
   "outputs": [],
   "source": [
    "x_train = data_train[[\"SepalWidthCm\",\"PetalWidthCm\"]].values"
   ]
  },
  {
   "cell_type": "code",
   "execution_count": 110,
   "metadata": {},
   "outputs": [],
   "source": [
    "y_train = data_train[[\"Species\"]].values"
   ]
  },
  {
   "cell_type": "code",
   "execution_count": 116,
   "metadata": {},
   "outputs": [
    {
     "name": "stdout",
     "output_type": "stream",
     "text": [
      "[ True  True  True  True  True  True  True  True  True  True  True  True\n",
      "  True  True  True  True  True  True False  True  True  True  True  True\n",
      "  True  True  True  True  True  True  True  True  True  True  True  True\n",
      "  True  True  True  True  True  True  True  True  True]\n"
     ]
    }
   ],
   "source": [
    "# Initialize the KNN model\n",
    "myknn = Knn()\n",
    "\n",
    "# Train the model\n",
    "x_train = data_train[[\"SepalWidthCm\",\"PetalWidthCm\"]].values\n",
    "y_train = data_train[[\"Species\"]].values\n",
    "myknn.fit(x_train,y_train)\n",
    "\n",
    "# Make predictions on the test data\n",
    "k = 3\n",
    "x_test = data_test[[\"SepalWidthCm\",\"PetalWidthCm\"]].values\n",
    "y_hat = myknn.predict(x_test,k)\n",
    "\n",
    "# Compare your predictions to the labels from the test data to evaluate accuracy on held out data\n",
    "y_test = data_test[[\"Species\"]].values\n",
    "\n",
    "print(y_hat == np.squeeze(y_test))"
   ]
  },
  {
   "cell_type": "code",
   "execution_count": 112,
   "metadata": {},
   "outputs": [
    {
     "data": {
      "text/plain": [
       "(45,)"
      ]
     },
     "execution_count": 112,
     "metadata": {},
     "output_type": "execute_result"
    }
   ],
   "source": [
    "y_hat.shape"
   ]
  },
  {
   "cell_type": "code",
   "execution_count": 113,
   "metadata": {},
   "outputs": [
    {
     "data": {
      "text/plain": [
       "(45, 1)"
      ]
     },
     "execution_count": 113,
     "metadata": {},
     "output_type": "execute_result"
    }
   ],
   "source": [
    "y_test.shape"
   ]
  },
  {
   "cell_type": "code",
   "execution_count": 114,
   "metadata": {},
   "outputs": [
    {
     "data": {
      "text/plain": [
       "array(['Iris-versicolor', 'Iris-versicolor', 'Iris-versicolor',\n",
       "       'Iris-setosa', 'Iris-versicolor', 'Iris-versicolor', 'Iris-setosa',\n",
       "       'Iris-virginica', 'Iris-setosa', 'Iris-versicolor', 'Iris-setosa',\n",
       "       'Iris-setosa', 'Iris-versicolor', 'Iris-setosa', 'Iris-setosa',\n",
       "       'Iris-versicolor', 'Iris-virginica', 'Iris-setosa',\n",
       "       'Iris-versicolor', 'Iris-setosa', 'Iris-versicolor', 'Iris-setosa',\n",
       "       'Iris-versicolor', 'Iris-virginica', 'Iris-virginica',\n",
       "       'Iris-setosa', 'Iris-versicolor', 'Iris-setosa', 'Iris-virginica',\n",
       "       'Iris-virginica', 'Iris-versicolor', 'Iris-virginica',\n",
       "       'Iris-setosa', 'Iris-versicolor', 'Iris-virginica',\n",
       "       'Iris-versicolor', 'Iris-versicolor', 'Iris-setosa',\n",
       "       'Iris-virginica', 'Iris-setosa', 'Iris-versicolor',\n",
       "       'Iris-virginica', 'Iris-virginica', 'Iris-virginica',\n",
       "       'Iris-setosa'], dtype='<U15')"
      ]
     },
     "execution_count": 114,
     "metadata": {},
     "output_type": "execute_result"
    }
   ],
   "source": [
    "y_hat"
   ]
  },
  {
   "cell_type": "code",
   "execution_count": 115,
   "metadata": {},
   "outputs": [],
   "source": [
    "# def get_most_frequent_class(labels):\n",
    "#     label_series = pd.Series(labels)\n",
    "#     df = label_series.value_counts()\n",
    "#     max_value = df.max()\n",
    "#     options = df[df==max_value].index.values\n",
    "#     return np.random.choice(options) # If there's one option, return it; else, pick one at random\n",
    "    \n",
    "# labels = ['this','that','that','other','other']\n",
    "# out = get_most_frequent_class(labels)\n",
    "# out"
   ]
  }
 ],
 "metadata": {
  "kernelspec": {
   "display_name": "pds-book",
   "language": "python",
   "name": "python3"
  },
  "language_info": {
   "codemirror_mode": {
    "name": "ipython",
    "version": 3
   },
   "file_extension": ".py",
   "mimetype": "text/x-python",
   "name": "python",
   "nbconvert_exporter": "python",
   "pygments_lexer": "ipython3",
   "version": "3.12.0"
  }
 },
 "nbformat": 4,
 "nbformat_minor": 2
}
