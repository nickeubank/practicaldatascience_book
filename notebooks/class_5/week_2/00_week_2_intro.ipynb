{
 "cells": [
  {
   "cell_type": "markdown",
   "metadata": {
    "vscode": {
     "languageId": "plaintext"
    }
   },
   "source": [
    "# Using Code to Make Predictions from Data: Classification and Regression\n",
    "\n",
    "Data scientists often use code to make predictions from data and understand the relationship between variables in datasets. This week we will discuss two categories of prediction: classification (for discrete variables) and regression (for continuous variables) and you will code up your own algorithms to perform both classification and regression and apply them to data.\n",
    "\n",
    "## Goals of this week\n",
    "\n",
    "- Learn about the basics of classification and regression algorithms for prediction\n",
    "- Implement your own k-nearest-neighbors (KNN) classification and regression algorithm\n",
    "- Apply your prediction models to data and evaluate the performance of those models.\n",
    "\n",
    "## Difference between prediction and inference\n",
    "\n",
    "Before we dive into the details of prediction, it's important to clarify the difference between prediction and inference. You may have seen regression before, for example, in a context where the goal is to understand how certain input variables are related to an output variable and which have the strongest relationship. For example, imagine you are in the real estate industry and are evaluating whether the number of bedrooms, the age of the home, or the presence of a swimming pool is most informative for determining the sales price of the home. This is an inference problem. If instead you're interested in predicting the sales price of the home itself, then that would be a prediction problem.\n",
    "\n",
    "In this week, we'll focus on prediction. In a later week, we'll explore inference."
   ]
  }
 ],
 "metadata": {
  "language_info": {
   "name": "python"
  }
 },
 "nbformat": 4,
 "nbformat_minor": 2
}
