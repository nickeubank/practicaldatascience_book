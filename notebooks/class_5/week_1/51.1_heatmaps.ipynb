{
 "cells": [
  {
   "cell_type": "code",
   "execution_count": 10,
   "metadata": {},
   "outputs": [],
   "source": [
    "%config InlineBackend.figure_format = 'retina'"
   ]
  },
  {
   "cell_type": "markdown",
   "metadata": {},
   "source": [
    "# Heatmaps"
   ]
  },
  {
   "cell_type": "markdown",
   "metadata": {},
   "source": [
    "So far, we have dealt solely with one-dimensional data where we have $x$ and $y$ values. However, sometimes we have functions of two variables. For example, we might be able to predict the number of sales of a  location desirability of a home (a value between 1 and 5, where 5 is a beachfront property or similar) and the area within the home in square feet. Imagine this was a simple function where $y$ is the house price, $x_1$ is the age of the home, and $x_2$ is the total floor area in the home in square feet. Imagine that relationship is shown in the table below:\n",
    "\n",
    "| Location Desirability \\ Floor area [Sq. Feet] | 0-300 | 300-600 |600-900 | 900-2500 | >2500|\n",
    "| 1 | \n",
    "| 2 |\n",
    "| 3 |\n",
    "| 4 |\n",
    "| 5 |"
   ]
  }
 ],
 "metadata": {
  "kernelspec": {
   "display_name": "book",
   "language": "python",
   "name": "python3"
  },
  "language_info": {
   "codemirror_mode": {
    "name": "ipython",
    "version": 3
   },
   "file_extension": ".py",
   "mimetype": "text/x-python",
   "name": "python",
   "nbconvert_exporter": "python",
   "pygments_lexer": "ipython3",
   "version": "3.12.0"
  },
  "orig_nbformat": 4
 },
 "nbformat": 4,
 "nbformat_minor": 2
}
