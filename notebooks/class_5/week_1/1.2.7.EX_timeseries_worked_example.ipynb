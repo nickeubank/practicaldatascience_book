{
 "cells": [
  {
   "cell_type": "markdown",
   "metadata": {},
   "source": [
    "# Exercise: Creating a subplot of timeseries\n",
    "\n",
    "## Motivation\n",
    "\n",
    "There are many challenges in our modern world and we hope that data science is one tool that can be used to overcome societal challenges and inform decision for a better future. However, it's easy to get caught up in the day-to-day challenges of our world and miss the achievements of the past centuries that can inspire hope for how we can improve those areas of our world today that need attention. This theme has been explored by authors such as Hans Rosling who coauthored \"Factfulness: Ten Reasons We're Wrong About the World--and Why Things Are Better Than You Think\" and an article by Max Roser of [Our World in Data](https://ourworldindata.org/) titled, \"[The short history of global living conditions and why it matters that we know it](https://ourworldindata.org/a-history-of-global-living-conditions).\" These are inspiring examples of taking a data-driven, long-term view of societal progress. Let's create a data visualization based on the areas discussed in these works, in particular: child mortality, life expectancy, poverty, education, literacy, and the share of women in office.\n",
    "\n",
    "## Objective\n",
    "\n",
    "Your objective is explore some of these long-term trends. To do so, make 6 timeseries subplots, one each for each of the quantities described in the data section below.\n",
    "- Your plots should have x axis values ranging from 1820 to 2022\n",
    "- The size of your figure should be 10 inches high by 8 inches wide to accommodate all these plots\n",
    "- You should title each plot with the appropriate units:\n",
    "\n",
    "```\n",
    "titles= [\n",
    "    \"Children Surviving to Age 5 [%]\",\n",
    "    \"Life Expectancy [Years]\",\n",
    "    \"People living on more than ($5 a day) [%]\",\n",
    "    \"Literacy [%]\",\n",
    "    \"People with Some Education [%]\",\n",
    "    \"National Legislatures with >10% Women [%]\",\n",
    "]\n",
    "```\n",
    "\n",
    "Once you've made this figure, reflect on the data and how the world has changed over the past two centuries.\n",
    "\n",
    "## Data\n",
    "\n",
    "You'll be plotting a collection of timeseries datasets, each of which is described below and references for each are provided at the bottom of this page.\n",
    "\n",
    "- Child mortality\n",
    "- Life expectancy\n",
    "- Poverty\n",
    "- Education\n",
    "- Literacy\n",
    "- Women in office\n",
    "\n",
    "## Data Sources\n",
    "\n",
    "- **Child mortality**. United Nations Inter-agency Group for Child Mortality Estimation (2023); Gapminder based on UN IGME & UN WPP (2020) – processed by Our World in Data. “Share dying in first five years” [dataset]. Gapminder based on UN IGME & UN WPP, “Under-five Mortality v11” [original data]. [Link](https://ourworldindata.org/grapher/global-child-mortality-timeseries)\n",
    "- **Life expectancy**. UN WPP (2022); HMD (2023); Zijdeman et al. (2015); Riley (2005) – with minor processing by Our World in Data. “Life expectancy at birth – Various sources – period tables” [dataset]. Human Mortality Database, “Human Mortality Database”; United Nations, “World Population Prospects 2022”; United Nations, “World Population Prospects”; Zijdeman et al., “Life Expectancy at birth 2”; James C. Riley, “Estimates of Regional and Global Life Expectancy, 1800-2001” [original data]. [Link](https://ourworldindata.org/grapher/life-expectancy)\n",
    "- **Poverty**. Michalis Moatsos (2021) – with major processing by Our World in Data. “$1.90 a day - Number in poverty” [dataset]. Michalis Moatsos, “Global extreme poverty - Present and past since 1820” [original data]. [Link](https://ourworldindata.org/grapher/distribution-of-population-between-different-poverty-thresholds-historical)\n",
    "- **Education**. Wittgenstein Center (2023); World Bank (2023); van Zanden, J. et al. (2014) – with major processing by Our World in Data. “At least some basic education” [dataset]. Wittgenstein Center, “Wittgenstein Center Population and Human Capital Projections 2023-05-10”; World Bank, “World Bank Education Statistics (EdStats) 2023”; van Zanden, J. et al., “How Was Life? Global Well-being since 1820 - Education 2014” [original data]. [Link](https://ourworldindata.org/grapher/share-of-the-world-population-with-at-least-basic-education)\n",
    "- **Literacy**. World Bank (2023); van Zanden, J. et al. (2014) – with major processing by Our World in Data. “Illiterate” [dataset]. World Bank, “World Bank Education Statistics (EdStats) 2023”; van Zanden, J. et al., “How Was Life? Global Well-being since 1820 - Education 2014” [original data]. [Link](https://ourworldindata.org/grapher/literate-and-illiterate-world-population)\n",
    "- **Women in elected office**. V-Dem (2024) – processed by Our World in Data. “10 - 20% women” [dataset]. V-Dem, “V-Dem Country-Year (Full + Others) v14” [original data]. [Link](https://ourworldindata.org/grapher/countries-by-share-of-women-in-parliament)"
   ]
  }
 ],
 "metadata": {
  "kernelspec": {
   "display_name": "pds-book",
   "language": "python",
   "name": "python3"
  },
  "language_info": {
   "codemirror_mode": {
    "name": "ipython",
    "version": 3
   },
   "file_extension": ".py",
   "mimetype": "text/x-python",
   "name": "python",
   "nbconvert_exporter": "python",
   "pygments_lexer": "ipython3",
   "version": "3.12.0"
  }
 },
 "nbformat": 4,
 "nbformat_minor": 2
}
