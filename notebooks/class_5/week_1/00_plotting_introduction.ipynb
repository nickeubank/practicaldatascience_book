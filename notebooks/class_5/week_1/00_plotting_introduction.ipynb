{
 "cells": [
  {
   "cell_type": "markdown",
   "metadata": {},
   "source": [
    "# Introduction to programming for plotting\n",
    "\n",
    "Once you've mastered the basics of programming and are able to gather, process, and query data using code, the next step is to be able to derive insights from data. You've seen how to display tables of your data. Taking that to the next level, a vital skill for data science is to be able to display your data visually.\n",
    "\n",
    "## Why do we plot? Visual exploration, communication, and summarization\n",
    "\n",
    "TBD\n",
    "\n",
    "## Why do we plot programatically? \n",
    "\n",
    "You might wonder why, given great tools with graphical user interfaces (GUIs) like Excel and Tableau for being able to make data visualizations, why would we ever choose to create plots programmatically?\n",
    "\n",
    "There are several reasons:\n",
    "1. Customization. Tools like the ones we will introduce in this course, allow for nearly limitless customizations if you're willing to dive deep enough into the code. Tools like Excel and Tableau are not able to offer that degree of flexibility.\n",
    "2. Reproducibility. If you create a plot with the code, you can instantly regenerate that plot even if your data change. With other tools, the plot creation process requires that you repeat numerous steps. This can be a major time savor. Additionally, it allows others that you are working with or that you share your code with to also reproduce your plots, increasing the impact of the work.\n",
    "3. Automation and upscaling. If your plot is part of a process that that you will rerun regularly or that needs to be scaled up to larger datasets, having your plots created using code will enable easy integration into those pipelines unlike GUI-based tools.\n",
    "\n",
    "We start this course with an introduction to plotting programmatically so that you're then able to use those visualization skills for the other topics we will discuss: using code to make predictions and draw inferences from data, before pulling it all together into a final project applying your Python programming skills."
   ]
  }
 ],
 "metadata": {
  "language_info": {
   "name": "python"
  }
 },
 "nbformat": 4,
 "nbformat_minor": 2
}
