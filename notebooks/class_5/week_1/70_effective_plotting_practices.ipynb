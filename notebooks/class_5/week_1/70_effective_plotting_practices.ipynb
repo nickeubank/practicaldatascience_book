{
 "cells": [
  {
   "cell_type": "markdown",
   "metadata": {},
   "source": [
    "# Plotting best practices\n",
    "\n",
    "Plotting effectively is more than just displaying data accurately, it's communicating effectively. This is a learned skill and likely does not come intuitively to most. This section provides a set of general best practices to consider when plotting and some examples of those principles in action. We'll first discuss some overall goals to keep at the front of mind when plotting, then we'll discuss some recommended principles to follow when making a plot, and we'll end with some personal (opinionated) preferences and pet peeves for plotting.\n",
    "\n",
    "## Place your goal at the center of every plot\n",
    "\n",
    "1. **Focus on your goal**. Every plot should have a communicative purpose, and that purpose is typically either to inform or to persuade (although NEVER to mislead) through evidence. This means that every plot should have a message that it communicates. Be sure you know what message you want to convey and keep your focus on that message. If you're not able to identify your plot's message, neither will a viewer.\n",
    "2. **Know your audience**. You're communicating to people with lived experiences that may or may not include what you plan to show them with your plot. Target what you plot and how you plot it, annotate it, and caption it to reach your intended audience and accomplish your goal.\n",
    "3. **Make it professional**. Not every plot needs to be beautiful; but every plot that is shared with others should be sufficiently professional for that audience. If you're sharing some quick results with colleagues, the plot likely needs to be clean and readable; if you're sharing a plot publicly, you want that plot to be a reflection of the level of professionalism that went into the data within it. This also helps to build trust and credibility.\n",
    "\n",
    "## Best practices to follow when plotting\n",
    "\n",
    "The following practices are a combination of practices from our own community and from the numerous resources included in the reference section, especially Rougier et al.'s \"[Ten Simple Rules for Better Figures](https://journals.plos.org/ploscompbiol/article?id=10.1371/journal.pcbi.1003833).\"\n",
    "\n",
    "1. **Be honest**. Plots can be compelling forms of communication and it's easy to mislead. Make sure your data are accurate AND are accurately portrayed. Plotting should share information ethically and never seek to deceive or cover up truth.\n",
    "2. **Be aware of the human reading the chart: follow the science of visualization**. The human visual system is an incredible pattern detection system and can quickly interpret visual data. It can also be easily fooled into misreading information if faced with common illusions. For example, not using 0 as a baseline for bar charts (and many other forms of plots) can misrepresent the data in the chart. Follow the science of human perception as it relates to data visualization. We share several resources on this topic in the references.\n",
    "3. **\n",
    "- Use as little as you need to convey your message and no more\n",
    "- Eliminate chart junk\n",
    "- Use a colorblind-friendly palette"
   ]
  },
  {
   "cell_type": "code",
   "execution_count": 63,
   "metadata": {},
   "outputs": [],
   "source": [
    "%config InlineBackend.figure_format = 'retina'"
   ]
  },
  {
   "cell_type": "markdown",
   "metadata": {},
   "source": [
    "## References\n",
    "\n",
    "Ajani, K., Lee, E., Xiong, C., Knaflic, C.N., Kemper, W. and Franconeri, S., 2021. Declutter and focus: Empirically evaluating design guidelines for effective data communication. IEEE Transactions on Visualization and Computer Graphics, 28(10), pp.3351-3364.\n",
    "\n",
    "Cairo, A., 2016. The truthful art: Data, charts, and maps for communication. New Riders.\n",
    "\n",
    "Cairo, A., 2019. How charts lie: Getting smarter about visual information. WW Norton & Company.\n",
    "\n",
    "Franconeri, S.L., Padilla, L.M., Shah, P., Zacks, J.M. and Hullman, J., 2021. The science of visual data communication: What works. Psychological Science in the public interest, 22(3), pp.110-161.\n",
    "\n",
    "Rougier, N.P., Droettboom, M. and Bourne, P.E., 2014. Ten simple rules for better figures. PLoS computational biology, 10(9), p.e1003833."
   ]
  }
 ],
 "metadata": {
  "kernelspec": {
   "display_name": "book",
   "language": "python",
   "name": "python3"
  },
  "language_info": {
   "codemirror_mode": {
    "name": "ipython",
    "version": 3
   },
   "file_extension": ".py",
   "mimetype": "text/x-python",
   "name": "python",
   "nbconvert_exporter": "python",
   "pygments_lexer": "ipython3",
   "version": "3.11.4"
  },
  "orig_nbformat": 4
 },
 "nbformat": 4,
 "nbformat_minor": 2
}
