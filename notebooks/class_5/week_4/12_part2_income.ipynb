{
 "cells": [
  {
   "cell_type": "markdown",
   "metadata": {},
   "source": [
    "# Preparing the data: Income\n",
    "\n",
    "We're walking through our four datasets, processing one at a time:\n",
    "\n",
    "1. *Carbon dioxide emissions by country*\n",
    "2. **Income (as measured by GDP per capita) by country**\n",
    "3. Population by country (so we can convert CO2 emissions into per capita emissions)\n",
    "4. List of territories by continent (since we want to be able to group the countries by region of the world)"
   ]
  },
  {
   "cell_type": "markdown",
   "metadata": {},
   "source": [
    "Again, let's start by loading and viewing the first 10 rows of our data:"
   ]
  },
  {
   "cell_type": "code",
   "execution_count": 2,
   "metadata": {},
   "outputs": [
    {
     "data": {
      "text/html": [
       "<div>\n",
       "<style scoped>\n",
       "    .dataframe tbody tr th:only-of-type {\n",
       "        vertical-align: middle;\n",
       "    }\n",
       "\n",
       "    .dataframe tbody tr th {\n",
       "        vertical-align: top;\n",
       "    }\n",
       "\n",
       "    .dataframe thead th {\n",
       "        text-align: right;\n",
       "    }\n",
       "</style>\n",
       "<table border=\"1\" class=\"dataframe\">\n",
       "  <thead>\n",
       "    <tr style=\"text-align: right;\">\n",
       "      <th></th>\n",
       "      <th>country</th>\n",
       "      <th>1799</th>\n",
       "      <th>1800</th>\n",
       "      <th>1801</th>\n",
       "      <th>1802</th>\n",
       "      <th>1803</th>\n",
       "      <th>1804</th>\n",
       "      <th>1805</th>\n",
       "      <th>1806</th>\n",
       "      <th>1807</th>\n",
       "      <th>...</th>\n",
       "      <th>2040</th>\n",
       "      <th>2041</th>\n",
       "      <th>2042</th>\n",
       "      <th>2043</th>\n",
       "      <th>2044</th>\n",
       "      <th>2045</th>\n",
       "      <th>2046</th>\n",
       "      <th>2047</th>\n",
       "      <th>2048</th>\n",
       "      <th>2049</th>\n",
       "    </tr>\n",
       "  </thead>\n",
       "  <tbody>\n",
       "    <tr>\n",
       "      <th>0</th>\n",
       "      <td>Afghanistan</td>\n",
       "      <td>683</td>\n",
       "      <td>683</td>\n",
       "      <td>683</td>\n",
       "      <td>683</td>\n",
       "      <td>683</td>\n",
       "      <td>683</td>\n",
       "      <td>683</td>\n",
       "      <td>683</td>\n",
       "      <td>683</td>\n",
       "      <td>...</td>\n",
       "      <td>2690</td>\n",
       "      <td>2750</td>\n",
       "      <td>2810</td>\n",
       "      <td>2870</td>\n",
       "      <td>2930</td>\n",
       "      <td>2990</td>\n",
       "      <td>3060</td>\n",
       "      <td>3120</td>\n",
       "      <td>3190</td>\n",
       "      <td>3260</td>\n",
       "    </tr>\n",
       "    <tr>\n",
       "      <th>1</th>\n",
       "      <td>Angola</td>\n",
       "      <td>700</td>\n",
       "      <td>702</td>\n",
       "      <td>705</td>\n",
       "      <td>709</td>\n",
       "      <td>711</td>\n",
       "      <td>714</td>\n",
       "      <td>718</td>\n",
       "      <td>721</td>\n",
       "      <td>725</td>\n",
       "      <td>...</td>\n",
       "      <td>8000</td>\n",
       "      <td>8170</td>\n",
       "      <td>8350</td>\n",
       "      <td>8530</td>\n",
       "      <td>8710</td>\n",
       "      <td>8900</td>\n",
       "      <td>9090</td>\n",
       "      <td>9280</td>\n",
       "      <td>9480</td>\n",
       "      <td>9690</td>\n",
       "    </tr>\n",
       "    <tr>\n",
       "      <th>2</th>\n",
       "      <td>Albania</td>\n",
       "      <td>755</td>\n",
       "      <td>755</td>\n",
       "      <td>755</td>\n",
       "      <td>755</td>\n",
       "      <td>755</td>\n",
       "      <td>756</td>\n",
       "      <td>756</td>\n",
       "      <td>756</td>\n",
       "      <td>756</td>\n",
       "      <td>...</td>\n",
       "      <td>25.1k</td>\n",
       "      <td>25.6k</td>\n",
       "      <td>26.2k</td>\n",
       "      <td>26.7k</td>\n",
       "      <td>27.3k</td>\n",
       "      <td>27.9k</td>\n",
       "      <td>28.5k</td>\n",
       "      <td>29.1k</td>\n",
       "      <td>29.7k</td>\n",
       "      <td>30.4k</td>\n",
       "    </tr>\n",
       "    <tr>\n",
       "      <th>3</th>\n",
       "      <td>Andorra</td>\n",
       "      <td>1360</td>\n",
       "      <td>1360</td>\n",
       "      <td>1360</td>\n",
       "      <td>1360</td>\n",
       "      <td>1370</td>\n",
       "      <td>1370</td>\n",
       "      <td>1370</td>\n",
       "      <td>1370</td>\n",
       "      <td>1380</td>\n",
       "      <td>...</td>\n",
       "      <td>68.9k</td>\n",
       "      <td>70.4k</td>\n",
       "      <td>71.9k</td>\n",
       "      <td>73.4k</td>\n",
       "      <td>75k</td>\n",
       "      <td>76.6k</td>\n",
       "      <td>78.3k</td>\n",
       "      <td>80k</td>\n",
       "      <td>81.7k</td>\n",
       "      <td>83.4k</td>\n",
       "    </tr>\n",
       "    <tr>\n",
       "      <th>4</th>\n",
       "      <td>United Arab Emirates</td>\n",
       "      <td>1130</td>\n",
       "      <td>1130</td>\n",
       "      <td>1140</td>\n",
       "      <td>1140</td>\n",
       "      <td>1150</td>\n",
       "      <td>1150</td>\n",
       "      <td>1160</td>\n",
       "      <td>1160</td>\n",
       "      <td>1160</td>\n",
       "      <td>...</td>\n",
       "      <td>101k</td>\n",
       "      <td>103k</td>\n",
       "      <td>105k</td>\n",
       "      <td>107k</td>\n",
       "      <td>110k</td>\n",
       "      <td>112k</td>\n",
       "      <td>114k</td>\n",
       "      <td>117k</td>\n",
       "      <td>119k</td>\n",
       "      <td>122k</td>\n",
       "    </tr>\n",
       "    <tr>\n",
       "      <th>5</th>\n",
       "      <td>Argentina</td>\n",
       "      <td>1730</td>\n",
       "      <td>1730</td>\n",
       "      <td>1740</td>\n",
       "      <td>1740</td>\n",
       "      <td>1750</td>\n",
       "      <td>1760</td>\n",
       "      <td>1760</td>\n",
       "      <td>1770</td>\n",
       "      <td>1770</td>\n",
       "      <td>...</td>\n",
       "      <td>30.5k</td>\n",
       "      <td>31.1k</td>\n",
       "      <td>31.8k</td>\n",
       "      <td>32.5k</td>\n",
       "      <td>33.2k</td>\n",
       "      <td>33.9k</td>\n",
       "      <td>34.7k</td>\n",
       "      <td>35.4k</td>\n",
       "      <td>36.2k</td>\n",
       "      <td>36.9k</td>\n",
       "    </tr>\n",
       "    <tr>\n",
       "      <th>6</th>\n",
       "      <td>Armenia</td>\n",
       "      <td>582</td>\n",
       "      <td>582</td>\n",
       "      <td>582</td>\n",
       "      <td>582</td>\n",
       "      <td>582</td>\n",
       "      <td>582</td>\n",
       "      <td>582</td>\n",
       "      <td>582</td>\n",
       "      <td>582</td>\n",
       "      <td>...</td>\n",
       "      <td>24.7k</td>\n",
       "      <td>25.2k</td>\n",
       "      <td>25.8k</td>\n",
       "      <td>26.3k</td>\n",
       "      <td>26.9k</td>\n",
       "      <td>27.5k</td>\n",
       "      <td>28.1k</td>\n",
       "      <td>28.7k</td>\n",
       "      <td>29.3k</td>\n",
       "      <td>29.9k</td>\n",
       "    </tr>\n",
       "    <tr>\n",
       "      <th>7</th>\n",
       "      <td>Antigua and Barbuda</td>\n",
       "      <td>857</td>\n",
       "      <td>857</td>\n",
       "      <td>857</td>\n",
       "      <td>857</td>\n",
       "      <td>857</td>\n",
       "      <td>857</td>\n",
       "      <td>857</td>\n",
       "      <td>858</td>\n",
       "      <td>858</td>\n",
       "      <td>...</td>\n",
       "      <td>26.4k</td>\n",
       "      <td>27k</td>\n",
       "      <td>27.6k</td>\n",
       "      <td>28.1k</td>\n",
       "      <td>28.8k</td>\n",
       "      <td>29.4k</td>\n",
       "      <td>30k</td>\n",
       "      <td>30.7k</td>\n",
       "      <td>31.3k</td>\n",
       "      <td>32k</td>\n",
       "    </tr>\n",
       "    <tr>\n",
       "      <th>8</th>\n",
       "      <td>Australia</td>\n",
       "      <td>925</td>\n",
       "      <td>930</td>\n",
       "      <td>936</td>\n",
       "      <td>941</td>\n",
       "      <td>947</td>\n",
       "      <td>952</td>\n",
       "      <td>956</td>\n",
       "      <td>962</td>\n",
       "      <td>968</td>\n",
       "      <td>...</td>\n",
       "      <td>72k</td>\n",
       "      <td>73.5k</td>\n",
       "      <td>75.1k</td>\n",
       "      <td>76.7k</td>\n",
       "      <td>78.4k</td>\n",
       "      <td>80.1k</td>\n",
       "      <td>81.8k</td>\n",
       "      <td>83.5k</td>\n",
       "      <td>85.3k</td>\n",
       "      <td>87.2k</td>\n",
       "    </tr>\n",
       "    <tr>\n",
       "      <th>9</th>\n",
       "      <td>Austria</td>\n",
       "      <td>2090</td>\n",
       "      <td>2100</td>\n",
       "      <td>2110</td>\n",
       "      <td>2120</td>\n",
       "      <td>2130</td>\n",
       "      <td>2130</td>\n",
       "      <td>2140</td>\n",
       "      <td>2150</td>\n",
       "      <td>2160</td>\n",
       "      <td>...</td>\n",
       "      <td>77.8k</td>\n",
       "      <td>79.5k</td>\n",
       "      <td>81.2k</td>\n",
       "      <td>83k</td>\n",
       "      <td>84.7k</td>\n",
       "      <td>86.6k</td>\n",
       "      <td>88.4k</td>\n",
       "      <td>90.3k</td>\n",
       "      <td>92.3k</td>\n",
       "      <td>94.3k</td>\n",
       "    </tr>\n",
       "  </tbody>\n",
       "</table>\n",
       "<p>10 rows × 252 columns</p>\n",
       "</div>"
      ],
      "text/plain": [
       "                country  1799  1800  1801  1802  1803  1804  1805  1806  1807  \\\n",
       "0           Afghanistan   683   683   683   683   683   683   683   683   683   \n",
       "1                Angola   700   702   705   709   711   714   718   721   725   \n",
       "2               Albania   755   755   755   755   755   756   756   756   756   \n",
       "3               Andorra  1360  1360  1360  1360  1370  1370  1370  1370  1380   \n",
       "4  United Arab Emirates  1130  1130  1140  1140  1150  1150  1160  1160  1160   \n",
       "5             Argentina  1730  1730  1740  1740  1750  1760  1760  1770  1770   \n",
       "6               Armenia   582   582   582   582   582   582   582   582   582   \n",
       "7   Antigua and Barbuda   857   857   857   857   857   857   857   858   858   \n",
       "8             Australia   925   930   936   941   947   952   956   962   968   \n",
       "9               Austria  2090  2100  2110  2120  2130  2130  2140  2150  2160   \n",
       "\n",
       "   ...   2040   2041   2042   2043   2044   2045   2046   2047   2048   2049  \n",
       "0  ...   2690   2750   2810   2870   2930   2990   3060   3120   3190   3260  \n",
       "1  ...   8000   8170   8350   8530   8710   8900   9090   9280   9480   9690  \n",
       "2  ...  25.1k  25.6k  26.2k  26.7k  27.3k  27.9k  28.5k  29.1k  29.7k  30.4k  \n",
       "3  ...  68.9k  70.4k  71.9k  73.4k    75k  76.6k  78.3k    80k  81.7k  83.4k  \n",
       "4  ...   101k   103k   105k   107k   110k   112k   114k   117k   119k   122k  \n",
       "5  ...  30.5k  31.1k  31.8k  32.5k  33.2k  33.9k  34.7k  35.4k  36.2k  36.9k  \n",
       "6  ...  24.7k  25.2k  25.8k  26.3k  26.9k  27.5k  28.1k  28.7k  29.3k  29.9k  \n",
       "7  ...  26.4k    27k  27.6k  28.1k  28.8k  29.4k    30k  30.7k  31.3k    32k  \n",
       "8  ...    72k  73.5k  75.1k  76.7k  78.4k  80.1k  81.8k  83.5k  85.3k  87.2k  \n",
       "9  ...  77.8k  79.5k  81.2k    83k  84.7k  86.6k  88.4k  90.3k  92.3k  94.3k  \n",
       "\n",
       "[10 rows x 252 columns]"
      ]
     },
     "execution_count": 2,
     "metadata": {},
     "output_type": "execute_result"
    }
   ],
   "source": [
    "import pandas as pd\n",
    "\n",
    "income_all = pd.read_csv(\"data/income_per_person_gdppercapita_ppp_inflation_adjusted.csv\")\n",
    "income_all.head(10)"
   ]
  },
  {
   "cell_type": "markdown",
   "metadata": {},
   "source": [
    "As we look over the dataset here, we can see we have data that goes from 1799 through 2049. So clearly the later years are projections rather than measured data (unless the data providers have a time traveler on staff!).\n",
    "\n",
    "We know that we're only concerned with the year 2017 from our discussion of CO2 data, so let's extract the year 2017 and the country:"
   ]
  },
  {
   "cell_type": "code",
   "execution_count": 3,
   "metadata": {},
   "outputs": [
    {
     "data": {
      "text/html": [
       "<div>\n",
       "<style scoped>\n",
       "    .dataframe tbody tr th:only-of-type {\n",
       "        vertical-align: middle;\n",
       "    }\n",
       "\n",
       "    .dataframe tbody tr th {\n",
       "        vertical-align: top;\n",
       "    }\n",
       "\n",
       "    .dataframe thead th {\n",
       "        text-align: right;\n",
       "    }\n",
       "</style>\n",
       "<table border=\"1\" class=\"dataframe\">\n",
       "  <thead>\n",
       "    <tr style=\"text-align: right;\">\n",
       "      <th></th>\n",
       "      <th>country</th>\n",
       "      <th>2017</th>\n",
       "    </tr>\n",
       "  </thead>\n",
       "  <tbody>\n",
       "    <tr>\n",
       "      <th>0</th>\n",
       "      <td>Afghanistan</td>\n",
       "      <td>2030</td>\n",
       "    </tr>\n",
       "    <tr>\n",
       "      <th>1</th>\n",
       "      <td>Angola</td>\n",
       "      <td>6930</td>\n",
       "    </tr>\n",
       "    <tr>\n",
       "      <th>2</th>\n",
       "      <td>Albania</td>\n",
       "      <td>13.3k</td>\n",
       "    </tr>\n",
       "    <tr>\n",
       "      <th>3</th>\n",
       "      <td>Andorra</td>\n",
       "      <td>58.3k</td>\n",
       "    </tr>\n",
       "    <tr>\n",
       "      <th>4</th>\n",
       "      <td>United Arab Emirates</td>\n",
       "      <td>67k</td>\n",
       "    </tr>\n",
       "    <tr>\n",
       "      <th>...</th>\n",
       "      <td>...</td>\n",
       "      <td>...</td>\n",
       "    </tr>\n",
       "    <tr>\n",
       "      <th>190</th>\n",
       "      <td>Samoa</td>\n",
       "      <td>6390</td>\n",
       "    </tr>\n",
       "    <tr>\n",
       "      <th>191</th>\n",
       "      <td>Yemen</td>\n",
       "      <td>2660</td>\n",
       "    </tr>\n",
       "    <tr>\n",
       "      <th>192</th>\n",
       "      <td>South Africa</td>\n",
       "      <td>13.9k</td>\n",
       "    </tr>\n",
       "    <tr>\n",
       "      <th>193</th>\n",
       "      <td>Zambia</td>\n",
       "      <td>3520</td>\n",
       "    </tr>\n",
       "    <tr>\n",
       "      <th>194</th>\n",
       "      <td>Zimbabwe</td>\n",
       "      <td>3920</td>\n",
       "    </tr>\n",
       "  </tbody>\n",
       "</table>\n",
       "<p>195 rows × 2 columns</p>\n",
       "</div>"
      ],
      "text/plain": [
       "                  country   2017\n",
       "0             Afghanistan   2030\n",
       "1                  Angola   6930\n",
       "2                 Albania  13.3k\n",
       "3                 Andorra  58.3k\n",
       "4    United Arab Emirates    67k\n",
       "..                    ...    ...\n",
       "190                 Samoa   6390\n",
       "191                 Yemen   2660\n",
       "192          South Africa  13.9k\n",
       "193                Zambia   3520\n",
       "194              Zimbabwe   3920\n",
       "\n",
       "[195 rows x 2 columns]"
      ]
     },
     "execution_count": 3,
     "metadata": {},
     "output_type": "execute_result"
    }
   ],
   "source": [
    "income_2017 = income_all[[\"country\", \"2017\"]]\n",
    "income_2017"
   ]
  },
  {
   "cell_type": "markdown",
   "metadata": {},
   "source": [
    "\n",
    "But notice something odd here... Some of the values have the letter 'k' at the end of a number. While 'k' is the SI shorthand for a thousand units (representing \"kilo\"). But what is it doing in our dataset? Let's take a look at the data types in our data. We'd expect those to be numbers: floats or integers or something similar."
   ]
  },
  {
   "cell_type": "code",
   "execution_count": 4,
   "metadata": {},
   "outputs": [
    {
     "data": {
      "text/plain": [
       "country    object\n",
       "2017       object\n",
       "dtype: object"
      ]
     },
     "execution_count": 4,
     "metadata": {},
     "output_type": "execute_result"
    }
   ],
   "source": [
    "income_2017.dtypes"
   ]
  },
  {
   "cell_type": "markdown",
   "metadata": {},
   "source": [
    "OK, the data from 2017 are objects, not floats or integers, just like the column for 'country'. Let's take a look at one of the entries in 2017 and see what's going on with the data there."
   ]
  },
  {
   "cell_type": "code",
   "execution_count": 5,
   "metadata": {},
   "outputs": [
    {
     "data": {
      "text/plain": [
       "'2030'"
      ]
     },
     "execution_count": 5,
     "metadata": {},
     "output_type": "execute_result"
    }
   ],
   "source": [
    "first_entry = income_2017[\"2017\"][0]\n",
    "first_entry"
   ]
  },
  {
   "cell_type": "code",
   "execution_count": 6,
   "metadata": {},
   "outputs": [
    {
     "data": {
      "text/plain": [
       "str"
      ]
     },
     "execution_count": 6,
     "metadata": {},
     "output_type": "execute_result"
    }
   ],
   "source": [
    "type(first_entry)"
   ]
  },
  {
   "cell_type": "markdown",
   "metadata": {},
   "source": [
    "It's a string! It's not a number. The authors of the data represented the number 12,000 as the string '12k' instead. We need to correct this since all data that we plot will need to be numerical.\n",
    "\n",
    "For each value, we'll need to read in the string - if there are no letters in the entry, we just need to convert it to a number. If there is a letter k in it, we need to remove that letter and THEN convert the rest into a number and multiply it by 1,000. Let's create a function that does that:"
   ]
  },
  {
   "cell_type": "markdown",
   "metadata": {},
   "source": [
    "We'll write a function that takes a string as input and outputs the correct numerical representation of the number as a float. That is, if the input is '20' then the output should be the number 20.0; if the input is '20k' then the output should be the number 20000.0"
   ]
  },
  {
   "cell_type": "code",
   "execution_count": 7,
   "metadata": {},
   "outputs": [
    {
     "name": "stdout",
     "output_type": "stream",
     "text": [
      "2.0\n",
      "2000.0\n"
     ]
    }
   ],
   "source": [
    "def string2num(string):\n",
    "    if \"k\" in string:\n",
    "        number = float(string[:-1]) * 1000\n",
    "    else:\n",
    "        number = float(string)\n",
    "    return number\n",
    "\n",
    "\n",
    "print(string2num(\"2\"))\n",
    "print(string2num(\"2k\"))"
   ]
  },
  {
   "cell_type": "markdown",
   "metadata": {},
   "source": [
    "Now let's apply our function to our data for each entry in 2017. But before we do, let's make a copy of our data so we don't edit the original (`deep = True`) ensures all the data are a copy rather than a view):"
   ]
  },
  {
   "cell_type": "code",
   "execution_count": 8,
   "metadata": {},
   "outputs": [],
   "source": [
    "income = income_2017.copy(deep=True)"
   ]
  },
  {
   "cell_type": "markdown",
   "metadata": {},
   "source": [
    "We can use the `pandas` method `apply()` to apply our `string2num` function to *each entry* in our '2017' column:"
   ]
  },
  {
   "cell_type": "code",
   "execution_count": 9,
   "metadata": {},
   "outputs": [
    {
     "data": {
      "text/html": [
       "<div>\n",
       "<style scoped>\n",
       "    .dataframe tbody tr th:only-of-type {\n",
       "        vertical-align: middle;\n",
       "    }\n",
       "\n",
       "    .dataframe tbody tr th {\n",
       "        vertical-align: top;\n",
       "    }\n",
       "\n",
       "    .dataframe thead th {\n",
       "        text-align: right;\n",
       "    }\n",
       "</style>\n",
       "<table border=\"1\" class=\"dataframe\">\n",
       "  <thead>\n",
       "    <tr style=\"text-align: right;\">\n",
       "      <th></th>\n",
       "      <th>country</th>\n",
       "      <th>2017</th>\n",
       "    </tr>\n",
       "  </thead>\n",
       "  <tbody>\n",
       "    <tr>\n",
       "      <th>0</th>\n",
       "      <td>Afghanistan</td>\n",
       "      <td>2030.0</td>\n",
       "    </tr>\n",
       "    <tr>\n",
       "      <th>1</th>\n",
       "      <td>Angola</td>\n",
       "      <td>6930.0</td>\n",
       "    </tr>\n",
       "    <tr>\n",
       "      <th>2</th>\n",
       "      <td>Albania</td>\n",
       "      <td>13300.0</td>\n",
       "    </tr>\n",
       "    <tr>\n",
       "      <th>3</th>\n",
       "      <td>Andorra</td>\n",
       "      <td>58300.0</td>\n",
       "    </tr>\n",
       "    <tr>\n",
       "      <th>4</th>\n",
       "      <td>United Arab Emirates</td>\n",
       "      <td>67000.0</td>\n",
       "    </tr>\n",
       "    <tr>\n",
       "      <th>...</th>\n",
       "      <td>...</td>\n",
       "      <td>...</td>\n",
       "    </tr>\n",
       "    <tr>\n",
       "      <th>190</th>\n",
       "      <td>Samoa</td>\n",
       "      <td>6390.0</td>\n",
       "    </tr>\n",
       "    <tr>\n",
       "      <th>191</th>\n",
       "      <td>Yemen</td>\n",
       "      <td>2660.0</td>\n",
       "    </tr>\n",
       "    <tr>\n",
       "      <th>192</th>\n",
       "      <td>South Africa</td>\n",
       "      <td>13900.0</td>\n",
       "    </tr>\n",
       "    <tr>\n",
       "      <th>193</th>\n",
       "      <td>Zambia</td>\n",
       "      <td>3520.0</td>\n",
       "    </tr>\n",
       "    <tr>\n",
       "      <th>194</th>\n",
       "      <td>Zimbabwe</td>\n",
       "      <td>3920.0</td>\n",
       "    </tr>\n",
       "  </tbody>\n",
       "</table>\n",
       "<p>195 rows × 2 columns</p>\n",
       "</div>"
      ],
      "text/plain": [
       "                  country     2017\n",
       "0             Afghanistan   2030.0\n",
       "1                  Angola   6930.0\n",
       "2                 Albania  13300.0\n",
       "3                 Andorra  58300.0\n",
       "4    United Arab Emirates  67000.0\n",
       "..                    ...      ...\n",
       "190                 Samoa   6390.0\n",
       "191                 Yemen   2660.0\n",
       "192          South Africa  13900.0\n",
       "193                Zambia   3520.0\n",
       "194              Zimbabwe   3920.0\n",
       "\n",
       "[195 rows x 2 columns]"
      ]
     },
     "execution_count": 9,
     "metadata": {},
     "output_type": "execute_result"
    }
   ],
   "source": [
    "income[\"2017\"] = income_2017[\"2017\"].apply(string2num)\n",
    "income"
   ]
  },
  {
   "cell_type": "markdown",
   "metadata": {},
   "source": [
    "While it looks like we have successfully converted the strings to floats, let's look at our data types again to ensure we fixed the issue:"
   ]
  },
  {
   "cell_type": "code",
   "execution_count": 10,
   "metadata": {},
   "outputs": [
    {
     "data": {
      "text/plain": [
       "country     object\n",
       "2017       float64\n",
       "dtype: object"
      ]
     },
     "execution_count": 10,
     "metadata": {},
     "output_type": "execute_result"
    }
   ],
   "source": [
    "income.dtypes"
   ]
  },
  {
   "cell_type": "markdown",
   "metadata": {},
   "source": [
    "Great! We have a column of floats now, so it looks like our fix worked. Let's make one more check to see whether there are any `NaN` values introduced - we want to avoid introducing anything like that into the mix:"
   ]
  },
  {
   "cell_type": "code",
   "execution_count": 11,
   "metadata": {},
   "outputs": [
    {
     "data": {
      "text/plain": [
       "False"
      ]
     },
     "execution_count": 11,
     "metadata": {},
     "output_type": "execute_result"
    }
   ],
   "source": [
    "income[\"2017\"].isna().values.any()"
   ]
  },
  {
   "cell_type": "markdown",
   "metadata": {},
   "source": [
    "No `NaN` values - so we're all set! \n",
    "\n",
    "And as our last step, let's also rename the column header from '2017' to 'income', similar to what we did with `co2` above, so that its content is clear and it will be ready to be merged together after we've loaded each of our four datasets."
   ]
  },
  {
   "cell_type": "code",
   "execution_count": 12,
   "metadata": {},
   "outputs": [
    {
     "data": {
      "text/html": [
       "<div>\n",
       "<style scoped>\n",
       "    .dataframe tbody tr th:only-of-type {\n",
       "        vertical-align: middle;\n",
       "    }\n",
       "\n",
       "    .dataframe tbody tr th {\n",
       "        vertical-align: top;\n",
       "    }\n",
       "\n",
       "    .dataframe thead th {\n",
       "        text-align: right;\n",
       "    }\n",
       "</style>\n",
       "<table border=\"1\" class=\"dataframe\">\n",
       "  <thead>\n",
       "    <tr style=\"text-align: right;\">\n",
       "      <th></th>\n",
       "      <th>country</th>\n",
       "      <th>income</th>\n",
       "    </tr>\n",
       "  </thead>\n",
       "  <tbody>\n",
       "    <tr>\n",
       "      <th>0</th>\n",
       "      <td>Afghanistan</td>\n",
       "      <td>2030.0</td>\n",
       "    </tr>\n",
       "    <tr>\n",
       "      <th>1</th>\n",
       "      <td>Angola</td>\n",
       "      <td>6930.0</td>\n",
       "    </tr>\n",
       "    <tr>\n",
       "      <th>2</th>\n",
       "      <td>Albania</td>\n",
       "      <td>13300.0</td>\n",
       "    </tr>\n",
       "    <tr>\n",
       "      <th>3</th>\n",
       "      <td>Andorra</td>\n",
       "      <td>58300.0</td>\n",
       "    </tr>\n",
       "    <tr>\n",
       "      <th>4</th>\n",
       "      <td>United Arab Emirates</td>\n",
       "      <td>67000.0</td>\n",
       "    </tr>\n",
       "    <tr>\n",
       "      <th>...</th>\n",
       "      <td>...</td>\n",
       "      <td>...</td>\n",
       "    </tr>\n",
       "    <tr>\n",
       "      <th>190</th>\n",
       "      <td>Samoa</td>\n",
       "      <td>6390.0</td>\n",
       "    </tr>\n",
       "    <tr>\n",
       "      <th>191</th>\n",
       "      <td>Yemen</td>\n",
       "      <td>2660.0</td>\n",
       "    </tr>\n",
       "    <tr>\n",
       "      <th>192</th>\n",
       "      <td>South Africa</td>\n",
       "      <td>13900.0</td>\n",
       "    </tr>\n",
       "    <tr>\n",
       "      <th>193</th>\n",
       "      <td>Zambia</td>\n",
       "      <td>3520.0</td>\n",
       "    </tr>\n",
       "    <tr>\n",
       "      <th>194</th>\n",
       "      <td>Zimbabwe</td>\n",
       "      <td>3920.0</td>\n",
       "    </tr>\n",
       "  </tbody>\n",
       "</table>\n",
       "<p>195 rows × 2 columns</p>\n",
       "</div>"
      ],
      "text/plain": [
       "                  country   income\n",
       "0             Afghanistan   2030.0\n",
       "1                  Angola   6930.0\n",
       "2                 Albania  13300.0\n",
       "3                 Andorra  58300.0\n",
       "4    United Arab Emirates  67000.0\n",
       "..                    ...      ...\n",
       "190                 Samoa   6390.0\n",
       "191                 Yemen   2660.0\n",
       "192          South Africa  13900.0\n",
       "193                Zambia   3520.0\n",
       "194              Zimbabwe   3920.0\n",
       "\n",
       "[195 rows x 2 columns]"
      ]
     },
     "execution_count": 12,
     "metadata": {},
     "output_type": "execute_result"
    }
   ],
   "source": [
    "income = income.rename(columns={\"2017\": \"income\"})\n",
    "income"
   ]
  },
  {
   "cell_type": "markdown",
   "metadata": {},
   "source": [
    "Great - this looks ready to go! Let's save this to file."
   ]
  },
  {
   "cell_type": "code",
   "execution_count": 13,
   "metadata": {},
   "outputs": [],
   "source": [
    "income.to_csv('data/intermediate/income.csv', index=False)"
   ]
  },
  {
   "cell_type": "markdown",
   "metadata": {},
   "source": [
    "Wonderful! With that complete, let's again collect our steps and various functions into a single function that we can run for reproducibility:"
   ]
  },
  {
   "cell_type": "code",
   "execution_count": null,
   "metadata": {},
   "outputs": [],
   "source": [
    "import pandas as pd\n",
    "\n",
    "# Function to process income data\n",
    "def process_income(infile,outfile):\n",
    "    # Helper function to convert string data within the file into numerical data\n",
    "    def string2num(string):\n",
    "        if \"k\" in string:\n",
    "            number = float(string[:-1]) * 1000\n",
    "        else:\n",
    "            number = float(string)\n",
    "        return number\n",
    "    \n",
    "    # Read the file, select the columns of interest\n",
    "    income_all = pd.read_csv(infile)\n",
    "    income_2017 = income_all[[\"country\", \"2017\"]]\n",
    "    \n",
    "    # Convert the textual data in the dataset into numerical data\n",
    "    income = income_2017.copy(deep=True)\n",
    "    income[\"2017\"] = income_2017[\"2017\"].apply(string2num)\n",
    "    \n",
    "    # Rename the columns to make them more readable and save the output to file\n",
    "    income = income.rename(columns={\"2017\": \"income\"})\n",
    "    income.to_csv(outfile, index=False)\n",
    "\n",
    "# Test and make sure the file produces identical output as the original process:\n",
    "raw_income_file = \"data/income_per_person_gdppercapita_ppp_inflation_adjusted.csv\"\n",
    "income_file = \"data/intermediate/income.csv\"\n",
    "process_income(raw_income_file,income_file)"
   ]
  },
  {
   "cell_type": "markdown",
   "metadata": {},
   "source": [
    "With both CO2 and income data prepared, population is next!"
   ]
  }
 ],
 "metadata": {
  "kernelspec": {
   "display_name": "Python 3.10.2 ('ds')",
   "language": "python",
   "name": "python3"
  },
  "language_info": {
   "codemirror_mode": {
    "name": "ipython",
    "version": 3
   },
   "file_extension": ".py",
   "mimetype": "text/x-python",
   "name": "python",
   "nbconvert_exporter": "python",
   "pygments_lexer": "ipython3",
   "version": "3.12.0"
  },
  "orig_nbformat": 4,
  "vscode": {
   "interpreter": {
    "hash": "b9e56a7b23b1fac2eea1a993b805ed5c611aea1439c1f46315b23590ab6d3ba0"
   }
  }
 },
 "nbformat": 4,
 "nbformat_minor": 2
}
