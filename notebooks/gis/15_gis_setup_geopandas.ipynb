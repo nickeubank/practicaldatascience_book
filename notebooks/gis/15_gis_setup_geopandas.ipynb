{
    "cells": [
        {
            "cell_type": "markdown",
            "metadata": {},
            "source": [
                "# Installing Geopandas"
            ]
        },
        {
            "cell_type": "markdown",
            "metadata": {},
            "source": [
                "Early in Practical Data Science, we told you that many data scientists install and manage packages using `conda` where possible rather than using tools like `pip`, `uv`, `pyenv`, etc. One of the main reasons is that data scientists often need to install lots of complex, non-Python dependencies, and `conda` does that better than lighter/faster tools like `uv`. Well, geospatial analysis is a perfect example of where `conda` shines.\n",
                "\n",
                "In this class, we'll be focused on geopandas (for vector data) and rasterio (for raster data). Behind the scenes, though, both of these libraries are mostly wrappers around a set of geospatial libraries that are used **everywhere** in the GIS world. Whether you're talking about `geopandas`, `rasterio` or stand-alone GIS tools like QGIS, all the computational heavy lifting these programs do is done by a small number of C++ and fortran libraries managed by the [OSGeo organization](https://www.osgeo.org/): [GDAL](https://www.osgeo.org/projects/gdal/) (for reading and transforming data, once upon a time called `OGR`), [GEOS](https://www.osgeo.org/projects/geos/) for geometric operations (e.g. creating unions or intersections of polygons), and [PROJ](https://www.osgeo.org/projects/proj/) for managing coordinate reference systems.\n",
                "\n",
                "As a result, to use geopandas, we have to load LOTS of little C++ dependencies that very often fail to work correctly. In fact, even if you install with `conda` you can run into issues if you already have lots of other packages installed. So not only will we use `conda` to install these libraries, but we will also use its \"environment management\" functionality to put these installations in a clean environment we'll just use for GIS.\n",
                "\n",
                "## conda Environments\n",
                "\n",
                "It's extremely common in software engineering and data science to need different sets of packages (and potentially different versions of Python) for different projects. To make this easier, conda is capable of creating isolated \"environments\", each with their own version of Python and related packages.\n",
                "\n",
                "### Create a New Environment\n",
                "\n",
                "To create a new environment, simply run the following code:\n",
                "\n",
                "```bash\n",
                "conda create -n geo\n",
                "```\n",
                "\n",
                "This will create a new environment and install Python and a couple other standard tools. If you want to specify the version of Python being installed, you can also write something like:\n",
                "\n",
                "```bash\n",
                "\n",
                "conda create -n geo python=3.12\n",
                "\n",
                "```\n",
                "\n",
                "To use an environment, you first have to \"activate\" it. When you create the environment, conda will also give you directions about how to activate it. On a mac, this looks like:\n",
                "\n",
                "```bash\n",
                "#\n",
                "# To activate this environment, use\n",
                "#\n",
                "#     $ conda activate geo\n",
                "#\n",
                "# To deactivate an active environment, use\n",
                "#\n",
                "#     $ conda deactivate\n",
                "```\n",
                "\n",
                "How to activate an environment, do you as conda instructs! If you're using [Oh-My-Zsh!](setup_commandline_mac.ipynb), then you will also see your current environment reported from the command line:\n",
                "\n",
                "![conda_activated](images/conda_activated.png)\n",
                "\n",
                "\n",
                "(And now you know what that `(base)` that's always been at the beginning of your commandline meant! It was telling you that you are in your base conda environment).\n",
                "\n",
                "Once you run that activate command, anything you run from this terminal (including a session of jupyter if you launch it from this command line right now) will be running the Python installation in that environment.\n"
            ]
        },
        {
            "cell_type": "markdown",
            "id": "efb08458",
            "metadata": {},
            "source": [
                "\n",
                "### Install Packages\n",
                "\n",
                "But because this environment is isolated, none of the packages you had installed in your base environment are accessible anymore, so the first thing you need to do is install whatever packages you need. For what working to be doing with geopandas, I recommend the following:\n",
                "\n",
                "```bash\n",
                "conda install -c conda-forge geopandas matplotlib jupyter \n",
                "```\n",
                "\n",
                "(If you use miniforge, you don't need to explicitly specify the conda-forge channel with `-c conda-forge`).\n",
                "\n",
                "Also, you can actually do most of this during your first environment setup if you want, though that final pip install you'll still have to do after activating the environment. \n",
                "\n",
                "```bash\n",
                "conda create -n geo -c conda-forge geopandas matplotlib jupyter python=3.12\n",
                "```\n",
                "\n",
                "## Using Your Environment\n",
                "\n",
                "For a tool like VS Code, you have to specify the Python installation you want to use explicitly. For regular Python sessions, just click the Python interpreter icon in the bottom bar:\n",
                "\n",
                "![select_interpreter_button](images/select_interpreter_button.png)\n",
                "\n",
                "\n",
                "Then select the version of Python associated with the environment you just created:\n",
                "\n",
                "![conda_env_vscode_regular](images/conda_env_vscode_regular.png)\n",
                "\n",
                "And for Jupyter sessions in VS Code, click on the \"Select Kernel\" button and you should see an installation (if you installed Jupyter) associated with the environment you want:\n",
                "\n",
                "![conda_env_vscode_jupyter](images/jupyter_select_kernel.png)\n",
                "\n",
                "**Note that if you DONT see your geo environment, quit VS Code and re-open it and try again!**"
            ]
        },
        {
            "cell_type": "markdown",
            "id": "7e1f0cc7",
            "metadata": {},
            "source": []
        }
    ],
    "metadata": {
        "interpreter": {
            "hash": "f06fa9c80cc08d4d343f66ad24a278ad0285590eac640a80c32c9d748f33a802"
        },
        "kernelspec": {
            "display_name": "Python 3.9.1 64-bit ('base': conda)",
            "name": "python3"
        },
        "language_info": {
            "name": "python",
            "version": ""
        },
        "orig_nbformat": 4
    },
    "nbformat": 4,
    "nbformat_minor": 5
}
