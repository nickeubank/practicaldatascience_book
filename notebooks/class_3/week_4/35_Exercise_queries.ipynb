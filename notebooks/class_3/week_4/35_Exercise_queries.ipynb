{
 "cells": [
  {
   "cell_type": "markdown",
   "metadata": {},
   "source": [
    "# Exercise: queries into the state of electricity production and CO2 emissions in the United States"
   ]
  },
  {
   "cell_type": "markdown",
   "metadata": {},
   "source": [
    "In data science, we often need to have a sense of the idiosyncrasies of the data, how they relate to the questions we are trying to answer, and to use that information to help us to determine what approach, such as machine learning, we may need to apply to achieve our goal. This exercise provides practice in exploring a dataset and answering question that might arise from applications related to the data.\n",
    "\n",
    "**Data**. The data for this problem can be found in the `data` folder. The filename is `egrid2016.xlsx`. This dataset is the U.S. Environmental Protection Agency's (EPA) [Emissions & Generation Resource Integrated Database (eGRID)](https://www.epa.gov/energy/emissions-generation-resource-integrated-database-egrid) containing information about all power plants in the United States, the amount of electricity they generate, what fuel they use, emissions produced, the location of the plant, and many more quantities. We'll be using a subset of those data.\n",
    "\n",
    "The fields we'll be using include:\t\t\t\t\t\n",
    "    \n",
    "|field    |description|\n",
    "|:-----   |:-----|\n",
    "|SEQPLT16 |eGRID2016 Plant file sequence number (the index)| \n",
    "|PSTATABB |Plant state abbreviation|\n",
    "|PNAME    |Plant name |\n",
    "|LAT      |Plant latitude |\n",
    "|LON      |Plant longitude|\n",
    "|PLPRMFL  |Plant primary fuel |\n",
    "|CAPFAC   |Plant capacity factor |\n",
    "|NAMEPCAP |Plant nameplate capacity (Megawatts MW)|\n",
    "|PLNGENAN |Plant annual net generation (Megawatt-hours MWh)|\n",
    "|PLCO2EQA |Plant annual CO2 equivalent emissions (tons)|\n",
    "\n",
    "For more details on the data, you can refer to the [eGrid technical documents](https://www.epa.gov/sites/default/files/2021-02/documents/egrid2019_technical_guide.pdf). For example, you may want to review page 45 and the section \"Plant Primary Fuel (PLPRMFL)\", which gives the full names of the fuel types including WND for wind, NG for natural gas, BIT for Bituminous coal, etc. Codebooks for data are common in data science when the variable names would otherwise be onerously long.\n",
    "\n",
    "There also are a couple of \"gotchas\" to watch out for with this dataset:\n",
    "- The headers are on the second row and you'll want to ignore the first row (they're more detailed descriptions of the headers).\n",
    "- NaN values represent blanks in the data. These will appear regularly in real-world data, so getting experience working with it will be important.\n",
    "\n",
    "**Your objective**. For this dataset, your goal is answer the following questions about electricity generation in the United States by constructing appropriate queries of the data:\n",
    "\n",
    "1. Which power plant generated the most energy in 2016 (measured in MWh)?\n",
    "\n",
    "2. Which power plant produced the most CO2 emissions (measured in tons)? \n",
    "\n",
    "3. In what state is that plant located and what is its primary fuel?\n",
    "\n",
    "4. What is the name of the northern-most power plant in the United States? (hint: latitude is the quantity the measures north-south locations across the globe)\n",
    "\n",
    "5. What is the state where the northern-most power plant in the United States is located?\n",
    "\n",
    "6. Which state has the largest number of hydroelectric plants?\n",
    "\n",
    "7. Which state has the largest number of coal plants?\n",
    "\n",
    "8. Which state(s) have the fewest coal plants?\n",
    "\n",
    "9. Which fuel for generation produces the most energy (MWh) in the United States?\n",
    "\n",
    "10. Which fuel for generation produces the least energy (MWh) in the United States?\n",
    "\n",
    "11. Which fuel produces the most CO2 emissions in the United States?"
   ]
  }
 ],
 "metadata": {
  "kernelspec": {
   "display_name": "Python 3.10.2 ('ds')",
   "language": "python",
   "name": "python3"
  },
  "language_info": {
   "codemirror_mode": {
    "name": "ipython",
    "version": 3
   },
   "file_extension": ".py",
   "mimetype": "text/x-python",
   "name": "python",
   "nbconvert_exporter": "python",
   "pygments_lexer": "ipython3",
   "version": "3.10.2"
  },
  "nteract": {
   "version": "0.28.0"
  },
  "varInspector": {
   "cols": {
    "lenName": 16,
    "lenType": 16,
    "lenVar": 40
   },
   "kernels_config": {
    "python": {
     "delete_cmd_postfix": "",
     "delete_cmd_prefix": "del ",
     "library": "var_list.py",
     "varRefreshCmd": "print(var_dic_list())"
    },
    "r": {
     "delete_cmd_postfix": ") ",
     "delete_cmd_prefix": "rm(",
     "library": "var_list.r",
     "varRefreshCmd": "cat(var_dic_list()) "
    }
   },
   "position": {
    "height": "643px",
    "left": "1548px",
    "right": "20px",
    "top": "121px",
    "width": "350px"
   },
   "types_to_exclude": [
    "module",
    "function",
    "builtin_function_or_method",
    "instance",
    "_Feature"
   ],
   "window_display": true
  },
  "vscode": {
   "interpreter": {
    "hash": "b9e56a7b23b1fac2eea1a993b805ed5c611aea1439c1f46315b23590ab6d3ba0"
   }
  }
 },
 "nbformat": 4,
 "nbformat_minor": 2
}
