{
 "cells": [
  {
   "cell_type": "markdown",
   "metadata": {},
   "source": [
    "# Series Exercises\n",
    "\n",
    "To get accustomed to Series, let's explore some data on the wealth of 10 randomly selected countries. Data below presents the gross domestic product (GDP) per capita for these countries in 2008.\n",
    "\n",
    "Use the code below to get started: \n",
    "\n",
    "```python\n",
    "import pandas as pd\n",
    "\n",
    "gdppercap = pd.Series(\n",
    "    [34605, 34493, 12393, 44200, 10041, 58138, 4709, 49284, 10109, 42536],\n",
    "    index=[\n",
    "        \"Bahrain\",\n",
    "        \"Belgium\",\n",
    "        \"Bulgaria\",\n",
    "        \"Ireland\",\n",
    "        \"Macedonia\",\n",
    "        \"Norway\",\n",
    "        \"Paraguay\",\n",
    "        \"Singapore\",\n",
    "        \"South Africa\",\n",
    "        \"Switzerland\",\n",
    "    ],\n",
    ")\n",
    "```"
   ]
  },
  {
   "cell_type": "markdown",
   "metadata": {},
   "source": [
    "## Exercise 1\n",
    "\n",
    "Find the mean, median, minimum and maximum values of GDP per capita in this data. "
   ]
  },
  {
   "cell_type": "markdown",
   "metadata": {},
   "source": [
    "## Exercise 2\n",
    "\n",
    "Programmatically, determine which country in our data has the highest income per capita, and which has the lowest income per capita.\n",
    "\n",
    "Obviously, this is easier to do by just looking at the data, but that's only because this dataset is very small. With a real dataset, you would need to do it with code, so practice writing code to accomplish this task.\n",
    "\n",
    "*Hint: Country names form the index for this Series, so to get country names you'll need to access the index.*"
   ]
  },
  {
   "cell_type": "markdown",
   "metadata": {},
   "source": [
    "## Exercise 3\n",
    "\n",
    "Get Python to print out the names of all the countries that have GDP per capitas less than \\$20,000."
   ]
  },
  {
   "cell_type": "markdown",
   "metadata": {},
   "source": [
    "## Exercise 4\n",
    "\n",
    "Get Python to print out the GDP per capita of Switzerland."
   ]
  },
  {
   "cell_type": "markdown",
   "metadata": {},
   "source": [
    "## Exercise 5\n",
    "\n",
    "One frequntly used measure of inequality is the Gini Coefficient. The Gini Coefficient takes on a value of 1 when the distribution of some variable is maximally unequal across a population, and a value of 0 when it is evenly distributed. We will calculate the Gini Coefficient for income inequality in our data. \n",
    "\n",
    "To visualize the Gini Coefficient, we plot the cumulative share of the population (ordered from poorest to richest) on the x-axis, and cumulative share of income earned by that group on the y-axis. The Gini Coefficient is then defined as $\\frac{A}{A + B}$, where the areas A and B are labeled below: \n",
    "\n",
    "<!-- ![gini_coefficient](https://upload.wikimedia.org/wikipedia/commons/thumb/5/59/Economics_Gini_coefficient2.svg/800px-Economics_Gini_coefficient2.svg.png) -->\n",
    "<img src=\"https://upload.wikimedia.org/wikipedia/commons/thumb/5/59/Economics_Gini_coefficient2.svg/800px-Economics_Gini_coefficient2.svg.png\" width=\"500px\">\n",
    "\n",
    "If income is evenly distributed, then the poorest 20% of a population will also have 20% of the wealth; the poorest 40% will have 40% of the wealth, and so forth, resulting in a perfect 45 degree line. In this situation, there is no area between the 45% line and the actual income distribution, so $A=0$, and the Gini Coefficient is 0. \n",
    "\n",
    "If, by contrast, the top 10% of people hold all the wealth in a country, then there will be no wealth for the poorest 90% of people, then wealth will jump up at the far right side of the graph. This will generate a very large gap between the 45% line and actual income for most of the graph, generating a large value for the area $A$, creating a very high Gini Coefficient. \n",
    "\n",
    "To illustrate, here are a few different Gini plots. These come from someone studying inequality of participation, so to adapt this to our study of income, just imagine the y-axis plots share of income):\n",
    "\n",
    "<img src=\"https://miro.medium.com/max/595/0*3DTcZnzDwS6A6AtP\" width=\"700px\">"
   ]
  },
  {
   "cell_type": "markdown",
   "metadata": {},
   "source": [
    "For discrete data, the Gini Coefficient can be calculated with the following formula: \n",
    "\n",
    "$$\\frac{2 \\sum_{i=1}^n i y_i}{n \\sum_{i=1}^n y_i} -\\frac{n+1}{n}$$\n",
    "\n",
    "Where $i$ is each country's rank ordering from poorest to richest, and $y_i$ is the income of country $i$.\n",
    "\n",
    "Using this formula, calculate the Gini coefficient for our income data. \n",
    "\n",
    "**HINT**: Be careful with 0-indexing! Python counts from 0, but mathematical formulas count from 1!"
   ]
  },
  {
   "cell_type": "markdown",
   "metadata": {},
   "source": [
    "## Exercise 6\n",
    "\n",
    "The result we just generated offers a snap-shot of inequality for this subset of countries. But what are the dynamics of inequality for these countries?\n",
    "\n",
    "There is an idea in economics called the \"convergence hypothesis\", which argues that poorer countries are likely to grow faster, and as a result global inequality is likely to decline. Economists advocating for this hypothesis pointed out that while rich countries had to invent new technologies in order to grow, many poor countries simply had to take advantage of innovations already developed by rich countries. \n",
    "\n",
    "To test this hypothesis, let's do a small analysis of the dynamics of income inequality in our sample. Create the following Series in your Python session, which provides the average growth rate of GDP per capita for all the countries in our sample from 2000 to 2018. \n",
    "\n",
    "```python\n",
    "avg_growth = pd.Series(\n",
    "    [\n",
    "        -0.29768835,\n",
    "        0.980299584,\n",
    "        4.52991925,\n",
    "        3.686556736,\n",
    "        2.621416804,\n",
    "        0.775132075,\n",
    "        2.015489468,\n",
    "        3.345793635,\n",
    "        1.349993318,\n",
    "        0.982775018,\n",
    "    ],\n",
    "    index=[\n",
    "        \"Bahrain\",\n",
    "        \"Belgium\",\n",
    "        \"Bulgaria\",\n",
    "        \"Ireland\",\n",
    "        \"Macedonia\",\n",
    "        \"Norway\",\n",
    "        \"Paraguay\",\n",
    "        \"Singapore\",\n",
    "        \"South Africa\",\n",
    "        \"Switzerland\",\n",
    "    ],\n",
    ")\n",
    "```"
   ]
  },
  {
   "cell_type": "markdown",
   "metadata": {},
   "source": [
    "Using this data on average growth rates in GDP per capita, and assuming growth rates from 2000 to 2018 continue into the future, estimate what our Gini Coefficient may look like in 2025 (remembering that income in our data is from 2008, so we're extrapolating ahead 17 years)?\n",
    "\n",
    "**Hint:** the formula for compound growth (i.e. value of something growing at a rate of `x` percent for $t$ periods) is:\n",
    "\n",
    "$$future\\_value = current\\_value * (1 + \\frac{percentage\\_growth\\_rate}{100})^t$$"
   ]
  }
 ],
 "metadata": {
  "kernelspec": {
   "display_name": "Python 3.10.2 ('ds')",
   "language": "python",
   "name": "python3"
  },
  "language_info": {
   "codemirror_mode": {
    "name": "ipython",
    "version": 3
   },
   "file_extension": ".py",
   "mimetype": "text/x-python",
   "name": "python",
   "nbconvert_exporter": "python",
   "pygments_lexer": "ipython3",
   "version": "3.11.4"
  },
  "vscode": {
   "interpreter": {
    "hash": "b9e56a7b23b1fac2eea1a993b805ed5c611aea1439c1f46315b23590ab6d3ba0"
   }
  }
 },
 "nbformat": 4,
 "nbformat_minor": 4
}
