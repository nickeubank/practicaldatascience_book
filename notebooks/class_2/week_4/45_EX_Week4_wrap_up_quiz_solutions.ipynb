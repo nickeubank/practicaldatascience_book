{
 "cells": [
  {
   "attachments": {},
   "cell_type": "markdown",
   "metadata": {},
   "source": [
    "# Week 4 Assessment Solutions (NOT FOR POSTING)\n",
    "\n",
    "## Conceptual questions\n",
    "\n",
    "### Summarization\n",
    "\n",
    "For the following, **do not use Python: figure out what each expression would produce**. If the expression would produce an error, write \"error\". Use the array below for the following problems:"
   ]
  },
  {
   "cell_type": "code",
   "execution_count": 1,
   "metadata": {},
   "outputs": [],
   "source": [
    "import numpy as np\n",
    "\n",
    "x = np.array([\n",
    "    [3,6,-2],\n",
    "    [-9,7,4],\n",
    "    [8,2,0]\n",
    "])"
   ]
  },
  {
   "cell_type": "markdown",
   "metadata": {},
   "source": [
    "1a)"
   ]
  },
  {
   "cell_type": "code",
   "execution_count": 2,
   "metadata": {},
   "outputs": [
    {
     "data": {
      "text/plain": [
       "-9"
      ]
     },
     "execution_count": 2,
     "metadata": {},
     "output_type": "execute_result"
    }
   ],
   "source": [
    "np.min(x)"
   ]
  },
  {
   "cell_type": "markdown",
   "metadata": {},
   "source": [
    "1b)"
   ]
  },
  {
   "cell_type": "code",
   "execution_count": 4,
   "metadata": {},
   "outputs": [
    {
     "data": {
      "text/plain": [
       "0"
      ]
     },
     "execution_count": 4,
     "metadata": {},
     "output_type": "execute_result"
    }
   ],
   "source": [
    "y = np.min(x, axis=1)\n",
    "y[2]"
   ]
  },
  {
   "attachments": {},
   "cell_type": "markdown",
   "metadata": {},
   "source": [
    "### Random number reproducibility\n",
    "\n",
    "You're helping a colleague run a Monte Carlo simulation and they need some random numbers. They want your help in creating a collection of 10 million random values. They're going to rerun their analysis multiple times, but they want the random values to be the same each time they run it (since they're going to apply different scenarios to the simulation). Which pathway(s) would successfully meet that objective?\n",
    "1. Create code that creates the random numbers with `numpy` and does not set a random seed\n",
    "2. Create code that creates the random numbers with `numpy` and sets a random seed to ensure reproducibility\n",
    "3. Generate the random numbers and save them into a separate file that will be loaded each time the program is run\n",
    "4. Options (1), (2), or (3) are all equally suited approaches\n",
    "5. Options (2) or (3) are equally suited approaches\n",
    "6. Options (1) or (3) are equally suited approaches"
   ]
  },
  {
   "attachments": {},
   "cell_type": "markdown",
   "metadata": {},
   "source": [
    "## Practical Exercises\n",
    "\n",
    "### Random number generation\n",
    "\n",
    "You are given the function below, `gen_random_number`, which is a random number generator from a very specific distribution (the nature of that distribution is not relevant here). You don't know what the data look like, but you want to summarize them in some way, in this case by **finding the mean and standard deviation**. You'll need a lot of samples to get a good estimate, so make sure you use at least one million."
   ]
  },
  {
   "cell_type": "code",
   "execution_count": 39,
   "metadata": {},
   "outputs": [],
   "source": [
    "import numpy as np\n",
    "def gen_random_number(n):\n",
    "    return np.random.gamma(shape=0.5,scale=1.3,size=n)"
   ]
  },
  {
   "cell_type": "code",
   "execution_count": 40,
   "metadata": {},
   "outputs": [
    {
     "data": {
      "text/plain": [
       "0.6498734548298313"
      ]
     },
     "execution_count": 40,
     "metadata": {},
     "output_type": "execute_result"
    }
   ],
   "source": [
    "rands = gen_random_number(5_000_000)\n",
    "np.mean(rands)"
   ]
  },
  {
   "cell_type": "code",
   "execution_count": 41,
   "metadata": {},
   "outputs": [
    {
     "data": {
      "text/plain": [
       "0.9185886287123601"
      ]
     },
     "execution_count": 41,
     "metadata": {},
     "output_type": "execute_result"
    }
   ],
   "source": [
    "np.std(rands)"
   ]
  },
  {
   "attachments": {},
   "cell_type": "markdown",
   "metadata": {},
   "source": [
    "### Filtering and querying a dataset"
   ]
  },
  {
   "cell_type": "markdown",
   "metadata": {},
   "source": [
    "In data science we frequently need to filter data as we've previously discussed: remove missing or anomalous values, remove predictors/features from a dataset, remove redundant values, etc. Additionally, we often want to query the data, exploring subsets of the larger dataset that meet certain criteria. We'll see later in this specialization that Pandas offers many excellent tools for doing that, but they're based on principles we've discussed here around matrix and vector operations. We've also discussed summarization strategies in this course. Let's bring all of these pieces together and create some tools for filtering and querying our data.\n",
    "\n",
    "The goal of this exercise is to create a set of functions that can:\n",
    "1. Remove data from a dataset that are greater than a certain value\n",
    "2. Remove data from a dataset that are less than a certain value\n",
    "3. Remove specific values from a dataset\n",
    "4. Remove duplicate values in a dataset\n",
    "\n",
    "Once we have the functions to accomplish this, we'll apply this to a dataset.\n",
    "\n",
    "The first step is to create the functions. To help get you started, some skeleton code is provided below:"
   ]
  },
  {
   "cell_type": "code",
   "execution_count": null,
   "metadata": {},
   "outputs": [],
   "source": [
    "def remove_greater_than(array, threshold):\n",
    "    '''remove entries in `array' greater than `threshold' '''\n",
    "    pass\n",
    "\n",
    "def remove_less_than(array, threshold):\n",
    "    '''remove entries in `array' less than `threshold' '''        \n",
    "    pass\n",
    "\n",
    "def remove_if_equal(array, value_list):\n",
    "    '''remove entries in `array' that equal any value in `value_list' '''\n",
    "    pass\n",
    "\n",
    "def remove_duplicates(array):\n",
    "    '''remove duplicate entries in `array' leaving only one of each '''\n",
    "    pass"
   ]
  },
  {
   "cell_type": "markdown",
   "metadata": {},
   "source": [
    "Once you have built your functions to filter the data. Generate tests to verify that each function is working properly.\n",
    "\n",
    "Now it's time to apply your function. The dataset that we will use will be a set of integer values ranging from 1 to 1000 (the code is provided below - do not change the random seed). "
   ]
  },
  {
   "cell_type": "code",
   "execution_count": 1,
   "metadata": {},
   "outputs": [
    {
     "name": "stdout",
     "output_type": "stream",
     "text": [
      "[620 345 269 407 328 762 359 747 669 651 209 574 489 878 667  26 472 492\n",
      " 545 261 974 139 651 513 471  85 134 550 633 102  42 745 232 580 720 325\n",
      " 974 174 380 249 786 764 897 160 778 188  28 219 812 759 258 893 328 105\n",
      " 704 907  46 752  31 916 578  58 588 206 338 358 782 953 336 682 640 278\n",
      " 526 324  62 331 751 442 463 605 239 957 522 335 389 179 657 486 565 258\n",
      " 140 997 882 388 866  13 925 854 489 402]\n"
     ]
    }
   ],
   "source": [
    "# Generate the 10000 random numbers [DO NOT MODIFY THIS CODE]\n",
    "import numpy as np\n",
    "np.random.seed(14) # This guarantees the code will generate the same set of random numbers whenever executed\n",
    "random_integers = np.random.randint(1,high=1000, size=(500))\n",
    "\n",
    "print(random_integers[:100]) # Prints the first 100 numbers to get a sense for the data"
   ]
  },
  {
   "cell_type": "markdown",
   "metadata": {},
   "source": [
    "Your goal is to filter the data in the following ways:\n",
    "1. Remove values greater than 800\n",
    "2. Remove values less than 25\n",
    "3. Remove values equal to even integers\n",
    "4. Remove all duplicates\n",
    "\n",
    "Lastly, summarize the remaining data after your filtering is complete by computing the mean and median of the remaining data."
   ]
  },
  {
   "cell_type": "code",
   "execution_count": 1,
   "metadata": {},
   "outputs": [
    {
     "name": "stdout",
     "output_type": "stream",
     "text": [
      "[620 345 269 407 328 762 359 747 669 651 209 574 489 878 667  26 472 492\n",
      " 545 261 974 139 651 513 471  85 134 550 633 102  42 745 232 580 720 325\n",
      " 974 174 380 249 786 764 897 160 778 188  28 219 812 759 258 893 328 105\n",
      " 704 907  46 752  31 916 578  58 588 206 338 358 782 953 336 682 640 278\n",
      " 526 324  62 331 751 442 463 605 239 957 522 335 389 179 657 486 565 258\n",
      " 140 997 882 388 866  13 925 854 489 402]\n",
      "425.078431372549\n",
      "423.0\n"
     ]
    }
   ],
   "source": [
    "# Generate the 10000 random numbers [DO NOT MODIFY THIS CODE]\n",
    "import numpy as np\n",
    "np.random.seed(14) # This guarantees the code will generate the same set of random numbers whenever executed\n",
    "random_integers = np.random.randint(1,high=1000, size=(500))\n",
    "\n",
    "print(random_integers[:100]) # Prints the first 100 numbers to get a sense for the data\n",
    "\n",
    "def remove_greater_than(array, threshold):\n",
    "    '''remove entries in `array' greater than `threshold' '''\n",
    "    return array[array <= threshold]\n",
    "\n",
    "def remove_less_than(array, threshold):\n",
    "    '''remove entries in `array' less than `threshold' '''        \n",
    "    return array[array >= threshold]\n",
    "\n",
    "def remove_if_equal(array, value_list):\n",
    "    '''remove entries in `array' that equal any value in `value_list' '''\n",
    "    for v in value_list:\n",
    "        array = array[array != v]\n",
    "    return array\n",
    "\n",
    "def remove_duplicates(array):\n",
    "    '''remove duplicate entries in `array' leaving only one of each '''\n",
    "    return np.unique(array)\n",
    "\n",
    "data = random_integers\n",
    "data = remove_greater_than(data,800)\n",
    "even_integers_through_1000 = np.arange(2, 1001, 2)\n",
    "data = remove_if_equal(data,even_integers_through_1000)\n",
    "data = remove_less_than(data,25)\n",
    "data = remove_duplicates(data)\n",
    "\n",
    "filtered_mean = np.mean(data)\n",
    "filtered_median = np.median(data)\n",
    "\n",
    "print(filtered_mean)\n",
    "print(filtered_median)"
   ]
  },
  {
   "cell_type": "code",
   "execution_count": 3,
   "metadata": {},
   "outputs": [
    {
     "name": "stdout",
     "output_type": "stream",
     "text": [
      "[ 0  1  2  3  4  5  6  7  8  9 10 11 12 13 14 15 16 17 18 19  0  1  2  3\n",
      "  4  5  6  7  8  9 10 11 12 13 14 15 16 17 18 19]\n"
     ]
    }
   ],
   "source": [
    "test = np.concatenate((np.arange(0,20),np.arange(0,20)))\n",
    "print(test)"
   ]
  },
  {
   "cell_type": "code",
   "execution_count": 4,
   "metadata": {},
   "outputs": [
    {
     "name": "stdout",
     "output_type": "stream",
     "text": [
      "[ 0  1  2  3  4  5  6  7  8  9 10  0  1  2  3  4  5  6  7  8  9 10]\n"
     ]
    }
   ],
   "source": [
    "print(remove_greater_than(test,10))"
   ]
  },
  {
   "cell_type": "code",
   "execution_count": 5,
   "metadata": {},
   "outputs": [
    {
     "name": "stdout",
     "output_type": "stream",
     "text": [
      "[10 11 12 13 14 15 16 17 18 19 10 11 12 13 14 15 16 17 18 19]\n"
     ]
    }
   ],
   "source": [
    "print(remove_less_than(test,10))"
   ]
  },
  {
   "cell_type": "code",
   "execution_count": 6,
   "metadata": {},
   "outputs": [
    {
     "name": "stdout",
     "output_type": "stream",
     "text": [
      "[ 0  4  5  6  7  8 16 17 18 19  0  4  5  6  7  8 16 17 18 19]\n"
     ]
    }
   ],
   "source": [
    "print(remove_if_equal(test,[1,2,3,9,10,11,12,13,14,15]))"
   ]
  },
  {
   "cell_type": "code",
   "execution_count": 7,
   "metadata": {},
   "outputs": [
    {
     "name": "stdout",
     "output_type": "stream",
     "text": [
      "[ 0  1  2  3  4  5  6  7  8  9 10 11 12 13 14 15 16 17 18 19]\n"
     ]
    }
   ],
   "source": [
    "print(remove_duplicates(test))"
   ]
  }
 ],
 "metadata": {
  "kernelspec": {
   "display_name": "base",
   "language": "python",
   "name": "python3"
  },
  "language_info": {
   "codemirror_mode": {
    "name": "ipython",
    "version": 3
   },
   "file_extension": ".py",
   "mimetype": "text/x-python",
   "name": "python",
   "nbconvert_exporter": "python",
   "pygments_lexer": "ipython3",
   "version": "3.12.0"
  },
  "orig_nbformat": 4,
  "vscode": {
   "interpreter": {
    "hash": "f54e0b9f92ceb50229b3b7ea26b5d02f05ce8845dd8d997c014a0efede4c9c20"
   }
  }
 },
 "nbformat": 4,
 "nbformat_minor": 2
}
