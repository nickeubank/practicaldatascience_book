{
 "cells": [
  {
   "attachments": {},
   "cell_type": "markdown",
   "metadata": {},
   "source": [
    "# Course Wrap-up"
   ]
  },
  {
   "attachments": {},
   "cell_type": "markdown",
   "metadata": {},
   "source": [
    "This course focused on the core concepts and data structures used when writing software for working with data: collections of information. \n",
    "\n",
    "We began this course by introducing object-oriented programming, a foundational software engineering concept, and how to create classes with methods and constructors that support the object. We explored measures of computational complexity with Big O notation. We also discussed how we can group variables in code with standard Python tools including sets, lists, and dictionaries and showed how those can be modified after they have been created (for example using list comprehensions). \n",
    "\n",
    "In the second week, we dove deeper into how to work with groups of variables in ways that are more efficient for computation, specifically through the introduction of the concept of arrays from the NumPy package. We introduced one-dimensional arrays, or vectors, and how to create, modify, and generate subsets of these groups of numerical data. We also discussed how to filter or query the data based on the contents of the array, a very useful skill for any aspiring data scientist. \n",
    "\n",
    "Building up from one-dimensional vectors to two (or greater) dimensional matrices, we saw that many of the same concepts that we used with vectors apply to matrices, and that in many circumstances, from when dealing with tabular data, to working with imagery data, we are faced with matrices of information that we need to process. \n",
    "\n",
    "We concluded the course by exploring how we can summarize the information from the different data structures we encountered by taking averages, minima, and maxima, etc. Since one of the primary benefits of using NumPy arrays is the resulting increase in speed, we also explored how to vectorize our code, rather than using loops all the time, to greatly increase the speed of the code. We wrapped up by discussing the importance of random number generation in data science computation and software development.\n",
    "\n",
    "Having completed this course, you are well-on-your way towards working efficiently with numerical data and towards writing software to complete basic data analyses."
   ]
  }
 ],
 "metadata": {
  "kernelspec": {
   "display_name": "base",
   "language": "python",
   "name": "python3"
  },
  "language_info": {
   "codemirror_mode": {
    "name": "ipython",
    "version": 3
   },
   "file_extension": ".py",
   "mimetype": "text/x-python",
   "name": "python",
   "nbconvert_exporter": "python",
   "pygments_lexer": "ipython3",
   "version": "3.6.5"
  },
  "varInspector": {
   "cols": {
    "lenName": 16,
    "lenType": 16,
    "lenVar": 40
   },
   "kernels_config": {
    "python": {
     "delete_cmd_postfix": "",
     "delete_cmd_prefix": "del ",
     "library": "var_list.py",
     "varRefreshCmd": "print(var_dic_list())"
    },
    "r": {
     "delete_cmd_postfix": ") ",
     "delete_cmd_prefix": "rm(",
     "library": "var_list.r",
     "varRefreshCmd": "cat(var_dic_list()) "
    }
   },
   "types_to_exclude": [
    "module",
    "function",
    "builtin_function_or_method",
    "instance",
    "_Feature"
   ],
   "window_display": false
  },
  "vscode": {
   "interpreter": {
    "hash": "f54e0b9f92ceb50229b3b7ea26b5d02f05ce8845dd8d997c014a0efede4c9c20"
   }
  }
 },
 "nbformat": 4,
 "nbformat_minor": 2
}
