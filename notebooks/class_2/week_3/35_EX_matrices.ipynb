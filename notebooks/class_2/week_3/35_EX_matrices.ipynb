{
    "cells": [
        {
            "cell_type": "markdown",
            "metadata": {},
            "source": [
                "# Matrix Exercises\n",
                "\n",
                "For the following matrix manipulation exercises, begin by building the following matrix (you'll probably want to just copy-paste this code), which we can imagine is a survey of income (first column), age (second column), and years of education (third column):"
            ]
        },
        {
            "cell_type": "code",
            "execution_count": 1,
            "metadata": {},
            "outputs": [
                {
                    "data": {
                        "text/plain": [
                            "array([[ 22000,     20,     12],\n",
                            "       [ 65000,     35,     16],\n",
                            "       [ 19000,     55,     11],\n",
                            "       [110000,     35,     22],\n",
                            "       [ 14000,     21,     12],\n",
                            "       [     0,     56,      8],\n",
                            "       [ 35000,     42,     12]])"
                        ]
                    },
                    "execution_count": 1,
                    "metadata": {},
                    "output_type": "execute_result"
                }
            ],
            "source": [
                "import numpy as np\n",
                "\n",
                "svy = np.array(\n",
                "    [\n",
                "        [22_000, 20, 12],\n",
                "        [65_000, 35, 16],\n",
                "        [19_000, 55, 11],\n",
                "        [11_0000, 35, 22],\n",
                "        [14_000, 21, 12],\n",
                "        [0, 56, 8],\n",
                "        [35_000, 42, 12],\n",
                "    ]\n",
                ")\n",
                "svy"
            ]
        },
        {
            "cell_type": "markdown",
            "metadata": {},
            "source": [
                "## Part 1: Summarizing Data\n",
                "\n",
                "1. What is the average age of all respondents?\n",
                "2. What is the average income of respondents over 30?\n",
                "3. What is the average education of respondents with incomes above the average income for all respondents?\n",
                "\n",
                "## Part 2: Editing Data\n",
                "\n",
                "The US government is thinking about offering a 1,500 tax credit to anyone making less than 20,000 a year. \n",
                "\n",
                "1. Using the data from `svy`, create a new vector by subsetting and editing the original income column with the incomes respondents will receive after this tax credit.\n",
                "    - Do so by subsetting and editing values programmatically, *not* just typing values by hand. (Yes, writing out a new vector by hand is easy to do in this example, but you couldn't do it with a large, real dataset!)\n",
                "    - Do **not** change the original income column in the process of creating this vector.\n",
                "\n",
                "2. What will the average after-tax income be for all respondents?\n",
                "\n",
                "3. Add your new column with updated, post-refund incomes as a fourth column in your matrix.\n",
                "\n",
                "To solve this problem, you'll want to use the `np.hstack` function. As detailed in the [numpy documentation](https://numpy.org/doc/stable/reference/generated/numpy.hstack.html) (seriously, go take a look—numpy documentation is really good and helpful!), `hstack` concatenates (\"stacks\") arrays horizontally to make new arrays. Just put the arrays you want to concatenate in a list (they must have the same number of rows!) and pass them to `hstack`:\n"
            ]
        },
        {
            "cell_type": "code",
            "execution_count": 2,
            "metadata": {},
            "outputs": [
                {
                    "data": {
                        "text/plain": [
                            "array([[1, 2, 3],\n",
                            "       [4, 5, 6]])"
                        ]
                    },
                    "execution_count": 2,
                    "metadata": {},
                    "output_type": "execute_result"
                }
            ],
            "source": [
                "import numpy as np\n",
                "array1 = np.array([[1, 2, 3], [4, 5, 6]])\n",
                "array1"
            ]
        },
        {
            "cell_type": "code",
            "execution_count": 3,
            "metadata": {},
            "outputs": [
                {
                    "data": {
                        "text/plain": [
                            "array([[-10, -11],\n",
                            "       [-98, -99]])"
                        ]
                    },
                    "execution_count": 3,
                    "metadata": {},
                    "output_type": "execute_result"
                }
            ],
            "source": [
                "array2 = np.array([[-10, -11], [-98, -99]])\n",
                "array2"
            ]
        },
        {
            "cell_type": "code",
            "execution_count": 5,
            "metadata": {},
            "outputs": [
                {
                    "data": {
                        "text/plain": [
                            "array([[  1,   2,   3, -10, -11],\n",
                            "       [  4,   5,   6, -98, -99]])"
                        ]
                    },
                    "execution_count": 5,
                    "metadata": {},
                    "output_type": "execute_result"
                }
            ],
            "source": [
                "np.hstack([array1, array2])"
            ]
        },
        {
            "cell_type": "markdown",
            "metadata": {},
            "source": [
                "(There's also a function called `np.vstack` to stack matrices or arrays vertically). \n",
                "\n",
                "Hint: `hstack` will only concatenate arrays with the same number of dimensions and same number of rows!\n",
                "\n",
                "4. How much will this tax refund cost the government (in other words, how much will the government have to pay out / how much will total incomes increase?)\n",
                "\n",
                "Hint: One way to do this involves `np.sum()`."
            ]
        },
        {
            "cell_type": "markdown",
            "metadata": {},
            "source": [
                "## Solutions"
            ]
        },
        {
            "cell_type": "markdown",
            "metadata": {},
            "source": [
                "### Part 1"
            ]
        },
        {
            "cell_type": "code",
            "execution_count": 1,
            "metadata": {},
            "outputs": [
                {
                    "data": {
                        "text/plain": [
                            "array([[ 22000,     20,     12],\n",
                            "       [ 65000,     35,     16],\n",
                            "       [ 19000,     55,     11],\n",
                            "       [110000,     35,     22],\n",
                            "       [ 14000,     21,     12],\n",
                            "       [     0,     56,      8],\n",
                            "       [ 35000,     42,     12]])"
                        ]
                    },
                    "execution_count": 1,
                    "metadata": {},
                    "output_type": "execute_result"
                }
            ],
            "source": [
                "import numpy as np\n",
                "\n",
                "svy = np.array(\n",
                "    [\n",
                "        [22_000, 20, 12],\n",
                "        [65_000, 35, 16],\n",
                "        [19_000, 55, 11],\n",
                "        [11_0000, 35, 22],\n",
                "        [14_000, 21, 12],\n",
                "        [0, 56, 8],\n",
                "        [35_000, 42, 12],\n",
                "    ]\n",
                ")\n",
                "svy"
            ]
        },
        {
            "cell_type": "code",
            "execution_count": 2,
            "metadata": {},
            "outputs": [
                {
                    "data": {
                        "text/plain": [
                            "37.714285714285715"
                        ]
                    },
                    "execution_count": 2,
                    "metadata": {},
                    "output_type": "execute_result"
                }
            ],
            "source": [
                "# Question 1\n",
                "np.mean(svy[:,1])"
            ]
        },
        {
            "cell_type": "code",
            "execution_count": 3,
            "metadata": {},
            "outputs": [
                {
                    "data": {
                        "text/plain": [
                            "45800.0"
                        ]
                    },
                    "execution_count": 3,
                    "metadata": {},
                    "output_type": "execute_result"
                }
            ],
            "source": [
                "# Question 2\n",
                "np.mean(svy[svy[:,1] > 30, 0])"
            ]
        },
        {
            "cell_type": "code",
            "execution_count": 4,
            "metadata": {},
            "outputs": [
                {
                    "data": {
                        "text/plain": [
                            "19.0"
                        ]
                    },
                    "execution_count": 4,
                    "metadata": {},
                    "output_type": "execute_result"
                }
            ],
            "source": [
                "# Question 3\n",
                "avg_income = np.mean(svy[:, 0])\n",
                "np.mean(svy[svy[:, 0] > avg_income, 2])"
            ]
        },
        {
            "cell_type": "markdown",
            "metadata": {},
            "source": [
                "### Part 2"
            ]
        },
        {
            "cell_type": "code",
            "execution_count": 6,
            "metadata": {},
            "outputs": [
                {
                    "data": {
                        "text/plain": [
                            "array([ 22000,  65000,  20500, 110000,  15500,   1500,  35000])"
                        ]
                    },
                    "execution_count": 6,
                    "metadata": {},
                    "output_type": "execute_result"
                }
            ],
            "source": [
                "# Question 1\n",
                "after_tax_incomes = svy[:, 0].copy()\n",
                "incomes_under_20_000 = after_tax_incomes < 20_000\n",
                "after_tax_incomes[incomes_under_20_000] = after_tax_incomes[incomes_under_20_000] + 1_500\n",
                "after_tax_incomes"
            ]
        },
        {
            "cell_type": "code",
            "execution_count": 7,
            "metadata": {},
            "outputs": [
                {
                    "data": {
                        "text/plain": [
                            "array([ 22000,  65000,  19000, 110000,  14000,      0,  35000])"
                        ]
                    },
                    "execution_count": 7,
                    "metadata": {},
                    "output_type": "execute_result"
                }
            ],
            "source": [
                "svy[:, 0]"
            ]
        },
        {
            "cell_type": "code",
            "execution_count": null,
            "metadata": {},
            "outputs": [
                {
                    "data": {
                        "text/plain": [
                            "38500.0"
                        ]
                    },
                    "metadata": {},
                    "output_type": "display_data"
                }
            ],
            "source": [
                "# Question 3\n",
                "np.mean(after_tax_incomes)"
            ]
        },
        {
            "cell_type": "code",
            "execution_count": 10,
            "metadata": {},
            "outputs": [
                {
                    "data": {
                        "text/plain": [
                            "array([[ 22000,     20,     12,  22000],\n",
                            "       [ 65000,     35,     16,  65000],\n",
                            "       [ 19000,     55,     11,  20500],\n",
                            "       [110000,     35,     22, 110000],\n",
                            "       [ 14000,     21,     12,  15500],\n",
                            "       [     0,     56,      8,   1500],\n",
                            "       [ 35000,     42,     12,  35000]])"
                        ]
                    },
                    "execution_count": 10,
                    "metadata": {},
                    "output_type": "execute_result"
                }
            ],
            "source": [
                "# Question 4\n",
                "new_matrix = np.hstack([svy, after_tax_incomes.reshape((7, 1))])\n",
                "new_matrix"
            ]
        },
        {
            "cell_type": "code",
            "execution_count": 12,
            "metadata": {},
            "outputs": [
                {
                    "data": {
                        "text/plain": [
                            "4500"
                        ]
                    },
                    "execution_count": 12,
                    "metadata": {},
                    "output_type": "execute_result"
                }
            ],
            "source": [
                "np.sum(new_matrix[:, 3] - new_matrix[:, 0])"
            ]
        }
    ],
    "metadata": {
        "interpreter": {
            "hash": "3e0a5228cb9726a24d36227c69ed0d3aac98cecda769d1c9adb080711d57f90d"
        },
        "kernelspec": {
            "display_name": "R",
            "language": "python",
            "name": "python3"
        },
        "language_info": {
            "codemirror_mode": {
                "name": "ipython",
                "version": 3
            },
            "file_extension": ".py",
            "mimetype": "text/x-python",
            "name": "python",
            "nbconvert_exporter": "python",
            "pygments_lexer": "ipython3",
            "version": "3.9.7"
        },
        "orig_nbformat": 4
    },
    "nbformat": 4,
    "nbformat_minor": 2
}
