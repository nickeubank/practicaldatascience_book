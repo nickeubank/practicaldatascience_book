{
 "cells": [
  {
   "cell_type": "markdown",
   "metadata": {},
   "source": [
    "# Running R Jupyter Notebooks in VS Code\n",
    "\n",
    "As we discussed before, the idea of Jupyter is to separate the interface you are working with from the underlying programming language doing your analysis. This makes it possible to create one interface (a text editor, a window where results are displayed, etc.) that can be used to run your analyses in any number of different programs. In the Jupyter ecosystem, the program being used to actually run your analysis (i.e. Python, R) is referred to as a **kernel**. \n",
    "\n",
    "That means that you can use Jupyter notebooks for more than Python! In this reading, I'll show you how to setup R to work with Jupyter Notebooks. \n",
    "\n",
    "## Install Jupyter with miniconda\n",
    "\n",
    "Even though we've been using jupyter notebooks in VS Code so you might think you've already installed jupyter, VS Code is just using a little version of jupyter that comes bundled with the editor. To setup R to work with Jupyter Notebooks, though, we have to do a real jupyter installation. So from the command line, run:\n",
    "\n",
    "```bash\n",
    "conda install jupyter\n",
    "```"
   ]
  },
  {
   "cell_type": "markdown",
   "metadata": {},
   "source": [
    "## Setting Up R with Jupyter \n",
    "\n",
    "Once that's done, we're ready to setup R to work with Jupyter!\n",
    "\n",
    "1. If you do *not* have R installed, [download and install it here](https://cloud.r-project.org/). If you have R installed, skip to step 2. \n",
    "2. Open R by opening your command line tool (Oh-My-Zsh on Mac, Cmder in Windows) and typing `R`. *Don't open it by double clicking its icon!*\n",
    "    - If you can't open R by just typing `R`, you have to launch it by putting in the absolute path to your R installation. On a Mac, doing this requires typing something like the following into your command line (depending on exactly where R is installed on your system): `/Applications/R.app/Contents/MacOS/R`. Similarly, using Cmder on Windows you need to type something like (depending on installed version): `/c/Program Files/R/R-3.6.0/bin/R.exe`.\n",
    "3. Run `install.packages(\"IRkernel\")`\n",
    "4. After installation is complete, execute the command: `IRkernel::installspec()` in R. \n",
    "\n",
    "That should be it. To see if R installed correctly, open a new notebook in VS Code (open the Command Palette with Cmd-Shift-P, or by clicking on the wheel in the bottom left and selecting Command Palette, then type `Jupyter Create New Notebook`).\n",
    "\n",
    "Then click on \"Select Kernel\" in the top right of the new notebook and select the option for R! It should look something like this (you probably won't have as many options -- like Bash or Julia -- as me): \n",
    "\n",
    "![vscode_r_kernel](images/vscode_r_kernel.png)\n",
    "\n",
    "If you don't see a button for `R`, make sure you followed all the steps above!\n",
    "\n",
    "**If the command `IRkernel::installspec()` generates this error:**\n",
    "\n",
    "```R\n",
    "Error in IRkernel::installspec() : \n",
    "  jupyter-client has to be installed but “jupyter kernelspec --version” exited with code 127.\n",
    "In addition: Warning message:\n",
    "In system2(\"jupyter\", c(\"kernelspec\", \"--version\"), FALSE, FALSE) :\n",
    "  error in running command\n",
    "```\n",
    "\n",
    "That means R can't find your installation of jupyter. Make sure (a) you installed jupyter as instructed above, and (b) that conda is set up with your command line tool using the directions in [Setting Up Your Environment](setting_up_your_computer.ipynb), especially the last section on augmented command line tools. \n",
    "\n",
    "**If the command `IRkernel::installspec()` generates this error:**\n",
    "\n",
    "```R\n",
    " xcrun: error: invalid active developer path (/Library/Developer/CommandLineTools), missing xcrun at: /Library/Developer/CommandLineTools/usr/bin/xcrun\n",
    "```\n",
    "\n",
    "If that means that R want you to install Apple developer tools. Just run the following command at the command line (not in R, in your bash or oh-my-zsh session): `xcode-select --install`, or if that doesn't work, run `sudo xcode-select --reset`. This should lead to a somewhat slow software installation."
   ]
  }
 ],
 "metadata": {
  "kernelspec": {
   "display_name": "Python 3.9.7 ('base')",
   "language": "python",
   "name": "python3"
  },
  "language_info": {
   "codemirror_mode": {
    "name": "ipython",
    "version": 3
   },
   "file_extension": ".py",
   "mimetype": "text/x-python",
   "name": "python",
   "nbconvert_exporter": "python",
   "pygments_lexer": "ipython3",
   "version": "3.9.7"
  },
  "vscode": {
   "interpreter": {
    "hash": "3e0a5228cb9726a24d36227c69ed0d3aac98cecda769d1c9adb080711d57f90d"
   }
  }
 },
 "nbformat": 4,
 "nbformat_minor": 4
}
