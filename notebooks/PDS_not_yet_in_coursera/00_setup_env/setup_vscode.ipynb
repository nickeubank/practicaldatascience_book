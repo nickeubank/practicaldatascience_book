{
    "cells": [
        {
            "cell_type": "markdown",
            "metadata": {},
            "source": [
                "# Setting Up Visual Studio Code"
            ]
        },
        {
            "cell_type": "markdown",
            "metadata": {},
            "source": [
                "**Note:** This is written assuming you've already installed and setup Python using miniconda [as instructed here](setup_python.ipynb). If you haven't, please go do that now!\n",
                "\n"
            ]
        },
        {
            "cell_type": "markdown",
            "metadata": {},
            "source": [
                "As noted in our previous reading, here in Duke MIDS we're converging on using VS Code in our courses as our \"preferred\" tool for editing and running code. That's not because we necessarily because we think it's \"the objectively best editor\"—what editor is best for an individual depends a lot on their own background, programming style, and work flow!— but rather because we think it's a good fit for most students. Moreover, by all supporting the same editor, we can help you get *really good* with VS Code—not everyone will agree VS Code is the best editor, but I think all data scientists will agree that getting really good with *an* editor is an important skill!\n",
                "\n",
                "So to see why we're using VS Code, [please start out by watching this video.](https://youtu.be/m5CmZzAc8Yk) It provides the reasons we chose VS Code, and what we think is exciting about it.\n",
                "\n",
                "## Installing VS Code\n",
                "\n",
                "VS Code is kinda stupid-easy to install — [just download it here](https://code.visualstudio.com/)! \n",
                "\n",
                "Then, if you're on a Mac, we want to do one more important thing: set up your system so that if you type `code [filename]` on the command line, VS Code will open `[filename]` (this gets set up automatically with Windows, but requires a deliberate step on Macs):\n",
                "\n",
                "- In VS Code, type `Command-Shift-P`. This will cause the Command Pallet to open at the top of your open window. \n",
                "- Type `Shell Command: Install code command in PATH` and open that. \n",
                "- Wait for confirmation. "
            ]
        },
        {
            "cell_type": "markdown",
            "metadata": {},
            "source": [
                "### Set terminal.integrated.inheritEnv to False in VS Code\n",
                "\n",
                "In order to ensure that the integrated terminal in VS Code works properly with Miniconda, we have to modify one setting. To do this, in VS Code, go down to the bottom-left corner and click on the gear icon, select \"Command Pallet...,\" and type \"Preferences: Open Settings (JSON)\" (note the `(JSON)` at the end). That should bring you to a relatively blank document. Between the curly braces, add the following:\n",
                "\n",
                "```json\n",
                "    \"terminal.integrated.inheritEnv\": false,\n",
                "```\n",
                "\n",
                "So that your file looks something like:\n",
                "\n",
                "![inheritEnv](images/inheritEnv.png)\n",
                "\n",
                "(Note the commas at the end of each line). If you forget the step VS Code will try to prompt you to set it later with this notification:\n",
                "\n",
                "![inheritenv_warning](images/inheritenv_warning.png) \n",
                "\n",
                "So if you see that notification make sure to select yes."
            ]
        },
        {
            "cell_type": "markdown",
            "metadata": {},
            "source": [
                "## Follow Along With This Video\n",
                "\n",
                "Here's a video I made exploring [how to set up VS Code for Python Data Science](https://youtu.be/cTL3fKItAZg?t=668). **This starts with installing miniconda and doing the install steps above, so start 11 minutes in!** The link above should start about there."
            ]
        }
    ],
    "metadata": {
        "kernelspec": {
            "display_name": "Python 3.10.6 ('base')",
            "language": "python",
            "name": "python3"
        },
        "language_info": {
            "name": "python",
            "version": "3.10.6"
        },
        "orig_nbformat": 4,
        "vscode": {
            "interpreter": {
                "hash": "718fed28bf9f8c7851519acf2fb923cd655120b36de3b67253eeb0428bd33d2d"
            }
        }
    },
    "nbformat": 4,
    "nbformat_minor": 5
}
