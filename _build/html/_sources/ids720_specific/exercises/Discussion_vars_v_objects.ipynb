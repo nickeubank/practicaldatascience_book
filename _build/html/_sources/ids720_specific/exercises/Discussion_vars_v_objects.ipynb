{
    "cells": [
        {
            "cell_type": "markdown",
            "metadata": {},
            "source": [
                "# Return Values and Object Mutations\n",
                "\n",
                "We are accustomed to the idea that when a function or method creates a new object, we have to assign that new object to a variable if we want to save it. For example, if we run the following code:"
            ]
        },
        {
            "cell_type": "code",
            "execution_count": 1,
            "metadata": {},
            "outputs": [
                {
                    "data": {
                        "text/plain": [
                            "[1, 2, 3, 4]"
                        ]
                    },
                    "execution_count": 1,
                    "metadata": {},
                    "output_type": "execute_result"
                }
            ],
            "source": [
                "x = [1, 2, 3]\n",
                "x = x + [4]\n",
                "x"
            ]
        },
        {
            "cell_type": "markdown",
            "metadata": {},
            "source": [
                "We know that the variable `x` will end up pointing at the new list (`[1, 2, 3, 4]`). That's because a function or method that creates a new object \"returns\" that object. \n",
                "\n",
                "But when we *mutate* an object, the newly mutated object won't be returned to us. Instead, the method will return either nothing (`None`), or sometimes it will return something entirely different. For example, the command `x.pop(0)` would actually do two things:\n",
                "\n",
                "1. Remove the item at index 0 from the list `x` (mutating it in place)\n",
                "2. Return whatever item has been removed. \n",
                "\n",
                "So if we run:"
            ]
        },
        {
            "cell_type": "code",
            "execution_count": 2,
            "metadata": {},
            "outputs": [
                {
                    "data": {
                        "text/plain": [
                            "1"
                        ]
                    },
                    "execution_count": 2,
                    "metadata": {},
                    "output_type": "execute_result"
                }
            ],
            "source": [
                "y = x.pop(0)\n",
                "y # We get back the list item at index 0 (which was 1)"
            ]
        },
        {
            "cell_type": "code",
            "execution_count": 3,
            "metadata": {},
            "outputs": [
                {
                    "data": {
                        "text/plain": [
                            "[2, 3, 4]"
                        ]
                    },
                    "execution_count": 3,
                    "metadata": {},
                    "output_type": "execute_result"
                }
            ],
            "source": [
                "x # And the list has mutated."
            ]
        },
        {
            "cell_type": "markdown",
            "metadata": {},
            "source": [
                "But this can lead to an easy problem: if we mutate our list using function or method that mutates the list in-place, *and* re-assign the result of that method call to our original variable, we'll actually lose track of our original list!"
            ]
        },
        {
            "cell_type": "code",
            "execution_count": 4,
            "metadata": {},
            "outputs": [
                {
                    "data": {
                        "text/plain": [
                            "1"
                        ]
                    },
                    "execution_count": 4,
                    "metadata": {},
                    "output_type": "execute_result"
                }
            ],
            "source": [
                "x = [1, 2, 3]\n",
                "x = x.pop(0)\n",
                "x"
            ]
        },
        {
            "cell_type": "markdown",
            "metadata": {},
            "source": [
                "# Tuples\n",
                "\n",
                "OK, so if `tuples` are immutable, how did that tuple seem to mutate?\n",
                "\n",
                "The answer is that, from Python's perspective, the *tuple itself* didn't mutate. It contained references to three objects:  the number 1, the number 2, and a specific list. That *list* mutated when we ran `x.append(-2)`, but the tuple did not: the tuple never stopped pointing to the same list. \n",
                "\n",
                "This is the tricky thing about recursive data structures: what they hold is always a *reference* to an object. "
            ]
        }
    ],
    "metadata": {
        "kernelspec": {
            "display_name": "Python 3",
            "language": "python",
            "name": "python3"
        },
        "language_info": {
            "codemirror_mode": {
                "name": "ipython",
                "version": 3
            },
            "file_extension": ".py",
            "mimetype": "text/x-python",
            "name": "python",
            "nbconvert_exporter": "python",
            "pygments_lexer": "ipython3",
            "version": "3.7.3"
        }
    },
    "nbformat": 4,
    "nbformat_minor": 5
}