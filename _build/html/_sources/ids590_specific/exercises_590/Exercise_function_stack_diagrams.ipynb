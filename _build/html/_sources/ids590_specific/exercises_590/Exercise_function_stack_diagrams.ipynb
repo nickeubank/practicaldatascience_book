{
 "cells": [
  {
   "cell_type": "markdown",
   "id": "087ce102",
   "metadata": {},
   "source": [
    "# Practicing Diagramming Functions\n",
    "\n",
    "In this exercise, you will be provided a block of code and asked to diagram its execution on a whiteboard. The goal of this exercise is to get practice thinking through how Python executes functions and how values are passed among functions. \n",
    "\n",
    "In particular, we would like you to write out function stack diagrams like those illustrated in the Coursera video on Functions:\n",
    "\n",
    "[<img src=\"images/stack_diagrams_example.png\" width=\"350\"/>](images/stack_diagrams_example.png)"
   ]
  },
  {
   "cell_type": "markdown",
   "id": "48079995",
   "metadata": {},
   "source": [
    "## The Code\n",
    "\n",
    "Below you will find the code we wish for you to execute and diagram. Please be sure to also read below the code for some additional notes on its content."
   ]
  },
  {
   "cell_type": "markdown",
   "id": "00fd1e54",
   "metadata": {},
   "source": [
    "\n",
    "```python\n",
    "\n",
    "def f(x):\n",
    "    if x == 7:\n",
    "        warning = \"f(7) is illegal\"\n",
    "        print(warning)\n",
    "        return warning\n",
    "    return (x + 3) * 2\n",
    "\n",
    "\n",
    "def g(x, y):\n",
    "    if not isinstance(x, int):\n",
    "        report = \"x must be an int in g(x,y)\"\n",
    "        return report\n",
    "    else:\n",
    "        try:\n",
    "            return x + f(y)\n",
    "        except:\n",
    "            return 42\n",
    "\n",
    "\n",
    "def h(x, y):\n",
    "    return g(x, y - 3)\n",
    "\n",
    "\n",
    "def main():\n",
    "    for args in [(1, 2), (\"hello\", 4), (3, 10), (4, 3)]:\n",
    "        i = args[0]\n",
    "        j = args[1]\n",
    "        print(f\"i = {i}, j = {j}\")\n",
    "        print(str(h(i, j)))\n",
    "\n",
    "\n",
    "if __name__ == \"__main__\":\n",
    "    main()\n",
    "```"
   ]
  },
  {
   "cell_type": "markdown",
   "id": "0d0d37a4",
   "metadata": {},
   "source": [
    "## New Things in This Code\n",
    "\n",
    "There are a couple things in this code that you have not encountered before. We promise they are not particularly difficult to understand, they're just new. "
   ]
  },
  {
   "cell_type": "markdown",
   "id": "15b28566",
   "metadata": {},
   "source": [
    "### `isinstance()`\n",
    "\n",
    "We haven't gotten too far into the Python type system, but `isinstance()` is a function that checks whether the value associated with a variable is of a given type. It returns `True` if it is, and `False` if it is not. \n"
   ]
  },
  {
   "cell_type": "code",
   "execution_count": 1,
   "id": "5cbc2f14",
   "metadata": {},
   "outputs": [
    {
     "name": "stdout",
     "output_type": "stream",
     "text": [
      "True\n"
     ]
    }
   ],
   "source": [
    "# Is `x` an integer?\n",
    "x = 5\n",
    "print(isinstance(x, int))"
   ]
  },
  {
   "cell_type": "code",
   "execution_count": 2,
   "id": "dbeda955",
   "metadata": {},
   "outputs": [
    {
     "name": "stdout",
     "output_type": "stream",
     "text": [
      "False\n"
     ]
    }
   ],
   "source": [
    "x = \"hello\"\n",
    "print(isinstance(x, int))"
   ]
  },
  {
   "cell_type": "markdown",
   "id": "bc28547d",
   "metadata": {},
   "source": [
    "### try-except Blocks\n",
    "\n",
    "The logic of a try-except block is that Python will try to execute the code in the `try` block, but if it is unable to execute the code without generating an error, it should run the code in the `except` block instead.\n",
    "\n",
    "So if I wrote the function:\n",
    "\n",
    "```python\n",
    "def add_numbers(x, y):\n",
    "    try:\n",
    "        product = x * y\n",
    "        return product\n",
    "    except:\n",
    "        print(f\"Can't multiply {x} and {y}\")\n",
    "```\n",
    "\n",
    "Then tried to run it with two strings as arguments: \n",
    "\n",
    "```python\n",
    "add_numbers(\"hello\", \"world\")\n",
    "```\n",
    "\n",
    "Python would try to execute `product = x * y`, but because that code would normally raise a `TypeError` because you can't multiply two strings, Python would print out `Can't multiply hello and world` instead:\n"
   ]
  },
  {
   "cell_type": "code",
   "execution_count": 3,
   "id": "bead0b3f",
   "metadata": {},
   "outputs": [
    {
     "name": "stdout",
     "output_type": "stream",
     "text": [
      "Can't multiply hello and world\n"
     ]
    }
   ],
   "source": [
    "def add_numbers(x, y):\n",
    "    try:\n",
    "        product = x * y\n",
    "        return product\n",
    "    except:\n",
    "        print(f\"Can't multiply {x} and {y}\")\n",
    "\n",
    "\n",
    "add_numbers(\"hello\", \"world\")"
   ]
  },
  {
   "cell_type": "markdown",
   "id": "272fa653",
   "metadata": {},
   "source": [
    "\n",
    "### `if __name__ == \"__main__\":`\n",
    "\n",
    "Why did we put the `main()` call under the if statement `if __name__ == \"__main__\":`? This `if` statement will be true anytime a `.py` file is directly executed (e.g., by clicking the triangle \"play\" button in VS Code). So it will behave exactly the way `main()` has operated in all the exercises you've done so far.\n",
    "\n",
    "The if statement is commonly used in Python because it will *not* be true if someone imports this file into another program. When a file is imported into another program, Python runs most of the code in the imported file so the functions in the file will be available in the importing program. But since we sometimes have code we don't want run in that situation, we put it inside an `if __name__ == \"__main__\":` statement.\n",
    "\n",
    "From now on, you should follow the practice of putting the primary function call of your script in this if-statement.\n",
    "\n",
    "> What exactly is `__name__` and why does it matter if it is equal to `\"__main__\"`? You don't need to worry about understanding it, but if you're curious: when a Python file is run, Python automatically creates a variable called `__name__`. If the file has been called directly, the value of `__name__` is set to `\"__main__\"`. But if a file is imported (like when a file is run in the process of importing a module), `__name__` takes on the value of module name. "
   ]
  }
 ],
 "metadata": {
  "kernelspec": {
   "display_name": "base",
   "language": "python",
   "name": "python3"
  },
  "language_info": {
   "codemirror_mode": {
    "name": "ipython",
    "version": 3
   },
   "file_extension": ".py",
   "mimetype": "text/x-python",
   "name": "python",
   "nbconvert_exporter": "python",
   "pygments_lexer": "ipython3",
   "version": "3.12.8"
  }
 },
 "nbformat": 4,
 "nbformat_minor": 5
}
