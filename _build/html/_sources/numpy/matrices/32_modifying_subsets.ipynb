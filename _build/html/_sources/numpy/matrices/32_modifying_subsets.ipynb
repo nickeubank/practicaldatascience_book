{
    "cells": [
        {
            "cell_type": "markdown",
            "metadata": {},
            "source": [
                "# Editing Subsets"
            ]
        },
        {
            "cell_type": "markdown",
            "metadata": {},
            "source": [
                "Sometimes we want to modify a *part* of a matrix. For example, suppose we were working with our survey data, and we want to multiply all the income values by `1.02` to adjust for inflation that has occurred since the survey. Obviously, if we just multiplied the matrix by `1.02`, we'd also modify things like education and age:"
            ]
        },
        {
            "cell_type": "code",
            "execution_count": 1,
            "metadata": {},
            "outputs": [
                {
                    "data": {
                        "text/plain": [
                            "array([[   20, 22000,    12],\n",
                            "       [   35, 65000,    16],\n",
                            "       [   55, 19000,    11],\n",
                            "       [   45, 35000,    12]])"
                        ]
                    },
                    "execution_count": 1,
                    "metadata": {},
                    "output_type": "execute_result"
                }
            ],
            "source": [
                "import numpy as np\n",
                "\n",
                "\n",
                "survey = np.array(\n",
                "    [[20, 22_000, 12], [35, 65_000, 16], [55, 19_000, 11], [45, 35_000, 12]]\n",
                ")\n",
                "\n",
                "survey"
            ]
        },
        {
            "cell_type": "code",
            "execution_count": 2,
            "metadata": {},
            "outputs": [
                {
                    "data": {
                        "text/plain": [
                            "array([[2.040e+01, 2.244e+04, 1.224e+01],\n",
                            "       [3.570e+01, 6.630e+04, 1.632e+01],\n",
                            "       [5.610e+01, 1.938e+04, 1.122e+01],\n",
                            "       [4.590e+01, 3.570e+04, 1.224e+01]])"
                        ]
                    },
                    "execution_count": 2,
                    "metadata": {},
                    "output_type": "execute_result"
                }
            ],
            "source": [
                "survey * 1.02"
            ]
        },
        {
            "cell_type": "markdown",
            "metadata": {},
            "source": [
                "What we can do instead is extract the column with income, modify it, then replace the old income column with our updated column:"
            ]
        },
        {
            "cell_type": "code",
            "execution_count": 3,
            "metadata": {},
            "outputs": [
                {
                    "data": {
                        "text/plain": [
                            "array([[   20, 22440,    12],\n",
                            "       [   35, 66300,    16],\n",
                            "       [   55, 19380,    11],\n",
                            "       [   45, 35700,    12]])"
                        ]
                    },
                    "execution_count": 3,
                    "metadata": {},
                    "output_type": "execute_result"
                }
            ],
            "source": [
                "income_column = survey[:, 1]  # Extract income\n",
                "adjusted_income = income_column * 1.02  # Adjust income\n",
                "survey[:, 1] = adjusted_income  # Replace income with new values!\n",
                "survey"
            ]
        },
        {
            "cell_type": "markdown",
            "metadata": {},
            "source": [
                "Or, if we wanted, we could actually do all this in one step:"
            ]
        },
        {
            "cell_type": "code",
            "execution_count": 4,
            "metadata": {},
            "outputs": [],
            "source": [
                "# Re-make survey so it hasn't been adjusted for inflation\n",
                "survey = np.array(\n",
                "    [[20, 22_000, 12], [35, 65_000, 16], [55, 19_000, 11], [45, 35_000, 12]]\n",
                ")"
            ]
        },
        {
            "cell_type": "code",
            "execution_count": 5,
            "metadata": {},
            "outputs": [
                {
                    "data": {
                        "text/plain": [
                            "array([[   20, 22440,    12],\n",
                            "       [   35, 66300,    16],\n",
                            "       [   55, 19380,    11],\n",
                            "       [   45, 35700,    12]])"
                        ]
                    },
                    "execution_count": 5,
                    "metadata": {},
                    "output_type": "execute_result"
                }
            ],
            "source": [
                "# Now adjust income in one step!\n",
                "survey[:, 1] = survey[:, 1] * 1.02\n",
                "survey"
            ]
        },
        {
            "cell_type": "markdown",
            "metadata": {},
            "source": [
                "And this is *especially* powerful if we subset on BOTH rows and columns. Suppose, for example, we wanted to see what people's incomes would look like if anyone who didn't finish high school (`education < 12`) got a tax credit of 10,000 dollars:"
            ]
        },
        {
            "cell_type": "code",
            "execution_count": 6,
            "metadata": {},
            "outputs": [],
            "source": [
                "survey[survey[:, 2] < 12, 1] = survey[survey[:, 2] < 12, 1] + 10000"
            ]
        },
        {
            "cell_type": "code",
            "execution_count": 7,
            "metadata": {},
            "outputs": [
                {
                    "data": {
                        "text/plain": [
                            "array([[   20, 22440,    12],\n",
                            "       [   35, 66300,    16],\n",
                            "       [   55, 29380,    11],\n",
                            "       [   45, 35700,    12]])"
                        ]
                    },
                    "execution_count": 7,
                    "metadata": {},
                    "output_type": "execute_result"
                }
            ],
            "source": [
                "survey"
            ]
        },
        {
            "cell_type": "markdown",
            "metadata": {},
            "source": [
                "## Views and Copies with Matrices\n",
                "\n",
                "When it comes to views and copies, the same rules apply to matrices as applied to vectors: if you create a subset through simple indexing, the result will be a view; if you create a subset by a different method, you get a copy!"
            ]
        },
        {
            "cell_type": "markdown",
            "metadata": {},
            "source": [
                "And that's it! Now you're a matrix pro. "
            ]
        },
        {
            "cell_type": "markdown",
            "metadata": {},
            "source": [
                "## Exercises\n",
                "\n",
                "1. Using `np.arange`, create a 3 x 5 matrix with all the numbers from 0 to 14. Assignment to the variable `my_matrix`.\n",
                "2. Subset the third and fourth columns of the matrix (the columns starting with 2 and 3) with simple indexing. Assign the subset to the variable `m2`.\n",
                "3. Change the top, left-most element of your new matrix `m2` to `-99`.\n",
                "4. Without running any code, try and predict what `my_matrix` currently looks like.\n",
                "5. Now check `my_matrix`—does it look how you expected? Why or why not?"
            ]
        }
    ],
    "metadata": {
        "kernelspec": {
            "display_name": "Python 3.10.6 ('base')",
            "language": "python",
            "name": "python3"
        },
        "language_info": {
            "codemirror_mode": {
                "name": "ipython",
                "version": 3
            },
            "file_extension": ".py",
            "mimetype": "text/x-python",
            "name": "python",
            "nbconvert_exporter": "python",
            "pygments_lexer": "ipython3",
            "version": "3.10.6"
        },
        "orig_nbformat": 4,
        "vscode": {
            "interpreter": {
                "hash": "718fed28bf9f8c7851519acf2fb923cd655120b36de3b67253eeb0428bd33d2d"
            }
        }
    },
    "nbformat": 4,
    "nbformat_minor": 2
}
