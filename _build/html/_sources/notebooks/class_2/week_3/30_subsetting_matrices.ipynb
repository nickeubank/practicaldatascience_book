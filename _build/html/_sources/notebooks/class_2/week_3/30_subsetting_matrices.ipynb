{
    "cells": [
        {
            "cell_type": "markdown",
            "metadata": {},
            "source": [
                "# Subsetting Matrices"
            ]
        },
        {
            "cell_type": "markdown",
            "metadata": {},
            "source": [
                "The great thing about matrices is that since they are just generalizations of vectors from one dimension to two, subsetting matrices works *almost* the same way it works with vectors. \n",
                "\n",
                "Basically, instead of identifying a subset by passing an index in square brackets (e.g. `[1]`), we pass *two* indices (the first corresponding to a location along the first dimension, the second corresponding to a location along the second dimension) separated by a comma (e.g. `[1, 1]`)."
            ]
        },
        {
            "cell_type": "markdown",
            "metadata": {},
            "source": [
                "## Subsetting by Simple Index\n",
                "\n",
                "Suppose we have the following matrix:"
            ]
        },
        {
            "cell_type": "code",
            "execution_count": 3,
            "metadata": {},
            "outputs": [
                {
                    "data": {
                        "text/plain": [
                            "array([[ 0,  1,  2,  3],\n",
                            "       [ 4,  5,  6,  7],\n",
                            "       [ 8,  9, 10, 11]])"
                        ]
                    },
                    "execution_count": 3,
                    "metadata": {},
                    "output_type": "execute_result"
                }
            ],
            "source": [
                "import numpy as np\n",
                "\n",
                "our_matrix = np.arange(12).reshape((3, 4))\n",
                "our_matrix"
            ]
        },
        {
            "cell_type": "markdown",
            "metadata": {},
            "source": [
                "![Matrices](img/2.3.30-matrix_subsetting_0.png)"
            ]
        },
        {
            "cell_type": "markdown",
            "metadata": {},
            "source": [
                "To subset by simple indexing, we pass an index on the x-axis (rows) and index along the y-axis (columns) separated by a comma. \n",
                "\n",
                "For example, if we wanted the entry from the second row and third column (as always, remembering the first entry in each dimension has index `0`), we'd type:"
            ]
        },
        {
            "cell_type": "code",
            "execution_count": 4,
            "metadata": {},
            "outputs": [
                {
                    "data": {
                        "text/plain": [
                            "6"
                        ]
                    },
                    "execution_count": 4,
                    "metadata": {},
                    "output_type": "execute_result"
                }
            ],
            "source": [
                "our_matrix[1, 2]"
            ]
        },
        {
            "cell_type": "markdown",
            "metadata": {},
            "source": [
                "![Matrices](img/2.3.30-matrix_subsetting_1.png)"
            ]
        },
        {
            "cell_type": "markdown",
            "metadata": {},
            "source": [
                "And just like with vectors, we can also pass ranges of indices using `:`. So if we wanted the four elements in the top left corner of our matrix, we could pass the following (recall that with `:` ranges, the last element is not included):"
            ]
        },
        {
            "cell_type": "code",
            "execution_count": 5,
            "metadata": {},
            "outputs": [
                {
                    "data": {
                        "text/plain": [
                            "array([[0, 1],\n",
                            "       [4, 5]])"
                        ]
                    },
                    "execution_count": 5,
                    "metadata": {},
                    "output_type": "execute_result"
                }
            ],
            "source": [
                "our_matrix[0:2, 0:2]"
            ]
        },
        {
            "cell_type": "markdown",
            "metadata": {},
            "source": [
                "![Matrices](img/2.3.30-matrix_subsetting_2.png)"
            ]
        },
        {
            "cell_type": "markdown",
            "metadata": {},
            "source": [
                "The one behavior that comes up in matrices that tends not to come up in vectors is that if you want ALL entries along a specific dimension, you still put in a comma and type `:` for the dimension on which you want all observations. So if I wanted all the columns in the second row (index 1), I'd type:"
            ]
        },
        {
            "cell_type": "code",
            "execution_count": 6,
            "metadata": {},
            "outputs": [
                {
                    "data": {
                        "text/plain": [
                            "array([4, 5, 6, 7])"
                        ]
                    },
                    "execution_count": 6,
                    "metadata": {},
                    "output_type": "execute_result"
                }
            ],
            "source": [
                "our_matrix[1, :]"
            ]
        },
        {
            "cell_type": "markdown",
            "metadata": {},
            "source": [
                "![Matrices](img/2.3.30-matrix_subsetting_3.png)"
            ]
        },
        {
            "cell_type": "markdown",
            "metadata": {},
            "source": [
                "Or if I wanted all the rows of the third column, I'd type:"
            ]
        },
        {
            "cell_type": "code",
            "execution_count": 7,
            "metadata": {},
            "outputs": [
                {
                    "data": {
                        "text/plain": [
                            "array([ 2,  6, 10])"
                        ]
                    },
                    "execution_count": 7,
                    "metadata": {},
                    "output_type": "execute_result"
                }
            ],
            "source": [
                "our_matrix[:, 2]"
            ]
        },
        {
            "cell_type": "markdown",
            "metadata": {},
            "source": [
                "![Matrices](img/2.3.30-matrix_subsetting_4.png)"
            ]
        },
        {
            "cell_type": "markdown",
            "metadata": {},
            "source": [
                "## Subsetting with Logicals\n",
                "\n",
                "Subsetting with logical vectors also generalizes from vectors to matrices in the same way. To illustrate, let's go back to our toy matrix of survey responses where each row represents a different person, and the columns represent respondent age, income, and years of education:\n"
            ]
        },
        {
            "cell_type": "code",
            "execution_count": 8,
            "metadata": {},
            "outputs": [
                {
                    "data": {
                        "text/plain": [
                            "array([[   20, 22000,    12],\n",
                            "       [   35, 65000,    16],\n",
                            "       [   55, 19000,    11],\n",
                            "       [   45, 35000,    12]])"
                        ]
                    },
                    "execution_count": 8,
                    "metadata": {},
                    "output_type": "execute_result"
                }
            ],
            "source": [
                "import numpy as np\n",
                "\n",
                "survey = np.array(\n",
                "    [[20, 22_000, 12], [35, 65_000, 16], [55, 19_000, 11], [45, 35_000, 12]]\n",
                ")\n",
                "\n",
                "survey"
            ]
        },
        {
            "cell_type": "markdown",
            "metadata": {},
            "source": [
                "If we wanted to select all the rows where income was less than the US median income (about 64,000), we would first extract the income column, then create a logical column that's `TRUE` if income is below 65,000, then put that in the first position of our square brackets:"
            ]
        },
        {
            "cell_type": "code",
            "execution_count": 9,
            "metadata": {},
            "outputs": [
                {
                    "data": {
                        "text/plain": [
                            "array([22000, 65000, 19000, 35000])"
                        ]
                    },
                    "execution_count": 9,
                    "metadata": {},
                    "output_type": "execute_result"
                }
            ],
            "source": [
                "income = survey[:, 1]\n",
                "income"
            ]
        },
        {
            "cell_type": "code",
            "execution_count": 10,
            "metadata": {},
            "outputs": [
                {
                    "data": {
                        "text/plain": [
                            "array([ True, False,  True,  True])"
                        ]
                    },
                    "execution_count": 10,
                    "metadata": {},
                    "output_type": "execute_result"
                }
            ],
            "source": [
                "below_median = income < 64000\n",
                "below_median"
            ]
        },
        {
            "cell_type": "code",
            "execution_count": 11,
            "metadata": {},
            "outputs": [
                {
                    "data": {
                        "text/plain": [
                            "array([[   20, 22000,    12],\n",
                            "       [   55, 19000,    11],\n",
                            "       [   45, 35000,    12]])"
                        ]
                    },
                    "execution_count": 11,
                    "metadata": {},
                    "output_type": "execute_result"
                }
            ],
            "source": [
                "survey[below_median, :]"
            ]
        },
        {
            "cell_type": "markdown",
            "metadata": {},
            "source": [
                "Or, of course, we could do that all in one line instead of breaking out the steps:"
            ]
        },
        {
            "cell_type": "code",
            "execution_count": 12,
            "metadata": {},
            "outputs": [
                {
                    "data": {
                        "text/plain": [
                            "array([[   20, 22000,    12],\n",
                            "       [   55, 19000,    11],\n",
                            "       [   45, 35000,    12]])"
                        ]
                    },
                    "execution_count": 12,
                    "metadata": {},
                    "output_type": "execute_result"
                }
            ],
            "source": [
                "survey[survey[:, 1] < 64000, :]"
            ]
        },
        {
            "cell_type": "markdown",
            "metadata": {},
            "source": [
                "## Subsetting by Row and Column Simultaneously"
            ]
        },
        {
            "cell_type": "markdown",
            "metadata": {},
            "source": [
                "Often, we don't just want to subset rows or columns, but both at once. For example, suppose I wanted the education levels of everyone with incomes below the US median. I could do this in two steps by subsetting rows and then subsetting columns:"
            ]
        },
        {
            "cell_type": "code",
            "execution_count": 13,
            "metadata": {},
            "outputs": [
                {
                    "data": {
                        "text/plain": [
                            "array([12, 11, 12])"
                        ]
                    },
                    "execution_count": 13,
                    "metadata": {},
                    "output_type": "execute_result"
                }
            ],
            "source": [
                "below_median = survey[survey[:, 1] < 64000, :]\n",
                "below_median[:, 2]"
            ]
        },
        {
            "cell_type": "markdown",
            "metadata": {},
            "source": [
                "Or I can do it all in one command!"
            ]
        },
        {
            "cell_type": "code",
            "execution_count": 14,
            "metadata": {},
            "outputs": [
                {
                    "data": {
                        "text/plain": [
                            "array([12, 11, 12])"
                        ]
                    },
                    "execution_count": 14,
                    "metadata": {},
                    "output_type": "execute_result"
                }
            ],
            "source": [
                "survey[survey[:, 1] < 64000, 2]"
            ]
        },
        {
            "cell_type": "markdown",
            "metadata": {},
            "source": [
                "So what is the average education of people earning less than the median income in the US in our toy data?"
            ]
        },
        {
            "cell_type": "code",
            "execution_count": 15,
            "metadata": {},
            "outputs": [
                {
                    "data": {
                        "text/plain": [
                            "11.666666666666666"
                        ]
                    },
                    "execution_count": 15,
                    "metadata": {},
                    "output_type": "execute_result"
                }
            ],
            "source": [
                "np.mean(survey[survey[:, 1] < 64000, 2])"
            ]
        },
        {
            "cell_type": "markdown",
            "metadata": {},
            "source": [
                "OK—I know we've just covered a lot, but hopefully, that example makes clear how quickly we can start doing really, really powerful analyses and answering substantive questions *just by subsetting our data carefully.*"
            ]
        },
        {
            "cell_type": "markdown",
            "metadata": {},
            "source": [
                "## Fancy Indexing\n",
                "\n",
                "Just like with vectors, you can also subset matrices with *fancy indexing* by passing a list or array of indices. Unlike in vectors, however, the behavior of fancy indexing isn't quite analogous to what you get with simple indexing. Honestly, it's weird enough that I never use it, but here it is for completeness:\n",
                "\n",
                "Basically, to do fancy indexing you pass two lists or arrays separated by a comma, then the entries of those lists are *paired up* to create coordinates. So for example, the following code:"
            ]
        },
        {
            "cell_type": "code",
            "execution_count": 16,
            "metadata": {},
            "outputs": [
                {
                    "data": {
                        "text/plain": [
                            "array([ 0,  5, 10])"
                        ]
                    },
                    "execution_count": 16,
                    "metadata": {},
                    "output_type": "execute_result"
                }
            ],
            "source": [
                "our_matrix[[0, 1, 2], [0, 1, 2]]"
            ]
        },
        {
            "cell_type": "markdown",
            "metadata": {},
            "source": [
                "Is pulling the entry at `0, 0`, the entry at `1, 1`, and the entry at `2, 2` (e.g. the matrix's diagonal)."
            ]
        },
        {
            "cell_type": "markdown",
            "metadata": {},
            "source": [
                "![Matrices](img/2.3.30-matrix_subsetting_5.png)"
            ]
        },
        {
            "cell_type": "markdown",
            "metadata": {},
            "source": [
                "As I said, I don't ever use this behavior personally, but it's good to be aware it exists."
            ]
        },
        {
            "cell_type": "markdown",
            "metadata": {},
            "source": [
                "## Naming Rows and Columns\n",
                "\n",
                "If you've worked with matrices or data frames in other languages, at this point you may be saying \"Why do I have to identify my columns by index?! Can't I give them nice, human-readable names?\" \n",
                "\n",
                "The answer is yes, numpy does provide some utilities for naming rows and columns. However, they're a little clunky, so most people interested in being able to name their columns end up using a different library called *pandas* which will be the focus of one of our later courses. Pandas is a library that is built on top of numpy—so it's really important we learn numpy before we learn pandas!—and provides a lot of tools to make numpy easier to use, like the ability to easily give your columns human-readable names. "
            ]
        },
        {
            "cell_type": "markdown",
            "metadata": {},
            "source": [
                "## Exercises\n",
                "\n",
                "1. Using `np.arange`, create a 4 x 5 matrix with all the numbers from 0 to 19.\n",
                "2. Subset the bottom, right-most entry (the number 19) from the matrix with simple indexing.\n",
                "3. Subset the entire second row of the matrix (the row starting with the number 5) with simple indexing.\n",
                "4. Subset the third and fourth columns of the matrix (the columns starting with 2 and 3) with simple indexing.\n",
                "5. Create the matrix `survey` created above. Recall that each row of this matrix contains survey responses from a different person, where the first column contains respondent ages, the second column contains incomes, and the third column contains years of education. Subset the matrix with a logical test to get only respondents with 12 or more years of education. \n",
                "6. Now, in a single line of code, subset your `survey` matrix to get the incomes of respondents with 12 or more years of education.\n",
                "7. Now, in a single line of code, calculate the average income of respondents with 12 or more years of education. "
            ]
        }
    ],
    "metadata": {
        "interpreter": {
            "hash": "3e0a5228cb9726a24d36227c69ed0d3aac98cecda769d1c9adb080711d57f90d"
        },
        "kernelspec": {
            "display_name": "R",
            "language": "python",
            "name": "python3"
        },
        "language_info": {
            "codemirror_mode": {
                "name": "ipython",
                "version": 3
            },
            "file_extension": ".py",
            "mimetype": "text/x-python",
            "name": "python",
            "nbconvert_exporter": "python",
            "pygments_lexer": "ipython3",
            "version": "3.9.7"
        },
        "orig_nbformat": 4
    },
    "nbformat": 4,
    "nbformat_minor": 2
}
