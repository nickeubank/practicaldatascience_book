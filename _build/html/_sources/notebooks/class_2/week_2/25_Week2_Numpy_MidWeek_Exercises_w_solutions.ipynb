{
    "cells": [
        {
            "cell_type": "markdown",
            "metadata": {},
            "source": [
                "# (Ungraded) Vector Exercises\n",
                "\n",
                "**Note**: \n",
                "\n",
                "> This exercise has been written out in something called a Jupyter Notebook. We'll discuss Jupyter Notebooks in more detail later in the course—they are very a powerful tool for data science communication!—but for the time being, the notebook is just a convenient way for us to write out the exercise. You don't need to *do* anything with the notebook except read its contents—just use write your Python code in a regular `.py` file.\n",
                "\n",
                "## Exercise 1: Favorite Numbers\n",
                "\n",
                "1. Make a vector called `my_favorite_numbers` containing my favorite numbers: `42`, `47`, and `10,213,223`.\n",
                "   - (Can you figure out why each one is interesting to me? There's a story behind every one!)\n",
                "2. Use the `np.mean()` function to find out the average of my favorite numbers. \n",
                "3. Can you get Python to report back to you the length of my vector in two ways?\n",
                "4. Create a vector will all the numbers from 1-10 *without* typing out all the numbers from 1 to 10 called `first_ten` (note I'm asking for all of the numbers from **1** to 10, including 10 itself, not zero to 10).\n",
                "5. Now double all the values of `first_ten` in one operation.\n",
                "6. Now create a new variable by adding `first_ten` to itself."
            ]
        },
        {
            "cell_type": "markdown",
            "metadata": {},
            "source": [
                "## Vector Exercise 2: The US Income Distribution\n",
                "\n",
                "In these exercises, we will load and work with a vector that contains estimates of the total income (from all sources) of a random sample of American households collected by the U.S. Census Bureau in 2015-2019 as part of the American Community Survey (ACS).\n",
                "\n",
                "(Apologies to people who are not from the United States -- most of our users come from the US, so picking the United States seemed like the least bad option. However, if you are interested in completing these same exercises for your own country, head over to [IPUMS International](https://international.ipums.org/international/) to see if analogous income data has been made available by your country's Census Bureau. Simply click on the \"Browse Data\" button, then \"Select Sample\" in the top left to find the most recent data available for your country. Then see if you can find income data under the \"Select Harmonized Variables\" \"PERSON\" or \"HOUSEHOLD\" drop-down menus. Note that income data is hard to collect, so it's probably not available for most countries.)\n",
                "\n",
                "1. Estimate your own *household's* gross (pretax) income and write it down (we will be working with household gross income, so if multiple people in your household work add up their incomes.) \n",
                "   - If you aren't an American, head over to [this OECD website](https://data.oecd.org/conversion/purchasing-power-parities-ppp.htm) to find the Purchasing Power Parity (PPP) exchange-rate between your currency and the US dollar in 2019. Note that this exchange rate may be quite different from the official exchange rate -- [PPP is a method of calculating exchange rates](https://en.wikipedia.org/wiki/Purchasing_power_parity) that is meant to take into account differences in cost-of-living and labor across countries to generate an exchange rate that accurately reflects buying power.\n",
                "2. Now make a guess about what share of American households earn less money than your household (in other words, what is your household's *income percentile*). For example, if I thought my household earned more than 90% of households, I would say that my household is in the 90th income percentile.\n",
                "3. We are now going to load a vector of total incomes for a representative sample of US households between 2015 and 2019. Use the command `np.loadtxt(\"data/us_household_incomes.txt\")` to load the vector. Make sure to assign the result of that command to a new variable.\n",
                "4. What was the mean (average) household income in the United States between 2015 and 2019?\n",
                "5. What was the median household income in the United States during this period? (hint: if `np.mean()` returns the mean of a vector, you can probably guess how to get the median... :) ). The median income is the income of the household that earned more than 50% of American households, and earned less than 50% of American households.\n",
                "   -  You will notice that the median household income is significantly less than the average -- that's because there are a small amount of households in the US that earn a great deal of money and pull up the average.\n",
                "6. Now let's see if your impression of where *your* household sat in the US income distribution was correct! The function `np.percentile(v, p)` returns the value for which the percent of observations `p` in the vector `v` have values less than the return value. So for example, `np.percentile(incomes, 10)` will return the household income (if I named the vector that I got in question 3 `incomes`) that is greater than 10% of the values in `incomes` (and implicitly the income that is less than the income of the other ~90% of households). If you plug in the percentile that you guessed in question 2, does that look like your household's gross income? \n",
                "   - Odds are that you guessed that you are somewhere near the middle of the US income distribution, but that you are not -- this is actually [a well-documented sociological phenomenon!](https://www.theatlantic.com/politics/archive/2013/08/why-americans-all-believe-they-are-middle-class/278240/).\n",
                "7. Try out different percentiles until you find where *your* household fits into the US income distribution!\n",
                "8. In the recent *Occupy Wall Street* movement in the United States, protesters could often be seen holding signs that read \"We Are The 99%!\" and \"Tax the 1%!\". Without checking the data, what household income cut off do you think defines people who are in the 1%?\n",
                "9. Now check your data -- using `np.percentile()`, what is the income cut off that puts a household in the 1%? Is that more or less than what you expected? Then [check out this article!](https://www.chicagobooth.edu/review/never-mind-1-percent-lets-talk-about-001-percent) **Note:** This data cannot be used to reliably measure income cutoffs much above the top 1% given the number of observations in the data."
            ]
        },
        {
            "cell_type": "markdown",
            "metadata": {},
            "source": [
                "## Want to Check Your Answers?\n",
                "\n",
                "While this is an ungraded exercise, there is a quiz on Coursera where you can submit your answers to verifiable questions (i.e., questions for which everyone will have the same answer) to check you got the right thing."
            ]
        },
        {
            "cell_type": "markdown",
            "metadata": {},
            "source": [
                "### Data Citation\n",
                "\n",
                "The ACS data used in this exercise are a subsample of the IPUMS USA data available from [usa.ipums.org.](usa.ipums.org)\n",
                "\n",
                "Please cite use of the data as follows: Steven Ruggles, Sarah Flood, Sophia Foster, Ronald Goeken, Jose Pacas, Megan Schouweiler and Matthew Sobek. IPUMS USA: Version 11.0 [dataset]. Minneapolis, MN: IPUMS, 2021. https://doi.org/10.18128/D010.V11.0\n",
                "\n",
                "These data are intended for this exercise only. Individuals analyzing the data for other purposes must submit a separate data extract request directly via IPUMS USA.\n",
                "\n",
                "Individuals are not to redistribute the data without permission. Contact ipums@umn.edu for redistribution requests."
            ]
        },
        {
            "cell_type": "markdown",
            "metadata": {},
            "source": [
                "## Solutions\n",
                "\n",
                "### Exercise 1"
            ]
        },
        {
            "cell_type": "code",
            "execution_count": 1,
            "metadata": {},
            "outputs": [
                {
                    "data": {
                        "text/plain": [
                            "array([      42,       47, 10213223])"
                        ]
                    },
                    "execution_count": 1,
                    "metadata": {},
                    "output_type": "execute_result"
                }
            ],
            "source": [
                "# Question 1\n",
                "import numpy as np\n",
                "\n",
                "my_favorite_numbers = np.array([42, 47, 10_213_223])\n",
                "my_favorite_numbers\n",
                "# 42: Answer to the Ultimate Question of Life, the Universe, and Everything\n",
                "# 47: My alma mater's favorite number, and a favorite of my favorite show (Star Trek) \n",
                "    #  https://en.wikipedia.org/wiki/47_(number)#In_popular_culture\n",
                "# 10_213_223: Self describing, in order! One 0, two 1s, three 2's, two 3's\n"
            ]
        },
        {
            "cell_type": "code",
            "execution_count": 2,
            "metadata": {},
            "outputs": [
                {
                    "data": {
                        "text/plain": [
                            "3404437.3333333335"
                        ]
                    },
                    "execution_count": 2,
                    "metadata": {},
                    "output_type": "execute_result"
                }
            ],
            "source": [
                "# Question 2\n",
                "np.mean(my_favorite_numbers)\n"
            ]
        },
        {
            "cell_type": "code",
            "execution_count": 3,
            "metadata": {},
            "outputs": [
                {
                    "data": {
                        "text/plain": [
                            "3"
                        ]
                    },
                    "execution_count": 3,
                    "metadata": {},
                    "output_type": "execute_result"
                }
            ],
            "source": [
                "# Question 3\n",
                "len(my_favorite_numbers)"
            ]
        },
        {
            "cell_type": "code",
            "execution_count": 4,
            "metadata": {},
            "outputs": [
                {
                    "data": {
                        "text/plain": [
                            "3"
                        ]
                    },
                    "execution_count": 4,
                    "metadata": {},
                    "output_type": "execute_result"
                }
            ],
            "source": [
                "my_favorite_numbers.size"
            ]
        },
        {
            "cell_type": "code",
            "execution_count": 5,
            "metadata": {},
            "outputs": [
                {
                    "data": {
                        "text/plain": [
                            "array([ 1,  2,  3,  4,  5,  6,  7,  8,  9, 10])"
                        ]
                    },
                    "execution_count": 5,
                    "metadata": {},
                    "output_type": "execute_result"
                }
            ],
            "source": [
                "# Question 4\n",
                "\n",
                "first_ten = np.arange(1, 11)\n",
                "first_ten"
            ]
        },
        {
            "cell_type": "code",
            "execution_count": 6,
            "metadata": {},
            "outputs": [
                {
                    "data": {
                        "text/plain": [
                            "array([ 2,  4,  6,  8, 10, 12, 14, 16, 18, 20])"
                        ]
                    },
                    "execution_count": 6,
                    "metadata": {},
                    "output_type": "execute_result"
                }
            ],
            "source": [
                "# Question 5\n",
                "\n",
                "first_ten * 2"
            ]
        },
        {
            "cell_type": "code",
            "execution_count": 7,
            "metadata": {},
            "outputs": [
                {
                    "data": {
                        "text/plain": [
                            "array([ 2,  4,  6,  8, 10, 12, 14, 16, 18, 20])"
                        ]
                    },
                    "execution_count": 7,
                    "metadata": {},
                    "output_type": "execute_result"
                }
            ],
            "source": [
                "# Question 6\n",
                "\n",
                "doubled = first_ten + first_ten\n",
                "doubled"
            ]
        },
        {
            "cell_type": "markdown",
            "metadata": {},
            "source": [
                "\n",
                "### Exercise 2"
            ]
        },
        {
            "cell_type": "code",
            "execution_count": 8,
            "metadata": {},
            "outputs": [
                {
                    "data": {
                        "text/plain": [
                            "array([ 53308., 102050., 192994., ..., 407460.,  19856., 154754.])"
                        ]
                    },
                    "execution_count": 8,
                    "metadata": {},
                    "output_type": "execute_result"
                }
            ],
            "source": [
                "# Question three\n",
                "import numpy as np\n",
                "\n",
                "income = np.loadtxt(\"data/us_household_incomes.txt\")\n",
                "income"
            ]
        },
        {
            "cell_type": "code",
            "execution_count": 9,
            "metadata": {},
            "outputs": [
                {
                    "data": {
                        "text/plain": [
                            "88298.96448626157"
                        ]
                    },
                    "execution_count": 9,
                    "metadata": {},
                    "output_type": "execute_result"
                }
            ],
            "source": [
                "# Question 4\n",
                "\n",
                "np.mean(income)"
            ]
        },
        {
            "cell_type": "code",
            "execution_count": 10,
            "metadata": {},
            "outputs": [
                {
                    "data": {
                        "text/plain": [
                            "62576.0"
                        ]
                    },
                    "execution_count": 10,
                    "metadata": {},
                    "output_type": "execute_result"
                }
            ],
            "source": [
                "# Question 5\n",
                "\n",
                "np.median(income)"
            ]
        },
        {
            "cell_type": "code",
            "execution_count": 11,
            "metadata": {},
            "outputs": [
                {
                    "data": {
                        "text/plain": [
                            "210750.0"
                        ]
                    },
                    "execution_count": 11,
                    "metadata": {},
                    "output_type": "execute_result"
                }
            ],
            "source": [
                "# Question 6/7\n",
                "\n",
                "np.percentile(income, 93)"
            ]
        },
        {
            "cell_type": "code",
            "execution_count": 12,
            "metadata": {},
            "outputs": [
                {
                    "data": {
                        "text/plain": [
                            "514571.0"
                        ]
                    },
                    "execution_count": 12,
                    "metadata": {},
                    "output_type": "execute_result"
                }
            ],
            "source": [
                "# Question 9\n",
                "\n",
                "np.percentile(income, 99)\n",
                "\n",
                "# Not even a million!"
            ]
        }
    ],
    "metadata": {
        "kernelspec": {
            "display_name": "Python 3.10.6 ('base')",
            "language": "python",
            "name": "python3"
        },
        "language_info": {
            "codemirror_mode": {
                "name": "ipython",
                "version": 3
            },
            "file_extension": ".py",
            "mimetype": "text/x-python",
            "name": "python",
            "nbconvert_exporter": "python",
            "pygments_lexer": "ipython3",
            "version": "3.10.6"
        },
        "orig_nbformat": 4,
        "vscode": {
            "interpreter": {
                "hash": "718fed28bf9f8c7851519acf2fb923cd655120b36de3b67253eeb0428bd33d2d"
            }
        }
    },
    "nbformat": 4,
    "nbformat_minor": 2
}
