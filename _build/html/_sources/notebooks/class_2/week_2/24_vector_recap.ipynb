{
 "cells": [
  {
   "cell_type": "markdown",
   "id": "10edb29d",
   "metadata": {},
   "source": [
    "# Vector Recap\n",
    "\n",
    "- Numpy is the workhorse of data science in Python. Numpy is not only orders of magnitude faster than vanilla Python, but it uses memory much more efficiently, \n",
    "- Vectors are collections of data *of the same type*. \n",
    "- Simple vectors can be easily created by passing a list to the `np.array()` function, or by using the `np.arange()` function the same way you would use `range()`.\n",
    "- You can easily do math between any vector and a scalar/vector of length 1. The operation will just be repeated for each entry in the longer vector.\n",
    "- You can also easily do math between a vector and another vector of the same length. Entries in the two vectors will just be matched up pair-wise.\n",
    "- If data of different types are passed to the `np.array()` function, `numpy` will type promote them to the lowest type that can store all the input types."
   ]
  },
  {
   "cell_type": "markdown",
   "id": "7c5d0044",
   "metadata": {},
   "source": [
    "## Next Steps\n",
    "\n",
    "Now that we're familiar with vectors, [let's do some exercises!](25_EX_vectors.ipynb)"
   ]
  }
 ],
 "metadata": {
  "language_info": {
   "name": "python"
  },
  "orig_nbformat": 4
 },
 "nbformat": 4,
 "nbformat_minor": 2
}
