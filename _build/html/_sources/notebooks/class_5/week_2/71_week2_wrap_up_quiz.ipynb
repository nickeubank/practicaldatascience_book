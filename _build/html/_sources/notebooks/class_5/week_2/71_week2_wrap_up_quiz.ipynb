{
 "cells": [
  {
   "cell_type": "markdown",
   "metadata": {},
   "source": [
    "# Module 2 Wrap-up Quiz\n",
    "\n",
    "## Q1. What does the 'K' in K-Nearest Neighbors (KNN) represent?\n",
    "\n",
    "A. Number of classes\n",
    "B. Number of neighbors\n",
    "C. Number of features\n",
    "D. Number of predictions\n",
    "\n",
    "(Correct Answer = B)\n",
    "\n",
    "## Q2. In our exploration of KNN, what did we use to measure the closeness of neighbors?\n",
    "\n",
    "A. Cosine similarity\n",
    "B. Gradient descent\n",
    "C. Euclidean distance\n",
    "D. Mean squared error\n",
    "\n",
    "(Correct Answer = C)\n",
    "\n",
    "## Q3. TRUE/FALSE. The KNN algorithm can only be used for classification?\n",
    "\n",
    "A. True\n",
    "B. False\n",
    "\n",
    "(Correct Answer = B)\n",
    "\n",
    "## Q4. For a KNN classification algorithm with the training data shown in Figure 1, which class would be predicted for the unknown point if $k=3$?\n",
    "\n",
    "![Classification Question](img/question-classification.png)\n",
    "*Figure 1. Classification question with two classes.*\n",
    "\n",
    "A. Class 1\n",
    "B. Class 2\n",
    "\n",
    "(Correct Answer = B)\n",
    "\n",
    "## Q5. For a KNN classification algorithm with the training data shown in Figure 1, which class would be predicted for the unknown point if $k=5$?\n",
    "\n",
    "A. Class 1\n",
    "B. Class 2\n",
    "\n",
    "(Correct Answer = A)\n",
    "\n",
    "## Q6. Were you able to successfully implement and evaluate the performance of the KNN **classification** algorithm?\n",
    "\n",
    "A. Yes\n",
    "B. No\n",
    "\n",
    "(Correct Answer = A)\n",
    "\n",
    "## Q7. Were you able to successfully implement and evaluate the performance of the KNN **regression** algorithm, passing all tests?\n",
    "\n",
    "A. Yes\n",
    "B. No\n",
    "\n",
    "(Correct Answer = A)"
   ]
  },
  {
   "cell_type": "markdown",
   "metadata": {},
   "source": []
  }
 ],
 "metadata": {
  "language_info": {
   "name": "python"
  }
 },
 "nbformat": 4,
 "nbformat_minor": 2
}
