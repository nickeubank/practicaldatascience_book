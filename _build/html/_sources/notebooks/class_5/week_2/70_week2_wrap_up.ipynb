{
 "cells": [
  {
   "cell_type": "markdown",
   "metadata": {},
   "source": [
    "# Week 2 Wrap-up"
   ]
  },
  {
   "cell_type": "markdown",
   "metadata": {},
   "source": [
    "## Common tools for prediction"
   ]
  },
  {
   "cell_type": "markdown",
   "metadata": {},
   "source": [
    "In data science, prediction is a common task, and it often appears under many headers including machine learning and deep learning. You've had a chance to program your own basic prediction algorithms for classification and regression, and have peered into a much larger world. \n",
    "\n",
    "While you have focused on core Python packages as well as numpy and pandas for prediction, there are many other tools for classification and regression from a prediction perspective. In Python, one of the best-known of these is `scikit-learn` which offers predictive algorithms of many forms including linear models, random forests, support vector machines, gradient boosted decision trees, and even KNN classification and regression techniques. In addition, `scikit-learn` offers a suite of data preparation tools for dividing up your training and testing data, a suite of performance evaluation tools for measuring the quality of classification and regression results, and other valuable topics that we haven't covered in this course including clustering, dimensionality reduction, and model selection tools. \n",
    "\n",
    "For deep learning, the most common tools these days are `pytorch` and `tensorflow` with more easily accessible alternatives like `keras` which allows you to use the power and flexibility of `pytorch` and `tensorflow` without as much of the low-level knowledge of those tools. All of these tools generally require substantial computation typically in the form of graphical processing units or GPUs. These are powerful pieces of hardware for performing massive parallel computation and are often quite expensive to deploy at scale.\n",
    "\n",
    "## Prediction is only the beginning\n",
    "\n",
    "In this week, we have focused entirely on programming tools for prediction and have largely left inference unexplored. The next step in this journey is to explore inference and how we can better understand the relationships between our features and target variables."
   ]
  }
 ],
 "metadata": {
  "language_info": {
   "name": "python"
  }
 },
 "nbformat": 4,
 "nbformat_minor": 2
}
