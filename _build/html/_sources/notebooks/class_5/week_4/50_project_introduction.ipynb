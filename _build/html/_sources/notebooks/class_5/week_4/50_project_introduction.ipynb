{
 "cells": [
  {
   "cell_type": "markdown",
   "metadata": {},
   "source": [
    "# Project: Global greenhouse gas emissions\n",
    "\n",
    "Now it's time to bring everything that you've learned together. This week we will dive into a data analysis to create a visualization describing how countries compare with respect to greenhouse gas emission. By the end of this week, you will create an interactive data visualization as shown below, based on the plot from [GapMinder](https://www.gapminder.org/tools/#$model$markers$bubble$encoding$y$data$concept=co2_emissions_tonnes_per_person&space@=country&=time;;&scale$domain:null&zoomed:null&type:null;;&frame$value=2018;;;;;&chart-type=bubbles&url=v1), originally co-founded by the Swedish physician and academic Hans Rosling to help clarify perceptions of global statistics and the state of the world."
   ]
  },
  {
   "cell_type": "markdown",
   "metadata": {},
   "source": [
    "![demo](img/interactive_demo.gif)\n",
    "<!-- <img src=\"img/interactive_demo.gif\" width=\"900\"/> -->"
   ]
  },
  {
   "cell_type": "markdown",
   "metadata": {},
   "source": [
    "## The problem\n",
    "Global atmospheric carbon dioxide levels, a potent greenhouse gas, are at their highest in 650,000 years. The greenhouse effect traps heat close to the Earth's surface due to the presence of these greenhouse gases. With 19 of the warmest years on record having occurred since 2000, Arctic sea ice having shrunk 13% since 1979, and global sea levels having risen by over 10 centimeters since 1993, the impact of global warming is being felt. A key driver of global warming is anthropogenic (that is, human-activity-induced) greenhouse gas emissions such as carbon dioxide, methane, nitrous oxide, and water vapor.\n",
    "\n",
    "The emission of greenhouse gases is the result of numerous activities but the vast majority are the result of energy generation and use. In particular, energy for industrial applications, transportation, and buildings are the largest sources of greenhouse gas emissions, as shown in the figure below from from Our World in Data (figure by Hannah Ritchie). "
   ]
  },
  {
   "cell_type": "markdown",
   "metadata": {},
   "source": [
    "![emissionsbysector](img/emissions-by-sector.png)\n",
    "<!-- <img src=\"img/emissions-by-sector.png\" width=\"800\"/> -->"
   ]
  },
  {
   "cell_type": "markdown",
   "metadata": {},
   "source": [
    "However, this leaves an important question: **which countries contribute the most/least to greenhouse gas emissions**? And what is the relationship with population and income? That is exactly what we will explore through this project. With this information we can begin to identify those countries in which emissions reductions would have the greatest impact globally."
   ]
  },
  {
   "cell_type": "markdown",
   "metadata": {},
   "source": [
    "## Process for approaching this problem\n",
    "\n",
    "We'll approach this problem one step at a time from data gathering through plotting:\n",
    "1. Data gathering. We're going to need a number of datasets for exploring this question that include:\n",
    "    - Carbon dioxide emissions by country\n",
    "    - Income (as measured by GDP per capita) by country\n",
    "    - Population by country (so we can convert CO2 emissions into per capita emissions)\n",
    "    - List of territories by continent (since we want to be able to group the countries by region of the world)\n",
    "2. Data merging. Combine the data into a single dataset\n",
    "    - Handle inconsistent naming and missing values\n",
    "    - Derive any values from the existing data (like CO2 per capita)\n",
    "3. Plotting the data\n",
    "    - Match the form and format of the GapMinder plot\n",
    "    - Add interactivity to be able to explore the content directly\n",
    "    - Assess the key takeaways from the plot that you would share\n",
    "    \n",
    "Let's get started!"
   ]
  }
 ],
 "metadata": {
  "language_info": {
   "name": "python"
  },
  "orig_nbformat": 4
 },
 "nbformat": 4,
 "nbformat_minor": 2
}
