{
 "cells": [
  {
   "cell_type": "markdown",
   "metadata": {},
   "source": [
    "# Is This Course For Me (Given My Knowledge of Machine Learning and/or Statistics)?\n",
    "\n"
   ]
  },
  {
   "cell_type": "markdown",
   "metadata": {},
   "source": [
    "In the previous four courses in this *Python Programming for Data Science* specialization, we have been careful to never assume a familiarity with statistics beyond basic concepts like means, medians, and standard deviations. And because our focus until this point has primarily been — first — on designing and implementing algorithms and — second — on data manipulation and cleaning, that has been relatively straightforward.\n",
    "\n",
    "Because this course focuses on how to implement different forms of data analysis in Python, it is harder to accommodate all learners — regardless of their background in statistics and machine learning — quite as seamlessly. Nevertheless, we have written and organized the materials in this course knowing that we will have both learners with very limited experience in statistics *and also* learners with extensive training in statistics or machine learning (but not in implemention of analysis techniques in Python).\n",
    "\n",
    "For learners who do *not* have a strong background in statistics, we provide intuitive explanations for all of the various classification and regression techniques we will teach you to implement. These readings will not be substitutes for a good course on the math behind these methods (and when we cover these topics, we will include some suggestions of where to learn more!). But these introductions should provide these learners with enough understanding of how these methods work to enjoy learning how to implement them in Python.\n",
    "\n",
    "For learners who *do* have a strong background in statistics or machine learning, worry not — we know that many people chose this course and specialization precisely because they have extensive experience in the theory of machine learning and statistical inference but want to improve their ability to implement these methods in Python. We have structured this course to meet your needs in a few different ways.  First, we've been careful to ensure you can easily identify and skip these \"Introduction to...\" readings if the topics they cover are already familiar. Second, because every experienced data scientist has *that one model they can't live without,* this course also provides discussion of where to find tools in the Python ecosystem for implementing all sorts of different techniques, including those we don’t have time to introduce to new learners.\n",
    "\n",
    "So if you haven't taken any courses in statistics or machine learning, don't fret: this course will provide you with an understanding of the purpose of basic statistical and machine learning methods in the service of helping you develop excellent implementation skills that will complement any statistics or ML courses you take in the future. \n",
    "\n",
    "And if you do know all about statistical inference and machine learning, then this course is a perfect choice for learning to apply those techniques in Python, and where to find the perfect Python package for your personal use case.\n"
   ]
  }
 ],
 "metadata": {
  "language_info": {
   "name": "python"
  }
 },
 "nbformat": 4,
 "nbformat_minor": 2
}
