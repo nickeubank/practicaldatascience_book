{
 "cells": [
  {
   "cell_type": "markdown",
   "metadata": {},
   "source": [
    "# Exercise: Emissions per capita - creating a custom bar chart "
   ]
  },
  {
   "cell_type": "markdown",
   "metadata": {},
   "source": [
    "## Background\n",
    "\n",
    "Per capita energy consumption provides a sense of, on average, how much energy each person in a region uses. Let's create a plot that compares this across a few regions for some of the most fossil-fuel-intensive countries on a per capita basis. Per capita fossil fuel energy consumption is measured in kilowatt-hours per person. The higher this value, the more each person, on average, uses fossil-fuel-based energy. \n",
    "\n",
    "## Instructions\n",
    "\n",
    "This is an exercise in testing your skills at plotting. We'll provide you the data and the final product and your goal is to replicate the plots shown below including all labels, stylistic changes, etc. You'll create two versions: a simple version of the plot using basic matplotlib that conveys all the proper information in a clearly understandable way, and a version that has been customized so that it could be used as a professional figure for a publication (we'll refer to these as level 1 and level 2 as there is a coding difficulty increase between them). You'll need to code your solutions to each of these using skills used through this course.\n",
    "\n",
    "In the next lesson, you'll be given a solution of how to accomplish this, but for learning these skills, it's important that you try first before reviewing the solutions. **It's your practice using these techniques that will develop the skills: reading alone and copying/pasting is insufficient.**\n",
    "\n",
    "There are three steps:\n",
    "\n",
    "1. Prepare your data for plotting\n",
    "2. Code a simple version of the plot using basic matplotlib\n",
    "3. Code a professional-grade version of the plot using matplotlib customizations\n"
   ]
  },
  {
   "cell_type": "markdown",
   "metadata": {},
   "source": [
    "## I. Prepare your data\n",
    "**(1)** The data for making this plot are provided in the file `fossil-fuels-per-capita.csv` and are from [Our World in Data](https://ourworldindata.org/grapher/fossil-fuels-per-capita?tab=table). There are two headers in the table: \"entity\" which corresponds to the country or region and \"fossil_fuels\" which corresponds to the average kilowatt hour (kWh) of fossil-fuel-based energy consumption per person in that region. A kWh is a unit of energy and the more energy used from fossil fuels, generally the higher the greenhouse gas emissions. View the data as a table using pandas and note the number of entries in the table.\n",
    "\n",
    "A few questions to ask yourself about the data:\n",
    "1. Do these data include every country in the world?\n",
    "2. Are there only countries or are there other regional entities?\n",
    "\n",
    "**(2)** We aren't going to plot all of the entities in the data. Instead, filter the data so that we have the following:\n",
    "\n",
    "- Top 25 most fossil-fuel-intensive regions per capita\n",
    "- The 5 continents included in the dataset: Africa, Asia, Europe, North America, South America\n",
    "- The value that corresponds to the \"World\"\n",
    "\n",
    "**(3)** We want to be able to easily compare relative amounts of per-capita energy consumption. Sort your filtered data from largest to smallest per-capita energy consumption.\n",
    "\n",
    "## II. Make a simple plot of your data (Level 1)\n",
    "\n",
    "**(4)** Plot your data to recreate the plot below EXACTLY. This should include the following:\n",
    "\n",
    "- Your plot should be a horizontal bar plot \n",
    "- Your x-axis should be labeled as \"Fossil fuel consumption per capita (kWh per person)\". \n",
    "- Your title should read: \"Top Fossil Fuel Consuming Regions Per Capita\"\n",
    "- All of the text in your figure should be readable\n",
    "- The order or regions in your plot should match the order below (largest to smallest)\n",
    "- You should have the same number of bars\n",
    "\n",
    "**(5)** Save your figure to a file (make sure none of the plot is cut off in the file, if it is, refer to the hints at the end of the saving to figure reading)"
   ]
  },
  {
   "cell_type": "markdown",
   "metadata": {},
   "source": [
    "<div>\n",
    "<img src=\"img/worked_example_fossil_fuel_level_1.png\" width=\"800\"/>\n",
    "</div>"
   ]
  },
  {
   "cell_type": "markdown",
   "metadata": {},
   "source": [
    "## III. Make a professional-quality plot (Level 2 - OPTIONAL)\n",
    "\n",
    "**(6)** Starting with the plot that you just created, adapt it to recreate the plot below EXACTLY. This should include the following, which works towards styling this plot in a way that follows the [Urban Institute style guide](https://urbaninstitute.github.io/graphics-styleguide/). These changes closely follow the bar plot example on that website.\n",
    "\n",
    "- **Challenge.** Highlight the continents by coloring those bars yellow.\n",
    "- **Challenge.** Highlight the World entry by coloring that bar black.\n",
    "- **Challenge.** Include text for the World and North America entries that Name the place and state the energy consumption there\n",
    "- Adjust the font to be \"Arial Narrow\" and size 9\n",
    "- Adjust the size of the figure to be 8 inches wide by 7 inches tall\n",
    "- Make all the spines invisible\n",
    "- Adjust the grid to only appear on the x axis\n",
    "- Set the ticks, limits, and labels, to match the plot below\n",
    "- **Challenge.** Set text for the title and subtitle as seen on the plot below\n",
    "\n",
    "Colors to use:\n",
    "- Blue = \"#1696d2\"\n",
    "- Yellow = \"#fdbf11\"\n",
    "- Black = \"#000000\"\n",
    "\n",
    "This is a challenge to create, and it's why this piece is optional, but it allows you to dive deeply into matplotlib customizations.\n",
    "\n",
    "**(7)** Save your figure to a file (make sure none of the plot is cut off in the file, if it is, refer to the hints at the end of the saving to figure reading)"
   ]
  },
  {
   "cell_type": "markdown",
   "metadata": {},
   "source": [
    "<div>\n",
    "<img src=\"img/worked_example_fossil_fuel_level_2.png\" width=\"800\"/>\n",
    "</div>"
   ]
  }
 ],
 "metadata": {
  "kernelspec": {
   "display_name": "pds-book",
   "language": "python",
   "name": "python3"
  },
  "language_info": {
   "codemirror_mode": {
    "name": "ipython",
    "version": 3
   },
   "file_extension": ".py",
   "mimetype": "text/x-python",
   "name": "python",
   "nbconvert_exporter": "python",
   "pygments_lexer": "ipython3",
   "version": "3.12.0"
  }
 },
 "nbformat": 4,
 "nbformat_minor": 2
}
