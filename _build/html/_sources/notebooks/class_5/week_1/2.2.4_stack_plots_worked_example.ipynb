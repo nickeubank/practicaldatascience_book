{
 "cells": [
  {
   "cell_type": "markdown",
   "metadata": {},
   "source": [
    "# Exercise: Global poverty - creating a custom stack plot \n",
    "\n",
    "## Background\n",
    "\n",
    "\"Poverty entails more than the lack of income and productive resources to ensure sustainable livelihoods. Its manifestations include hunger and malnutrition, limited access to education and other basic services, social discrimination and exclusion, as well as the lack of participation in decision-making\" (United Nations). Poverty is not simply the amount of people making less than X dollars per day, but income is an indicator of poverty. In this expercise, we'll explore the trajectory of different income bands over the past two centuries with data from Michalis Moatsos (2021), available through [Our World in Data](https://ourworldindata.org/grapher/distribution-of-population-between-different-poverty-thresholds-historical?country=).\n",
    "\n",
    "## Instructions\n",
    "\n",
    "This is an exercise in testing your skills at plotting. We'll provide you the data and the final product and your goal is to replicate the plots shown below including all labels, stylistic changes, etc. You'll create two versions: a simple version of the plot using basic matplotlib that conveys all the proper information in a clearly understandable way, and a version that has been customized so that it could be used as a professional figure for a publication (we'll refer to these as level 1 and level 2 as there is a coding difficulty increase between them). You'll need to code your solutions to each of these using skills used through this course.\n",
    "\n",
    "In the next lesson, you'll be given a solution of how to accomplish this, but for learning these skills, it's important that you try first before reviewing the solutions. **It's your practice using these techniques that will develop the skills: reading alone and copying/pasting is insufficient.**\n",
    "\n",
    "There are three steps:\n",
    "\n",
    "1. Prepare your data for plotting\n",
    "2. Code a simple version of the plot using basic matplotlib\n",
    "3. Code a professional-grade version of the plot using matplotlib customizations"
   ]
  },
  {
   "cell_type": "markdown",
   "metadata": {},
   "source": [
    "## I. Prepare your data for plotting\n",
    "\n",
    "**(1)** Load and view the data. The data for this exercise are available from the `poverty-dollars-a-day.csv` file. The data for each year are divided up into 5 income bands:\n",
    "1. \\$30 or more\n",
    "2. \\$10-\\$30\n",
    "3. \\$5-\\$10\n",
    "4. \\$1.90-\\$5\n",
    "5. \\$1.90 or less\n",
    "\n",
    "The data have been inflation and cost-of-living adjusted to be comparable across time and national boundaries.\n",
    "\n",
    "**(2)** We want to create a plot that shows the percentage of people around the world that fall into each income band. You'll need to scale the data so that for each year, the data represents a proportion of the data and adds to up 100 percent for each year (across income bands)."
   ]
  },
  {
   "cell_type": "markdown",
   "metadata": {},
   "source": [
    "## II. Make a simple plot of your data (Level 1)\n",
    "\n",
    "**(3)** Plot your data to recreate the plot below EXACTLY. This should include the following:\n",
    "\n",
    "- Code a stack plot with one band for each income range\n",
    "- Your legend entries should be: \"\\$1.90 or less\", \"\\$1.90-5\", \"\\$5-10\", \"\\$10-30\", \"\\$30 or more\" (There are issues with multiple dollar signs in text since matplotlib interprets the information as special typesetting)\n",
    "- The x and y-axis limits should be right to the edge of the stackplot data\n",
    "- The ticks should match the plot below exactly\n",
    "- The title and x- and y-axis labels should match exactly\n",
    "- The legend should be outside the plot to the right and the order of the colors in the legend should match the order of the colors in the plot from top to bottom\n",
    "\n",
    "**(4)** What is this plot saying about the trajectory of extreme poverty? What is the current status of extreme poverty? Are things getting better or worse?\n",
    "\n",
    "**(5)** Save your figure to a file (make sure none of the plot is cut off in the file, if it is, refer to the hints at the end of the saving to figure reading)"
   ]
  },
  {
   "cell_type": "markdown",
   "metadata": {},
   "source": [
    "<div>\n",
    "<img src=\"img/worked_example_poverty_level_1.png\" width=\"600\"/>\n",
    "</div>"
   ]
  },
  {
   "cell_type": "markdown",
   "metadata": {},
   "source": [
    "## III. Make a professional-quality plot (Level 2 - OPTIONAL)\n",
    "\n",
    "**(6)** Starting with the plot that you just created, adapt it to recreate the plot below EXACTLY. This should include the following:\n",
    "\n",
    "- **Challenge.** Instead of using a legend, directly label the figures on the right side of the plot, making the text left-aligned; the text should fall at the midpoint of each range\n",
    "- The colors should be blue for the \\$30 a day or more case and shades of red for the remaining income bands. The specific colors should be the following `colors = [\"#e25552\", \"#e9807d\", \"#f1aaa9\", \"#f8d5d4\", \"#1696d2\"]` (#1696d2 is the blue one).\n",
    "- Adjust the font to be \"Arial Narrow\" and size 9\n",
    "- Adjust the size of the figure to be 5 inches wide by 5 inches tall\n",
    "- Remove the spines\n",
    "- Match the axis labels and titles and their locations on the plot\n",
    "\n",
    "**(7)** Save your figure to a file (make sure none of the plot is cut off in the file, if it is, refer to the hints at the end of the saving to figure reading)"
   ]
  },
  {
   "cell_type": "markdown",
   "metadata": {},
   "source": [
    "<div>\n",
    "<img src=\"img/worked_example_poverty_level_2.png\" width=\"600\"/>\n",
    "</div>"
   ]
  },
  {
   "cell_type": "markdown",
   "metadata": {},
   "source": [
    "## References\n",
    "\n",
    "Michalis Moatsos (2021) – with major processing by Our World in Data. “$1.90 a day - Number in poverty” [dataset]. Michalis Moatsos, “Global extreme poverty - Present and past since 1820” [original data]. [Link](https://ourworldindata.org/grapher/distribution-of-population-between-different-poverty-thresholds-historical)"
   ]
  }
 ],
 "metadata": {
  "kernelspec": {
   "display_name": "pds-book",
   "language": "python",
   "name": "python3"
  },
  "language_info": {
   "codemirror_mode": {
    "name": "ipython",
    "version": 3
   },
   "file_extension": ".py",
   "mimetype": "text/x-python",
   "name": "python",
   "nbconvert_exporter": "python",
   "pygments_lexer": "ipython3",
   "version": "3.12.0"
  }
 },
 "nbformat": 4,
 "nbformat_minor": 2
}
