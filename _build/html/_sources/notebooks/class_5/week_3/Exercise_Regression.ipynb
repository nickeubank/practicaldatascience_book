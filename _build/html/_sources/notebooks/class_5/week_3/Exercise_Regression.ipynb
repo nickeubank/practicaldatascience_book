{
    "cells": [
        {
            "cell_type": "markdown",
            "metadata": {},
            "source": [
                "# Maternal Smoking and Birth Weight\n",
                "\n",
                "**Note**: \n",
                "\n",
                "> This exercise has been written out in something called a Jupyter Notebook. We'll discuss Jupyter Notebooks in more detail later in this specialization—they are very a powerful tool for data science communication!—but for the time being, the notebook is just a convenient way for us to write out the exercise. You don't need to *do* anything with the notebook except read its contents—just use write your Python code in a regular `.py` file.\n",
                "\n",
                "**WARNING:**\n",
                "\n",
                "> When asked to round your answers to a certain number of decimals, do *not* round any results until you've finished your computations and have your final answer! For example, if you were to calculate the average hourly wage for workers, and you did so by first calculating the average weekly salary of workers and the average hours worked per week, then divided the first number by the second, you should NOT round the average weekly salary of workers or the average hours worked per week. Rounding intermediate results can lead to compounding errors that cause problems for the autograder.\n"
            ]
        },
        {
            "cell_type": "markdown",
            "metadata": {},
            "source": [
                "These days, it is widely understood that mothers who smoke during pregnancy risk exposing their babies to many health problems. This was not common knowledge fifty years ago. One of the first studies that addressed the issue of pregnancy and smoking was the Child Health and Development Studies, a comprehensive study of all babies born between 1960 and 1967 at the Kaiser Foundation Hospital in Oakland, CA. The original reference for the study is Yerushalmy (1964, American Journal of Obstetrics and Gynecology, pp. 505-518). The data and a summary of the study are in Nolan and Speed (2000, Stat Labs, Chapter 10) and can be found at [the book’s website.](https://www.stat.berkeley.edu/users/statlabs/)\n",
                "\n",
                "There were about 15,000 families in the study. We will only analyze a subset of the data, in particular 869 male single births where the baby lived at least 28 days. The researchers interviewed mothers early in their pregnancy to collect information on socioeconomic and demographic characteristics, including an indicator of whether the mother smoked during pregnancy. The variables in the dataset are described in the `birthweight_codebook.txt` code book. In this exercise, we will attempt to use this data to better understand whether mothers who smoke tend to give birth to babies with lower weights than mothers who do not smoke?\n"
            ]
        },
        {
            "cell_type": "markdown",
            "metadata": {},
            "source": [
                "### Exercise 1\n",
                "\n",
                "Load the data `smoking.csv` in the `data` folder. This data includes information on both newborns and also mothers (variables prefixed with the letter `m` are attributes of the mother)."
            ]
        },
        {
            "cell_type": "markdown",
            "metadata": {},
            "source": [
                "### Exercise 2\n",
                "\n",
                "Our interest in this exercise will be on whether the babies of mothers who smoked during pregnancy had lower birthweights than the babies of mothers who did not smoke. \n",
                "\n",
                "Let's evaluate this relationship using `statsmodels`. \n",
                "\n",
                "Using `ols` from `statsmodels.formula.api`, regress birthweight on whether the infant's mother smoked. What is the average difference in the weight of newborns for mothers who did not smoke as compared to mothers who smoke?\n",
                "\n",
                "When interpreting the coefficient of your model, remember that the reported coefficient is equal to the average value of birthweight *when the indicator variable is equal to 1* minus the average value of birthweight *when the indicator variable is equal to 0*.\n",
                "\n",
                "**Please round your answer to 2 decimal places.**"
            ]
        },
        {
            "cell_type": "markdown",
            "metadata": {},
            "source": [
                "### Exercise 3\n",
                "\n",
                "The longer a pregnancy, the heavier a newborn will tend to be. Suppose we are interested in whether the newborns of mothers who don't smoke are heavier than newborns of mothers who do smoke *when their pregnancies are the same duration.* To answer this question, please add `gestation` as a second variable in our model. \n",
                "\n",
                "Now what is the average difference in the weight of newborns for mothers who did not smoke as compared to mothers who smoke *for pregnancies of the same length*? \n",
                "\n",
                "**Please round your answer to two decimal places.**"
            ]
        },
        {
            "cell_type": "markdown",
            "metadata": {},
            "source": [
                "### Exercise 4\n",
                "\n",
                "Now fit the same model you just fit (with `gestation` and `smoke`) but do so using `patsy` and the `OLS` method from `statsmodels.api` (*not* the `ols` method from `statsmodels.formula.api`)."
            ]
        },
        {
            "cell_type": "markdown",
            "metadata": {},
            "source": [
                "### Exercise 5\n",
                "\n",
                "Now let's test for whether there is an interaction between the mother's race and the effect of smoking by adding an interaction term to this regression. \n",
                "\n",
                "`mrace` is coded as follows:\n",
                "\n",
                "```\n",
                "mrace    Mother's race or ethnicity\n",
                "         0-5 = White\n",
                "         6   = Mexican\n",
                "         7   = Black\n",
                "         8   = Asian\n",
                "         9   = Mix\n",
                "         99  = Unknown\n",
                "```\n",
                "\n",
                "As most variation in this data is between \"White\" and other categories, create a new variable that takes on a value of 1 when the mother is White and 0 otherwise.\n",
                "\n",
                "(As you can tell, people in the 1960s were not as thoughtful about collecting detailed data on race and ethnicity as most modern researchers, and nor did they go out of their way to ensure their data included enough data on non-White groups to allow detailed sub-population analyses.)\n",
                "\n",
                "What share (a value between 0 and 1) of mothers in the data are identified as White? \n",
                "\n",
                "**Please round your answer to two decimal places**"
            ]
        },
        {
            "cell_type": "markdown",
            "metadata": {},
            "source": [
                "### Exercise 6\n",
                "\n",
                "Now regress birthweight on length of pregnancy, whether the mother smoked during pregnancy, whether the mother was White, and the interaction of whether the mother was White and whether the mother smoked.\n",
                "\n",
                "(Note: depending on how you write your formula, you may not have to enter all those into the regression explicitly.)\n",
                "\n",
                "What is the coefficient on `smoke`? \n",
                "\n",
                "This time, please extract the coefficient on `smoke` from the model using Python, then round it with `np.round()` (so you can get some practice accessing model coefficients).\n",
                "\n",
                "**Please round your answer to two decimal places.**"
            ]
        },
        {
            "cell_type": "markdown",
            "metadata": {},
            "source": [
                "## Bonus Exercises\n",
                "\n",
                "What follows are BONUS EXERCISES. You do not have to get these right to pass the quiz for this module as they get into interpretation of interaction terms (which are quite tricky if you haven't taken a linear regression class before).\n",
                "\n",
                "### Exercise 7\n",
                "\n",
                "Based on the regression you ran in Exercise 6, is the impact of smoking greater for White mothers than non-White mothers? (We are ignoring the question of whether this difference is statistically significant for the moment, if you know what that means — just focus on the coefficients in the model.)"
            ]
        },
        {
            "cell_type": "markdown",
            "metadata": {},
            "source": [
                "### Exercise 8\n",
                "\n",
                "Again, using the regression you fit above, answer the following question.\n",
                "\n",
                "For White mothers, what is the average difference in the weight of newborns between mothers who do NOT smoke and those who DO smoke, assuming their pregnancies lasted the same amount of time?\n",
                "\n",
                "Please do not do any math by hand — extract the coefficients from the model using Python.\n",
                "\n",
                "**Please round your answer to two decimal places.**"
            ]
        }
    ],
    "metadata": {
        "kernelspec": {
            "display_name": "Python 3.10.6 ('base')",
            "language": "python",
            "name": "python3"
        },
        "language_info": {
            "codemirror_mode": {
                "name": "ipython",
                "version": 3
            },
            "file_extension": ".py",
            "mimetype": "text/x-python",
            "name": "python",
            "nbconvert_exporter": "python",
            "pygments_lexer": "ipython3",
            "version": "3.11.8"
        },
        "vscode": {
            "interpreter": {
                "hash": "718fed28bf9f8c7851519acf2fb923cd655120b36de3b67253eeb0428bd33d2d"
            }
        }
    },
    "nbformat": 4,
    "nbformat_minor": 4
}
