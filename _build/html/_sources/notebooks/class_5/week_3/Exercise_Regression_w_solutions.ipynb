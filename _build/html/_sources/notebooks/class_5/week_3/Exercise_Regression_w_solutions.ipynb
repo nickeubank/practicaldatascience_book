{
    "cells": [
        {
            "cell_type": "markdown",
            "metadata": {},
            "source": [
                "# Maternal Smoking and Birth Weight\n",
                "\n",
                "**Note**: \n",
                "\n",
                "> This exercise has been written out in something called a Jupyter Notebook. We'll discuss Jupyter Notebooks in more detail later in this specialization—they are very a powerful tool for data science communication!—but for the time being, the notebook is just a convenient way for us to write out the exercise. You don't need to *do* anything with the notebook except read its contents—just use write your Python code in a regular `.py` file.\n",
                "\n",
                "**WARNING:**\n",
                "\n",
                "> When asked to round your answers to a certain number of decimals, do *not* round any results until you've finished your computations and have your final answer! For example, if you were to calculate the average hourly wage for workers, and you did so by first calculating the average weekly salary of workers and the average hours worked per week, then divided the first number by the second, you should NOT round the average weekly salary of workers or the average hours worked per week. Rounding intermediate results can lead to compounding errors that cause problems for the autograder.\n"
            ]
        },
        {
            "cell_type": "markdown",
            "metadata": {},
            "source": [
                "These days, it is widely understood that mothers who smoke during pregnancy risk exposing their babies to many health problems. This was not common knowledge fifty years ago. One of the first studies that addressed the issue of pregnancy and smoking was the Child Health and Development Studies, a comprehensive study of all babies born between 1960 and 1967 at the Kaiser Foundation Hospital in Oakland, CA. The original reference for the study is Yerushalmy (1964, American Journal of Obstetrics and Gynecology, pp. 505-518). The data and a summary of the study are in Nolan and Speed (2000, Stat Labs, Chapter 10) and can be found at [the book’s website.](https://www.stat.berkeley.edu/users/statlabs/)\n",
                "\n",
                "There were about 15,000 families in the study. We will only analyze a subset of the data, in particular 869 male single births where the baby lived at least 28 days. The researchers interviewed mothers early in their pregnancy to collect information on socioeconomic and demographic characteristics, including an indicator of whether the mother smoked during pregnancy. The variables in the dataset are described in the `birthweight_codebook.txt` code book. In this exercise, we will attempt to use this data to better understand whether mothers who smoke tend to give birth to babies with lower weights than mothers who do not smoke?\n"
            ]
        },
        {
            "cell_type": "markdown",
            "metadata": {},
            "source": [
                "### Exercise 1\n",
                "\n",
                "Load the data `smoking.csv` in the `data` folder. This data includes information on both newborns and also mothers (variables prefixed with the letter `m` are attributes of the mother)."
            ]
        },
        {
            "cell_type": "code",
            "execution_count": 6,
            "metadata": {},
            "outputs": [],
            "source": [
                "import pandas as pd\n",
                "import numpy as np\n",
                "\n",
                "pd.set_option(\"mode.copy_on_write\", True)\n",
                "\n",
                "smoking_and_bw = pd.read_csv(\"data/smoking.csv\")"
            ]
        },
        {
            "cell_type": "code",
            "execution_count": 7,
            "metadata": {},
            "outputs": [
                {
                    "data": {
                        "text/html": [
                            "<div>\n",
                            "<style scoped>\n",
                            "    .dataframe tbody tr th:only-of-type {\n",
                            "        vertical-align: middle;\n",
                            "    }\n",
                            "\n",
                            "    .dataframe tbody tr th {\n",
                            "        vertical-align: top;\n",
                            "    }\n",
                            "\n",
                            "    .dataframe thead th {\n",
                            "        text-align: right;\n",
                            "    }\n",
                            "</style>\n",
                            "<table border=\"1\" class=\"dataframe\">\n",
                            "  <thead>\n",
                            "    <tr style=\"text-align: right;\">\n",
                            "      <th></th>\n",
                            "      <th>id</th>\n",
                            "      <th>date</th>\n",
                            "      <th>gestation</th>\n",
                            "      <th>bwt_oz</th>\n",
                            "      <th>parity</th>\n",
                            "      <th>mrace</th>\n",
                            "      <th>mage</th>\n",
                            "      <th>med</th>\n",
                            "      <th>mht</th>\n",
                            "      <th>mpregwt</th>\n",
                            "      <th>inc</th>\n",
                            "      <th>smoke</th>\n",
                            "    </tr>\n",
                            "  </thead>\n",
                            "  <tbody>\n",
                            "    <tr>\n",
                            "      <th>0</th>\n",
                            "      <td>8038</td>\n",
                            "      <td>1665</td>\n",
                            "      <td>256</td>\n",
                            "      <td>108</td>\n",
                            "      <td>0</td>\n",
                            "      <td>1</td>\n",
                            "      <td>26</td>\n",
                            "      <td>5</td>\n",
                            "      <td>67</td>\n",
                            "      <td>130</td>\n",
                            "      <td>3</td>\n",
                            "      <td>0</td>\n",
                            "    </tr>\n",
                            "    <tr>\n",
                            "      <th>1</th>\n",
                            "      <td>6251</td>\n",
                            "      <td>1408</td>\n",
                            "      <td>256</td>\n",
                            "      <td>78</td>\n",
                            "      <td>0</td>\n",
                            "      <td>8</td>\n",
                            "      <td>29</td>\n",
                            "      <td>5</td>\n",
                            "      <td>65</td>\n",
                            "      <td>123</td>\n",
                            "      <td>7</td>\n",
                            "      <td>0</td>\n",
                            "    </tr>\n",
                            "    <tr>\n",
                            "      <th>2</th>\n",
                            "      <td>6611</td>\n",
                            "      <td>1453</td>\n",
                            "      <td>257</td>\n",
                            "      <td>102</td>\n",
                            "      <td>1</td>\n",
                            "      <td>4</td>\n",
                            "      <td>25</td>\n",
                            "      <td>1</td>\n",
                            "      <td>66</td>\n",
                            "      <td>135</td>\n",
                            "      <td>1</td>\n",
                            "      <td>0</td>\n",
                            "    </tr>\n",
                            "    <tr>\n",
                            "      <th>3</th>\n",
                            "      <td>6177</td>\n",
                            "      <td>1416</td>\n",
                            "      <td>257</td>\n",
                            "      <td>138</td>\n",
                            "      <td>1</td>\n",
                            "      <td>0</td>\n",
                            "      <td>38</td>\n",
                            "      <td>2</td>\n",
                            "      <td>67</td>\n",
                            "      <td>138</td>\n",
                            "      <td>1</td>\n",
                            "      <td>0</td>\n",
                            "    </tr>\n",
                            "    <tr>\n",
                            "      <th>4</th>\n",
                            "      <td>6017</td>\n",
                            "      <td>1428</td>\n",
                            "      <td>258</td>\n",
                            "      <td>102</td>\n",
                            "      <td>0</td>\n",
                            "      <td>7</td>\n",
                            "      <td>22</td>\n",
                            "      <td>4</td>\n",
                            "      <td>65</td>\n",
                            "      <td>135</td>\n",
                            "      <td>0</td>\n",
                            "      <td>0</td>\n",
                            "    </tr>\n",
                            "  </tbody>\n",
                            "</table>\n",
                            "</div>"
                        ],
                        "text/plain": [
                            "     id  date  gestation  bwt_oz  parity  mrace  mage  med  mht  mpregwt  inc  \\\n",
                            "0  8038  1665        256     108       0      1    26    5   67      130    3   \n",
                            "1  6251  1408        256      78       0      8    29    5   65      123    7   \n",
                            "2  6611  1453        257     102       1      4    25    1   66      135    1   \n",
                            "3  6177  1416        257     138       1      0    38    2   67      138    1   \n",
                            "4  6017  1428        258     102       0      7    22    4   65      135    0   \n",
                            "\n",
                            "   smoke  \n",
                            "0      0  \n",
                            "1      0  \n",
                            "2      0  \n",
                            "3      0  \n",
                            "4      0  "
                        ]
                    },
                    "execution_count": 7,
                    "metadata": {},
                    "output_type": "execute_result"
                }
            ],
            "source": [
                "smoking_and_bw.head()"
            ]
        },
        {
            "cell_type": "markdown",
            "metadata": {},
            "source": [
                "### Exercise 2\n",
                "\n",
                "Our interest in this exercise will be on whether the babies of mothers who smoked during pregnancy had lower birthweights than the babies of mothers who did not smoke. \n",
                "\n",
                "Let's evaluate this relationship using `statsmodels`. \n",
                "\n",
                "Using `ols` from `statsmodels.formula.api`, regress birthweight on whether the infant's mother smoked. What is the average difference in the weight of newborns for mothers who did not smoke as compared to mothers who smoke?\n",
                "\n",
                "When interpreting the coefficient of your model, remember that the reported coefficient is equal to the average value of birthweight *when the indicator variable is equal to 1* minus the average value of birthweight *when the indicator variable is equal to 0*.\n",
                "\n",
                "**Please round your answer to 2 decimal places.**"
            ]
        },
        {
            "cell_type": "code",
            "execution_count": 9,
            "metadata": {},
            "outputs": [
                {
                    "data": {
                        "text/html": [
                            "<table class=\"simpletable\">\n",
                            "<caption>OLS Regression Results</caption>\n",
                            "<tr>\n",
                            "  <th>Dep. Variable:</th>         <td>bwt_oz</td>      <th>  R-squared:         </th> <td>   0.055</td>\n",
                            "</tr>\n",
                            "<tr>\n",
                            "  <th>Model:</th>                   <td>OLS</td>       <th>  Adj. R-squared:    </th> <td>   0.054</td>\n",
                            "</tr>\n",
                            "<tr>\n",
                            "  <th>Method:</th>             <td>Least Squares</td>  <th>  F-statistic:       </th> <td>   47.62</td>\n",
                            "</tr>\n",
                            "<tr>\n",
                            "  <th>Date:</th>             <td>Tue, 06 Aug 2024</td> <th>  Prob (F-statistic):</th> <td>1.04e-11</td>\n",
                            "</tr>\n",
                            "<tr>\n",
                            "  <th>Time:</th>                 <td>11:23:49</td>     <th>  Log-Likelihood:    </th> <td> -3438.4</td>\n",
                            "</tr>\n",
                            "<tr>\n",
                            "  <th>No. Observations:</th>      <td>   814</td>      <th>  AIC:               </th> <td>   6881.</td>\n",
                            "</tr>\n",
                            "<tr>\n",
                            "  <th>Df Residuals:</th>          <td>   812</td>      <th>  BIC:               </th> <td>   6890.</td>\n",
                            "</tr>\n",
                            "<tr>\n",
                            "  <th>Df Model:</th>              <td>     1</td>      <th>                     </th>     <td> </td>   \n",
                            "</tr>\n",
                            "<tr>\n",
                            "  <th>Covariance Type:</th>      <td>nonrobust</td>    <th>                     </th>     <td> </td>   \n",
                            "</tr>\n",
                            "</table>\n",
                            "<table class=\"simpletable\">\n",
                            "<tr>\n",
                            "      <td></td>         <th>coef</th>     <th>std err</th>      <th>t</th>      <th>P>|t|</th>  <th>[0.025</th>    <th>0.975]</th>  \n",
                            "</tr>\n",
                            "<tr>\n",
                            "  <th>Intercept</th> <td>  123.3824</td> <td>    0.787</td> <td>  156.732</td> <td> 0.000</td> <td>  121.837</td> <td>  124.928</td>\n",
                            "</tr>\n",
                            "<tr>\n",
                            "  <th>smoke</th>     <td>   -8.0356</td> <td>    1.164</td> <td>   -6.901</td> <td> 0.000</td> <td>  -10.321</td> <td>   -5.750</td>\n",
                            "</tr>\n",
                            "</table>\n",
                            "<table class=\"simpletable\">\n",
                            "<tr>\n",
                            "  <th>Omnibus:</th>       <td> 8.836</td> <th>  Durbin-Watson:     </th> <td>   1.757</td>\n",
                            "</tr>\n",
                            "<tr>\n",
                            "  <th>Prob(Omnibus):</th> <td> 0.012</td> <th>  Jarque-Bera (JB):  </th> <td>  11.208</td>\n",
                            "</tr>\n",
                            "<tr>\n",
                            "  <th>Skew:</th>          <td> 0.127</td> <th>  Prob(JB):          </th> <td> 0.00368</td>\n",
                            "</tr>\n",
                            "<tr>\n",
                            "  <th>Kurtosis:</th>      <td> 3.516</td> <th>  Cond. No.          </th> <td>    2.53</td>\n",
                            "</tr>\n",
                            "</table><br/><br/>Notes:<br/>[1] Standard Errors assume that the covariance matrix of the errors is correctly specified."
                        ],
                        "text/latex": [
                            "\\begin{center}\n",
                            "\\begin{tabular}{lclc}\n",
                            "\\toprule\n",
                            "\\textbf{Dep. Variable:}    &     bwt\\_oz      & \\textbf{  R-squared:         } &     0.055   \\\\\n",
                            "\\textbf{Model:}            &       OLS        & \\textbf{  Adj. R-squared:    } &     0.054   \\\\\n",
                            "\\textbf{Method:}           &  Least Squares   & \\textbf{  F-statistic:       } &     47.62   \\\\\n",
                            "\\textbf{Date:}             & Tue, 06 Aug 2024 & \\textbf{  Prob (F-statistic):} &  1.04e-11   \\\\\n",
                            "\\textbf{Time:}             &     11:23:49     & \\textbf{  Log-Likelihood:    } &   -3438.4   \\\\\n",
                            "\\textbf{No. Observations:} &         814      & \\textbf{  AIC:               } &     6881.   \\\\\n",
                            "\\textbf{Df Residuals:}     &         812      & \\textbf{  BIC:               } &     6890.   \\\\\n",
                            "\\textbf{Df Model:}         &           1      & \\textbf{                     } &             \\\\\n",
                            "\\textbf{Covariance Type:}  &    nonrobust     & \\textbf{                     } &             \\\\\n",
                            "\\bottomrule\n",
                            "\\end{tabular}\n",
                            "\\begin{tabular}{lcccccc}\n",
                            "                   & \\textbf{coef} & \\textbf{std err} & \\textbf{t} & \\textbf{P$> |$t$|$} & \\textbf{[0.025} & \\textbf{0.975]}  \\\\\n",
                            "\\midrule\n",
                            "\\textbf{Intercept} &     123.3824  &        0.787     &   156.732  &         0.000        &      121.837    &      124.928     \\\\\n",
                            "\\textbf{smoke}     &      -8.0356  &        1.164     &    -6.901  &         0.000        &      -10.321    &       -5.750     \\\\\n",
                            "\\bottomrule\n",
                            "\\end{tabular}\n",
                            "\\begin{tabular}{lclc}\n",
                            "\\textbf{Omnibus:}       &  8.836 & \\textbf{  Durbin-Watson:     } &    1.757  \\\\\n",
                            "\\textbf{Prob(Omnibus):} &  0.012 & \\textbf{  Jarque-Bera (JB):  } &   11.208  \\\\\n",
                            "\\textbf{Skew:}          &  0.127 & \\textbf{  Prob(JB):          } &  0.00368  \\\\\n",
                            "\\textbf{Kurtosis:}      &  3.516 & \\textbf{  Cond. No.          } &     2.53  \\\\\n",
                            "\\bottomrule\n",
                            "\\end{tabular}\n",
                            "%\\caption{OLS Regression Results}\n",
                            "\\end{center}\n",
                            "\n",
                            "Notes: \\newline\n",
                            " [1] Standard Errors assume that the covariance matrix of the errors is correctly specified."
                        ],
                        "text/plain": [
                            "<class 'statsmodels.iolib.summary.Summary'>\n",
                            "\"\"\"\n",
                            "                            OLS Regression Results                            \n",
                            "==============================================================================\n",
                            "Dep. Variable:                 bwt_oz   R-squared:                       0.055\n",
                            "Model:                            OLS   Adj. R-squared:                  0.054\n",
                            "Method:                 Least Squares   F-statistic:                     47.62\n",
                            "Date:                Tue, 06 Aug 2024   Prob (F-statistic):           1.04e-11\n",
                            "Time:                        11:23:49   Log-Likelihood:                -3438.4\n",
                            "No. Observations:                 814   AIC:                             6881.\n",
                            "Df Residuals:                     812   BIC:                             6890.\n",
                            "Df Model:                           1                                         \n",
                            "Covariance Type:            nonrobust                                         \n",
                            "==============================================================================\n",
                            "                 coef    std err          t      P>|t|      [0.025      0.975]\n",
                            "------------------------------------------------------------------------------\n",
                            "Intercept    123.3824      0.787    156.732      0.000     121.837     124.928\n",
                            "smoke         -8.0356      1.164     -6.901      0.000     -10.321      -5.750\n",
                            "==============================================================================\n",
                            "Omnibus:                        8.836   Durbin-Watson:                   1.757\n",
                            "Prob(Omnibus):                  0.012   Jarque-Bera (JB):               11.208\n",
                            "Skew:                           0.127   Prob(JB):                      0.00368\n",
                            "Kurtosis:                       3.516   Cond. No.                         2.53\n",
                            "==============================================================================\n",
                            "\n",
                            "Notes:\n",
                            "[1] Standard Errors assume that the covariance matrix of the errors is correctly specified.\n",
                            "\"\"\""
                        ]
                    },
                    "execution_count": 9,
                    "metadata": {},
                    "output_type": "execute_result"
                }
            ],
            "source": [
                "import statsmodels.formula.api as smf\n",
                "\n",
                "s_and_bw_model = smf.ols(\"bwt_oz ~ smoke\", smoking_and_bw).fit()\n",
                "s_and_bw_model.summary()"
            ]
        },
        {
            "cell_type": "markdown",
            "metadata": {},
            "source": [
                "> Answer: 8.04 ounces. "
            ]
        },
        {
            "cell_type": "markdown",
            "metadata": {},
            "source": [
                "### Exercise 3\n",
                "\n",
                "The longer a pregnancy, the heavier a newborn will tend to be. Suppose we are interested in whether the newborns of mothers who don't smoke are heavier than newborns of mothers who do smoke *when their pregnancies are the same duration.* To answer this question, please add `gestation` as a second variable in our model. \n",
                "\n",
                "Now what is the average difference in the weight of newborns for mothers who did not smoke as compared to mothers who smoke *for pregnancies of the same length*? \n",
                "\n",
                "**Please round your answer to two decimal places.**"
            ]
        },
        {
            "cell_type": "code",
            "execution_count": 10,
            "metadata": {},
            "outputs": [
                {
                    "data": {
                        "text/html": [
                            "<table class=\"simpletable\">\n",
                            "<caption>OLS Regression Results</caption>\n",
                            "<tr>\n",
                            "  <th>Dep. Variable:</th>         <td>bwt_oz</td>      <th>  R-squared:         </th> <td>   0.145</td>\n",
                            "</tr>\n",
                            "<tr>\n",
                            "  <th>Model:</th>                   <td>OLS</td>       <th>  Adj. R-squared:    </th> <td>   0.143</td>\n",
                            "</tr>\n",
                            "<tr>\n",
                            "  <th>Method:</th>             <td>Least Squares</td>  <th>  F-statistic:       </th> <td>   68.74</td>\n",
                            "</tr>\n",
                            "<tr>\n",
                            "  <th>Date:</th>             <td>Tue, 06 Aug 2024</td> <th>  Prob (F-statistic):</th> <td>2.64e-28</td>\n",
                            "</tr>\n",
                            "<tr>\n",
                            "  <th>Time:</th>                 <td>11:28:58</td>     <th>  Log-Likelihood:    </th> <td> -3397.9</td>\n",
                            "</tr>\n",
                            "<tr>\n",
                            "  <th>No. Observations:</th>      <td>   814</td>      <th>  AIC:               </th> <td>   6802.</td>\n",
                            "</tr>\n",
                            "<tr>\n",
                            "  <th>Df Residuals:</th>          <td>   811</td>      <th>  BIC:               </th> <td>   6816.</td>\n",
                            "</tr>\n",
                            "<tr>\n",
                            "  <th>Df Model:</th>              <td>     2</td>      <th>                     </th>     <td> </td>   \n",
                            "</tr>\n",
                            "<tr>\n",
                            "  <th>Covariance Type:</th>      <td>nonrobust</td>    <th>                     </th>     <td> </td>   \n",
                            "</tr>\n",
                            "</table>\n",
                            "<table class=\"simpletable\">\n",
                            "<tr>\n",
                            "      <td></td>         <th>coef</th>     <th>std err</th>      <th>t</th>      <th>P>|t|</th>  <th>[0.025</th>    <th>0.975]</th>  \n",
                            "</tr>\n",
                            "<tr>\n",
                            "  <th>Intercept</th> <td>   -0.3847</td> <td>   13.449</td> <td>   -0.029</td> <td> 0.977</td> <td>  -26.785</td> <td>   26.015</td>\n",
                            "</tr>\n",
                            "<tr>\n",
                            "  <th>smoke</th>     <td>   -7.4319</td> <td>    1.111</td> <td>   -6.692</td> <td> 0.000</td> <td>   -9.612</td> <td>   -5.252</td>\n",
                            "</tr>\n",
                            "<tr>\n",
                            "  <th>gestation</th> <td>    0.4393</td> <td>    0.048</td> <td>    9.217</td> <td> 0.000</td> <td>    0.346</td> <td>    0.533</td>\n",
                            "</tr>\n",
                            "</table>\n",
                            "<table class=\"simpletable\">\n",
                            "<tr>\n",
                            "  <th>Omnibus:</th>       <td> 8.849</td> <th>  Durbin-Watson:     </th> <td>   1.956</td>\n",
                            "</tr>\n",
                            "<tr>\n",
                            "  <th>Prob(Omnibus):</th> <td> 0.012</td> <th>  Jarque-Bera (JB):  </th> <td>  10.993</td>\n",
                            "</tr>\n",
                            "<tr>\n",
                            "  <th>Skew:</th>          <td> 0.136</td> <th>  Prob(JB):          </th> <td> 0.00410</td>\n",
                            "</tr>\n",
                            "<tr>\n",
                            "  <th>Kurtosis:</th>      <td> 3.501</td> <th>  Cond. No.          </th> <td>6.85e+03</td>\n",
                            "</tr>\n",
                            "</table><br/><br/>Notes:<br/>[1] Standard Errors assume that the covariance matrix of the errors is correctly specified.<br/>[2] The condition number is large, 6.85e+03. This might indicate that there are<br/>strong multicollinearity or other numerical problems."
                        ],
                        "text/latex": [
                            "\\begin{center}\n",
                            "\\begin{tabular}{lclc}\n",
                            "\\toprule\n",
                            "\\textbf{Dep. Variable:}    &     bwt\\_oz      & \\textbf{  R-squared:         } &     0.145   \\\\\n",
                            "\\textbf{Model:}            &       OLS        & \\textbf{  Adj. R-squared:    } &     0.143   \\\\\n",
                            "\\textbf{Method:}           &  Least Squares   & \\textbf{  F-statistic:       } &     68.74   \\\\\n",
                            "\\textbf{Date:}             & Tue, 06 Aug 2024 & \\textbf{  Prob (F-statistic):} &  2.64e-28   \\\\\n",
                            "\\textbf{Time:}             &     11:28:58     & \\textbf{  Log-Likelihood:    } &   -3397.9   \\\\\n",
                            "\\textbf{No. Observations:} &         814      & \\textbf{  AIC:               } &     6802.   \\\\\n",
                            "\\textbf{Df Residuals:}     &         811      & \\textbf{  BIC:               } &     6816.   \\\\\n",
                            "\\textbf{Df Model:}         &           2      & \\textbf{                     } &             \\\\\n",
                            "\\textbf{Covariance Type:}  &    nonrobust     & \\textbf{                     } &             \\\\\n",
                            "\\bottomrule\n",
                            "\\end{tabular}\n",
                            "\\begin{tabular}{lcccccc}\n",
                            "                   & \\textbf{coef} & \\textbf{std err} & \\textbf{t} & \\textbf{P$> |$t$|$} & \\textbf{[0.025} & \\textbf{0.975]}  \\\\\n",
                            "\\midrule\n",
                            "\\textbf{Intercept} &      -0.3847  &       13.449     &    -0.029  &         0.977        &      -26.785    &       26.015     \\\\\n",
                            "\\textbf{smoke}     &      -7.4319  &        1.111     &    -6.692  &         0.000        &       -9.612    &       -5.252     \\\\\n",
                            "\\textbf{gestation} &       0.4393  &        0.048     &     9.217  &         0.000        &        0.346    &        0.533     \\\\\n",
                            "\\bottomrule\n",
                            "\\end{tabular}\n",
                            "\\begin{tabular}{lclc}\n",
                            "\\textbf{Omnibus:}       &  8.849 & \\textbf{  Durbin-Watson:     } &    1.956  \\\\\n",
                            "\\textbf{Prob(Omnibus):} &  0.012 & \\textbf{  Jarque-Bera (JB):  } &   10.993  \\\\\n",
                            "\\textbf{Skew:}          &  0.136 & \\textbf{  Prob(JB):          } &  0.00410  \\\\\n",
                            "\\textbf{Kurtosis:}      &  3.501 & \\textbf{  Cond. No.          } & 6.85e+03  \\\\\n",
                            "\\bottomrule\n",
                            "\\end{tabular}\n",
                            "%\\caption{OLS Regression Results}\n",
                            "\\end{center}\n",
                            "\n",
                            "Notes: \\newline\n",
                            " [1] Standard Errors assume that the covariance matrix of the errors is correctly specified. \\newline\n",
                            " [2] The condition number is large, 6.85e+03. This might indicate that there are \\newline\n",
                            " strong multicollinearity or other numerical problems."
                        ],
                        "text/plain": [
                            "<class 'statsmodels.iolib.summary.Summary'>\n",
                            "\"\"\"\n",
                            "                            OLS Regression Results                            \n",
                            "==============================================================================\n",
                            "Dep. Variable:                 bwt_oz   R-squared:                       0.145\n",
                            "Model:                            OLS   Adj. R-squared:                  0.143\n",
                            "Method:                 Least Squares   F-statistic:                     68.74\n",
                            "Date:                Tue, 06 Aug 2024   Prob (F-statistic):           2.64e-28\n",
                            "Time:                        11:28:58   Log-Likelihood:                -3397.9\n",
                            "No. Observations:                 814   AIC:                             6802.\n",
                            "Df Residuals:                     811   BIC:                             6816.\n",
                            "Df Model:                           2                                         \n",
                            "Covariance Type:            nonrobust                                         \n",
                            "==============================================================================\n",
                            "                 coef    std err          t      P>|t|      [0.025      0.975]\n",
                            "------------------------------------------------------------------------------\n",
                            "Intercept     -0.3847     13.449     -0.029      0.977     -26.785      26.015\n",
                            "smoke         -7.4319      1.111     -6.692      0.000      -9.612      -5.252\n",
                            "gestation      0.4393      0.048      9.217      0.000       0.346       0.533\n",
                            "==============================================================================\n",
                            "Omnibus:                        8.849   Durbin-Watson:                   1.956\n",
                            "Prob(Omnibus):                  0.012   Jarque-Bera (JB):               10.993\n",
                            "Skew:                           0.136   Prob(JB):                      0.00410\n",
                            "Kurtosis:                       3.501   Cond. No.                     6.85e+03\n",
                            "==============================================================================\n",
                            "\n",
                            "Notes:\n",
                            "[1] Standard Errors assume that the covariance matrix of the errors is correctly specified.\n",
                            "[2] The condition number is large, 6.85e+03. This might indicate that there are\n",
                            "strong multicollinearity or other numerical problems.\n",
                            "\"\"\""
                        ]
                    },
                    "execution_count": 10,
                    "metadata": {},
                    "output_type": "execute_result"
                }
            ],
            "source": [
                "s_and_bw_model = smf.ols(\"bwt_oz ~ smoke + gestation\", smoking_and_bw).fit()\n",
                "s_and_bw_model.summary()"
            ]
        },
        {
            "cell_type": "markdown",
            "metadata": {},
            "source": [
                "> 7.43 ounces."
            ]
        },
        {
            "cell_type": "markdown",
            "metadata": {},
            "source": [
                "### Exercise 4\n",
                "\n",
                "Now fit the same model you just fit (with `gestation` and `smoke`) but do so using `patsy` and the `OLS` method from `statsmodels.api` (*not* the `ols` method from `statsmodels.formula.api`)."
            ]
        },
        {
            "cell_type": "code",
            "execution_count": 13,
            "metadata": {},
            "outputs": [
                {
                    "data": {
                        "text/html": [
                            "<table class=\"simpletable\">\n",
                            "<caption>OLS Regression Results</caption>\n",
                            "<tr>\n",
                            "  <th>Dep. Variable:</th>         <td>bwt_oz</td>      <th>  R-squared:         </th> <td>   0.145</td>\n",
                            "</tr>\n",
                            "<tr>\n",
                            "  <th>Model:</th>                   <td>OLS</td>       <th>  Adj. R-squared:    </th> <td>   0.143</td>\n",
                            "</tr>\n",
                            "<tr>\n",
                            "  <th>Method:</th>             <td>Least Squares</td>  <th>  F-statistic:       </th> <td>   68.74</td>\n",
                            "</tr>\n",
                            "<tr>\n",
                            "  <th>Date:</th>             <td>Tue, 06 Aug 2024</td> <th>  Prob (F-statistic):</th> <td>2.64e-28</td>\n",
                            "</tr>\n",
                            "<tr>\n",
                            "  <th>Time:</th>                 <td>11:40:36</td>     <th>  Log-Likelihood:    </th> <td> -3397.9</td>\n",
                            "</tr>\n",
                            "<tr>\n",
                            "  <th>No. Observations:</th>      <td>   814</td>      <th>  AIC:               </th> <td>   6802.</td>\n",
                            "</tr>\n",
                            "<tr>\n",
                            "  <th>Df Residuals:</th>          <td>   811</td>      <th>  BIC:               </th> <td>   6816.</td>\n",
                            "</tr>\n",
                            "<tr>\n",
                            "  <th>Df Model:</th>              <td>     2</td>      <th>                     </th>     <td> </td>   \n",
                            "</tr>\n",
                            "<tr>\n",
                            "  <th>Covariance Type:</th>      <td>nonrobust</td>    <th>                     </th>     <td> </td>   \n",
                            "</tr>\n",
                            "</table>\n",
                            "<table class=\"simpletable\">\n",
                            "<tr>\n",
                            "      <td></td>         <th>coef</th>     <th>std err</th>      <th>t</th>      <th>P>|t|</th>  <th>[0.025</th>    <th>0.975]</th>  \n",
                            "</tr>\n",
                            "<tr>\n",
                            "  <th>Intercept</th> <td>   -0.3847</td> <td>   13.449</td> <td>   -0.029</td> <td> 0.977</td> <td>  -26.785</td> <td>   26.015</td>\n",
                            "</tr>\n",
                            "<tr>\n",
                            "  <th>smoke</th>     <td>   -7.4319</td> <td>    1.111</td> <td>   -6.692</td> <td> 0.000</td> <td>   -9.612</td> <td>   -5.252</td>\n",
                            "</tr>\n",
                            "<tr>\n",
                            "  <th>gestation</th> <td>    0.4393</td> <td>    0.048</td> <td>    9.217</td> <td> 0.000</td> <td>    0.346</td> <td>    0.533</td>\n",
                            "</tr>\n",
                            "</table>\n",
                            "<table class=\"simpletable\">\n",
                            "<tr>\n",
                            "  <th>Omnibus:</th>       <td> 8.849</td> <th>  Durbin-Watson:     </th> <td>   1.956</td>\n",
                            "</tr>\n",
                            "<tr>\n",
                            "  <th>Prob(Omnibus):</th> <td> 0.012</td> <th>  Jarque-Bera (JB):  </th> <td>  10.993</td>\n",
                            "</tr>\n",
                            "<tr>\n",
                            "  <th>Skew:</th>          <td> 0.136</td> <th>  Prob(JB):          </th> <td> 0.00410</td>\n",
                            "</tr>\n",
                            "<tr>\n",
                            "  <th>Kurtosis:</th>      <td> 3.501</td> <th>  Cond. No.          </th> <td>6.85e+03</td>\n",
                            "</tr>\n",
                            "</table><br/><br/>Notes:<br/>[1] Standard Errors assume that the covariance matrix of the errors is correctly specified.<br/>[2] The condition number is large, 6.85e+03. This might indicate that there are<br/>strong multicollinearity or other numerical problems."
                        ],
                        "text/latex": [
                            "\\begin{center}\n",
                            "\\begin{tabular}{lclc}\n",
                            "\\toprule\n",
                            "\\textbf{Dep. Variable:}    &     bwt\\_oz      & \\textbf{  R-squared:         } &     0.145   \\\\\n",
                            "\\textbf{Model:}            &       OLS        & \\textbf{  Adj. R-squared:    } &     0.143   \\\\\n",
                            "\\textbf{Method:}           &  Least Squares   & \\textbf{  F-statistic:       } &     68.74   \\\\\n",
                            "\\textbf{Date:}             & Tue, 06 Aug 2024 & \\textbf{  Prob (F-statistic):} &  2.64e-28   \\\\\n",
                            "\\textbf{Time:}             &     11:40:36     & \\textbf{  Log-Likelihood:    } &   -3397.9   \\\\\n",
                            "\\textbf{No. Observations:} &         814      & \\textbf{  AIC:               } &     6802.   \\\\\n",
                            "\\textbf{Df Residuals:}     &         811      & \\textbf{  BIC:               } &     6816.   \\\\\n",
                            "\\textbf{Df Model:}         &           2      & \\textbf{                     } &             \\\\\n",
                            "\\textbf{Covariance Type:}  &    nonrobust     & \\textbf{                     } &             \\\\\n",
                            "\\bottomrule\n",
                            "\\end{tabular}\n",
                            "\\begin{tabular}{lcccccc}\n",
                            "                   & \\textbf{coef} & \\textbf{std err} & \\textbf{t} & \\textbf{P$> |$t$|$} & \\textbf{[0.025} & \\textbf{0.975]}  \\\\\n",
                            "\\midrule\n",
                            "\\textbf{Intercept} &      -0.3847  &       13.449     &    -0.029  &         0.977        &      -26.785    &       26.015     \\\\\n",
                            "\\textbf{smoke}     &      -7.4319  &        1.111     &    -6.692  &         0.000        &       -9.612    &       -5.252     \\\\\n",
                            "\\textbf{gestation} &       0.4393  &        0.048     &     9.217  &         0.000        &        0.346    &        0.533     \\\\\n",
                            "\\bottomrule\n",
                            "\\end{tabular}\n",
                            "\\begin{tabular}{lclc}\n",
                            "\\textbf{Omnibus:}       &  8.849 & \\textbf{  Durbin-Watson:     } &    1.956  \\\\\n",
                            "\\textbf{Prob(Omnibus):} &  0.012 & \\textbf{  Jarque-Bera (JB):  } &   10.993  \\\\\n",
                            "\\textbf{Skew:}          &  0.136 & \\textbf{  Prob(JB):          } &  0.00410  \\\\\n",
                            "\\textbf{Kurtosis:}      &  3.501 & \\textbf{  Cond. No.          } & 6.85e+03  \\\\\n",
                            "\\bottomrule\n",
                            "\\end{tabular}\n",
                            "%\\caption{OLS Regression Results}\n",
                            "\\end{center}\n",
                            "\n",
                            "Notes: \\newline\n",
                            " [1] Standard Errors assume that the covariance matrix of the errors is correctly specified. \\newline\n",
                            " [2] The condition number is large, 6.85e+03. This might indicate that there are \\newline\n",
                            " strong multicollinearity or other numerical problems."
                        ],
                        "text/plain": [
                            "<class 'statsmodels.iolib.summary.Summary'>\n",
                            "\"\"\"\n",
                            "                            OLS Regression Results                            \n",
                            "==============================================================================\n",
                            "Dep. Variable:                 bwt_oz   R-squared:                       0.145\n",
                            "Model:                            OLS   Adj. R-squared:                  0.143\n",
                            "Method:                 Least Squares   F-statistic:                     68.74\n",
                            "Date:                Tue, 06 Aug 2024   Prob (F-statistic):           2.64e-28\n",
                            "Time:                        11:40:36   Log-Likelihood:                -3397.9\n",
                            "No. Observations:                 814   AIC:                             6802.\n",
                            "Df Residuals:                     811   BIC:                             6816.\n",
                            "Df Model:                           2                                         \n",
                            "Covariance Type:            nonrobust                                         \n",
                            "==============================================================================\n",
                            "                 coef    std err          t      P>|t|      [0.025      0.975]\n",
                            "------------------------------------------------------------------------------\n",
                            "Intercept     -0.3847     13.449     -0.029      0.977     -26.785      26.015\n",
                            "smoke         -7.4319      1.111     -6.692      0.000      -9.612      -5.252\n",
                            "gestation      0.4393      0.048      9.217      0.000       0.346       0.533\n",
                            "==============================================================================\n",
                            "Omnibus:                        8.849   Durbin-Watson:                   1.956\n",
                            "Prob(Omnibus):                  0.012   Jarque-Bera (JB):               10.993\n",
                            "Skew:                           0.136   Prob(JB):                      0.00410\n",
                            "Kurtosis:                       3.501   Cond. No.                     6.85e+03\n",
                            "==============================================================================\n",
                            "\n",
                            "Notes:\n",
                            "[1] Standard Errors assume that the covariance matrix of the errors is correctly specified.\n",
                            "[2] The condition number is large, 6.85e+03. This might indicate that there are\n",
                            "strong multicollinearity or other numerical problems.\n",
                            "\"\"\""
                        ]
                    },
                    "execution_count": 13,
                    "metadata": {},
                    "output_type": "execute_result"
                }
            ],
            "source": [
                "import statsmodels.api as sm\n",
                "import patsy\n",
                "\n",
                "y, X = patsy.dmatrices(\"bwt_oz ~ smoke + gestation\", smoking_and_bw)\n",
                "\n",
                "model = sm.OLS(y, X).fit()\n",
                "model.summary()"
            ]
        },
        {
            "cell_type": "markdown",
            "metadata": {},
            "source": [
                "### Exercise 5\n",
                "\n",
                "Now let's test for whether there is an interaction between the mother's race and the effect of smoking by adding an interaction term to this regression. \n",
                "\n",
                "`mrace` is coded as follows:\n",
                "\n",
                "```\n",
                "mrace    Mother's race or ethnicity\n",
                "         0-5 = White\n",
                "         6   = Mexican\n",
                "         7   = Black\n",
                "         8   = Asian\n",
                "         9   = Mix\n",
                "         99  = Unknown\n",
                "```\n",
                "\n",
                "As most variation in this data is between \"White\" and other categories, create a new variable that takes on a value of 1 when the mother is White and 0 otherwise.\n",
                "\n",
                "(As you can tell, people in the 1960s were not as thoughtful about collecting detailed data on race and ethnicity as most modern researchers, and nor did they go out of their way to ensure their data included enough data on non-White groups to allow detailed sub-population analyses.)\n",
                "\n",
                "What share (a value between 0 and 1) of mothers in the data are identified as White? \n",
                "\n",
                "**Please round your answer to two decimal places**"
            ]
        },
        {
            "cell_type": "code",
            "execution_count": 15,
            "metadata": {},
            "outputs": [
                {
                    "data": {
                        "text/plain": [
                            "mrace\n",
                            "0    0.460688\n",
                            "7    0.181818\n",
                            "5    0.111794\n",
                            "3    0.052826\n",
                            "4    0.049140\n",
                            "1    0.040541\n",
                            "8    0.039312\n",
                            "6    0.027027\n",
                            "2    0.019656\n",
                            "9    0.017199\n",
                            "Name: proportion, dtype: float64"
                        ]
                    },
                    "execution_count": 15,
                    "metadata": {},
                    "output_type": "execute_result"
                }
            ],
            "source": [
                "smoking_and_bw[\"mrace\"].value_counts(normalize=True)"
            ]
        },
        {
            "cell_type": "code",
            "execution_count": 17,
            "metadata": {},
            "outputs": [
                {
                    "data": {
                        "text/plain": [
                            "white\n",
                            "True     0.734644\n",
                            "False    0.265356\n",
                            "Name: proportion, dtype: float64"
                        ]
                    },
                    "execution_count": 17,
                    "metadata": {},
                    "output_type": "execute_result"
                }
            ],
            "source": [
                "smoking_and_bw[\"white\"] = (smoking_and_bw[\"mrace\"] >= 0) & (smoking_and_bw[\"mrace\"] < 6)\n",
                "smoking_and_bw[\"white\"].value_counts(normalize=True)"
            ]
        },
        {
            "cell_type": "markdown",
            "metadata": {},
            "source": [
                "> 0.73"
            ]
        },
        {
            "cell_type": "markdown",
            "metadata": {},
            "source": [
                "### Exercise 6\n",
                "\n",
                "Now regress birthweight on length of pregnancy, whether the mother smoked during pregnancy, whether the mother was White, and the interaction of whether the mother was White and whether the mother smoked.\n",
                "\n",
                "(Note: depending on how you write your formula, you may not have to enter all those into the regression explicitly.)\n",
                "\n",
                "What is the coefficient on `smoke`? \n",
                "\n",
                "This time, please extract the coefficient on `smoke` from the model using Python, then round it with `np.round()` (so you can get some practice accessing model coefficients).\n",
                "\n",
                "**Please round your answer to two decimal places.**"
            ]
        },
        {
            "cell_type": "code",
            "execution_count": 21,
            "metadata": {},
            "outputs": [
                {
                    "data": {
                        "text/plain": [
                            "-7.59"
                        ]
                    },
                    "execution_count": 21,
                    "metadata": {},
                    "output_type": "execute_result"
                }
            ],
            "source": [
                "s_and_bw_model3 = smf.ols(\"bwt_oz ~ gestation + C(white)*smoke\", smoking_and_bw).fit()\n",
                "np.round(s_and_bw_model3.params[\"smoke\"], 2)"
            ]
        },
        {
            "cell_type": "markdown",
            "metadata": {},
            "source": [
                "## Bonus Exercises\n",
                "\n",
                "What follows are BONUS EXERCISES. You do not have to get these right to pass the quiz for this module as they get into interpretation of interaction terms (which are quite tricky if you haven't taken a linear regression class before).\n",
                "\n",
                "### Exercise 7\n",
                "\n",
                "Based on the regression you ran in Exercise 6, is the impact of smoking greater for White mothers than non-White mothers? (We are ignoring the question of whether this difference is statistically significant for the moment, if you know what that means — just focus on the coefficients in the model.)"
            ]
        },
        {
            "cell_type": "markdown",
            "metadata": {},
            "source": [
                "> The impact is greater."
            ]
        },
        {
            "cell_type": "markdown",
            "metadata": {},
            "source": [
                "### Exercise 8\n",
                "\n",
                "Again, using the regression you fit above, answer the following question.\n",
                "\n",
                "For White mothers, what is the average difference in the weight of newborns between mothers who do NOT smoke and those who DO smoke, assuming their pregnancies lasted the same amount of time?\n",
                "\n",
                "Please do not do any math by hand — extract the coefficients from the model using Python.\n",
                "\n",
                "**Please round your answer to two decimal places.**"
            ]
        },
        {
            "cell_type": "code",
            "execution_count": 20,
            "metadata": {},
            "outputs": [
                {
                    "data": {
                        "text/plain": [
                            "-7.926048814780051"
                        ]
                    },
                    "execution_count": 20,
                    "metadata": {},
                    "output_type": "execute_result"
                }
            ],
            "source": [
                "s_and_bw_model3.params[\"smoke\"] + s_and_bw_model3.params[\"C(white)[T.True]:smoke\"]"
            ]
        },
        {
            "cell_type": "markdown",
            "metadata": {},
            "source": [
                "> 7.93"
            ]
        }
    ],
    "metadata": {
        "kernelspec": {
            "display_name": "Python 3.10.6 ('base')",
            "language": "python",
            "name": "python3"
        },
        "language_info": {
            "codemirror_mode": {
                "name": "ipython",
                "version": 3
            },
            "file_extension": ".py",
            "mimetype": "text/x-python",
            "name": "python",
            "nbconvert_exporter": "python",
            "pygments_lexer": "ipython3",
            "version": "3.11.8"
        },
        "vscode": {
            "interpreter": {
                "hash": "718fed28bf9f8c7851519acf2fb923cd655120b36de3b67253eeb0428bd33d2d"
            }
        }
    },
    "nbformat": 4,
    "nbformat_minor": 4
}
