{
 "cells": [
  {
   "cell_type": "markdown",
   "metadata": {},
   "source": [
    "# Python: Variables vs. Objects"
   ]
  },
  {
   "cell_type": "markdown",
   "metadata": {},
   "source": [
    "In Python, one of the most important concepts to understand is that there is a difference between *variables* and the *objects associated with those variables*. This idea is common to many programming languages, but not languages like R or Matlab, so this is one place people new to Python often get into trouble!\n",
    "\n",
    "In Python, variables and the objects they point to actually live in two different places in your computer. As a result, in Python, it's best to think of variables as *pointing* to the objects they're associated with, rather than *being* those objects. Personally, I've always liked the analogy of your computer being a big warehouse, where variables are just the entries in the inventory book used by the warehouse manager: the variable tells you how to find the thing you want, but it is not the thing itself. \n",
    "\n",
    "So when you create a new list, Python puts that list somewhere in memory, kind of like how you might put something big on a shelf in a warehouse. The variable associated with that list (say, ``my_list``) actually just stores the *location* of the shelf where that list was placed. And because this behavior is normal in most languages, you may not see it emphasized in Python tutorials written by programmers not coming from R.\n",
    "\n",
    "The reason this matters is that it's possible for multiple variables to be pointed at the same object. As a result, changes made to an object through one variable will impact what you get if you call the other variables pointed at that object! For example:"
   ]
  },
  {
   "cell_type": "code",
   "execution_count": 1,
   "metadata": {},
   "outputs": [
    {
     "data": {
      "text/plain": [
       "[1, 2, 3, 4]"
      ]
     },
     "execution_count": 1,
     "metadata": {},
     "output_type": "execute_result"
    }
   ],
   "source": [
    "# Make a new list\n",
    "x = [1, 2, 3]\n",
    "# Make new var Y, and assign it x. In R this would make a copy.\n",
    "y = x\n",
    "# Add to the end of the string\n",
    "x.append(4)\n",
    "# We see this new addition is now at end of x\n",
    "x"
   ]
  },
  {
   "cell_type": "code",
   "execution_count": 2,
   "metadata": {},
   "outputs": [
    {
     "data": {
      "text/plain": [
       "[1, 2, 3, 4]"
      ]
     },
     "execution_count": 2,
     "metadata": {},
     "output_type": "execute_result"
    }
   ],
   "source": [
    "# But look! It's also at the end of y!\n",
    "# That's because both variables are actually pointing to the same object in memory (\"in the warehouse\"),\n",
    "# so when you appended something to x, you changed the underlying object. And\n",
    "# since y was also pointed at that same object, when you next call y, it\n",
    "# \"sees\" those changes to the underlying list.\n",
    "y"
   ]
  },
  {
   "cell_type": "markdown",
   "metadata": {},
   "source": [
    "If it's helpful, here's a visual depiction of what's going on: \n",
    "\n",
    "First, we create a list associated with `x`:\n",
    "\n",
    "![vars_v_objects_1](images/vars_v_objects_1.png)\n",
    "\n",
    "Then we create a var `y` also pointed at that same list:\n",
    "\n",
    "![vars_v_objects_2](images/vars_v_objects_2.png)\n",
    "\n",
    "Then we modify the list *through* `x`, creating a change also visible through `y`:\n",
    "\n",
    "![vars_v_objects_3](images/vars_v_objects_3.png)\n"
   ]
  },
  {
   "cell_type": "markdown",
   "metadata": {},
   "source": [
    "If what you want to do is make a *copy* of x, you use the `copy()` command. This makes an entirely new list (a new object that looks the same as the old one, but which can be put on a different shelf) so that changes to `x` won't impact the list associated with `y`. "
   ]
  },
  {
   "cell_type": "code",
   "execution_count": 3,
   "metadata": {},
   "outputs": [
    {
     "data": {
      "text/plain": [
       "[1, 2, 3]"
      ]
     },
     "execution_count": 3,
     "metadata": {},
     "output_type": "execute_result"
    }
   ],
   "source": [
    "x = [1, 2, 3]\n",
    "y = x\n",
    "y_copy = x.copy()\n",
    "x.append(4)\n",
    "y_copy"
   ]
  },
  {
   "cell_type": "markdown",
   "metadata": {},
   "source": [
    "Visually, this code sequence looks like this:\n",
    "\n",
    "Start with `x` and `y` as before: \n",
    "\n",
    "![vars_v_objects_2](images/vars_v_objects_2.png)\n",
    "\n",
    "Then we make `y_copy`: \n",
    "\n",
    "![vars_v_objects_4](images/vars_v_objects_4.png)\n",
    "\n",
    "And modify `x`, changing what we get when we call `y`, but not `y_copy`:\n",
    "\n",
    "![vars_v_objects_5](images/vars_v_objects_5.png)\n"
   ]
  },
  {
   "cell_type": "markdown",
   "metadata": {},
   "source": [
    "If you want to see if two variables point to the same thing, you can use the `is` operator, which tests whether two variables are pointed at the same place in memory / same shelf:"
   ]
  },
  {
   "cell_type": "code",
   "execution_count": 4,
   "metadata": {},
   "outputs": [
    {
     "data": {
      "text/plain": [
       "True"
      ]
     },
     "execution_count": 4,
     "metadata": {},
     "output_type": "execute_result"
    }
   ],
   "source": [
    "x is y"
   ]
  },
  {
   "cell_type": "code",
   "execution_count": 5,
   "metadata": {},
   "outputs": [
    {
     "data": {
      "text/plain": [
       "False"
      ]
     },
     "execution_count": 5,
     "metadata": {},
     "output_type": "execute_result"
    }
   ],
   "source": [
    "x is y_copy"
   ]
  },
  {
   "cell_type": "markdown",
   "metadata": {},
   "source": [
    "Note that `is` is not the same as `==`. `==` asks if the *entries* in the lists the two variables point at have the same values, while `is` asks if the two variables are pointing to *the exact same object*. So: "
   ]
  },
  {
   "cell_type": "code",
   "execution_count": 6,
   "metadata": {},
   "outputs": [
    {
     "data": {
      "text/plain": [
       "False"
      ]
     },
     "execution_count": 6,
     "metadata": {},
     "output_type": "execute_result"
    }
   ],
   "source": [
    "x = [1, 2, 3]\n",
    "y = x.copy()\n",
    "# Since we made a copy, x and y aren't pointing to the same thing...\n",
    "x is y"
   ]
  },
  {
   "cell_type": "code",
   "execution_count": 7,
   "metadata": {},
   "outputs": [
    {
     "data": {
      "text/plain": [
       "True"
      ]
     },
     "execution_count": 7,
     "metadata": {},
     "output_type": "execute_result"
    }
   ],
   "source": [
    "# But as x and y both point to lists with the entries 1, 2, 3, they point to lists that are equal in terms of their entries\n",
    "x == y"
   ]
  },
  {
   "cell_type": "markdown",
   "metadata": {},
   "source": [
    "## Mutable vs. Immutable Types\n",
    "\n",
    "Now a wrinkle. \n",
    "\n",
    "Certain data types in Python are called \"immutable.\" That means an object, once created, can't actually be modified. As a result, if you want to do something that looks like modifying the object, Python has to  create *an entirely new object* that lives in a new location. \n",
    "\n",
    "Strings, for example, are \"immutable.\" So if we create a string, then try and modify it, what we're actually doing is creating a new string that has the features we want. \n",
    "\n",
    "To illustrate, we can use the `id()` function. Every object in Python has a unique `id()`, and so when two variables point to the same object, then `id()` of those variables will also return the same thing:"
   ]
  },
  {
   "cell_type": "code",
   "execution_count": 8,
   "metadata": {},
   "outputs": [
    {
     "data": {
      "text/plain": [
       "4390275632"
      ]
     },
     "execution_count": 8,
     "metadata": {},
     "output_type": "execute_result"
    }
   ],
   "source": [
    "# Make x a simple string, then make y point to that same string\n",
    "x = \"my string\"\n",
    "y = x\n",
    "\n",
    "id(x)"
   ]
  },
  {
   "cell_type": "code",
   "execution_count": 9,
   "metadata": {},
   "outputs": [
    {
     "data": {
      "text/plain": [
       "4390275632"
      ]
     },
     "execution_count": 9,
     "metadata": {},
     "output_type": "execute_result"
    }
   ],
   "source": [
    "id(y)"
   ]
  },
  {
   "cell_type": "markdown",
   "metadata": {},
   "source": [
    "As we can see, x and y point to the same object. But now let's see what happens if we modify that string:"
   ]
  },
  {
   "cell_type": "code",
   "execution_count": 10,
   "metadata": {},
   "outputs": [
    {
     "data": {
      "text/plain": [
       "'MY STRING'"
      ]
     },
     "execution_count": 10,
     "metadata": {},
     "output_type": "execute_result"
    }
   ],
   "source": [
    "x = x.upper()\n",
    "x"
   ]
  },
  {
   "cell_type": "code",
   "execution_count": 11,
   "metadata": {},
   "outputs": [
    {
     "data": {
      "text/plain": [
       "4390266800"
      ]
     },
     "execution_count": 11,
     "metadata": {},
     "output_type": "execute_result"
    }
   ],
   "source": [
    "id(x)"
   ]
  },
  {
   "cell_type": "markdown",
   "metadata": {},
   "source": [
    "Now `x` has a new value of `id()`. That's because calling `x` actually created a new string that was the uppercase version of \"my string,\" then we made `x` point to that new object. \n",
    "\n",
    "But what happened to `y`?"
   ]
  },
  {
   "cell_type": "code",
   "execution_count": 12,
   "metadata": {},
   "outputs": [
    {
     "data": {
      "text/plain": [
       "'my string'"
      ]
     },
     "execution_count": 12,
     "metadata": {},
     "output_type": "execute_result"
    }
   ],
   "source": [
    "y"
   ]
  },
  {
   "cell_type": "code",
   "execution_count": 13,
   "metadata": {},
   "outputs": [
    {
     "data": {
      "text/plain": [
       "4390275632"
      ]
     },
     "execution_count": 13,
     "metadata": {},
     "output_type": "execute_result"
    }
   ],
   "source": [
    "id(y)"
   ]
  },
  {
   "cell_type": "markdown",
   "metadata": {},
   "source": [
    "As we can see, `y` is still pointing at the old string and still has the same `id()`. This can be visualized as `x` and `y` both pointing to the same string: \n",
    "\n",
    "![var_v_object_string_1](images/var_v_object_string_1.png)\n",
    "\n",
    "Then `x` being redirected to a new object (\"MY STRING\") because strings are immutable (meaning the original value of \"my string\" couldn't just be modified in place).\n",
    "\n",
    "![var_v_object_string_2](images/var_v_object_string_2.png)\n"
   ]
  },
  {
   "cell_type": "markdown",
   "metadata": {},
   "source": [
    "This illustrates one of the nuances of Python: **if you mutate a mutable object, that change will propagate to all variables that point at said object. But if you modify an immutable object, a new object will actually be created, so that change will not be accessible to variables pointing at the old object.**"
   ]
  },
  {
   "cell_type": "markdown",
   "metadata": {},
   "source": [
    "## What's mutable, and what's immutable?\n",
    "\n",
    "Here's quick list of data types you're likely to encounter that are *immutable*:\n",
    "\n",
    "- int\n",
    "- float\n",
    "- decimal\n",
    "- complex\n",
    "- bool\n",
    "- string\n",
    "- tuple\n",
    "\n",
    "And here are common data types that are *mutable*: \n",
    "\n",
    "- lists\n",
    "- sets\n",
    "- dictionaries\n",
    "- user defined objects\n",
    "- numpy arrays\n",
    "- pandas objects\n",
    "\n",
    "How do you remember this? It is *nearly* accurate to say that **anything that is a collection of other objects is mutable, except `tuples`**. There are some weird data types that are also collections that are immutable (*frozensets*, which, as the name implies, are \"frozen\" and thus can't be changed), but you're unlikely to ever use those, and if you do, it's because you know you want something immutable. \n",
    "\n",
    "## Only some manipulations are mutations.\n",
    "\n",
    "OK, now an important nuance: **not all manipulations of mutable objects change the object rather than create a new object.** Sometimes when you do something to a mutable object, you get back a new object. Manipulations that change an existing object, rather than create a new one, are referred to as \"in-place mutations\" or just \"mutations.\" So:\n",
    "\n",
    "- *All* manipulations of immutable types create new objects\n",
    "- *Some* manipulations of mutable types create new objects\n",
    "\n",
    "For example, appending something to the end of a list is an *in-place mutation* (the existing list is changed). But doing things like doubling up lists using the `*` create new lists: "
   ]
  },
  {
   "cell_type": "code",
   "execution_count": 14,
   "metadata": {},
   "outputs": [
    {
     "data": {
      "text/plain": [
       "[2, 5, 3, 2, 5, 3]"
      ]
     },
     "execution_count": 14,
     "metadata": {},
     "output_type": "execute_result"
    }
   ],
   "source": [
    "x = [2, 5, 3]\n",
    "y = x\n",
    "x = x * 2\n",
    "x"
   ]
  },
  {
   "cell_type": "code",
   "execution_count": 15,
   "metadata": {},
   "outputs": [
    {
     "data": {
      "text/plain": [
       "[2, 5, 3]"
      ]
     },
     "execution_count": 15,
     "metadata": {},
     "output_type": "execute_result"
    }
   ],
   "source": [
    "y"
   ]
  },
  {
   "cell_type": "markdown",
   "metadata": {},
   "source": [
    "Similarly, taking a slice of a list gets you a new list:"
   ]
  },
  {
   "cell_type": "code",
   "execution_count": 16,
   "metadata": {},
   "outputs": [
    {
     "data": {
      "text/plain": [
       "[2, 5]"
      ]
     },
     "execution_count": 16,
     "metadata": {},
     "output_type": "execute_result"
    }
   ],
   "source": [
    "x = [2, 5, 3]\n",
    "y = x\n",
    "x = x[0:2]\n",
    "x"
   ]
  },
  {
   "cell_type": "code",
   "execution_count": 17,
   "metadata": {},
   "outputs": [
    {
     "data": {
      "text/plain": [
       "[2, 5, 3]"
      ]
     },
     "execution_count": 17,
     "metadata": {},
     "output_type": "execute_result"
    }
   ],
   "source": [
    "y"
   ]
  },
  {
   "cell_type": "markdown",
   "metadata": {},
   "source": [
    "A function's documentation will almost always tell you if a function mutates a list in-place or not, and over time you'll get a feel for what mutates and what doesn't, but unfortunately in Python, there is no obvious way to be sure."
   ]
  },
  {
   "cell_type": "markdown",
   "metadata": {},
   "source": [
    "## Functions and Object References\n",
    "\n",
    "Another important thing to know is that the fact that different variables may all be pointing at the same object is preserved through function calls (a behavior known as \"pass by object-reference\"). So if you pass a list to a function, and that function manipulates that list using an in-place mutation, that change will affect any variable that was pointing to that same object outside the function."
   ]
  },
  {
   "cell_type": "code",
   "execution_count": 18,
   "metadata": {},
   "outputs": [
    {
     "data": {
      "text/plain": [
       "[1, 2, 3, 42]"
      ]
     },
     "execution_count": 18,
     "metadata": {},
     "output_type": "execute_result"
    }
   ],
   "source": [
    "x = [1, 2, 3]\n",
    "y = x\n",
    "\n",
    "\n",
    "def append_42(input_list):\n",
    "    input_list.append(42)\n",
    "    return input_list\n",
    "\n",
    "\n",
    "append_42(x)"
   ]
  },
  {
   "cell_type": "code",
   "execution_count": 19,
   "metadata": {},
   "outputs": [
    {
     "data": {
      "text/plain": [
       "[1, 2, 3, 42]"
      ]
     },
     "execution_count": 19,
     "metadata": {},
     "output_type": "execute_result"
    }
   ],
   "source": [
    "x"
   ]
  },
  {
   "cell_type": "code",
   "execution_count": 20,
   "metadata": {},
   "outputs": [
    {
     "data": {
      "text/plain": [
       "[1, 2, 3, 42]"
      ]
     },
     "execution_count": 20,
     "metadata": {},
     "output_type": "execute_result"
    }
   ],
   "source": [
    "y"
   ]
  },
  {
   "cell_type": "markdown",
   "metadata": {},
   "source": [
    "## Confused?\n",
    "\n",
    "Yeah, that's reasonable. This is really tricky. Honestly, you probably won't feel like you \"get\" this until you play around with it a lot (as we'll do in class!).\n"
   ]
  }
 ],
 "metadata": {
  "kernelspec": {
   "display_name": "Python 3.10.6 ('base')",
   "language": "python",
   "name": "python3"
  },
  "language_info": {
   "codemirror_mode": {
    "name": "ipython",
    "version": 3
   },
   "file_extension": ".py",
   "mimetype": "text/x-python",
   "name": "python",
   "nbconvert_exporter": "python",
   "pygments_lexer": "ipython3",
   "version": "3.10.8"
  },
  "vscode": {
   "interpreter": {
    "hash": "718fed28bf9f8c7851519acf2fb923cd655120b36de3b67253eeb0428bd33d2d"
   }
  }
 },
 "nbformat": 4,
 "nbformat_minor": 4
}
