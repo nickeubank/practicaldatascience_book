{
    "cells": [
        {
            "cell_type": "markdown",
            "metadata": {},
            "source": [
                "# Principles and Tools for Debugging\n",
                "\n",
                "We all make mistakes when writing code—ALL of us. And yes, even expert programmers make mistakes. The difference between the pros and the rest is the ability to minimize those mistakes through the use of best practices and the ability to quickly and efficiently (a) identify the issue, through testing, for example, and (b) find the source of the problem and correct it. But *how* can we most effectively find the source of our problems once detected?\n",
                "\n",
                "In this reading, we will talk about the two main types of problems (colloquially referred to as \"bugs\") you are likely to find in your code before then turning to the types of tools and strategies that are available for helping you find and solve these problems. \n",
                "\n",
                "## Table of Contents\n",
                "\n",
                "- Types of bugs\n",
                "- Debugging tools\n",
                "  - `print()` statements\n",
                "  - Debuggers\n",
                "    - [Python Debugger in VS Code](20_debugging_in_vscode.ipynb)\n",
                "\n",
                "## Types of bugs\n",
                "\n",
                "There are two main types of bugs in programming: syntax errors and logical errors.\n",
                "\n",
                "### 1. Syntax errors\n",
                "\n",
                "These are errors in your code that prevent your code from running. For example, if you forgot to indent correctly in a Python function or left the colon off the end of line with a for loop. These are generally easy to identify without the need for tools simply because the program won't run, and Python will helpfully tell you the line where the mistake is located.\n",
                "\n",
                "```python\n",
                "def myfunc(x)\n",
                "    return x + 2\n",
                "```\n",
                "\n",
                "This results in the following error:\n",
                "\n",
                "```python\n",
                "  File \"<ipython-input-1-a52aba7de6d5>\", line 1\n",
                "    def myfunc(x)\n",
                "                 ^\n",
                "SyntaxError: invalid syntax\n",
                "```\n",
                "\n",
                "(This reading is meant to follow our video on interpreting [Python Tracebacks](https://www.youtube.com/watch?v=JD8BrXXNtjA), so if you haven't watched that yet go take a look at it now.)\n",
                "\n",
                "Indeed, these are so easy for computers to detect many syntax errors that your computer will actually warn you about many of them *as you're writing your code* using a \"linter.\" A linter is a program that runs in the background of an editor (like VS Code) that continually checks your code for basic syntax errors. For example, if I put the code above in VS Code, the editor will actually try to warn me of my error in three different ways *before I ever even hit run*: \n",
                "\n",
                "![linting example](images/linting.png)\n",
                "\n",
                "- the file name has turned red,\n",
                "- there's a red squiggle where the colon is missing,\n",
                "- in the bottom left, there's a 1 next to the \"Error\" counter (the circle with an X).\n",
                "\n",
                "While it's easy to see *where* a syntax error has occurred, however, as we'll discuss below when the error isn't as simple as a missing colon, solving the error can be a little trickier.\n",
                "\n",
                "### 2. Logic errors\n",
                "\n",
                "The more nefarious type of bug is a logic error—a problem with your code that results in your code doing something unintended, but *not* causing the program to stop execution. In other words, bugs caused by logic errors are bugs that Python can't see because they aren't a problem with the code in the sense that Python can't figure out what to do, but rather a problem where you (unwittingly) wrote valid Python code that just doesn't do what you thought it did.\n",
                "\n",
                "These bugs can come in many forms and are generally much harder to identify than syntax errors. For example, let's say we write a function to raise one number to the power of the other number, and we want to compute $a^b$ where we want to calculate $5^2$. So we write the code below:\n"
            ]
        },
        {
            "cell_type": "code",
            "execution_count": 1,
            "metadata": {},
            "outputs": [
                {
                    "data": {
                        "text/plain": [
                            "32"
                        ]
                    },
                    "execution_count": 1,
                    "metadata": {},
                    "output_type": "execute_result"
                }
            ],
            "source": [
                "def myfunc(a, b):\n",
                "    return a**b\n",
                "\n",
                "\n",
                "a = 2\n",
                "b = 5\n",
                "c = myfunc(a, b)\n",
                "c"
            ]
        },
        {
            "cell_type": "markdown",
            "metadata": {},
            "source": [
                "That's clearly not 25 and we can see why - we didn't put the inputs in the correct order, so we computed $2^5$ instead of $5^2$. In this case, however, the code *runs* fine, it just doesn't run *correctly*. These types of errors can be far more pernicious than syntax errors since the code doesn't throw an immediate fit. This assumes that the underlying logic of the algorithm is correct, but that there's a typo in the code or an issue with some of the data structures or packages that were used. Consider the following example that's a bit trickier. Let's say we wanted to calculate both the sum of the values in a list ($\\sum_{i=1}^{N} x_i$) and the sum of the squares in the list ($\\sum_{i=1}^{N} x_i$). And as input we give it $[1,2,3]$. What we would want to see as output are:\n",
                "$$\\sum_{i=1}^{N} x_i = 1 + 2 + 3 = 6$$\n",
                "\n",
                "and\n",
                "\n",
                "$$\\sum_{i=1}^{N} x_i^2 = 1^2 + 2^2 + 3^2 = 1 + 4 + 9 = 14$$\n",
                "\n",
                "Here's a code to accomplish that:\n",
                "\n"
            ]
        },
        {
            "cell_type": "code",
            "execution_count": 2,
            "metadata": {},
            "outputs": [
                {
                    "data": {
                        "text/plain": [
                            "[14, 14]"
                        ]
                    },
                    "execution_count": 2,
                    "metadata": {},
                    "output_type": "execute_result"
                }
            ],
            "source": [
                "def myfunc(A):\n",
                "    # Create a copy of the list and square all of it's entries\n",
                "    B = A\n",
                "    for i, b in enumerate(B):\n",
                "        B[i] = b**2\n",
                "\n",
                "    # Sum up the entries of each list and return them\n",
                "    return [sum(A), sum(B)]\n",
                "\n",
                "\n",
                "mylist = [1, 2, 3]\n",
                "result = myfunc(mylist)\n",
                "result"
            ]
        },
        {
            "cell_type": "markdown",
            "metadata": {},
            "source": [
                "Clearly the first sum is incorrect since we expected the output to be $[6, 14]$. This case has a more subtle error. Did you spot it? It's because of the line `B=A`, which passes a reference to `A`, but does not make a *copy* of `A`. So when we square each of the entries of `B` using `B[i] = b**2`, we are *actually* squaring the values of *both* `A` and `B`. We can fix this by making a copy of `A` instead:"
            ]
        },
        {
            "cell_type": "code",
            "execution_count": 3,
            "metadata": {},
            "outputs": [
                {
                    "data": {
                        "text/plain": [
                            "[6, 14]"
                        ]
                    },
                    "execution_count": 3,
                    "metadata": {},
                    "output_type": "execute_result"
                }
            ],
            "source": [
                "def myfunc(A):\n",
                "    # Create a copy of the list and square all of it's entries\n",
                "    B = A.copy()\n",
                "    for i, b in enumerate(B):\n",
                "        B[i] = b**2\n",
                "\n",
                "    # Sum up the entries of each list and return them\n",
                "    return [sum(A), sum(B)]\n",
                "\n",
                "\n",
                "mylist = [1, 2, 3]\n",
                "result = myfunc(mylist)\n",
                "result"
            ]
        },
        {
            "cell_type": "markdown",
            "metadata": {},
            "source": [
                "Because fixing logical errors (e.g., fixing our bugs, or in the lingo *debugging* our code) requires developing a deeper understanding of what our code is actually doing, we generally can't solve the problem just by staring at our code—we need tools that will allow us to poke around and better understand what's going on *as the code executes.* And that's the realm of debugging tools!"
            ]
        },
        {
            "cell_type": "markdown",
            "metadata": {},
            "source": [
                "### 3. When logical errors cause syntax errors\n",
                "\n",
                "I know we said there are two main types of errors, but it's worth noting that sometimes logical errors will give rise to syntax errors, which can be *very* confusing. That's because when you get a syntax error, your eye immediately goes to the line where the error occurred. But if the syntax error is the result of a logical error further up in the code, then the location given in the Traceback may be a little misleading. \n",
                "\n",
                "For example, consider this code designed to take a list of inputs and add them up, converting numbers stored as strings into numbers first:"
            ]
        },
        {
            "cell_type": "code",
            "execution_count": 4,
            "metadata": {},
            "outputs": [],
            "source": [
                "def add_up_entries(the_list):\n",
                "    total = 0\n",
                "    for i in the_list:\n",
                "        if type(total) == str:\n",
                "            total = float(total)\n",
                "        total += i\n",
                "    return total"
            ]
        },
        {
            "cell_type": "markdown",
            "metadata": {},
            "source": [
                "If I run this with only numbers in a list, we don't have any problems:"
            ]
        },
        {
            "cell_type": "code",
            "execution_count": 5,
            "metadata": {},
            "outputs": [
                {
                    "data": {
                        "text/plain": [
                            "6"
                        ]
                    },
                    "execution_count": 5,
                    "metadata": {},
                    "output_type": "execute_result"
                }
            ],
            "source": [
                "add_up_entries([1, 2, 3])"
            ]
        },
        {
            "cell_type": "markdown",
            "metadata": {},
            "source": [
                "But if I include a number stored as a string in the list (which the function is supposed to convert into a `float`), I get this error:\n",
                "\n",
                "```python\n",
                "add_up_entries([1, \"2\", 3])\n",
                "\n",
                "---------------------------------------------------------------------------\n",
                "TypeError                                 Traceback (most recent call last)\n",
                "/Users/nce8/github/debugging/debugging_in_vscode.ipynb Cell 12 in <cell line: 1>()\n",
                "----> 1 add_up_entries([1, \"2\", 3])\n",
                "\n",
                "/Users/nce8/github/debugging/debugging_in_vscode.ipynb Cell 12 in add_up_entries(the_list)\n",
                "      4     if type(total) == str:\n",
                "      5         total = float(total)\n",
                "----> 6     total += i\n",
                "      7 return total\n",
                "\n",
                "TypeError: unsupported operand type(s) for +=: 'int' and 'str'\n",
                "```\n",
                "\n",
                "Well HUH! I don't see anything wrong with line 6 where we add entry `i` from the list to `total`, so what on earth happened?\n",
                "\n",
                "This is an example of a *logical error* (line four should have read `if type(i) == str:`, not `if type(total) == str:`) that gave rise to a *syntax error* downstream in the code. \n",
                "\n",
                "So if you see a syntax error, always remember that you know your problem occurred *at the error or above*, but it may be a syntax error *or* a logical error caused by the code above!"
            ]
        },
        {
            "cell_type": "markdown",
            "metadata": {},
            "source": [
                "## Debugging Tools"
            ]
        },
        {
            "cell_type": "markdown",
            "metadata": {},
            "source": [
                "How you choose to debug your code depends a lot on both personal taste and the type of code you're writing. For example, if you're writing a simple linear script—for example, loading a DataFrame, cleaning some columns, doing some merges, etc.—then you can generally find your problems just by running your code one line at a time. \n",
                "\n",
                "But things get more difficulty when your code becomes more complicated through the use of loops or functions. That's because when problems occur in this kind of code, to understand the problem we often have to really understand what's going on *inside* these environments. \n",
                "\n",
                "Thankfully, there are two main tools for this: our trusty `print()` statement, and a fully featured debugger. Let's talk about each in turn. \n"
            ]
        },
        {
            "cell_type": "markdown",
            "metadata": {},
            "source": [
                "### 1. Debugging with `print()` statements\n",
                "\n",
                "Few tools are as popular for debugging as the good ol' `print()` statement. It's *always* available (it's in the standard library, and any system that can run Python can print!), and super easy to use. \n",
                "\n",
                "Let's explore the simple function below and see how we may be able to identify the source of the problem through debugging with the `print()` statement. Let's say we want to calculate the factorial of a number. A factorial is defined as: \n",
                "$$n!=n \\times (n-1) \\times (n-2) \\times \\cdots \\times 2 \\times 1$$"
            ]
        },
        {
            "cell_type": "markdown",
            "metadata": {},
            "source": [
                "For example, the factorial of the integers $1$ through $4$ are given as:\n",
                "\n",
                "| $n$ | $n!$ |\n",
                "| --- | ---  |\n",
                "| 1   | 1    |\n",
                "| 2   | 2    |\n",
                "| 3   | 6    |\n",
                "| 4   | 24   |\n",
                "\n",
                " Now let's suggest a function to accomplish this:"
            ]
        },
        {
            "cell_type": "code",
            "execution_count": 6,
            "metadata": {},
            "outputs": [],
            "source": [
                "def factorial(n):\n",
                "    if n == 1 or n == 0:\n",
                "        return 1\n",
                "    else:\n",
                "        fact = 1\n",
                "        for i in range(n):\n",
                "            fact *= i\n",
                "        return fact"
            ]
        },
        {
            "cell_type": "markdown",
            "metadata": {},
            "source": [
                "And let's test to see whether that function works by evaluating the factorial of the integers 1 through 4:"
            ]
        },
        {
            "cell_type": "code",
            "execution_count": 7,
            "metadata": {},
            "outputs": [
                {
                    "name": "stdout",
                    "output_type": "stream",
                    "text": [
                        "1! = 1\n",
                        "2! = 0\n",
                        "3! = 0\n",
                        "4! = 0\n"
                    ]
                }
            ],
            "source": [
                "for i in [1, 2, 3, 4]:\n",
                "    print(f\"{i}! = {factorial(i)}\")"
            ]
        },
        {
            "cell_type": "markdown",
            "metadata": {},
            "source": [
                "It clearly does NOT work for integers 3, 4, and 5. Let's see if we can find out why using `print()`. What we're interested in, is what's going on in lines 5-8 since those conditions are incorrect. Let's add in some `print()` statements:"
            ]
        },
        {
            "cell_type": "code",
            "execution_count": 8,
            "metadata": {},
            "outputs": [],
            "source": [
                "def factorial(n):\n",
                "    if n == 1 or n == 0:\n",
                "        return 1\n",
                "    else:\n",
                "        fact = 1\n",
                "        for i in range(n):\n",
                "            print(f\"i = {i}\")\n",
                "            print(f\"fact = {fact}\")\n",
                "            fact *= i\n",
                "        return fact"
            ]
        },
        {
            "cell_type": "markdown",
            "metadata": {},
            "source": [
                "Now let's run the program again for one of the problematic values, 2:"
            ]
        },
        {
            "cell_type": "code",
            "execution_count": 9,
            "metadata": {},
            "outputs": [
                {
                    "name": "stdout",
                    "output_type": "stream",
                    "text": [
                        "i = 0\n",
                        "fact = 1\n",
                        "i = 1\n",
                        "fact = 0\n",
                        "2! = 0\n"
                    ]
                }
            ],
            "source": [
                "v = 2\n",
                "print(f\"{v}! = {factorial(v)}\")"
            ]
        },
        {
            "cell_type": "markdown",
            "metadata": {},
            "source": [
                "Now we can see that the problem here occurs because `i` begins at 0 rather than 1 and therefore is multiplying everything by 0, canceling the results. Now we can correct that by using $i + 1$ instead of $i$. Let's make that adjustment and see how it works:"
            ]
        },
        {
            "cell_type": "code",
            "execution_count": 10,
            "metadata": {},
            "outputs": [],
            "source": [
                "def factorial(n):\n",
                "    if n == 1 or n == 0:\n",
                "        return 1\n",
                "    else:\n",
                "        fact = 1\n",
                "        for i in range(n):\n",
                "            print(f\"i = {i+1}\")\n",
                "            print(f\"fact = {fact}\")\n",
                "            fact *= i + 1\n",
                "        return fact"
            ]
        },
        {
            "cell_type": "code",
            "execution_count": 11,
            "metadata": {},
            "outputs": [
                {
                    "name": "stdout",
                    "output_type": "stream",
                    "text": [
                        "i = 1\n",
                        "fact = 1\n",
                        "i = 2\n",
                        "fact = 1\n",
                        "2! = 2\n"
                    ]
                }
            ],
            "source": [
                "v = 2\n",
                "print(f\"{v}! = {factorial(v)}\")"
            ]
        },
        {
            "cell_type": "markdown",
            "metadata": {},
            "source": [
                "This is encouraging! Now let's try the rest of the values, but remove the `print()` statements first so we can easily read the results:"
            ]
        },
        {
            "cell_type": "code",
            "execution_count": 12,
            "metadata": {},
            "outputs": [],
            "source": [
                "def factorial(n):\n",
                "    if n == 1 or n == 0:\n",
                "        return 1\n",
                "    else:\n",
                "        fact = 1\n",
                "        for i in range(n):\n",
                "            fact *= i + 1\n",
                "        return fact"
            ]
        },
        {
            "cell_type": "code",
            "execution_count": 13,
            "metadata": {},
            "outputs": [
                {
                    "name": "stdout",
                    "output_type": "stream",
                    "text": [
                        "1! = 1\n",
                        "2! = 2\n",
                        "3! = 6\n",
                        "4! = 24\n"
                    ]
                }
            ],
            "source": [
                "for i in [1, 2, 3, 4]:\n",
                "    print(f\"{i}! = {factorial(i)}\")"
            ]
        },
        {
            "cell_type": "markdown",
            "metadata": {},
            "source": [
                "So this approach can certainly work, as it did here. Sometime for quick errors in small programs this can work perfectly well, since the best debugging tool is the one that helps you to achieve your solution. However, we had to frequently made adjustments directly within the code and we either had to delete or comment those out to remove them. This is not ideal for large programs as this can introduce the possibility of introducing errors through those edits that are made."
            ]
        },
        {
            "cell_type": "markdown",
            "metadata": {},
            "source": [
                "**Pro-Tip:** It's so common when doing debugging to want to print out something like `The value of x is NUMBER` that Python has an inbuilt shortcut for writing this: `f\"{x=}\"`! Just add an equal sign after a variable name and Python will interpolate *both* the variable name *and* the value of the variable:"
            ]
        },
        {
            "cell_type": "code",
            "execution_count": 14,
            "metadata": {},
            "outputs": [
                {
                    "name": "stdout",
                    "output_type": "stream",
                    "text": [
                        "x=42\n"
                    ]
                }
            ],
            "source": [
                "x = 42\n",
                "print(f\"{x=}\")"
            ]
        },
        {
            "cell_type": "markdown",
            "metadata": {},
            "source": [
                "### 2. Debuggers\n",
                "\n",
                "If `print()` is the duct tape of debugging—a little ugly, but always dependable for a quick fix!—debuggers are the ten million dollar, high-precision, ultra-fast, carbon-fiber/titanium... ok that analogy got away from me a little, but hopefully you get the idea: where print is quick and simple, a debugger is an *incredibly* powerful tool for understanding your program inside and out. \n",
                "\n",
                "The basic idea of a debugger is that it allows you to take full control over the execution of your program—you can run your code one step at a time, and see the value of all variables and all function calls as they evolve. In other words, you can step through your Python code as it works through each pass of a loop, or as it moves from one function call to another, and see exactly how things are changing.\n",
                "\n",
                "I recognize that sounds abstract, so let's move to the next reading in which we explore how the debugger works in VS Code. While this next reading is explicitly about the VS Code Python debugger, be aware that while some things about the lesson are VS Code specific—which button does what, where outputs are printed, etc.—the VS Code Python debugger is a pretty standard example of a debugger, and you'll find the same functionality not just in other editors, but also in other programming languages. Indeed, you can even get the same functionality in a vanilla Python terminal with a package called `pdb`!\n",
                "\n",
                "[OK, on to VS Code!](20_debugging_in_vscode.ipynb)"
            ]
        }
    ],
    "metadata": {
        "kernelspec": {
            "display_name": "Python 3.10.6 ('base')",
            "language": "python",
            "name": "python3"
        },
        "language_info": {
            "codemirror_mode": {
                "name": "ipython",
                "version": 3
            },
            "file_extension": ".py",
            "mimetype": "text/x-python",
            "name": "python",
            "nbconvert_exporter": "python",
            "pygments_lexer": "ipython3",
            "version": "3.10.6"
        },
        "orig_nbformat": 4,
        "vscode": {
            "interpreter": {
                "hash": "718fed28bf9f8c7851519acf2fb923cd655120b36de3b67253eeb0428bd33d2d"
            }
        }
    },
    "nbformat": 4,
    "nbformat_minor": 5
}
