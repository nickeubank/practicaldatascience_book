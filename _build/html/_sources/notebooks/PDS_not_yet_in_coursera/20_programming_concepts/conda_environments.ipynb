{
    "cells": [
        {
            "cell_type": "markdown",
            "metadata": {},
            "source": [
                "# Managing Conda Environments"
            ]
        },
        {
            "cell_type": "markdown",
            "metadata": {},
            "source": [
                "It's extremely common in software engineering and data science to need different sets of packages (and potentially different versions of Python) for different projects. To make this easier, conda is capable of creating isolated \"environments\", each with its own version of Python and related packages.\n",
                "\n",
                "While it is not always necessary to use isolated environments, it becomes extremely useful for avoiding problems when working with more complicated Python libraries — like geospatial libraries (e.g., `geopandas`) or distributed computing tools (e.g., `dask`).\n",
                "\n",
                "So let's go over how to create and use conda environments.\n",
                "\n",
                "## Create a New Environment\n",
                "\n",
                "To create a new environment (here I'm creating one called `dask_env`), simply run the following code:\n",
                "\n",
                "```bash\n",
                "conda create -n dask_env\n",
                "```\n",
                "\n",
                "This will create a new, empty environment. If you want to get packages installed during environment setup, you can just list the packages you want (with versions if you want to specify them):\n",
                "\n",
                "```bash\n",
                "conda create -n dask_env python=3.11 dask\n",
                "```\n",
                "\n",
                "To use an environment, you first have to \"activate\" it. When you create the environment, conda will also give you directions about how to activate it. On a mac, this looks like:\n",
                "\n",
                "```bash\n",
                "#\n",
                "# To activate this environment, use\n",
                "#\n",
                "#     $ conda activate dask_env\n",
                "#\n",
                "# To deactivate an active environment, use\n",
                "#\n",
                "#     $ conda deactivate\n",
                "```\n",
                "\n",
                "How to activate an environment, do you as conda instructs! If you're using [Oh-My-Zsh!](../setup_commandline_mac.ipynb), then you will also see your current environment reported from the command line:\n",
                "\n",
                "![conda_activated](images/conda_activated.png)\n",
                "\n",
                "(And now you know what that `(base)` that's always been at the beginning of your commandline meant! It was telling you that you are in your base conda environment).\n",
                "\n",
                "Once you run that activate command, anything you run from this terminal (including a session of jupyter if you launch it from this command line right now) will be running the Python installation in that environment.\n"
            ]
        },
        {
            "cell_type": "markdown",
            "metadata": {},
            "source": [
                "### Installing Packages After Setup\n",
                "\n",
                "Because this environment is isolated, none of the packages you had installed in your base environment are accessible anymore, so the first thing you need to do is install whatever packages you need. **To install packages in an environment, you have to make sure it's active in your current terminal session before using `conda install` or `pip install`.**\n"
            ]
        },
        {
            "cell_type": "markdown",
            "metadata": {},
            "source": [
                "\n",
                "## Using Your Environment\n",
                "\n",
                "For a tool like Jupyter Notebooks or Jupyter Lab, just activate your conda environment then launch jupyter from that same session, and it will run against your environment. \n",
                "\n",
                "For a tool like VS Code, you have to specify the Python installation you want to use explicitly. For regular Python sessions, just click the Python interpreter icon in the bottom bar:\n",
                "\n",
                "![select_interpreter_button](images/select_interpreter_button.png)\n",
                "\n",
                "Then select the version of Python associated with the environment you just created:\n",
                "\n",
                "![conda_env_vscode_regular](images/conda_env_vscode_regular.png)\n",
                "\n",
                "(Obviously your list of environments will look different from mine)\n",
                "\n",
                "And for Jupyter sessions in VS Code, click on the \"Select Kernel\" button and you should see an installation (if you installed Jupyter) associated with the environment you want:\n",
                "\n",
                "![conda_env_vscode_jupyter](images/jupyter_conda_env.gif)\n",
                "\n",
                "**Note that if you DONT see your geo environment, you may need to click the \"refresh\" wheel on the interpreter selector or quit and reload VS Code!**"
            ]
        }
    ],
    "metadata": {
        "interpreter": {
            "hash": "f06fa9c80cc08d4d343f66ad24a278ad0285590eac640a80c32c9d748f33a802"
        },
        "kernelspec": {
            "display_name": "Python 3.9.1 64-bit ('base': conda)",
            "name": "python3"
        },
        "language_info": {
            "name": "python",
            "version": ""
        },
        "orig_nbformat": 4
    },
    "nbformat": 4,
    "nbformat_minor": 5
}
