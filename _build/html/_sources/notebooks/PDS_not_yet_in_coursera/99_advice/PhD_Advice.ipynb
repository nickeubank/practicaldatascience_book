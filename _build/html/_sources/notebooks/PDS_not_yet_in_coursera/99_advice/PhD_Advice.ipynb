{
 "cells": [
  {
   "cell_type": "markdown",
   "metadata": {},
   "source": [
    "# So You're Thinking About a PhD\n",
    "\n",
    "Every year, we MIDS faculty members are approached by a handful of students thinking about pursuing a PhD. And while every student is different, some advice is sufficiently universal that we faculty thought it would be useful to consolidate some of our advice here.\n",
    "\n",
    "This document is divided into two parts: first, some thoughts that may help begin to answer the question \"is a PhD right for me?\", and second, advice for what you need to do to get into a good PhD program if you decide it's a path you want to pursue.\n"
   ]
  },
  {
   "cell_type": "markdown",
   "metadata": {},
   "source": [
    "\n",
    "## Is a PhD right for you?\n",
    "\n",
    "A PhD program can be an incredible opportunity, but it isn't a good fit for everyone, and you should think carefully if it's right for you before embarking on what can be a grueling and at times a slightly lonely process of applying to PhD programs, taking field exams, completing a dissertation, and applying to academic jobs.\n",
    "\n",
    "### Vocational Training, Not the Next Degree\n",
    "\n",
    "The first thing to know about a PhD is that it is better thought of as vocational training for being an academic than \"the next degree.\" Lots of people who are really good at school end up enrolling PhD programs because they have finished their undergraduate education or completed their Master's degree and feel like it's the natural next credential to pursue. But while most Master's degree programs can reasonably be thought of as an extension of your undergraduate education, PhDs are specifically designed to train their students to be successful as professors at a top research university (often called an \"R1\" — think Duke, Stanford, Harvard, Princeton, Ohio State University, University of Pennsylvania, etc.). That's not to say that everyone who graduates from a top PhD program will end up as a research professor at an R1 University; many graduates of top PhD programs go on to have successful careers at teaching-focused institutions (like liberal arts colleges or mid-ranked Universities), others end up in industry, at think tanks (e.g., the Brookings Institution, Urban Institute), policy organizations (e.g., the UN, the World Bank, government agencies, etc.), or at research divisions of technology firms or  National Labs. But if your goal is to end up in one of those places (especially if your goal is to end up in industry), PhD programs are often an extremely *inefficient* way to get there.\n",
    "\n",
    "If you are thinking about becoming a research staff member, you should ask yourself how much autonomy you are looking for. A PhD is a certificate that you are an independent researcher, and at the start of their careers, PhDs tend to be given more freedom to define technical directions than are MS students. In some organizations where research is a major priority, PhDs can allow you to be promoted to managerial or thought leadership positions.\n",
    "\n",
    "### Unsure? Get Some Research Experience\n",
    "\n",
    "Most PhD programs can be divided into two parts: an initial one or two years of classes, then a pivot to independent research. This first couple years of classes is likely to feel very familiar for anyone with the grades to get into a good PhD program — you read papers, do problem sets, and take exams. It's the second part of the PhD — the transition from structured classes with clean, neatly scoped assignments to being asked to pick a problem you find compelling and set out into the unknown to solve that problem — where most students who end up dissatisfied with a PhD discover research may not be for them.\n",
    "\n",
    "Research is *hard*, especially for graduate students. First, it can often feel isolating — much of the time you spend doing research will consist of you reading papers, running experiments, collecting and analyzing data, and writing papers on your own. Second, it can be extremely frustrating — to get a PhD, you must advance the frontiers of knowledge, and doing so requires answering questions that have never been answered before. Doing so will almost inevitably mean failing, repeatedly. Students often fail to recognize this, but the even the \"research\" experiences they get in classes have almost always been carefully constructed to ensure that they can be completed within the amount of time available in the class. That won't exist in real research. And third, the time horizons are very long — research projects often take *years*. Established academics therefore often pursue multiple projects simultaneously each at different stages of development to allow them to move between them projects when they need a change of pace and so they won't feel too crushed if one project doesn't work out. But early in your career, you won't have a full portfolio of research yet, which limits your ability to jump projects when frustrated, and which can make the stakes for the projects you are working on for your dissertation feel really high.\n",
    "\n",
    "To be clear, there are also *great* things about research! We don't mean to suggest that it's a terrible field no one should go into it — there are few things better than being paid to pursue *your* passions and interests, and to not just be allowed to spend a little time learning something, but to really dive in. And few things can match the intellectual stimulation of working at a university.\n",
    "\n",
    "But it's a very *distinct* lifestyle, and one should not dive into unawares.\n",
    "\n",
    "So with that in mind, if you're thinking of a PhD, we would strongly suggest that you find opportunities to do real research with a faculty member — either during your time at Duke as a Research Assistant or in an Independent Study, as a summer internship, or potentially after graduating as a research fellow. Not only will it make you a more compelling PhD applicant (more on that below), but it will also help give you a better sense of whether a PhD is for you.\n"
   ]
  },
  {
   "cell_type": "markdown",
   "metadata": {},
   "source": [
    "### Not Sure What Kind of PhD? Attend Some Seminars and Find Some Models!\n",
    "\n",
    "Especially if you're a [MIDS student](https://datascience.duke.edu/) (and most people reading this presumably are), you probably have pretty interdisciplinary interests. That can make it hard to decide exactly what kind of PhD you might want to pursue. There are often lots of PhDs with similar names — e.g., bioinformatics, bioengineering, biology, global health, public health, etc.. Which is right for you?\n",
    "\n",
    "To help get a better feel for what might best fit your interests, a few suggestions:\n",
    "\n",
    "- **Find some people doing what you imagine you might want to do and look at their CVs** People drift over their careers, so this isn't a perfect guide, but if you can people doing the kind of work you want to do, then looking at the (a) type of PhD and (b) department where they work in tells you a *lot*.\n",
    "- **Attend some seminars at Duke!** Academic seminars organized by departments are probably the best way to learn what's going on in a field, and what research within that field looks like. Moreover, they're happening constantly — most Duke departments probably have at *least* three weekly seminar series. But because Duke doesn't have a good common calendar, no one knows. So if you wanna see what work in a given field looks like, get on department email lists/find it's event calendar and start attending seminars! They're always open to anyone (especially grad students), and while you won't follow everything, you'll learn a *lot* quickly by attending. And many have free food!\n",
    "    - Find the department's Event Calendar by going to the department website and looking around. **Don't** count on any centralized Duke event calendars — they never seem to aggregate things well. And if the calendar doesn't have *at least* one event a week on it, it's probably only a subset of events (in which case, be sure to join a dept mailing list).\n",
    "    - Subscribe to department lists at Duke [by searching here](https://lists.duke.edu/sympa). It's not a great way to find seminars — some lists you'll find have been abandoned, and there may be some seminars that aren't well advertised on the lists you'll find, and other lists may be hard to find (e.g., some political science lists are `polsci`, while others are `polisci` (with an `i`)). But it's a good starting place.\n",
    "  - Email the coordinator for the department you're interested in and ask what lists to join to learn about seminars.\n",
    "  - A few lists and calendars I *do* know:\n",
    "    - Political Science: [Events Calender](https://polisci.duke.edu/events), [polsci-all mailing list](https://lists.duke.edu/sympa/info/polsci-all)\n",
    "    - Economics: [Events Calender](https://econ.duke.edu/events)"
   ]
  },
  {
   "cell_type": "markdown",
   "metadata": {},
   "source": [
    "\n",
    "### Other Practical Considerations\n",
    "\n",
    "Total compensation is an important consideration when considering PhD programs. In many PhD programs, you receive a stipend intended to cover your living expenses through the program, but this stipend is not commensurate with the compensation you may be able to achieve with a job in industry with a bachelor's or master's degree. Since a PhD program may take between 4 to 6 years to complete, PhD programs have a definite financial cost and you would have to make substantially more after completing the degree to make up for the loss of additional income during the process of acquiring the PhD. This is possible, but it depends on the field and the salary differentials with a PhD versus without.\n",
    "\n",
    "If you decide to pursue a PhD, consider whether the program you are considering offers you the opportunity to get a master's degree along the way. If you determine a PhD is not for you 3 years into the program, this allows you to exit the program with an additional credential to show for that effort.\n",
    "\n",
    "## How To Get In\n",
    "\n",
    "So, you've decided a PhD is for you — how do you get into a good program?\n",
    "\n",
    "When reviewing PhD applications, what readers really want to know is:\n",
    "\n",
    "- whether the applicant knows what research entails, and\n",
    "- whether the applicant is likely to be successful at research.\n",
    "\n",
    "This is a harder task than you might suspect because grades are not particularly useful in answering either of these questions. A student with really weak grades is obviously going to raise some concerns, but as discussed above, what students do in the classroom is very different from real research, and so classroom success is not particularly indicative of an ability to succeed in a PhD. Indeed, the type of applicant most PhDs most want to avoid are the students who did really well as undergraduates who are applying to a PhD program because it seems like a \"natural next step\" for someone who likes school and doesn't have a clear sense of what else they might do. Those are the students most likely to do well in the first two years of a PhD, then really struggle when classes end and students have to take the initiative of doing their own research.\n",
    "\n",
    "### Get Research Experience\n",
    "\n",
    "What application readers *will* look for is (a) experience *doing* real research, often evidenced through the coauthorship of published research papers, and (b) letters of recommendation that make clear the applicant not only has experience doing research, but also that they were active, substantive participants in the research they did (i.e., they didn't just clean data, they were meaningfully involved in solving technical and conceptual problems).\n",
    "\n",
    "In light of that fact, the most valuable thing you can do to improve your chances as an applicant to a PhD program is to get real research experience with a faculty member likely to be able to write you a letter of recommendation.\n",
    "\n",
    "**Who Should You Work With?**\n",
    "\n",
    "There's a tendency to assume the bigger the name the better (*most* MIDS students drop Cynthia Rudin's name when asked who they might want to work with). But remember that your goal is to (a) be *substantively* involved in a research project, and (b) to get a letter of recommendation in which the letter writer can credibly communicate that you've made major contributions. That may happen with someone like Cynthia Rudin, but she has *lots* of students who want to work with her, lots of students who *do* work with her, and is also involved in a wide range of other initiatives as well. As a result, there's a good chance that \"working with Cynthia Rudin\" will mostly mean working with one of her PhD students on a small piece of one of her bigger projects.\n",
    "\n",
    "If, by contrast, you are able to work with someone a little more junior, you may get to spend substantially more time working directly with them, leading to a better experience *and* a better letter.\n",
    "\n",
    "With that said, you should aim to work with a faculty member in the same academic community to which you wish to apply — if you're applying to a CS PhD program, research experience with a political scientist is certainly better than no research experience, but it's not nearly as valuable as research experience with a computer scientist (both because application readers will be able to better understand what you did on the project, and also because there's a greater chance some of your application readers will know your letter writer personally or at least professionally).\n",
    "\n",
    "## How To Get Research Experience\n",
    "\n",
    "How do you get research experience at a place like Duke? [Hop over here to find out!](getting_involved_in_research.ipynb)"
   ]
  },
  {
   "cell_type": "markdown",
   "metadata": {},
   "source": [
    "DDDDdd"
   ]
  }
 ],
 "metadata": {
  "language_info": {
   "name": "python"
  },
  "orig_nbformat": 4
 },
 "nbformat": 4,
 "nbformat_minor": 2
}
