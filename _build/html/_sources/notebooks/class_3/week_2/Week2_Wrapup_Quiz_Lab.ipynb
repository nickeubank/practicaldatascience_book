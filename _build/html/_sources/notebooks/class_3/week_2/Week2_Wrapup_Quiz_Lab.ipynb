{
    "cells": [
        {
            "cell_type": "markdown",
            "metadata": {},
            "source": [
                "# Week 2 Wrap-Up Quiz Lab: Manipulating DataFrames\n",
                "\n",
                "**Note**: \n",
                "\n",
                "> This exercise has been written out in something called a Jupyter Notebook. We'll discuss Jupyter Notebooks in more detail later in this specialization—they are very a powerful tool for data science communication!—but for the time being, the notebook is just a convenient way for us to write out the exercise. You don't need to *do* anything with the notebook except read its contents—just use write your Python code in a regular `.py` file.\n",
                "\n",
                "**WARNING:**\n",
                "\n",
                "> When asked to round your answers to a certain number of decimals, do *not* round any results until you've finished your computations and have your final answer! For example, if you were to calculate the average hourly wage for workers, and you did so by first calculating the average weekly salary of workers and the average hours worked per week, then divided the first number by the second, you should NOT round the average weekly salary of workers or the average hours worked per week. Rounding intermediate results can lead to compounding errors that cause problems for the autograder.\n",
                "\n",
                "## Estimating Labor Market Returns to Education\n",
                "\n",
                "In this exercise, we're going to use data from the [American Communities Survey (ACS)](https://usa.ipums.org/usa/acs.shtml) to study the relationship between educational attainment and wages. The ACS is a survey conducted by the United States Census Bureau (though it is not \"The Census,\" which is a counting of every person in the United States that takes place every 10 years) to measure numerous features of the US population. The data we will be working with includes about 100 variables from the 2017 ACS survey, and is a 10% sample of the ACS (which itself is a 1% sample of the US population, so we're working with about a 0.1% sample of the United States). \n",
                "\n",
                "This data comes from [IPUMS](https://usa.ipums.org/usa/), which provides a very useful tool for getting subsets of major survey datasets, not just from the US, but [from government statistical agencies the world over](https://international.ipums.org/international-action/sample_details).\n",
                "\n",
                "This is *real* data, meaning that you are being provided the data as it is provided by IPUMS. Documentation for all variables used in this data can be found [here](https://usa.ipums.org/usa-action/variables/group) (you can either search by variable name to figure out the meaning of a variable in this data, or search for something you want to see if a variable with the right name is in this data). \n",
                "\n",
                "Within this data is information on both the educational background and current earnings of a representative sample of Americans. We will now use this data to estimate the labor-market returns to graduating high school and college, and to learn something about the meaning of an educational degree. "
            ]
        },
        {
            "cell_type": "markdown",
            "metadata": {},
            "source": [
                "## Exercises"
            ]
        },
        {
            "cell_type": "markdown",
            "metadata": {},
            "source": [
                "### Exercise 1\n",
                "\n",
                "Import `US_ACS_2017_10pct_sample.dta` into a pandas DataFrame. \n",
                "\n",
                "This can be done with the command `pd.read_stata(\"US_ACS_2017_10pct_sample.dta\")`, which will read in files created in the program Stata (and which uses the file suffix `.dta`). This is a format commonly used by social scientists. We will discuss the range of tools for importing data built into pandas in more detail next week!"
            ]
        },
        {
            "cell_type": "markdown",
            "metadata": {},
            "source": [
                "## Getting to Know Your Data\n",
                "\n",
                "When you get a new dataset like this, it's good to start by trying to get a feel for its contents and organization. Toy datasets you sometimes get in classes are often very small, and easy to look at, but this is a pretty large dataset, so you can't just open it up and get a good sense of it. Here are some ways to get to know your data. "
            ]
        },
        {
            "cell_type": "markdown",
            "metadata": {},
            "source": [
                "### Exercise 2\n",
                "\n",
                "How many observations are in your data?"
            ]
        },
        {
            "cell_type": "markdown",
            "metadata": {},
            "source": [
                "### Exercise 3\n",
                "\n",
                "How many variables are in your data?"
            ]
        },
        {
            "cell_type": "markdown",
            "metadata": {},
            "source": [
                "### Exercise 4\n",
                "\n",
                " Let's see what variables are in this dataset. First, try to see them all using the command:\n",
                "\n",
                "\n",
                "```python\n",
                "acs.columns\n",
                "```"
            ]
        },
        {
            "cell_type": "markdown",
            "metadata": {},
            "source": [
                "As you will see, `python` doesn't like to print out all the different variables when there are this many in a dataset. \n",
                "\n",
                "To get everything printed out, we can loop over all the columns and print them one at a time with the command:\n",
                "\n",
                "```\n",
                "for c in acs.columns: print(c)\n",
                "```\n",
                "\n",
                "It's definitely a bit of a hack, but honestly a pretty useful one!"
            ]
        },
        {
            "cell_type": "markdown",
            "metadata": {},
            "source": [
                "### Exercise 5\n",
                "\n",
                "That's a *lot* of variables, and definitely more than we need. In general, life is easier when working with these kinds of huge datasets if you can narrow down the number of variables a little. In this exercise, we will be looking at the relationship between education and wages, we need variables for: \n",
                "\n",
                "- Age\n",
                "- Income\n",
                "- Education\n",
                "- Employment status (is the person actually working)\n",
                "\n",
                "These quantities of interest correspond to the following variables in our data: `age`, `inctot`, `educ`, and `empstat`. \n",
                "\n",
                "Subset your data to just those variables. "
            ]
        },
        {
            "cell_type": "markdown",
            "metadata": {},
            "source": [
                "### Exercise 6 \n",
                "\n",
                "Now that we have a more manageable number of variables, it's often very useful to look at a handful of rows of your data. The easiest way to do this is probably the `.head()` method (which will show you the first five rows), or the `tail()` method, which will show you the last five rows. \n",
                "\n",
                "But to get a good sense of your data, it's often better to use the `sample()` command, which returns a random set of rows. As the first and last rows are sometimes not representative, a random set of rows can be very helpful. Try looking at a random sample of 20 rows (note: you don't have to run `.sample()` ten times to get ten rows. Look at the `.sample` help file if you're stuck. "
            ]
        },
        {
            "cell_type": "markdown",
            "metadata": {},
            "source": [
                "### Exercise 7\n",
                "\n",
                "Do you see any immediate problems? What issues do you see?"
            ]
        },
        {
            "cell_type": "markdown",
            "metadata": {},
            "source": [
                "### Exercise 8 \n",
                "\n",
                "One problem is that many people seem to have incomes of $9,999,999. Moreover, people with those incomes seem to be very young children. \n",
                "\n",
                "What you are seeing is one method (a relatively old one) for representing missing data. In this case, the value 9999999 is being used as a **sentinel value** — a way to denote missing data that was used back in the day when there was no way to add a special data type for missing data. In this case, it identifies observations where the person is too young to work, so their income value is missing. \n",
                "\n",
                "So let's begin by dropping anyone who has `inctot` equal to 9999999.\n",
                "\n",
                "After dropping, how many observations do you have?"
            ]
        },
        {
            "cell_type": "markdown",
            "metadata": {},
            "source": [
                "### Exercise 9\n",
                "\n",
                "OK, the other potential problem is that our data includes lots of people who are unemployed and people who are not in the labor force (this means they not only don't have a job, but also aren't looking for a job). For this analysis, we want to focus on the wages of people who are currently employed. So subset the dataset for the people for whom `empstat` is equal to \"employed\". \n",
                "\n",
                "Note that our decision to only look at people who are employed impacts how we should interpret the relationship we estimate between education and income. Because we are only looking at employed people, we will be estimating the relationship between education and income *for people who are employed*. That means that if education affects the *likelihood* someone is employed, we won't capture that in this analysis.\n",
                "\n",
                "(You might also want to run `.sample()` after this just to make sure you were successful in your subsetting).\n",
                "\n",
                "After this subsetting, how many observations do you have?"
            ]
        },
        {
            "cell_type": "markdown",
            "metadata": {},
            "source": [
                "### Exercise 10\n",
                "\n",
                "Now let's turn to education. The `educ` variable seems to have a lot of discrete values. Let's see what values exist, and their distribution, using the `value_counts()` method. This is an *extremely* useful tool you'll use a lot! Try the following code (modified for the name of your dataset, of course):\n",
                "\n",
                "```python\n",
                "acs[\"educ\"].value_counts()\n",
                "```"
            ]
        },
        {
            "cell_type": "markdown",
            "metadata": {},
            "source": [
                "### Exercise 11\n",
                "\n",
                "There are a lot of values in here, so let's just check a couple. What is the average value of `inctot` for people whose highest grade level is \"grade 12\" (in the US, that is someone who has graduated high school)? \n",
                "\n",
                "*Please round your answer to two decimal places* remembering to not round any intermediate results."
            ]
        },
        {
            "cell_type": "markdown",
            "metadata": {},
            "source": [
                "### Exercise 12\n",
                "\n",
                "What is the average income of someone who has completed an undergraduate degree but not done any postgraduate education (\"4 years of college\")? \n",
                "\n",
                "*Please round your answer to two decimal places* remembering to not round any intermediate results."
            ]
        },
        {
            "cell_type": "markdown",
            "metadata": {},
            "source": [
                "### Exercise 13\n",
                "\n",
                "In percentage terms, how much does an employed college graduate earn as compared to someone who is only a high school graduate? In other words, calculate how much more an employed college graduate earns than an employed high school graduate, and divide that by the average earnings of a high school graduate.\n",
                "\n",
                "Put your answer in percentage terms (so 100 implies they earn the same amount). *Please round your answer to one decimal place* remembering to not round any intermediate results."
            ]
        },
        {
            "cell_type": "markdown",
            "metadata": {},
            "source": [
                "\n",
                "### Exercise 14\n",
                "\n",
                "What does that suggest is the value of getting a college degree after graduating high school?"
            ]
        },
        {
            "cell_type": "markdown",
            "metadata": {},
            "source": [
                "### Exercise 15\n",
                "\n",
                "What is the difference in the average income for somebody whose highest grade completed is Grade 11 and somebody whose highest grade completed is Grade 10? *Please round your answer to two decimal places.* Remember to not round any intermediate results.\n"
            ]
        },
        {
            "cell_type": "markdown",
            "metadata": {},
            "source": [
                "### Exercise 16\n",
                "\n",
                "What is the difference in the average income for somebody whose highest grade completed is Grade 12 (has finished high school) and somebody whose highest grade completed is Grade 11?\n",
                "\n",
                "*Please round your answer to two decimal places.* Remember to not round any intermediate results."
            ]
        },
        {
            "cell_type": "markdown",
            "metadata": {},
            "source": [
                "### Exercise 17\n",
                "\n",
                "Moving from Grade 10 to Grade 11 and moving from Grade 11 to Grade 12 both constitute getting one additional year of high school education. Are these two increases in education associated with the same change in average earnings? Can you think of a reason why?\n"
            ]
        },
        {
            "cell_type": "markdown",
            "metadata": {},
            "source": [
                "## Take-aways\n",
                "\n",
                "Congratulations! You just discovered \"the sheepskin effect!\": people with degrees tend to earn substantially more than people who have *almost* as much education, but don't have an actual degree. \n",
                "\n",
                "In economics, this is viewed as evidence that the reason employers pay people with high school degrees more than those without degree is *not* that they think those who graduated high school have learned specific, useful skills. If that were the case, we would expect employee earnings to rise with every year of high school, since in each year of high school we learn more. \n",
                "\n",
                "Instead, this suggests employees pay high school graduates more because they think *the kind of people* who can finish high school are the *kind of people* who are likely to succeed at their jobs. Finishing high school, in other words, isn't about accumulating specific knowledge; it's about showing that you *are the kind of person* who can rise to the challenge of finishing high school, also suggesting you are also the kind of person who can succeed as an employee. \n",
                "\n",
                "(Obviously, this does not tell us whether that is an *accurate* inference, just that that seems to be how employeers think.) \n",
                "\n",
                "In other words, in the eyes of employers, a high school degree is a *signal* about the kind of person you are, not certification that you've learned a specific set of skills (an idea that earned [Michael Spence](https://en.wikipedia.org/wiki/Michael_Spence) a Nobel Prize in Economics). "
            ]
        },
        {
            "cell_type": "markdown",
            "metadata": {},
            "source": [
                "### Data Citation\n",
                "\n",
                "The ACS data used in this exercise are a subsample of the IPUMS USA data available from [usa.ipums.org.](usa.ipums.org)\n",
                "\n",
                "Please cite use of the data as follows: Steven Ruggles, Sarah Flood, Sophia Foster, Ronald Goeken, Jose Pacas, Megan Schouweiler and Matthew Sobek. IPUMS USA: Version 11.0 [dataset]. Minneapolis, MN: IPUMS, 2021. https://doi.org/10.18128/D010.V11.0\n",
                "\n",
                "These data are intended for this exercise only. Individuals analyzing the data for other purposes must submit a separate data extract request directly via IPUMS USA.\n",
                "\n",
                "Individuals are not to redistribute the data without permission. Contact ipums@umn.edu for redistribution requests."
            ]
        }
    ],
    "metadata": {
        "kernelspec": {
            "display_name": "Python 3.10.2 ('ds')",
            "language": "python",
            "name": "python3"
        },
        "language_info": {
            "codemirror_mode": {
                "name": "ipython",
                "version": 3
            },
            "file_extension": ".py",
            "mimetype": "text/x-python",
            "name": "python",
            "nbconvert_exporter": "python",
            "pygments_lexer": "ipython3",
            "version": "3.11.4"
        },
        "vscode": {
            "interpreter": {
                "hash": "b9e56a7b23b1fac2eea1a993b805ed5c611aea1439c1f46315b23590ab6d3ba0"
            }
        }
    },
    "nbformat": 4,
    "nbformat_minor": 4
}
