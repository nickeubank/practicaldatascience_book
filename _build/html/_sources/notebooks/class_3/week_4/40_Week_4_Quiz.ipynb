{
 "cells": [
  {
   "cell_type": "markdown",
   "metadata": {},
   "source": [
    "# Week 4 Quiz\n",
    "\n",
    "This quiz is composed of questions from past exercises throughout the week. Please be sure you have completed those exercises and submit your answers to the referenced questions here.\n",
    "\n",
    "The questions are equally weighted and you need to receive a 75% or higher to pass."
   ]
  },
  {
   "cell_type": "markdown",
   "metadata": {},
   "source": [
    "## From the Merging Exercise:\n",
    "\n",
    "Points:\n",
    "1. From Step 12: What is the average percentage change in the felony drug arrest rate between 2009 and 2018 in California?\n",
    "\n",
    "Answer: -66.3%\n",
    "\n",
    "2. From Step 13: What is the average percentage change in the violent crime arrest rate between 2009 and 2018 in California?\n",
    "\n",
    "Answer: -6.77%\n",
    "\n",
    "3. From Step 16: What is the percentage change in violent arrest rates for the case of the **high** 2009 drug arrest rates?\n",
    "\n",
    "Answer: -9.73\n",
    "\n",
    "4. From Step 16: What is the percentage change in violent arrest rates for the case of the **low** 2009 drug arrest rates?\n",
    "\n",
    "Answer: -4.82\n",
    "\n",
    "## From the Groupby Exercise:\n",
    "\n",
    "5. From Step 8: What is the percent of *violent* crime associated with Black Californians in 1980?\n",
    "\n",
    "Answer: 34.5%\n",
    "\n",
    "6. From Step 8: What is the percent of *violent* crime associated with Black Californians in 2022?\n",
    "\n",
    "Answer: 22.7%\n",
    "\n",
    "7. From Step 8: Which race accounted for the largest percent of *property* crime in 1980?\n",
    "\n",
    "Answer: White\n",
    "\n",
    "8. From Step 8: Which race accounted for the largest percent of *property* crime in 2022?\n",
    "\n",
    "Answer: Hispanic\n",
    "\n",
    "## From the Query Exercise:\n",
    "\n",
    "9. From Step 3: In what state is the plant with the most CO2 emissions (question 2) located?\n",
    "\n",
    "Answer: AL\n",
    "\n",
    "10. From Step 7: Which state has the largest number of hydroelectric plants?\n",
    "\n",
    "Answer: CA\n",
    "\n",
    "11. From Step 9: Which state(s) has the largest generated the most *energy* (MWh) using coal? If there are more than one, list the state abbreviations in alphabetical order, separated with commas (but no spaces). \n",
    "\n",
    "Answer: TX\n",
    "\n",
    "12. From Step 11: Which state(s) have the fewest number of coal plants? If there are more than one, list the state abbreviations in alphabetical order, separated with commas (but no spaces).\n",
    "\n",
    "Answer: DE,HI,ID,SD,NH,OR\n"
   ]
  }
 ],
 "metadata": {
  "kernelspec": {
   "display_name": "Python 3.10.2 ('ds')",
   "language": "python",
   "name": "python3"
  },
  "language_info": {
   "codemirror_mode": {
    "name": "ipython",
    "version": 3
   },
   "file_extension": ".py",
   "mimetype": "text/x-python",
   "name": "python",
   "nbconvert_exporter": "python",
   "pygments_lexer": "ipython3",
   "version": "3.12.0"
  },
  "nteract": {
   "version": "0.28.0"
  },
  "varInspector": {
   "cols": {
    "lenName": 16,
    "lenType": 16,
    "lenVar": 40
   },
   "kernels_config": {
    "python": {
     "delete_cmd_postfix": "",
     "delete_cmd_prefix": "del ",
     "library": "var_list.py",
     "varRefreshCmd": "print(var_dic_list())"
    },
    "r": {
     "delete_cmd_postfix": ") ",
     "delete_cmd_prefix": "rm(",
     "library": "var_list.r",
     "varRefreshCmd": "cat(var_dic_list()) "
    }
   },
   "position": {
    "height": "643px",
    "left": "1548px",
    "right": "20px",
    "top": "121px",
    "width": "350px"
   },
   "types_to_exclude": [
    "module",
    "function",
    "builtin_function_or_method",
    "instance",
    "_Feature"
   ],
   "window_display": true
  },
  "vscode": {
   "interpreter": {
    "hash": "b9e56a7b23b1fac2eea1a993b805ed5c611aea1439c1f46315b23590ab6d3ba0"
   }
  }
 },
 "nbformat": 4,
 "nbformat_minor": 2
}
