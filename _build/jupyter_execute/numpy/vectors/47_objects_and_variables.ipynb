{
 "cells": [
  {
   "cell_type": "markdown",
   "metadata": {},
   "source": [
    "# Variables are pointers to objects\n",
    "\n",
    "Up to this point, we've been representing arrays in Python as shown in the figure below under \"a\" - suggesting that the variables ARE the objects they point to, shown here in terms of the relationship between `my_list` and the contents of the corresponding array.\n",
    "\n",
    "In Python, variables and the objects they point to live in two different places on your computer. As a result, in Python, it’s best to think of variables as pointing to the objects they’re associated with, rather than being those objects. Personally, I’ve always liked the analogy of your computer being a big warehouse, where variables are just the entries in the inventory book used by the warehouse manager: the variable tells you how to find the thing you want, but it is not the thing itself. This is true of lists, numpy arrays, integers, or strings. The name we give it is the variable, and it is a pointer to the place in memory that contains the actual data.\n",
    "\n",
    "So when you create a new array, Python puts that list somewhere in memory, kind of like how you might put something big on a shelf in a warehouse. The variable associated with that list (say, `my_array`) actually just stores the location of the shelf where that list was placed (which we call a reference or a pointer). This is represented in the figure below in \"b\".\n"
   ]
  },
  {
   "cell_type": "markdown",
   "metadata": {},
   "source": [
    "![](./img/2.3.13_variables_are_pointers.png)"
   ]
  },
  {
   "cell_type": "markdown",
   "metadata": {},
   "source": [
    "Whenever we show arrays, we're taking som liberties by representing them as shown in **a** to make the figures a bit simpler / more concise. In reality, what's always going on is what's shown in **b**.\n",
    "\n",
    "With this notation, let's briefly review views and copies to present this concept using that notation. When we assign one variable the value of another variable, we are often simply assigning the *pointer* (or reference) of an object to the variable, as shown in the figure below, where we assign the pointer to the array object from `my_array` to `my_view` creating a view instead of a copy."
   ]
  },
  {
   "cell_type": "markdown",
   "metadata": {},
   "source": [
    "![](./img/2.3.13_views_and_copies_pointers.png)"
   ]
  },
  {
   "cell_type": "markdown",
   "metadata": {},
   "source": [
    "When we create a copy of an array, a new array object is created. The variable assigned the array contains a pointer to the *new* object instead of the original object, as shown below:"
   ]
  },
  {
   "cell_type": "markdown",
   "metadata": {},
   "source": [
    "![](./img/2.3.13_variable_copy.png)"
   ]
  },
  {
   "cell_type": "markdown",
   "metadata": {},
   "source": [
    "**Going forward, we won't be including these downward arrows indicating the relationship between variables and the corresponding objects that contain the data, since we want to keep the notation as simple as possible. However, this relationship is implied throughout and should be kept in mind, especially as it relates to the dynamics of views and copies.**"
   ]
  },
  {
   "cell_type": "markdown",
   "metadata": {},
   "source": [
    "# Memory\n",
    "\n",
    "You can see all of this directly within the code as well. You can retrieve the memory address that each variable points at using the `id` function:"
   ]
  },
  {
   "cell_type": "code",
   "execution_count": 1,
   "metadata": {},
   "outputs": [
    {
     "data": {
      "text/plain": [
       "4594530128"
      ]
     },
     "execution_count": 1,
     "metadata": {},
     "output_type": "execute_result"
    }
   ],
   "source": [
    "import numpy as np\n",
    "my_array = np.array([1,-12,42])\n",
    "id(my_array)"
   ]
  },
  {
   "cell_type": "markdown",
   "metadata": {},
   "source": [
    "This number won't have much meaning to us on its own, but this is the value that points to the segment of memory where our data are stored.\n",
    "\n",
    "We can show this by creating a view and noting it points to the same memory address:"
   ]
  },
  {
   "cell_type": "code",
   "execution_count": 2,
   "metadata": {},
   "outputs": [
    {
     "data": {
      "text/plain": [
       "4594530128"
      ]
     },
     "execution_count": 2,
     "metadata": {},
     "output_type": "execute_result"
    }
   ],
   "source": [
    "my_view = my_array\n",
    "id(my_view)"
   ]
  },
  {
   "cell_type": "markdown",
   "metadata": {},
   "source": [
    "Now if we make a copy of the variable, `my_array`, on the other hand, it will point to a *different* place in memory than did our original variable:"
   ]
  },
  {
   "cell_type": "code",
   "execution_count": 3,
   "metadata": {},
   "outputs": [
    {
     "data": {
      "text/plain": [
       "4604040592"
      ]
     },
     "execution_count": 3,
     "metadata": {},
     "output_type": "execute_result"
    }
   ],
   "source": [
    "my_copy = my_array.copy()\n",
    "id(my_copy)"
   ]
  },
  {
   "cell_type": "markdown",
   "metadata": {},
   "source": [
    "While a deep understanding of the connection from the language to the physical hardware, such as memory, is not required to be a successful programmer, it can help our understanding of what may sometimes appear to be unexpected behavior. The relationship between variables and memory objects is a concept that worth being aware of for its implications to creating views or copies and for successfully using those views or copies for successfully coding our ideas."
   ]
  }
 ],
 "metadata": {
  "kernelspec": {
   "display_name": "Python 3.6.5 ('base')",
   "language": "python",
   "name": "python3"
  },
  "language_info": {
   "codemirror_mode": {
    "name": "ipython",
    "version": 3
   },
   "file_extension": ".py",
   "mimetype": "text/x-python",
   "name": "python",
   "nbconvert_exporter": "python",
   "pygments_lexer": "ipython3",
   "version": "3.10.8"
  },
  "vscode": {
   "interpreter": {
    "hash": "f54e0b9f92ceb50229b3b7ea26b5d02f05ce8845dd8d997c014a0efede4c9c20"
   }
  }
 },
 "nbformat": 4,
 "nbformat_minor": 2
}