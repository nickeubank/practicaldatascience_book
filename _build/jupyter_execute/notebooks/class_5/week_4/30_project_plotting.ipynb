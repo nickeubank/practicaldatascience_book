{
 "cells": [
  {
   "cell_type": "markdown",
   "metadata": {},
   "source": [
    "# Project: Plotting\n",
    "\n",
    "With all of the coding for data processing out of the way, let's put our coding skills to practice for plotting by exploring a practical question: **which countries contribute the most/least to greenhouse gas emissions**? And what is the relationship of emissions with population and income? With this information we can begin to identify those countries in which emissions reductions would have the greatest impact globally. Let's explore this dataset and create a publication-ready data visualization that clearly provides the information needed to address this question.\n",
    "\n",
    "## The goal\n",
    "\n",
    "Your goal is to EXACTLY reproduce the visualization below with the dataset you've created."
   ]
  },
  {
   "cell_type": "markdown",
   "metadata": {},
   "source": [
    "<div>\n",
    "<img src=\"img/finished-product.png\" width=\"800\"/>\n",
    "</div>"
   ]
  },
  {
   "cell_type": "markdown",
   "metadata": {},
   "source": [
    "You can approach this part of the project in the following steps:\n",
    "\n",
    "**(1)** Begin by making a simple scatterplot of your data by...\n",
    "\n",
    "- Plotting income on the x-axis and carbon dioxide emissions on the y-axis (and your axes labeled as in the plot above)\n",
    "- Setting the figure size to 10 inches by 10 inches to ensure plenty of space for plotting\n",
    "- Turning on the gridlines for both the x- and y-axis\n",
    "\n",
    "**(2)** Encode the population as the size of each marker (you may need to adjust the population values to scale them up/down to make the marker size be readable)\n",
    "\n",
    "**(3)** Encode the colors of the markers to match the continent to match the GapMinder example. This means you should set the colors to each continent as follows:\n",
    "- Africa: #00d5e9\n",
    "- Asia: #ff5872\n",
    "- Europe: #ffe700\n",
    "- Americas: #84ec04\n",
    "\n",
    "You will need to create a new array with one entry per country where each entry is the *color* of the corresponding continent. You can then set the `scatter` method's color property with this.\n",
    "\n",
    "**(4)** Add a legend for the colors of the continents. This will not be as trivial as it sounds since you can't create a legend for just the four continents based on the `scatter` method alone and `legend`. You'll need to add components to the legend manually (see the legend reading for guidance on this)\n",
    "\n",
    "**(5)** Customize the plot to match example above by...\n",
    "- Making the markers semi-transparent so they don't fully overlap each other\n",
    "- Setting the edge color of the markers to black\n",
    "- Adjusting the x and y scale to be logarithmic\n",
    "- Ensuring the grid lines are below the plotted elements\n",
    "\n",
    "**(6)** Reflect on the implications of the data visualization that you just created. Countries from which continents contribute the most/least to greenhouse gas emissions? And what is the relationship of emissions with population and income? \n",
    "\n",
    "**(7)** Save your figure to file.\n",
    "\n",
    "And there you have it! With some hard work you've coded a data visualization that (1) communicates a powerful message about the relationship between greenhouse gas emissions and the characteristics of the countries that produce them, (2) drew together diverse data sources into a coherent whole without which the message would not have been accessible, and (3) is highly professional for reports and presentations. Congratulations!"
   ]
  }
 ],
 "metadata": {
  "kernelspec": {
   "display_name": "pds-book",
   "language": "python",
   "name": "python3"
  },
  "language_info": {
   "codemirror_mode": {
    "name": "ipython",
    "version": 3
   },
   "file_extension": ".py",
   "mimetype": "text/x-python",
   "name": "python",
   "nbconvert_exporter": "python",
   "pygments_lexer": "ipython3",
   "version": "3.12.0"
  }
 },
 "nbformat": 4,
 "nbformat_minor": 2
}