{
 "cells": [
  {
   "cell_type": "markdown",
   "metadata": {},
   "source": [
    "# Exercise: Summary statistics are not always the entire story\n",
    "\n",
    "Data scientists encourage you to always look at your data by plotting it. But why is this really useful? What if I gathered the summary statistics of a dataset - isn't that enough? Most certainly, it's not! Summary statistics are useful first-pass tools for getting a sense of your dataset, but they can be deceiving. Let's walk through an exercise to both test out your plotting skills while exploring this question further.\n",
    "\n",
    "**(1)** You'll be working on a file called \"four_datasets.csv\" which contains - you guessed it - four separate datasets. Start by loading these data and getting a bunch of summary statistics. Include the mean of the $x$ variable, the mean of the $y$ variable, the standard deviation of the $x$ variable and the standard deviation of the $y$ variable. Optionally, for those of you familiar with correlation coefficients, output the correlation between the $x$ and $y$ variable for each dataset (you can use the `np.corrcoef()` function, which returns a 2D matrix of which you want the element in the second column of the first row). For those unfamiliar, broadly speaking, the correlation coefficient tells us how much the two series vary together or are independent of one another. Output all of these statistics to a precision of two digits after the decimal point (revisit f-strings to help with this)."
   ]
  },
  {
   "cell_type": "markdown",
   "metadata": {},
   "source": [
    "**(2)** You should get something of an odd result and find that each of the statistics summarizing those data are *identical*. If you've looked at the values in the four_datasets.csv file, what should be quite clear is that the data *are* different. This is a great point to introduce plots for each of the datasets. Create a 2x2 set of subplots of the data plotting the $y$ vs $x$ values for each of the four datasets. The data are best viewed as a scatter plot. As good practice, be sure to label your x and y axes and title each with the number of the dataset for reference. Lastly, to be sure to compare the plots farily, plot the data over the same x and y limits where x values go from 0 to 20 and the y values from 0 to 14."
   ]
  },
  {
   "cell_type": "markdown",
   "metadata": {},
   "source": [
    "**(3)** How do the datasets compare with one another? Were the summary statistics sufficient to see the differences in the data?\n",
    "\n",
    "These data are a well-known dataset called Anscombe's Quartet and demonstrate how summary statistics don't always capture the entire story for a given dataset.\n",
    "\n",
    "**(4)** Now that you're flexing your data visualization muscles, repeat this process (gather the summary statistics, then visualize the data) for the 12 datasets in the file \"twelve_datasets.csv\" first looking at the summary statistics as before, then plotting a figure with twelve plots and each labeled by its dataset number in the CSV file."
   ]
  },
  {
   "cell_type": "markdown",
   "metadata": {},
   "source": [
    "**(5)** Note the patterns of each of these datasets consider how these patterns compare to the summary statistics you encountered earlier.\n",
    "\n",
    "**Store your answers for the patterns in plots 1, 6, and 10 for a later quiz.**\n",
    "\n",
    "Hopefully, this exercise makes clear the immense importance of visualizing your data and complementing the important information summary statistics provide with visual inspection of the data. Who knows what you may find!\n",
    "\n",
    "**References**:\n",
    "\n",
    "- Anscombe, F.J., 1973. Graphs in statistical analysis. The american statistician, 27(1), pp.17-21.\n",
    "- Matejka, J. and Fitzmaurice, G., 2017, May. Same stats, different graphs: generating datasets with varied appearance and identical statistics through simulated annealing. In Proceedings of the 2017 CHI conference on human factors in computing systems (pp. 1290-1294)."
   ]
  }
 ],
 "metadata": {
  "kernelspec": {
   "display_name": "book",
   "language": "python",
   "name": "python3"
  },
  "language_info": {
   "codemirror_mode": {
    "name": "ipython",
    "version": 3
   },
   "file_extension": ".py",
   "mimetype": "text/x-python",
   "name": "python",
   "nbconvert_exporter": "python",
   "pygments_lexer": "ipython3",
   "version": "3.12.0"
  }
 },
 "nbformat": 4,
 "nbformat_minor": 2
}