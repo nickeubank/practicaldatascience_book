{
 "cells": [
  {
   "cell_type": "markdown",
   "id": "ddde8398",
   "metadata": {},
   "source": [
    "# Plotting with Pandas\n",
    "\n",
    "It might surprise you to be reading about pandas in a week about plotting, but when it comes to making quick exploratory plots, pandas actually has a lot to offer.\n",
    "\n",
    "Indeed, pandas not only comes with a built-in plotter for directly plotting pandas data in matplotlib (e.g., `df.plot()`), but with the `kind` argument (e.g., `df.plot(kind=\"...\")`) you can also get pandas to quickly generate:\n",
    "\n",
    "- bar plots (`\"bar\"` or `\"hbar\"`)\n",
    "- histograms (`\"hist\"`)\n",
    "- boxplots (`\"box\"`)\n",
    "- density plots (`\"density\"` or `\"kde\"`)\n",
    "- area plots (`\"area\"`)\n",
    "- scatter plots (`\"scatter\"`)\n",
    "- hexagonal bin plots (`\"hexbin\"`)\n",
    "- pie plots (`\"pie\"`)\n",
    "\n",
    "In all cases, the use of these methods will return a matplotlib plot you can then modify further using standard matplotlib methods if you want!\n",
    "\n",
    "To learn more or to see examples, check out the panda's [documentation on charting here.](https://pandas.pydata.org/pandas-docs/stable/user_guide/visualization.html#other-plots)\n"
   ]
  }
 ],
 "metadata": {
  "kernelspec": {
   "display_name": "Python 3.10.6 ('base')",
   "language": "python",
   "name": "python3"
  },
  "language_info": {
   "name": "python",
   "version": "3.10.6"
  },
  "vscode": {
   "interpreter": {
    "hash": "718fed28bf9f8c7851519acf2fb923cd655120b36de3b67253eeb0428bd33d2d"
   }
  }
 },
 "nbformat": 4,
 "nbformat_minor": 5
}