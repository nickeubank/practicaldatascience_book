{
 "cells": [
  {
   "cell_type": "markdown",
   "metadata": {},
   "source": [
    "# Linear Regression in Python\n",
    "\n",
    "There are many packages that implement linear regression in Python. As detailed in our last reading, however, depending on whether they are intended for use in prediction or inference, the way these packages operate can vary substantially. \n",
    "\n",
    "In this reading, we will look at how linear regression has been implemented in two major packages — [statsmodels](http://statsmodels.org) and [scikit-learn](http://scikit-learn.org). Both of these packages can fit a wide range of linear models, but the way they are organized and the results they report reflect the different audiences for whom they were designed. \n",
    "\n",
    "*Broadly speaking*, statsmodels is a library written by statisticians for statisticians, biostatisticians, social scientists, and natural scientists. It can do prediction, but its focus is *inference*, and as we will see that is reflected throughout the package. \n",
    "\n",
    "scikit-learn, by contrast, was written by and for computer scientists interested in machine learning. Its focus is on prediction, and while it includes a far more diverse collection of machine learning models than statsmodels, it does not include all the features someone doing inference might expect for evaluating model performance or doing things like calculating different types of standard errors.\n",
    "\n",
    "## Regression in statsmodels\n",
    "\n",
    "Because it is the more feature-rich library when it comes to regression, we will start our exploration of linear regression in Python with statsmodels. If you have any interest in inference, are coming from a programming language like R or Stata, and/or have a background in statistics, social science, or the natural sciences, then statsmodels is the package that will feel most familiar and useful. \n",
    "\n",
    "While our focus will be on linear regression, the statsmodels package includes a wide range of tools for inference and modeling, from simple models like linear and logistic regression to generalized linear models (GLMs), non-parametric regression, robust linear models, time series models, survival analysis, multiple imputation, generalized additive models (GAMs), and more. (Curious if it includes that *one* model that's near and dear to your heart? [Feel free to go check and come back](https://www.statsmodels.org/stable/user-guide.html)).\n",
    "\n",
    "Moreover, it provides by far the easiest interface for moving from a pandas DataFrame to a regression in the Python ecosystem. To illustrate, let's fit a quick regression looking at countries' under-5 mortality rates as a function of GDP per capita and Work Bank ratings of each countries' public sector in terms of transparency, accountability, and levels of corruption:"
   ]
  },
  {
   "cell_type": "code",
   "execution_count": 25,
   "metadata": {},
   "outputs": [
    {
     "data": {
      "text/html": [
       "<div>\n",
       "<style scoped>\n",
       "    .dataframe tbody tr th:only-of-type {\n",
       "        vertical-align: middle;\n",
       "    }\n",
       "\n",
       "    .dataframe tbody tr th {\n",
       "        vertical-align: top;\n",
       "    }\n",
       "\n",
       "    .dataframe thead th {\n",
       "        text-align: right;\n",
       "    }\n",
       "</style>\n",
       "<table border=\"1\" class=\"dataframe\">\n",
       "  <thead>\n",
       "    <tr style=\"text-align: right;\">\n",
       "      <th></th>\n",
       "      <th>38</th>\n",
       "    </tr>\n",
       "  </thead>\n",
       "  <tbody>\n",
       "    <tr>\n",
       "      <th>country_name</th>\n",
       "      <td>Mali</td>\n",
       "    </tr>\n",
       "    <tr>\n",
       "      <th>gdp_per_capita_ppp</th>\n",
       "      <td>1922.434</td>\n",
       "    </tr>\n",
       "    <tr>\n",
       "      <th>CPIA_public_sector_rating</th>\n",
       "      <td>3.0</td>\n",
       "    </tr>\n",
       "    <tr>\n",
       "      <th>mortality_rate_under5_per_1000</th>\n",
       "      <td>113.7</td>\n",
       "    </tr>\n",
       "    <tr>\n",
       "      <th>Mortality rate, under-5, female (per 1,000 live births)</th>\n",
       "      <td>107.8</td>\n",
       "    </tr>\n",
       "    <tr>\n",
       "      <th>Mortality rate, under-5, male (per 1,000 live births)</th>\n",
       "      <td>119.0</td>\n",
       "    </tr>\n",
       "    <tr>\n",
       "      <th>Population, total</th>\n",
       "      <td>17438778.0</td>\n",
       "    </tr>\n",
       "    <tr>\n",
       "      <th>region</th>\n",
       "      <td>Sub-Saharan Africa</td>\n",
       "    </tr>\n",
       "  </tbody>\n",
       "</table>\n",
       "</div>"
      ],
      "text/plain": [
       "                                                                    38\n",
       "country_name                                                      Mali\n",
       "gdp_per_capita_ppp                                            1922.434\n",
       "CPIA_public_sector_rating                                          3.0\n",
       "mortality_rate_under5_per_1000                                   113.7\n",
       "Mortality rate, under-5, female (per 1,000 live...               107.8\n",
       "Mortality rate, under-5, male (per 1,000 live b...               119.0\n",
       "Population, total                                           17438778.0\n",
       "region                                              Sub-Saharan Africa"
      ]
     },
     "execution_count": 25,
     "metadata": {},
     "output_type": "execute_result"
    }
   ],
   "source": [
    "import pandas as pd\n",
    "import numpy as np\n",
    "import statsmodels.formula.api as smf\n",
    "\n",
    "pd.set_option(\"mode.copy_on_write\", True)\n",
    "\n",
    "# Load data on infant mortality, gdp per capita, and\n",
    "# World Bank CPIA public sector transparency, accountability,\n",
    "# and corruption in the public sector scores\n",
    "# (1 = low transparency and accountability, 6 = high transparency and accountability).\n",
    "\n",
    "wdi = pd.read_csv(\"data/wdi_corruption.csv\")\n",
    "\n",
    "# Check one observation to get a feel for things.\n",
    "wdi.sample().T"
   ]
  },
  {
   "cell_type": "code",
   "execution_count": null,
   "metadata": {},
   "outputs": [],
   "source": [
    "# Fit model\n",
    "corruption_model = smf.ols(\n",
    "    \"mortality_rate_under5_per_1000 ~ np.log(gdp_per_capita_ppp) + CPIA_public_sector_rating + region\",\n",
    "    data=wdi,\n",
    ").fit()\n",
    "\n",
    "# Get regression result\n",
    "corruption_model.summary()"
   ]
  },
  {
   "cell_type": "markdown",
   "metadata": {},
   "source": [
    "(why `smf.ols`? Recall that one name for linear regression is \"Ordinary Least Squares,\" which is often shortened to \"OLS.\")\n",
    "\n",
    "Not bad, huh? Not only was our regression a one-liner, but the `.summary()` method has provided us with all our coefficients with labels, standard errors, t-statistics, p-values, 95% confidence intervals, and a range of additional statistics about the regression. \n",
    "\n",
    "We were also able to apply come manipulations right in the regression specification — note the use of `np.log()` to apply the log function to `gdp_per_capita_ppp` without having to create a new variable in our DataFrame.\n",
    "\n",
    "Finally (if this doesn't mean much to you, don't worry about it), statsmodels recognized that `region` contained strings rather than numbers, so it dynamically created a set of indicator variables (i.e., it created one-hot encodings).\n",
    "\n",
    "If you come from R or Stata, none of that is likely to seem notable to you, but as we'll discuss in the next section (and as we'll see when we get to `scikit-learn`), those are conveniences that should not be taken for granted."
   ]
  },
  {
   "cell_type": "markdown",
   "metadata": {},
   "source": [
    "## Moving from Pandas to Numpy\n",
    "\n",
    "Tools like the `ols` function from `statsmodels.formula.api` we used above can make your life as a data scientist *much* easier, but they also mask some of the complexity that lies between passing the function a pandas DataFrame and the actual regression taking place. \n",
    "\n",
    "Why? At the level of the underlying math, a linear regression is fit using matrix calculations. Indeed, if you imagine putting your outcome variable in vector called $y$ and your explanatory variables in a matrix $X$ where each column one of your explanatory variables and each row is an observation, then the way we actually get the vector of coefficients $\\beta$ is with the following matrix formula:\n",
    "\n",
    "$$\\beta = (X^TX)^{-1} X^Ty$$\n",
    "\n",
    "Indeed, matrix math (also known as matrix algebra) underlies a huge proportion of statistics and machine learning tools, which is one of the reasons that a linear algebra course (the part of math focused on the study of matrix math) is often recommended for data science students. (Don't worry — you don't need to know linear algebra to start as a data scientist, or to understand that formula above; I'm just telling you this to motivate what comes next).\n",
    "\n",
    "But you can't always do matrix math on a pandas DataFrame. pandas DataFrames are great because of their flexibility, but you can't multiply to pandas DataFrames that contain some integer columns, some floating point columns, and some string columns. Moreover, you also can't do matrix calculations with missing values — the inverse of a matrix with missing values is not a defined concept. \n",
    "\n",
    "So how was `smf.ols()` able to fit that regression? [patsy](https://patsy.readthedocs.io/en/latest/overview.html). patsy is a package that takes as input a pandas DataFrame and a formula (like the `\"mortality_rate_under5_per_1000 ~ np.log(gdp_per_capita_ppp) + CPIA_public_sector_rating + region\"` formula we used above), and returns a numpy array of floating point numbers without missing data (and with labels!) on which matrix algebra can be performed. And all `smf.ols()` is doing is calling patsy, giving it your DataFrame and formula, the taking the numpy arrays it returns and passing them to its more traditional OLS function, `OLS()` from `statsmodels.api`."
   ]
  },
  {
   "cell_type": "markdown",
   "metadata": {},
   "source": [
    "\n",
    "### Why do I care?\n",
    "\n",
    "\"OK,\" I hear you yell, \"but if statsmodels does this for me what do I care how it does it?\"\n",
    "\n",
    "You need to care because outside a handful of functions for which statsmodels offers this convenience (you can find the [full list here](https://www.statsmodels.org/stable/api.html#statsmodels-formula-api)), **nearly every modeling tool you encounter in the Python ecosystem will expect numpy arrays of floating point numbers as inputs.** And that means that it's important to (a) understand why they're doing this, and (b) be comfortable using `patsy` directly to move from pandas DataFrames to numpy arrays yourself.\n",
    "\n",
    "## patsy Formula Syntax\n",
    "\n",
    "To move between pandas and numpy, we will use the `patsy.dmatrices()` function. It takes a pandas DataFrame and a formula string and returns a tuple containing an outcome vector and a matrix of explanatory variables.\n",
    "\n",
    "To illustrate how patsy works, let's create a quite small toy dataset just to help us visualize what is going on. "
   ]
  },
  {
   "cell_type": "code",
   "execution_count": 56,
   "metadata": {},
   "outputs": [
    {
     "data": {
      "text/html": [
       "<div>\n",
       "<style scoped>\n",
       "    .dataframe tbody tr th:only-of-type {\n",
       "        vertical-align: middle;\n",
       "    }\n",
       "\n",
       "    .dataframe tbody tr th {\n",
       "        vertical-align: top;\n",
       "    }\n",
       "\n",
       "    .dataframe thead th {\n",
       "        text-align: right;\n",
       "    }\n",
       "</style>\n",
       "<table border=\"1\" class=\"dataframe\">\n",
       "  <thead>\n",
       "    <tr style=\"text-align: right;\">\n",
       "      <th></th>\n",
       "      <th>y</th>\n",
       "      <th>a</th>\n",
       "      <th>b</th>\n",
       "      <th>names</th>\n",
       "    </tr>\n",
       "  </thead>\n",
       "  <tbody>\n",
       "    <tr>\n",
       "      <th>0</th>\n",
       "      <td>10</td>\n",
       "      <td>1</td>\n",
       "      <td>3.14</td>\n",
       "      <td>Nick</td>\n",
       "    </tr>\n",
       "    <tr>\n",
       "      <th>1</th>\n",
       "      <td>11</td>\n",
       "      <td>2</td>\n",
       "      <td>NaN</td>\n",
       "      <td>Lyra</td>\n",
       "    </tr>\n",
       "    <tr>\n",
       "      <th>2</th>\n",
       "      <td>9</td>\n",
       "      <td>3</td>\n",
       "      <td>2.50</td>\n",
       "      <td>Nick</td>\n",
       "    </tr>\n",
       "    <tr>\n",
       "      <th>3</th>\n",
       "      <td>8</td>\n",
       "      <td>1</td>\n",
       "      <td>0.00</td>\n",
       "      <td>Lyra</td>\n",
       "    </tr>\n",
       "    <tr>\n",
       "      <th>4</th>\n",
       "      <td>12</td>\n",
       "      <td>3</td>\n",
       "      <td>3.00</td>\n",
       "      <td>Lyra</td>\n",
       "    </tr>\n",
       "  </tbody>\n",
       "</table>\n",
       "</div>"
      ],
      "text/plain": [
       "    y  a     b names\n",
       "0  10  1  3.14  Nick\n",
       "1  11  2   NaN  Lyra\n",
       "2   9  3  2.50  Nick\n",
       "3   8  1  0.00  Lyra\n",
       "4  12  3  3.00  Lyra"
      ]
     },
     "execution_count": 56,
     "metadata": {},
     "output_type": "execute_result"
    }
   ],
   "source": [
    "toy_df = pd.DataFrame(\n",
    "    {\n",
    "        \"y\": [10, 11, 9, 8, 12],\n",
    "        \"a\": [1, 2, 3, 1, 3],\n",
    "        \"b\": [3.14, np.nan, 2.5, 0, 3],\n",
    "        \"names\": [\"Nick\", \"Lyra\", \"Nick\", \"Lyra\", \"Lyra\"],\n",
    "    }\n",
    ")\n",
    "toy_df"
   ]
  },
  {
   "cell_type": "markdown",
   "metadata": {},
   "source": [
    "Now let's suppose we want to regress `y` on `a` and `b`. Let's use `dmatrices` to create our matrices. Note that `patsy.dmatrices` returns two objects — our outcome vector and our matrix of explanatory variables, so if you assign the result to a single variable you will get a `tuple` with the two items, or you can assign the result to two variables (separated by a comma) and the results will be distributed to those two variables:"
   ]
  },
  {
   "cell_type": "code",
   "execution_count": 55,
   "metadata": {},
   "outputs": [],
   "source": [
    "import patsy\n",
    "\n",
    "y, X = patsy.dmatrices(\"y ~ a + b\", data=toy_df)"
   ]
  },
  {
   "cell_type": "markdown",
   "metadata": {},
   "source": [
    "Let's start by looking at our X matrix:"
   ]
  },
  {
   "cell_type": "code",
   "execution_count": 54,
   "metadata": {},
   "outputs": [
    {
     "data": {
      "text/plain": [
       "DesignMatrix with shape (4, 2)\n",
       "  a     b\n",
       "  1  3.14\n",
       "  3  2.50\n",
       "  1  0.00\n",
       "  3  3.00\n",
       "  Terms:\n",
       "    'a' (column 0)\n",
       "    'b' (column 1)"
      ]
     },
     "execution_count": 54,
     "metadata": {},
     "output_type": "execute_result"
    }
   ],
   "source": [
    "X"
   ]
  },
  {
   "cell_type": "markdown",
   "metadata": {},
   "source": [
    "As you can see, there are a few differences between our pandas DataFrame and this `DesignMatrix` (these are basically numpy arrays with some extra metadata, like labels. You can use them with any function that expects numpy arrays).\n",
    "\n",
    "- The DesignMatrix `X` includes a column of 1s labelled as `Intercept`. You may have never thought about this before, but the intercept in a regression doesn't appear by magic — it's actually a coefficient created by adding a column that has the same value for every observation (1 makes interpretation easiest). By default, `patsy` will always add an intercept, but if you would prefer it did not, just add `- 1` or `+ 0` to the formula.\n",
    "- Our pandas DataFrame had 5 rows, but `X` only has 4. Why? Well, the second row of our DataFrame included a missing value (`np.nan`) in the `b` column. As noted above, we can't do matrix algebra with missing values, so any row that includes a missing value *in one of the variables in the formula* is automatically dropped. And yes, it drops that row from `y` too."
   ]
  },
  {
   "cell_type": "code",
   "execution_count": 51,
   "metadata": {},
   "outputs": [
    {
     "data": {
      "text/plain": [
       "DesignMatrix with shape (4, 1)\n",
       "   y\n",
       "  10\n",
       "   9\n",
       "   8\n",
       "  12\n",
       "  Terms:\n",
       "    'y' (column 0)"
      ]
     },
     "execution_count": 51,
     "metadata": {},
     "output_type": "execute_result"
    }
   ],
   "source": [
    "y"
   ]
  },
  {
   "cell_type": "markdown",
   "metadata": {},
   "source": [
    "### Categorical Variables"
   ]
  },
  {
   "cell_type": "markdown",
   "metadata": {},
   "source": [
    "Great, but this is just the start of things. Now let's add `names` — a string variable — to the model."
   ]
  },
  {
   "cell_type": "code",
   "execution_count": 57,
   "metadata": {},
   "outputs": [
    {
     "data": {
      "text/plain": [
       "DesignMatrix with shape (4, 4)\n",
       "  Intercept  names[T.Nick]  a     b\n",
       "          1              1  1  3.14\n",
       "          1              1  3  2.50\n",
       "          1              0  1  0.00\n",
       "          1              0  3  3.00\n",
       "  Terms:\n",
       "    'Intercept' (column 0)\n",
       "    'names' (column 1)\n",
       "    'a' (column 2)\n",
       "    'b' (column 3)"
      ]
     },
     "execution_count": 57,
     "metadata": {},
     "output_type": "execute_result"
    }
   ],
   "source": [
    "y, X = patsy.dmatrices(\"y ~ a + b + names\", data=toy_df)\n",
    "X"
   ]
  },
  {
   "cell_type": "markdown",
   "metadata": {},
   "source": [
    "Now our `X` matrix has a new column called `names[T.Nick]` that contains 0s and 1s. Basically, if the variable takes on the value after `T.` (here, `Nick`), then that variable will be 1; otherwise it will be a zero. If our variable `c` took on more than two values (say, `\"Lyra\"`, `\"Nick\",` `\"Trillian\"`), `X` would have also had a variable called `names[T.Trillian]`.\n",
    "\n",
    "By default, patsy will always omit one category (the \"omitted category\" or \"reference category\"). As a result, for a variable that takes on `N` unique values, patsy will always add `N-1` variables when doing one-hot encoding.\n",
    "\n",
    "patsy will do this automatically when it encounters a `Categorical` or `object` `dtype` column, but you can also use `C()` to force it to treat any variable as categorical. For example, if I put `C(a)` in the formula, it will treat `a` as a categorical variable and apply one-hot encoding to all the unique values of the variable:"
   ]
  },
  {
   "cell_type": "code",
   "execution_count": 60,
   "metadata": {},
   "outputs": [
    {
     "data": {
      "text/plain": [
       "DesignMatrix with shape (4, 4)\n",
       "  Intercept  C(a)[T.2]  C(a)[T.3]     b\n",
       "          1          0          0  3.14\n",
       "          1          0          1  2.50\n",
       "          1          0          0  0.00\n",
       "          1          0          1  3.00\n",
       "  Terms:\n",
       "    'Intercept' (column 0)\n",
       "    'C(a)' (columns 1:3)\n",
       "    'b' (column 3)"
      ]
     },
     "execution_count": 60,
     "metadata": {},
     "output_type": "execute_result"
    }
   ],
   "source": [
    "y, X = patsy.dmatrices(\"y ~ C(a) + b\", data=toy_df)\n",
    "X"
   ]
  },
  {
   "cell_type": "markdown",
   "metadata": {},
   "source": [
    "Arguments can also be passed to `C()` to modify patsy's one-hot encoding behavior. For example, if you pass `C(names, Treatment('Nick'))`, `\"Nick\"` will become the omitted category (instead of the default, which is the first value alphabetically):"
   ]
  },
  {
   "cell_type": "code",
   "execution_count": 62,
   "metadata": {},
   "outputs": [
    {
     "data": {
      "text/plain": [
       "DesignMatrix with shape (4, 4)\n",
       "  Intercept  C(names, Treatment('Nick'))[T.Lyra]  a     b\n",
       "          1                                    0  1  3.14\n",
       "          1                                    0  3  2.50\n",
       "          1                                    1  1  0.00\n",
       "          1                                    1  3  3.00\n",
       "  Terms:\n",
       "    'Intercept' (column 0)\n",
       "    \"C(names, Treatment('Nick'))\" (column 1)\n",
       "    'a' (column 2)\n",
       "    'b' (column 3)"
      ]
     },
     "execution_count": 62,
     "metadata": {},
     "output_type": "execute_result"
    }
   ],
   "source": [
    "y, X = patsy.dmatrices(\"y ~ a + b + C(names, Treatment('Nick'))\", data=toy_df)\n",
    "X"
   ]
  },
  {
   "cell_type": "markdown",
   "metadata": {},
   "source": [
    "### Interaction Terms"
   ]
  },
  {
   "cell_type": "markdown",
   "metadata": {},
   "source": [
    "Patsy can also create interaction terms on the fly. For example, if you wished to add the multiplicative interaction of `a` and `b`, you could either put `a*b` in place of `a + b` to have patsy insert `a`, `b`, and `a*b` to the model:"
   ]
  },
  {
   "cell_type": "code",
   "execution_count": 58,
   "metadata": {},
   "outputs": [
    {
     "data": {
      "text/plain": [
       "DesignMatrix with shape (4, 5)\n",
       "  Intercept  names[T.Nick]  a     b   a:b\n",
       "          1              1  1  3.14  3.14\n",
       "          1              1  3  2.50  7.50\n",
       "          1              0  1  0.00  0.00\n",
       "          1              0  3  3.00  9.00\n",
       "  Terms:\n",
       "    'Intercept' (column 0)\n",
       "    'names' (column 1)\n",
       "    'a' (column 2)\n",
       "    'b' (column 3)\n",
       "    'a:b' (column 4)"
      ]
     },
     "execution_count": 58,
     "metadata": {},
     "output_type": "execute_result"
    }
   ],
   "source": [
    "y, X = patsy.dmatrices(\"y ~ a * b + names\", data=toy_df)\n",
    "X"
   ]
  },
  {
   "cell_type": "markdown",
   "metadata": {},
   "source": [
    "Or you can leave in `a + b` and add `a:b` to just add the multiplicative interaction term:"
   ]
  },
  {
   "cell_type": "code",
   "execution_count": 59,
   "metadata": {},
   "outputs": [
    {
     "data": {
      "text/plain": [
       "DesignMatrix with shape (4, 5)\n",
       "  Intercept  names[T.Nick]  a     b   a:b\n",
       "          1              1  1  3.14  3.14\n",
       "          1              1  3  2.50  7.50\n",
       "          1              0  1  0.00  0.00\n",
       "          1              0  3  3.00  9.00\n",
       "  Terms:\n",
       "    'Intercept' (column 0)\n",
       "    'names' (column 1)\n",
       "    'a' (column 2)\n",
       "    'b' (column 3)\n",
       "    'a:b' (column 4)"
      ]
     },
     "execution_count": 59,
     "metadata": {},
     "output_type": "execute_result"
    }
   ],
   "source": [
    "y, X = patsy.dmatrices(\"y ~ a * b + names\", data=toy_df)\n",
    "X"
   ]
  },
  {
   "cell_type": "markdown",
   "metadata": {},
   "source": [
    "### Isn't this formula syntax the same as R?\n",
    "\n",
    "Pretty close! Here's a [list of all known differences](https://patsy.readthedocs.io/en/latest/R-comparison.html), but as you'll see, there aren't too many. "
   ]
  }
 ],
 "metadata": {
  "kernelspec": {
   "display_name": "base",
   "language": "python",
   "name": "python3"
  },
  "language_info": {
   "codemirror_mode": {
    "name": "ipython",
    "version": 3
   },
   "file_extension": ".py",
   "mimetype": "text/x-python",
   "name": "python",
   "nbconvert_exporter": "python",
   "pygments_lexer": "ipython3",
   "version": "3.11.8"
  }
 },
 "nbformat": 4,
 "nbformat_minor": 2
}