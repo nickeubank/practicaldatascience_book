{
 "cells": [
  {
   "cell_type": "markdown",
   "metadata": {},
   "source": [
    "# Pulling Back the Curtain: Pandas to Numpy with patsy"
   ]
  },
  {
   "cell_type": "markdown",
   "metadata": {},
   "source": [
    "In our last reading, we learned about the `ols` function in `statsmodels.formula.api`, and the ease with which it allows data scientists to not only fit a linear regression on data stored in Pandas. We saw how easy it was to work with the regression results, to change features like how standard errors were calculated, to evaluate model performance, and more. \n",
    "\n",
    "The one thing we deliberately did not go into in the last reading was the details of the model specification. The formula we used — `\"mortality_rate_under5_per_1000 ~ np.log(gdp_per_capita_ppp) + CPIA_public_sector_rating + region\"` — isn't too hard to interpret, and if you're coming from the R programming language it likely looked very familiar. \n",
    "\n",
    "In this reading, we'll pull back the curtain a little on how statsmodels used data from a pandas DataFrame to fit a linear regression, even though some of the contents of that DataFrame were string variables (like `region`). In doing so, we'll not only learn the details of how to specify models using these formula strings, but also the nuts and bolts of model fitting — an understanding that will be critical for successfully navigating the Python Data Science ecosystem beyond statsmodels.\n",
    "\n",
    "## The Hidden Step Between Pandas and Your Results \n",
    "\n",
    "At the level of the underlying math, a linear regression is fit using matrix calculations. Indeed, if you imagine putting your outcome variable in a vector called $y$ and your explanatory variables in a matrix $X$ where each column is one of your explanatory variables and each row is an observation. To get our vector of coefficients $\\beta$, your computer uses the following matrix formula (don't worry if you don't know what all the terms there mean — I just want to try and make this concrete by showing the formula):\n",
    "\n",
    "$$\\beta = (X^TX)^{-1} X^Ty$$\n",
    "\n",
    "In other words, we get $\\beta$ by doing some matrix multiplication and calculating matrix inverses on our data. Indeed, matrix math (also known as matrix algebra) underlies a huge proportion of statistics and machine learning tools, which is one of the reasons that a linear algebra course (the part of math focused on the study of matrix math) is often recommended for data science students. (Don't worry — you don't need to know linear algebra to start as a data scientist, and you don't need to understand that formula above; I'm just telling you this to motivate what comes next).\n",
    "\n",
    "But you can't always do matrix math on a pandas DataFrame. pandas DataFrames are great because of their flexibility, but you can't multiply to pandas DataFrames that contain some integer columns, some floating point columns, and some string columns. Moreover, you also can't do matrix calculations with missing values — the inverse of a matrix with missing values is not a defined concept. \n",
    "\n",
    "So how was `smf.ols()` able to fit that regression? [patsy](https://patsy.readthedocs.io/en/latest/overview.html). patsy is a package that takes as input a pandas DataFrame and a formula (like the `\"mortality_rate_under5_per_1000 ~ np.log(gdp_per_capita_ppp) + CPIA_public_sector_rating + region\"` formula we used above), and returns a numpy array of floating point numbers without missing data (and with labels!) on which matrix algebra can be performed. All `smf.ols()` is doing is:\n",
    "\n",
    "- calling patsy, \n",
    "- giving patsy your DataFrame and formula, \n",
    "- taking the numpy arrays it returns, and \n",
    "- passing those arrays to its more traditional OLS function, `OLS()` from `statsmodels.api`. \n",
    "\n",
    "That function then does the actual matrix algebra described above and gives you back a result!"
   ]
  },
  {
   "cell_type": "markdown",
   "metadata": {},
   "source": [
    "\n",
    "### Why do I care?\n",
    "\n",
    "\"OK,\" I hear you yell, \"but if statsmodels does this for me what do I care how it does it?\"\n",
    "\n",
    "You need to care because, outside a handful of functions for which statsmodels offers this convenience (you can find the [full list here](https://www.statsmodels.org/stable/api.html#statsmodels-formula-api)), **nearly every modeling tool you encounter in the Python ecosystem will expect numpy arrays of floating point numbers as inputs.** That means that it's important to (a) understand why they need numpy arrays and (b) be able to use `patsy` directly to move from pandas DataFrames to numpy arrays yourself.\n",
    "\n",
    "## patsy Formula Syntax\n",
    "\n",
    "To move between pandas and numpy, we will use the `patsy.dmatrices()` function. It takes a pandas DataFrame and a formula string and returns a tuple containing an outcome vector and a matrix of explanatory variables.\n",
    "\n",
    "To illustrate how patsy works, let's create a quite small toy dataset just to help us visualize what is going on. "
   ]
  },
  {
   "cell_type": "code",
   "execution_count": 56,
   "metadata": {},
   "outputs": [
    {
     "data": {
      "text/html": [
       "<div>\n",
       "<style scoped>\n",
       "    .dataframe tbody tr th:only-of-type {\n",
       "        vertical-align: middle;\n",
       "    }\n",
       "\n",
       "    .dataframe tbody tr th {\n",
       "        vertical-align: top;\n",
       "    }\n",
       "\n",
       "    .dataframe thead th {\n",
       "        text-align: right;\n",
       "    }\n",
       "</style>\n",
       "<table border=\"1\" class=\"dataframe\">\n",
       "  <thead>\n",
       "    <tr style=\"text-align: right;\">\n",
       "      <th></th>\n",
       "      <th>y</th>\n",
       "      <th>a</th>\n",
       "      <th>b</th>\n",
       "      <th>names</th>\n",
       "    </tr>\n",
       "  </thead>\n",
       "  <tbody>\n",
       "    <tr>\n",
       "      <th>0</th>\n",
       "      <td>10</td>\n",
       "      <td>1</td>\n",
       "      <td>3.14</td>\n",
       "      <td>Nick</td>\n",
       "    </tr>\n",
       "    <tr>\n",
       "      <th>1</th>\n",
       "      <td>11</td>\n",
       "      <td>2</td>\n",
       "      <td>NaN</td>\n",
       "      <td>Lyra</td>\n",
       "    </tr>\n",
       "    <tr>\n",
       "      <th>2</th>\n",
       "      <td>9</td>\n",
       "      <td>3</td>\n",
       "      <td>2.50</td>\n",
       "      <td>Nick</td>\n",
       "    </tr>\n",
       "    <tr>\n",
       "      <th>3</th>\n",
       "      <td>8</td>\n",
       "      <td>1</td>\n",
       "      <td>0.00</td>\n",
       "      <td>Lyra</td>\n",
       "    </tr>\n",
       "    <tr>\n",
       "      <th>4</th>\n",
       "      <td>12</td>\n",
       "      <td>3</td>\n",
       "      <td>3.00</td>\n",
       "      <td>Lyra</td>\n",
       "    </tr>\n",
       "  </tbody>\n",
       "</table>\n",
       "</div>"
      ],
      "text/plain": [
       "    y  a     b names\n",
       "0  10  1  3.14  Nick\n",
       "1  11  2   NaN  Lyra\n",
       "2   9  3  2.50  Nick\n",
       "3   8  1  0.00  Lyra\n",
       "4  12  3  3.00  Lyra"
      ]
     },
     "execution_count": 56,
     "metadata": {},
     "output_type": "execute_result"
    }
   ],
   "source": [
    "import pandas as pd\n",
    "import numpy as np\n",
    "\n",
    "pd.set_option(\"mode.copy_on_write\", True)\n",
    "\n",
    "toy_df = pd.DataFrame(\n",
    "    {\n",
    "        \"y\": [10, 11, 9, 8, 12],\n",
    "        \"a\": [1, 2, 3, 1, 3],\n",
    "        \"b\": [3.14, np.nan, 2.5, 0, 3],\n",
    "        \"names\": [\"Nick\", \"Lyra\", \"Nick\", \"Lyra\", \"Lyra\"],\n",
    "    }\n",
    ")\n",
    "toy_df"
   ]
  },
  {
   "cell_type": "markdown",
   "metadata": {},
   "source": [
    "Now let's suppose we want to regress `y` on `a` and `b`. Let's use `dmatrices` to create our matrices. Note that `patsy.dmatrices` returns two objects — our outcome vector and our matrix of explanatory variables, so if you assign the result to a single variable you will get a `tuple` with the two items, or you can assign the result to two variables (separated by a comma) and the results will be distributed to those two variables:"
   ]
  },
  {
   "cell_type": "code",
   "execution_count": 55,
   "metadata": {},
   "outputs": [],
   "source": [
    "import patsy\n",
    "\n",
    "y, X = patsy.dmatrices(\"y ~ a + b\", data=toy_df)"
   ]
  },
  {
   "cell_type": "markdown",
   "metadata": {},
   "source": [
    "Let's start by looking at our X matrix:"
   ]
  },
  {
   "cell_type": "code",
   "execution_count": 54,
   "metadata": {},
   "outputs": [
    {
     "data": {
      "text/plain": [
       "DesignMatrix with shape (4, 2)\n",
       "  a     b\n",
       "  1  3.14\n",
       "  3  2.50\n",
       "  1  0.00\n",
       "  3  3.00\n",
       "  Terms:\n",
       "    'a' (column 0)\n",
       "    'b' (column 1)"
      ]
     },
     "execution_count": 54,
     "metadata": {},
     "output_type": "execute_result"
    }
   ],
   "source": [
    "X"
   ]
  },
  {
   "cell_type": "markdown",
   "metadata": {},
   "source": [
    "As you can see, there are a few differences between our pandas DataFrame and this `DesignMatrix` (these are basically numpy arrays with some extra metadata, like labels. You can use them with any function that expects numpy arrays).\n",
    "\n",
    "- The DesignMatrix `X` includes a column of 1s labelled as `Intercept`. You may have never thought about this before, but the intercept in a regression doesn't appear by magic — it's actually a coefficient created by adding a column that has the same value for every observation (1 makes interpretation easiest). By default, `patsy` will always add an intercept, but if you would prefer it did not, just add `- 1` or `+ 0` to the formula.\n",
    "- Our pandas DataFrame had 5 rows, but `X` only has 4. Why? Well, the second row of our DataFrame included a missing value (`np.nan`) in the `b` column. As noted above, we can't do matrix algebra with missing values, so any row that includes a missing value *in one of the variables in the formula* is automatically dropped. And yes, it drops that row from `y` too."
   ]
  },
  {
   "cell_type": "code",
   "execution_count": 51,
   "metadata": {},
   "outputs": [
    {
     "data": {
      "text/plain": [
       "DesignMatrix with shape (4, 1)\n",
       "   y\n",
       "  10\n",
       "   9\n",
       "   8\n",
       "  12\n",
       "  Terms:\n",
       "    'y' (column 0)"
      ]
     },
     "execution_count": 51,
     "metadata": {},
     "output_type": "execute_result"
    }
   ],
   "source": [
    "y"
   ]
  },
  {
   "cell_type": "markdown",
   "metadata": {},
   "source": [
    "### Categorical Variables"
   ]
  },
  {
   "cell_type": "markdown",
   "metadata": {},
   "source": [
    "Great, but this is just the start of things. Now let's add `names` — a string variable — to the model."
   ]
  },
  {
   "cell_type": "code",
   "execution_count": 57,
   "metadata": {},
   "outputs": [
    {
     "data": {
      "text/plain": [
       "DesignMatrix with shape (4, 4)\n",
       "  Intercept  names[T.Nick]  a     b\n",
       "          1              1  1  3.14\n",
       "          1              1  3  2.50\n",
       "          1              0  1  0.00\n",
       "          1              0  3  3.00\n",
       "  Terms:\n",
       "    'Intercept' (column 0)\n",
       "    'names' (column 1)\n",
       "    'a' (column 2)\n",
       "    'b' (column 3)"
      ]
     },
     "execution_count": 57,
     "metadata": {},
     "output_type": "execute_result"
    }
   ],
   "source": [
    "y, X = patsy.dmatrices(\"y ~ a + b + names\", data=toy_df)\n",
    "X"
   ]
  },
  {
   "cell_type": "markdown",
   "metadata": {},
   "source": [
    "Now our `X` matrix has a new column called `names[T.Nick]` that contains 0s and 1s. Basically, if the variable takes on the value after `T.` (here, `Nick`), then that variable will be 1; otherwise it will be a zero. If our variable `c` took on more than two values (say, `\"Lyra\"`, `\"Nick\",` `\"Trillian\"`), `X` would have also had a variable called `names[T.Trillian]`.\n",
    "\n",
    "By default, patsy will always omit one category (the \"omitted category\" or \"reference category\"). As a result, for a variable that takes on `N` unique values, patsy will always add `N-1` variables when doing one-hot encoding.\n",
    "\n",
    "patsy will do this automatically when it encounters a `Categorical` or `object` `dtype` column, but you can also use `C()` to force it to treat any variable as categorical. For example, if I put `C(a)` in the formula, it will treat `a` as a categorical variable and apply one-hot encoding to all the unique values of the variable:"
   ]
  },
  {
   "cell_type": "code",
   "execution_count": 60,
   "metadata": {},
   "outputs": [
    {
     "data": {
      "text/plain": [
       "DesignMatrix with shape (4, 4)\n",
       "  Intercept  C(a)[T.2]  C(a)[T.3]     b\n",
       "          1          0          0  3.14\n",
       "          1          0          1  2.50\n",
       "          1          0          0  0.00\n",
       "          1          0          1  3.00\n",
       "  Terms:\n",
       "    'Intercept' (column 0)\n",
       "    'C(a)' (columns 1:3)\n",
       "    'b' (column 3)"
      ]
     },
     "execution_count": 60,
     "metadata": {},
     "output_type": "execute_result"
    }
   ],
   "source": [
    "y, X = patsy.dmatrices(\"y ~ C(a) + b\", data=toy_df)\n",
    "X"
   ]
  },
  {
   "cell_type": "markdown",
   "metadata": {},
   "source": [
    "Arguments can also be passed to `C()` to modify patsy's one-hot encoding behavior. For example, if you pass `C(names, Treatment('Nick'))`, `\"Nick\"` will become the omitted category (instead of the default, which is the first value alphabetically):"
   ]
  },
  {
   "cell_type": "code",
   "execution_count": 62,
   "metadata": {},
   "outputs": [
    {
     "data": {
      "text/plain": [
       "DesignMatrix with shape (4, 4)\n",
       "  Intercept  C(names, Treatment('Nick'))[T.Lyra]  a     b\n",
       "          1                                    0  1  3.14\n",
       "          1                                    0  3  2.50\n",
       "          1                                    1  1  0.00\n",
       "          1                                    1  3  3.00\n",
       "  Terms:\n",
       "    'Intercept' (column 0)\n",
       "    \"C(names, Treatment('Nick'))\" (column 1)\n",
       "    'a' (column 2)\n",
       "    'b' (column 3)"
      ]
     },
     "execution_count": 62,
     "metadata": {},
     "output_type": "execute_result"
    }
   ],
   "source": [
    "y, X = patsy.dmatrices(\"y ~ a + b + C(names, Treatment('Nick'))\", data=toy_df)\n",
    "X"
   ]
  },
  {
   "cell_type": "markdown",
   "metadata": {},
   "source": [
    "### Interaction Terms"
   ]
  },
  {
   "cell_type": "markdown",
   "metadata": {},
   "source": [
    "Interaction terms are when a regression includes not only two variables on their own, but also the two variables multiplied by one another as a third variable. Interaction terms can be tricky to understand — especially if you haven't taken a linear regression course before — but they're used when we think that two variables don't only matter on their own, but also that the impact of one variable depends on the value of the other variable.\n",
    "\n",
    "For example, suppose you are trying to estimate a patient's risk of a heart attack. You may think that heart attack risk is related to both the patient's blood pressure and the patient's age. Generally speaking, patients with high blood pressure are at greater risk of heart attacks, and older patients are at greater risk of heart attacks.\n",
    "\n",
    "But suppose you think that blood pressure only matters for older patients, and that as patients get older, the amount that high blood pressure matters also increases? In other words, suppose you suspect that a 40 year old patient with a systolic blood pressure of 150 would have 2 times the risk of a heart attack than if they had a blood pressure of 120, but that a 70 year old patient with blood pressure of 150 would have 5 times the risk of a heart attack than if they had a blood pressure of 120. \n",
    "\n",
    "To capture this, we would put age, blood pressure, *and* age times blood pressure in our model. And this third term — blood pressure times age — is what we call an interaction term.\n",
    "\n",
    "Patsy can also create interaction terms on the fly. For example, if you wished to add the multiplicative interaction of `a` and `b`, you could either put `a*b` in place of `a + b` to have patsy insert `a`, `b`, and `a*b` to the model:"
   ]
  },
  {
   "cell_type": "code",
   "execution_count": 58,
   "metadata": {},
   "outputs": [
    {
     "data": {
      "text/plain": [
       "DesignMatrix with shape (4, 5)\n",
       "  Intercept  names[T.Nick]  a     b   a:b\n",
       "          1              1  1  3.14  3.14\n",
       "          1              1  3  2.50  7.50\n",
       "          1              0  1  0.00  0.00\n",
       "          1              0  3  3.00  9.00\n",
       "  Terms:\n",
       "    'Intercept' (column 0)\n",
       "    'names' (column 1)\n",
       "    'a' (column 2)\n",
       "    'b' (column 3)\n",
       "    'a:b' (column 4)"
      ]
     },
     "execution_count": 58,
     "metadata": {},
     "output_type": "execute_result"
    }
   ],
   "source": [
    "y, X = patsy.dmatrices(\"y ~ a * b + names\", data=toy_df)\n",
    "X"
   ]
  },
  {
   "cell_type": "markdown",
   "metadata": {},
   "source": [
    "Or you can leave in `a + b` and add `a:b` to just add the multiplicative interaction term:"
   ]
  },
  {
   "cell_type": "code",
   "execution_count": 59,
   "metadata": {},
   "outputs": [
    {
     "data": {
      "text/plain": [
       "DesignMatrix with shape (4, 5)\n",
       "  Intercept  names[T.Nick]  a     b   a:b\n",
       "          1              1  1  3.14  3.14\n",
       "          1              1  3  2.50  7.50\n",
       "          1              0  1  0.00  0.00\n",
       "          1              0  3  3.00  9.00\n",
       "  Terms:\n",
       "    'Intercept' (column 0)\n",
       "    'names' (column 1)\n",
       "    'a' (column 2)\n",
       "    'b' (column 3)\n",
       "    'a:b' (column 4)"
      ]
     },
     "execution_count": 59,
     "metadata": {},
     "output_type": "execute_result"
    }
   ],
   "source": [
    "y, X = patsy.dmatrices(\"y ~ a * b + names\", data=toy_df)\n",
    "X"
   ]
  },
  {
   "cell_type": "markdown",
   "metadata": {},
   "source": [
    "### Isn't this formula syntax the same as R?\n",
    "\n",
    "Pretty close! Here's a [list of all known differences](https://patsy.readthedocs.io/en/latest/R-comparison.html), but as you'll see, there aren't too many. "
   ]
  }
 ],
 "metadata": {
  "kernelspec": {
   "display_name": "base",
   "language": "python",
   "name": "python3"
  },
  "language_info": {
   "codemirror_mode": {
    "name": "ipython",
    "version": 3
   },
   "file_extension": ".py",
   "mimetype": "text/x-python",
   "name": "python",
   "nbconvert_exporter": "python",
   "pygments_lexer": "ipython3",
   "version": "3.11.8"
  }
 },
 "nbformat": 4,
 "nbformat_minor": 2
}