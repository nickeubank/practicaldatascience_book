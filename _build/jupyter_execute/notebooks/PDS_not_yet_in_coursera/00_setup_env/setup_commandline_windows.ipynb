{
 "cells": [
  {
   "cell_type": "markdown",
   "metadata": {},
   "source": [
    "# The Command Line on Windows / Installing Bash"
   ]
  },
  {
   "cell_type": "markdown",
   "metadata": {},
   "source": [
    "In our next reading on [Command Line Basics](command_line_part1.ipynb), we'll learn that there are actually several programs available that allow users to interact with their operating system via text commands instead of using their mouse to click on icons (feel free to follow the link and read ahead if you'd like). \n",
    "\n",
    "In this course, we'll focus on learning `bash` because it's so ubiquitous in the data science space. Why? Mostly because it is the default command line tool for Linux operating systems, and while you may not know it, *most* of the computers you interact with on a daily basis run Linux. Your personal computer may be a Mac (which also uses `bash` by default) or a Windows computer, but the computers running websites, managing your email, running those ticket kiosk you see at the airport, etc. are almost all running on Linux. So when you start doing cloud computing, you'll *probably* be working with a Linux virtual machine. So if you're going to learn a command line tool as a data scientist, `bash` is the natural choice.\n",
    "\n",
    "**But**: `bash` is not the default on Windows (Windows uses `PowerShell` and `CMD` by default), so on this page, I'll show you how to set up a system that lets you work with `bash` on your Windows computer. "
   ]
  },
  {
   "cell_type": "markdown",
   "metadata": {},
   "source": [
    "## Make Sure You Have New Terminal App\n",
    "\n",
    "Windows recently created a new Terminal app called... Terminal. The icon looks like this:\n",
    "\n",
    "![windows terminal icon](images/windows_terminal_icon.png)\n",
    "\n",
    "If you don't already have it installed, open the Windows Store, search for \"Windows Terminal\" and install (you can also [try this link](https://apps.microsoft.com/detail/9n0dx20hk701)).\n",
    "\n",
    "I would also recommend pinning it do your menu bar. You'll use this a lot."
   ]
  },
  {
   "cell_type": "markdown",
   "metadata": {},
   "source": [
    "## Install Git Bash for Windows\n",
    "\n",
    "To get a good `bash` interface in Windows, begin by [downloading Git for Windows from gitforwindows.org](https://gitforwindows.org/). \n",
    "\n",
    "Run the installer, following the directions below for each page of the installer. Note the only a couple of these are not the default choices, and they are indicated as such.\n",
    "\n",
    "- *Select Components*: Choose\n",
    "  - The two \"Windows Explorer Integration\" options (should be selected by default)\n",
    "  - Git LFS (Large File Storage) (should be selected by default)\n",
    "  - Associate .git* configuration files with the default text editor (should be selected by default)\n",
    "  - Associate .sh files to be run with Bash (should be selected by default)\n",
    "  - (NEW!) Add a Git Bash Profile to Windows Terminal (this one is **NOT** selected by default)\n",
    "  - (NEW!) Scalar (Git add-on to manage large-scale repositories) (this one is **NOT** selected by default)\n",
    "- *Select Start Menu Folder*: do whatever you want. I choose to not create a start menu folder.\n",
    "- *Choosing the default editor to be used by Git*: Choose \"Use Visual Studio Code as Git's default editor.\" Be careful not to choose \"Visual Studio Code Insiders.\" (this one is **NOT** selected by default)\n",
    "- *Adjusting the name of the initial branch in new repositories*: Choose \"Let Git decide.\" \n",
    "- *Adjusting your PATH environment*: choose the recommended \"Git from the command line and also from 3rd-party software.\" \n",
    "- *Choosing the SSH executable*: choose \"Use bundled OpenSSH.\"\n",
    "- *Configuring the line ending conversions*: choose \"Checkout Windows-style, commit Unix-style line endings.\"\n",
    "- *Configuring the terminal emulator to use with Git Bash*: choose \"Use MinTTY (the default terminal of MSYS2)\"\n",
    "- *Choose the default behavior of git pull*: Choose \"fast forward or merge\"\n",
    "- *Choose a credential helper*: Choose \"Git Credential Manager\"\n",
    "- *Configuring extra options*: Choose \"Enable file system caching,\" don't choose \"Enable symbolic links\"\n",
    "- *Configuring experimental options*: do not enable any.\n"
   ]
  },
  {
   "cell_type": "markdown",
   "metadata": {},
   "source": [
    "## Set Git Bash as Default\n",
    "\n",
    "### Set as Windows Terminal Default\n",
    "\n",
    "1. Open Windows Terminal. If you had Windows Terminal open when running the installer, close it and re-open it.\n",
    "2. Click on the down arrow next to the plus sign along the tab bar. You should see Git Bash as an option. But don't click it for now — select \"Settings.\"\n",
    "3. In the Startup menu of Windows Terminal, the first option is \"Default Profile.\" Change that to Git Bash. Click Save.\n",
    "4. Open a new tab in Windows Terminal. It should say something like your username, `@`, name of your computer, then `MINGW64 ~`. Then below that, a dollar sign. \n",
    "\n",
    "Congratulations! You're now running bash in Windows!"
   ]
  },
  {
   "cell_type": "markdown",
   "metadata": {},
   "source": [
    "### Set Git Bash as VS Code Default\n",
    "\n",
    "Finally, we want VS Code to automatically launch git bash as well. Open VS Code and open the Command Prompt (Ctrl-Shift-P). Type and select \"Terminal: Select Default Profile.\"\n",
    "\n",
    "Select Git Bash.\n",
    "\n",
    "Close VS Code and re-open it. Type Ctrl-` (the backtick button that also has a ~ on it) to open a new terminal in VS Code. You should see MINGW64!"
   ]
  },
  {
   "cell_type": "markdown",
   "metadata": {},
   "source": [
    "## Create Configuration File"
   ]
  },
  {
   "cell_type": "markdown",
   "metadata": {},
   "source": [
    "When you open a `sh`, `bash`, or `zsh` session, that session begins by running all the code in a special file the helps configure the session. Among the things done in these files, they often define \"environment variables\" -- variables that are visible to any program run from your command line session, with information about things like where to find various programs, like Python. \n",
    "\n",
    "`bash` in particular will run a file located in the `bash`'s home directory (which is include your Cmder folder) called  `.bash_profile`. We don't need to modify this right now, but we do want to create a file there for future use. \n",
    "\n",
    "To do this, open a new `bash` session, then:\n",
    "\n",
    "- **run the command `cd ~`:** (`~` is a shortcut for the `bash` home directory, so this makes the current `bash` directory your `bash` home directory.) \n",
    "- **run the command `touch .bash_profile`**: This will create a file called `.bash_profile` we can use later. \n",
    "\n"
   ]
  },
  {
   "cell_type": "markdown",
   "metadata": {},
   "source": [
    "## Upgrading to oh-my-posh.\n",
    "\n",
    "OK, so at this point you're in pretty solid shape. As you may have noticed, though, when you open a git bash terminal it's pretty ugly. Who needs to see MINGW64 all the time?\n",
    "\n",
    "So I'm going to recommend upgrading your shell a little. You don't have to do this, but I recommend it.\n",
    "\n",
    "1. Install [oh-my-posh](https://ohmyposh.dev/docs/installation/windows). The easiest way is to follow that link and click the \"Get it from Microsoft\" button to install through Windows store. \n",
    "2. Open a new terminal session in Windows Terminal. Run `oh-my-posh font install meslo`.\n",
    "3. Remember that configuration file we created above? We're gonna add some code to it. From git bash, type: `code ~/.bash_profile`. That should open an empty text file in VS Code. \n",
    "4. Paste the following in that empty file: `eval \"$(oh-my-posh init bash)\"` . Save and close. Almost there.\n",
    "5. Now we just have to active the nice font. \n",
    "   1. Open Windows Terminal. \n",
    "   2. Click on that down-arrow next to the `+` on the tab bar. \n",
    "   3. Select `Settings`. \n",
    "   4. Select `Git Bash` under profiles on the left.\n",
    "   5. Select `Appearance`.\n",
    "   6. Under \"Font face\", select \"MesloLGL Nerd Fond Mono.\"\n",
    "   7. Save.\n",
    "\n",
    "Now when you open a new terminal, it should look [like this default theme!](https://ohmyposh.dev/) But you can also change it up if [you want to any of these](https://ohmyposh.dev/docs/themes)!\n"
   ]
  }
 ],
 "metadata": {
  "kernelspec": {
   "display_name": "Bash",
   "language": "bash",
   "name": "bash"
  },
  "language_info": {
   "codemirror_mode": "shell",
   "file_extension": ".sh",
   "mimetype": "text/x-sh",
   "name": "bash"
  }
 },
 "nbformat": 4,
 "nbformat_minor": 4
}