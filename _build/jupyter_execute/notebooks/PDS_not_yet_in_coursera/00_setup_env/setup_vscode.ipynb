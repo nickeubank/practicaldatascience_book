{
 "cells": [
  {
   "cell_type": "markdown",
   "id": "bb6ba4d9",
   "metadata": {},
   "source": [
    "# Setting Up Visual Studio Code"
   ]
  },
  {
   "cell_type": "markdown",
   "id": "2dabc946",
   "metadata": {},
   "source": [
    "> This is written assuming you've already installed and setup Python using miniconda [as instructed here](setup_python.ipynb). If you haven't, please go do that now!"
   ]
  },
  {
   "cell_type": "markdown",
   "id": "2e8dc4f3",
   "metadata": {},
   "source": [
    "As noted in our previous reading, here in Duke MIDS we're converging on using VS Code in our courses as our \"preferred\" tool for editing and running code. That's not because we necessarily because we think it's \"the objectively best editor\"—what editor is best for an individual depends a lot on their own background, programming style, and work flow!— but rather because we think it's a good fit for most students. Moreover, by all supporting the same editor, we can help you get *really good* with VS Code—not everyone will agree VS Code is the best editor, but I think all data scientists will agree that getting really good with *an* editor is an important skill!\n",
    "\n",
    "So to see why we're using VS Code, [please start out by watching this video.](https://youtu.be/m5CmZzAc8Yk) It provides the reasons we chose VS Code, and what we think is exciting about it.\n",
    "\n",
    "## Installing VS Code\n",
    "\n",
    "VS Code is kinda stupid-easy to install — [just download it here](https://code.visualstudio.com/)! \n",
    "\n",
    "### Sign In\n",
    "\n",
    "One great feature of VS Code is that you can associate all of your configurations with your github account, which not only means that they are backed up but also that if you want to use in your browser or when working in the cloud computing, all your settings can be easily synced. To sign in, simply click the `Accounts` button (a little person in a circle) in the bottom right of VS Code and login with your github account:\n",
    "\n",
    "![Account Button](images/vscode_accounts_button.png)\n",
    "\n",
    "### On Mac: Install `code` on PATH\n",
    "\n",
    "Then, if you're on a Mac, we want to do one more important thing: set up your system so that if you type `code [filename]` on the command line, VS Code will open `[filename]` (this gets set up automatically with Windows, but requires a deliberate step on Macs):\n",
    "\n",
    "- In VS Code, type `Command-Shift-P`. This will cause the Command Palette—a text box that provides access to essentially all VS Code without use of a mouse—to open at the top of your open window. \n",
    "- Start typing `Shell Command: Install code command in PATH` and, when that option is selected, hit enter.\n",
    "- Wait for confirmation. "
   ]
  },
  {
   "cell_type": "markdown",
   "id": "1e4c5133",
   "metadata": {},
   "source": [
    "## Installing Python Extensions\n",
    "\n",
    "\n",
    "Because VS Code can be used in so many different ways by people working in so many different programming languages, the base application doesn't actually include any language-specific tools. For example, without extensions, an open Python file won't even have syntax highlighting (where different parts of your code are colored based on their functionality).\n",
    "\n",
    "Instead, most VS Code functionality comes from user installed *Extensions*. Over your career you will inevitably end up finding and adding many extensions, but for the moment we're just going to install a core set of Python extensions.\n",
    "\n",
    "To begin, click on the little `Extensions` button on the left side bar (four boxes, with the fourth slightly detached):\n",
    "\n",
    "![Extension Button](images/vscode_extension_button.png)\n",
    "\n",
    "Then we're going to install three things: \n",
    "\n",
    "1. The Python extension bundle from Microsoft (something like 100m installations), \n",
    "2. The Jupyter extension bundle from Microsoft, and \n",
    "3. The Black Formatter extension from Microsoft.\n",
    "\n",
    "Note that the first two will have a little green stacked-box icon in the top left, indicating these are actually extension bundles — when you install them you'll actually end up with a handful of installed individual extensions. \n",
    "\n",
    "The process should look something like this:\n",
    "\n",
    "![install python extensions gif](images/vscode_python_extensions.gif)\n",
    " "
   ]
  },
  {
   "cell_type": "markdown",
   "id": "430297f2",
   "metadata": {},
   "source": [
    "### Set Default Python Interpreter\n",
    "\n",
    "The way Python has been designed, it is actually possible to have as many different installations of Python co-existing on your computer as you'd like. This makes it possible to have installations of Python with different installed packages — a good way to avoid package conflicts — or installations of different versions of Python or packages — allowing you to test code compatibility.\n",
    "\n",
    "I would strongly recommend using the \"base\" version of Python you installed when you installed miniconda as your default interpreter. To activate this, type `Command-Shift-P` (Mac) or `Control-Shift-P` (Windows) and start typing `Python: Select Interpreter` until that text is selected, then type enter. Then select the version of Python in your `miniconda3` directory (it should say `conda` in grey on the left as well). Provided you're doing this after initially installing your Python extensions, VS Code will treat this as your *default* Python interpreter whenever new Python files are opened (you can also set this manually by directly adding the path to your conda install in the settings, as discussed below).\n",
    "\n",
    "![Set conda as default gif](images/vscode_python_miniconda_default.gif)\n"
   ]
  },
  {
   "cell_type": "markdown",
   "id": "20274926",
   "metadata": {},
   "source": [
    "## Managing Settings/Preferences in VS Code\n",
    "\n",
    "Settings in VS Code can be viewed in to different ways: in a nice graphical user interface with text descriptions of how various preferences work, and in a succinct JSON text-file where all user settings that differ from defaults are actually saved. \n",
    "\n",
    "**Preferences Graphical UI**\n",
    "\n",
    "The more graphical UI for settings can be reached using either the `Preferences: Open User Settings` or `Preferences: Open Settings (UI)` option in the Command Palette (they do the same thing). It presents a nice graphical user interface for modifying settings, complete with descriptions of what each setting does, and you can search through preferences using the text search box or by using the navigation headings on the left:\n",
    "\n",
    "![settings gui](images/vscode_settings_ui.png)\n",
    "\n",
    "**Preferences JSON File**\n",
    "\n",
    "Whenever you specify a preference that differs from the system default, VS Code writes that modification to a JSON-formatted text file (we'll talk more about the [JSON format in a latter reading](../class_3/week_3/00_plaintext_files.ipynb)). For example, if you look at your JSON file now, it will probably look something like this, containing only the settings you've modified so far since installing VS Code (namely: your color theme and the path to your default Python interpreter):\n",
    "\n",
    "![settings json file](images/vscode_settings_json.png)\n",
    "\n",
    "(Over time, this file will get far more complicated — my personal `settings.json` file is about 150 lines at the moment.)\n",
    "\n",
    "It's important to emphasize that these interfaces *are two sides of the same coin*, and over time you will want to become comfortable with both. The GUI interface is the place you go when you aren't sure what options are provided by an extension, or you aren't sure how an extension's preferences work, while other times you'll just want to make quick changes in the more succinct JSON file."
   ]
  },
  {
   "cell_type": "markdown",
   "id": "250744c5",
   "metadata": {},
   "source": [
    "## Recommended Initial Settings\n",
    "\n",
    "### Format on Save with Black Extension\n",
    "\n",
    "The first setting I'm going to recommend is to turn on \"Format on Save\" for your Python files. When active, any time you save your `.py` file, VS Code will run a program that formats your code so that it is consistent with a specific set of style guidelines. For example, suppose you have a file that looks like this—no spacing between operators, use of single quote quotation marks (`'`) when not required, and a function signature that's so long that it runs off the edge of your window. With format on save activated, as soon as you type `Command-S`, it will be restructured in a clean, deterministic fashion:\n",
    "\n",
    "![format on save gif](images/vscode_formatter_demonstration.gif)\n",
    "\n",
    "Why is this important? In short, because humans are really good at *visual pattern recognition*, and so the more that the *visual formatting* of our code reflects the *underlying logic it embodies*, the more likely we are to notice when we make mistakes (which are *inevitable* — a topic we'll return to in a [later reading](../20_programming_concepts/defensive_programming.ipynb)).\n",
    "\n",
    "So in particular, we are going to modify three settings:\n",
    "\n",
    "- Turn on `Editor: Format on Save`\n",
    "- Turn on `Notebook: Format on Save` (this ensures that Format on Save is also enabled for Jupyter Notebooks. If you don't know what those are, don't worry — we'll talk about them soon!)\n",
    "- Set the default formatter for Python to the Microsoft Black Formatter Extension. (VS Code doesn't *need* this extension to format files, but it formats files much faster than if you don't use the extension, so I strongly recommend using it.)\n",
    "\n",
    "![changing format settings gif](images/vscode_formatter_settings.gif)\n",
    "\n",
    "Once you're done, you may find it interesting to look at your `settings.json` file just to see how these settings have been recorded. It should look roughly like this:\n",
    "\n",
    "![settings JSON with formatter](images/vscode_settings_json_post_formatter.png)\n",
    "\n",
    "> What is \"Black\"? [Black](https://black.readthedocs.io/en/stable/) is an \"opinionated code formatter.\" As they say on their website \"By using Black, you agree to cede control over minutiae of hand-formatting. In return, Black gives you speed, determinism, and freedom from pycodestyle nagging about formatting. You will save time and mental energy for more important matters.\" It's become the standard for formatting Python code, not necessarily because everyone thinks the way it styles codes is \"the best,\" but rather because it's put an end to fights over code format that used to arise in every open-source project. The name for the package comes from a quotation from Henry Ford, who once said of the first mass produced automobile, the Model T, \"Any customer can have a car painted any color that he wants so long as it is black.\"\n"
   ]
  },
  {
   "cell_type": "markdown",
   "id": "480d6df9",
   "metadata": {},
   "source": [
    "> NOTE: as of September 2023, it seems there's bit of a bug in the formatter. If you see `Formatting with autopep8...` towards the lower left of the bottom VS Code status bar when you save your notebooks or Python files (after making these changes) try adding this line to your `settings.json`: \n",
    "\n",
    "```json\n",
    "   \"python.formatting.provider\": \"none\",\n",
    "```"
   ]
  },
  {
   "cell_type": "markdown",
   "id": "338abecc",
   "metadata": {},
   "source": [
    "## Set terminal.integrated.inheritEnv to False in VS Code\n",
    "\n",
    "In order to ensure that the integrated terminal in VS Code works properly with conda, we have to modify the `terminal.integrated.inheritEnv` setting. You can do this by searching that preference name in the Preference GUI and unchecking the relevant box, or you can add the following to the bottom of your `settings.json` file:\n",
    "\n",
    "```json\n",
    "    \"terminal.integrated.inheritEnv\": false,\n",
    "```\n",
    "\n",
    "Make sure you add a comma to the end of the preceding line, so it looks something like this:\n",
    "\n",
    "![inheritEnv](images/inheritEnv.png)\n",
    "\n",
    "\n",
    "If you ever fail to add this setting when using Python in VS Code, it will prompt you with this notification the next time you try and run Python code:\n",
    "\n",
    "![inheritenv_warning](images/inheritenv_warning.png) \n",
    "\n",
    "So if you see that notification make sure to select yes."
   ]
  },
  {
   "cell_type": "markdown",
   "id": "c71ebe33",
   "metadata": {},
   "source": [
    "## Run Some Python Code!\n",
    "\n",
    "Now that you have Python installed and VS Code setup, you're off to the races! When you open a Python file, you have two options for executing your code: \n",
    "\n",
    "**Open Python, Run File, Close Python**\n",
    "\n",
    "To have VS Code launch Python, run your current file, then close that session of Python, click the arrow in the top right, or right-click in your file, and under `Run Python` select `Run Python File in Terminal`:\n",
    "\n",
    "![run python file gif](images/vscode_run_file.gif)\n",
    "\n",
    "\n",
    "**Open Python, Run Selected Code, Leave Python Open**\n",
    "\n",
    "To have VS Code launch Python, run whatever code you currently have highlighted, and *leave the Python session open*, just highlight the code you want to run and then either:\n",
    "\n",
    "- right-click the highlighted code, and under `Run Python` select `Run Selection/Line in Python Terminal`, or\n",
    "- type `shift-enter`.\n",
    "\n",
    "You will see that after running code this way, the Python session stays open, and subsequent selections will run in that open session.\n",
    "\n",
    "\n",
    "![run python selection gif](images/vscode_run_selection.gif)\n",
    "\n",
    "> The `X` on the terminal will close the panel showing the terminal, but it does not kill the current Python session. To kill the open Python session, click the Trash Can icon."
   ]
  }
 ],
 "metadata": {
  "kernelspec": {
   "display_name": "Python 3.10.6 ('base')",
   "language": "python",
   "name": "python3"
  },
  "language_info": {
   "name": "python",
   "version": "3.10.6"
  },
  "vscode": {
   "interpreter": {
    "hash": "718fed28bf9f8c7851519acf2fb923cd655120b36de3b67253eeb0428bd33d2d"
   }
  }
 },
 "nbformat": 4,
 "nbformat_minor": 5
}