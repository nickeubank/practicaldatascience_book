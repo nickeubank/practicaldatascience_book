{
 "cells": [
  {
   "cell_type": "markdown",
   "metadata": {},
   "source": [
    "# So You Want To Get Involved In Research?\n",
    "\n",
    "Whether you're interested in research just because you think it's cool, or because you're trying to set yourself up for a PhD (more on [PhDs here](PhD_Advice.ipynb)), here are some suggestions on how to find opportunities at a university like Duke."
   ]
  },
  {
   "cell_type": "markdown",
   "metadata": {},
   "source": [
    "## Working with a faculty member\n",
    "\n",
    "One of the best ways to get research experience is to begin by volunteering with a faculty member’s research group. This is an act of relationship building: at the beginning, the faculty member will not know you, and you will not (really) know them. That means there needs to be a bidirectional development of trust: trust that you will meaningfully give your effort to the work, show up prepared for discussions, and give your best to the team; and trust that they will give you the facetime, resources, and mentorship you need to succeed.\n",
    "\n",
    "As mentioned above, consider reaching out to a faculty member whose research is in the field you are interested in and that has adequate bandwidth to provide mentorship for you. If you’re able to connect with the faculty member at a talk or another event, take the opportunity to meet them face-to-face. If you don’t encounter them regularly, try sending a **personalized** email. In that email express interest in specific work they’re doing and ask if they are looking for students to assist in their research. Keep it short, polite, and demonstrate a willingness to engage however you may be able to help. Remember, faculty members get these kinds of requests all the time and get hundreds of emails on a daily basis—they don’t always have time to respond. If you don’t hear back, wait a week and try sending a polite follow-up note. If you don’t hear back - try not to take it personally since that faculty member likely doesn’t have time to engage and, therefore, likely wouldn’t have time to mentor you.\n",
    "\n",
    "Another important consideration is that we rarely get to start by working on the “state-of-the-art” component of the work, but instead, we have to work to get there. Approach the relationship from the perspective of wanting to make a genuine contribution to their lab. This may mean that you do not initially get to work on the development of most challenging component of the research that their graduate students have devoted the past 3 years to; it may mean starting with a few simple tasks that show your commitment to the work and the team to build the trust you will both need to become more deeply involved in their work (perhaps leading to an independent study and/or coauthorship on a paper, for example).\n",
    "\n",
    "## Research experience through curricular programs\n",
    "\n",
    "At Duke, there are a number of programs that feature research opportunities, such as Bass Connections and Data+. Not every project is going to give you that experience, but some of them will, and could be good alternatives if direct faculty outreach is not yielding research opportunities.\n",
    "\n",
    "## Independent Studies\n",
    "\n",
    "Finally, if you and a few of your fellow students really want to dive into something, you may be able to approach a professor as a group and propose an Independent Study class. You won't get paid for doing an independent study the way you would get paid for being a Research Assistant (doing an RAship), but it can allow you to maintain your full-time enrollment status while putting more time into a research experience. In some cases, you may even be able to get it counted as an elective, but be sure to talk to program staff about that possibility."
   ]
  }
 ],
 "metadata": {
  "language_info": {
   "name": "python"
  }
 },
 "nbformat": 4,
 "nbformat_minor": 2
}