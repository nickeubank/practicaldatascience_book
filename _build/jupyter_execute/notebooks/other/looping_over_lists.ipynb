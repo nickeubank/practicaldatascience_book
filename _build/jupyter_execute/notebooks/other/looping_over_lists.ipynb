{
 "cells": [
  {
   "cell_type": "markdown",
   "id": "e6ff29ec",
   "metadata": {},
   "source": [
    "# Looping Over Lists in Python\n",
    "\n",
    "When students new to Python are first introduced to lists, a fair amount of chaos tends to ensue when they try to loop over lists. This is understandable, as Python offers to very different paradigms for looping that are easy to get mixed up.\n",
    "\n",
    "In this reading, we discuss these two paradigms, when you might want to use one or the other, and common pitfalls."
   ]
  },
  {
   "cell_type": "markdown",
   "id": "93aab93c",
   "metadata": {},
   "source": [
    "## Iterators\n",
    "\n",
    "In its effort to be concise and readable, many collections in Python — like lists — understand that they may be asked to iterate over their contents one item at a time. To do so, one need only put them in a for loop after `in`, as follows:"
   ]
  },
  {
   "cell_type": "code",
   "execution_count": 1,
   "id": "cbe9f88a",
   "metadata": {},
   "outputs": [
    {
     "name": "stdout",
     "output_type": "stream",
     "text": [
      "42\n",
      "-3\n",
      "Apple\n"
     ]
    }
   ],
   "source": [
    "my_list = [42, -3, \"Apple\"]\n",
    "for i in my_list:\n",
    "    print(i)"
   ]
  },
  {
   "cell_type": "markdown",
   "id": "392353cf",
   "metadata": {},
   "source": [
    "This syntax is nice because you don't have to worry about the length of the list or keeping track of which entry is which — Python will just feed you the entries of `my_list` one at a time.\n",
    "\n",
    "But it is not the only way to loop."
   ]
  },
  {
   "cell_type": "markdown",
   "id": "8562af0f",
   "metadata": {},
   "source": [
    "## Looping through Indices\n",
    "\n",
    "The other common method of looping through a list is to create a loop that iterates over the indices of the list using `range()`. In this case, your loop variable (the `i` in `for i in...`, or the `x` in `for x in...`) takes on integers one at a time:"
   ]
  },
  {
   "cell_type": "code",
   "execution_count": 2,
   "id": "26a5912b",
   "metadata": {},
   "outputs": [
    {
     "name": "stdout",
     "output_type": "stream",
     "text": [
      "0\n",
      "1\n",
      "2\n"
     ]
    }
   ],
   "source": [
    "for i in range(3):\n",
    "    print(i)"
   ]
  },
  {
   "cell_type": "markdown",
   "id": "b64552dd",
   "metadata": {},
   "source": [
    "We can then use these integers to extract entries from our list using `[]` notation:"
   ]
  },
  {
   "cell_type": "code",
   "execution_count": 3,
   "id": "2c5848cd",
   "metadata": {},
   "outputs": [
    {
     "name": "stdout",
     "output_type": "stream",
     "text": [
      "42\n",
      "-3\n",
      "Apple\n"
     ]
    }
   ],
   "source": [
    "for i in range(3):\n",
    "    print(my_list[i])"
   ]
  },
  {
   "cell_type": "markdown",
   "id": "178d06fb",
   "metadata": {},
   "source": [
    "Now, commonly, if you plan to loop over items in a list, you will not type a number into `range()` but rather put in `range(len(my_list))`:"
   ]
  },
  {
   "cell_type": "code",
   "execution_count": 4,
   "id": "7b19199d",
   "metadata": {},
   "outputs": [
    {
     "name": "stdout",
     "output_type": "stream",
     "text": [
      "42\n",
      "-3\n",
      "Apple\n"
     ]
    }
   ],
   "source": [
    "for i in range(len(my_list)):\n",
    "    print(my_list[i])"
   ]
  },
  {
   "cell_type": "markdown",
   "id": "0b5a6c9b",
   "metadata": {},
   "source": [
    "As you can see, either of these will allow you to iterate over the contents of a list. The first syntax (`for i in my_list:`) is a little more concise, but it *just* returns the contents of your list. If you think you might want to keep track of which item you're working with, though, then you're more likely to want to use the `range()` syntax. For example, if I wanted to print my progress, it's easier with the `for i in range(len(my_list)):` syntax: "
   ]
  },
  {
   "cell_type": "code",
   "execution_count": 5,
   "id": "91771b2c",
   "metadata": {},
   "outputs": [
    {
     "name": "stdout",
     "output_type": "stream",
     "text": [
      "The 0 item of my list is 42\n",
      "The 1 item of my list is -3\n",
      "The 2 item of my list is Apple\n"
     ]
    }
   ],
   "source": [
    "for i in range(len(my_list)):\n",
    "    print(f\"The {i} item of my list is {my_list[i]}\")"
   ]
  },
  {
   "cell_type": "markdown",
   "id": "8a389fea",
   "metadata": {},
   "source": [
    "## How `range()` Works\n",
    "\n",
    "It's worth pausing for a moment to make sure we're all clear on how `range()` operates. Otherwise, `range(len(my_list))` can seem like a magical incantation. \n",
    "\n",
    "Basically, `range()` is just a tool to automate counting between two numbers.\n",
    "\n",
    "If you only pass one argument to `range()` (e.g., `range(3)`), then it will start at 0 and count up to (but won't include) the number given:"
   ]
  },
  {
   "cell_type": "code",
   "execution_count": 6,
   "id": "9cf77d24",
   "metadata": {},
   "outputs": [
    {
     "name": "stdout",
     "output_type": "stream",
     "text": [
      "0\n",
      "1\n",
      "2\n"
     ]
    }
   ],
   "source": [
    "for i in range(3):\n",
    "    print(i)"
   ]
  },
  {
   "cell_type": "markdown",
   "id": "87f85f9b",
   "metadata": {},
   "source": [
    "> Note that because you are starting with zero, you get three items if your write `range(3)`, five if you write `range(5)`, etc., even though `range()` won't return the actual number 3 or 5. "
   ]
  },
  {
   "cell_type": "markdown",
   "id": "4069e108",
   "metadata": {},
   "source": [
    "If you pass two arguments, then it will start at the first argument given (instead of starting at 0) and count up to (but won't return) the second argumetn:"
   ]
  },
  {
   "cell_type": "code",
   "execution_count": 7,
   "id": "bb333ac2",
   "metadata": {},
   "outputs": [
    {
     "name": "stdout",
     "output_type": "stream",
     "text": [
      "1\n",
      "2\n",
      "3\n"
     ]
    }
   ],
   "source": [
    "for i in range(1, 4):\n",
    "    print(i)"
   ]
  },
  {
   "cell_type": "markdown",
   "id": "d66868aa",
   "metadata": {},
   "source": [
    "And that's why we pass `len(my_list)` to `range()` — range wants to know what to count up to, and if our list has 10 entries, we want it to count up to `len(my_list)` which is `10`."
   ]
  },
  {
   "cell_type": "markdown",
   "id": "65dd2775",
   "metadata": {},
   "source": [
    "### range() is an iterator\n",
    "\n",
    "OK, now to come full circle. As I mentioned above, many things in Python — like lists — understand how to return their contents one item at a time when placed in a for loop. Well, when we write `for i in range(5):`, we're actually making use of that functionality! It's just that instead of asking a list to give us its contents one at a time, we're asking `range()` to give us its contents one at a time! Those contents just happen to be sequential integers. \n"
   ]
  }
 ],
 "metadata": {
  "kernelspec": {
   "display_name": "base",
   "language": "python",
   "name": "python3"
  },
  "language_info": {
   "codemirror_mode": {
    "name": "ipython",
    "version": 3
   },
   "file_extension": ".py",
   "mimetype": "text/x-python",
   "name": "python",
   "nbconvert_exporter": "python",
   "pygments_lexer": "ipython3",
   "version": "3.12.8"
  }
 },
 "nbformat": 4,
 "nbformat_minor": 5
}