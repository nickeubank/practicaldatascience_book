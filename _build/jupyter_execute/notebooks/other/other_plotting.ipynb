{
 "cells": [
  {
   "cell_type": "markdown",
   "metadata": {},
   "source": [
    "The most common way that data scientists translate the outputs from an analysis that they coded into something human-interpretable, that can present evidence clearly, tell a story based on data, and potentially compel a stakeholder into action, is through the use of plotting data.\n",
    "\n",
    "## Why not just use Excel or Tableau?\n",
    "\n",
    "First of all, why don't we just generate the data that we need then plot it in Excel or Tableau or something similar? You certainly can do that. However, plots created with code greatly decrease the time it takes to reproduce that plot, even if the underlying data change or adjustments need to be changed to the text and style content of the plot. This is great for sharing with others (or your future self). Beyond reproducibility, there is a great deal of customization possible with plotting using Python that is not always possible in Excel or Tableau - combining plot types, adding custom annotations, and tweaking each and every aspect of the plot regarding color, style, size, and more. Lastly, using Python tools does not rely on any proprietary tools."
   ]
  },
  {
   "cell_type": "markdown",
   "metadata": {},
   "source": []
  }
 ],
 "metadata": {
  "language_info": {
   "name": "python"
  }
 },
 "nbformat": 4,
 "nbformat_minor": 2
}