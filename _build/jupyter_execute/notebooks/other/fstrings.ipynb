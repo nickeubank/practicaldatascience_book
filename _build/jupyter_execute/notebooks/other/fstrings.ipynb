{
 "cells": [
  {
   "cell_type": "markdown",
   "metadata": {},
   "source": [
    "# Combining numbers and text into strings: f-strings\n",
    "\n",
    "We frequently need to combine numbers and text: legends and titles on plots, formatting the output from a model that summarizes the findings in a human-readable manner, etc. If we have a variable, let's say, `number_of_apples` and `number_of_pears` and we want to print out a sentence that says how many apples and pears we have, we need a way to combine a string and a number to say something like \"I have 42 apples and 24 pears\". There are a few approaches to doing this programmatically.\n",
    "\n",
    "Our first thought may be to use the `+` operator, knowing that it can concatenate strings together and convert any numbers to strings along the way. For example, for our apples and pears example, we may approach that as follows:"
   ]
  },
  {
   "cell_type": "code",
   "execution_count": 1,
   "metadata": {},
   "outputs": [],
   "source": [
    "number_of_apples = 42\n",
    "number_of_pears = 24"
   ]
  },
  {
   "cell_type": "code",
   "execution_count": 2,
   "metadata": {},
   "outputs": [
    {
     "data": {
      "text/plain": [
       "'I have 42 apples and 24 pears'"
      ]
     },
     "execution_count": 2,
     "metadata": {},
     "output_type": "execute_result"
    }
   ],
   "source": [
    "our_string = \"I have \" + str(number_of_apples) + \" apples and \" + str(number_of_pears) + \" pears\"\n",
    "our_string"
   ]
  },
  {
   "cell_type": "markdown",
   "metadata": {},
   "source": [
    "Using all of these plusses and separated strings can get very messy. There's a much simpler way to do this with format strings and f-strings. Format strings apply the `format` method to a string and replaces the blanks in the string (defined with brackets `{}`) with the corresponding argument to the format method. Let's demonstrate this by repeating the above example using a format string:"
   ]
  },
  {
   "cell_type": "code",
   "execution_count": 3,
   "metadata": {},
   "outputs": [
    {
     "data": {
      "text/plain": [
       "'I have 42 apples and 24 pears'"
      ]
     },
     "execution_count": 3,
     "metadata": {},
     "output_type": "execute_result"
    }
   ],
   "source": [
    "our_string = \"I have {} apples and {} pears\".format(number_of_apples, number_of_pears)\n",
    "our_string"
   ]
  },
  {
   "cell_type": "markdown",
   "metadata": {},
   "source": [
    "This is nice since it automatically converts the numbers to strings without the need for the `str()` function. While you may see this `format` method from time-to-time, the preferred way of doing this now is through f-strings, which are the easiest of all to use. With f-strings, you simple append the letter `f` before your string and fill in the brackets with the variable you want inserted - very simple. Let's redo the above example with f-strings:"
   ]
  },
  {
   "cell_type": "code",
   "execution_count": 4,
   "metadata": {},
   "outputs": [
    {
     "data": {
      "text/plain": [
       "'I have 42 apples and 24 pears'"
      ]
     },
     "execution_count": 4,
     "metadata": {},
     "output_type": "execute_result"
    }
   ],
   "source": [
    "our_string = f\"I have {number_of_apples} apples and {number_of_pears} pears\"\n",
    "our_string"
   ]
  },
  {
   "cell_type": "markdown",
   "metadata": {},
   "source": [
    "You're not limited to putting in integers into the string, here's an example mixing different types of data into one string:"
   ]
  },
  {
   "cell_type": "code",
   "execution_count": 5,
   "metadata": {},
   "outputs": [
    {
     "data": {
      "text/plain": [
       "'My name is Arwen, I am 28 years old, and my favorite fraction is 0.3333333333333333'"
      ]
     },
     "execution_count": 5,
     "metadata": {},
     "output_type": "execute_result"
    }
   ],
   "source": [
    "name = 'Arwen'\n",
    "age = 28\n",
    "favorite_fraction = 1/3\n",
    "our_string = f'My name is {name}, I am {age} years old, and my favorite fraction is {favorite_fraction}'\n",
    "our_string"
   ]
  },
  {
   "cell_type": "markdown",
   "metadata": {},
   "source": [
    "We were able to easily mix data types and combine them in a string. However, we can see that the fraction shows a lot of digits: far more than is necessary. This brings us to another feature of these strings: our ability to control the formatting of the output including the precision of the number of digits. To do this, we can add add a colon `:` after our variable with a number formatting code. For example, let's say we only wanted 2 digits after the decimal. We could tell the f-string to do so with the `.3f` code which says to use 3 points after the decimal and represent it as a floating point number. Let's see that in action:"
   ]
  },
  {
   "cell_type": "code",
   "execution_count": 6,
   "metadata": {},
   "outputs": [
    {
     "data": {
      "text/plain": [
       "'My name is Arwen, I am 28 years old, and my favorite fraction is 0.333'"
      ]
     },
     "execution_count": 6,
     "metadata": {},
     "output_type": "execute_result"
    }
   ],
   "source": [
    "our_string = f'My name is {name}, I am {age} years old, and my favorite fraction is {favorite_fraction:.3f}'\n",
    "our_string"
   ]
  },
  {
   "cell_type": "markdown",
   "metadata": {},
   "source": [
    "Perhaps we want to be extremely precise with age and include 2 decimal places. We can use the same approach and use the fomatting code: `:.2f` as shown:"
   ]
  },
  {
   "cell_type": "code",
   "execution_count": 7,
   "metadata": {},
   "outputs": [
    {
     "data": {
      "text/plain": [
       "'My name is Arwen, I am 28.00 years old, and my favorite fraction is 0.333'"
      ]
     },
     "execution_count": 7,
     "metadata": {},
     "output_type": "execute_result"
    }
   ],
   "source": [
    "our_string = f'My name is {name}, I am {age:.2f} years old, and my favorite fraction is {favorite_fraction:.3f}'\n",
    "our_string"
   ]
  },
  {
   "cell_type": "markdown",
   "metadata": {},
   "source": [
    "We could even add in a newline character `\\n`. This `\\n` character is known as an escaped character, which, when printed, breaks the string content into a two lines as shown in the example below:\n"
   ]
  },
  {
   "cell_type": "code",
   "execution_count": 8,
   "metadata": {},
   "outputs": [
    {
     "name": "stdout",
     "output_type": "stream",
     "text": [
      "My name is Arwen, I am 28.00 years old,\n",
      "and my favorite fraction is 0.333\n"
     ]
    }
   ],
   "source": [
    "our_string = f'My name is {name}, I am {age:.2f} years old,\\nand my favorite fraction is {favorite_fraction:.3f}'\n",
    "print(our_string)"
   ]
  },
  {
   "cell_type": "markdown",
   "metadata": {},
   "source": [
    "Sometimes we want to specify the width of our string. Let's say we were printing numbers as we counted from 1 to 20. We could easily do this with a f-string as follows:"
   ]
  },
  {
   "cell_type": "code",
   "execution_count": 9,
   "metadata": {},
   "outputs": [
    {
     "name": "stdout",
     "output_type": "stream",
     "text": [
      "1\n",
      "2\n",
      "3\n",
      "4\n",
      "5\n",
      "6\n",
      "7\n",
      "8\n",
      "9\n",
      "10\n",
      "11\n",
      "12\n",
      "13\n",
      "14\n",
      "15\n",
      "16\n",
      "17\n",
      "18\n",
      "19\n",
      "20\n"
     ]
    }
   ],
   "source": [
    "for i in range(20):\n",
    "    print(f'{i+1}')"
   ]
  },
  {
   "cell_type": "markdown",
   "metadata": {},
   "source": [
    "Since it's a decimal integer instead of a floating point integer, we can use the `:d` format string to indicate that (the output will be the same in this case, but it specifies how to represent the string):"
   ]
  },
  {
   "cell_type": "code",
   "execution_count": 10,
   "metadata": {},
   "outputs": [
    {
     "name": "stdout",
     "output_type": "stream",
     "text": [
      "1\n",
      "2\n",
      "3\n",
      "4\n",
      "5\n",
      "6\n",
      "7\n",
      "8\n",
      "9\n",
      "10\n",
      "11\n",
      "12\n",
      "13\n",
      "14\n",
      "15\n",
      "16\n",
      "17\n",
      "18\n",
      "19\n",
      "20\n"
     ]
    }
   ],
   "source": [
    "for i in range(20):\n",
    "    print(f'{i+1:d}')"
   ]
  },
  {
   "cell_type": "markdown",
   "metadata": {},
   "source": [
    "However, what if we wanted the numbers all be the same width REGARDLESS of whether they had one digit or two? In that case, we can fix the WIDTH of the string by specifying how many digits should be included. Let's say we wanted 3 digits (so this could count up to 100 and remain right-justified):"
   ]
  },
  {
   "cell_type": "code",
   "execution_count": 11,
   "metadata": {},
   "outputs": [
    {
     "name": "stdout",
     "output_type": "stream",
     "text": [
      "  1\n",
      "  2\n",
      "  3\n",
      "  4\n",
      "  5\n",
      "  6\n",
      "  7\n",
      "  8\n",
      "  9\n",
      " 10\n",
      " 11\n",
      " 12\n",
      " 13\n",
      " 14\n",
      " 15\n",
      " 16\n",
      " 17\n",
      " 18\n",
      " 19\n",
      " 20\n"
     ]
    }
   ],
   "source": [
    "for i in range(20):\n",
    "    print(f'{i+1:3d}')"
   ]
  },
  {
   "cell_type": "markdown",
   "metadata": {},
   "source": [
    "This becomes even more obvious if we replace the empty spaces that the come before the numbers with zeros. To do so, we just change our format string from `:3d` to `:03d` and voila:"
   ]
  },
  {
   "cell_type": "code",
   "execution_count": 12,
   "metadata": {},
   "outputs": [
    {
     "name": "stdout",
     "output_type": "stream",
     "text": [
      "000\n",
      "001\n",
      "002\n",
      "003\n",
      "004\n",
      "005\n",
      "006\n",
      "007\n",
      "008\n",
      "009\n",
      "010\n",
      "011\n",
      "012\n",
      "013\n",
      "014\n",
      "015\n",
      "016\n",
      "017\n",
      "018\n",
      "019\n"
     ]
    }
   ],
   "source": [
    "for i in range(20):\n",
    "    print(f'{i:03d}')"
   ]
  },
  {
   "cell_type": "markdown",
   "metadata": {},
   "source": [
    "To summarize, here is a figure that captures some of the key topics we discussed with respect to f-strings and then compares it to the equivalent for format strings to see side-by-side the differences. As a rule: USE F-STRINGS INSTEAD OF FORMAT STRINGS! They're easier to code, easier to read, and are the preferred approach to string formatting."
   ]
  },
  {
   "cell_type": "markdown",
   "metadata": {},
   "source": [
    "![f-string](img/1.f-string.png)"
   ]
  },
  {
   "cell_type": "markdown",
   "metadata": {},
   "source": [
    "And for comparison when you encounter it, format strings:"
   ]
  },
  {
   "cell_type": "markdown",
   "metadata": {},
   "source": [
    "![format-string](img/1.format-string.png)"
   ]
  },
  {
   "cell_type": "markdown",
   "metadata": {},
   "source": [
    "## Recap\n",
    "- f-strings and format strings are ways of combining variables of different types (most commonly integers, floating point numbers, and strings) into a single string\n",
    "- These tools are commonly used for creating figure titles and legends, command-line output, and for summarizing data in a human-readable way\n",
    "- We recommend that you use f-strings for their convenience of use, legibility, and current adoption by the wider community"
   ]
  }
 ],
 "metadata": {
  "interpreter": {
   "hash": "b9e56a7b23b1fac2eea1a993b805ed5c611aea1439c1f46315b23590ab6d3ba0"
  },
  "kernelspec": {
   "display_name": "Python 3.10.2 ('ds')",
   "language": "python",
   "name": "python3"
  },
  "language_info": {
   "codemirror_mode": {
    "name": "ipython",
    "version": 3
   },
   "file_extension": ".py",
   "mimetype": "text/x-python",
   "name": "python",
   "nbconvert_exporter": "python",
   "pygments_lexer": "ipython3",
   "version": "3.10.2"
  }
 },
 "nbformat": 4,
 "nbformat_minor": 2
}