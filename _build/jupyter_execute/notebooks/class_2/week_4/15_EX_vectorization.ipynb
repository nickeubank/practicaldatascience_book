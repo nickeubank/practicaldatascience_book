{
 "cells": [
  {
   "cell_type": "markdown",
   "metadata": {},
   "source": [
    "# Exercise: Speeding up matrix operations\n",
    "\n",
    "We just explored how to vectorize some simple array operations and the speed and syntactic benefits of doing so. Let's explore a related, but more challenging process: 2D matrix operations. Say that we have two matrices, $A$ and $B$ and we want to create a new matrix $C = A - B$ that is the element-wise difference between matrices $A$ and $B$. \n",
    "\n",
    "Let's assume these are all square matrices, so the number of rows equals the number of columns, and we'll call that value $N$. This implies the matrices are all the same general shape of $N \\times N$:\n",
    "$$ A = \\begin{bmatrix}\n",
    "a_{0,0} & a_{1,0} & \\cdots & a_{0,N}\\\\\n",
    "a_{1,0} & a_{1,1} & \\cdots & a_{1,N}\\\\\n",
    "\\vdots & \\vdots & \\ddots & \\vdots\\\\\n",
    "a_{N,0} & a_{N,0} & \\cdots & a_{N,N}\n",
    "\\end{bmatrix}$$ \n",
    "\n",
    "$$ B = \\begin{bmatrix}\n",
    "b_{0,0} & b_{1,0} & \\cdots & b_{0,N}\\\\\n",
    "b_{1,0} & b_{1,1} & \\cdots & b_{1,N}\\\\\n",
    "\\vdots & \\vdots & \\ddots & \\vdots\\\\\n",
    "b_{N,0} & b_{N,0} & \\cdots & b_{N,N}\n",
    "\\end{bmatrix}$$\n",
    "\n",
    "$$ C = \\begin{bmatrix}\n",
    "c_{0,0} & c_{1,0} & \\cdots & c_{0,N}\\\\\n",
    "c_{1,0} & c_{1,1} & \\cdots & c_{1,N}\\\\\n",
    "\\vdots & \\vdots & \\ddots & \\vdots\\\\\n",
    "c_{N,0} & c_{N,0} & \\cdots & c_{N,N}\n",
    "\\end{bmatrix}$$\n",
    "\n",
    "where $c_{i,j} = a_{i,j} - b_{i,j}$\n",
    "\n",
    "Create matrices A and B by running the code below. In this case, $N = 1,000$ so there are 1 million elements in each matrix."
   ]
  },
  {
   "cell_type": "code",
   "execution_count": 1,
   "metadata": {},
   "outputs": [],
   "source": [
    "import numpy as np\n",
    "np.random.seed(88) # Set this random seed so the matrices will not change between runs\n",
    "N = 1000\n",
    "A = np.random.rand(N,N) # This creates an N x N matrix\n",
    "B = np.random.rand(N,N)"
   ]
  },
  {
   "cell_type": "markdown",
   "metadata": {},
   "source": [
    "2.  Create a function `diff_nonvectorized` that uses loops rather than vectorization to compute matrix $C$. You will need to use nested `for` loops for this solution"
   ]
  },
  {
   "cell_type": "code",
   "execution_count": 9,
   "metadata": {},
   "outputs": [],
   "source": [
    "def diff_nonvectorized(A,B):\n",
    "    C = np.zeros(A.shape)\n",
    "    for i in range(A.shape[0]):\n",
    "        for j in range(A.shape[1]):\n",
    "            C[i,j] = A[i,j] - B[i,j]\n",
    "    return C"
   ]
  },
  {
   "cell_type": "markdown",
   "metadata": {},
   "source": [
    "3. Next, create a function `diff_vectorized` that uses vectorization rather than loops to compute matrix $C$."
   ]
  },
  {
   "cell_type": "code",
   "execution_count": 10,
   "metadata": {},
   "outputs": [],
   "source": [
    "def diff_vectorized(A,B):\n",
    "    return A - B"
   ]
  },
  {
   "cell_type": "markdown",
   "metadata": {},
   "source": [
    "4. Always test your code before applying it. Let's apply it to a toy example below with `A_toy` and `B_toy` so that we can calculate the output by hand and verify the result. If correct, your function should return a 2x2 matrix with all 1's."
   ]
  },
  {
   "cell_type": "code",
   "execution_count": 11,
   "metadata": {},
   "outputs": [],
   "source": [
    "A_toy = np.array([[2,3],[4,5]])\n",
    "B_toy = np.array([[1,2],[3,4]])"
   ]
  },
  {
   "cell_type": "code",
   "execution_count": 12,
   "metadata": {},
   "outputs": [
    {
     "data": {
      "text/plain": [
       "array([[1., 1.],\n",
       "       [1., 1.]])"
      ]
     },
     "execution_count": 12,
     "metadata": {},
     "output_type": "execute_result"
    }
   ],
   "source": [
    "diff_nonvectorized(A_toy,B_toy)"
   ]
  },
  {
   "cell_type": "code",
   "execution_count": 13,
   "metadata": {},
   "outputs": [
    {
     "data": {
      "text/plain": [
       "array([[1, 1],\n",
       "       [1, 1]])"
      ]
     },
     "execution_count": 13,
     "metadata": {},
     "output_type": "execute_result"
    }
   ],
   "source": [
    "diff_vectorized(A_toy,B_toy)"
   ]
  },
  {
   "cell_type": "markdown",
   "metadata": {},
   "source": [
    "5. With the functions working, let's compare their speed. Apply each function to the actual data `A` and `B` and time the run, averaged over 5 runs. Below is the timing function from the last lesson to use for this exercise (adapted slightly to allow for two function arguments):"
   ]
  },
  {
   "cell_type": "code",
   "execution_count": 14,
   "metadata": {},
   "outputs": [],
   "source": [
    "import time\n",
    "\n",
    "def timer(function,argument1,argument2,num_runs):\n",
    "    total_time = 0\n",
    "    # Rerun the code num_runs times\n",
    "    for i in range(num_runs): \n",
    "        t0 = time.time() # Capture the initial time\n",
    "        function(argument1,argument2) # Run the function we're timing\n",
    "        t1 = time.time() # Capture the final time\n",
    "        total_time += t1-t0\n",
    "    return total_time / num_runs # Return the average across the runs"
   ]
  },
  {
   "cell_type": "code",
   "execution_count": 17,
   "metadata": {},
   "outputs": [
    {
     "name": "stdout",
     "output_type": "stream",
     "text": [
      "Nonvectorized code took  0.34731359481811525 s\n",
      "Vectorized code took     0.0004314899444580078 s\n",
      "Vectorized code was  804.9170074041331  times faster\n"
     ]
    }
   ],
   "source": [
    "num_runs = 5\n",
    "\n",
    "time_nonvectorized = timer(diff_nonvectorized,A,B,num_runs)\n",
    "time_vectorized = timer(diff_vectorized,A,B,num_runs)\n",
    "\n",
    "print('Nonvectorized code took ',time_nonvectorized, 's')\n",
    "print('Vectorized code took    ',time_vectorized, 's')\n",
    "print('Vectorized code was ', time_nonvectorized/time_vectorized ,' times faster')"
   ]
  },
  {
   "cell_type": "markdown",
   "metadata": {},
   "source": [
    "6. How much was the change in execution speed? How much coding was required for the vectorized versus the non-vectorized solution?"
   ]
  }
 ],
 "metadata": {
  "interpreter": {
   "hash": "a8f7447a67778e188a9289d5afd8f46b343fa90d5cd10b8a7763899ed796f96a"
  },
  "kernelspec": {
   "display_name": "Python 3.9.6 64-bit ('ds': conda)",
   "language": "python",
   "name": "python3"
  },
  "language_info": {
   "codemirror_mode": {
    "name": "ipython",
    "version": 3
   },
   "file_extension": ".py",
   "mimetype": "text/x-python",
   "name": "python",
   "nbconvert_exporter": "python",
   "pygments_lexer": "ipython3",
   "version": "3.9.6"
  }
 },
 "nbformat": 4,
 "nbformat_minor": 2
}