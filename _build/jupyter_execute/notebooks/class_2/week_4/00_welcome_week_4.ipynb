{
 "cells": [
  {
   "attachments": {},
   "cell_type": "markdown",
   "metadata": {},
   "source": [
    "# Welcome to Week 4!"
   ]
  },
  {
   "attachments": {},
   "cell_type": "markdown",
   "metadata": {},
   "source": [
    "Welcome to Week 4!\n",
    "\n",
    "In Week 3, we explored how to move from working with 1-dimensional arrays to working with 2-dimensional arrays, or matrices. This week, we'll discuss what to do when we have matrices (or other arrays, 1-D or 3-D for example) that we want to summarize and how that can be used in practice, for example, getting averages, minima, maxima of a set of data, and in converting color images to grayscale. As we wrap up our discussion of manipulating and summarizing arrays from the past few weeks, we also take a moment this week to discuss two other important related topics: vectorization and randomization. \n",
    "\n",
    "We've discussed the benefits of using Numpy rather than Python lists due to Numpy's computational performance improvements. These speed improvements are the result of using Numpy arrays. If we use loops instead, we may lose some of those performance benefits. This week we'll explore when and how to vectorize code and get a sense of how significant that performance improvement may be. Lastly, randomization is a common task in data science as we are often selecting random samples from a list or generating random matrices that can be used as starting points for estimation algorithms. This week we'll explore computational tools that we can use to generate random numbers.\n",
    "\n",
    "Let's jump in!"
   ]
  }
 ],
 "metadata": {
  "kernelspec": {
   "display_name": "base",
   "language": "python",
   "name": "python3"
  },
  "language_info": {
   "codemirror_mode": {
    "name": "ipython",
    "version": 3
   },
   "file_extension": ".py",
   "mimetype": "text/x-python",
   "name": "python",
   "nbconvert_exporter": "python",
   "pygments_lexer": "ipython3",
   "version": "3.6.5"
  },
  "varInspector": {
   "cols": {
    "lenName": 16,
    "lenType": 16,
    "lenVar": 40
   },
   "kernels_config": {
    "python": {
     "delete_cmd_postfix": "",
     "delete_cmd_prefix": "del ",
     "library": "var_list.py",
     "varRefreshCmd": "print(var_dic_list())"
    },
    "r": {
     "delete_cmd_postfix": ") ",
     "delete_cmd_prefix": "rm(",
     "library": "var_list.r",
     "varRefreshCmd": "cat(var_dic_list()) "
    }
   },
   "types_to_exclude": [
    "module",
    "function",
    "builtin_function_or_method",
    "instance",
    "_Feature"
   ],
   "window_display": false
  },
  "vscode": {
   "interpreter": {
    "hash": "f54e0b9f92ceb50229b3b7ea26b5d02f05ce8845dd8d997c014a0efede4c9c20"
   }
  }
 },
 "nbformat": 4,
 "nbformat_minor": 2
}