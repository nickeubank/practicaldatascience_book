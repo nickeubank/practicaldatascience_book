{
 "cells": [
  {
   "cell_type": "markdown",
   "metadata": {},
   "source": [
    "# Week 2 Numpy Re-cap Exercises\n",
    "\n",
    "\n",
    "**Note**: \n",
    "\n",
    "> This exercise has been written out in something called a Jupyter Notebook. We'll discuss Jupyter Notebooks in more detail later in the course—they are very a powerful tool for data science communication!—but for the time being, the notebook is just a convenient way for us to write out the exercise. You don't need to *do* anything with the notebook except read its contents—just use write your Python code in a regular `.py` file."
   ]
  },
  {
   "cell_type": "markdown",
   "metadata": {},
   "source": [
    "## Income Inequality\n",
    "\n",
    "In these exercises, we will return to the vector with estimates of the total income (from all sources) of a random sample of American households collected by the U.S. Census Bureau between 2015 and 2019 as part of the American Community Survey (ACS).\n",
    "\n",
    "(As before, apologies to people who are not from the United States -- most of our users come from the US, so picking the United States seemed like the least bad option. However, if you are interested in completing these same exercises for your own country, head over to [IPUMS International](https://international.ipums.org/international/) to see if analogous income data has been made available by your country's Census Bureau. Simply click on the \"Browse Data\" button, then \"Select Sample\" in the top left to find the most recent data available for your country. Then see if you can find income data under the \"Select Harmonized Variables\" \"PERSON\" or \"HOUSEHOLD\" drop-down menus. Note that income data is hard to collect, so it's probably not available for most countries.)\n",
    "\n",
    "In particular, we are going to use this data to measure household income inequality in the United States, then analyze how that income inequality might change under a range of different tax policies."
   ]
  },
  {
   "cell_type": "markdown",
   "metadata": {},
   "source": [
    "### Exercise 1\n",
    "\n",
    "Use the command `np.loadtxt(\"data/us_household_incomes.txt\")` to load the vector of incomes, and make sure to assign the result of that command to a new variable.\n",
    "\n",
    "How many observations are in this vector?"
   ]
  },
  {
   "cell_type": "markdown",
   "metadata": {},
   "source": [
    "\n",
    "### Exercise 2\n",
    "\n",
    "In a previous reading, we saw that plotting a histogram of US household incomes was difficult because must of the plot was taken up by very high earners. Now that we know how to subset our data, create a histogram of US household incomes that includes only households making less than $500,000. For these households—the non-millionaires—do we see a more uniform distribution of incomes? Or is there still a significant [right-skew / positive-skew](https://en.wikipedia.org/wiki/Skewness) (most people are on the left of the distribution, but there are more extreme values in the right tail) in the income distribution?\n",
    "\n",
    "In other words, is the skewness in the US income distribution driven by extreme high earners, or is it evident at all income levels?\n",
    "\n",
    "**Note:** The x-axis' will range will be determined by the data, with the x-axis being made long enough to include ALL data (but no longer). As a result, there *are* observations across the x-axis, even if there are too few for the bar to be visible.\n",
    "\n",
    "**Note:** Be aware that this data only measures *income*—e.g., wages, salaries, etc. As a result, it actually massively underestimates incomes at the top of the United States income distribution because most of the income for high earners comes in the form of capital gains and investment appreciation which are not included here.\n"
   ]
  },
  {
   "cell_type": "markdown",
   "metadata": {},
   "source": [
    "### Exercise 3\n",
    "\n",
    "The US poverty line is *about* 20,000 dollars a year. What share of households in these data fall below the US poverty line? (By \"share\" I mean the proportion, a value between 0 and 1). Round your answer to 4 decimal places.\n",
    "\n",
    "(I say \"about\" because the actual poverty line for household income depends on the number of people in the household, which we have not included in these data.)"
   ]
  },
  {
   "cell_type": "markdown",
   "metadata": {},
   "source": [
    "## Gini Index\n",
    "\n",
    "A standard measure of inequality is the [Gini Index / Gini Coefficient](https://en.wikipedia.org/wiki/Gini_coefficient). The measure takes on a value of 0 when everyone in a population has the same allocation of some resource or property, and a value of 1 when all the resource in population accrues to a single person. It is commonly used to measure income and wealth inequality, although it is also worth noting that it has been used in many other contexts, [including neuroscience.](https://neuroplausible.com/gini) \n",
    "\n",
    "For discrete data, the definition of the Gini Index is given below:\n",
    "\n",
    "$$Gini\\ Index = \\frac{2 \\sum_{i=1}^n i y_i}{n \\sum_{i=1}^n y_i} -\\frac{n+1}{n}$$\n",
    "\n",
    "Where $i$ is each observations' rank ordering from those with the fewest resources to those with the most, and $y_i$ is the resources of observation $i$. \n",
    "\n",
    "In an upcoming exercise, you will be asked to code this up yourself in a few different ways, but as that is not the focus of *this* exercise, you can just use the `gini()` function from the `ineqpy` package. You can install it with `pip install ineqpy` (it's a little too small of a package to appear in the conda repositories) and import with `from ineqpy.inequality import gini`."
   ]
  },
  {
   "cell_type": "markdown",
   "metadata": {},
   "source": [
    "### Exercise 4\n",
    "\n",
    "Using the `gini()` function above, calculate the Gini Index of income inequality in the US. Round your answer to 4 digits.\n",
    "\n",
    "### Exercise 5\n",
    "\n",
    "Go compare your estimate to that of [other countries here.](https://www.indexmundi.com/facts/indicators/SI.POV.GINI/rankings) (Note: in this table, estimated Gini values have been multiplied 100. In addition, as a result of sampling variation, income binning, differences in the exact methods used to calculate income, year of data, availability of data on top incomes, etc., your Gini for the US will be somewhat different from the Gini for the US in this table. It *should* be close to the data from the [US Census Bureau](https://www.statista.com/statistics/219643/gini-coefficient-for-us-individuals-families-and-households/)). How does the US compare to other countries? Is that what you expected? \n",
    "   - **Note:** The Gini Index of income is only one metric of inequality! Results would be very different if we were to calculate, for example, the ratio of the income of the top 0.1% of earners to the income of the lowest-earning 10% of the population, or if we calculated this metric using wealth instead of income!\n"
   ]
  },
  {
   "cell_type": "markdown",
   "metadata": {},
   "source": [
    "\n",
    "### Exercise 6\n",
    "\n",
    "\n",
    "Congratulations! You have been hired by the President of the United States to advise them on their efforts to reduce income inequality. The first set of policies that the president has asked you to evaluate is whether income inequality would be decreased more under:\n",
    "\n",
    "- `Policy A`: giving every household that makes less than 40,000 dollars a check for 5,000 dollars, or \n",
    "- `Policy B`: giving every household that makes less than 30,000 dollars a check for 7,000 dollars. \n",
    "\n",
    "What is the new Gini under Policy A? Round your answer to 4 decimals.\n",
    "What is the new Gini under Policy B? Round your answer to 4 decimals.\n",
    "\n",
    "Which has lowered inequality more?\n",
    "\n",
    "- **Note:** Vectors are mutable (like lists), so you should create a clean copy of your income data with the `.copy()` method (e.g. `experiment1 = income_vector.copy()`) before starting to make changes during each exercise. We'll talk a lot more about vector mutability in a future reading, but so long as you use `.copy()` you will be fine here!"
   ]
  },
  {
   "cell_type": "markdown",
   "metadata": {},
   "source": [
    "\n",
    "### Exercise 7\n",
    "\n",
    "Now the president would like to know whether income inequality can be reduced more the policy you decided was preferable above, *or* through `Policy C`: applying a tax of 5% to households making more than 250,000 dollars and using the money to pay down the National Debt. \n",
    "\n",
    "(In other words, `Policy C` would reduce the income of any households earning more than 250,000 dollars by 5%.)\n",
    "\n",
    "Calculate the Gini Index resulting from the President's tax proposal? Round your answer to 4 decimals."
   ]
  },
  {
   "cell_type": "markdown",
   "metadata": {},
   "source": [
    "### Exercise 8\n",
    "\n",
    "Now suppose we were thinking about applying a 5% tax to people making more than 250,000 dollars and *evenly distributed that tax revenue* to households earning less than 30,000 dollars. Call this `Policy D`. \n",
    "\n",
    "To estimate the effective such a policy on inequality, first calculate the total amount of money that would be generated by this tax if the households in this data were all households in the US. Round your answer to two decimal places.\n",
    "  \n",
    "**Note:** because these data are just a *sample* of households in the US, the quantity you calculate isn't the actual revenue such a tax would generate in the real world; if you want to calculate the real amount that would be raised, you can multiply the quantity you calculate by 137 (our data include about 1 out of every 137 households in the US). Don't do that multiplication to generate your answer here—as we'll see below that isn't necessary for the analysis we want to undertake."
   ]
  },
  {
   "cell_type": "markdown",
   "metadata": {},
   "source": [
    "### Exercise 9\n",
    "\n",
    "Now calculate the total number of households earning less than 30,000 dollars in these data, and divide the revenue generated by the tax by the number of households earning less than 30,000 dollars. Round your answer to one decimal place.\n",
    "\n",
    "**Note:** unlike in Exercise 8, the quantity you estimate here *is* a good estimate of the amount of money that would be available for each household if we imposed this tax on the real world. Why? Because both the quantity you estimated in Question 8 *and* the number of households you calculate here represent 1/137th the actual, real world quantities in the United States. So when you divide one by the other, you get the true ratio -- the fact that both are 1/137th the real quality cancels out!"
   ]
  },
  {
   "cell_type": "markdown",
   "metadata": {},
   "source": [
    "### Exercise 10\n",
    "\n",
    "Finally, update the incomes in our data *as if* we had enacted this policy -- reduce the incomes of households earning more than 250,000 dollars by 5% and increase the incomes of households earning less than 30,000 dollars by the quantity you estimated in Question 8. \n",
    "\n",
    "What is the resulting Gini Index of `Policy D`? Round your answer to 4 decimal places."
   ]
  },
  {
   "cell_type": "markdown",
   "metadata": {},
   "source": [
    "### Exercise 11\n",
    "\n",
    "Now suppose we also wanted to explore a slightly different intervention: `Policy E`. In `Policy E`, we would distribute the revenue generated with the same tax, but this time we would distribute it evenly to all households earning less than 40,000 dollars (instead of less than 30,000 dollars). \n",
    "\n",
    "What is the resulting Gini Index of `Policy E`? Round your answer to 4 decimal places.\n"
   ]
  },
  {
   "cell_type": "markdown",
   "metadata": {},
   "source": [
    "### Exercise 12\n",
    "\n",
    "\n",
    "If the President asked you whether you could better reduce inequality (as measured by the Gini Index) by re-distributing the tax revenue from taxing households earning more than 250,000 dollars even to households earning less than 30,000 dollars (`Policy D`) or households earning less than 40,000 dollars (`Policy E`), which would you recommend?"
   ]
  },
  {
   "cell_type": "markdown",
   "metadata": {},
   "source": [
    "### Data Citation\n",
    "\n",
    "The ACS data used in this exercise are a subsample of the IPUMS USA data available from [usa.ipums.org.](usa.ipums.org)\n",
    "\n",
    "Please cite use of the data as follows: Steven Ruggles, Sarah Flood, Sophia Foster, Ronald Goeken, Jose Pacas, Megan Schouweiler and Matthew Sobek. IPUMS USA: Version 11.0 [dataset]. Minneapolis, MN: IPUMS, 2021. https://doi.org/10.18128/D010.V11.0\n",
    "\n",
    "These data are intended for this exercise only. Individuals analyzing the data for other purposes must submit a separate data extract request directly via IPUMS USA.\n",
    "\n",
    "Individuals are not to redistribute the data without permission. Contact ipums@umn.edu for redistribution requests."
   ]
  },
  {
   "cell_type": "markdown",
   "metadata": {},
   "source": [
    "## Solutions"
   ]
  },
  {
   "cell_type": "code",
   "execution_count": 1,
   "metadata": {},
   "outputs": [
    {
     "data": {
      "text/plain": [
       "933695"
      ]
     },
     "execution_count": 1,
     "metadata": {},
     "output_type": "execute_result"
    }
   ],
   "source": [
    "# Exercise 1\n",
    "\n",
    "import numpy as np\n",
    "incomes = np.loadtxt(\"data/us_household_incomes.txt\")\n",
    "len(incomes)\n"
   ]
  },
  {
   "cell_type": "code",
   "execution_count": 2,
   "metadata": {},
   "outputs": [
    {
     "data": {
      "text/plain": [
       "(array([262190., 338722., 173615.,  76580.,  33854.,  16134.,   8329.,\n",
       "          5401.,   4556.,   4038.]),\n",
       " array([-16942.,  34752.,  86446., 138140., 189834., 241528., 293222.,\n",
       "        344916., 396610., 448304., 499998.]),\n",
       " <BarContainer object of 10 artists>)"
      ]
     },
     "execution_count": 2,
     "metadata": {},
     "output_type": "execute_result"
    },
    {
     "data": {
      "image/png": "[encoded data removed]",
      "text/plain": [
       "<Figure size 640x480 with 1 Axes>"
      ]
     },
     "metadata": {},
     "output_type": "display_data"
    }
   ],
   "source": [
    "# Question 2\n",
    "from matplotlib import pyplot as plt\n",
    "plt.hist(incomes[incomes < 500_000])"
   ]
  },
  {
   "cell_type": "code",
   "execution_count": 3,
   "metadata": {},
   "outputs": [],
   "source": [
    "# Still strong right skew!"
   ]
  },
  {
   "cell_type": "code",
   "execution_count": 15,
   "metadata": {},
   "outputs": [
    {
     "name": "stdout",
     "output_type": "stream",
     "text": [
      "The Share of Households Below the Poverty Line is 0.1471\n"
     ]
    }
   ],
   "source": [
    "# Exercise 3\n",
    "\n",
    "# This can be calculated a number of ways. Here are two:\n",
    "EX4_SHARE_BELOW_POVERTY = np.mean(incomes < 20_000)\n",
    "print(f\"The Share of Households Below the Poverty Line is {EX4_SHARE_BELOW_POVERTY:.4}\")\n"
   ]
  },
  {
   "cell_type": "code",
   "execution_count": 17,
   "metadata": {},
   "outputs": [
    {
     "name": "stdout",
     "output_type": "stream",
     "text": [
      "Gini is 0.4811\n"
     ]
    }
   ],
   "source": [
    "# Exercise 4\n",
    "\n",
    "from ineqpy.inequality import gini \n",
    "EX4_GINI = gini(incomes)\n",
    "print(f\"Gini is {EX4_GINI:.4}\")\n"
   ]
  },
  {
   "cell_type": "code",
   "execution_count": 6,
   "metadata": {},
   "outputs": [],
   "source": [
    "# Exercise 5\n",
    "\n",
    "# Not super impressive for one of the richest countries in the world."
   ]
  },
  {
   "cell_type": "code",
   "execution_count": 7,
   "metadata": {},
   "outputs": [
    {
     "name": "stdout",
     "output_type": "stream",
     "text": [
      "Policy A Gini is 0.4602\n",
      "Policy B Gini is 0.4583\n"
     ]
    }
   ],
   "source": [
    "# Exercise 6\n",
    "\n",
    "policy_A = incomes.copy()\n",
    "CUTOFF_A = 40_000\n",
    "CREDIT_A = 5_000\n",
    "policy_A[policy_A < CUTOFF_A] = policy_A[policy_A < CUTOFF_A] + CREDIT_A\n",
    "EX6_GINI_POLICY_A = gini(policy_A)\n",
    "\n",
    "\n",
    "policy_B = incomes.copy()\n",
    "CUTOFF_B = 30_000\n",
    "CREDIT_B = 7_000\n",
    "policy_B[policy_B < CUTOFF_B] = policy_B[policy_B < CUTOFF_B] + CREDIT_B\n",
    "EX6_GINI_POLICY_B = gini(policy_B)\n",
    "\n",
    "print(f\"Policy A Gini is {EX6_GINI_POLICY_A:.4}\")\n",
    "print(f\"Policy B Gini is {EX6_GINI_POLICY_B:.4}\")\n"
   ]
  },
  {
   "cell_type": "code",
   "execution_count": 8,
   "metadata": {},
   "outputs": [
    {
     "name": "stdout",
     "output_type": "stream",
     "text": [
      "Policy B does a better job at reducing inequality.\n"
     ]
    }
   ],
   "source": [
    "print(\"Policy B does a better job at reducing inequality.\")"
   ]
  },
  {
   "cell_type": "code",
   "execution_count": 19,
   "metadata": {},
   "outputs": [
    {
     "name": "stdout",
     "output_type": "stream",
     "text": [
      " Policy C Gini is 0.4756\n"
     ]
    }
   ],
   "source": [
    "# Exercise 7\n",
    "policy_C = incomes.copy()\n",
    "TAX_CUTOFF_C = 250_000\n",
    "TAX_C = 0.05\n",
    "policy_C[TAX_CUTOFF_C < policy_C] = policy_C[TAX_CUTOFF_C < policy_C] * (1 - TAX_C)\n",
    "EX7_GINI_POLICY_C = gini(policy_C)\n",
    "print(f\" Policy C Gini is {EX7_GINI_POLICY_C:.4f}\")"
   ]
  },
  {
   "cell_type": "code",
   "execution_count": 23,
   "metadata": {},
   "outputs": [
    {
     "name": "stdout",
     "output_type": "stream",
     "text": [
      " Policy D Raises 929,623,340.85\n",
      " Policy D Raises 929623340.85\n"
     ]
    }
   ],
   "source": [
    "# Exercise 8\n",
    "\n",
    "policy_D = incomes.copy()\n",
    "TAX_CUTOFF_D = 250_000\n",
    "TAX_D = 0.05\n",
    "\n",
    "# Calculate transfers\n",
    "EX8_REVENUE_RAISED = np.sum(TAX_D * policy_D[TAX_CUTOFF_D < policy_D])\n",
    "EX8_REVENUE_RAISED\n",
    "\n",
    "print(f\" Policy D Raises {EX8_REVENUE_RAISED:,.2f}\")\n",
    "print(f\" Policy D Raises {EX8_REVENUE_RAISED:.2f}\")"
   ]
  },
  {
   "cell_type": "code",
   "execution_count": 25,
   "metadata": {},
   "outputs": [
    {
     "name": "stdout",
     "output_type": "stream",
     "text": [
      " Policy D will transfer 4,208.2\n",
      " Policy D will transfer 4208.2\n"
     ]
    }
   ],
   "source": [
    "# Exercise 9\n",
    "\n",
    "CREDIT_CUTOFF_D = 30_000\n",
    "num_hh_under_30k = np.sum(policy_D < CREDIT_CUTOFF_D)\n",
    "EX9_TRANSFERS = EX8_REVENUE_RAISED / num_hh_under_30k\n",
    "EX9_TRANSFERS\n",
    "print(f\" Policy D will transfer {EX9_TRANSFERS:,.1f}\")\n",
    "print(f\" Policy D will transfer {EX9_TRANSFERS:.1f}\")"
   ]
  },
  {
   "cell_type": "code",
   "execution_count": 26,
   "metadata": {},
   "outputs": [
    {
     "name": "stdout",
     "output_type": "stream",
     "text": [
      " Policy D Gini: 0.4617\n",
      " Policy D Gini: 0.46167\n"
     ]
    }
   ],
   "source": [
    "# Exercise 10\n",
    "\n",
    "policy_D[policy_D < CREDIT_CUTOFF_D] = policy_D[policy_D < CREDIT_CUTOFF_D] + EX9_TRANSFERS\n",
    "policy_D[TAX_CUTOFF_D < policy_D] = policy_D[TAX_CUTOFF_D < policy_D] * (1 - TAX_D)\n",
    "EX10_GINI_POLICY_D = gini(policy_D)\n",
    "EX10_GINI_POLICY_D\n",
    "print(f\" Policy D Gini: {EX10_GINI_POLICY_D:,.4f}\")\n",
    "print(f\" Policy D Gini: {EX10_GINI_POLICY_D:,.5f}\")"
   ]
  },
  {
   "cell_type": "code",
   "execution_count": 28,
   "metadata": {},
   "outputs": [
    {
     "name": "stdout",
     "output_type": "stream",
     "text": [
      " Policy E Gini: 0.4626\n",
      " Policy E Gini: 0.462649\n"
     ]
    }
   ],
   "source": [
    "# Exercise 11\n",
    "\n",
    "policy_E = incomes.copy()\n",
    "CREDIT_CUTOFF_E = 40_000\n",
    "TAX_CUTOFF_E = 250_000\n",
    "TAX_E = 0.05\n",
    "num_hh_under_40k = np.sum(policy_E < CREDIT_CUTOFF_E)\n",
    "transfers_E = EX8_REVENUE_RAISED / num_hh_under_40k\n",
    "\n",
    "policy_E[policy_E < CREDIT_CUTOFF_E] = policy_E[policy_E < CREDIT_CUTOFF_E] + transfers_E\n",
    "policy_E[TAX_CUTOFF_E < policy_E] = policy_E[TAX_CUTOFF_E < policy_E] * (1 - TAX_E)\n",
    "EX11_GINI_POLICY_E = gini(policy_E)\n",
    "EX11_GINI_POLICY_E\n",
    "\n",
    "print(f\" Policy E Gini: {EX11_GINI_POLICY_E:,.4f}\")\n",
    "print(f\" Policy E Gini: {EX11_GINI_POLICY_E:,.6f}\")"
   ]
  },
  {
   "cell_type": "code",
   "execution_count": 14,
   "metadata": {},
   "outputs": [],
   "source": [
    "# Exercise 12\n",
    "\n",
    "# POLICY D"
   ]
  }
 ],
 "metadata": {
  "kernelspec": {
   "display_name": "Python 3.10.6 ('base')",
   "language": "python",
   "name": "python3"
  },
  "language_info": {
   "codemirror_mode": {
    "name": "ipython",
    "version": 3
   },
   "file_extension": ".py",
   "mimetype": "text/x-python",
   "name": "python",
   "nbconvert_exporter": "python",
   "pygments_lexer": "ipython3",
   "version": "3.10.6"
  },
  "vscode": {
   "interpreter": {
    "hash": "718fed28bf9f8c7851519acf2fb923cd655120b36de3b67253eeb0428bd33d2d"
   }
  }
 },
 "nbformat": 4,
 "nbformat_minor": 2
}