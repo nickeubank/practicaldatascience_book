{
 "cells": [
  {
   "cell_type": "markdown",
   "id": "fb7d0880",
   "metadata": {},
   "source": [
    "# Subsetting Vectors"
   ]
  },
  {
   "cell_type": "markdown",
   "id": "8f3e5839",
   "metadata": {},
   "source": [
    "In our last reading, we learned what vectors are, and how to do operations on entire vectors. But often times we want to work with *subsets* of a vector. Indeed, extracting a subset of elements from a vector is an extremely important task, not least because it generalizes nicely to datasets (which are at the heart of data science). This process --- whether applied to a vector or a dataset --- is often referred to as \"taking a subset\", \"subsetting\", or \"filtering\". If there is one skill you need to master as quickly as possible, it's this.\n",
    "\n",
    "Subsetting can be accomplished in two ways: \n",
    "\n",
    "- By index\n",
    "- With Boolean (`bool`) vectors"
   ]
  },
  {
   "cell_type": "markdown",
   "id": "8c178c54",
   "metadata": {},
   "source": [
    "## What is Subsetting?\n",
    "\n",
    "As you've probably already realized, vectors don't just contain a jumble of data -- they also have a concept of \"order\". In particular, vector data is organized along a single dimension (in a line, just as data is organized in a list). So when I create a vector with `42, 47, -1`, I have in mind that 42 is the first entry, 47 is the second, and -1 is the third. And we can use that concept of order to subset vectors by passing the index (order number) of an entry we want to our vector in square brackets. For example, consider the following vector:"
   ]
  },
  {
   "cell_type": "code",
   "execution_count": 1,
   "id": "5f56dda6",
   "metadata": {},
   "outputs": [
    {
     "data": {
      "text/plain": [
       "array([42, 47, -1])"
      ]
     },
     "execution_count": 1,
     "metadata": {},
     "output_type": "execute_result"
    }
   ],
   "source": [
    "import numpy as np\n",
    "a = np.array([42, 47, -1])\n",
    "a"
   ]
  },
  {
   "cell_type": "markdown",
   "id": "f7a75fe6",
   "metadata": {},
   "source": [
    "If I wanted to pull out the second entry in that vector, I could do so with *array indexing* using square brackets `[]` (remember that indexes start at 0 in Python, so the second entry is at index `1`):"
   ]
  },
  {
   "cell_type": "code",
   "execution_count": 2,
   "id": "cd76aec6",
   "metadata": {},
   "outputs": [
    {
     "data": {
      "text/plain": [
       "47"
      ]
     },
     "execution_count": 2,
     "metadata": {},
     "output_type": "execute_result"
    }
   ],
   "source": [
    "a[1]"
   ]
  },
  {
   "cell_type": "markdown",
   "id": "c10a591b",
   "metadata": {},
   "source": [
    "And if I want to assign that second entry to a new variable, I can!"
   ]
  },
  {
   "cell_type": "code",
   "execution_count": 3,
   "id": "00d606b2",
   "metadata": {},
   "outputs": [
    {
     "data": {
      "text/plain": [
       "47"
      ]
     },
     "execution_count": 3,
     "metadata": {},
     "output_type": "execute_result"
    }
   ],
   "source": [
    "new = a[1]\n",
    "new"
   ]
  },
  {
   "cell_type": "markdown",
   "id": "8b16b8b9",
   "metadata": {},
   "source": [
    "But what, exactly, is happening when I subset? Let's return to the idea that a variable is just a box holding some data, and walk through the following block of code:"
   ]
  },
  {
   "cell_type": "markdown",
   "id": "a96de1b0",
   "metadata": {},
   "source": [
    "```python\n",
    "a = np.array([42, 47, -1])\n",
    "new = a[1]\n",
    "```\n",
    "\n",
    "And let's do so will some illustrative figures, which will work like this:\n",
    "\n",
    "![notational conventions figure](img/notation-conventions.png)"
   ]
  },
  {
   "cell_type": "markdown",
   "id": "c8e82656",
   "metadata": {},
   "source": [
    "In the first line of code, we create a new vector with three entries and assign it to the variable `a`. Just as in our previous reading, we can think of the variable `a` as a box that is holding this new vector.\n",
    "\n",
    "![vector_subsetting1](img/C2W2-30_subsetting_part1.png)\n",
    "\n",
    "In the second line, the first thing that happens is that python evaluates the expression on the right side of the assignment operator: `a[1]`. The use of `a` and square brackets indicates to python that we're not trying to access a portion of the data stored in the box labeled `a`. In particular, by putting a `1` between the square brackets, we're telling python we want the second item in the box `a`: the value `47`. \n",
    "\n",
    "![vector_subsetting2](img/C2W2-30_subsetting_part2.png)\n",
    "\n",
    "Then when we assign that value -- 47 -- to `new`, we create a new variable, and insert our data into that box:\n",
    "\n",
    "![vector_subsetting3](img/C2W2-30_subsetting_part3.png)"
   ]
  },
  {
   "cell_type": "markdown",
   "id": "a73ed571",
   "metadata": {},
   "source": [
    "This `variable[]` notation is something we'll use a *lot* with numpy, and it will always mean the same thing: we're trying to access some data in the data stored in the box `variable`.\n",
    "\n",
    "**Note:** we're making one small simplification in the discussion above that, if you've worked with numpy a lot, you may notice. Don't worry -- we'll address that in a later reading!"
   ]
  },
  {
   "cell_type": "markdown",
   "id": "4f29a274",
   "metadata": {},
   "source": [
    "## Subsetting By Index\n",
    "\n"
   ]
  },
  {
   "cell_type": "markdown",
   "id": "1690e004",
   "metadata": {},
   "source": [
    "### Simple Indexing"
   ]
  },
  {
   "cell_type": "markdown",
   "id": "e91716b1",
   "metadata": {},
   "source": [
    "There are several ways one can subset arrays, but the most basic is with *simple indexing*, which is where you use a single index to access a single entry, or a range (e.g., `0:3` to get the first three elements of an array), just like with lists. So in the example above, we grabbed the second element by passing in the index of the entry we wanted:"
   ]
  },
  {
   "cell_type": "code",
   "execution_count": 4,
   "id": "7d5b1762",
   "metadata": {},
   "outputs": [
    {
     "data": {
      "text/plain": [
       "47"
      ]
     },
     "execution_count": 4,
     "metadata": {},
     "output_type": "execute_result"
    }
   ],
   "source": [
    "a = np.array([42, 47, -1])\n",
    "a[1]"
   ]
  },
  {
   "cell_type": "markdown",
   "id": "743aa082",
   "metadata": {},
   "source": [
    "But if we want more than one entry, we can also subset a range of index values using the `:` operator:"
   ]
  },
  {
   "cell_type": "code",
   "execution_count": 5,
   "id": "eb334424",
   "metadata": {},
   "outputs": [
    {
     "data": {
      "text/plain": [
       "array([42, 47])"
      ]
     },
     "execution_count": 5,
     "metadata": {},
     "output_type": "execute_result"
    }
   ],
   "source": [
    "a[0:2]"
   ]
  },
  {
   "cell_type": "markdown",
   "id": "0992899d",
   "metadata": {},
   "source": [
    "A couple of quick reminders on how the `:` operator works: \n",
    "\n",
    "- if you want all the entries from the first entry up to a point, you can leave the first entry blank (e.g., `a[:2]`), and\n",
    "- if you want all the entries from a point up to the end, you can leave the last entry empty (e.g., `a[1:]`)."
   ]
  },
  {
   "cell_type": "markdown",
   "id": "98eaa4ca",
   "metadata": {},
   "source": [
    "### Fancy Indexing"
   ]
  },
  {
   "cell_type": "markdown",
   "id": "9884d2cd",
   "metadata": {},
   "source": [
    "numpy arrays also support something called *fancy indexing*, which is where you pass a list (or another array) containing a set of indices you want to get back. With *fancy indexing*, index values don't have to be consecutive or even in order! Here's an example with a list:"
   ]
  },
  {
   "cell_type": "code",
   "execution_count": 6,
   "id": "89b0a447",
   "metadata": {},
   "outputs": [
    {
     "data": {
      "text/plain": [
       "array([42, -1])"
      ]
     },
     "execution_count": 6,
     "metadata": {},
     "output_type": "execute_result"
    }
   ],
   "source": [
    "a[[0, 2]]"
   ]
  },
  {
   "cell_type": "markdown",
   "id": "d631c5f4",
   "metadata": {},
   "source": [
    "And here's one with an array:"
   ]
  },
  {
   "cell_type": "code",
   "execution_count": 7,
   "id": "b37fda9e",
   "metadata": {},
   "outputs": [
    {
     "data": {
      "text/plain": [
       "array([0, 2])"
      ]
     },
     "execution_count": 7,
     "metadata": {},
     "output_type": "execute_result"
    }
   ],
   "source": [
    "zero_and_two = np.array([0, 2])\n",
    "zero_and_two\n"
   ]
  },
  {
   "cell_type": "code",
   "execution_count": 8,
   "id": "66638342",
   "metadata": {},
   "outputs": [
    {
     "data": {
      "text/plain": [
       "array([42, -1])"
      ]
     },
     "execution_count": 8,
     "metadata": {},
     "output_type": "execute_result"
    }
   ],
   "source": [
    "a[zero_and_two]"
   ]
  },
  {
   "cell_type": "markdown",
   "id": "98ad48f1",
   "metadata": {},
   "source": [
    "Note that with fancy indexing, you don't have to subset entries in order: if you pass indices out of order, you'll get a vector with a new order!"
   ]
  },
  {
   "cell_type": "code",
   "execution_count": 9,
   "id": "9cc34083",
   "metadata": {},
   "outputs": [
    {
     "data": {
      "text/plain": [
       "array([-1, 42])"
      ]
     },
     "execution_count": 9,
     "metadata": {},
     "output_type": "execute_result"
    }
   ],
   "source": [
    "a[[2, 0]]"
   ]
  },
  {
   "cell_type": "markdown",
   "id": "db2a4371",
   "metadata": {},
   "source": [
    "Again, this is all working the same way as our example with just one entry -- Python interprets the square brackets as a request for some data in the box `a`, and if we pass multiple indices, it just grabs multiple items from that box. "
   ]
  },
  {
   "cell_type": "markdown",
   "id": "aca63f54",
   "metadata": {},
   "source": [
    "## Subsetting with Booleans"
   ]
  },
  {
   "cell_type": "markdown",
   "id": "ec99f90c",
   "metadata": {},
   "source": [
    "Subsetting with Booleans is a little hard to explain, so instead let's jump right into an example. \n",
    "\n",
    "Suppose we have a character vector with only two elements (\"dogs\" and \"cats\"). Subsetting it to \"dogs\" could be done by passing a Boolean vector as follows:"
   ]
  },
  {
   "cell_type": "code",
   "execution_count": 10,
   "id": "0d6ae1f2",
   "metadata": {},
   "outputs": [
    {
     "data": {
      "text/plain": [
       "array(['dogs'], dtype='<U4')"
      ]
     },
     "execution_count": 10,
     "metadata": {},
     "output_type": "execute_result"
    }
   ],
   "source": [
    "fruits = np.array([\"dogs\", \"cats\"])\n",
    "fruits[[True, False]]"
   ]
  },
  {
   "cell_type": "markdown",
   "id": "dcf971c6",
   "metadata": {},
   "source": [
    "Within these brackets is a vector with the same number of Boolean elements as there are elements in the vector you want to subset. Elements across the two vectors are matched by order: elements that match with `True` are kept while elements that match with `False` are dropped.\n",
    "\n",
    "Visualized with the same tools we used before, we can draw out what's happening in this block of code:"
   ]
  },
  {
   "cell_type": "code",
   "execution_count": 11,
   "id": "46c3ec14",
   "metadata": {},
   "outputs": [
    {
     "data": {
      "text/plain": [
       "array([42, -1])"
      ]
     },
     "execution_count": 11,
     "metadata": {},
     "output_type": "execute_result"
    }
   ],
   "source": [
    "a = np.array([42, 47, -1])\n",
    "my_subset = np.array([True, False, True])\n",
    "b = a[my_subset]\n",
    "b"
   ]
  },
  {
   "cell_type": "markdown",
   "id": "23fe2ce2",
   "metadata": {},
   "source": [
    "First, we create `a`:\n",
    "\n",
    "![subsetting with Booleans 1](img/C2W2-30_booleans_part1.png)\n",
    "\n",
    "Then we create `my_subset`:\n",
    "\n",
    "![subsetting with Booleans 2](img/C2W2-30_booleans_part2.png)\n",
    "\n",
    "Then the magic: Python lines up the entries in the data in the box labeled `a` and the data in the box labeled `my_subset`, and keeps any entries from `a` that line up with values of `my_subset` that are `True`. \n",
    "\n",
    "Then it assigns the values in `a` that line up with `True`s in `my_subset` to a new variable `b`:\n",
    "\n",
    "![subsetting with Booleans 3](img/C2W2-30_booleans_part3.png)"
   ]
  },
  {
   "cell_type": "markdown",
   "id": "41b9ddfe",
   "metadata": {},
   "source": [
    "**Note:** as with our previous illustrations, we are making one small simplification which, if you've worked with numpy a lot before, you may notice. Don't worry—we'll address that in a later reading!"
   ]
  },
  {
   "cell_type": "markdown",
   "id": "57d4e1aa",
   "metadata": {},
   "source": [
    "## Subsetting With Logical Operations "
   ]
  },
  {
   "cell_type": "markdown",
   "id": "92747a65",
   "metadata": {},
   "source": [
    "\n",
    "\n",
    "This process is extremely useful when combined with a *logical operation* to combine multiple conditions. For example, we can use the logical \"equals\" (written `==`) to say \"be true if values are equal\", and the logical \"not equals (written `!=`) to say \"be true if values are not equal\".\n",
    "\n",
    "**WARNING:** When working with numpy arrays, we can't use the logical operations `or`, `and`, and `not` we use in vanilla Python. Instead, when working True and False with numpy vectors, we have to use `&` for \"and\", `|` for \"or\", and `~` for \"not\".\n",
    "\n",
    "To illustrate, let's see how a logical operation can be used to filter a large vector of numbers:"
   ]
  },
  {
   "cell_type": "code",
   "execution_count": 12,
   "id": "bd104199",
   "metadata": {},
   "outputs": [
    {
     "data": {
      "text/plain": [
       "array([ 10,  20,  30,  40,  50,  60,  70,  80,  90, 100])"
      ]
     },
     "execution_count": 12,
     "metadata": {},
     "output_type": "execute_result"
    }
   ],
   "source": [
    "# Create a numeric vector\n",
    "# Reminder: if you pass a third argument to `np.arange()`,\n",
    "# numpy uses that to determine the step sizes between values!\n",
    "\n",
    "numbers = np.arange(10, 110, 10)\n",
    "numbers\n"
   ]
  },
  {
   "cell_type": "code",
   "execution_count": 13,
   "id": "2a375b98",
   "metadata": {},
   "outputs": [
    {
     "data": {
      "text/plain": [
       "array([10, 20, 30, 40, 50])"
      ]
     },
     "execution_count": 13,
     "metadata": {},
     "output_type": "execute_result"
    }
   ],
   "source": [
    "# Get small numbers:\n",
    "numbers[numbers <= 50]"
   ]
  },
  {
   "cell_type": "markdown",
   "id": "3abf7e93",
   "metadata": {},
   "source": [
    "And we can also combine logical conditions. When we do so, however, note that we have to wrap each test in `()` so numpy parses them correctly. For example:"
   ]
  },
  {
   "cell_type": "code",
   "execution_count": 14,
   "id": "8c507536",
   "metadata": {},
   "outputs": [
    {
     "data": {
      "text/plain": [
       "array([ 10,  20, 100])"
      ]
     },
     "execution_count": 14,
     "metadata": {},
     "output_type": "execute_result"
    }
   ],
   "source": [
    "numbers[(numbers < 30) | (numbers == 100)]"
   ]
  },
  {
   "cell_type": "markdown",
   "id": "360c4d8b",
   "metadata": {},
   "source": [
    "If you don't wrap your two tests in parenthesis, you'll run into trouble and get this error:"
   ]
  },
  {
   "cell_type": "markdown",
   "id": "76c31a2b",
   "metadata": {},
   "source": [
    "```python\n",
    "numbers[numbers < 30 | numbers == 100]\n",
    "\n",
    "---------------------------------------------------------------------------\n",
    "ValueError                                Traceback (most recent call last)\n",
    "/var/folders/tj/s8f2_ks15h315z5thvtnhz8r0000gp/T/ipykernel_13964/3746007904.py in <module>\n",
    "----> 1 numbers[numbers < 30 | numbers == 100]\n",
    "\n",
    "ValueError: The truth value of an array with more than one element is ambiguous. Use a.any() or a.all()\n",
    "```"
   ]
  },
  {
   "cell_type": "markdown",
   "id": "eb9e8688",
   "metadata": {},
   "source": [
    "(Why? Well... that gets *really* complicated fast, but basically, numpy parses the `|` before anything else, and while we use `|` as the logical \"or\", when you use it when neither array is of type `bool`, it actually does some weird bit-level manipulations, generating a new array of numbers instead of an array of Booleans. So... just use the parentheses. 🤷‍♂️)"
   ]
  },
  {
   "cell_type": "markdown",
   "id": "dd12f2ac",
   "metadata": {},
   "source": [
    "Note that there's nothing magic about putting these Booleans inside square brackets -- Python is just evaluating the code inside the square brackets, returning an array of type `bool`, and then using that to subset the original array. Indeed, we can move the construction of these `bool` arrays outside of the square brackets if we want:"
   ]
  },
  {
   "cell_type": "code",
   "execution_count": 15,
   "id": "5ad4a72f",
   "metadata": {},
   "outputs": [
    {
     "data": {
      "text/plain": [
       "array([False, False, False,  True,  True,  True,  True, False, False,\n",
       "       False])"
      ]
     },
     "execution_count": 15,
     "metadata": {},
     "output_type": "execute_result"
    }
   ],
   "source": [
    "# Get only the middle set of numbers\n",
    "\n",
    "middle_number = (30 < numbers) & (numbers < 80)\n",
    "middle_number"
   ]
  },
  {
   "cell_type": "code",
   "execution_count": 16,
   "id": "9422f2a2",
   "metadata": {},
   "outputs": [
    {
     "data": {
      "text/plain": [
       "array([40, 50, 60, 70])"
      ]
     },
     "execution_count": 16,
     "metadata": {},
     "output_type": "execute_result"
    }
   ],
   "source": [
    "numbers[middle_number]"
   ]
  },
  {
   "cell_type": "markdown",
   "id": "cf45f3fd",
   "metadata": {},
   "source": [
    "## Exercises\n",
    "\n",
    "1. Create a new vector with all the primes between 0 and 20: `2, 3, 5, 7, 11, 13, 17, 19`\n",
    "2. Using the `:` operator, subset all the entries from your vector greater than 10. \n",
    "3. Using a logical test (e.g. `>`, `<`, `==`, `!=`), subset all the entries from your vector greater than 10.\n",
    "4. Using a logical test, subset all the *even* prime numbers from your list (recall that the `%` operator returns the remainder left over after integer division -- for example, `7 % 3` returns 1, since 3 goes into 7 two times with 1 left over).\n",
    "5. Now, using logical tests, subset all the entries that are *either* even *or* greater than 10."
   ]
  }
 ],
 "metadata": {
  "jupytext": {
   "cell_metadata_filter": "-all",
   "main_language": "R",
   "notebook_metadata_filter": "-all"
  },
  "kernelspec": {
   "display_name": "Python 3.10.6 ('base')",
   "language": "python",
   "name": "python3"
  },
  "language_info": {
   "codemirror_mode": {
    "name": "ipython",
    "version": 3
   },
   "file_extension": ".py",
   "mimetype": "text/x-python",
   "name": "python",
   "nbconvert_exporter": "python",
   "pygments_lexer": "ipython3",
   "version": "3.10.6"
  },
  "vscode": {
   "interpreter": {
    "hash": "718fed28bf9f8c7851519acf2fb923cd655120b36de3b67253eeb0428bd33d2d"
   }
  }
 },
 "nbformat": 4,
 "nbformat_minor": 5
}