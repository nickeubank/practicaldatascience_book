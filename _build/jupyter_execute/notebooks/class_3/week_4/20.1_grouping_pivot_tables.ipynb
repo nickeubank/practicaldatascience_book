{
 "cells": [
  {
   "cell_type": "markdown",
   "metadata": {},
   "source": [
    "## Grouping in multiple dimensions with `pivot_tables`\n",
    "\n",
    "Using the `groupby` method, we were able to group data in the above examples according to year, and calculate some aggregate measure of the examples in each group. In our example, we calculated the total sales in each year. But what if we wanted to break it down further? Let's consider if our `sales` data had an extra column, called 'expertise' as shown below. The new column represents the level of expertise of a sales representative as either \"high\" or \"low\" according to the judgement of their colleagues to see if sales were random or if their skill was correlated with their sales."
   ]
  },
  {
   "cell_type": "code",
   "execution_count": 1,
   "metadata": {},
   "outputs": [
    {
     "data": {
      "text/html": [
       "<div>\n",
       "<style scoped>\n",
       "    .dataframe tbody tr th:only-of-type {\n",
       "        vertical-align: middle;\n",
       "    }\n",
       "\n",
       "    .dataframe tbody tr th {\n",
       "        vertical-align: top;\n",
       "    }\n",
       "\n",
       "    .dataframe thead th {\n",
       "        text-align: right;\n",
       "    }\n",
       "</style>\n",
       "<table border=\"1\" class=\"dataframe\">\n",
       "  <thead>\n",
       "    <tr style=\"text-align: right;\">\n",
       "      <th></th>\n",
       "      <th>employee</th>\n",
       "      <th>sales</th>\n",
       "      <th>expertise</th>\n",
       "      <th>year</th>\n",
       "    </tr>\n",
       "  </thead>\n",
       "  <tbody>\n",
       "    <tr>\n",
       "      <th>0</th>\n",
       "      <td>Katrina</td>\n",
       "      <td>14</td>\n",
       "      <td>high</td>\n",
       "      <td>2018</td>\n",
       "    </tr>\n",
       "    <tr>\n",
       "      <th>1</th>\n",
       "      <td>Guanyu</td>\n",
       "      <td>17</td>\n",
       "      <td>high</td>\n",
       "      <td>2019</td>\n",
       "    </tr>\n",
       "    <tr>\n",
       "      <th>2</th>\n",
       "      <td>Jan</td>\n",
       "      <td>6</td>\n",
       "      <td>low</td>\n",
       "      <td>2020</td>\n",
       "    </tr>\n",
       "    <tr>\n",
       "      <th>3</th>\n",
       "      <td>Roman</td>\n",
       "      <td>12</td>\n",
       "      <td>low</td>\n",
       "      <td>2018</td>\n",
       "    </tr>\n",
       "    <tr>\n",
       "      <th>4</th>\n",
       "      <td>Jacqueline</td>\n",
       "      <td>8</td>\n",
       "      <td>low</td>\n",
       "      <td>2020</td>\n",
       "    </tr>\n",
       "    <tr>\n",
       "      <th>5</th>\n",
       "      <td>Paola</td>\n",
       "      <td>3</td>\n",
       "      <td>low</td>\n",
       "      <td>2019</td>\n",
       "    </tr>\n",
       "    <tr>\n",
       "      <th>6</th>\n",
       "      <td>Esperanza</td>\n",
       "      <td>7</td>\n",
       "      <td>low</td>\n",
       "      <td>2019</td>\n",
       "    </tr>\n",
       "    <tr>\n",
       "      <th>7</th>\n",
       "      <td>Alaina</td>\n",
       "      <td>15</td>\n",
       "      <td>high</td>\n",
       "      <td>2020</td>\n",
       "    </tr>\n",
       "    <tr>\n",
       "      <th>8</th>\n",
       "      <td>Egweyn</td>\n",
       "      <td>5</td>\n",
       "      <td>low</td>\n",
       "      <td>2020</td>\n",
       "    </tr>\n",
       "  </tbody>\n",
       "</table>\n",
       "</div>"
      ],
      "text/plain": [
       "     employee  sales expertise  year\n",
       "0     Katrina     14      high  2018\n",
       "1      Guanyu     17      high  2019\n",
       "2         Jan      6       low  2020\n",
       "3       Roman     12       low  2018\n",
       "4  Jacqueline      8       low  2020\n",
       "5       Paola      3       low  2019\n",
       "6   Esperanza      7       low  2019\n",
       "7      Alaina     15      high  2020\n",
       "8      Egweyn      5       low  2020"
      ]
     },
     "execution_count": 1,
     "metadata": {},
     "output_type": "execute_result"
    }
   ],
   "source": [
    "import pandas as pd\n",
    "\n",
    "pd.set_option(\"mode.copy_on_write\", True)\n",
    "\n",
    "sales = pd.DataFrame(\n",
    "    data={\n",
    "        \"employee\": [\n",
    "            \"Katrina\",\n",
    "            \"Guanyu\",\n",
    "            \"Jan\",\n",
    "            \"Roman\",\n",
    "            \"Jacqueline\",\n",
    "            \"Paola\",\n",
    "            \"Esperanza\",\n",
    "            \"Alaina\",\n",
    "            \"Egweyn\",\n",
    "        ],\n",
    "        \"sales\": [14, 17, 6, 12, 8, 3, 7, 15, 5],\n",
    "        \"expertise\": [\"high\", \"high\", \"low\", \"low\", \"low\", \"low\", \"low\", \"high\", \"low\"],\n",
    "        \"year\": [2018, 2019, 2020, 2018, 2020, 2019, 2019, 2020, 2020],\n",
    "    }\n",
    ")\n",
    "sales"
   ]
  },
  {
   "cell_type": "markdown",
   "metadata": {},
   "source": [
    "This presents a new question: what were average sales per employee by year AND by the level of expertise. In this case, we don't just want to know what the average sales were in 2018 across the employees, we want to know what the average sales in 2018 were for the \"high\" expertise employees and the \"low\" expertise employees, respectively. To accomplish this, we can use `pivot_tables`, as shown in the figure below:"
   ]
  },
  {
   "cell_type": "markdown",
   "metadata": {},
   "source": [
    "![Pivot Table](img/3.2.30-pandas_dataframe_pivot_table.png)"
   ]
  },
  {
   "cell_type": "markdown",
   "metadata": {},
   "source": [
    "Now lets try that for ourselves:"
   ]
  },
  {
   "cell_type": "code",
   "execution_count": 2,
   "metadata": {},
   "outputs": [
    {
     "data": {
      "text/html": [
       "<div>\n",
       "<style scoped>\n",
       "    .dataframe tbody tr th:only-of-type {\n",
       "        vertical-align: middle;\n",
       "    }\n",
       "\n",
       "    .dataframe tbody tr th {\n",
       "        vertical-align: top;\n",
       "    }\n",
       "\n",
       "    .dataframe thead th {\n",
       "        text-align: right;\n",
       "    }\n",
       "</style>\n",
       "<table border=\"1\" class=\"dataframe\">\n",
       "  <thead>\n",
       "    <tr style=\"text-align: right;\">\n",
       "      <th>expertise</th>\n",
       "      <th>high</th>\n",
       "      <th>low</th>\n",
       "    </tr>\n",
       "    <tr>\n",
       "      <th>year</th>\n",
       "      <th></th>\n",
       "      <th></th>\n",
       "    </tr>\n",
       "  </thead>\n",
       "  <tbody>\n",
       "    <tr>\n",
       "      <th>2018</th>\n",
       "      <td>14.0</td>\n",
       "      <td>12.000000</td>\n",
       "    </tr>\n",
       "    <tr>\n",
       "      <th>2019</th>\n",
       "      <td>17.0</td>\n",
       "      <td>5.000000</td>\n",
       "    </tr>\n",
       "    <tr>\n",
       "      <th>2020</th>\n",
       "      <td>15.0</td>\n",
       "      <td>6.333333</td>\n",
       "    </tr>\n",
       "  </tbody>\n",
       "</table>\n",
       "</div>"
      ],
      "text/plain": [
       "expertise  high        low\n",
       "year                      \n",
       "2018       14.0  12.000000\n",
       "2019       17.0   5.000000\n",
       "2020       15.0   6.333333"
      ]
     },
     "execution_count": 2,
     "metadata": {},
     "output_type": "execute_result"
    }
   ],
   "source": [
    "avg_sales = sales.pivot_table(\n",
    "    values=\"sales\", index=\"year\", columns=\"expertise\", aggfunc=\"mean\"\n",
    ")\n",
    "avg_sales"
   ]
  },
  {
   "cell_type": "markdown",
   "metadata": {},
   "source": [
    "## Summary\n",
    "\n",
    "Grouping data along either one characteristic (`groupby`) or two (or more) characteristics (`pivot_table`) can allow us to quickly aggregate our data into the format we need to be able to answer key data science questions. Understanding how to use these tools programmatically is a significant advantage for data preparation and analysis. We've talked quite a bit about preparing data up to this point. In the next lesson, you'll explore how to query your data quickly and efficiently."
   ]
  }
 ],
 "metadata": {
  "kernelspec": {
   "display_name": "Python 3.10.2 ('ds')",
   "language": "python",
   "name": "python3"
  },
  "language_info": {
   "codemirror_mode": {
    "name": "ipython",
    "version": 3
   },
   "file_extension": ".py",
   "mimetype": "text/x-python",
   "name": "python",
   "nbconvert_exporter": "python",
   "pygments_lexer": "ipython3",
   "version": "3.11.7"
  },
  "vscode": {
   "interpreter": {
    "hash": "b9e56a7b23b1fac2eea1a993b805ed5c611aea1439c1f46315b23590ab6d3ba0"
   }
  }
 },
 "nbformat": 4,
 "nbformat_minor": 2
}