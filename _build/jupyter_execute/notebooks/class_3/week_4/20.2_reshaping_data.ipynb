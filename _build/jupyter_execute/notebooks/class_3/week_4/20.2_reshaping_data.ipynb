{
 "cells": [
  {
   "cell_type": "markdown",
   "metadata": {},
   "source": [
    "## Reshaping Data\n",
    "\n",
    "One theme that we hope is emerging is that your data do not always appear in the form you wish them to be in for analysis. We've discussed concatenating, merging, grouping, and pivot_tables. Often we want to modify how data are presented and pandas offers a series of tools for doing just that. In this section, we'll discuss a few key tools and \n",
    "\n",
    "## Tidy data\n",
    "\n",
    "Tidy data is a way of creating an organized, consistent structure for data. A dataset is tidy (and therefore not messy) if it conforms to three principles (from Hadley Wickham):\n",
    "\n",
    "1. Each variable forms a column.\n",
    "2. Each observation forms a row.\n",
    "3. Each type of observational unit forms a table.\n",
    "\n",
    "The first two of these are the easier ones to understand. An observation could represent a patient and the variables could be that patient's vital sign readings. An observation could be a product and the variables are the characteristics or measurements of that product including price, weight, or type, for example. \n",
    "\n",
    "The third component of a tidy dataset, observational units, may take a moment's discussion. Consider the example of a table of songs. Each song (and observation) may have multiple characteristics (variables) such as track length, title, music genre, artist, etc. What if we also had data about one particular song's rank on the Billboard Top 100 list, every week for a year? It likely would not make sense to put these in the same table since it would lead to a lot of redundancy since we would need to list the song multiple times for each date to note its ranking.\n",
    "\n",
    "There are certainly reasons for which Tidy data may not fit your needs perfectly, including if you need data in an alternative format for processing the data using tools that require alternative formats. However, when in doubt, starting with a Tidy data format is a good place to begin since it allows you to quickly launch your data analysis.\n",
    "\n",
    "## Tools for reshaping: `melt`, `pivot`, `stack`, and `unstack`\n",
    "\n",
    "But how do we change the shape of data in pandas tables? We have four main functions: `pivot`, `melt` (which is the opposite of `pivot`), `stack` and `unstack` (which is the opposite of `stack`). We'll discuss each of these functions below.\n",
    "\n",
    "Let's start with a dataset that is not Tidy since there are variables in the columns (temp, heart_rate, and systolic_bp):"
   ]
  },
  {
   "cell_type": "code",
   "execution_count": 1,
   "metadata": {},
   "outputs": [
    {
     "data": {
      "text/html": [
       "<div>\n",
       "<style scoped>\n",
       "    .dataframe tbody tr th:only-of-type {\n",
       "        vertical-align: middle;\n",
       "    }\n",
       "\n",
       "    .dataframe tbody tr th {\n",
       "        vertical-align: top;\n",
       "    }\n",
       "\n",
       "    .dataframe thead th {\n",
       "        text-align: right;\n",
       "    }\n",
       "</style>\n",
       "<table border=\"1\" class=\"dataframe\">\n",
       "  <thead>\n",
       "    <tr style=\"text-align: right;\">\n",
       "      <th></th>\n",
       "      <th>patient_name</th>\n",
       "      <th>reading</th>\n",
       "      <th>reading_values</th>\n",
       "    </tr>\n",
       "  </thead>\n",
       "  <tbody>\n",
       "    <tr>\n",
       "      <th>0</th>\n",
       "      <td>Lekha</td>\n",
       "      <td>temp</td>\n",
       "      <td>101.5</td>\n",
       "    </tr>\n",
       "    <tr>\n",
       "      <th>1</th>\n",
       "      <td>Lekha</td>\n",
       "      <td>heart_rate</td>\n",
       "      <td>75.0</td>\n",
       "    </tr>\n",
       "    <tr>\n",
       "      <th>2</th>\n",
       "      <td>Zhenzhen</td>\n",
       "      <td>temp</td>\n",
       "      <td>98.3</td>\n",
       "    </tr>\n",
       "    <tr>\n",
       "      <th>3</th>\n",
       "      <td>Zhenzhen</td>\n",
       "      <td>heart_rate</td>\n",
       "      <td>54.0</td>\n",
       "    </tr>\n",
       "    <tr>\n",
       "      <th>4</th>\n",
       "      <td>Zhenzhen</td>\n",
       "      <td>systolic_bp</td>\n",
       "      <td>115.0</td>\n",
       "    </tr>\n",
       "  </tbody>\n",
       "</table>\n",
       "</div>"
      ],
      "text/plain": [
       "  patient_name      reading  reading_values\n",
       "0        Lekha         temp           101.5\n",
       "1        Lekha   heart_rate            75.0\n",
       "2     Zhenzhen         temp            98.3\n",
       "3     Zhenzhen   heart_rate            54.0\n",
       "4     Zhenzhen  systolic_bp           115.0"
      ]
     },
     "execution_count": 1,
     "metadata": {},
     "output_type": "execute_result"
    }
   ],
   "source": [
    "import pandas as pd\n",
    "\n",
    "pd.set_option(\"mode.copy_on_write\", True)\n",
    "\n",
    "df = pd.DataFrame(\n",
    "    {\n",
    "        \"patient_name\": [\"Lekha\", \"Lekha\", \"Zhenzhen\", \"Zhenzhen\", \"Zhenzhen\"],\n",
    "        \"reading\": [\"temp\", \"heart_rate\", \"temp\", \"heart_rate\", \"systolic_bp\"],\n",
    "        \"reading_values\": [101.5, 75, 98.3, 54, 115],\n",
    "    }\n",
    ")\n",
    "df"
   ]
  },
  {
   "cell_type": "markdown",
   "metadata": {},
   "source": [
    "Let's start with the `pivot` method. First off, this is NOT the same as `pivot_table` and has distinct uses which we previously discussed. The `pivot` method, on the other hand, allows us to reshape our data by making each variable into an individual column:"
   ]
  },
  {
   "cell_type": "code",
   "execution_count": 2,
   "metadata": {},
   "outputs": [
    {
     "data": {
      "text/html": [
       "<div>\n",
       "<style scoped>\n",
       "    .dataframe tbody tr th:only-of-type {\n",
       "        vertical-align: middle;\n",
       "    }\n",
       "\n",
       "    .dataframe tbody tr th {\n",
       "        vertical-align: top;\n",
       "    }\n",
       "\n",
       "    .dataframe thead th {\n",
       "        text-align: right;\n",
       "    }\n",
       "</style>\n",
       "<table border=\"1\" class=\"dataframe\">\n",
       "  <thead>\n",
       "    <tr style=\"text-align: right;\">\n",
       "      <th>reading</th>\n",
       "      <th>heart_rate</th>\n",
       "      <th>systolic_bp</th>\n",
       "      <th>temp</th>\n",
       "    </tr>\n",
       "    <tr>\n",
       "      <th>patient_name</th>\n",
       "      <th></th>\n",
       "      <th></th>\n",
       "      <th></th>\n",
       "    </tr>\n",
       "  </thead>\n",
       "  <tbody>\n",
       "    <tr>\n",
       "      <th>Lekha</th>\n",
       "      <td>75.0</td>\n",
       "      <td>NaN</td>\n",
       "      <td>101.5</td>\n",
       "    </tr>\n",
       "    <tr>\n",
       "      <th>Zhenzhen</th>\n",
       "      <td>54.0</td>\n",
       "      <td>115.0</td>\n",
       "      <td>98.3</td>\n",
       "    </tr>\n",
       "  </tbody>\n",
       "</table>\n",
       "</div>"
      ],
      "text/plain": [
       "reading       heart_rate  systolic_bp   temp\n",
       "patient_name                                \n",
       "Lekha               75.0          NaN  101.5\n",
       "Zhenzhen            54.0        115.0   98.3"
      ]
     },
     "execution_count": 2,
     "metadata": {},
     "output_type": "execute_result"
    }
   ],
   "source": [
    "df_pivoted = df.pivot(index=\"patient_name\", columns=\"reading\", values=\"reading_values\")\n",
    "df_pivoted"
   ]
  },
  {
   "cell_type": "markdown",
   "metadata": {},
   "source": [
    "Before \"undoing\" this application of `pivot` to demonstrate `melt`, we need to make sure the index is one of the columns, so we can use the `reset_index()` method to accomplish this:"
   ]
  },
  {
   "cell_type": "code",
   "execution_count": 3,
   "metadata": {},
   "outputs": [
    {
     "data": {
      "text/html": [
       "<div>\n",
       "<style scoped>\n",
       "    .dataframe tbody tr th:only-of-type {\n",
       "        vertical-align: middle;\n",
       "    }\n",
       "\n",
       "    .dataframe tbody tr th {\n",
       "        vertical-align: top;\n",
       "    }\n",
       "\n",
       "    .dataframe thead th {\n",
       "        text-align: right;\n",
       "    }\n",
       "</style>\n",
       "<table border=\"1\" class=\"dataframe\">\n",
       "  <thead>\n",
       "    <tr style=\"text-align: right;\">\n",
       "      <th>reading</th>\n",
       "      <th>patient_name</th>\n",
       "      <th>heart_rate</th>\n",
       "      <th>systolic_bp</th>\n",
       "      <th>temp</th>\n",
       "    </tr>\n",
       "  </thead>\n",
       "  <tbody>\n",
       "    <tr>\n",
       "      <th>0</th>\n",
       "      <td>Lekha</td>\n",
       "      <td>75.0</td>\n",
       "      <td>NaN</td>\n",
       "      <td>101.5</td>\n",
       "    </tr>\n",
       "    <tr>\n",
       "      <th>1</th>\n",
       "      <td>Zhenzhen</td>\n",
       "      <td>54.0</td>\n",
       "      <td>115.0</td>\n",
       "      <td>98.3</td>\n",
       "    </tr>\n",
       "  </tbody>\n",
       "</table>\n",
       "</div>"
      ],
      "text/plain": [
       "reading patient_name  heart_rate  systolic_bp   temp\n",
       "0              Lekha        75.0          NaN  101.5\n",
       "1           Zhenzhen        54.0        115.0   98.3"
      ]
     },
     "execution_count": 3,
     "metadata": {},
     "output_type": "execute_result"
    }
   ],
   "source": [
    "df_pivoted = df_pivoted.reset_index()\n",
    "df_pivoted"
   ]
  },
  {
   "cell_type": "markdown",
   "metadata": {},
   "source": [
    "Now, we can undo this process with the `melt` method as follows:"
   ]
  },
  {
   "cell_type": "code",
   "execution_count": 4,
   "metadata": {},
   "outputs": [
    {
     "data": {
      "text/html": [
       "<div>\n",
       "<style scoped>\n",
       "    .dataframe tbody tr th:only-of-type {\n",
       "        vertical-align: middle;\n",
       "    }\n",
       "\n",
       "    .dataframe tbody tr th {\n",
       "        vertical-align: top;\n",
       "    }\n",
       "\n",
       "    .dataframe thead th {\n",
       "        text-align: right;\n",
       "    }\n",
       "</style>\n",
       "<table border=\"1\" class=\"dataframe\">\n",
       "  <thead>\n",
       "    <tr style=\"text-align: right;\">\n",
       "      <th></th>\n",
       "      <th>patient_name</th>\n",
       "      <th>reading</th>\n",
       "      <th>value</th>\n",
       "    </tr>\n",
       "  </thead>\n",
       "  <tbody>\n",
       "    <tr>\n",
       "      <th>0</th>\n",
       "      <td>Lekha</td>\n",
       "      <td>heart_rate</td>\n",
       "      <td>75.0</td>\n",
       "    </tr>\n",
       "    <tr>\n",
       "      <th>1</th>\n",
       "      <td>Zhenzhen</td>\n",
       "      <td>heart_rate</td>\n",
       "      <td>54.0</td>\n",
       "    </tr>\n",
       "    <tr>\n",
       "      <th>2</th>\n",
       "      <td>Lekha</td>\n",
       "      <td>temp</td>\n",
       "      <td>101.5</td>\n",
       "    </tr>\n",
       "    <tr>\n",
       "      <th>3</th>\n",
       "      <td>Zhenzhen</td>\n",
       "      <td>temp</td>\n",
       "      <td>98.3</td>\n",
       "    </tr>\n",
       "    <tr>\n",
       "      <th>4</th>\n",
       "      <td>Lekha</td>\n",
       "      <td>systolic_bp</td>\n",
       "      <td>NaN</td>\n",
       "    </tr>\n",
       "    <tr>\n",
       "      <th>5</th>\n",
       "      <td>Zhenzhen</td>\n",
       "      <td>systolic_bp</td>\n",
       "      <td>115.0</td>\n",
       "    </tr>\n",
       "  </tbody>\n",
       "</table>\n",
       "</div>"
      ],
      "text/plain": [
       "  patient_name      reading  value\n",
       "0        Lekha   heart_rate   75.0\n",
       "1     Zhenzhen   heart_rate   54.0\n",
       "2        Lekha         temp  101.5\n",
       "3     Zhenzhen         temp   98.3\n",
       "4        Lekha  systolic_bp    NaN\n",
       "5     Zhenzhen  systolic_bp  115.0"
      ]
     },
     "execution_count": 4,
     "metadata": {},
     "output_type": "execute_result"
    }
   ],
   "source": [
    "df_melted = pd.melt(\n",
    "    df_pivoted,\n",
    "    id_vars=[\"patient_name\"],\n",
    "    value_vars=[\"heart_rate\", \"temp\", \"systolic_bp\"],\n",
    ")\n",
    "df_melted"
   ]
  },
  {
   "cell_type": "markdown",
   "metadata": {},
   "source": [
    "This effectively reproduces the original dataset. You'll notice the addition of a row with a `NaN` value. This is because the original data didn't contain an entry for systolic_bp for Lekha. Because of the shape of the data, `pivot` is often described as going from long data to wide data and `melt` from wide data to long. Long here refers to the number of rows and wide to the number of columns."
   ]
  },
  {
   "cell_type": "markdown",
   "metadata": {},
   "source": [
    "`Stack` is another way of moving data from a wide to a long format, but by moving data from columns into an index as a multi-index. Let's take a look at a related example to see what we mean:"
   ]
  },
  {
   "cell_type": "code",
   "execution_count": 5,
   "metadata": {},
   "outputs": [
    {
     "data": {
      "text/html": [
       "<div>\n",
       "<style scoped>\n",
       "    .dataframe tbody tr th:only-of-type {\n",
       "        vertical-align: middle;\n",
       "    }\n",
       "\n",
       "    .dataframe tbody tr th {\n",
       "        vertical-align: top;\n",
       "    }\n",
       "\n",
       "    .dataframe thead th {\n",
       "        text-align: right;\n",
       "    }\n",
       "</style>\n",
       "<table border=\"1\" class=\"dataframe\">\n",
       "  <thead>\n",
       "    <tr style=\"text-align: right;\">\n",
       "      <th></th>\n",
       "      <th>patient_name</th>\n",
       "      <th>reading</th>\n",
       "      <th>reading_values</th>\n",
       "    </tr>\n",
       "  </thead>\n",
       "  <tbody>\n",
       "    <tr>\n",
       "      <th>0</th>\n",
       "      <td>Lekha</td>\n",
       "      <td>temp</td>\n",
       "      <td>101.5</td>\n",
       "    </tr>\n",
       "    <tr>\n",
       "      <th>1</th>\n",
       "      <td>Lekha</td>\n",
       "      <td>heart_rate</td>\n",
       "      <td>75.0</td>\n",
       "    </tr>\n",
       "    <tr>\n",
       "      <th>2</th>\n",
       "      <td>Zhenzhen</td>\n",
       "      <td>temp</td>\n",
       "      <td>98.3</td>\n",
       "    </tr>\n",
       "    <tr>\n",
       "      <th>3</th>\n",
       "      <td>Zhenzhen</td>\n",
       "      <td>heart_rate</td>\n",
       "      <td>54.0</td>\n",
       "    </tr>\n",
       "    <tr>\n",
       "      <th>4</th>\n",
       "      <td>Zhenzhen</td>\n",
       "      <td>systolic_bp</td>\n",
       "      <td>115.0</td>\n",
       "    </tr>\n",
       "  </tbody>\n",
       "</table>\n",
       "</div>"
      ],
      "text/plain": [
       "  patient_name      reading  reading_values\n",
       "0        Lekha         temp           101.5\n",
       "1        Lekha   heart_rate            75.0\n",
       "2     Zhenzhen         temp            98.3\n",
       "3     Zhenzhen   heart_rate            54.0\n",
       "4     Zhenzhen  systolic_bp           115.0"
      ]
     },
     "execution_count": 5,
     "metadata": {},
     "output_type": "execute_result"
    }
   ],
   "source": [
    "df"
   ]
  },
  {
   "cell_type": "code",
   "execution_count": 6,
   "metadata": {},
   "outputs": [
    {
     "data": {
      "text/plain": [
       "0  patient_name            Lekha\n",
       "   reading                  temp\n",
       "   reading_values          101.5\n",
       "1  patient_name            Lekha\n",
       "   reading            heart_rate\n",
       "   reading_values           75.0\n",
       "2  patient_name         Zhenzhen\n",
       "   reading                  temp\n",
       "   reading_values           98.3\n",
       "3  patient_name         Zhenzhen\n",
       "   reading            heart_rate\n",
       "   reading_values           54.0\n",
       "4  patient_name         Zhenzhen\n",
       "   reading           systolic_bp\n",
       "   reading_values          115.0\n",
       "dtype: object"
      ]
     },
     "execution_count": 6,
     "metadata": {},
     "output_type": "execute_result"
    }
   ],
   "source": [
    "df_stacked = df.stack()\n",
    "df_stacked"
   ]
  },
  {
   "cell_type": "markdown",
   "metadata": {},
   "source": [
    "We can verify that the DataFrame has been transformed into a Series and that series as a multi-index:"
   ]
  },
  {
   "cell_type": "code",
   "execution_count": 7,
   "metadata": {},
   "outputs": [
    {
     "data": {
      "text/plain": [
       "pandas.core.series.Series"
      ]
     },
     "execution_count": 7,
     "metadata": {},
     "output_type": "execute_result"
    }
   ],
   "source": [
    "type(df_stacked)"
   ]
  },
  {
   "cell_type": "code",
   "execution_count": 8,
   "metadata": {},
   "outputs": [
    {
     "data": {
      "text/plain": [
       "MultiIndex([(0,   'patient_name'),\n",
       "            (0,        'reading'),\n",
       "            (0, 'reading_values'),\n",
       "            (1,   'patient_name'),\n",
       "            (1,        'reading'),\n",
       "            (1, 'reading_values'),\n",
       "            (2,   'patient_name'),\n",
       "            (2,        'reading'),\n",
       "            (2, 'reading_values'),\n",
       "            (3,   'patient_name'),\n",
       "            (3,        'reading'),\n",
       "            (3, 'reading_values'),\n",
       "            (4,   'patient_name'),\n",
       "            (4,        'reading'),\n",
       "            (4, 'reading_values')],\n",
       "           )"
      ]
     },
     "execution_count": 8,
     "metadata": {},
     "output_type": "execute_result"
    }
   ],
   "source": [
    "df_stacked.index"
   ]
  },
  {
   "cell_type": "markdown",
   "metadata": {},
   "source": [
    "We can then recover our original DataFrame with the `unstack` method:"
   ]
  },
  {
   "cell_type": "code",
   "execution_count": 9,
   "metadata": {},
   "outputs": [
    {
     "data": {
      "text/html": [
       "<div>\n",
       "<style scoped>\n",
       "    .dataframe tbody tr th:only-of-type {\n",
       "        vertical-align: middle;\n",
       "    }\n",
       "\n",
       "    .dataframe tbody tr th {\n",
       "        vertical-align: top;\n",
       "    }\n",
       "\n",
       "    .dataframe thead th {\n",
       "        text-align: right;\n",
       "    }\n",
       "</style>\n",
       "<table border=\"1\" class=\"dataframe\">\n",
       "  <thead>\n",
       "    <tr style=\"text-align: right;\">\n",
       "      <th></th>\n",
       "      <th>patient_name</th>\n",
       "      <th>reading</th>\n",
       "      <th>reading_values</th>\n",
       "    </tr>\n",
       "  </thead>\n",
       "  <tbody>\n",
       "    <tr>\n",
       "      <th>0</th>\n",
       "      <td>Lekha</td>\n",
       "      <td>temp</td>\n",
       "      <td>101.5</td>\n",
       "    </tr>\n",
       "    <tr>\n",
       "      <th>1</th>\n",
       "      <td>Lekha</td>\n",
       "      <td>heart_rate</td>\n",
       "      <td>75.0</td>\n",
       "    </tr>\n",
       "    <tr>\n",
       "      <th>2</th>\n",
       "      <td>Zhenzhen</td>\n",
       "      <td>temp</td>\n",
       "      <td>98.3</td>\n",
       "    </tr>\n",
       "    <tr>\n",
       "      <th>3</th>\n",
       "      <td>Zhenzhen</td>\n",
       "      <td>heart_rate</td>\n",
       "      <td>54.0</td>\n",
       "    </tr>\n",
       "    <tr>\n",
       "      <th>4</th>\n",
       "      <td>Zhenzhen</td>\n",
       "      <td>systolic_bp</td>\n",
       "      <td>115.0</td>\n",
       "    </tr>\n",
       "  </tbody>\n",
       "</table>\n",
       "</div>"
      ],
      "text/plain": [
       "  patient_name      reading reading_values\n",
       "0        Lekha         temp          101.5\n",
       "1        Lekha   heart_rate           75.0\n",
       "2     Zhenzhen         temp           98.3\n",
       "3     Zhenzhen   heart_rate           54.0\n",
       "4     Zhenzhen  systolic_bp          115.0"
      ]
     },
     "execution_count": 9,
     "metadata": {},
     "output_type": "execute_result"
    }
   ],
   "source": [
    "df_unstacked = df_stacked.unstack()\n",
    "df_unstacked"
   ]
  },
  {
   "cell_type": "markdown",
   "metadata": {},
   "source": [
    "It's important to be aware that these reshaping operations exist because this is essentially what's going on under the hood when more complex operations like `pivot_table` are applied. In fact, the operations of `pivot_table` are more or less a combination of `groupby` and `unstack`.\n",
    "\n",
    "Producing Tidy data may require some effort, but the benefits will help you to stardardize your default data format allowing you to spend more time on data analysis and less time fussing with the data to prepare it for analysis."
   ]
  }
 ],
 "metadata": {
  "kernelspec": {
   "display_name": "pds-book",
   "language": "python",
   "name": "python3"
  },
  "language_info": {
   "codemirror_mode": {
    "name": "ipython",
    "version": 3
   },
   "file_extension": ".py",
   "mimetype": "text/x-python",
   "name": "python",
   "nbconvert_exporter": "python",
   "pygments_lexer": "ipython3",
   "version": "3.1.-1"
  }
 },
 "nbformat": 4,
 "nbformat_minor": 2
}