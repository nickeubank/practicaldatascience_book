{
 "cells": [
  {
   "cell_type": "markdown",
   "metadata": {},
   "source": [
    "# Week 4 Recap"
   ]
  },
  {
   "cell_type": "markdown",
   "metadata": {},
   "source": [
    "This week we explored the exceptionally useful but often messy business of asking questions from MULTIPLE datasets. We explored how to combine data through both `concatenate` (when the two datasets are very similarly structured) and `merge` (when the contents need to be combined using shared keys). These tools allow us to bring together related information that is stored in different datasets. Recall the example of merging together arrest data and population data from the exercise.\n",
    "\n",
    "We then discussed how to group the data by shared characteristics using `groupby`. We saw how we could aggregate data, as we saw in the exercise, by county or year, aggregating across all other characteristics to accurately summarize our data and potentially use it for further analysis.\n",
    "\n",
    "Lastly we revisited querying data, a skillset we've been developing throughout this course, and explored how our new tools explored in this week can be used in an example investigating power plants in the United States through the final exercise.\n",
    "\n",
    "You now have a number of programming tools at your disposal to better understand, clean, and transform data you encounter in the wild."
   ]
  }
 ],
 "metadata": {
  "kernelspec": {
   "display_name": "Python 3.8.2 ('base')",
   "language": "python",
   "name": "python3"
  },
  "language_info": {
   "codemirror_mode": {
    "name": "ipython",
    "version": 3
   },
   "file_extension": ".py",
   "mimetype": "text/x-python",
   "name": "python",
   "nbconvert_exporter": "python",
   "pygments_lexer": "ipython3",
   "version": "3.8.2"
  },
  "vscode": {
   "interpreter": {
    "hash": "c97f18ea1c0f4969cf594a5df9f14ba2a838cf106fc5300ddecce29d9d6f0c71"
   }
  }
 },
 "nbformat": 4,
 "nbformat_minor": 2
}