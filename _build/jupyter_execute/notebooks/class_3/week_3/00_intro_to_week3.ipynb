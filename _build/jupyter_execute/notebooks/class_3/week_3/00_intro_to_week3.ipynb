{
 "cells": [
  {
   "cell_type": "markdown",
   "metadata": {},
   "source": [
    "# Welcome to Week 3!\n",
    "\n",
    "Last week, we learned all about pandas library for tabular data and its two main data structures: Series and DataFrames. This week we will be building on that knowledge through an exploration of three important topics:\n",
    "\n",
    "- **Data formats and loading & saving data with pandas:** Data comes in many forms, and one of the strengths of pandas is the incredible utilities for reading and writing data in a huge range of different formats. Indeed, the creator of pandas — Wes McKinney — once joked that he thinks the main reason that pandas became popular was its ability to deal with data in so many forms (especially messy spreadsheets!).\n",
    "- **Views & copies, and indexes in pandas:** there are two nuances to what we learned last week about Series and DataFrames that are important for the serious data scientist to understand: \n",
    "  - how pandas deals with views and copies (and how that differs from how they work in numpy), and \n",
    "  - how to work with indexes in pandas.\n",
    "- **Data Cleaning:** Finally, we turn to one of *the* most important skills for any data scientist: identifying and fixing problems in our data!"
   ]
  }
 ],
 "metadata": {
  "language_info": {
   "name": "python"
  }
 },
 "nbformat": 4,
 "nbformat_minor": 2
}