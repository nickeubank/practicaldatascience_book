{
 "cells": [
  {
   "cell_type": "markdown",
   "metadata": {},
   "source": [
    "# Views and Copies in pandas"
   ]
  },
  {
   "cell_type": "markdown",
   "metadata": {},
   "source": [
    "> The implementation of `Copy-On-Write`, discussed below, is one of the largest substantive changes between `pandas 1.0` and `pandas 2.0`. Because this is a new feature as of the Summer of 2023, don't be surprised if you don't see this behavior discussed in older books or in forum posts on sites like Stack Overflow."
   ]
  },
  {
   "cell_type": "markdown",
   "metadata": {},
   "source": [
    "As we reviewed in our last reading, when we subset a numpy array, the result is not always a new array; sometimes what numpy returns is a *view* of the data in the original array. \n",
    "\n",
    "Since pandas Series and DataFrames are backed by numpy arrays, it will probably come as no surprise that something similar sometimes happens in pandas. Unfortunately, while this behavior is relatively straightforward in `numpy`, in `pandas`... it's a hot mess.\n",
    "\n",
    "Thankfully, as of `pandas 2.0`, there's a workaround to the historically unpredictable behavior of `pandas` called \"Copy on Write\" or CoW. In `pandas 2.0` CoW is not the default behavior of `pandas`, but it can be easily enabled, and is expected to become the default soon (when `pandas 3.0` is released).\n",
    "\n",
    "Because Copy-on-Write is clearly the future and *so* much easier to understand than the status quo, we'll start by discussing CoW before discussing what happens if it *isn't* enabled."
   ]
  },
  {
   "cell_type": "markdown",
   "metadata": {},
   "source": [
    "## Copy on Write\n",
    "\n",
    "Views were implemented in numpy as a way of improving performance. Arrays are often very large objects, and creating new copies of those objects every time one subsets or modifies an array takes a lot of computer time (and memory).\n",
    "\n",
    "At the same time, however, by tying the fates of apparently distinct arrays, views are also an easy way to inadvertently corrupt your data. Moreover, while there are consistent rules about when you get a view and when you get a copy *in numpy*, for technical reasons pandas has never managed to make consistent promises. \n",
    "\n",
    "However, this *is* a way to (generally) get both speed *and* predictability with arrays, and that is with Copy on Write (CoW).\n",
    "\n",
    "The idea of Copy-on-Write is that, from the perspective of the user, `pandas` behaves *as if* all operations return a copy. Thus, from the user's perspective, one need never worry about changing one array and have the effects of those change unintentially propagate. \n",
    "\n",
    "But behind the scenes, `pandas` doesn't actually make copies as soon as the user does something like subset a DataFrame; instead, if it can `pandas` will create a view (so it's faster) and make a note that if either the original array or the subset are ever changed, it needs to actually make the copy before allowing those changes to take place.\n",
    "\n",
    "The beauty of this solution is that it recognizes that views and copies look the same to the user right up until the user tries to edit the values in one array (\"write\" a change into the data). So by not making a copy until it's absolutely necessary, `pandas` can get by using views whenever possible!\n",
    "\n",
    "(Copy-on-Write, it should be noted, is not unique to pandas—it is the default in some other languages like R)\n",
    "\n",
    "\n",
    "\n",
    "### An Example\n",
    "\n",
    "To illustrate how CoW works, let's do a simple example and talk through what's going on behind the scenes.\n",
    "\n",
    "First, we'll enable CoW. This will become the default behavior in pandas, but for now you have to run this command in each Python session. Personally, I've just written a little shortcut to add this below `import pandas as pd`.\n"
   ]
  },
  {
   "cell_type": "code",
   "execution_count": 1,
   "metadata": {},
   "outputs": [],
   "source": [
    "import pandas as pd\n",
    "\n",
    "pd.set_option(\"mode.copy_on_write\", True)"
   ]
  },
  {
   "cell_type": "markdown",
   "metadata": {},
   "source": [
    "Then we can create a simple `DataFrame` and take a slice of the `DataFrame` (`my_slice`)."
   ]
  },
  {
   "cell_type": "code",
   "execution_count": 2,
   "metadata": {},
   "outputs": [
    {
     "data": {
      "text/html": [
       "<div>\n",
       "<style scoped>\n",
       "    .dataframe tbody tr th:only-of-type {\n",
       "        vertical-align: middle;\n",
       "    }\n",
       "\n",
       "    .dataframe tbody tr th {\n",
       "        vertical-align: top;\n",
       "    }\n",
       "\n",
       "    .dataframe thead th {\n",
       "        text-align: right;\n",
       "    }\n",
       "</style>\n",
       "<table border=\"1\" class=\"dataframe\">\n",
       "  <thead>\n",
       "    <tr style=\"text-align: right;\">\n",
       "      <th></th>\n",
       "      <th>a</th>\n",
       "      <th>b</th>\n",
       "    </tr>\n",
       "  </thead>\n",
       "  <tbody>\n",
       "    <tr>\n",
       "      <th>0</th>\n",
       "      <td>10</td>\n",
       "      <td>11</td>\n",
       "    </tr>\n",
       "    <tr>\n",
       "      <th>1</th>\n",
       "      <td>20</td>\n",
       "      <td>12</td>\n",
       "    </tr>\n",
       "    <tr>\n",
       "      <th>2</th>\n",
       "      <td>30</td>\n",
       "      <td>13</td>\n",
       "    </tr>\n",
       "    <tr>\n",
       "      <th>3</th>\n",
       "      <td>40</td>\n",
       "      <td>14</td>\n",
       "    </tr>\n",
       "  </tbody>\n",
       "</table>\n",
       "</div>"
      ],
      "text/plain": [
       "    a   b\n",
       "0  10  11\n",
       "1  20  12\n",
       "2  30  13\n",
       "3  40  14"
      ]
     },
     "execution_count": 2,
     "metadata": {},
     "output_type": "execute_result"
    }
   ],
   "source": [
    "df = pd.DataFrame({\"a\": [10, 20, 30, 40], \"b\": [11, 12, 13, 14]})\n",
    "df"
   ]
  },
  {
   "cell_type": "code",
   "execution_count": 3,
   "metadata": {},
   "outputs": [
    {
     "data": {
      "text/html": [
       "<div>\n",
       "<style scoped>\n",
       "    .dataframe tbody tr th:only-of-type {\n",
       "        vertical-align: middle;\n",
       "    }\n",
       "\n",
       "    .dataframe tbody tr th {\n",
       "        vertical-align: top;\n",
       "    }\n",
       "\n",
       "    .dataframe thead th {\n",
       "        text-align: right;\n",
       "    }\n",
       "</style>\n",
       "<table border=\"1\" class=\"dataframe\">\n",
       "  <thead>\n",
       "    <tr style=\"text-align: right;\">\n",
       "      <th></th>\n",
       "      <th>a</th>\n",
       "      <th>b</th>\n",
       "    </tr>\n",
       "  </thead>\n",
       "  <tbody>\n",
       "    <tr>\n",
       "      <th>1</th>\n",
       "      <td>20</td>\n",
       "      <td>12</td>\n",
       "    </tr>\n",
       "    <tr>\n",
       "      <th>2</th>\n",
       "      <td>30</td>\n",
       "      <td>13</td>\n",
       "    </tr>\n",
       "  </tbody>\n",
       "</table>\n",
       "</div>"
      ],
      "text/plain": [
       "    a   b\n",
       "1  20  12\n",
       "2  30  13"
      ]
     },
     "execution_count": 3,
     "metadata": {},
     "output_type": "execute_result"
    }
   ],
   "source": [
    "my_slice = df.iloc[1:3,]\n",
    "my_slice"
   ]
  },
  {
   "cell_type": "markdown",
   "metadata": {},
   "source": [
    "Now, suppose we modify one of the entries in our DataFrame `df`. As discussed above, CoW means that everything behaves *as if* our indexing operation returned a copy, so this modification should not propagate to our slice `my_slice`—and indeed, we can see that it doesn't!"
   ]
  },
  {
   "cell_type": "code",
   "execution_count": 4,
   "metadata": {},
   "outputs": [
    {
     "data": {
      "text/html": [
       "<div>\n",
       "<style scoped>\n",
       "    .dataframe tbody tr th:only-of-type {\n",
       "        vertical-align: middle;\n",
       "    }\n",
       "\n",
       "    .dataframe tbody tr th {\n",
       "        vertical-align: top;\n",
       "    }\n",
       "\n",
       "    .dataframe thead th {\n",
       "        text-align: right;\n",
       "    }\n",
       "</style>\n",
       "<table border=\"1\" class=\"dataframe\">\n",
       "  <thead>\n",
       "    <tr style=\"text-align: right;\">\n",
       "      <th></th>\n",
       "      <th>a</th>\n",
       "      <th>b</th>\n",
       "    </tr>\n",
       "  </thead>\n",
       "  <tbody>\n",
       "    <tr>\n",
       "      <th>0</th>\n",
       "      <td>10</td>\n",
       "      <td>11</td>\n",
       "    </tr>\n",
       "    <tr>\n",
       "      <th>1</th>\n",
       "      <td>20</td>\n",
       "      <td>-1</td>\n",
       "    </tr>\n",
       "    <tr>\n",
       "      <th>2</th>\n",
       "      <td>30</td>\n",
       "      <td>13</td>\n",
       "    </tr>\n",
       "    <tr>\n",
       "      <th>3</th>\n",
       "      <td>40</td>\n",
       "      <td>14</td>\n",
       "    </tr>\n",
       "  </tbody>\n",
       "</table>\n",
       "</div>"
      ],
      "text/plain": [
       "    a   b\n",
       "0  10  11\n",
       "1  20  -1\n",
       "2  30  13\n",
       "3  40  14"
      ]
     },
     "execution_count": 4,
     "metadata": {},
     "output_type": "execute_result"
    }
   ],
   "source": [
    "df.iloc[1, 1] = -1\n",
    "df"
   ]
  },
  {
   "cell_type": "code",
   "execution_count": 5,
   "metadata": {},
   "outputs": [
    {
     "data": {
      "text/html": [
       "<div>\n",
       "<style scoped>\n",
       "    .dataframe tbody tr th:only-of-type {\n",
       "        vertical-align: middle;\n",
       "    }\n",
       "\n",
       "    .dataframe tbody tr th {\n",
       "        vertical-align: top;\n",
       "    }\n",
       "\n",
       "    .dataframe thead th {\n",
       "        text-align: right;\n",
       "    }\n",
       "</style>\n",
       "<table border=\"1\" class=\"dataframe\">\n",
       "  <thead>\n",
       "    <tr style=\"text-align: right;\">\n",
       "      <th></th>\n",
       "      <th>a</th>\n",
       "      <th>b</th>\n",
       "    </tr>\n",
       "  </thead>\n",
       "  <tbody>\n",
       "    <tr>\n",
       "      <th>1</th>\n",
       "      <td>20</td>\n",
       "      <td>12</td>\n",
       "    </tr>\n",
       "    <tr>\n",
       "      <th>2</th>\n",
       "      <td>30</td>\n",
       "      <td>13</td>\n",
       "    </tr>\n",
       "  </tbody>\n",
       "</table>\n",
       "</div>"
      ],
      "text/plain": [
       "    a   b\n",
       "1  20  12\n",
       "2  30  13"
      ]
     },
     "execution_count": 5,
     "metadata": {},
     "output_type": "execute_result"
    }
   ],
   "source": [
    "my_slice"
   ]
  },
  {
   "cell_type": "markdown",
   "metadata": {},
   "source": [
    "But here's the fun part—when we ran the command `my_slice = df.iloc[1:3,]`, `my_slice` was actually created as a view, not a copy, for speed. \n",
    "\n",
    "It was only when we modified the data in `df` with the command `df.iloc[1, 1] = -1` that `my_slice` was converted into a copy. In this example, the timing of the copy doesn't matter, but if we had never modified the entries in `df` with that command, `pandas` never would have made the copy, and we'd never have to pay the penalty of that copy!"
   ]
  },
  {
   "cell_type": "markdown",
   "metadata": {},
   "source": [
    "## Adding pd.set_option(\"mode.copy_on_write\", True) Easily\n",
    "\n",
    "The easiest way to consistently add the `pd.set_option(\"mode.copy_on_write\", True)` is probably to create a custom \"snippet\" — basically, a keyboard shortcut that your editor expands into a block of text you type regularly.\n",
    "\n",
    "For example, I've set up my VS Code installation so that when I type `ipd` followed by pressing `tab`, I get:\n",
    "\n",
    "```python\n",
    "import pandas as pd\n",
    "import numpy as np\n",
    "\n",
    "pd.set_option(\"mode.copy_on_write\", True)\n",
    "```\n",
    "\n",
    "(in my head, `ipd` is short for **i**mport pandas as **pd** --> `ipd`)\n",
    "\n",
    "To set up your own, just look for documentation on adding a snippet to your preferred editor. Use VS Code? [Here's how to do it!](https://code.visualstudio.com/docs/editor/userdefinedsnippets#_create-your-own-snippets) My VS Code snippet is:\n",
    "\n",
    "```json\n",
    "\"import pandas, numpy, activate CoW\": {\n",
    "   \"prefix\": \"ipd\",\n",
    "   \"body\": [\n",
    "      \"import pandas as pd\",\n",
    "      \"import numpy as np\",\n",
    "      \"\",\n",
    "      \"pd.set_option(\\\"mode.copy_on_write\\\", True)\"\n",
    "   ],\n",
    "   \"description\": \"import pandas, numpy, activate CoW\"\n",
    "}\n",
    "```\n",
    "\n",
    "(note the need to escape quotation marks by putting a backslash right before them)"
   ]
  },
  {
   "cell_type": "markdown",
   "metadata": {},
   "source": [
    "## Life Without Copy on Write: The View/Copy Headache in pandas"
   ]
  },
  {
   "cell_type": "markdown",
   "metadata": {},
   "source": [
    "At this point, you may be saying \"ugh, but I don't want to write `pd.set_option(\"mode.copy_on_write\", True)` at the top of all my files!\". I hear you. I don't either. But allow me to explain what happens *without* CoW enabled: \n",
    "\n",
    "> Without Copy on Write, whether you get a view or a copy in pandas—and whether changes made to a view will propagate back to the original `DataFrame`—depends not only on the operations you execute (`.loc`, `.iloc`, etc.), but also on the structure of the data in the original DataFrame in ways that are, essentially, impossible to predict consistently.\n",
    "\n",
    "Want to know more? Check out the [next reading!](17_views_and_copies_in_pandas_wo_CoW.ipynb)"
   ]
  }
 ],
 "metadata": {
  "kernelspec": {
   "display_name": "Python 3.9.7 ('base')",
   "language": "python",
   "name": "python3"
  },
  "language_info": {
   "codemirror_mode": {
    "name": "ipython",
    "version": 3
   },
   "file_extension": ".py",
   "mimetype": "text/x-python",
   "name": "python",
   "nbconvert_exporter": "python",
   "pygments_lexer": "ipython3",
   "version": "3.11.4"
  },
  "vscode": {
   "interpreter": {
    "hash": "3e0a5228cb9726a24d36227c69ed0d3aac98cecda769d1c9adb080711d57f90d"
   }
  }
 },
 "nbformat": 4,
 "nbformat_minor": 4
}