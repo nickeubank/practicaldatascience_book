{
 "cells": [
  {
   "cell_type": "markdown",
   "metadata": {},
   "source": [
    "# Measuring Income Equality with the Gini Coefficient\n",
    "\n",
    "**Note**: \n",
    "\n",
    "> This exercise has been written out in something called a Jupyter Notebook. We'll discuss Jupyter Notebooks in more detail later in this specialization—they are very a powerful tool for data science communication!—but for the time being, the notebook is just a convenient way for us to write out the exercise. You don't need to *do* anything with the notebook except read its contents—just use write your Python code in a regular `.py` file.\n",
    "\n",
    "**WARNING:**\n",
    "\n",
    "> When asked to round your answers to a certain number of decimals, do *not* round any results until you've finished your computations and have your final answer! For example, if you were to calculate the average hourly wage for workers, and you did so by first calculating the average weekly salary of workers and the average hours worked per week, then divided the first number by the second, you should NOT round the average weekly salary of workers or the average hours worked per week. Rounding intermediate results can lead to compounding errors that cause problems for the autograder.\n",
    "\n",
    "One measure of inequality frequently used by economists, lawyers, social scientists, and policymakers is the *[Gini coefficient](https://en.wikipedia.org/wiki/Gini_coefficient)*. The Gini coefficient takes as input the allocation of some resource — income, wealth, market share, etc. — for all entities in a population and returns a single number between 0 and 1 that summarizes the inequality of the distribution of said resource.\n",
    "\n",
    "The Gini coefficient takes on a value of 1 when the resource distribution is maximally *unequal* across the entities (e.g., one entity has all of the resource and no one else has any), and a value of 0 when the resource is evenly distributed across all entities. \n",
    "\n",
    "In this exercise, we will calculate the Gini coefficient for income inequality across the countries of the world to get a sense of income inequality *across* countries. \n"
   ]
  },
  {
   "cell_type": "markdown",
   "metadata": {},
   "source": [
    "## Exercises"
   ]
  },
  {
   "cell_type": "markdown",
   "metadata": {},
   "source": [
    "### Exercise 1\n",
    "\n",
    "To get accustomed to Series, let's explore some data on the wealth of 10 randomly selected countries. Data below presents the GDP per capita for these countries in 2008. \n",
    "\n",
    "Use the code below to get started: \n",
    "\n",
    "```python\n",
    "import pandas as pd\n",
    "\n",
    "gdppercap = pd.Series(\n",
    "    [34605, 34493, 12393, 44200, 10041, 58138, 4709, 49284, 10109, 42536],\n",
    "    index=[\n",
    "        \"Bahrain\",\n",
    "        \"Belgium\",\n",
    "        \"Bulgaria\",\n",
    "        \"Ireland\",\n",
    "        \"Macedonia\",\n",
    "        \"Norway\",\n",
    "        \"Paraguay\",\n",
    "        \"Singapore\",\n",
    "        \"South Africa\",\n",
    "        \"Switzerland\",\n",
    "    ],\n",
    ")\n",
    "```\n",
    "\n"
   ]
  },
  {
   "cell_type": "markdown",
   "metadata": {},
   "source": [
    "### Exercise 2\n",
    "\n",
    "Find the mean, median, minimum and maximum values of GDP per capita in this data. Please round all your answers to 1 decimal place.\n",
    "\n",
    "*Hint:* You *can* do this with several commands, or get all four numbers with a single command."
   ]
  },
  {
   "cell_type": "markdown",
   "metadata": {},
   "source": [
    "### Exercise 3\n",
    "\n",
    "Programmatically, determine which country in our data has the highest income per capita, and which has the lowest income per capita.\n",
    "\n",
    "(Obviously, this is easier to do by just looking at the data, but that's only because this dataset is very small. With a real dataset, you would need to do it with code, so please write code to accomplish this task.)\n",
    "\n",
    "Hint: Country names form the index for this Series, so to get country names you'll need to access the index. \n"
   ]
  },
  {
   "cell_type": "markdown",
   "metadata": {},
   "source": [
    "### Exercise 4\n",
    "\n",
    "Get Python to print out the names of all the countries that have GDP per capita of less than \\$20,000. How many countries are in this list?\n",
    "\n",
    "(As above, try to get pandas to do this _programmatically_ — obviously, this isn't hard to do by just looking at the list in this toy data!)"
   ]
  },
  {
   "cell_type": "markdown",
   "metadata": {},
   "source": [
    "### Exercise 5 \n",
    "\n",
    "Get Python to print out the GDP per capita of Switzerland (_programatically_)."
   ]
  },
  {
   "cell_type": "markdown",
   "metadata": {},
   "source": [
    "### Exercise 6\n",
    "\n",
    "One frequntly used measure of inequality is the Gini Coefficient. The Gini Coefficient takes on a value of 1 when the distribution of some variable is maximally unequal across a population, and a value of 0 when it is evenly distributed. We will calculate the Gini Coefficient for income inequality in our data. \n",
    "\n",
    "To visualize the Gini Coefficient, we plot the cumulative share of the population (ordered from poorest to richest) on the x-axis, and cumulative share of income earned by that group on the y-axis. The Gini Coefficient is then defined as $$\\frac{A}{A + B}$$, where the areas A and B are labeled below: \n",
    "\n",
    "![gini_coefficient](https://upload.wikimedia.org/wikipedia/commons/thumb/5/59/Economics_Gini_coefficient2.svg/800px-Economics_Gini_coefficient2.svg.png)\n",
    "\n",
    "If income is evenly distributed, then the poorest 20% of a population will also have 20% of the wealth; the poorest 40% will have 40% of the wealth, and so forth, resulting in a perfect 45 degree line. In this situation, there is no area between the 45% line and the actual income distribution, so $A=0$, and the Gini Coefficient is 0. \n",
    "\n",
    "If, by contrast, the top 10% of people hold all the wealth in a country, then there will be no wealth for the poorest 90% of people, then wealth will jump up at the far right side of the graph. This will generate a very large gap between the 45% line and actual income for most of the graph, generating a large value for the area $A$, creating a very high Gini Coefficient. \n",
    "\n",
    "To illustrate, here are a few different Gini plots. These come from someone studying inequality of participation, so to adapt this to our study of income, just imagine the y-axis plots share of income):\n",
    "\n",
    "![gini_distributions](https://miro.medium.com/max/595/0*3DTcZnzDwS6A6AtP)"
   ]
  },
  {
   "cell_type": "markdown",
   "metadata": {},
   "source": [
    "For discrete data, the Gini Coefficient can be calculated with the following formula: \n",
    "\n",
    "$$\\frac{2 \\sum_{i=1}^n i y_i}{n \\sum_{i=1}^n y_i} -\\frac{n+1}{n}$$\n",
    "\n",
    "Where $i$ is each country's rank ordering from poorest to richest, and $y_i$ is the income of country $i$.\n"
   ]
  },
  {
   "cell_type": "markdown",
   "metadata": {},
   "source": [
    "\n",
    "### Exercise 6\n",
    "\n",
    "Using this formula, calculate the Gini coefficient for our income data.\n",
    "\n",
    "Note: if you are not comfortable with the mathematical notation above, you can look it up (just google \"summation notation wikipedia\" or go to https://en.wikipedia.org/wiki/Summation), or skip this section if you'd like — this is an *ungraded* exercise, so skipping will not impact your ability to progress.\n",
    "\n",
    "Begin by writing a function to calculate the Gini Coefficient for our data *by looping over the entries in our Series*. In other words, try and embrace the spirit of how you might normally think about interpreting the summation notation written above.\n",
    "\n",
    "Please round your Gini coefficient to 4 decimal places. Do *not* round any intermediate values you calculate — you should only round your final answer. Rounding intermediate results will result in compounding errors, and may result in an incorrect answer.\n",
    "\n",
    "**HINT**: Be careful with 0-indexing! Python counts from 0, but mathematical formulas (like $\\sum$) start from 1!\n",
    "\n",
    "**HINT 2**: I'll probably ask you to use this more than once, so please put it in a function."
   ]
  },
  {
   "cell_type": "markdown",
   "metadata": {},
   "source": [
    "### Exercise 7\n",
    "\n",
    "Excellent! In data science we generally strive to *not* loop over the entries in our arrays; instead, we aspire to write *vectorized code* that naturally applies a simple operation to each observation.\n",
    "\n",
    "So now write a new function to calculate the Gini Coefficient that *doesn't* use loops, and instead relies on vectorized code.\n",
    "\n",
    "Please round your Gini coefficient to 4 decimal places. Do *not* round any intermediate values you calculate — you should only round your final answer. Rounding intermediate results will result in compounding errors, and may result in an incorrect answer.\n",
    "\n",
    "**HINT:** you will probably have to create some new series/vectors/arrays using a function like `np.arange` or a method like `.rank()`."
   ]
  },
  {
   "cell_type": "markdown",
   "metadata": {},
   "source": [
    "### Exercise 8\n",
    "\n",
    "The result we just generated offers a snap-shot of inequality for this subset of countries. But what are the dynamics of inequality for these countries?\n",
    "\n",
    "There is an idea in economics called the \"convergence hypothesis\", which argues that poorer countries are likely to grow faster, and as a result global inequality is likely to decline. Economists advocating for this hypothesis pointed out that while rich countries had to invent new technologies in order to grow, many poor countries simply had to take advantage of innovations already developed by rich countries. \n",
    "\n",
    "To test this hypothesis, let's do a small analysis of the dynamics of income inequality in our sample. Create the following Series in your Python session, which provides the average growth rate of GDP per capita for all the countries in our sample from 2000 to 2018. \n",
    "\n",
    "```python\n",
    "avg_growth = pd.Series(\n",
    "    [\n",
    "        -0.29768835,\n",
    "        0.980299584,\n",
    "        4.52991925,\n",
    "        3.686556736,\n",
    "        2.621416804,\n",
    "        0.775132075,\n",
    "        2.015489468,\n",
    "        3.345793635,\n",
    "        1.349993318,\n",
    "        0.982775018,\n",
    "    ],\n",
    "    index=[\n",
    "        \"Bahrain\",\n",
    "        \"Belgium\",\n",
    "        \"Bulgaria\",\n",
    "        \"Ireland\",\n",
    "        \"Macedonia\",\n",
    "        \"Norway\",\n",
    "        \"Paraguay\",\n",
    "        \"Singapore\",\n",
    "        \"South Africa\",\n",
    "        \"Switzerland\",\n",
    "    ],\n",
    ")\n",
    "```"
   ]
  },
  {
   "cell_type": "markdown",
   "metadata": {},
   "source": [
    "Using this data on average growth rates in GDP per capita, and assuming growth rates from 2000 to 2018 continue into the future, estimate what our Gini Coefficient may look like in 2025 (remembering that income in our data is from 2008, so we're extrapolating ahead 17 years)?\n",
    "\n",
    "**Hint:** the formula for compound growth (i.e. value of something growing at a rate of `x` percent for $t$ periods) is:\n",
    "\n",
    "$$future\\_value = current\\_value * (1 + \\frac{percentage\\_growth\\_rate}{100}))^t$$\n",
    "\n",
    "Please round your final Gini coefficient to 4 decimal places."
   ]
  },
  {
   "cell_type": "markdown",
   "metadata": {},
   "source": [
    "### Exercise 9\n",
    "\n",
    "Interpret your result -- for this small sample of countries, if growth continued at the rates given, would we see convergence in incomes or not?\n",
    "\n",
    "[After you're done, you can see a more systematic version of this analysis here!](https://www.cgdev.org/blog/everything-you-know-about-cross-country-convergence-now-wrong)"
   ]
  }
 ],
 "metadata": {
  "interpreter": {
   "hash": "f06fa9c80cc08d4d343f66ad24a278ad0285590eac640a80c32c9d748f33a802"
  },
  "kernelspec": {
   "display_name": "Python 3.9.7 64-bit ('base': conda)",
   "name": "python3"
  },
  "language_info": {
   "codemirror_mode": {
    "name": "ipython",
    "version": 3
   },
   "file_extension": ".py",
   "mimetype": "text/x-python",
   "name": "python",
   "nbconvert_exporter": "python",
   "pygments_lexer": "ipython3",
   "version": "3.11.4"
  }
 },
 "nbformat": 4,
 "nbformat_minor": 4
}