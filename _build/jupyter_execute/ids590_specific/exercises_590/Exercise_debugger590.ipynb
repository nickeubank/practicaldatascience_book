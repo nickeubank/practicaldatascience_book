{
 "cells": [
  {
   "cell_type": "markdown",
   "id": "a636670b",
   "metadata": {},
   "source": [
    "# Practicing with the VS Code Debugger\n",
    "\n",
    "You've been asked by a colleague to help them figure out why they're having issues with a script they wrote. The package is designed to figure out what words in a sentence are repeated.\n",
    "\n",
    "So for example, if our sentence were:\n",
    "\n",
    "> far out in the uncharted backwaters of the unfashionable end of the western spiral arm of the Galaxy lies a small unregarded yellow sun.\n",
    "\n",
    "The script should return `['the', 'of']`.\n",
    "\n",
    "Or if the sentence were: \n",
    "\n",
    "> You should always be yourself unless you can be Batman then you should always be Batman.\n",
    "\n",
    "The script should return `['be', 'you', 'should', 'always', 'Batman']`.\n",
    "\n",
    "## Exercise 1: \n",
    "\n",
    "Download your [colleague's script here](https://github.com/nickeubank/practicaldatascience_book/blob/main/Example_Data/debugger_590.py) and familiarize yourself with its contents.\n",
    "\n",
    "One trick, for those who aren't familiar with string manipulation: You can subset a string just the way you would a list. So for example if I have a string:"
   ]
  },
  {
   "cell_type": "code",
   "execution_count": 1,
   "id": "8904379d",
   "metadata": {},
   "outputs": [],
   "source": [
    "my_string = \"My name is Nick\""
   ]
  },
  {
   "cell_type": "markdown",
   "id": "5e40ea16",
   "metadata": {},
   "source": [
    "I can shorten it to my name by subsetting:"
   ]
  },
  {
   "cell_type": "code",
   "execution_count": 3,
   "id": "ee8be416",
   "metadata": {},
   "outputs": [
    {
     "data": {
      "text/plain": [
       "'Nick'"
      ]
     },
     "execution_count": 3,
     "metadata": {},
     "output_type": "execute_result"
    }
   ],
   "source": [
    "my_string[11:]"
   ]
  },
  {
   "cell_type": "markdown",
   "id": "a30a0cd2",
   "metadata": {},
   "source": [
    "## Exercise 2:\n",
    "\n",
    "Run the script. What happens? Did it run? Did both tests pass?"
   ]
  },
  {
   "cell_type": "markdown",
   "id": "dab0cfc2",
   "metadata": {},
   "source": [
    "## Exercise 3: \n",
    "\n",
    "What type of error did you just encounter—a logical error or a syntax error?"
   ]
  },
  {
   "cell_type": "markdown",
   "id": "affe08de",
   "metadata": {},
   "source": [
    "## Exercise 4:\n",
    "\n",
    "To address this error, run the script in VS Code's Python Debugger. Try to figure out the problem you saw when you ran your code.\n",
    "\n",
    "(Admittedly, the first bug is one you might be able to solve without the debugger, but let's try it!)"
   ]
  },
  {
   "cell_type": "markdown",
   "id": "52e2bf99",
   "metadata": {},
   "source": [
    "## Exercise 5:\n",
    "\n",
    "Once you've fixed that bug, run your script again. Did the code run without problems? Did all the tests turn out as expected?"
   ]
  },
  {
   "cell_type": "markdown",
   "id": "fa8c92e8",
   "metadata": {},
   "source": [
    "## Exercise 6: \n",
    "\n",
    "Based on your answers to Exercise 5, which *kind* of bug are you encountering: a syntax error or a logical error?"
   ]
  },
  {
   "cell_type": "markdown",
   "id": "4e27a885",
   "metadata": {},
   "source": [
    "## Exercise 7:\n",
    "\n",
    "Using the debugger, try and track down the source of the problem you've now found."
   ]
  }
 ],
 "metadata": {
  "kernelspec": {
   "display_name": "Python 3.10.6 ('base')",
   "language": "python",
   "name": "python3"
  },
  "language_info": {
   "codemirror_mode": {
    "name": "ipython",
    "version": 3
   },
   "file_extension": ".py",
   "mimetype": "text/x-python",
   "name": "python",
   "nbconvert_exporter": "python",
   "pygments_lexer": "ipython3",
   "version": "3.10.6"
  },
  "vscode": {
   "interpreter": {
    "hash": "718fed28bf9f8c7851519acf2fb923cd655120b36de3b67253eeb0428bd33d2d"
   }
  }
 },
 "nbformat": 4,
 "nbformat_minor": 5
}