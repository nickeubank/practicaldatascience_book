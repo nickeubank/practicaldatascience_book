{
 "cells": [
  {
   "cell_type": "markdown",
   "metadata": {},
   "source": [
    "# "
   ]
  },
  {
   "attachments": {},
   "cell_type": "markdown",
   "metadata": {},
   "source": [
    "# Viewing the World in New Ways Using Remote Sensing Data\n",
    "\n",
    "We discussed in our last section that natural color imagery is based on three color bands: red, green, and blue, which each correspond to the measurements of a sensor (i.e. a camera) collecting information on the wavelengths of light that correspond to the colors red (625-750 nm), green (500-565nm), and blue (450-485nm). These are the colors our built-in sensors (eyeballs) can detect. However, there are many other wavelengths to explore. Frequently, when we're working with remote sensing data from satellites, we do not solely care about RGB data, but also infrared data that measures light around 840nm in wavelength. Near-infrared (NIR) data can be exceptionally informative for learning about the presence and health of vegetation which can be useful for agriculture as well as understanding the degree of urban development in a region.\n",
    "\n",
    "In this exercise, you'll explore how we can work with matrices to gain more information about vegetation in a region using a collection of satellite imagery from Kansas, USA from the Sentinel-2 instrument of the European Space Administration (ESA). You can explore publicly available ESA data at https://scihub.copernicus.eu/dhus/.\n",
    "\n",
    "Let's take a look at each band individually, then the RGB bands together for a standard natural color image. From there we'll take a look at a false color infrared image which will provide information on the relative health of the vegetation. Lastly, we'll explore the normalized difference vegetation index (NDVI) which is used to quantify the amount of vegetation present in a region.\n"
   ]
  },
  {
   "cell_type": "markdown",
   "metadata": {},
   "source": [
    "## Exercise 0\n",
    "\n",
    "Start by downloading and unzipping our [satellite data from here](https://github.com/nickeubank/practicaldatascience_book/blob/main/notebooks/class_2/week_4/data/satellite_images.zip).\n",
    "\n",
    "We'll get started by loading are data as a set of three separate matrices representing the red, blue, green, and NIR bands of our data. Here's the code to get you started. This code loads four numpy arrays, one for red, green, blue, and NIR: `band2_blue`, `band3_green`, `band4_red`, and `band8_nir`."
   ]
  },
  {
   "attachments": {},
   "cell_type": "markdown",
   "metadata": {},
   "source": [
    "## Exercise 1\n",
    "\n",
    "Now that you have the data loaded, let's verify we can see each of the bands individually in grayscale (remember, it's combining them together that will give them color). Using the function `plot_image` below, plot each of the four bands independently and note any similarities or differences.\n",
    "\n",
    "\n",
    "```python\n",
    "\n",
    "def plot_image(im, colormap=\"Greys_r\"):\n",
    "    \"\"\"Plots either a single band or a 3-band image, depending on whether `im` is 2-D or 3-D\n",
    "    For single band images, you can specify the colormap or the default of 'Greys_r' is chosen.\n",
    "    \"\"\"\n",
    "    fig, ax = plt.subplots(figsize=(8, 8))\n",
    "    perc = 5\n",
    "    percentiles = np.percentile(im, [perc, 100 - perc])\n",
    "    if im.ndim == 3:\n",
    "        ax.imshow(\n",
    "            im * 3 # This increases the image brightness for easier viewing\n",
    "        )  \n",
    "    elif im.ndim == 2:\n",
    "        ax.imshow(im, cmap=colormap, vmin=percentiles[0], vmax=percentiles[1])\n",
    "    plt.show()\n",
    "\n",
    "```"
   ]
  },
  {
   "attachments": {},
   "cell_type": "markdown",
   "metadata": {},
   "source": [
    "### Exercise 2\n",
    "\n",
    "Next, let's look at the natural color imagery. You'll notice that each band is of shape (1000, 1000). This is a 2-D array. However, to make a color image, you'll need to make a 3-D array out of the channels in the correct order. We've explored some approaches to combining arrays of data together, but in this case, we want to add the data along a *new* dimension to make this a 3-D array from 2-D data. \n",
    "\n",
    "As a hint, check out the numpy [`stack` method](https://numpy.org/doc/stable/reference/generated/numpy.stack.html). \n",
    "\n",
    "Create your natural color image (which should be of shape 1000 x 1000 x 3) and plot it using the `plot_image` function. \n",
    "\n",
    "What can you see in the image? Are there any interesting features like bodies of water, populated areas, farms, etc.?"
   ]
  },
  {
   "attachments": {},
   "cell_type": "markdown",
   "metadata": {},
   "source": [
    "## Exercise 3 \n",
    "\n",
    "Now we start to get to even more interesting ways of plotting the image. Let's plot a false-color infrared image. What this means is that instead of putting \"red\" where \"red\" should be in a natural color RGB image and \"blue\" where \"blue\" should be, we mix them up in a way that gives us useful information about our data. \n",
    "\n",
    "Let's construct a 3-D array with the NIR band first, the red band second, and the green band third; that is (Band 8, Band 4, Band 3) in the places where RGB normally would be found. Plot that array using the `plot_image` function.\n",
    "\n",
    "When viewing this image, what you'll notice is that healthiest vegetation should be closer to red and the more urban areas should be closer to white. How does this image compare to the natural color image?"
   ]
  },
  {
   "attachments": {},
   "cell_type": "markdown",
   "metadata": {},
   "source": [
    "## Exercise 4 \n",
    "\n",
    "Lastly, there is also an index we can calculate that tells about the amount of vegetation present in a region. This index is called the normalized difference vegetation index, or NDVI. The formula for calculating NDVI is:\n",
    "\n",
    "$$NDVI = \\frac{B8 - B4}{B8 + B4}$$\n",
    "\n",
    "Calculate this and plot the single band using `plot_image` with the `\"PiYG\"` colormap. In this case, the more green - the greater the vegetation present, the brighter the green. \n",
    "\n",
    "Which of these different options seems most informative about vegetation? Which presentation of the data did you learn most about the region from?"
   ]
  },
  {
   "cell_type": "markdown",
   "metadata": {},
   "source": [
    "## Exercise 5\n",
    "\n",
    "As you can see in the color version of this image, there is a town on the right-hand side of this image about half-way up. The town limits fall roughly between columns 780 and 835 of this image, and between rows 475 and 570. \n",
    "\n",
    "What is the average value of the NDVI for this town? How does that compare to the NDVI "
   ]
  }
 ],
 "metadata": {
  "kernelspec": {
   "display_name": "base",
   "language": "python",
   "name": "python3"
  },
  "language_info": {
   "codemirror_mode": {
    "name": "ipython",
    "version": 3
   },
   "file_extension": ".py",
   "mimetype": "text/x-python",
   "name": "python",
   "nbconvert_exporter": "python",
   "pygments_lexer": "ipython3",
   "version": "3.12.8"
  }
 },
 "nbformat": 4,
 "nbformat_minor": 2
}