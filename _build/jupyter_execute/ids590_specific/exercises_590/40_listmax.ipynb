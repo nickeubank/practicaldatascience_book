{
 "cells": [
  {
   "cell_type": "markdown",
   "id": "7df6dced",
   "metadata": {},
   "source": [
    "# Maximum Value in a List\n",
    "\n",
    "In this exercise, you will be writing a function to find the largest item in a list. \n",
    "\n",
    "Obviously, Python has a built in `max()` function, but the point here is to practice with list operations, not to use that function. \n",
    "\n",
    "(Also, be aware that the Python library function `max()` behaves differently for an empty list or `None`, but we have not covered exceptions yet, so `list_max` will have slightly different behavior for these corner cases.)\n"
   ]
  },
  {
   "cell_type": "markdown",
   "id": "34fa368c",
   "metadata": {},
   "source": [
    "## Setup\n",
    "\n",
    "In VS Code, create a file called `listmax.py`. (**No underscore or capitals**)\n",
    "\n",
    "Place the following scaffolding into that file. \n",
    "\n",
    "Note that in this scaffolding we have chosen not to use a `main()` function — instead, the code that in previous exercises we might have included under `def main():` we have placed direction in the `if __name__ == \"__main__\":` block. This is just another way to organize a file, and makes no difference to execution.\n",
    "\n",
    "```python\n",
    "def list_max(my_list):\n",
    "    pass\n",
    "\n",
    "\n",
    "# You don't have to change this function\n",
    "def do_test(my_list):\n",
    "    \"\"\"\n",
    "    Prints out list being tested\n",
    "    and result of list_max()\n",
    "    \"\"\"\n",
    "    print(f\"list_max({my_list}) is: {list_max(my_list)}\")\n",
    "\n",
    "\n",
    "if __name__ == \"__main__\":\n",
    "    list1 = [77, 33, 19, 99, 42, 6, 27, 4]\n",
    "    list2 = [-3, -42, -99, -1000, -999, -88, -77]\n",
    "    list3 = [425, 59, -3, 77, 0, 36]\n",
    "    do_test(list1)\n",
    "    do_test(list2)\n",
    "    do_test(list3)\n",
    "    do_test(None)\n",
    "    do_test([])\n",
    "```\n"
   ]
  },
  {
   "cell_type": "markdown",
   "id": "86eeab45",
   "metadata": {},
   "source": [
    "## Write the Code for `list_max`\n",
    "\n",
    "Fill in `list_max` so it returns the largest element in the list passed in. If the list has no elements or is `None`, this function should return `None`.\n",
    "\n",
    "\n",
    "## Test Locally\n",
    "\n",
    "Run your code to see if you get results from the tests in `main` are `99`, `-3`, `425`, `None`, and `None` for the five tests provided.\n",
    "\n",
    "## Submit to Gradescope\n",
    "\n",
    "Submit your code to gradescope! As always, we'll be testing against arguments that are different from the ones you can look at here, that suggests you have an issue that these cases didn't catch but which does exist.\n",
    "\n"
   ]
  }
 ],
 "metadata": {
  "language_info": {
   "name": "python"
  }
 },
 "nbformat": 4,
 "nbformat_minor": 5
}