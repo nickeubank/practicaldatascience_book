{
 "cells": [
  {
   "cell_type": "markdown",
   "id": "6b892d7a",
   "metadata": {},
   "source": [
    "# Closest Point"
   ]
  },
  {
   "cell_type": "markdown",
   "id": "f4e7ca0f",
   "metadata": {},
   "source": [
    "In Course 1, we worked through the first 4 steps for the \"closest point\" problem---given a set `S` and a point `P`, find the member of `S` which is closest to `P`. Now you are ready to turn this into code, though as we will describe below, we are going to change the problem slightly (so you will want to work back through Steps 1--4).\n",
    "\n",
    "You already have a Point class from a previous assignment, which you will use for this assignment.\n",
    "\n",
    "Your job is to write the function: `closest_point(s, p)`\n",
    "\n",
    "where:\n",
    "\n",
    "- `s` is a set of `Points` and\n",
    "- `p` is a `Point` such that this function returns the subset of points from `s` closest to `p`.\n",
    "\n",
    "Note that this is slightly different then what we did in the Course 1 video for Steps 1--4, where we returned one single point.  \n",
    "\n",
    "However, as there may be more than one point at the same distance from p, it makes sense to return a set.\n",
    "\n",
    "For example, if \n",
    "\n",
    "```python\n",
    "\n",
    "s = { Point(3, 4), Point(-3, -4), Point(5, 6), Point(12, 8) }\n",
    "\n",
    "```\n",
    "\n",
    "and\n",
    "\n",
    "```python\n",
    "\n",
    "p = Point(0,0)\n",
    "\n",
    "```\n",
    "\n",
    "then both `(3,4)` and `(-3, -4)` are the same distance (5) from `p`.  So this function would return `{ Point(3, 4), Point(-3, -4) }`\n",
    "\n",
    "Also note that by returning a set, we can say that when the input set (`s`) is empty, you can just return the empty set.\n",
    "\n"
   ]
  },
  {
   "cell_type": "markdown",
   "id": "04ac52ce",
   "metadata": {},
   "source": [
    "## Scaffolding\n",
    "\n",
    "As usual, we have provided some code to help you get started testing below.\n",
    "\n",
    "```python\n",
    "\n",
    "from point import Point\n",
    "\n",
    "\n",
    "def closestPoint(s, p):\n",
    "    return set()\n",
    "\n",
    "\n",
    "if __name__ == \"__main__\":\n",
    "\n",
    "    def test(s, p):\n",
    "        ans = closestPoint(s, p)\n",
    "        # We'll turn the set into a sorted list before\n",
    "        # we print it to avoid any issues with what order things\n",
    "        # are in\n",
    "        sorted_ans = sorted(ans, key=lambda p: (p.x, p.y))\n",
    "        print(sorted_ans)\n",
    "        pass\n",
    "\n",
    "    p1 = Point()\n",
    "    p2 = Point(3, 4)\n",
    "    p3 = Point(-3, 4)\n",
    "    p4 = Point(3, -4)\n",
    "    p5 = Point(1, 9)\n",
    "    p6 = Point(8, 2)\n",
    "    p7 = Point(-2, -5)\n",
    "    p8 = Point(-6, 8)\n",
    "    points = [p1, p2, p3, p4, p5, p6, p7, p8]\n",
    "    for i in range(0, len(points)):\n",
    "        s = set(points[:i]).union(set(points[i + 1 :]))\n",
    "        test(s, points[i])\n",
    "        pass\n",
    "    # check that empty set gives empty set\n",
    "    test({}, p1)\n",
    "    # if the target point is in the list, we should get that point itself\n",
    "    test(set(points), p5)\n",
    "\n",
    "```\n"
   ]
  },
  {
   "cell_type": "markdown",
   "id": "632cda3e",
   "metadata": {},
   "source": [
    "## Expected Output"
   ]
  },
  {
   "cell_type": "markdown",
   "id": "ce0419ed",
   "metadata": {},
   "source": [
    "This should give the output:\n",
    "\n",
    "```\n",
    "[Point(-3, 4), Point(3, -4), Point(3, 4)]\n",
    "[Point(0, 0)]\n",
    "[Point(-6, 8), Point(0, 0)]\n",
    "[Point(0, 0)]\n",
    "[Point(3, 4)]\n",
    "[Point(3, 4)]\n",
    "[Point(3, -4)]\n",
    "[Point(-3, 4)]\n",
    "[]\n",
    "[Point(1, 9)]\n",
    "```"
   ]
  }
 ],
 "metadata": {
  "language_info": {
   "name": "python"
  }
 },
 "nbformat": 4,
 "nbformat_minor": 5
}