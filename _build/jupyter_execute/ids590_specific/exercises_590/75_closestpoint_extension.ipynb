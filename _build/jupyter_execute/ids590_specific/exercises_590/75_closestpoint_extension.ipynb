{
 "cells": [
  {
   "cell_type": "markdown",
   "id": "6b892d7a",
   "metadata": {},
   "source": [
    "# Closest Point"
   ]
  },
  {
   "cell_type": "markdown",
   "id": "f4e7ca0f",
   "metadata": {},
   "source": [
    "In Course 1, we worked through the first 4 steps for the \"closest point\" problem---given a set `S` and a point `P`, find the member of `S` which is closest to `P`. Now you are ready to turn this into code, though as we will describe below, we are going to change the problem slightly (so you will want to work back through Steps 1--4).\n",
    "\n",
    "You already have a Point class from a previous assignment, which you will use for this assignment.\n",
    "\n",
    "Your job is to write the function: `closest_point(s, p)`\n",
    "\n",
    "where:\n",
    "\n",
    "- `s` is a set of `Points` and\n",
    "- `p` is a `Point` such that this function returns the subset of points from `s` closest to `p`.\n",
    "\n",
    "Note that this is slightly different then what we did in the Course 1 video for Steps 1--4, where we returned one single point.  \n",
    "\n",
    "However, as there may be more than one point at the same distance from p, it makes sense to return a set.\n",
    "\n",
    "For example, if \n",
    "\n",
    "```python\n",
    "\n",
    "s = { Point(3, 4), Point(-3, -4), Point(5, 6), Point(12, 8) }\n",
    "\n",
    "```\n",
    "\n",
    "and\n",
    "\n",
    "```python\n",
    "\n",
    "p = Point(0,0)\n",
    "\n",
    "```\n",
    "\n",
    "then both `(3,4)` and `(-3, -4)` are the same distance (5) from `p`.  So this function would return `{ Point(3, 4), Point(-3, -4) }`\n",
    "\n",
    "Also note that by returning a set, we can say that when the input set (`s`) is empty, you can just return the empty set.\n",
    "\n"
   ]
  },
  {
   "cell_type": "markdown",
   "id": "0164b754",
   "metadata": {},
   "source": [
    "## Comparing Numbers\n",
    "\n",
    "In order to implement this algorithm correctly, it will be necessary for you to use a special function you have not encountered before for comparing two numbers.\n",
    "\n",
    "As we will discuss later in the semester, when computers work with integers (`-1`, `0`, `1`, `2`, etc.), it stores those as exact values. `1`, in a computer, is always equal to `1`.\n",
    "\n",
    "But the same cannot be said for non-integer numbers (e.g., `2.5`, `1.233`, etc.). Numbers that are not integers are stored in as a data type called a floating point number, or `float` for short. These numbers are actually represented in memory as very clever approximations of the numbers we see using a format that allows them to store both tiny numbers `0.0000000024` and gigantic numbers `1,000,000,000,000,000,000,000` using the same amount of space of memory (64 bits, or 64 1s and 0s.).\n",
    "\n",
    "But because these numbers are only approximations, occassionally weird things happen. For example, if you ask a computer whether `0.1 + 0.1 + 0.1 == 0.3`, the computer will say that those are different:"
   ]
  },
  {
   "cell_type": "code",
   "execution_count": 1,
   "id": "da56260d",
   "metadata": {},
   "outputs": [
    {
     "data": {
      "text/plain": [
       "False"
      ]
     },
     "execution_count": 1,
     "metadata": {},
     "output_type": "execute_result"
    }
   ],
   "source": [
    "0.1 + 0.1 + 0.1 == 0.3"
   ]
  },
  {
   "cell_type": "markdown",
   "id": "86024bf9",
   "metadata": {},
   "source": [
    "While in other similar situations, you get the expected result:"
   ]
  },
  {
   "cell_type": "code",
   "execution_count": 2,
   "id": "ec0cdc8b",
   "metadata": {},
   "outputs": [
    {
     "data": {
      "text/plain": [
       "True"
      ]
     },
     "execution_count": 2,
     "metadata": {},
     "output_type": "execute_result"
    }
   ],
   "source": [
    "0.1 + 0.1 == 0.2"
   ]
  },
  {
   "cell_type": "code",
   "execution_count": 5,
   "id": "315ee83b",
   "metadata": {},
   "outputs": [
    {
     "data": {
      "text/plain": [
       "True"
      ]
     },
     "execution_count": 5,
     "metadata": {},
     "output_type": "execute_result"
    }
   ],
   "source": [
    "0.11 + 0.11 + 0.11 == 0.33"
   ]
  },
  {
   "cell_type": "markdown",
   "id": "5c274c91",
   "metadata": {},
   "source": [
    "(Don't worry — we'll explore in detail why this happens in a couple weeks.)"
   ]
  },
  {
   "cell_type": "markdown",
   "id": "f1ec13d4",
   "metadata": {},
   "source": [
    "So when comparing `floats` for equality — like the distance between a Point and two other Points — we often need to use a tool that understands how these approximations work. In the Python standard library, this is the `isclose()` function in the `math` library:"
   ]
  },
  {
   "cell_type": "code",
   "execution_count": 6,
   "id": "6e28be34",
   "metadata": {},
   "outputs": [
    {
     "data": {
      "text/plain": [
       "True"
      ]
     },
     "execution_count": 6,
     "metadata": {},
     "output_type": "execute_result"
    }
   ],
   "source": [
    "import math\n",
    "\n",
    "math.isclose(0.1 + 0.1 + 0.1, 0.3)"
   ]
  },
  {
   "cell_type": "markdown",
   "id": "2cbec1d8",
   "metadata": {},
   "source": [
    "So when writing your algorithm, please use the `math.isclose` function instead of `==` when trying to determine if two distances are the same."
   ]
  },
  {
   "cell_type": "markdown",
   "id": "04ac52ce",
   "metadata": {},
   "source": [
    "## Scaffolding\n",
    "\n",
    "As usual, we have provided some code to help you get started testing below.\n",
    "\n",
    "```python\n",
    "\n",
    "from point import Point\n",
    "\n",
    "\n",
    "def closestPoint(s, p):\n",
    "    return set()\n",
    "\n",
    "if __name__ == \"__main__\":\n",
    "\n",
    "    def test(s, p):\n",
    "        ans = closestPoint(s, p)\n",
    "        # We'll turn the set into a sorted list before\n",
    "        # we print it to avoid any issues with what order things\n",
    "        # are in\n",
    "        sorted_ans = sorted(ans, key=lambda p: (p.x, p.y))\n",
    "        print(sorted_ans)\n",
    "        pass\n",
    "\n",
    "    p1 = Point()\n",
    "    p2 = Point(3, 4)\n",
    "    p3 = Point(-3, 4)\n",
    "    p4 = Point(3, -4)\n",
    "    p5 = Point(1, 9)\n",
    "    p6 = Point(8, 2)\n",
    "    p7 = Point(-2, -5)\n",
    "    p8 = Point(-6, 8)\n",
    "    points = [p1, p2, p3, p4, p5, p6, p7, p8]\n",
    "\n",
    "    # Creates different subsets of these points\n",
    "    # to test\n",
    "    for i in range(len(points)):\n",
    "        s = set(points[:i]).union(set(points[i + 1 :]))\n",
    "        test(s, points[i])\n",
    "\n",
    "    # check that empty set gives empty set\n",
    "    test({}, p1)\n",
    "\n",
    "    # if the target point is in the list, we should get that point itself\n",
    "    test(set(points), p5)\n",
    "\n",
    "\n",
    "```\n"
   ]
  },
  {
   "cell_type": "markdown",
   "id": "632cda3e",
   "metadata": {},
   "source": [
    "## Expected Output"
   ]
  },
  {
   "cell_type": "markdown",
   "id": "ce0419ed",
   "metadata": {},
   "source": [
    "This should give the output:\n",
    "\n",
    "```\n",
    "\n",
    "[Point(-3, 4), Point(3, -4), Point(3, 4)]\n",
    "[Point(0, 0)]\n",
    "[Point(-6, 8), Point(0, 0)]\n",
    "[Point(0, 0)]\n",
    "[Point(3, 4)]\n",
    "[Point(3, 4)]\n",
    "[Point(3, -4)]\n",
    "[Point(-3, 4)]\n",
    "[]\n",
    "[Point(1, 9)]\n",
    "\n",
    "```"
   ]
  }
 ],
 "metadata": {
  "kernelspec": {
   "display_name": "base",
   "language": "python",
   "name": "python3"
  },
  "language_info": {
   "codemirror_mode": {
    "name": "ipython",
    "version": 3
   },
   "file_extension": ".py",
   "mimetype": "text/x-python",
   "name": "python",
   "nbconvert_exporter": "python",
   "pygments_lexer": "ipython3",
   "version": "3.12.8"
  }
 },
 "nbformat": 4,
 "nbformat_minor": 5
}