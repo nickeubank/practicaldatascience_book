{
 "cells": [
  {
   "cell_type": "markdown",
   "id": "72443732",
   "metadata": {},
   "source": [
    "# Code-Drawing Template"
   ]
  },
  {
   "cell_type": "markdown",
   "id": "c2c6b3f9",
   "metadata": {},
   "source": [
    "![code frame](images/code_frame.png)\n",
    "![code frame](images/code_frame.png)\n",
    "![code frame](images/code_frame.png)\n",
    "![code frame](images/code_frame.png)\n",
    "![code frame](images/code_frame.png)\n",
    "![code frame](images/code_frame.png)\n",
    "![code frame](images/code_frame.png)\n",
    "![code frame](images/code_frame.png)\n",
    "![code frame](images/code_frame.png)\n",
    "![code frame](images/code_frame.png)\n",
    "![code frame](images/code_frame.png)\n",
    "![code frame](images/code_frame.png)\n"
   ]
  },
  {
   "cell_type": "code",
   "execution_count": null,
   "id": "fb061d8a",
   "metadata": {},
   "outputs": [],
   "source": []
  }
 ],
 "metadata": {
  "kernelspec": {
   "display_name": "Python 3",
   "language": "python",
   "name": "python3"
  },
  "language_info": {
   "codemirror_mode": {
    "name": "ipython",
    "version": 3
   },
   "file_extension": ".py",
   "mimetype": "text/x-python",
   "name": "python",
   "nbconvert_exporter": "python",
   "pygments_lexer": "ipython3",
   "version": "3.7.3"
  }
 },
 "nbformat": 4,
 "nbformat_minor": 5
}