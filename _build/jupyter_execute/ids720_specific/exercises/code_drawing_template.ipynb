{
 "cells": [
  {
   "cell_type": "markdown",
   "id": "d76fa087",
   "metadata": {},
   "source": [
    "# Code-Drawing Template"
   ]
  },
  {
   "cell_type": "markdown",
   "id": "1d4e4579",
   "metadata": {},
   "source": [
    "![code frame](images/code_frame.png)\n",
    "![code frame](images/code_frame.png)\n",
    "![code frame](images/code_frame.png)\n",
    "![code frame](images/code_frame.png)\n",
    "![code frame](images/code_frame.png)\n",
    "![code frame](images/code_frame.png)\n",
    "![code frame](images/code_frame.png)\n",
    "![code frame](images/code_frame.png)\n",
    "![code frame](images/code_frame.png)\n",
    "![code frame](images/code_frame.png)\n",
    "![code frame](images/code_frame.png)\n",
    "![code frame](images/code_frame.png)\n"
   ]
  },
  {
   "cell_type": "code",
   "execution_count": null,
   "id": "4097a69c",
   "metadata": {},
   "outputs": [],
   "source": []
  }
 ],
 "metadata": {
  "kernelspec": {
   "display_name": "Python 3",
   "language": "python",
   "name": "python3"
  },
  "language_info": {
   "codemirror_mode": {
    "name": "ipython",
    "version": 3
   },
   "file_extension": ".py",
   "mimetype": "text/x-python",
   "name": "python",
   "nbconvert_exporter": "python",
   "pygments_lexer": "ipython3",
   "version": "3.7.3"
  }
 },
 "nbformat": 4,
 "nbformat_minor": 5
}