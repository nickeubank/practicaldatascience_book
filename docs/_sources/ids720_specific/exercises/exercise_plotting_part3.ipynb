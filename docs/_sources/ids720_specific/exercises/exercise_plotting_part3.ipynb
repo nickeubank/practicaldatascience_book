{
    "cells": [
        {
            "cell_type": "markdown",
            "source": [
                "# Build Your Own Chart\n",
                "\n",
                "*This is an INDIVIDUAL exercise!*\n",
                "\n",
                "Now it's your turn to have some fun. Your assignment is to make your own *interactive* chart. You may use the WDI data we've been using in the last couple exercises, or a different dataset (such as ACS) we've used before, or data from another class! Make sure that your chart *tells a story* -- the goal isn't to just make a chart, it's to communicate something about the data you're working with to the reader.\n",
                "\n",
                "The interactivity in your chart make take any form you want -- it may be similar to what we've done above or in the readings, or something more advanced (like connecting two separate charts, so selections in one propagate to the other). \n",
                "\n",
                "Remember that as data scientists, you'll want portfolio pieces on your website, and interactive charts are great things to have, so if you are up for it, you could easily make this something to put on your personal professional website!"
            ],
            "metadata": {}
        }
    ],
    "metadata": {
        "orig_nbformat": 4,
        "language_info": {
            "name": "python"
        }
    },
    "nbformat": 4,
    "nbformat_minor": 5
}