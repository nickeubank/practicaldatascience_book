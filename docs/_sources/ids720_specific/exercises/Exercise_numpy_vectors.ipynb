{
    "cells": [
        {
            "cell_type": "markdown",
            "metadata": {},
            "source": [
                "# Measuring Income Inequality\n"
            ]
        },
        {
            "cell_type": "markdown",
            "metadata": {},
            "source": [
                "\n",
                "In these exercises, we will load and work with a vector that contains estimates of the total income (from all sources) of a random sample of American households collected by the U.S. Census Bureau in 2019 as part of the American Community Survey (ACS).\n",
                "\n",
                "In particular, we are going to use this data to measure household income inequality in the United States, then analyze how that income inequality might change under a range of different tax policies.\n",
                "\n",
                "(Apologies to people who are not from the United States—the United States had some of the cleanest and the easiest household data to work with in the world, and our modal student (after we remove students from countries that don't have similar data) is American, to so picking the United States seemed like the least bad option. \n",
                "\n",
                "However, if you are interested in completing these same exercises for your own country, head over to [IPUMS International](https://international.ipums.org/international/) to see if analogous income data has been made available by your country's Census Bureau. Simply click on the \"Browse Data\" button, then \"Select Sample\" in the top left to find the most recent data available for your country. Then see if you can find income data under the \"Select Harmonized Variables\" \"PERSON\" or \"HOUSEHOLD\" drop-down menus. Note that income data is hard to collect, so it's probably not available for most countries.)"
            ]
        },
        {
            "cell_type": "markdown",
            "metadata": {},
            "source": [
                "## Exercise 0\n",
                "\n",
                "Welcome to your first autograded exercise!\n",
                "\n",
                "Please begin by heading over to the [course autograder guidelines](https://www.practicaldatascience.org/html/autograder_guidelines.html) and reading them *carefully.* \n",
                "\n",
                "Then please also read the guidelines for [writing good notebooks.](https://nickeubank.github.io/practicaldatascience_book/notebooks/PDS_not_yet_in_coursera/20_programming_concepts/writing_good_jupyter_notebooks.html)\n",
                "\n",
                "\n",
                "Please follow [all standard guidance](https://www.practicaldatascience.org/html/autograder_guidelines.html) for submitting this assignment to the Gradescope autograder, including storing your solutions in a dictionary called `results` and ensuring your notebook runs from the start to completion without any errors.\n",
                "\n",
                "For this assignment, please name your file `exercise_numpy_vectors.ipynb` before uploading.\n",
                "\n",
                "You can check that you have answers for all questions in your `results` dictionary with this code:\n",
                "\n",
                "```python\n",
                "assert set(results.keys()) == {\n",
                "    \"ex4_share_below_poverty\",\n",
                "    \"ex4_gini\",\n",
                "    \"ex6_gini_policy_a\",\n",
                "    \"ex6_gini_policy_b\",\n",
                "    \"ex6_gini_which_reduced_more\",\n",
                "    \"ex7_gini_policy_c\",\n",
                "    \"ex8_revenue_raised\",\n",
                "    \"ex9_transfers\",\n",
                "    \"ex10_gini_policy_d\",\n",
                "    \"ex11_gini_policy_e\",\n",
                "    \"ex12_policy_recommendation\",\n",
                "}\n",
                "```\n",
                "\n",
                "### Submission Limits\n",
                "\n",
                "Please remember that you are **only allowed three submissions to the autograder.** Your last submission (if you submit 3 or fewer times), or your third submission (if you submit more than 3 times) will determine your grade Submissions that error out due to problems like the file not having the right name will **not** count against this total.\n"
            ]
        },
        {
            "cell_type": "markdown",
            "metadata": {},
            "source": [
                "## Exercise 1\n",
                "\n",
                "Using `np.loadtxt()`, load the vector of household incomes located at [https://raw.githubusercontent.com/nickeubank/practicaldatascience/master/Example_Data/us_household_incomes.txt](https://raw.githubusercontent.com/nickeubank/practicaldatascience/master/Example_Data/us_household_incomes.txt). Please load the data by passing that URL directly into `np.loadtxt()` as a string—the autograder we're using needs to be able to run your code remotely, which it can't do if it references a file on your hard drive.\n",
                "\n"
            ]
        },
        {
            "cell_type": "markdown",
            "metadata": {},
            "source": [
                "## Exercise 2\n",
                "\n",
                "One of the best ways we have for getting a feel for our data is to plot our data. We will talk much more extensively about plotting in upcoming lessons, but for the moment it's sufficient to know that you can plot a histogram of a numpy vector with:\n",
                "\n",
                "```python\n",
                "from matplotlib import pyplot as plt\n",
                "plt.hist(your_array)\n",
                "```\n",
                "\n",
                "Use this `plt.hist()` method to plot your income data. Does it look like a normal distribution? Uniform? Does this make you think that income inequality is relatively high or low in the United States?\n",
                "\n",
                "**Note:** The x-axis' will range will be determined by the data, with the x-axis being made long enough to include ALL data (but no longer). As a result, there *are* observations across the x-axis, even if there are too few for the bar to be visible.\n",
                "\n",
                "**Note:** Be aware that this data only measures *income*—e.g., wages, salaries, etc. As a result, it actually massively underestimates incomes at the top of the United States income distribution because most of the income for high earners comes in the form of capital gains and investment appreciation which are not included here.\n"
            ]
        },
        {
            "cell_type": "markdown",
            "metadata": {},
            "source": [
                "## Exercise 3\n",
                "\n",
                "You will likely notice that much of the plot is difficult to see because most of the plot is taken up by very high earners. \n",
                "\n",
                "Since the x-axis of our plot is determined by the range of our data, we can create a histogram of US household incomes that includes only households making less than $500,000 to improve our ability to visualize what's going on at lower incomes. For these households—the non-millionaires—do we see a more uniform distribution of incomes? Or is there still a significant [right-skew / positive-skew](https://en.wikipedia.org/wiki/Skewness) (most people are on the left of the distribution, but there are more extreme values in the right tail) in the income distribution?\n",
                "\n",
                "In other words, is the skewness in the US income distribution driven by extreme high earners, or is it evident at all income levels?\n",
                "\n",
                "(Obviously the autograder will not be able to evaluate your answer to this question, but the TAs will)."
            ]
        },
        {
            "cell_type": "markdown",
            "metadata": {},
            "source": [
                "## Gini Index\n",
                "\n",
                "A standard measure of inequality is the [Gini Index / Gini Coefficient](https://en.wikipedia.org/wiki/Gini_coefficient). The measure takes on a value of 0 when everyone in a population has the same allocation of some resource or property, and a value of 1 when all the resource in population accrues to a single person. It is commonly used to measure income and wealth inequality, although it is also worth noting that it has been used in many other contexts, [including neuroscience.](https://neuroplausible.com/gini) \n",
                "\n",
                "For discrete data, the definition of the Gini Index is given below:\n",
                "\n",
                "$$Gini\\ Index = \\frac{2 \\sum_{i=1}^n i y_i}{n \\sum_{i=1}^n y_i} -\\frac{n+1}{n}$$\n",
                "\n",
                "Where $i$ is each observations' rank ordering from those with the fewest resources to those with the most, and $y_i$ is the resources of observation $i$. \n",
                "\n",
                "In an upcoming exercise, you will be asked to code this up yourself in a few different ways, but as that is not the focus of *this* exercise, you can just use the `gini()` function from the `ineqpy` package. You can install it with `pip install ineqpy` (it's a little too small of a package to appear in the conda repositories) and import with `from ineqpy.inequality import gini`."
            ]
        },
        {
            "cell_type": "markdown",
            "metadata": {},
            "source": [
                "## Exercise 4\n",
                "\n",
                "The US poverty line is *about* 20,000 dollars a year. What share of households in these data fall below the US poverty line? (By \"share\" I mean the proportion, a value between 0 and 1).\n",
                "\n",
                "(I say \"about\" because the actual poverty line for household income depends on the number of people in the household, which we have not included in these data.)\n",
                "\n",
                "Using the `gini` function above, calculate the Gini Index of income inequality in the US. What is that value?\n",
                "\n",
                "Store your share of households under 20,000 as `ex4_share_below_poverty`, store the gini score as `ex4_gini`.\n"
            ]
        },
        {
            "cell_type": "markdown",
            "metadata": {},
            "source": [
                "## Exercise 5\n",
                "\n",
                "Go compare your estimate to that of [other countries here.](https://www.indexmundi.com/facts/indicators/SI.POV.GINI/rankings) (Note: in this table, estimated Gini values have been multiplied 100. In addition, as a result of sampling variation, income binning, differences in the exact methods used to calculate income, year of data, availability of data on top incomes, etc., your Gini for the US will be somewhat different from the Gini for the US in this table. It *should* be close to the data from the [US Census Bureau](https://www.statista.com/statistics/219643/gini-coefficient-for-us-individuals-families-and-households/)). How does the US compare to other countries? Is that what you expected? \n",
                "   - **Note:** The Gini Index of income is only one metric of inequality! Results would be very different if we were to calculate, for example, the ratio of the income of the top 0.1% of earners to the income of the lowest-earning 10% of the population, or if we calculated this metric using wealth instead of income!\n"
            ]
        },
        {
            "cell_type": "markdown",
            "metadata": {},
            "source": [
                "\n",
                "## Exercise 6\n",
                "\n",
                "Congratulations! You have been hired by the President of the United States to advise them on their efforts to reduce income inequality. The first set of policies that the president has asked you to evaluate is whether income inequality would be decreased more under:\n",
                "\n",
                "- `Policy A`: giving every household that makes less than 40,000 dollars a check for 5,000 dollars, or \n",
                "- `Policy B`: giving every household that makes less than 30,000 dollars a check for 7,000 dollars. \n",
                "\n",
                "What is the new Gini under Policy A?  Store in the `results` dict under the key `\"ex6_gini_policy_a\"`.\n",
                "What is the new Gini under Policy B?  Store in the `results` dict under the key `\"ex6_gini_policy_b\"`.\n",
                "\n",
                "Which has lowered inequality more? Store your answer as the string `\"Policy A\"` or `\"Policy B\"` in the `results` dict under the key `\"ex6_gini_which_reduced_more`.\n",
                "\n",
                "**Note:** Vectors are mutable (like lists), so you should create a clean copy of your income data with the `.copy()` method (e.g. `experiment1 = income_vector.copy()`) before starting to make changes during each exercise. We'll talk a lot more about vector mutability in a future reading, but so long as you use `.copy()` you will be fine here! \n",
                "\n",
                "**Note:** Gini values won't change a lot due to these kinds of changes, so you'll need to look to three or four decimal places."
            ]
        },
        {
            "cell_type": "markdown",
            "metadata": {},
            "source": [
                "## Exercise 7"
            ]
        },
        {
            "cell_type": "markdown",
            "metadata": {},
            "source": [
                "Now the president would like to know whether income inequality can be reduced more the policy you decided was preferable above, *or* through `Policy C`: applying a tax of 5% to households making more than 250,000 dollars and using the money to pay down the National Debt. \n",
                "\n",
                "(In other words, `Policy C` would reduce the income of any households earning more than 250,000 dollars by 5%.)\n",
                "\n",
                "Calculate the Gini Index resulting from the President's tax proposal? Store in the `results` dict under the key `\"ex7_gini_policy_c\"`."
            ]
        },
        {
            "cell_type": "markdown",
            "metadata": {},
            "source": [
                "## Exercise 8\n",
                "\n",
                "Now suppose we were thinking about applying a 5% tax to people making more than 250,000 dollars and *evenly distributed that tax revenue* to households earning less than 30,000 dollars. Call this `Policy D`. \n",
                "\n",
                "To estimate the effective such a policy on inequality, first calculate the total amount of money that would be generated by this tax if the households in this data were all households in the US.  Store in the `results` dict under the key `\"ex8_revenue_raised\"`.\n",
                "  \n",
                "**Note:** because these data are just a *sample* of households in the US, the quantity you calculate isn't the actual revenue such a tax would generate in the real world; if you want to calculate the real amount that would be raised, you can multiply the quantity you calculate by 137 (our data include about 1 out of every 137 households in the US)."
            ]
        },
        {
            "cell_type": "markdown",
            "metadata": {},
            "source": [
                "## Exercise 9\n",
                "\n",
                "Now calculate the total number of households earning less than 30,000 dollars in these data, and divide the revenue generated by the tax by the number of households earning less than 30,000 dollars. This is the amount of transfer these household would receive. Store in your `results` dict with the key `\"ex9_transfers\"`.\n",
                "\n",
                "**Note:** unlike in Question 8, the quantity you estimate here *is* a good estimate of the amount of money that would be available for each household if we imposed this tax on the real world. Why? Because both the quantity you estimated in Question 8 *and* the number of households you calculate here represent 1/137th the actual, real world quantities in the United States. So when you divide one by the other, you get the true ratio -- the fact that both are 1/137th the real quality cancels out!"
            ]
        },
        {
            "cell_type": "markdown",
            "metadata": {},
            "source": [
                "## Exercise 10\n",
                "\n",
                "Finally, update the incomes in our data *as if* we had enacted this policy -- reduce the incomes of households earning more than 250,000 dollars by 5% and increase the incomes of households earning less than 30,000 dollars by the quantity you estimated in Question 8. \n",
                "\n",
                "What is the resulting Gini Index of `Policy D`? Store as `ex10_gini_policy_d`.\n"
            ]
        },
        {
            "cell_type": "markdown",
            "metadata": {},
            "source": [
                "## Exercise 11\n",
                "\n",
                "Now suppose we also wanted to explore a slightly different intervention: `Policy E`. In `Policy E`, we would distribute the revenue generated with the same tax, but this time we would distribute it evenly to all households earning less than 40,000 dollars (instead of less than 30,000 dollars). \n",
                "\n",
                "What is the resulting Gini Index of `Policy E`? Store as `ex11_gini_policy_e`."
            ]
        },
        {
            "cell_type": "markdown",
            "metadata": {},
            "source": [
                "## Exercise 12 \n",
                "\n",
                "If the President asked you whether you could better reduce inequality (as measured by the Gini Index) by re-distributing the tax revenue from taxing households earning more than 250,000 dollars even to households earning less than 30,000 dollars (`Policy D`) or households earning less than 40,000 dollars (`Policy E`), which would you recommend? Assign the string `\"Policy D\"` or `\"Policy E\"` to your `results` dict under the key `ex12_policy_recommendation`."
            ]
        },
        {
            "cell_type": "markdown",
            "metadata": {},
            "source": [
                "### Data Citation\n",
                "\n",
                "The ACS data used in this exercise are a subsample of the IPUMS USA data available from [usa.ipums.org.](usa.ipums.org)\n",
                "\n",
                "Please cite use of the data as follows: Steven Ruggles, Sarah Flood, Sophia Foster, Ronald Goeken, Jose Pacas, Megan Schouweiler and Matthew Sobek. IPUMS USA: Version 11.0 [dataset]. Minneapolis, MN: IPUMS, 2021. https://doi.org/10.18128/D010.V11.0\n",
                "\n",
                "These data are intended for this exercise only. Individuals analyzing the data for other purposes must submit a separate data extract request directly via IPUMS USA.\n",
                "\n",
                "Individuals are not to redistribute the data without permission. Contact ipums@umn.edu for redistribution requests."
            ]
        }
    ],
    "metadata": {
        "kernelspec": {
            "display_name": "Python 3.10.6 ('base')",
            "language": "python",
            "name": "python3"
        },
        "language_info": {
            "codemirror_mode": {
                "name": "ipython",
                "version": 3
            },
            "file_extension": ".py",
            "mimetype": "text/x-python",
            "name": "python",
            "nbconvert_exporter": "python",
            "pygments_lexer": "ipython3",
            "version": "3.11.4"
        },
        "otter": {
            "OK_FORMAT": true,
            "tests": {
                "q10": {
                    "name": "q10",
                    "points": 1,
                    "suites": [
                        {
                            "cases": [
                                {
                                    "code": ">>> ANS_EX10_GINI_POLICY_D = 0.46166900570205516\n>>> assert np.isclose(EX10_GINI_POLICY_D, ANS_EX10_GINI_POLICY_D, atol=1E-6)\n",
                                    "hidden": false,
                                    "locked": false
                                }
                            ],
                            "scored": true,
                            "setup": "",
                            "teardown": "",
                            "type": "doctest"
                        }
                    ]
                },
                "q11": {
                    "name": "q11",
                    "points": 1,
                    "suites": [
                        {
                            "cases": [
                                {
                                    "code": ">>> ANS_EX11_GINI_POLICY_E = 0.46264861963052545\n>>> assert np.isclose(EX11_GINI_POLICY_E, ANS_EX11_GINI_POLICY_E)\n",
                                    "hidden": false,
                                    "locked": false
                                }
                            ],
                            "scored": true,
                            "setup": "",
                            "teardown": "",
                            "type": "doctest"
                        }
                    ]
                },
                "q12": {
                    "name": "q12",
                    "points": 1,
                    "suites": [
                        {
                            "cases": [
                                {
                                    "code": ">>> ANS_EX12_RECOMMENDATION = \"POLICY D\"\n>>> assert EX12_RECOMMENDATION == ANS_EX12_RECOMMENDATION\n",
                                    "hidden": false,
                                    "locked": false
                                }
                            ],
                            "scored": true,
                            "setup": "",
                            "teardown": "",
                            "type": "doctest"
                        }
                    ]
                },
                "q4": {
                    "name": "q4",
                    "points": 1,
                    "suites": [
                        {
                            "cases": [
                                {
                                    "code": ">>> ANS_EX4_SHARE_BELOW_POVERTY = 0.14711442173300704\n>>> assert np.isclose(EX4_SHARE_BELOW_POVERTY, EX4_SHARE_BELOW_POVERTY), \"Share below povery incorrect\"\n",
                                    "hidden": false,
                                    "locked": false
                                },
                                {
                                    "code": ">>> ANS_EX4_GINI = 0.48109255468791906\n>>> assert np.isclose(EX4_GINI, ANS_EX4_GINI), \"Gini incorrect\"\n",
                                    "hidden": false,
                                    "locked": false
                                }
                            ],
                            "scored": true,
                            "setup": "",
                            "teardown": "",
                            "type": "doctest"
                        }
                    ]
                },
                "q6": {
                    "name": "q6",
                    "points": 1,
                    "suites": [
                        {
                            "cases": [
                                {
                                    "code": ">>> ANS_EX6_GINI_POLICY_A = 0.46024685074894656\n>>> assert np.isclose(EX6_GINI_POLICY_A, ANS_EX6_GINI_POLICY_A), \"Policy A Gini Incorrect\"\n",
                                    "hidden": false,
                                    "locked": false
                                },
                                {
                                    "code": ">>> ANS_EX6_GINI_POLICY_B = 0.45828217787897124\n>>> assert np.isclose(EX6_GINI_POLICY_B, ANS_EX6_GINI_POLICY_B), \"Policy B Gini Incorrect\"\n",
                                    "hidden": false,
                                    "locked": false
                                }
                            ],
                            "scored": true,
                            "setup": "",
                            "teardown": "",
                            "type": "doctest"
                        }
                    ]
                },
                "q7": {
                    "name": "q7",
                    "points": 1,
                    "suites": [
                        {
                            "cases": [
                                {
                                    "code": ">>> ANS_EX7_GINI_POLICY_C = 0.4756173843900709\n>>> assert np.isclose(EX7_GINI_POLICY_C, ANS_EX7_GINI_POLICY_C)\n",
                                    "hidden": false,
                                    "locked": false
                                }
                            ],
                            "scored": true,
                            "setup": "",
                            "teardown": "",
                            "type": "doctest"
                        }
                    ]
                },
                "q8": {
                    "name": "q8",
                    "points": 1,
                    "suites": [
                        {
                            "cases": [
                                {
                                    "code": ">>> ANS_EX8_REVENUE_RAISED = 929623340.85\n>>> assert np.isclose(EX8_REVENUE_RAISED, ANS_EX8_REVENUE_RAISED)\n",
                                    "hidden": false,
                                    "locked": false
                                }
                            ],
                            "scored": true,
                            "setup": "",
                            "teardown": "",
                            "type": "doctest"
                        }
                    ]
                },
                "q9": {
                    "name": "q9",
                    "points": 1,
                    "suites": [
                        {
                            "cases": [
                                {
                                    "code": ">>> ANS_EX9_TRANSFERS = 4208.230382379836\n>>> assert np.isclose(EX9_TRANSFERS, ANS_EX9_TRANSFERS, atol=1E-6)\n",
                                    "hidden": true,
                                    "locked": false
                                }
                            ],
                            "scored": true,
                            "setup": "",
                            "teardown": "",
                            "type": "doctest"
                        }
                    ]
                }
            }
        },
        "vscode": {
            "interpreter": {
                "hash": "718fed28bf9f8c7851519acf2fb923cd655120b36de3b67253eeb0428bd33d2d"
            }
        }
    },
    "nbformat": 4,
    "nbformat_minor": 2
}
