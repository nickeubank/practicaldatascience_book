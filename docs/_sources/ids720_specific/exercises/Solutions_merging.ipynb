{
 "cells": [
  {
   "cell_type": "markdown",
   "metadata": {},
   "source": [
    "# Merging Data to Understand the Relationship between Drug Legalization and Violent Crime\n",
    "\n"
   ]
  },
  {
   "cell_type": "markdown",
   "metadata": {},
   "source": [
    "In recent years, many US states have decided to legalize the use of marijuana. \n",
    "\n",
    "When these ideas were first proposed, there were many theories about the relationship between crime and the \"War on Drugs\" (the term given to US efforts to arrest drug users and dealers over the past several decades). \n",
    "\n",
    "In this exercise, we're going to test a few of those theories using drug arrest data from the state of California. \n",
    "\n",
    "Though California has passed a number of laws lessening penalities for marijuana possession over the years, arguably the biggest changes were in  2010, when the state changed the penalty for possessing a small amount of marijuana from a criminal crime to a \"civil\" penality (meaning those found guilty only had to pay a fine, not go to jail), though possessing, selling, or producing larger quantities remained illegal. Then in 2016, the state fully legalized marijuana for recreational use, not only making possession of small amounts legal, but also creating a regulatory system for producing marijuana for sale. \n",
    "\n",
    "Proponents of drug legalization have long argued that the war on drugs contributes to violent crime by creating an opportunity for drug dealers and organized crime to sell and distribute drugs, a business which tends to generate violence when gangs battle over territory. According to this theory, with drug legalization, we should see violent crime decrease after legalization in places where drug arrests had previously been common. \n",
    "\n",
    "**To be clear,** this is far from the only argument for drug legalization! It is simply the argument we are well positioned to analyze today. "
   ]
  },
  {
   "cell_type": "markdown",
   "metadata": {},
   "source": [
    "\n",
    "## Gradescope Autograding\n",
    "\n",
    "Please follow [all standard guidance](https://www.practicaldatascience.org/html/autograder_guidelines.html) for submitting this assignment to the Gradescope autograder, including storing your solutions in a dictionary called `results` and ensuring your notebook runs from the start to completion without any errors.\n",
    "\n",
    "For this assignment, please name your file `exercise_merging.ipynb` before uploading.\n",
    "\n",
    "You can check that you have answers for all questions in your `results` dictionary with this code:\n",
    "\n",
    "```python\n",
    "assert set(results.keys()) == {\n",
    "    \"ex6_validate_keyword\",\n",
    "    \"ex10_merged_successfully\",\n",
    "    \"ex16_num_obs\",\n",
    "    \"ex17_drug_change\",\n",
    "    \"ex18_violent_change\",\n",
    "    \"ex21_diffindiff\",\n",
    "    \"ex23_diffindiff_proportionate\",\n",
    "}\n",
    "```\n",
    "\n",
    "\n",
    "### Submission Limits\n",
    "\n",
    "Please remember that you are **only allowed three submissions to the autograder.** Your last submission (if you submit 3 or fewer times), or your third submission (if you submit more than 3 times) will determine your grade Submissions that error out will **not** count against this total."
   ]
  },
  {
   "cell_type": "markdown",
   "metadata": {},
   "source": [
    "## Pre-Legalization Analysis\n",
    "\n",
    "### Exercise 1\n",
    "We will begin by examining [county-level data on arrests from California in 2009](https://github.com/nickeubank/practicaldatascience/tree/master/Example_Data/ca). This data is derived directly from data hosted by the [Office of the California State Attorney General](https://openjustice.doj.ca.gov/data), but please follow the github link above and download and import the file `ca_arrests_2009.csv` (don't try and get it directly from the State Attorney General's office). "
   ]
  },
  {
   "cell_type": "code",
   "execution_count": 1,
   "metadata": {},
   "outputs": [],
   "source": [
    "import pandas as pd\n",
    "import numpy as np\n",
    "\n",
    "pd.set_option(\"mode.copy_on_write\", True)\n",
    "\n",
    "results = dict()\n",
    "\n",
    "arrests_2009 = pd.read_csv(\n",
    "    \"https://raw.githubusercontent.com/nickeubank/practicaldatascience\"\n",
    "    \"/master/Example_Data/ca/ca_arrests_2009.csv\"\n",
    ")"
   ]
  },
  {
   "cell_type": "markdown",
   "metadata": {},
   "source": [
    "### Exercise 2\n",
    "Use your data exploration skills to get a feel for this data. If you need to, you can find the [original codebook here](https://github.com/nickeubank/practicaldatascience/blob/master/Example_Data/ca/arrests_codebook.pdf) (This data is a version of that data, but collapsed to one observation per county.)"
   ]
  },
  {
   "cell_type": "code",
   "execution_count": 2,
   "metadata": {},
   "outputs": [
    {
     "data": {
      "text/html": [
       "<div>\n",
       "<style scoped>\n",
       "    .dataframe tbody tr th:only-of-type {\n",
       "        vertical-align: middle;\n",
       "    }\n",
       "\n",
       "    .dataframe tbody tr th {\n",
       "        vertical-align: top;\n",
       "    }\n",
       "\n",
       "    .dataframe thead th {\n",
       "        text-align: right;\n",
       "    }\n",
       "</style>\n",
       "<table border=\"1\" class=\"dataframe\">\n",
       "  <thead>\n",
       "    <tr style=\"text-align: right;\">\n",
       "      <th></th>\n",
       "      <th>Unnamed: 0</th>\n",
       "      <th>COUNTY</th>\n",
       "      <th>VIOLENT</th>\n",
       "      <th>PROPERTY</th>\n",
       "      <th>F_DRUGOFF</th>\n",
       "      <th>F_SEXOFF</th>\n",
       "      <th>F_ALLOTHER</th>\n",
       "      <th>F_TOTAL</th>\n",
       "      <th>M_TOTAL</th>\n",
       "      <th>S_TOTAL</th>\n",
       "    </tr>\n",
       "  </thead>\n",
       "  <tbody>\n",
       "    <tr>\n",
       "      <th>0</th>\n",
       "      <td>1682</td>\n",
       "      <td>Alameda County</td>\n",
       "      <td>4318</td>\n",
       "      <td>4640</td>\n",
       "      <td>5749</td>\n",
       "      <td>260</td>\n",
       "      <td>3502</td>\n",
       "      <td>18469</td>\n",
       "      <td>37247</td>\n",
       "      <td>431</td>\n",
       "    </tr>\n",
       "    <tr>\n",
       "      <th>1</th>\n",
       "      <td>1683</td>\n",
       "      <td>Alpine County</td>\n",
       "      <td>8</td>\n",
       "      <td>4</td>\n",
       "      <td>2</td>\n",
       "      <td>1</td>\n",
       "      <td>1</td>\n",
       "      <td>16</td>\n",
       "      <td>83</td>\n",
       "      <td>0</td>\n",
       "    </tr>\n",
       "    <tr>\n",
       "      <th>2</th>\n",
       "      <td>1684</td>\n",
       "      <td>Amador County</td>\n",
       "      <td>100</td>\n",
       "      <td>59</td>\n",
       "      <td>101</td>\n",
       "      <td>5</td>\n",
       "      <td>199</td>\n",
       "      <td>464</td>\n",
       "      <td>801</td>\n",
       "      <td>2</td>\n",
       "    </tr>\n",
       "    <tr>\n",
       "      <th>3</th>\n",
       "      <td>1685</td>\n",
       "      <td>Butte County</td>\n",
       "      <td>641</td>\n",
       "      <td>602</td>\n",
       "      <td>542</td>\n",
       "      <td>34</td>\n",
       "      <td>429</td>\n",
       "      <td>2248</td>\n",
       "      <td>9026</td>\n",
       "      <td>1</td>\n",
       "    </tr>\n",
       "    <tr>\n",
       "      <th>4</th>\n",
       "      <td>1686</td>\n",
       "      <td>Calaveras County</td>\n",
       "      <td>211</td>\n",
       "      <td>83</td>\n",
       "      <td>123</td>\n",
       "      <td>14</td>\n",
       "      <td>70</td>\n",
       "      <td>501</td>\n",
       "      <td>968</td>\n",
       "      <td>3</td>\n",
       "    </tr>\n",
       "  </tbody>\n",
       "</table>\n",
       "</div>"
      ],
      "text/plain": [
       "   Unnamed: 0            COUNTY  VIOLENT  PROPERTY  F_DRUGOFF  F_SEXOFF  \\\n",
       "0        1682    Alameda County     4318      4640       5749       260   \n",
       "1        1683     Alpine County        8         4          2         1   \n",
       "2        1684     Amador County      100        59        101         5   \n",
       "3        1685      Butte County      641       602        542        34   \n",
       "4        1686  Calaveras County      211        83        123        14   \n",
       "\n",
       "   F_ALLOTHER  F_TOTAL  M_TOTAL  S_TOTAL  \n",
       "0        3502    18469    37247      431  \n",
       "1           1       16       83        0  \n",
       "2         199      464      801        2  \n",
       "3         429     2248     9026        1  \n",
       "4          70      501      968        3  "
      ]
     },
     "execution_count": 2,
     "metadata": {},
     "output_type": "execute_result"
    }
   ],
   "source": [
    "arrests_2009.head()"
   ]
  },
  {
   "cell_type": "markdown",
   "metadata": {},
   "source": [
    "### Exercise 3\n",
    "Figuring out what county has the most violent arrests isn't very meaningful if we don't normalize for size. A county with 10 people and 10 arrests for violent crimes is obviously worse than a county with 1,000,000 people an 11 arrests for violent crime. \n",
    "\n",
    "To address this, also import `nhgis_county_populations.csv` from [the directory we're working from](https://github.com/nickeubank/practicaldatascience/tree/master/Example_Data/ca)."
   ]
  },
  {
   "cell_type": "code",
   "execution_count": 3,
   "metadata": {},
   "outputs": [
    {
     "data": {
      "text/html": [
       "<div>\n",
       "<style scoped>\n",
       "    .dataframe tbody tr th:only-of-type {\n",
       "        vertical-align: middle;\n",
       "    }\n",
       "\n",
       "    .dataframe tbody tr th {\n",
       "        vertical-align: top;\n",
       "    }\n",
       "\n",
       "    .dataframe thead th {\n",
       "        text-align: right;\n",
       "    }\n",
       "</style>\n",
       "<table border=\"1\" class=\"dataframe\">\n",
       "  <thead>\n",
       "    <tr style=\"text-align: right;\">\n",
       "      <th></th>\n",
       "      <th>Unnamed: 0</th>\n",
       "      <th>YEAR</th>\n",
       "      <th>STATE</th>\n",
       "      <th>COUNTY</th>\n",
       "      <th>total_population</th>\n",
       "    </tr>\n",
       "  </thead>\n",
       "  <tbody>\n",
       "    <tr>\n",
       "      <th>0</th>\n",
       "      <td>0</td>\n",
       "      <td>2005-2009</td>\n",
       "      <td>Alabama</td>\n",
       "      <td>Autauga County</td>\n",
       "      <td>49584</td>\n",
       "    </tr>\n",
       "    <tr>\n",
       "      <th>1</th>\n",
       "      <td>1</td>\n",
       "      <td>2005-2009</td>\n",
       "      <td>Alabama</td>\n",
       "      <td>Baldwin County</td>\n",
       "      <td>171997</td>\n",
       "    </tr>\n",
       "    <tr>\n",
       "      <th>2</th>\n",
       "      <td>2</td>\n",
       "      <td>2005-2009</td>\n",
       "      <td>Alabama</td>\n",
       "      <td>Barbour County</td>\n",
       "      <td>29663</td>\n",
       "    </tr>\n",
       "    <tr>\n",
       "      <th>3</th>\n",
       "      <td>3</td>\n",
       "      <td>2005-2009</td>\n",
       "      <td>Alabama</td>\n",
       "      <td>Bibb County</td>\n",
       "      <td>21464</td>\n",
       "    </tr>\n",
       "    <tr>\n",
       "      <th>4</th>\n",
       "      <td>4</td>\n",
       "      <td>2005-2009</td>\n",
       "      <td>Alabama</td>\n",
       "      <td>Blount County</td>\n",
       "      <td>56804</td>\n",
       "    </tr>\n",
       "  </tbody>\n",
       "</table>\n",
       "</div>"
      ],
      "text/plain": [
       "   Unnamed: 0       YEAR    STATE          COUNTY  total_population\n",
       "0           0  2005-2009  Alabama  Autauga County             49584\n",
       "1           1  2005-2009  Alabama  Baldwin County            171997\n",
       "2           2  2005-2009  Alabama  Barbour County             29663\n",
       "3           3  2005-2009  Alabama     Bibb County             21464\n",
       "4           4  2005-2009  Alabama   Blount County             56804"
      ]
     },
     "execution_count": 3,
     "metadata": {},
     "output_type": "execute_result"
    }
   ],
   "source": [
    "pop = pd.read_csv(\n",
    "    \"https://raw.githubusercontent.com/nickeubank/practicaldatascience/\"\n",
    "    \"master/Example_Data/ca/nhgis_county_populations.csv\"\n",
    ")\n",
    "pop.head()"
   ]
  },
  {
   "cell_type": "code",
   "execution_count": 4,
   "metadata": {},
   "outputs": [
    {
     "data": {
      "text/plain": [
       "YEAR\n",
       "2005-2009    3221\n",
       "2013-2017    3220\n",
       "Name: count, dtype: int64"
      ]
     },
     "execution_count": 4,
     "metadata": {},
     "output_type": "execute_result"
    }
   ],
   "source": [
    "pop.YEAR.value_counts()"
   ]
  },
  {
   "cell_type": "markdown",
   "metadata": {},
   "source": [
    "### Exercise 4\n",
    "Use your data exploration skills to get used to this data, and figure out how it relates to your 2009 arrest data. "
   ]
  },
  {
   "cell_type": "markdown",
   "metadata": {},
   "source": [
    "> They're both a the county-state level, but the sample of population is all states, not just CA, and the population data has two time periods (2005-2009 and 2013-2017)."
   ]
  },
  {
   "cell_type": "markdown",
   "metadata": {},
   "source": [
    "### Exercise 5\n",
    "\n",
    "Once you feel like you have a good sense of the relation between our arrest and population data, merge the two datasets."
   ]
  },
  {
   "cell_type": "code",
   "execution_count": 5,
   "metadata": {},
   "outputs": [],
   "source": [
    "# This is a bad merge, but what most people will likely do:\n",
    "\n",
    "merged = pd.merge(arrests_2009, pop, on=\"COUNTY\")"
   ]
  },
  {
   "cell_type": "markdown",
   "metadata": {},
   "source": [
    "### Exercise 6\n",
    "\n",
    "When merging data, the result will only be meaningful if your understanding of how the data sets you are merging relate to one another are correct. In some ways, this is obvious — for example, if the variable(s) that you are using to merge observations in the two datasets or to actually identifying observations that should be linked, then obviously merging using those variables will create a meaningless new dataset.\n",
    "\n",
    "But other properties that matter are often more subtle. For example, it's important to figure out whether your merge is a `1-to-1` merge (meaning there is only one observation of the variable you're merging on in both datasets), a `1-to-many` merge (meaning there is only one observation of the variable you're merging on in the first dataset, but multiple observations in the second), or a `many-to-many` merge (something you almost never do). \n",
    "\n",
    "Being correct in your assumptions about these things is *very* important. If you think there's only one observation per value of your merging variable in each dataset, but there are in fact 2, you'll end up with two observations for each value after the merge. Moreover, not only is the structure of your data now a mess, but the fact you were wrong means you didn't understand something about your data. \n",
    "\n",
    "So before running a merge, it is critical to answer the following questions:\n",
    "\n",
    "a) What variable(s) do you think will be consistent across these two datasets you can use for merging? \n",
    "\n",
    "b) Do you think there will be exactly 1 observation for each value of this variable(s) in your arrest data?\n",
    "\n",
    "c) Do you think there will be exactly 1 observation for each value of this variable(s) in your population data?\n",
    "\n",
    "So in markdown, answer these three questions for this data.\n",
    "\n",
    "\n",
    "Then also specify the type of merge you were hoping to accomplish as one of the following strings — `\"one-to-one\"`, `\"one-to-many\"`, `\"many-to-one\"`, or `\"many-to-many\"` — in your `results` dictionary under the key `\"ex6_validate_keyword\"`. Assume that the first dataset we are talking about (e.g., the `one` in `one-to-many`, if that were your selection) is your arrests data and the second dataset (e.g., the `many` in `one-to-many`, if that were your selection)."
   ]
  },
  {
   "cell_type": "markdown",
   "metadata": {},
   "source": [
    "> Most people think that `COUNTY` is consistent across the two datasets and that merging on it will result in a 1:1 merge. However, it is not."
   ]
  },
  {
   "cell_type": "code",
   "execution_count": 6,
   "metadata": {},
   "outputs": [
    {
     "name": "stdout",
     "output_type": "stream",
     "text": [
      "The correct merge for analyzing arrest rates in these counties at one point in time is a one-to-one merge.\n"
     ]
    }
   ],
   "source": [
    "results[\"ex6_validate_keyword\"] = \"one-to-one\"\n",
    "print(\n",
    "    f\"The correct merge for analyzing arrest rates in these \"\n",
    "    f\"counties at one point in time is a {results['ex6_validate_keyword']} merge.\"\n",
    ")"
   ]
  },
  {
   "cell_type": "markdown",
   "metadata": {},
   "source": [
    "## Merge Validation\n",
    "\n",
    "Because of the importance of answering these questions accurately, `pandas` provides a utility for *validating* these assumptions when you do a merge: the `validate` keyword! Validate will accept `\"1:1\"`, `\"1:m\"`, `\"m:1\"`, and `\"m:m\"`. It will then check to make sure your merge matches the type of merge you think it is. I *highly* recommend always using this option (...and not just because I'm the one who added `validate` to pandas).\n",
    "\n",
    "*Note:* `validate` only actually tests if observations are unique when a `1` is specified; if you do a `1:1` merge but pass `validate=\"1:m\"`, `validate=\"m:1\"`, or `validate=\"m:m\"`, you won't get an error — a one-to-many merge that turns out to be a one-to-one isn't nearly as dangerous as a one-to-one merge that turns out to be one-to-many.\n",
    "\n",
    "### Exercise 7\n",
    "\n",
    "Repeat the merge you conducted above, but this time use the `validate` to make sure your assumptions about the data were correct. If you find that you made a mistake, revise your data until the merge you think is correct actually takes place.\n",
    "\n",
    "To aid the autograder, please make sure to comment out any code that generates an error.\n",
    "\n"
   ]
  },
  {
   "cell_type": "code",
   "execution_count": 7,
   "metadata": {},
   "outputs": [],
   "source": [
    "# First, we repeat our bad merge, which will now throw an error\n",
    "# because county names repeat across states, AND because we have multiple years in the\n",
    "# data:\n",
    "\n",
    "# merged = pd.merge(arrests_2009, pop, on=\"COUNTY\", validate=\"1:1\")"
   ]
  },
  {
   "cell_type": "code",
   "execution_count": 8,
   "metadata": {},
   "outputs": [],
   "source": [
    "pop2009 = pop[pop[\"YEAR\"] == \"2005-2009\"].copy()\n",
    "ca_pop2009 = pop2009[pop2009.STATE == \"California\"].copy()\n",
    "merged_2009 = pd.merge(arrests_2009, ca_pop2009, on=\"COUNTY\", validate=\"1:1\")"
   ]
  },
  {
   "cell_type": "markdown",
   "metadata": {},
   "source": [
    "### Exercise 8\n",
    "\n",
    "Were your assumptions about the data correct? If not, what had you (implicitly) assumed when you did your merge in Exercise 5 that turned out not to be correct?"
   ]
  },
  {
   "cell_type": "markdown",
   "metadata": {},
   "source": [
    "> Almost everyone will have assumed it was a 1:1 merge, not realizing that the population data had multiple years and that County names repeat across states."
   ]
  },
  {
   "cell_type": "markdown",
   "metadata": {},
   "source": [
    "## Merge Diagnostics\n",
    "\n",
    "### Exercise 9\n",
    "\n",
    "Checking whether you are doing a 1-to-1, many-to-1, 1-to-many, or many-to-many merge is only the first type of diagnostic test you should run on *every* merge you conduct. The second test is to see if you data merged successfully!\n",
    "\n",
    "To help with this, the `merge` function in pandas offers a keyword option called `indicator`. If you set `indicator` to `True`, then pandas will add a column to the result of your merge called `_merge`. This variable will tell you, for each observation in your merged data, whether: \n",
    "\n",
    "- that observation came from a successful merge of both datasets, \n",
    "- if that observation was in the left dataset (the first one you passed) but not the right dataset (the second one you passed), or \n",
    "- if that observation was in the right dataset but not the left. \n",
    "\n",
    "This allows you to quickly identify failed merges!\n",
    "\n",
    "For example, suppose you had the following data:"
   ]
  },
  {
   "cell_type": "code",
   "execution_count": 9,
   "metadata": {},
   "outputs": [
    {
     "data": {
      "text/html": [
       "<div>\n",
       "<style scoped>\n",
       "    .dataframe tbody tr th:only-of-type {\n",
       "        vertical-align: middle;\n",
       "    }\n",
       "\n",
       "    .dataframe tbody tr th {\n",
       "        vertical-align: top;\n",
       "    }\n",
       "\n",
       "    .dataframe thead th {\n",
       "        text-align: right;\n",
       "    }\n",
       "</style>\n",
       "<table border=\"1\" class=\"dataframe\">\n",
       "  <thead>\n",
       "    <tr style=\"text-align: right;\">\n",
       "      <th></th>\n",
       "      <th>key</th>\n",
       "      <th>df1_var</th>\n",
       "    </tr>\n",
       "  </thead>\n",
       "  <tbody>\n",
       "    <tr>\n",
       "      <th>0</th>\n",
       "      <td>key1</td>\n",
       "      <td>1</td>\n",
       "    </tr>\n",
       "    <tr>\n",
       "      <th>1</th>\n",
       "      <td>key2</td>\n",
       "      <td>2</td>\n",
       "    </tr>\n",
       "  </tbody>\n",
       "</table>\n",
       "</div>"
      ],
      "text/plain": [
       "    key  df1_var\n",
       "0  key1        1\n",
       "1  key2        2"
      ]
     },
     "execution_count": 9,
     "metadata": {},
     "output_type": "execute_result"
    }
   ],
   "source": [
    "import pandas as pd\n",
    "import numpy as np\n",
    "\n",
    "pd.set_option(\"mode.copy_on_write\", True)\n",
    "\n",
    "df1 = pd.DataFrame({\"key\": [\"key1\", \"key2\"], \"df1_var\": [1, 2]})\n",
    "df1"
   ]
  },
  {
   "cell_type": "code",
   "execution_count": 10,
   "metadata": {},
   "outputs": [
    {
     "data": {
      "text/html": [
       "<div>\n",
       "<style scoped>\n",
       "    .dataframe tbody tr th:only-of-type {\n",
       "        vertical-align: middle;\n",
       "    }\n",
       "\n",
       "    .dataframe tbody tr th {\n",
       "        vertical-align: top;\n",
       "    }\n",
       "\n",
       "    .dataframe thead th {\n",
       "        text-align: right;\n",
       "    }\n",
       "</style>\n",
       "<table border=\"1\" class=\"dataframe\">\n",
       "  <thead>\n",
       "    <tr style=\"text-align: right;\">\n",
       "      <th></th>\n",
       "      <th>key</th>\n",
       "      <th>df2_var</th>\n",
       "    </tr>\n",
       "  </thead>\n",
       "  <tbody>\n",
       "    <tr>\n",
       "      <th>0</th>\n",
       "      <td>key1</td>\n",
       "      <td>a</td>\n",
       "    </tr>\n",
       "    <tr>\n",
       "      <th>1</th>\n",
       "      <td>Key2</td>\n",
       "      <td>b</td>\n",
       "    </tr>\n",
       "  </tbody>\n",
       "</table>\n",
       "</div>"
      ],
      "text/plain": [
       "    key df2_var\n",
       "0  key1       a\n",
       "1  Key2       b"
      ]
     },
     "execution_count": 10,
     "metadata": {},
     "output_type": "execute_result"
    }
   ],
   "source": [
    "df2 = pd.DataFrame({\"key\": [\"key1\", \"Key2\"], \"df2_var\": [\"a\", \"b\"]})\n",
    "df2"
   ]
  },
  {
   "cell_type": "markdown",
   "metadata": {},
   "source": [
    "Now suppose you *expected* that all observations should merge when you merge these datasets (because you hadn't noticed the typo in `df2` where `key2` has a capital `Key2`. If you just run a merge, it works without any problems:"
   ]
  },
  {
   "cell_type": "code",
   "execution_count": 11,
   "metadata": {},
   "outputs": [],
   "source": [
    "new_data = pd.merge(df1, df2, on=\"key\", how=\"outer\")"
   ]
  },
  {
   "cell_type": "markdown",
   "metadata": {},
   "source": [
    "And so you might carry on in life unaware your data is now corrupted: instead of two merged rows, you now have 3, only 1 of which merged correctly!"
   ]
  },
  {
   "cell_type": "code",
   "execution_count": 12,
   "metadata": {},
   "outputs": [
    {
     "data": {
      "text/html": [
       "<div>\n",
       "<style scoped>\n",
       "    .dataframe tbody tr th:only-of-type {\n",
       "        vertical-align: middle;\n",
       "    }\n",
       "\n",
       "    .dataframe tbody tr th {\n",
       "        vertical-align: top;\n",
       "    }\n",
       "\n",
       "    .dataframe thead th {\n",
       "        text-align: right;\n",
       "    }\n",
       "</style>\n",
       "<table border=\"1\" class=\"dataframe\">\n",
       "  <thead>\n",
       "    <tr style=\"text-align: right;\">\n",
       "      <th></th>\n",
       "      <th>key</th>\n",
       "      <th>df1_var</th>\n",
       "      <th>df2_var</th>\n",
       "    </tr>\n",
       "  </thead>\n",
       "  <tbody>\n",
       "    <tr>\n",
       "      <th>0</th>\n",
       "      <td>Key2</td>\n",
       "      <td>NaN</td>\n",
       "      <td>b</td>\n",
       "    </tr>\n",
       "    <tr>\n",
       "      <th>1</th>\n",
       "      <td>key1</td>\n",
       "      <td>1.0</td>\n",
       "      <td>a</td>\n",
       "    </tr>\n",
       "    <tr>\n",
       "      <th>2</th>\n",
       "      <td>key2</td>\n",
       "      <td>2.0</td>\n",
       "      <td>NaN</td>\n",
       "    </tr>\n",
       "  </tbody>\n",
       "</table>\n",
       "</div>"
      ],
      "text/plain": [
       "    key  df1_var df2_var\n",
       "0  Key2      NaN       b\n",
       "1  key1      1.0       a\n",
       "2  key2      2.0     NaN"
      ]
     },
     "execution_count": 12,
     "metadata": {},
     "output_type": "execute_result"
    }
   ],
   "source": [
    "new_data"
   ]
  },
  {
   "cell_type": "markdown",
   "metadata": {},
   "source": [
    "When what you really wanted was: "
   ]
  },
  {
   "cell_type": "code",
   "execution_count": 13,
   "metadata": {},
   "outputs": [
    {
     "data": {
      "text/html": [
       "<div>\n",
       "<style scoped>\n",
       "    .dataframe tbody tr th:only-of-type {\n",
       "        vertical-align: middle;\n",
       "    }\n",
       "\n",
       "    .dataframe tbody tr th {\n",
       "        vertical-align: top;\n",
       "    }\n",
       "\n",
       "    .dataframe thead th {\n",
       "        text-align: right;\n",
       "    }\n",
       "</style>\n",
       "<table border=\"1\" class=\"dataframe\">\n",
       "  <thead>\n",
       "    <tr style=\"text-align: right;\">\n",
       "      <th></th>\n",
       "      <th>key</th>\n",
       "      <th>df1_var</th>\n",
       "      <th>df2_var</th>\n",
       "    </tr>\n",
       "  </thead>\n",
       "  <tbody>\n",
       "    <tr>\n",
       "      <th>0</th>\n",
       "      <td>key1</td>\n",
       "      <td>1</td>\n",
       "      <td>a</td>\n",
       "    </tr>\n",
       "    <tr>\n",
       "      <th>1</th>\n",
       "      <td>key2</td>\n",
       "      <td>2</td>\n",
       "      <td>b</td>\n",
       "    </tr>\n",
       "  </tbody>\n",
       "</table>\n",
       "</div>"
      ],
      "text/plain": [
       "    key  df1_var df2_var\n",
       "0  key1        1       a\n",
       "1  key2        2       b"
      ]
     },
     "execution_count": 13,
     "metadata": {},
     "output_type": "execute_result"
    }
   ],
   "source": [
    "df2_correct = df2.copy()\n",
    "df2_correct.loc[df2.key == \"Key2\", \"key\"] = \"key2\"\n",
    "pd.merge(df1, df2_correct, on=\"key\", how=\"outer\")"
   ]
  },
  {
   "cell_type": "markdown",
   "metadata": {},
   "source": [
    "(in a small dataset, you'd quickly see you have 1 row instead of 2, but if you have millions of rows, a couple missing won't be evident). \n",
    "\n",
    "But now suppose we use the `indicator` function:"
   ]
  },
  {
   "cell_type": "code",
   "execution_count": 14,
   "metadata": {},
   "outputs": [
    {
     "data": {
      "text/plain": [
       "_merge\n",
       "left_only     1\n",
       "right_only    1\n",
       "both          1\n",
       "Name: count, dtype: int64"
      ]
     },
     "execution_count": 14,
     "metadata": {},
     "output_type": "execute_result"
    }
   ],
   "source": [
    "new_data = pd.merge(df1, df2, on=\"key\", how=\"outer\", indicator=True)\n",
    "new_data._merge.value_counts()"
   ]
  },
  {
   "cell_type": "markdown",
   "metadata": {},
   "source": [
    "We could immediately see that only one observation merged correct, and that one row from each dataset failed to merge!\n",
    "\n",
    "Moreover, we can look at the failed merges:"
   ]
  },
  {
   "cell_type": "code",
   "execution_count": 15,
   "metadata": {},
   "outputs": [
    {
     "data": {
      "text/html": [
       "<div>\n",
       "<style scoped>\n",
       "    .dataframe tbody tr th:only-of-type {\n",
       "        vertical-align: middle;\n",
       "    }\n",
       "\n",
       "    .dataframe tbody tr th {\n",
       "        vertical-align: top;\n",
       "    }\n",
       "\n",
       "    .dataframe thead th {\n",
       "        text-align: right;\n",
       "    }\n",
       "</style>\n",
       "<table border=\"1\" class=\"dataframe\">\n",
       "  <thead>\n",
       "    <tr style=\"text-align: right;\">\n",
       "      <th></th>\n",
       "      <th>key</th>\n",
       "      <th>df1_var</th>\n",
       "      <th>df2_var</th>\n",
       "      <th>_merge</th>\n",
       "    </tr>\n",
       "  </thead>\n",
       "  <tbody>\n",
       "    <tr>\n",
       "      <th>0</th>\n",
       "      <td>Key2</td>\n",
       "      <td>NaN</td>\n",
       "      <td>b</td>\n",
       "      <td>right_only</td>\n",
       "    </tr>\n",
       "    <tr>\n",
       "      <th>2</th>\n",
       "      <td>key2</td>\n",
       "      <td>2.0</td>\n",
       "      <td>NaN</td>\n",
       "      <td>left_only</td>\n",
       "    </tr>\n",
       "  </tbody>\n",
       "</table>\n",
       "</div>"
      ],
      "text/plain": [
       "    key  df1_var df2_var      _merge\n",
       "0  Key2      NaN       b  right_only\n",
       "2  key2      2.0     NaN   left_only"
      ]
     },
     "execution_count": 15,
     "metadata": {},
     "output_type": "execute_result"
    }
   ],
   "source": [
    "new_data[new_data._merge != \"both\"]"
   ]
  },
  {
   "cell_type": "markdown",
   "metadata": {},
   "source": [
    "Allowing us to easily diagnose the problem. \n",
    "\n",
    "**Note:** The `pandas` merge function allows users to decide whether to keep only observations that merge (`how='inner'`), all the observations from the first dataset pasted to merge (`how='left'`), all the observations from the second dataset passed to merge (`how='right'`), or all observations (`how='outer'`):\n",
    "\n",
    "![join_types](https://nickeubank.github.io/practicaldatascience_book/_images/3.4.15_merge_types.png)\n",
    "\n",
    "But one danger to using the more restrictive options (like the default, `how='inner'`) is that the merge throws away all the observations that fail to merge, and while this may be the *eventual* goal of your analysis, it means that you don't get to see all the observations that failed to merge that maybe you thought *would* merge. In other words, it throws away the errors so you can't look at them!  \n",
    "\n",
    "So to use `indicator` effectively, you have to:\n",
    "\n",
    "- Not use `how=\"inner\"`, and\n",
    "- Check the values of `_merge` after your merge. "
   ]
  },
  {
   "cell_type": "markdown",
   "metadata": {},
   "source": [
    "### Exercise 10\n",
    "\n",
    "Now repeat your previous merge using *both* the `validate` keyword *and* the `indicator` keyword with `how='outer'`. \n",
    "\n",
    "How many observations successfully merged (were in both datasets)? Store the result in `results` under the key `\"ex10_merged_successfully\"`."
   ]
  },
  {
   "cell_type": "code",
   "execution_count": 16,
   "metadata": {},
   "outputs": [
    {
     "data": {
      "text/plain": [
       "_merge\n",
       "both          56\n",
       "left_only      2\n",
       "right_only     2\n",
       "Name: count, dtype: int64"
      ]
     },
     "execution_count": 16,
     "metadata": {},
     "output_type": "execute_result"
    }
   ],
   "source": [
    "merged_2009 = pd.merge(\n",
    "    arrests_2009, ca_pop2009, on=\"COUNTY\", validate=\"1:1\", indicator=True, how=\"outer\"\n",
    ")\n",
    "merged_2009._merge.value_counts()"
   ]
  },
  {
   "cell_type": "code",
   "execution_count": 17,
   "metadata": {},
   "outputs": [
    {
     "name": "stdout",
     "output_type": "stream",
     "text": [
      "56 observations merged correctly.\n"
     ]
    }
   ],
   "source": [
    "results[\"ex10_merged_successfully\"] = merged_2009._merge.value_counts().loc[\"both\"]\n",
    "\n",
    "print(f\"{results['ex10_merged_successfully']} observations merged correctly.\")"
   ]
  },
  {
   "cell_type": "markdown",
   "metadata": {},
   "source": [
    "### Exercise 11\n",
    "\n",
    "You *should* be able to get to the point that all counties in our arrest data merge with population data. If that did not happen, can you figure out why that did not happen? Can you fix the data so that all arrest data merges with population data?"
   ]
  },
  {
   "cell_type": "code",
   "execution_count": 18,
   "metadata": {},
   "outputs": [
    {
     "data": {
      "text/html": [
       "<div>\n",
       "<style scoped>\n",
       "    .dataframe tbody tr th:only-of-type {\n",
       "        vertical-align: middle;\n",
       "    }\n",
       "\n",
       "    .dataframe tbody tr th {\n",
       "        vertical-align: top;\n",
       "    }\n",
       "\n",
       "    .dataframe thead th {\n",
       "        text-align: right;\n",
       "    }\n",
       "</style>\n",
       "<table border=\"1\" class=\"dataframe\">\n",
       "  <thead>\n",
       "    <tr style=\"text-align: right;\">\n",
       "      <th></th>\n",
       "      <th>COUNTY</th>\n",
       "      <th>_merge</th>\n",
       "    </tr>\n",
       "  </thead>\n",
       "  <tbody>\n",
       "    <tr>\n",
       "      <th>7</th>\n",
       "      <td>Del Norte County</td>\n",
       "      <td>left_only</td>\n",
       "    </tr>\n",
       "    <tr>\n",
       "      <th>8</th>\n",
       "      <td>DelNorte County</td>\n",
       "      <td>right_only</td>\n",
       "    </tr>\n",
       "    <tr>\n",
       "      <th>14</th>\n",
       "      <td>Injo County</td>\n",
       "      <td>right_only</td>\n",
       "    </tr>\n",
       "    <tr>\n",
       "      <th>15</th>\n",
       "      <td>Inyo County</td>\n",
       "      <td>left_only</td>\n",
       "    </tr>\n",
       "  </tbody>\n",
       "</table>\n",
       "</div>"
      ],
      "text/plain": [
       "              COUNTY      _merge\n",
       "7   Del Norte County   left_only\n",
       "8    DelNorte County  right_only\n",
       "14       Injo County  right_only\n",
       "15       Inyo County   left_only"
      ]
     },
     "execution_count": 18,
     "metadata": {},
     "output_type": "execute_result"
    }
   ],
   "source": [
    "merged_2009.loc[merged_2009._merge != \"both\", [\"COUNTY\", \"_merge\"]]"
   ]
  },
  {
   "cell_type": "code",
   "execution_count": 19,
   "metadata": {},
   "outputs": [
    {
     "data": {
      "text/plain": [
       "_merge\n",
       "both          58\n",
       "left_only      0\n",
       "right_only     0\n",
       "Name: count, dtype: int64"
      ]
     },
     "execution_count": 19,
     "metadata": {},
     "output_type": "execute_result"
    }
   ],
   "source": [
    "ca_pop2009.loc[ca_pop2009.COUNTY == \"DelNorte County\", \"COUNTY\"] = \"Del Norte County\"\n",
    "ca_pop2009.loc[ca_pop2009.COUNTY == \"Injo County\", \"COUNTY\"] = \"Inyo County\"\n",
    "merged_2009 = pd.merge(\n",
    "    arrests_2009, ca_pop2009, on=\"COUNTY\", validate=\"1:1\", indicator=True, how=\"outer\"\n",
    ")\n",
    "merged_2009._merge.value_counts()"
   ]
  },
  {
   "cell_type": "code",
   "execution_count": 20,
   "metadata": {},
   "outputs": [],
   "source": [
    "# We can write this as a test!\n",
    "assert (merged_2009._merge == \"both\").all()"
   ]
  },
  {
   "cell_type": "markdown",
   "metadata": {},
   "source": [
    "## Comparing Arrest Rates\n",
    "\n",
    "### Exercise 12\n",
    "\n",
    "Now that we have arrest counts and population data, we can calculate arrest *rates*. For each county, create a new variable called `violent_arrest_rate_2009` that is the number of violent arrests for 2009 divided by the population of the county from 2005-2009, and a similar new variable called `drug_arrest_rate_2009` for drug arrests divided by population."
   ]
  },
  {
   "cell_type": "code",
   "execution_count": 21,
   "metadata": {},
   "outputs": [
    {
     "data": {
      "text/html": [
       "<div>\n",
       "<style scoped>\n",
       "    .dataframe tbody tr th:only-of-type {\n",
       "        vertical-align: middle;\n",
       "    }\n",
       "\n",
       "    .dataframe tbody tr th {\n",
       "        vertical-align: top;\n",
       "    }\n",
       "\n",
       "    .dataframe thead th {\n",
       "        text-align: right;\n",
       "    }\n",
       "</style>\n",
       "<table border=\"1\" class=\"dataframe\">\n",
       "  <thead>\n",
       "    <tr style=\"text-align: right;\">\n",
       "      <th></th>\n",
       "      <th>Unnamed: 0_x</th>\n",
       "      <th>COUNTY</th>\n",
       "      <th>VIOLENT</th>\n",
       "      <th>PROPERTY</th>\n",
       "      <th>F_DRUGOFF</th>\n",
       "      <th>F_SEXOFF</th>\n",
       "      <th>F_ALLOTHER</th>\n",
       "      <th>F_TOTAL</th>\n",
       "      <th>M_TOTAL</th>\n",
       "      <th>S_TOTAL</th>\n",
       "      <th>Unnamed: 0_y</th>\n",
       "      <th>YEAR</th>\n",
       "      <th>STATE</th>\n",
       "      <th>total_population</th>\n",
       "      <th>_merge</th>\n",
       "    </tr>\n",
       "  </thead>\n",
       "  <tbody>\n",
       "    <tr>\n",
       "      <th>0</th>\n",
       "      <td>1682</td>\n",
       "      <td>Alameda County</td>\n",
       "      <td>4318</td>\n",
       "      <td>4640</td>\n",
       "      <td>5749</td>\n",
       "      <td>260</td>\n",
       "      <td>3502</td>\n",
       "      <td>18469</td>\n",
       "      <td>37247</td>\n",
       "      <td>431</td>\n",
       "      <td>186</td>\n",
       "      <td>2005-2009</td>\n",
       "      <td>California</td>\n",
       "      <td>1457095</td>\n",
       "      <td>both</td>\n",
       "    </tr>\n",
       "    <tr>\n",
       "      <th>1</th>\n",
       "      <td>1683</td>\n",
       "      <td>Alpine County</td>\n",
       "      <td>8</td>\n",
       "      <td>4</td>\n",
       "      <td>2</td>\n",
       "      <td>1</td>\n",
       "      <td>1</td>\n",
       "      <td>16</td>\n",
       "      <td>83</td>\n",
       "      <td>0</td>\n",
       "      <td>187</td>\n",
       "      <td>2005-2009</td>\n",
       "      <td>California</td>\n",
       "      <td>1153</td>\n",
       "      <td>both</td>\n",
       "    </tr>\n",
       "    <tr>\n",
       "      <th>2</th>\n",
       "      <td>1684</td>\n",
       "      <td>Amador County</td>\n",
       "      <td>100</td>\n",
       "      <td>59</td>\n",
       "      <td>101</td>\n",
       "      <td>5</td>\n",
       "      <td>199</td>\n",
       "      <td>464</td>\n",
       "      <td>801</td>\n",
       "      <td>2</td>\n",
       "      <td>188</td>\n",
       "      <td>2005-2009</td>\n",
       "      <td>California</td>\n",
       "      <td>38039</td>\n",
       "      <td>both</td>\n",
       "    </tr>\n",
       "    <tr>\n",
       "      <th>3</th>\n",
       "      <td>1685</td>\n",
       "      <td>Butte County</td>\n",
       "      <td>641</td>\n",
       "      <td>602</td>\n",
       "      <td>542</td>\n",
       "      <td>34</td>\n",
       "      <td>429</td>\n",
       "      <td>2248</td>\n",
       "      <td>9026</td>\n",
       "      <td>1</td>\n",
       "      <td>189</td>\n",
       "      <td>2005-2009</td>\n",
       "      <td>California</td>\n",
       "      <td>217917</td>\n",
       "      <td>both</td>\n",
       "    </tr>\n",
       "    <tr>\n",
       "      <th>4</th>\n",
       "      <td>1686</td>\n",
       "      <td>Calaveras County</td>\n",
       "      <td>211</td>\n",
       "      <td>83</td>\n",
       "      <td>123</td>\n",
       "      <td>14</td>\n",
       "      <td>70</td>\n",
       "      <td>501</td>\n",
       "      <td>968</td>\n",
       "      <td>3</td>\n",
       "      <td>190</td>\n",
       "      <td>2005-2009</td>\n",
       "      <td>California</td>\n",
       "      <td>46548</td>\n",
       "      <td>both</td>\n",
       "    </tr>\n",
       "  </tbody>\n",
       "</table>\n",
       "</div>"
      ],
      "text/plain": [
       "   Unnamed: 0_x            COUNTY  VIOLENT  PROPERTY  F_DRUGOFF  F_SEXOFF  \\\n",
       "0          1682    Alameda County     4318      4640       5749       260   \n",
       "1          1683     Alpine County        8         4          2         1   \n",
       "2          1684     Amador County      100        59        101         5   \n",
       "3          1685      Butte County      641       602        542        34   \n",
       "4          1686  Calaveras County      211        83        123        14   \n",
       "\n",
       "   F_ALLOTHER  F_TOTAL  M_TOTAL  S_TOTAL  Unnamed: 0_y       YEAR       STATE  \\\n",
       "0        3502    18469    37247      431           186  2005-2009  California   \n",
       "1           1       16       83        0           187  2005-2009  California   \n",
       "2         199      464      801        2           188  2005-2009  California   \n",
       "3         429     2248     9026        1           189  2005-2009  California   \n",
       "4          70      501      968        3           190  2005-2009  California   \n",
       "\n",
       "   total_population _merge  \n",
       "0           1457095   both  \n",
       "1              1153   both  \n",
       "2             38039   both  \n",
       "3            217917   both  \n",
       "4             46548   both  "
      ]
     },
     "execution_count": 21,
     "metadata": {},
     "output_type": "execute_result"
    }
   ],
   "source": [
    "merged_2009.head()"
   ]
  },
  {
   "cell_type": "code",
   "execution_count": 22,
   "metadata": {},
   "outputs": [],
   "source": [
    "merged_2009[\"violent_arrest_rate_2009\"] = (\n",
    "    merged_2009[\"VIOLENT\"] / merged_2009[\"total_population\"]\n",
    ")\n",
    "merged_2009[\"drug_arrest_rate_2009\"] = (\n",
    "    merged_2009[\"F_DRUGOFF\"] / merged_2009[\"total_population\"]\n",
    ")"
   ]
  },
  {
   "cell_type": "markdown",
   "metadata": {},
   "source": [
    "### Exercise 13\n",
    "\n",
    "Make a scatter plot that shows the relationship between each county's violent arrest rate and it's drug arrest rate. Since we haven't done a lot with plotting yet, feel free to plot in whatever manner feels most comfortable. The easiest, if you're unsure, is just to use the `pandas` inbuilt `.plot()` method. Just specify the `x` keyword with your x-axis variable, the `y` keyword with your y-axis variable, and use `kind=\"scatter\"`."
   ]
  },
  {
   "cell_type": "code",
   "execution_count": 23,
   "metadata": {},
   "outputs": [
    {
     "data": {
      "text/plain": [
       "<Axes: xlabel='violent_arrest_rate_2009', ylabel='drug_arrest_rate_2009'>"
      ]
     },
     "execution_count": 23,
     "metadata": {},
     "output_type": "execute_result"
    },
    {
     "data": {
      "image/png": "[encoded data removed]",
      "text/plain": [
       "<Figure size 640x480 with 1 Axes>"
      ]
     },
     "metadata": {},
     "output_type": "display_data"
    }
   ],
   "source": [
    "merged_2009.plot(\n",
    "    x=\"violent_arrest_rate_2009\", y=\"drug_arrest_rate_2009\", kind=\"scatter\"\n",
    ")"
   ]
  },
  {
   "cell_type": "code",
   "execution_count": 24,
   "metadata": {},
   "outputs": [
    {
     "data": {
      "image/png": "[encoded data removed]",
      "text/plain": [
       "<seaborn._core.plot.Plot at 0x138eaaea0>"
      ]
     },
     "execution_count": 24,
     "metadata": {
      "image/png": {
       "height": 378.25,
       "width": 507.875
      }
     },
     "output_type": "execute_result"
    }
   ],
   "source": [
    "# Or if you want to be fancier and include a linear fit:\n",
    "\n",
    "import seaborn.objects as so\n",
    "import seaborn as sns\n",
    "from matplotlib import style\n",
    "\n",
    "\n",
    "f = (\n",
    "    so.Plot(merged_2009, x=\"violent_arrest_rate_2009\", y=\"drug_arrest_rate_2009\")\n",
    "    .add(so.Dot())\n",
    "    .add(so.Line(), so.PolyFit(1))\n",
    "    .label(title=\"Violent Arrests and Drug Arrests\")\n",
    "    .theme({**style.library[\"seaborn-v0_8-whitegrid\"]})\n",
    ")\n",
    "f"
   ]
  },
  {
   "cell_type": "markdown",
   "metadata": {},
   "source": [
    "### Exercise 14\n",
    "\n",
    "Based on this simple comparison of 2009 violent arrest rates and drug arrest rates, what might you conclude about the relationship between the illegal drug trade and violent crime?"
   ]
  },
  {
   "cell_type": "markdown",
   "metadata": {},
   "source": [
    "> They seem positively related. Is it causal? Hmmm..."
   ]
  },
  {
   "cell_type": "markdown",
   "metadata": {},
   "source": [
    "## Comparing with 2018 Arrests\n",
    "\n",
    "The preceding analysis can tell us about whether violent crime and the drug trade are correlated, but it doesn't tell us much about whether they are *causally* related. It *could* be the case that people dealing drugs *cause* more violent crime, but it could also be that certain communities, for some other reason, tend to have *both* more drug sales *and* more violent crime. \n",
    "\n",
    "To help answer this question, let's examine whether violent crime arrest rates changed in response to drug legalization. In particular, let's do this by comparing violent crime arrest rates in 2009 (before drug legalization) to violent crime arrest rates in 2018 (after drug legalization). If the illegal drug trade causes violent crime, then we would expect the violent crime rate to fall in response to drug legalization.\n"
   ]
  },
  {
   "cell_type": "markdown",
   "metadata": {},
   "source": [
    "### Exercise 15\n",
    "\n",
    "Just as we created violent arrest rates and drug arrest rates for 2009, now we want to do it for 2018. Using the data on 2018 arrests (also in the [same repository](https://github.com/nickeubank/practicaldatascience/tree/master/Example_Data/ca) we used before) and the same dataset of population data (you'll have to use population from 2013-2017, as 2018 population data has yet to be released), create a dataset of arrest rates. \n",
    "\n",
    "As before, *be careful with your merges!!!*"
   ]
  },
  {
   "cell_type": "code",
   "execution_count": 25,
   "metadata": {},
   "outputs": [],
   "source": [
    "arrests_2018 = pd.read_csv(\n",
    "    \"https://raw.githubusercontent.com/nickeubank/practicaldatascience/\"\n",
    "    \"master/Example_Data/ca/ca_arrests_2018.csv\"\n",
    ")"
   ]
  },
  {
   "cell_type": "code",
   "execution_count": 26,
   "metadata": {},
   "outputs": [
    {
     "data": {
      "text/html": [
       "<div>\n",
       "<style scoped>\n",
       "    .dataframe tbody tr th:only-of-type {\n",
       "        vertical-align: middle;\n",
       "    }\n",
       "\n",
       "    .dataframe tbody tr th {\n",
       "        vertical-align: top;\n",
       "    }\n",
       "\n",
       "    .dataframe thead th {\n",
       "        text-align: right;\n",
       "    }\n",
       "</style>\n",
       "<table border=\"1\" class=\"dataframe\">\n",
       "  <thead>\n",
       "    <tr style=\"text-align: right;\">\n",
       "      <th></th>\n",
       "      <th>Unnamed: 0</th>\n",
       "      <th>YEAR</th>\n",
       "      <th>STATE</th>\n",
       "      <th>COUNTY</th>\n",
       "      <th>total_population</th>\n",
       "    </tr>\n",
       "  </thead>\n",
       "  <tbody>\n",
       "    <tr>\n",
       "      <th>2225</th>\n",
       "      <td>2225</td>\n",
       "      <td>2005-2009</td>\n",
       "      <td>Oregon</td>\n",
       "      <td>Klamath County</td>\n",
       "      <td>66170</td>\n",
       "    </tr>\n",
       "    <tr>\n",
       "      <th>1525</th>\n",
       "      <td>1525</td>\n",
       "      <td>2005-2009</td>\n",
       "      <td>Missouri</td>\n",
       "      <td>Hickory County</td>\n",
       "      <td>9022</td>\n",
       "    </tr>\n",
       "    <tr>\n",
       "      <th>238</th>\n",
       "      <td>238</td>\n",
       "      <td>2005-2009</td>\n",
       "      <td>California</td>\n",
       "      <td>Trinity County</td>\n",
       "      <td>13922</td>\n",
       "    </tr>\n",
       "    <tr>\n",
       "      <th>3383</th>\n",
       "      <td>162</td>\n",
       "      <td>2013-2017</td>\n",
       "      <td>Arkansas</td>\n",
       "      <td>Ouachita County</td>\n",
       "      <td>24378</td>\n",
       "    </tr>\n",
       "    <tr>\n",
       "      <th>106</th>\n",
       "      <td>106</td>\n",
       "      <td>2005-2009</td>\n",
       "      <td>Arizona</td>\n",
       "      <td>Pima County</td>\n",
       "      <td>990213</td>\n",
       "    </tr>\n",
       "    <tr>\n",
       "      <th>481</th>\n",
       "      <td>481</td>\n",
       "      <td>2005-2009</td>\n",
       "      <td>Georgia</td>\n",
       "      <td>McIntosh County</td>\n",
       "      <td>11268</td>\n",
       "    </tr>\n",
       "    <tr>\n",
       "      <th>1323</th>\n",
       "      <td>1323</td>\n",
       "      <td>2005-2009</td>\n",
       "      <td>Minnesota</td>\n",
       "      <td>Carver County</td>\n",
       "      <td>88208</td>\n",
       "    </tr>\n",
       "    <tr>\n",
       "      <th>593</th>\n",
       "      <td>593</td>\n",
       "      <td>2005-2009</td>\n",
       "      <td>Idaho</td>\n",
       "      <td>Valley County</td>\n",
       "      <td>8667</td>\n",
       "    </tr>\n",
       "    <tr>\n",
       "      <th>6349</th>\n",
       "      <td>3128</td>\n",
       "      <td>2013-2017</td>\n",
       "      <td>Wyoming</td>\n",
       "      <td>Johnson County</td>\n",
       "      <td>8562</td>\n",
       "    </tr>\n",
       "    <tr>\n",
       "      <th>200</th>\n",
       "      <td>200</td>\n",
       "      <td>2005-2009</td>\n",
       "      <td>California</td>\n",
       "      <td>Kern County</td>\n",
       "      <td>780953</td>\n",
       "    </tr>\n",
       "  </tbody>\n",
       "</table>\n",
       "</div>"
      ],
      "text/plain": [
       "      Unnamed: 0       YEAR       STATE           COUNTY  total_population\n",
       "2225        2225  2005-2009      Oregon   Klamath County             66170\n",
       "1525        1525  2005-2009    Missouri   Hickory County              9022\n",
       "238          238  2005-2009  California   Trinity County             13922\n",
       "3383         162  2013-2017    Arkansas  Ouachita County             24378\n",
       "106          106  2005-2009     Arizona      Pima County            990213\n",
       "481          481  2005-2009     Georgia  McIntosh County             11268\n",
       "1323        1323  2005-2009   Minnesota    Carver County             88208\n",
       "593          593  2005-2009       Idaho    Valley County              8667\n",
       "6349        3128  2013-2017     Wyoming   Johnson County              8562\n",
       "200          200  2005-2009  California      Kern County            780953"
      ]
     },
     "execution_count": 26,
     "metadata": {},
     "output_type": "execute_result"
    }
   ],
   "source": [
    "pop = pd.read_csv(\n",
    "    \"https://raw.githubusercontent.com/nickeubank/practicaldatascience\"\n",
    "    \"/master/Example_Data/ca/nhgis_county_populations.csv\"\n",
    ")\n",
    "pop.sample(10)"
   ]
  },
  {
   "cell_type": "code",
   "execution_count": 27,
   "metadata": {},
   "outputs": [
    {
     "data": {
      "text/html": [
       "<div>\n",
       "<style scoped>\n",
       "    .dataframe tbody tr th:only-of-type {\n",
       "        vertical-align: middle;\n",
       "    }\n",
       "\n",
       "    .dataframe tbody tr th {\n",
       "        vertical-align: top;\n",
       "    }\n",
       "\n",
       "    .dataframe thead th {\n",
       "        text-align: right;\n",
       "    }\n",
       "</style>\n",
       "<table border=\"1\" class=\"dataframe\">\n",
       "  <thead>\n",
       "    <tr style=\"text-align: right;\">\n",
       "      <th></th>\n",
       "      <th>Unnamed: 0_x</th>\n",
       "      <th>COUNTY</th>\n",
       "      <th>VIOLENT</th>\n",
       "      <th>PROPERTY</th>\n",
       "      <th>F_DRUGOFF</th>\n",
       "      <th>F_SEXOFF</th>\n",
       "      <th>F_ALLOTHER</th>\n",
       "      <th>F_TOTAL</th>\n",
       "      <th>M_TOTAL</th>\n",
       "      <th>S_TOTAL</th>\n",
       "      <th>Unnamed: 0_y</th>\n",
       "      <th>YEAR</th>\n",
       "      <th>STATE</th>\n",
       "      <th>total_population</th>\n",
       "      <th>_merge</th>\n",
       "    </tr>\n",
       "  </thead>\n",
       "  <tbody>\n",
       "    <tr>\n",
       "      <th>19</th>\n",
       "      <td>2223</td>\n",
       "      <td>Madera County</td>\n",
       "      <td>562</td>\n",
       "      <td>200</td>\n",
       "      <td>131</td>\n",
       "      <td>33</td>\n",
       "      <td>502</td>\n",
       "      <td>1428</td>\n",
       "      <td>4317</td>\n",
       "      <td>6</td>\n",
       "      <td>205</td>\n",
       "      <td>2013-2017</td>\n",
       "      <td>California</td>\n",
       "      <td>154440</td>\n",
       "      <td>both</td>\n",
       "    </tr>\n",
       "    <tr>\n",
       "      <th>0</th>\n",
       "      <td>2204</td>\n",
       "      <td>Alameda County</td>\n",
       "      <td>4132</td>\n",
       "      <td>3051</td>\n",
       "      <td>1062</td>\n",
       "      <td>173</td>\n",
       "      <td>2619</td>\n",
       "      <td>11037</td>\n",
       "      <td>28305</td>\n",
       "      <td>82</td>\n",
       "      <td>186</td>\n",
       "      <td>2013-2017</td>\n",
       "      <td>California</td>\n",
       "      <td>1629615</td>\n",
       "      <td>both</td>\n",
       "    </tr>\n",
       "    <tr>\n",
       "      <th>20</th>\n",
       "      <td>2224</td>\n",
       "      <td>Marin County</td>\n",
       "      <td>524</td>\n",
       "      <td>323</td>\n",
       "      <td>95</td>\n",
       "      <td>31</td>\n",
       "      <td>252</td>\n",
       "      <td>1225</td>\n",
       "      <td>5227</td>\n",
       "      <td>56</td>\n",
       "      <td>206</td>\n",
       "      <td>2013-2017</td>\n",
       "      <td>California</td>\n",
       "      <td>260814</td>\n",
       "      <td>both</td>\n",
       "    </tr>\n",
       "    <tr>\n",
       "      <th>54</th>\n",
       "      <td>2258</td>\n",
       "      <td>Tuolumne County</td>\n",
       "      <td>203</td>\n",
       "      <td>122</td>\n",
       "      <td>87</td>\n",
       "      <td>9</td>\n",
       "      <td>311</td>\n",
       "      <td>732</td>\n",
       "      <td>2019</td>\n",
       "      <td>12</td>\n",
       "      <td>240</td>\n",
       "      <td>2013-2017</td>\n",
       "      <td>California</td>\n",
       "      <td>53899</td>\n",
       "      <td>both</td>\n",
       "    </tr>\n",
       "    <tr>\n",
       "      <th>1</th>\n",
       "      <td>2205</td>\n",
       "      <td>Alpine County</td>\n",
       "      <td>5</td>\n",
       "      <td>2</td>\n",
       "      <td>1</td>\n",
       "      <td>0</td>\n",
       "      <td>3</td>\n",
       "      <td>11</td>\n",
       "      <td>41</td>\n",
       "      <td>0</td>\n",
       "      <td>187</td>\n",
       "      <td>2013-2017</td>\n",
       "      <td>California</td>\n",
       "      <td>1203</td>\n",
       "      <td>both</td>\n",
       "    </tr>\n",
       "  </tbody>\n",
       "</table>\n",
       "</div>"
      ],
      "text/plain": [
       "    Unnamed: 0_x           COUNTY  VIOLENT  PROPERTY  F_DRUGOFF  F_SEXOFF  \\\n",
       "19          2223    Madera County      562       200        131        33   \n",
       "0           2204   Alameda County     4132      3051       1062       173   \n",
       "20          2224     Marin County      524       323         95        31   \n",
       "54          2258  Tuolumne County      203       122         87         9   \n",
       "1           2205    Alpine County        5         2          1         0   \n",
       "\n",
       "    F_ALLOTHER  F_TOTAL  M_TOTAL  S_TOTAL  Unnamed: 0_y       YEAR  \\\n",
       "19         502     1428     4317        6           205  2013-2017   \n",
       "0         2619    11037    28305       82           186  2013-2017   \n",
       "20         252     1225     5227       56           206  2013-2017   \n",
       "54         311      732     2019       12           240  2013-2017   \n",
       "1            3       11       41        0           187  2013-2017   \n",
       "\n",
       "         STATE  total_population _merge  \n",
       "19  California            154440   both  \n",
       "0   California           1629615   both  \n",
       "20  California            260814   both  \n",
       "54  California             53899   both  \n",
       "1   California              1203   both  "
      ]
     },
     "execution_count": 27,
     "metadata": {},
     "output_type": "execute_result"
    }
   ],
   "source": [
    "pop2017 = pop[pop[\"YEAR\"] == \"2013-2017\"]\n",
    "ca_pop2017 = pop2017[pop2017.STATE == \"California\"].copy()\n",
    "\n",
    "ca_pop2017.loc[ca_pop2017.COUNTY == \"DelNorte County\", \"COUNTY\"] = \"Del Norte County\"\n",
    "ca_pop2017.loc[ca_pop2017.COUNTY == \"Injo County\", \"COUNTY\"] = \"Inyo County\"\n",
    "\n",
    "merged_2018 = pd.merge(\n",
    "    arrests_2018, ca_pop2017, on=\"COUNTY\", validate=\"1:1\", indicator=True, how=\"outer\"\n",
    ")\n",
    "merged_2018.sample(5)"
   ]
  },
  {
   "cell_type": "code",
   "execution_count": 28,
   "metadata": {},
   "outputs": [
    {
     "data": {
      "text/html": [
       "<div>\n",
       "<style scoped>\n",
       "    .dataframe tbody tr th:only-of-type {\n",
       "        vertical-align: middle;\n",
       "    }\n",
       "\n",
       "    .dataframe tbody tr th {\n",
       "        vertical-align: top;\n",
       "    }\n",
       "\n",
       "    .dataframe thead th {\n",
       "        text-align: right;\n",
       "    }\n",
       "</style>\n",
       "<table border=\"1\" class=\"dataframe\">\n",
       "  <thead>\n",
       "    <tr style=\"text-align: right;\">\n",
       "      <th></th>\n",
       "      <th>Unnamed: 0_x</th>\n",
       "      <th>COUNTY</th>\n",
       "      <th>VIOLENT</th>\n",
       "      <th>PROPERTY</th>\n",
       "      <th>F_DRUGOFF</th>\n",
       "      <th>F_SEXOFF</th>\n",
       "      <th>F_ALLOTHER</th>\n",
       "      <th>F_TOTAL</th>\n",
       "      <th>M_TOTAL</th>\n",
       "      <th>S_TOTAL</th>\n",
       "      <th>Unnamed: 0_y</th>\n",
       "      <th>YEAR</th>\n",
       "      <th>STATE</th>\n",
       "      <th>total_population</th>\n",
       "      <th>_merge</th>\n",
       "      <th>violent_arrest_rate_2018</th>\n",
       "      <th>drug_arrest_rate_2018</th>\n",
       "    </tr>\n",
       "  </thead>\n",
       "  <tbody>\n",
       "    <tr>\n",
       "      <th>0</th>\n",
       "      <td>2204</td>\n",
       "      <td>Alameda County</td>\n",
       "      <td>4132</td>\n",
       "      <td>3051</td>\n",
       "      <td>1062</td>\n",
       "      <td>173</td>\n",
       "      <td>2619</td>\n",
       "      <td>11037</td>\n",
       "      <td>28305</td>\n",
       "      <td>82</td>\n",
       "      <td>186</td>\n",
       "      <td>2013-2017</td>\n",
       "      <td>California</td>\n",
       "      <td>1629615</td>\n",
       "      <td>both</td>\n",
       "      <td>0.002536</td>\n",
       "      <td>0.000652</td>\n",
       "    </tr>\n",
       "    <tr>\n",
       "      <th>1</th>\n",
       "      <td>2205</td>\n",
       "      <td>Alpine County</td>\n",
       "      <td>5</td>\n",
       "      <td>2</td>\n",
       "      <td>1</td>\n",
       "      <td>0</td>\n",
       "      <td>3</td>\n",
       "      <td>11</td>\n",
       "      <td>41</td>\n",
       "      <td>0</td>\n",
       "      <td>187</td>\n",
       "      <td>2013-2017</td>\n",
       "      <td>California</td>\n",
       "      <td>1203</td>\n",
       "      <td>both</td>\n",
       "      <td>0.004156</td>\n",
       "      <td>0.000831</td>\n",
       "    </tr>\n",
       "    <tr>\n",
       "      <th>2</th>\n",
       "      <td>2206</td>\n",
       "      <td>Amador County</td>\n",
       "      <td>72</td>\n",
       "      <td>40</td>\n",
       "      <td>31</td>\n",
       "      <td>3</td>\n",
       "      <td>142</td>\n",
       "      <td>288</td>\n",
       "      <td>701</td>\n",
       "      <td>1</td>\n",
       "      <td>188</td>\n",
       "      <td>2013-2017</td>\n",
       "      <td>California</td>\n",
       "      <td>37306</td>\n",
       "      <td>both</td>\n",
       "      <td>0.001930</td>\n",
       "      <td>0.000831</td>\n",
       "    </tr>\n",
       "    <tr>\n",
       "      <th>3</th>\n",
       "      <td>2207</td>\n",
       "      <td>Butte County</td>\n",
       "      <td>785</td>\n",
       "      <td>437</td>\n",
       "      <td>229</td>\n",
       "      <td>47</td>\n",
       "      <td>741</td>\n",
       "      <td>2239</td>\n",
       "      <td>8853</td>\n",
       "      <td>1</td>\n",
       "      <td>189</td>\n",
       "      <td>2013-2017</td>\n",
       "      <td>California</td>\n",
       "      <td>225207</td>\n",
       "      <td>both</td>\n",
       "      <td>0.003486</td>\n",
       "      <td>0.001017</td>\n",
       "    </tr>\n",
       "    <tr>\n",
       "      <th>4</th>\n",
       "      <td>2208</td>\n",
       "      <td>Calaveras County</td>\n",
       "      <td>147</td>\n",
       "      <td>42</td>\n",
       "      <td>29</td>\n",
       "      <td>6</td>\n",
       "      <td>96</td>\n",
       "      <td>320</td>\n",
       "      <td>897</td>\n",
       "      <td>0</td>\n",
       "      <td>190</td>\n",
       "      <td>2013-2017</td>\n",
       "      <td>California</td>\n",
       "      <td>45057</td>\n",
       "      <td>both</td>\n",
       "      <td>0.003263</td>\n",
       "      <td>0.000644</td>\n",
       "    </tr>\n",
       "  </tbody>\n",
       "</table>\n",
       "</div>"
      ],
      "text/plain": [
       "   Unnamed: 0_x            COUNTY  VIOLENT  PROPERTY  F_DRUGOFF  F_SEXOFF  \\\n",
       "0          2204    Alameda County     4132      3051       1062       173   \n",
       "1          2205     Alpine County        5         2          1         0   \n",
       "2          2206     Amador County       72        40         31         3   \n",
       "3          2207      Butte County      785       437        229        47   \n",
       "4          2208  Calaveras County      147        42         29         6   \n",
       "\n",
       "   F_ALLOTHER  F_TOTAL  M_TOTAL  S_TOTAL  Unnamed: 0_y       YEAR       STATE  \\\n",
       "0        2619    11037    28305       82           186  2013-2017  California   \n",
       "1           3       11       41        0           187  2013-2017  California   \n",
       "2         142      288      701        1           188  2013-2017  California   \n",
       "3         741     2239     8853        1           189  2013-2017  California   \n",
       "4          96      320      897        0           190  2013-2017  California   \n",
       "\n",
       "   total_population _merge  violent_arrest_rate_2018  drug_arrest_rate_2018  \n",
       "0           1629615   both                  0.002536               0.000652  \n",
       "1              1203   both                  0.004156               0.000831  \n",
       "2             37306   both                  0.001930               0.000831  \n",
       "3            225207   both                  0.003486               0.001017  \n",
       "4             45057   both                  0.003263               0.000644  "
      ]
     },
     "execution_count": 28,
     "metadata": {},
     "output_type": "execute_result"
    }
   ],
   "source": [
    "merged_2018[\"violent_arrest_rate_2018\"] = (\n",
    "    merged_2018[\"VIOLENT\"] / merged_2018[\"total_population\"]\n",
    ")\n",
    "merged_2018[\"drug_arrest_rate_2018\"] = (\n",
    "    merged_2018[\"F_DRUGOFF\"] / merged_2018[\"total_population\"]\n",
    ")\n",
    "merged_2018.head()"
   ]
  },
  {
   "cell_type": "markdown",
   "metadata": {},
   "source": [
    "### Exercise 16\n",
    "\n",
    "Now merge our two county-level datasets so you have one row for every county, and variables for violent arrest rates in 2018, violent arrest rates in 2009, felony drug arrest rates in 2018, and felony drug arrest rates in 2009. Store the number of observations in your final data set in your `results` dictionary under the key `\"ex16_num_obs\"`."
   ]
  },
  {
   "cell_type": "code",
   "execution_count": 29,
   "metadata": {},
   "outputs": [
    {
     "data": {
      "text/plain": [
       "_merge\n",
       "both          58\n",
       "left_only      0\n",
       "right_only     0\n",
       "Name: count, dtype: int64"
      ]
     },
     "execution_count": 29,
     "metadata": {},
     "output_type": "execute_result"
    }
   ],
   "source": [
    "merged_thinned_2009 = merged_2009[\n",
    "    [\"COUNTY\", \"violent_arrest_rate_2009\", \"drug_arrest_rate_2009\", \"total_population\"]\n",
    "]\n",
    "merged_thinned_2018 = merged_2018[\n",
    "    [\"COUNTY\", \"violent_arrest_rate_2018\", \"drug_arrest_rate_2018\", \"total_population\"]\n",
    "]\n",
    "\n",
    "merged_thinned_2009 = merged_thinned_2009.rename(\n",
    "    {\"total_population\": \"total_population_2009\"}, axis=\"columns\"\n",
    ")\n",
    "merged_thinned_2018 = merged_thinned_2018.rename(\n",
    "    {\"total_population\": \"total_population_2018\"}, axis=\"columns\"\n",
    ")\n",
    "\n",
    "all_years = pd.merge(\n",
    "    merged_thinned_2009,\n",
    "    merged_thinned_2018,\n",
    "    on=\"COUNTY\",\n",
    "    validate=\"1:1\",\n",
    "    indicator=True,\n",
    ")\n",
    "all_years._merge.value_counts()"
   ]
  },
  {
   "cell_type": "code",
   "execution_count": 30,
   "metadata": {},
   "outputs": [
    {
     "data": {
      "text/html": [
       "<div>\n",
       "<style scoped>\n",
       "    .dataframe tbody tr th:only-of-type {\n",
       "        vertical-align: middle;\n",
       "    }\n",
       "\n",
       "    .dataframe tbody tr th {\n",
       "        vertical-align: top;\n",
       "    }\n",
       "\n",
       "    .dataframe thead th {\n",
       "        text-align: right;\n",
       "    }\n",
       "</style>\n",
       "<table border=\"1\" class=\"dataframe\">\n",
       "  <thead>\n",
       "    <tr style=\"text-align: right;\">\n",
       "      <th></th>\n",
       "      <th>COUNTY</th>\n",
       "      <th>violent_arrest_rate_2009</th>\n",
       "      <th>drug_arrest_rate_2009</th>\n",
       "      <th>total_population_2009</th>\n",
       "      <th>violent_arrest_rate_2018</th>\n",
       "      <th>drug_arrest_rate_2018</th>\n",
       "      <th>total_population_2018</th>\n",
       "    </tr>\n",
       "  </thead>\n",
       "  <tbody>\n",
       "    <tr>\n",
       "      <th>21</th>\n",
       "      <td>Mariposa County</td>\n",
       "      <td>0.003582</td>\n",
       "      <td>0.002575</td>\n",
       "      <td>17865</td>\n",
       "      <td>0.001812</td>\n",
       "      <td>0.000793</td>\n",
       "      <td>17658</td>\n",
       "    </tr>\n",
       "    <tr>\n",
       "      <th>43</th>\n",
       "      <td>Santa Cruz County</td>\n",
       "      <td>0.002995</td>\n",
       "      <td>0.003469</td>\n",
       "      <td>251398</td>\n",
       "      <td>0.002829</td>\n",
       "      <td>0.000637</td>\n",
       "      <td>273263</td>\n",
       "    </tr>\n",
       "    <tr>\n",
       "      <th>8</th>\n",
       "      <td>El Dorado County</td>\n",
       "      <td>0.003240</td>\n",
       "      <td>0.002291</td>\n",
       "      <td>175941</td>\n",
       "      <td>0.002594</td>\n",
       "      <td>0.000551</td>\n",
       "      <td>185015</td>\n",
       "    </tr>\n",
       "    <tr>\n",
       "      <th>51</th>\n",
       "      <td>Tehama County</td>\n",
       "      <td>0.003894</td>\n",
       "      <td>0.007541</td>\n",
       "      <td>60601</td>\n",
       "      <td>0.003305</td>\n",
       "      <td>0.000395</td>\n",
       "      <td>63247</td>\n",
       "    </tr>\n",
       "    <tr>\n",
       "      <th>6</th>\n",
       "      <td>Contra Costa County</td>\n",
       "      <td>0.002930</td>\n",
       "      <td>0.002851</td>\n",
       "      <td>1015571</td>\n",
       "      <td>0.002326</td>\n",
       "      <td>0.000708</td>\n",
       "      <td>1123678</td>\n",
       "    </tr>\n",
       "  </tbody>\n",
       "</table>\n",
       "</div>"
      ],
      "text/plain": [
       "                 COUNTY  violent_arrest_rate_2009  drug_arrest_rate_2009  \\\n",
       "21      Mariposa County                  0.003582               0.002575   \n",
       "43    Santa Cruz County                  0.002995               0.003469   \n",
       "8      El Dorado County                  0.003240               0.002291   \n",
       "51        Tehama County                  0.003894               0.007541   \n",
       "6   Contra Costa County                  0.002930               0.002851   \n",
       "\n",
       "    total_population_2009  violent_arrest_rate_2018  drug_arrest_rate_2018  \\\n",
       "21                  17865                  0.001812               0.000793   \n",
       "43                 251398                  0.002829               0.000637   \n",
       "8                  175941                  0.002594               0.000551   \n",
       "51                  60601                  0.003305               0.000395   \n",
       "6                 1015571                  0.002326               0.000708   \n",
       "\n",
       "    total_population_2018  \n",
       "21                  17658  \n",
       "43                 273263  \n",
       "8                  185015  \n",
       "51                  63247  \n",
       "6                 1123678  "
      ]
     },
     "execution_count": 30,
     "metadata": {},
     "output_type": "execute_result"
    }
   ],
   "source": [
    "all_years = all_years.drop(\"_merge\", axis=\"columns\")\n",
    "all_years.sample(5)"
   ]
  },
  {
   "cell_type": "code",
   "execution_count": 31,
   "metadata": {},
   "outputs": [
    {
     "name": "stdout",
     "output_type": "stream",
     "text": [
      "The final dataset has 58 counties, \n",
      "which is also the total number of counties in California!\n"
     ]
    }
   ],
   "source": [
    "results[\"ex16_num_obs\"] = len(all_years)\n",
    "print(\n",
    "    f\"The final dataset has {results['ex16_num_obs']} counties, \\n\"\n",
    "    \"which is also the total number of counties in California!\"\n",
    ")"
   ]
  },
  {
   "cell_type": "markdown",
   "metadata": {},
   "source": [
    "### Exercise 17\n",
    "\n",
    "Did drug arrests go down from 2009 to 2018 in response to drug legalization? (they sure better! This is what's called a \"sanity check\" of your data and analysis. If you find drug arrests went *up*, you know something went wrong with your code or your understanding of the situations). \n",
    "\n",
    "Store the average county-level change in drug arrests per capita in `results` under the key `\"ex17_drug_change\"`."
   ]
  },
  {
   "cell_type": "code",
   "execution_count": 32,
   "metadata": {},
   "outputs": [
    {
     "name": "stdout",
     "output_type": "stream",
     "text": [
      "On average, California counties experienced a change in the average \n",
      "drug arrest rate of -0.00221 arrests per capitabetween 2009 and 2018.\n"
     ]
    }
   ],
   "source": [
    "all_years[\"change_in_drug_2018_2009\"] = (\n",
    "    all_years.drug_arrest_rate_2018 - all_years.drug_arrest_rate_2009\n",
    ")\n",
    "results[\"ex17_drug_change\"] = all_years[\"change_in_drug_2018_2009\"].mean()\n",
    "print(\n",
    "    f\"On average, California counties experienced a change in the average \\n\"\n",
    "    f\"drug arrest rate of {results['ex17_drug_change']:.5f} arrests per capita\"\n",
    "    \"between 2009 and 2018.\"\n",
    ")"
   ]
  },
  {
   "cell_type": "markdown",
   "metadata": {},
   "source": [
    "### Exercise 18\n",
    "\n",
    "Now we want to look at whether violent crime decreased following drug legalization. Did the average violent arrest rate decrease? By how much? (Note: We're assuming that arrest rates are proportionate to crime rates. If policing increased so that there were more arrests per crime committed, that would impact our interpretation of these results. But this is just an exercise, so...)\n",
    "\n",
    "Store the average county-level change in violent arrests per capita in `results` under the key `\"ex18_violent_change\"`"
   ]
  },
  {
   "cell_type": "code",
   "execution_count": 33,
   "metadata": {},
   "outputs": [],
   "source": [
    "all_years[\"change_in_violent_2018_2009\"] = (\n",
    "    all_years.violent_arrest_rate_2018 - all_years.violent_arrest_rate_2009\n",
    ")"
   ]
  },
  {
   "cell_type": "code",
   "execution_count": 34,
   "metadata": {},
   "outputs": [
    {
     "name": "stdout",
     "output_type": "stream",
     "text": [
      "On average, California counties experienced a change in the average \n",
      "violent arrest rate of -0.00028 arrests per capita between 2009 and 2018.\n"
     ]
    }
   ],
   "source": [
    "results[\"ex18_violent_change\"] = all_years[\"change_in_violent_2018_2009\"].mean()\n",
    "print(\n",
    "    f\"On average, California counties experienced a change in the average \\n\"\n",
    "    f\"violent arrest rate of {results['ex18_violent_change']:.5f} arrests per capita \"\n",
    "    \"between 2009 and 2018.\"\n",
    ")"
   ]
  },
  {
   "cell_type": "markdown",
   "metadata": {},
   "source": [
    "### Exercise 19\n",
    "\n",
    "Based on your answers to exercises 17 and 18, what might you conclude about the relationship between the illegal drug trade and violent crime? Did legalizing drugs increase violent crime (assuming arrest rates are a good proxy for crime rates)? Decrease violent crime? Have no effect? "
   ]
  },
  {
   "cell_type": "markdown",
   "metadata": {},
   "source": [
    "> If anything, violent arrest rates seem to have fallen, suggesting that drug legalization did not increase violent crime, and that it *may* have actually reduced it. With that said, the reduction in violent arrests it was relatively small. If this were a statistics course rather than a data wrangling course we would of course do some tests of statistical significance."
   ]
  },
  {
   "cell_type": "markdown",
   "metadata": {},
   "source": [
    "## Difference in Difference Analysis\n",
    "\n",
    "The preceding analysis is something we sometimes call a \"pre-post\" analysis, in that it is a comparison of how and outcome we care about (violent arrest rates) changes from before a treatment is introduced (\"pre\") to after (\"post\"). BUT: pre-post comparisons are imperfect. If we knew that violent crime was not going to change at all in a world without drug legalization, then this comparison is perfectly valid. But what if, absent drug legalization, violent crime would have fallen on its own (maybe because of advances in policing practices or a better economy)? Or maybe it would have increased?\n",
    "\n",
    "This is actually a very common problem. For example, imagine you're trying to figure out whether taking tylenol helps with headaches. You have a patient with a headache, you give them tylenol, and then the next day you ask them if they still have a headache, and find out that they don't — does that mean that tylenol cured the headache? Maybe... but most headaches eventually resolve on their own, so maybe the headache would have passed with or without the patient taking tylenol! In fact, there's a term for this phenomenon in medicine — the \"natural history\" of a disease, which is the trajectory that we think a disease might follow absent treatment. And the natural history of the disease is almost never for it to stay exactly the same indefinitely.\n",
    "\n",
    "(All of this is closely related to the discipline of causal inference, and if it makes your head to hurt, don't worry — that means you're doing it right! We will talk lots and lots more about it in the weeks and months to come.)\n",
    "\n",
    "One way to try to overcome this problem is with something called a difference-in-difference analysis. Rather than just looking at whether violent drug arrest rates increase or decrease between 2009 and 2018, we can split our sample of counties into those that were *more* impacted by drug legalization and those that were *less* impacted by drug legalization and evaluate whether we see a greater change in the violent drug arrest rate in the counties that were more impacted. \n",
    "\n",
    "What does it mean to have been \"more impacted\" by drug legalization? In this case, we can treat the counties that had higher drug arrest rates in 2009 as counties that were more impacted by drug legalization than those that had low drug arrest rates in 2009. After all, in a county that had no drug arrests, legalization wouldn't do anything, would it? \n"
   ]
  },
  {
   "cell_type": "markdown",
   "metadata": {},
   "source": [
    "\n",
    "### Exercise 20\n",
    "\n",
    "First, split our sample into two groups: high drug arrests in 2009, and low drug arrests in 2009 (cut the sample at the average drug arrest rate in 2009). \n"
   ]
  },
  {
   "cell_type": "code",
   "execution_count": 35,
   "metadata": {},
   "outputs": [
    {
     "data": {
      "text/plain": [
       "count    58.000000\n",
       "mean      0.003191\n",
       "std       0.001448\n",
       "min       0.001017\n",
       "25%       0.002311\n",
       "50%       0.002800\n",
       "75%       0.003944\n",
       "max       0.008613\n",
       "Name: drug_arrest_rate_2009, dtype: float64"
      ]
     },
     "execution_count": 35,
     "metadata": {},
     "output_type": "execute_result"
    }
   ],
   "source": [
    "all_years.drug_arrest_rate_2009.describe()"
   ]
  },
  {
   "cell_type": "code",
   "execution_count": 36,
   "metadata": {},
   "outputs": [],
   "source": [
    "all_years[\"high_drug_2009\"] = (\n",
    "    all_years.drug_arrest_rate_2009 > all_years.drug_arrest_rate_2009.mean()\n",
    ")"
   ]
  },
  {
   "cell_type": "markdown",
   "metadata": {},
   "source": [
    "\n",
    "### Exercise 21\n",
    "\n",
    "Now, determine weather violent crime changed *more* from 2009 to 2018 in the counties that had lots of drug arrests in 2009 (where legalization likely had more of an effect) than in counties with fewer drug arrests in 2009 (where legalization likely mattered less)? \n",
    "\n",
    "Calculate this difference-in-difference:\n",
    "\n",
    "```\n",
    "(the change in violent crime rate per capita for counties with lots of drug arrests in 2009) \n",
    "- (the change in violent crime rate per capita for counties with few drug arrests in 2009)\n",
    "\n",
    "```\n",
    "\n",
    "Store your \"difference-in-difference\" estimate in your `results` dictionary under the key `\"ex21_diffindiff\"`."
   ]
  },
  {
   "cell_type": "code",
   "execution_count": 37,
   "metadata": {},
   "outputs": [
    {
     "data": {
      "text/plain": [
       "np.float64(-0.00043197415958967417)"
      ]
     },
     "execution_count": 37,
     "metadata": {},
     "output_type": "execute_result"
    }
   ],
   "source": [
    "change_from_09_to_18_in_high_drug_arrest_counties = all_years.loc[\n",
    "    all_years.high_drug_2009, \"change_in_violent_2018_2009\"\n",
    "].mean()\n",
    "change_from_09_to_18_in_high_drug_arrest_counties"
   ]
  },
  {
   "cell_type": "code",
   "execution_count": 38,
   "metadata": {},
   "outputs": [
    {
     "data": {
      "text/plain": [
       "np.float64(-0.00018458037097611614)"
      ]
     },
     "execution_count": 38,
     "metadata": {},
     "output_type": "execute_result"
    }
   ],
   "source": [
    "change_from_09_to_18_in_low_drug_arrest_counties = all_years.loc[\n",
    "    ~all_years.high_drug_2009, \"change_in_violent_2018_2009\"\n",
    "].mean()\n",
    "change_from_09_to_18_in_low_drug_arrest_counties"
   ]
  },
  {
   "cell_type": "code",
   "execution_count": 39,
   "metadata": {},
   "outputs": [],
   "source": [
    "dif_in_dif = (\n",
    "    change_from_09_to_18_in_high_drug_arrest_counties\n",
    "    - change_from_09_to_18_in_low_drug_arrest_counties\n",
    ")"
   ]
  },
  {
   "cell_type": "code",
   "execution_count": 40,
   "metadata": {},
   "outputs": [
    {
     "name": "stdout",
     "output_type": "stream",
     "text": [
      "The difference in difference estimate is that county-level\n",
      "violent arrest rates per capita changed by -0.000247.\n"
     ]
    }
   ],
   "source": [
    "results[\"ex21_diffindiff\"] = dif_in_dif\n",
    "\n",
    "print(\n",
    "    f\"The difference in difference estimate is that county-level\\n\"\n",
    "    f\"violent arrest rates per capita changed by {results['ex21_diffindiff']:.6f}.\"\n",
    ")"
   ]
  },
  {
   "cell_type": "code",
   "execution_count": 41,
   "metadata": {},
   "outputs": [
    {
     "data": {
      "text/plain": [
       "np.float64(-0.000247393788613558)"
      ]
     },
     "execution_count": 41,
     "metadata": {},
     "output_type": "execute_result"
    }
   ],
   "source": [
    "dif_in_dif"
   ]
  },
  {
   "cell_type": "markdown",
   "metadata": {},
   "source": [
    "### Exercise 22\n",
    "\n",
    "Interpret your difference in difference result."
   ]
  },
  {
   "cell_type": "markdown",
   "metadata": {},
   "source": [
    "> Our difference in difference result shows that violent arrest rates fell more in counties that were more impacted by drug legalization than in counties that were not. This suggests that drug legalization certainly didn't increase violent crime, and probably decreased it at least a little. Again, if we were more focused on statistical inference in this class we would want to calculate the statistical significance of this change."
   ]
  },
  {
   "cell_type": "markdown",
   "metadata": {},
   "source": [
    "### Exercise 23\n",
    "\n",
    "The quantity we estimated above is a little difficult to interpret. Rather than calculating the *absolute* change in violent arrest rates per capita, let's calculate the *proportionate* change.\n",
    "\n",
    "Calculate, for each county:\n",
    "\n",
    "```\n",
    "(the county-level PERCENT CHANGE in violent crime rate with lots of drug arrests in 2009) \n",
    "- (the county-level PERCENT CHANGE in violent crime rate with few drug arrests in 2009)\n",
    "```\n",
    "\n",
    "Then take the average of those values (calculated for each county) for your high and low 2009 drug arrest rate counties.\n",
    "\n",
    "Store your \"difference-in-difference\" estimate in your `results` dictionary under the key `\"ex23_diffindiff_proportionate\"`. Report your result in percentages, such that a value of `-100` would imply that the average county experienced a 100% decrease in the violent arrest rate.\n",
    "\n",
    "**PLEASE ROUND YOUR ANSWER (IN PERCENTAGES) TO TWO DECIMAL PLACES (e.g., for 5.2789329% you would submit 5.28%)**"
   ]
  },
  {
   "cell_type": "code",
   "execution_count": 42,
   "metadata": {},
   "outputs": [],
   "source": [
    "# We could also do in percentage terms\n",
    "all_years[\"pct_change_in_violent_2018_2009\"] = (\n",
    "    all_years.violent_arrest_rate_2018 - all_years.violent_arrest_rate_2009\n",
    ") / all_years.violent_arrest_rate_2009\n",
    "pct_change_from_09_to_18_in_high_drug_arrest_counties = all_years.loc[\n",
    "    all_years.high_drug_2009, \"pct_change_in_violent_2018_2009\"\n",
    "].mean()\n",
    "pct_change_from_09_to_18_in_low_drug_arrest_counties = all_years.loc[\n",
    "    ~all_years.high_drug_2009, \"pct_change_in_violent_2018_2009\"\n",
    "].mean()\n",
    "pct_dif_in_dif = (\n",
    "    pct_change_from_09_to_18_in_high_drug_arrest_counties\n",
    "    - pct_change_from_09_to_18_in_low_drug_arrest_counties\n",
    ")"
   ]
  },
  {
   "cell_type": "code",
   "execution_count": 43,
   "metadata": {},
   "outputs": [
    {
     "name": "stdout",
     "output_type": "stream",
     "text": [
      "The difference in difference estimate (in percentage terms) is -4.9100%\n"
     ]
    }
   ],
   "source": [
    "results[\"ex23_diffindiff_proportionate\"] = np.round(pct_dif_in_dif * 100, 2)\n",
    "\n",
    "print(\n",
    "    f\"The difference in difference estimate (in percentage terms) is {results['ex23_diffindiff_proportionate']:.4f}%\"\n",
    ")"
   ]
  },
  {
   "cell_type": "code",
   "execution_count": 44,
   "metadata": {},
   "outputs": [
    {
     "data": {
      "text/plain": [
       "['ex10_merged_successfully',\n",
       " 'ex16_num_obs',\n",
       " 'ex17_drug_change',\n",
       " 'ex18_violent_change',\n",
       " 'ex21_diffindiff',\n",
       " 'ex23_diffindiff_proportionate',\n",
       " 'ex6_validate_keyword']"
      ]
     },
     "execution_count": 44,
     "metadata": {},
     "output_type": "execute_result"
    }
   ],
   "source": [
    "sorted(list(results.keys()))"
   ]
  },
  {
   "cell_type": "code",
   "execution_count": 45,
   "metadata": {},
   "outputs": [],
   "source": [
    "assert set(results.keys()) == {\n",
    "    \"ex6_validate_keyword\",\n",
    "    \"ex10_merged_successfully\",\n",
    "    \"ex16_num_obs\",\n",
    "    \"ex17_drug_change\",\n",
    "    \"ex18_violent_change\",\n",
    "    \"ex21_diffindiff\",\n",
    "    \"ex23_diffindiff_proportionate\",\n",
    "}"
   ]
  },
  {
   "cell_type": "code",
   "execution_count": 46,
   "metadata": {},
   "outputs": [
    {
     "data": {
      "text/plain": [
       "7"
      ]
     },
     "execution_count": 46,
     "metadata": {},
     "output_type": "execute_result"
    }
   ],
   "source": [
    "len(results.keys())"
   ]
  }
 ],
 "metadata": {
  "kernelspec": {
   "display_name": "Python 3",
   "language": "python",
   "name": "python3"
  },
  "language_info": {
   "codemirror_mode": {
    "name": "ipython",
    "version": 3
   },
   "file_extension": ".py",
   "mimetype": "text/x-python",
   "name": "python",
   "nbconvert_exporter": "python",
   "pygments_lexer": "ipython3",
   "version": "3.12.5"
  }
 },
 "nbformat": 4,
 "nbformat_minor": 4
}
