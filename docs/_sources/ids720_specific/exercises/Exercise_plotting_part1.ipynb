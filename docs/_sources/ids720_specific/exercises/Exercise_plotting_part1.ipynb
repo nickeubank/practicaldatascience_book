{
 "cells": [
  {
   "cell_type": "markdown",
   "metadata": {},
   "source": [
    "# Plotting Exercises, Part 1"
   ]
  },
  {
   "cell_type": "markdown",
   "metadata": {},
   "source": [
    "### Exercise 1\n",
    "\n",
    "Create a pandas dataframe from the \"Datasaurus.txt\" file using the code: "
   ]
  },
  {
   "cell_type": "code",
   "execution_count": null,
   "metadata": {},
   "outputs": [],
   "source": [
    "import pandas as pd\n",
    "import numpy as np\n",
    "\n",
    "pd.set_option(\"mode.copy_on_write\", True)\n",
    "\n",
    "df = pd.read_csv(\n",
    "    \"https://raw.githubusercontent.com/nickeubank/practicaldatascience\"\n",
    "    \"/master/Example_Data/Datasaurus.txt\",\n",
    "    delimiter=\"\\t\",\n",
    ")"
   ]
  },
  {
   "cell_type": "markdown",
   "metadata": {},
   "source": [
    "Note that the file being downloaded is *not* actually a CSV file. It is tab-delimited, meaning that within each row, columns are separated by tabs rather than commas. We communicate this to pandas with the `delimiter=\"\\t\"` option (`\"\\t\"` is how we write a tab, as we will discuss in future lessons). "
   ]
  },
  {
   "cell_type": "markdown",
   "metadata": {},
   "source": [
    "### Exercise 2\n",
    "\n",
    "This dataset actually contains 13 separate example datasets, each with two variables named `example[number]_x` and `example[number]_y`. \n",
    "\n",
    "In order to get a better sense of what these datasets look like, write a loop that iterates over each example dataset (numbered 1 to 13) and print out the mean and standard deviation for `example[number]_x` and `example[number]_y` for each dataset. \n",
    "\n",
    "For example, the first iteration of this loop might return something like:\n",
    "\n",
    "```\n",
    "Example Dataset 1: \n",
    "Mean x: 23.12321978429576, \n",
    "Mean y: 98.23980921730972, \n",
    "Std Dev x: 21.2389710287, \n",
    "Std Dev y: 32.2389081209832,\n",
    "Correlation: 0.73892819281\n",
    "```\n",
    "\n",
    "(Though you shouldn't get those specific values)"
   ]
  },
  {
   "cell_type": "markdown",
   "metadata": {},
   "source": [
    "### Exercise 3\n",
    "\n",
    "Based only on these results, discuss what might you conclude about these example datasets with your partner. Write down your thoughts."
   ]
  },
  {
   "cell_type": "markdown",
   "metadata": {},
   "source": [
    "### Execise 4\n",
    "\n",
    "Write a loop that iterates over these example datasets, and using the seaborn library, plot a simple scatter plot of each dataset with the `x` variable on the x-axis and the `y` variable on the y-axis.\n",
    "\n",
    "Hint: When writing this type of code, it is often best to start by writing code to do what you want for the first iteration of the loop. Once you have code that works for the first example dataset, then write the full loop around it. \n",
    "\n",
    "Hint 2: To force Jupyter to display your charts when they're generated within a loop, use the method `.show()` (e.g. `my_chart.show()`).\n",
    "\n",
    "Hint 3: You will need to change the range of the axes to make the plots look good!"
   ]
  },
  {
   "cell_type": "markdown",
   "metadata": {},
   "source": [
    "### Exercise 5\n",
    "\n",
    "Review you plots. How does your impression of how these datasets differ from what you wrote down in Exercise 3?"
   ]
  },
  {
   "cell_type": "markdown",
   "metadata": {},
   "source": [
    "## Economic Development and... Your Choice!\n",
    "\n",
    "### Exercise 6\n",
    "\n",
    "Load the World Development Indicator data used in the [plotting reading](https://nickeubank.github.io/practicaldatascience_book/notebooks/class_5/week_2/20_plotting_with_seaborn.html). Rather than picking a single year, pick a single country and look at how GDP per capita and one of the other variables in that dataset have evolved together over time. \n",
    "\n",
    "Make any adjustments to the functional forms of your variables and/or axes needed to make the figure legible. "
   ]
  },
  {
   "cell_type": "markdown",
   "metadata": {},
   "source": [
    "### Exercise 7\n",
    "\n",
    "Now add a second series. Facet your plot so that the two subplots are positioned so that they are effectively sharing the same time axes (e.g., if you draw a line up from 2010 on one plot, you get to 2010 on the other).\n",
    "\n",
    "Rather than telling you exactly how to do it, however, I'll point you to the [seaborn tutorial](https://seaborn.pydata.org/tutorial/objects_interface#faceting-and-pairing-subplots). It has examples that don't do exactly what you want, but should be close enough you can guess-and-check to the solution you want!\n",
    "\n",
    "Use your detective skills (and some guess and check work) to figure out how to get it to work!\n"
   ]
  }
 ],
 "metadata": {
  "interpreter": {
   "hash": "3e0a5228cb9726a24d36227c69ed0d3aac98cecda769d1c9adb080711d57f90d"
  },
  "kernelspec": {
   "display_name": "Python 3.9.7 64-bit ('base': conda)",
   "name": "python3"
  },
  "language_info": {
   "codemirror_mode": {
    "name": "ipython",
    "version": 3
   },
   "file_extension": ".py",
   "mimetype": "text/x-python",
   "name": "python",
   "nbconvert_exporter": "python",
   "pygments_lexer": "ipython3",
   "version": "3.11.4"
  }
 },
 "nbformat": 4,
 "nbformat_minor": 4
}
