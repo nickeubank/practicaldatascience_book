{
    "cells": [
        {
            "cell_type": "markdown",
            "metadata": {},
            "source": [
                "# Practicing with the VS Code Debugger\n",
                "\n",
                "You've been asked by a colleague to help them figure out why they're having issues with a package they wrote. The packages designed to compare two sentences, figure out how many words they have in common, and then return the word that (a) appears in both sentences, and (b) when more than one word appears in most sentences, identify the word in both sentences with the most total occurrences. \n",
                "\n",
                "So for example, if our sentences were:\n",
                "\n",
                "\"Far out in the uncharted backwaters of the unfashionable end of the western spiral arm of the Galaxy lies a small unregarded yellow sun.\" \n",
                "- \"Orbiting this at a distance of roughly ninety-two million miles is an utterly insignificant little blue green planet whose ape-descended life forms are so amazingly primitive that they still think digital watches are a pretty neat idea.\"\n",
                "\n",
                "The result would be the word \"of\" (it appears in both, and appears 3 times in total).\n",
                "\n",
                "## Exercise 1: \n",
                "\n",
                "Download your [colleague's script here](https://github.com/nickeubank/practicaldatascience/blob/master/Example_Data/debugger.py) and familiarize yourself with its contents.\n",
                "\n",
                "Note that when you run this file from the command line (e.g. navigate to where it's located and run `python debugger.py`), the first thing executed are the three test cases under `if __name__ == \"__main__\":`. As you can see, these all call `word_counter`, so you should start your examination there.\n",
                "\n",
                "One trick, for those who aren't familiar with string manipulation: You can subset a string just the way you would a list. So for example if I have a string:"
            ]
        },
        {
            "cell_type": "code",
            "execution_count": 1,
            "metadata": {},
            "outputs": [],
            "source": [
                "my_string = \"My name is Nick\""
            ]
        },
        {
            "cell_type": "markdown",
            "metadata": {},
            "source": [
                "I can shorten it to my name by subsetting:"
            ]
        },
        {
            "cell_type": "code",
            "execution_count": 3,
            "metadata": {},
            "outputs": [
                {
                    "data": {
                        "text/plain": [
                            "'Nick'"
                        ]
                    },
                    "execution_count": 3,
                    "metadata": {},
                    "output_type": "execute_result"
                }
            ],
            "source": [
                "my_string[11:]"
            ]
        },
        {
            "cell_type": "markdown",
            "metadata": {},
            "source": [
                "## Exercise 2:\n",
                "\n",
                "Run the script from the command line. What happens? Did all three tests pass?"
            ]
        },
        {
            "cell_type": "markdown",
            "metadata": {},
            "source": [
                "## Exercise 3: \n",
                "\n",
                "What type of error did you just encounter—a logical error or a syntax error?"
            ]
        },
        {
            "cell_type": "markdown",
            "metadata": {},
            "source": [
                "## Exercise 4:\n",
                "\n",
                "Now run `debugger.py` in VS Code's Python Debugger. Try to figure out the problem you saw when you ran your code at the command line."
            ]
        },
        {
            "cell_type": "markdown",
            "metadata": {},
            "source": [
                "## Exercise 5:\n",
                "\n",
                "Once you've fixed that bug, run your script from the command line again. Did the code run without problems? Did all the tests turn out as expected?"
            ]
        },
        {
            "cell_type": "markdown",
            "metadata": {},
            "source": [
                "## Exercise 6: \n",
                "\n",
                "Based on your answers to Exercise 5, which *kind* of bug are you encountering: a syntax error or a logical error?"
            ]
        },
        {
            "cell_type": "markdown",
            "metadata": {},
            "source": [
                "## Exercise 7:\n",
                "\n",
                "Using the debugger, try and track down the source of the problem you've now found."
            ]
        }
    ],
    "metadata": {
        "kernelspec": {
            "display_name": "Python 3.10.6 ('base')",
            "language": "python",
            "name": "python3"
        },
        "language_info": {
            "codemirror_mode": {
                "name": "ipython",
                "version": 3
            },
            "file_extension": ".py",
            "mimetype": "text/x-python",
            "name": "python",
            "nbconvert_exporter": "python",
            "pygments_lexer": "ipython3",
            "version": "3.10.6"
        },
        "orig_nbformat": 4,
        "vscode": {
            "interpreter": {
                "hash": "718fed28bf9f8c7851519acf2fb923cd655120b36de3b67253eeb0428bd33d2d"
            }
        }
    },
    "nbformat": 4,
    "nbformat_minor": 5
}