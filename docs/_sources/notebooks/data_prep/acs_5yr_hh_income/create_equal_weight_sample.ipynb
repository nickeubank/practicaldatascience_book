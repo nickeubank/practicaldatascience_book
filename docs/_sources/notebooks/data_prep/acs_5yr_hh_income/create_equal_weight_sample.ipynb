{
 "cells": [
  {
   "cell_type": "code",
   "execution_count": 1,
   "metadata": {},
   "outputs": [
    {
     "data": {
      "text/html": [
       "<div>\n",
       "<style scoped>\n",
       "    .dataframe tbody tr th:only-of-type {\n",
       "        vertical-align: middle;\n",
       "    }\n",
       "\n",
       "    .dataframe tbody tr th {\n",
       "        vertical-align: top;\n",
       "    }\n",
       "\n",
       "    .dataframe thead th {\n",
       "        text-align: right;\n",
       "    }\n",
       "</style>\n",
       "<table border=\"1\" class=\"dataframe\">\n",
       "  <thead>\n",
       "    <tr style=\"text-align: right;\">\n",
       "      <th></th>\n",
       "      <th>YEAR</th>\n",
       "      <th>MULTYEAR</th>\n",
       "      <th>SAMPLE</th>\n",
       "      <th>SERIAL</th>\n",
       "      <th>CBSERIAL</th>\n",
       "      <th>HHWT</th>\n",
       "      <th>CLUSTER</th>\n",
       "      <th>STRATA</th>\n",
       "      <th>GQ</th>\n",
       "      <th>HHINCOME</th>\n",
       "    </tr>\n",
       "  </thead>\n",
       "  <tbody>\n",
       "    <tr>\n",
       "      <th>0</th>\n",
       "      <td>2019</td>\n",
       "      <td>2015</td>\n",
       "      <td>201903</td>\n",
       "      <td>1</td>\n",
       "      <td>2015000000067</td>\n",
       "      <td>9.0</td>\n",
       "      <td>2019000000013</td>\n",
       "      <td>270101</td>\n",
       "      <td>1</td>\n",
       "      <td>56599</td>\n",
       "    </tr>\n",
       "    <tr>\n",
       "      <th>1</th>\n",
       "      <td>2019</td>\n",
       "      <td>2015</td>\n",
       "      <td>201903</td>\n",
       "      <td>1</td>\n",
       "      <td>2015000000067</td>\n",
       "      <td>9.0</td>\n",
       "      <td>2019000000013</td>\n",
       "      <td>270101</td>\n",
       "      <td>1</td>\n",
       "      <td>56599</td>\n",
       "    </tr>\n",
       "    <tr>\n",
       "      <th>2</th>\n",
       "      <td>2019</td>\n",
       "      <td>2015</td>\n",
       "      <td>201903</td>\n",
       "      <td>1</td>\n",
       "      <td>2015000000067</td>\n",
       "      <td>9.0</td>\n",
       "      <td>2019000000013</td>\n",
       "      <td>270101</td>\n",
       "      <td>1</td>\n",
       "      <td>56599</td>\n",
       "    </tr>\n",
       "    <tr>\n",
       "      <th>3</th>\n",
       "      <td>2019</td>\n",
       "      <td>2015</td>\n",
       "      <td>201903</td>\n",
       "      <td>1</td>\n",
       "      <td>2015000000067</td>\n",
       "      <td>9.0</td>\n",
       "      <td>2019000000013</td>\n",
       "      <td>270101</td>\n",
       "      <td>1</td>\n",
       "      <td>56599</td>\n",
       "    </tr>\n",
       "    <tr>\n",
       "      <th>4</th>\n",
       "      <td>2019</td>\n",
       "      <td>2015</td>\n",
       "      <td>201903</td>\n",
       "      <td>2</td>\n",
       "      <td>2015000000160</td>\n",
       "      <td>15.0</td>\n",
       "      <td>2019000000023</td>\n",
       "      <td>100001</td>\n",
       "      <td>1</td>\n",
       "      <td>9496</td>\n",
       "    </tr>\n",
       "  </tbody>\n",
       "</table>\n",
       "</div>"
      ],
      "text/plain": [
       "   YEAR  MULTYEAR  SAMPLE  SERIAL       CBSERIAL  HHWT        CLUSTER  STRATA  \\\n",
       "0  2019      2015  201903       1  2015000000067   9.0  2019000000013  270101   \n",
       "1  2019      2015  201903       1  2015000000067   9.0  2019000000013  270101   \n",
       "2  2019      2015  201903       1  2015000000067   9.0  2019000000013  270101   \n",
       "3  2019      2015  201903       1  2015000000067   9.0  2019000000013  270101   \n",
       "4  2019      2015  201903       2  2015000000160  15.0  2019000000023  100001   \n",
       "\n",
       "   GQ  HHINCOME  \n",
       "0   1     56599  \n",
       "1   1     56599  \n",
       "2   1     56599  \n",
       "3   1     56599  \n",
       "4   1      9496  "
      ]
     },
     "execution_count": 1,
     "metadata": {},
     "output_type": "execute_result"
    }
   ],
   "source": [
    "import pandas as pd\n",
    "\n",
    "df = pd.read_csv(\"./acs_5yr_hh_income.csv.gz\")\n",
    "df.head(30)\n"
   ]
  },
  {
   "cell_type": "code",
   "execution_count": 62,
   "metadata": {},
   "outputs": [
    {
     "data": {
      "text/plain": [
       "count    1.594762e+07\n",
       "mean     5.703719e+05\n",
       "std      2.100554e+06\n",
       "min     -2.290500e+04\n",
       "25%      4.261500e+04\n",
       "50%      8.061900e+04\n",
       "75%      1.405000e+05\n",
       "max      9.999999e+06\n",
       "Name: HHINCOME, dtype: float64"
      ]
     },
     "execution_count": 62,
     "metadata": {},
     "output_type": "execute_result"
    }
   ],
   "source": [
    "df.HHINCOME.describe()"
   ]
  },
  {
   "cell_type": "code",
   "execution_count": 3,
   "metadata": {},
   "outputs": [],
   "source": [
    "hh = df.drop_duplicates([\"SAMPLE\", \"SERIAL\"])"
   ]
  },
  {
   "cell_type": "code",
   "execution_count": 40,
   "metadata": {},
   "outputs": [
    {
     "data": {
      "text/html": [
       "<div>\n",
       "<style scoped>\n",
       "    .dataframe tbody tr th:only-of-type {\n",
       "        vertical-align: middle;\n",
       "    }\n",
       "\n",
       "    .dataframe tbody tr th {\n",
       "        vertical-align: top;\n",
       "    }\n",
       "\n",
       "    .dataframe thead th {\n",
       "        text-align: right;\n",
       "    }\n",
       "</style>\n",
       "<table border=\"1\" class=\"dataframe\">\n",
       "  <thead>\n",
       "    <tr style=\"text-align: right;\">\n",
       "      <th></th>\n",
       "      <th>YEAR</th>\n",
       "      <th>MULTYEAR</th>\n",
       "      <th>SAMPLE</th>\n",
       "      <th>SERIAL</th>\n",
       "      <th>CBSERIAL</th>\n",
       "      <th>HHWT</th>\n",
       "      <th>CLUSTER</th>\n",
       "      <th>STRATA</th>\n",
       "      <th>GQ</th>\n",
       "      <th>HHINCOME</th>\n",
       "    </tr>\n",
       "  </thead>\n",
       "  <tbody>\n",
       "    <tr>\n",
       "      <th>0</th>\n",
       "      <td>2019</td>\n",
       "      <td>2015</td>\n",
       "      <td>201903</td>\n",
       "      <td>1</td>\n",
       "      <td>2015000000067</td>\n",
       "      <td>9.0</td>\n",
       "      <td>2019000000013</td>\n",
       "      <td>270101</td>\n",
       "      <td>1</td>\n",
       "      <td>56599</td>\n",
       "    </tr>\n",
       "    <tr>\n",
       "      <th>4</th>\n",
       "      <td>2019</td>\n",
       "      <td>2015</td>\n",
       "      <td>201903</td>\n",
       "      <td>2</td>\n",
       "      <td>2015000000160</td>\n",
       "      <td>15.0</td>\n",
       "      <td>2019000000023</td>\n",
       "      <td>100001</td>\n",
       "      <td>1</td>\n",
       "      <td>9496</td>\n",
       "    </tr>\n",
       "    <tr>\n",
       "      <th>5</th>\n",
       "      <td>2019</td>\n",
       "      <td>2015</td>\n",
       "      <td>201903</td>\n",
       "      <td>3</td>\n",
       "      <td>2015000000345</td>\n",
       "      <td>29.0</td>\n",
       "      <td>2019000000033</td>\n",
       "      <td>100001</td>\n",
       "      <td>1</td>\n",
       "      <td>14244</td>\n",
       "    </tr>\n",
       "    <tr>\n",
       "      <th>6</th>\n",
       "      <td>2019</td>\n",
       "      <td>2015</td>\n",
       "      <td>201903</td>\n",
       "      <td>4</td>\n",
       "      <td>2015000000463</td>\n",
       "      <td>6.0</td>\n",
       "      <td>2019000000043</td>\n",
       "      <td>270101</td>\n",
       "      <td>1</td>\n",
       "      <td>168340</td>\n",
       "    </tr>\n",
       "    <tr>\n",
       "      <th>9</th>\n",
       "      <td>2019</td>\n",
       "      <td>2015</td>\n",
       "      <td>201903</td>\n",
       "      <td>5</td>\n",
       "      <td>2015000000477</td>\n",
       "      <td>13.0</td>\n",
       "      <td>2019000000053</td>\n",
       "      <td>110001</td>\n",
       "      <td>1</td>\n",
       "      <td>15107</td>\n",
       "    </tr>\n",
       "    <tr>\n",
       "      <th>10</th>\n",
       "      <td>2019</td>\n",
       "      <td>2015</td>\n",
       "      <td>201903</td>\n",
       "      <td>6</td>\n",
       "      <td>2015000000518</td>\n",
       "      <td>37.0</td>\n",
       "      <td>2019000000063</td>\n",
       "      <td>10001</td>\n",
       "      <td>1</td>\n",
       "      <td>47265</td>\n",
       "    </tr>\n",
       "    <tr>\n",
       "      <th>14</th>\n",
       "      <td>2019</td>\n",
       "      <td>2015</td>\n",
       "      <td>201903</td>\n",
       "      <td>7</td>\n",
       "      <td>2015000000535</td>\n",
       "      <td>18.0</td>\n",
       "      <td>2019000000073</td>\n",
       "      <td>100001</td>\n",
       "      <td>1</td>\n",
       "      <td>32265</td>\n",
       "    </tr>\n",
       "    <tr>\n",
       "      <th>16</th>\n",
       "      <td>2019</td>\n",
       "      <td>2015</td>\n",
       "      <td>201903</td>\n",
       "      <td>8</td>\n",
       "      <td>2015000000566</td>\n",
       "      <td>2.0</td>\n",
       "      <td>2019000000083</td>\n",
       "      <td>50001</td>\n",
       "      <td>1</td>\n",
       "      <td>18237</td>\n",
       "    </tr>\n",
       "    <tr>\n",
       "      <th>17</th>\n",
       "      <td>2019</td>\n",
       "      <td>2015</td>\n",
       "      <td>201903</td>\n",
       "      <td>9</td>\n",
       "      <td>2015000000717</td>\n",
       "      <td>24.0</td>\n",
       "      <td>2019000000093</td>\n",
       "      <td>190001</td>\n",
       "      <td>1</td>\n",
       "      <td>118162</td>\n",
       "    </tr>\n",
       "    <tr>\n",
       "      <th>21</th>\n",
       "      <td>2019</td>\n",
       "      <td>2015</td>\n",
       "      <td>201903</td>\n",
       "      <td>10</td>\n",
       "      <td>2015000000806</td>\n",
       "      <td>15.0</td>\n",
       "      <td>2019000000103</td>\n",
       "      <td>30201</td>\n",
       "      <td>1</td>\n",
       "      <td>58272</td>\n",
       "    </tr>\n",
       "    <tr>\n",
       "      <th>22</th>\n",
       "      <td>2019</td>\n",
       "      <td>2015</td>\n",
       "      <td>201903</td>\n",
       "      <td>11</td>\n",
       "      <td>2015000000810</td>\n",
       "      <td>3.0</td>\n",
       "      <td>2019000000113</td>\n",
       "      <td>250001</td>\n",
       "      <td>1</td>\n",
       "      <td>125176</td>\n",
       "    </tr>\n",
       "    <tr>\n",
       "      <th>26</th>\n",
       "      <td>2019</td>\n",
       "      <td>2015</td>\n",
       "      <td>201903</td>\n",
       "      <td>12</td>\n",
       "      <td>2015000000848</td>\n",
       "      <td>33.0</td>\n",
       "      <td>2019000000123</td>\n",
       "      <td>130101</td>\n",
       "      <td>1</td>\n",
       "      <td>41438</td>\n",
       "    </tr>\n",
       "    <tr>\n",
       "      <th>27</th>\n",
       "      <td>2019</td>\n",
       "      <td>2015</td>\n",
       "      <td>201903</td>\n",
       "      <td>13</td>\n",
       "      <td>2015000001014</td>\n",
       "      <td>25.0</td>\n",
       "      <td>2019000000133</td>\n",
       "      <td>130401</td>\n",
       "      <td>1</td>\n",
       "      <td>39603</td>\n",
       "    </tr>\n",
       "    <tr>\n",
       "      <th>30</th>\n",
       "      <td>2019</td>\n",
       "      <td>2015</td>\n",
       "      <td>201903</td>\n",
       "      <td>14</td>\n",
       "      <td>2015000001052</td>\n",
       "      <td>4.0</td>\n",
       "      <td>2019000000143</td>\n",
       "      <td>260001</td>\n",
       "      <td>4</td>\n",
       "      <td>9999999</td>\n",
       "    </tr>\n",
       "    <tr>\n",
       "      <th>31</th>\n",
       "      <td>2019</td>\n",
       "      <td>2015</td>\n",
       "      <td>201903</td>\n",
       "      <td>15</td>\n",
       "      <td>2015000001160</td>\n",
       "      <td>19.0</td>\n",
       "      <td>2019000000153</td>\n",
       "      <td>130501</td>\n",
       "      <td>1</td>\n",
       "      <td>26222</td>\n",
       "    </tr>\n",
       "    <tr>\n",
       "      <th>36</th>\n",
       "      <td>2019</td>\n",
       "      <td>2015</td>\n",
       "      <td>201903</td>\n",
       "      <td>16</td>\n",
       "      <td>2015000001215</td>\n",
       "      <td>3.0</td>\n",
       "      <td>2019000000163</td>\n",
       "      <td>250001</td>\n",
       "      <td>1</td>\n",
       "      <td>0</td>\n",
       "    </tr>\n",
       "    <tr>\n",
       "      <th>37</th>\n",
       "      <td>2019</td>\n",
       "      <td>2015</td>\n",
       "      <td>201903</td>\n",
       "      <td>17</td>\n",
       "      <td>2015000001563</td>\n",
       "      <td>18.0</td>\n",
       "      <td>2019000000173</td>\n",
       "      <td>270301</td>\n",
       "      <td>1</td>\n",
       "      <td>19424</td>\n",
       "    </tr>\n",
       "    <tr>\n",
       "      <th>38</th>\n",
       "      <td>2019</td>\n",
       "      <td>2015</td>\n",
       "      <td>201903</td>\n",
       "      <td>18</td>\n",
       "      <td>2015000001610</td>\n",
       "      <td>49.0</td>\n",
       "      <td>2019000000183</td>\n",
       "      <td>270201</td>\n",
       "      <td>1</td>\n",
       "      <td>42085</td>\n",
       "    </tr>\n",
       "    <tr>\n",
       "      <th>39</th>\n",
       "      <td>2019</td>\n",
       "      <td>2015</td>\n",
       "      <td>201903</td>\n",
       "      <td>19</td>\n",
       "      <td>2015000001619</td>\n",
       "      <td>21.0</td>\n",
       "      <td>2019000000193</td>\n",
       "      <td>150001</td>\n",
       "      <td>1</td>\n",
       "      <td>147190</td>\n",
       "    </tr>\n",
       "    <tr>\n",
       "      <th>43</th>\n",
       "      <td>2019</td>\n",
       "      <td>2015</td>\n",
       "      <td>201903</td>\n",
       "      <td>20</td>\n",
       "      <td>2015000001685</td>\n",
       "      <td>11.0</td>\n",
       "      <td>2019000000203</td>\n",
       "      <td>140001</td>\n",
       "      <td>1</td>\n",
       "      <td>33668</td>\n",
       "    </tr>\n",
       "  </tbody>\n",
       "</table>\n",
       "</div>"
      ],
      "text/plain": [
       "    YEAR  MULTYEAR  SAMPLE  SERIAL       CBSERIAL  HHWT        CLUSTER  \\\n",
       "0   2019      2015  201903       1  2015000000067   9.0  2019000000013   \n",
       "4   2019      2015  201903       2  2015000000160  15.0  2019000000023   \n",
       "5   2019      2015  201903       3  2015000000345  29.0  2019000000033   \n",
       "6   2019      2015  201903       4  2015000000463   6.0  2019000000043   \n",
       "9   2019      2015  201903       5  2015000000477  13.0  2019000000053   \n",
       "10  2019      2015  201903       6  2015000000518  37.0  2019000000063   \n",
       "14  2019      2015  201903       7  2015000000535  18.0  2019000000073   \n",
       "16  2019      2015  201903       8  2015000000566   2.0  2019000000083   \n",
       "17  2019      2015  201903       9  2015000000717  24.0  2019000000093   \n",
       "21  2019      2015  201903      10  2015000000806  15.0  2019000000103   \n",
       "22  2019      2015  201903      11  2015000000810   3.0  2019000000113   \n",
       "26  2019      2015  201903      12  2015000000848  33.0  2019000000123   \n",
       "27  2019      2015  201903      13  2015000001014  25.0  2019000000133   \n",
       "30  2019      2015  201903      14  2015000001052   4.0  2019000000143   \n",
       "31  2019      2015  201903      15  2015000001160  19.0  2019000000153   \n",
       "36  2019      2015  201903      16  2015000001215   3.0  2019000000163   \n",
       "37  2019      2015  201903      17  2015000001563  18.0  2019000000173   \n",
       "38  2019      2015  201903      18  2015000001610  49.0  2019000000183   \n",
       "39  2019      2015  201903      19  2015000001619  21.0  2019000000193   \n",
       "43  2019      2015  201903      20  2015000001685  11.0  2019000000203   \n",
       "\n",
       "    STRATA  GQ  HHINCOME  \n",
       "0   270101   1     56599  \n",
       "4   100001   1      9496  \n",
       "5   100001   1     14244  \n",
       "6   270101   1    168340  \n",
       "9   110001   1     15107  \n",
       "10   10001   1     47265  \n",
       "14  100001   1     32265  \n",
       "16   50001   1     18237  \n",
       "17  190001   1    118162  \n",
       "21   30201   1     58272  \n",
       "22  250001   1    125176  \n",
       "26  130101   1     41438  \n",
       "27  130401   1     39603  \n",
       "30  260001   4   9999999  \n",
       "31  130501   1     26222  \n",
       "36  250001   1         0  \n",
       "37  270301   1     19424  \n",
       "38  270201   1     42085  \n",
       "39  150001   1    147190  \n",
       "43  140001   1     33668  "
      ]
     },
     "execution_count": 40,
     "metadata": {},
     "output_type": "execute_result"
    }
   ],
   "source": [
    "hh.head(20)"
   ]
  },
  {
   "cell_type": "code",
   "execution_count": 41,
   "metadata": {},
   "outputs": [
    {
     "data": {
      "text/plain": [
       "6989126"
      ]
     },
     "execution_count": 41,
     "metadata": {},
     "output_type": "execute_result"
    }
   ],
   "source": [
    "len(hh)"
   ]
  },
  {
   "cell_type": "code",
   "execution_count": 42,
   "metadata": {},
   "outputs": [
    {
     "data": {
      "text/plain": [
       "752189"
      ]
     },
     "execution_count": 42,
     "metadata": {},
     "output_type": "execute_result"
    }
   ],
   "source": [
    "len(hh[hh.HHINCOME ==9999999 ])"
   ]
  },
  {
   "cell_type": "code",
   "execution_count": 43,
   "metadata": {},
   "outputs": [
    {
     "data": {
      "text/html": [
       "<div>\n",
       "<style scoped>\n",
       "    .dataframe tbody tr th:only-of-type {\n",
       "        vertical-align: middle;\n",
       "    }\n",
       "\n",
       "    .dataframe tbody tr th {\n",
       "        vertical-align: top;\n",
       "    }\n",
       "\n",
       "    .dataframe thead th {\n",
       "        text-align: right;\n",
       "    }\n",
       "</style>\n",
       "<table border=\"1\" class=\"dataframe\">\n",
       "  <thead>\n",
       "    <tr style=\"text-align: right;\">\n",
       "      <th></th>\n",
       "      <th>YEAR</th>\n",
       "      <th>MULTYEAR</th>\n",
       "      <th>SAMPLE</th>\n",
       "      <th>SERIAL</th>\n",
       "      <th>CBSERIAL</th>\n",
       "      <th>HHWT</th>\n",
       "      <th>CLUSTER</th>\n",
       "      <th>STRATA</th>\n",
       "      <th>GQ</th>\n",
       "      <th>HHINCOME</th>\n",
       "    </tr>\n",
       "  </thead>\n",
       "  <tbody>\n",
       "  </tbody>\n",
       "</table>\n",
       "</div>"
      ],
      "text/plain": [
       "Empty DataFrame\n",
       "Columns: [YEAR, MULTYEAR, SAMPLE, SERIAL, CBSERIAL, HHWT, CLUSTER, STRATA, GQ, HHINCOME]\n",
       "Index: []"
      ]
     },
     "execution_count": 43,
     "metadata": {},
     "output_type": "execute_result"
    }
   ],
   "source": [
    "hh[hh.HHINCOME.isnull()]"
   ]
  },
  {
   "cell_type": "code",
   "execution_count": 44,
   "metadata": {},
   "outputs": [
    {
     "data": {
      "text/plain": [
       "0"
      ]
     },
     "execution_count": 44,
     "metadata": {},
     "output_type": "execute_result"
    }
   ],
   "source": [
    "hh.HHINCOME.isnull().sum()"
   ]
  },
  {
   "cell_type": "code",
   "execution_count": 51,
   "metadata": {},
   "outputs": [
    {
     "data": {
      "text/plain": [
       "1000000"
      ]
     },
     "execution_count": 51,
     "metadata": {},
     "output_type": "execute_result"
    }
   ],
   "source": [
    "flat = hh.sample(n=1_000_000, weights=df[\"HHWT\"])\n",
    "len(flat)"
   ]
  },
  {
   "cell_type": "code",
   "execution_count": 52,
   "metadata": {},
   "outputs": [
    {
     "data": {
      "text/plain": [
       "0"
      ]
     },
     "execution_count": 52,
     "metadata": {},
     "output_type": "execute_result"
    }
   ],
   "source": [
    "flat.HHINCOME.isnull().sum()"
   ]
  },
  {
   "cell_type": "code",
   "execution_count": 53,
   "metadata": {},
   "outputs": [],
   "source": [
    "flat = flat[flat.HHINCOME!=9999999]"
   ]
  },
  {
   "cell_type": "code",
   "execution_count": 54,
   "metadata": {},
   "outputs": [
    {
     "data": {
      "text/plain": [
       "933695"
      ]
     },
     "execution_count": 54,
     "metadata": {},
     "output_type": "execute_result"
    }
   ],
   "source": [
    "len(flat)"
   ]
  },
  {
   "cell_type": "code",
   "execution_count": 55,
   "metadata": {},
   "outputs": [
    {
     "data": {
      "text/plain": [
       "count    9.336950e+05\n",
       "mean     8.829896e+04\n",
       "std      9.683467e+04\n",
       "min     -1.694200e+04\n",
       "25%      3.128800e+04\n",
       "50%      6.257600e+04\n",
       "75%      1.109320e+05\n",
       "max      2.410903e+06\n",
       "Name: HHINCOME, dtype: float64"
      ]
     },
     "execution_count": 55,
     "metadata": {},
     "output_type": "execute_result"
    }
   ],
   "source": [
    "flat.HHINCOME.describe()"
   ]
  },
  {
   "cell_type": "code",
   "execution_count": 56,
   "metadata": {},
   "outputs": [
    {
     "data": {
      "text/plain": [
       "0"
      ]
     },
     "execution_count": 56,
     "metadata": {},
     "output_type": "execute_result"
    }
   ],
   "source": [
    "flat.HHINCOME.isnull().sum()"
   ]
  },
  {
   "cell_type": "code",
   "execution_count": 57,
   "metadata": {},
   "outputs": [],
   "source": [
    "flat.HHINCOME.to_csv(\n",
    "    \"../../class_2/week_2/data/us_household_incomes.txt\", header=False, index=False\n",
    ")\n"
   ]
  },
  {
   "cell_type": "code",
   "execution_count": 58,
   "metadata": {},
   "outputs": [],
   "source": [
    "import numpy as np"
   ]
  },
  {
   "cell_type": "code",
   "execution_count": 60,
   "metadata": {},
   "outputs": [
    {
     "data": {
      "text/plain": [
       "array([ 53308., 102050., 192994., ..., 407460.,  19856., 154754.])"
      ]
     },
     "execution_count": 60,
     "metadata": {},
     "output_type": "execute_result"
    }
   ],
   "source": [
    "v= np.loadtxt(\"../../class_2/week_2/data/us_household_incomes.txt\")\n",
    "v"
   ]
  },
  {
   "cell_type": "code",
   "execution_count": 61,
   "metadata": {},
   "outputs": [
    {
     "data": {
      "text/plain": [
       "(933695,)"
      ]
     },
     "execution_count": 61,
     "metadata": {},
     "output_type": "execute_result"
    }
   ],
   "source": [
    "v.shape"
   ]
  },
  {
   "cell_type": "code",
   "execution_count": 69,
   "metadata": {},
   "outputs": [
    {
     "data": {
      "text/plain": [
       "62576.0"
      ]
     },
     "execution_count": 69,
     "metadata": {},
     "output_type": "execute_result"
    }
   ],
   "source": [
    "np.percentile(v, 50)"
   ]
  },
  {
   "cell_type": "code",
   "execution_count": 67,
   "metadata": {},
   "outputs": [],
   "source": [
    "v = np.sort(v)"
   ]
  },
  {
   "cell_type": "code",
   "execution_count": null,
   "metadata": {},
   "outputs": [],
   "source": []
  }
 ],
 "metadata": {
  "interpreter": {
   "hash": "3e0a5228cb9726a24d36227c69ed0d3aac98cecda769d1c9adb080711d57f90d"
  },
  "kernelspec": {
   "display_name": "Python 3.9.7 64-bit ('base': conda)",
   "language": "python",
   "name": "python3"
  },
  "language_info": {
   "codemirror_mode": {
    "name": "ipython",
    "version": 3
   },
   "file_extension": ".py",
   "mimetype": "text/x-python",
   "name": "python",
   "nbconvert_exporter": "python",
   "pygments_lexer": "ipython3",
   "version": "3.9.7"
  },
  "orig_nbformat": 4
 },
 "nbformat": 4,
 "nbformat_minor": 2
}
