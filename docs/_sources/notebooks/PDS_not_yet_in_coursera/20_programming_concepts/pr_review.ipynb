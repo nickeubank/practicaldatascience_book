{
 "cells": [
  {
   "cell_type": "markdown",
   "metadata": {},
   "source": [
    "# Reviewing Code on Github\n",
    "\n",
    "When you are responsible for reviewing code that someone has submitted in a Pull Request (commonly just called a \"PR\") on github, your job isn't as simple as responding \"looks good!\". The goal of the Pull Request process is to ensure all merged code reflects the common wisdom of the team, so its your job to actually read the code you're reviewing and to ask questions and provide detailed comments. This may be the last time anyone looks at this code before the rest of your team builds your analysis on its output, so take your reviewer role seriously!\n",
    "\n",
    "Seem like there's nothing to do in your review / everything looks great? Even when people write perfect code (which is rare!), there's almost always some room for improvement in terms of providing better comments, using variable names that are easy to understand, or just being explicit about what assumptions one is making. In a real project, of course, you don't want to be pedantic, but for our class exercises, be sure to find *something* you can engage with constructively for practice. \n",
    "\n",
    "It's also important to emphasize that a good PR review is an *interative* process, with the reviewer asking questions and the code writer responding and, usually, updating their code. \n",
    "\n",
    "To illustrate, here's an exceptional PR review from last year by Vanessa, our 2020 TA, along with some great clarifying responses from Fang Feng. I would like to have seen more of Vanessa's suggestions integrated into the code before committing (some were in commits below the discussion, but not all), but this is a great starting example.\n",
    "\n",
    "Note that much of the exchange took place through individual comments added to specific lines of code (to do this, click on the \"Files changed\" tab, then click on the `+` icon that comes up when you mouse over the line numbers next to the code you want to comment on). **This only works if you submit your python code in a plain text file (.py)**. Jupyter notebooks will make a mess of this kind of review!"
   ]
  },
  {
   "cell_type": "markdown",
   "metadata": {},
   "source": [
    "![prreview_2](images/prreview_2.png)\n",
    "![prreview_3](images/prreview_3.png)\n",
    "![prreview_4](images/prreview_4.png)\n",
    "![prreview_5](images/prreview_5.png)\n",
    "![prreview_6](images/prreview_6.png)\n",
    "![prreview_7](images/prreview_7.png)"
   ]
  }
 ],
 "metadata": {
  "kernelspec": {
   "display_name": "Python 3",
   "language": "python",
   "name": "python3"
  },
  "language_info": {
   "codemirror_mode": {
    "name": "ipython",
    "version": 3
   },
   "file_extension": ".py",
   "mimetype": "text/x-python",
   "name": "python",
   "nbconvert_exporter": "python",
   "pygments_lexer": "ipython3",
   "version": "3.7.8"
  }
 },
 "nbformat": 4,
 "nbformat_minor": 4
}
