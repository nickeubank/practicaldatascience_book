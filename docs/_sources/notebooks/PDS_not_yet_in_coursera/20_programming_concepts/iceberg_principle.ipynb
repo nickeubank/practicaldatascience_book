{
 "cells": [
  {
   "cell_type": "markdown",
   "metadata": {},
   "source": [
    "## The Iceberg Principle\n",
    "\n",
    "An important principle in data cleaning is the iceberg principle: if you see *anything* in your data that doesn't make sense to you, even if it doesn't seem like a major problem, you **absolutely must** figure out why it's happening, because small things that don't make sense are often signals of big, underlying problems that are hard to detect. \n",
    "\n",
    "To illustrate, suppose we're interested in understanding how the composition of arrests in California have been changing over time. In particular, we're interested in the share of arrests that are felonies (serious crimes), as opposed to misdomeaners (minor crimes). We start with data on total felony and misdomeaner arrests in California from 2001 to 2010:"
   ]
  },
  {
   "cell_type": "code",
   "execution_count": 1,
   "metadata": {},
   "outputs": [
    {
     "data": {
      "text/html": [
       "<div>\n",
       "<style scoped>\n",
       "    .dataframe tbody tr th:only-of-type {\n",
       "        vertical-align: middle;\n",
       "    }\n",
       "\n",
       "    .dataframe tbody tr th {\n",
       "        vertical-align: top;\n",
       "    }\n",
       "\n",
       "    .dataframe thead th {\n",
       "        text-align: right;\n",
       "    }\n",
       "</style>\n",
       "<table border=\"1\" class=\"dataframe\">\n",
       "  <thead>\n",
       "    <tr style=\"text-align: right;\">\n",
       "      <th></th>\n",
       "      <th>year</th>\n",
       "      <th>felony_arrests</th>\n",
       "    </tr>\n",
       "  </thead>\n",
       "  <tbody>\n",
       "    <tr>\n",
       "      <th>0</th>\n",
       "      <td>2001</td>\n",
       "      <td>472677</td>\n",
       "    </tr>\n",
       "    <tr>\n",
       "      <th>1</th>\n",
       "      <td>2002</td>\n",
       "      <td>487364</td>\n",
       "    </tr>\n",
       "    <tr>\n",
       "      <th>2</th>\n",
       "      <td>2003</td>\n",
       "      <td>507081</td>\n",
       "    </tr>\n",
       "    <tr>\n",
       "      <th>3</th>\n",
       "      <td>2004</td>\n",
       "      <td>522781</td>\n",
       "    </tr>\n",
       "    <tr>\n",
       "      <th>4</th>\n",
       "      <td>2005</td>\n",
       "      <td>538166</td>\n",
       "    </tr>\n",
       "    <tr>\n",
       "      <th>5</th>\n",
       "      <td>2006</td>\n",
       "      <td>534460</td>\n",
       "    </tr>\n",
       "    <tr>\n",
       "      <th>6</th>\n",
       "      <td>2007</td>\n",
       "      <td>523276</td>\n",
       "    </tr>\n",
       "    <tr>\n",
       "      <th>7</th>\n",
       "      <td>2008</td>\n",
       "      <td>499628</td>\n",
       "    </tr>\n",
       "    <tr>\n",
       "      <th>8</th>\n",
       "      <td>2009</td>\n",
       "      <td>466441</td>\n",
       "    </tr>\n",
       "    <tr>\n",
       "      <th>9</th>\n",
       "      <td>2010</td>\n",
       "      <td>448552</td>\n",
       "    </tr>\n",
       "  </tbody>\n",
       "</table>\n",
       "</div>"
      ],
      "text/plain": [
       "   year  felony_arrests\n",
       "0  2001          472677\n",
       "1  2002          487364\n",
       "2  2003          507081\n",
       "3  2004          522781\n",
       "4  2005          538166\n",
       "5  2006          534460\n",
       "6  2007          523276\n",
       "7  2008          499628\n",
       "8  2009          466441\n",
       "9  2010          448552"
      ]
     },
     "execution_count": 1,
     "metadata": {},
     "output_type": "execute_result"
    }
   ],
   "source": [
    "import pandas as pd\n",
    "felonies = pd.read_csv(\"../Example_Data/ca_felonies_2001_2010.csv\")\n",
    "felonies"
   ]
  },
  {
   "cell_type": "code",
   "execution_count": 2,
   "metadata": {},
   "outputs": [
    {
     "name": "stderr",
     "output_type": "stream",
     "text": [
      "/Users/Nick/miniconda3/lib/python3.7/site-packages/plotnine/layer.py:467: PlotnineWarning: geom_point : Removed 1 rows containing missing values.\n"
     ]
    },
    {
     "data": {
      "image/png": "[encoded data removed]",
      "text/plain": [
       "<Figure size 640x480 with 1 Axes>"
      ]
     },
     "metadata": {},
     "output_type": "display_data"
    },
    {
     "data": {
      "text/plain": [
       "<ggplot: (8766523976497)>"
      ]
     },
     "execution_count": 2,
     "metadata": {},
     "output_type": "execute_result"
    }
   ],
   "source": [
    "misdomeaners = pd.read_csv(\"../Example_Data/ca_misdomeaners_2001_2010.csv\")\n",
    "merged = pd.merge(felonies, misdomeaners, on=\"year\", validate=\"1:1\")\n",
    "merged['share_felonies'] = merged['felony_arrests'] / (merged['felony_arrests'] + merged['misdomeaner_arrests'])\n",
    "\n",
    "from plotnine import *\n",
    "(\n",
    "    ggplot(merged, aes(x='year', y='share_felonies')) +\n",
    "           geom_point() + geom_smooth() + \n",
    "           scale_x_continuous(range = [2001, 2010],\n",
    "                      breaks =  range(2001, 2010, 1)\n",
    "                      )\n",
    ")"
   ]
  },
  {
   "cell_type": "markdown",
   "metadata": {},
   "source": [
    "Cool! The share of arrests that were felonies were about flat in the early 2000s, then fall sharply in the late 2000s. Everything looks great, right?! Let's publish a paper!\n",
    "\n",
    "But wait... didn't we say our data was form 2001 to 2010? Then why isn't there a point being plotted for 2001? And what's that Plotnine warning about removing 1 row with missing values? Something seems...🐟 🐠 🐡. (Fishy, get it?!)\n",
    "\n",
    "Let's look more closely at our data."
   ]
  },
  {
   "cell_type": "code",
   "execution_count": 3,
   "metadata": {},
   "outputs": [
    {
     "data": {
      "text/html": [
       "<div>\n",
       "<style scoped>\n",
       "    .dataframe tbody tr th:only-of-type {\n",
       "        vertical-align: middle;\n",
       "    }\n",
       "\n",
       "    .dataframe tbody tr th {\n",
       "        vertical-align: top;\n",
       "    }\n",
       "\n",
       "    .dataframe thead th {\n",
       "        text-align: right;\n",
       "    }\n",
       "</style>\n",
       "<table border=\"1\" class=\"dataframe\">\n",
       "  <thead>\n",
       "    <tr style=\"text-align: right;\">\n",
       "      <th></th>\n",
       "      <th>year</th>\n",
       "      <th>felony_arrests</th>\n",
       "      <th>misdomeaner_arrests</th>\n",
       "      <th>share_felonies</th>\n",
       "    </tr>\n",
       "  </thead>\n",
       "  <tbody>\n",
       "    <tr>\n",
       "      <th>0</th>\n",
       "      <td>2001</td>\n",
       "      <td>472677</td>\n",
       "      <td>NaN</td>\n",
       "      <td>NaN</td>\n",
       "    </tr>\n",
       "    <tr>\n",
       "      <th>1</th>\n",
       "      <td>2002</td>\n",
       "      <td>487364</td>\n",
       "      <td>907990.0</td>\n",
       "      <td>0.349276</td>\n",
       "    </tr>\n",
       "    <tr>\n",
       "      <th>2</th>\n",
       "      <td>2003</td>\n",
       "      <td>507081</td>\n",
       "      <td>903249.0</td>\n",
       "      <td>0.359548</td>\n",
       "    </tr>\n",
       "    <tr>\n",
       "      <th>3</th>\n",
       "      <td>2004</td>\n",
       "      <td>522781</td>\n",
       "      <td>931782.0</td>\n",
       "      <td>0.359408</td>\n",
       "    </tr>\n",
       "    <tr>\n",
       "      <th>4</th>\n",
       "      <td>2005</td>\n",
       "      <td>538166</td>\n",
       "      <td>945562.0</td>\n",
       "      <td>0.362712</td>\n",
       "    </tr>\n",
       "    <tr>\n",
       "      <th>5</th>\n",
       "      <td>2006</td>\n",
       "      <td>534460</td>\n",
       "      <td>939046.0</td>\n",
       "      <td>0.362713</td>\n",
       "    </tr>\n",
       "    <tr>\n",
       "      <th>6</th>\n",
       "      <td>2007</td>\n",
       "      <td>523276</td>\n",
       "      <td>968408.0</td>\n",
       "      <td>0.350795</td>\n",
       "    </tr>\n",
       "    <tr>\n",
       "      <th>7</th>\n",
       "      <td>2008</td>\n",
       "      <td>499628</td>\n",
       "      <td>992588.0</td>\n",
       "      <td>0.334823</td>\n",
       "    </tr>\n",
       "    <tr>\n",
       "      <th>8</th>\n",
       "      <td>2009</td>\n",
       "      <td>466441</td>\n",
       "      <td>1010038.0</td>\n",
       "      <td>0.315914</td>\n",
       "    </tr>\n",
       "    <tr>\n",
       "      <th>9</th>\n",
       "      <td>2010</td>\n",
       "      <td>448552</td>\n",
       "      <td>970221.0</td>\n",
       "      <td>0.316155</td>\n",
       "    </tr>\n",
       "  </tbody>\n",
       "</table>\n",
       "</div>"
      ],
      "text/plain": [
       "   year  felony_arrests  misdomeaner_arrests  share_felonies\n",
       "0  2001          472677                  NaN             NaN\n",
       "1  2002          487364             907990.0        0.349276\n",
       "2  2003          507081             903249.0        0.359548\n",
       "3  2004          522781             931782.0        0.359408\n",
       "4  2005          538166             945562.0        0.362712\n",
       "5  2006          534460             939046.0        0.362713\n",
       "6  2007          523276             968408.0        0.350795\n",
       "7  2008          499628             992588.0        0.334823\n",
       "8  2009          466441            1010038.0        0.315914\n",
       "9  2010          448552             970221.0        0.316155"
      ]
     },
     "execution_count": 3,
     "metadata": {},
     "output_type": "execute_result"
    }
   ],
   "source": [
    "merged"
   ]
  },
  {
   "cell_type": "markdown",
   "metadata": {},
   "source": [
    "Huh... ok weird. Missing data for 2001 in `misdomeaner_arrests`. Was that in the original data?"
   ]
  },
  {
   "cell_type": "code",
   "execution_count": 4,
   "metadata": {},
   "outputs": [
    {
     "data": {
      "text/html": [
       "<div>\n",
       "<style scoped>\n",
       "    .dataframe tbody tr th:only-of-type {\n",
       "        vertical-align: middle;\n",
       "    }\n",
       "\n",
       "    .dataframe tbody tr th {\n",
       "        vertical-align: top;\n",
       "    }\n",
       "\n",
       "    .dataframe thead th {\n",
       "        text-align: right;\n",
       "    }\n",
       "</style>\n",
       "<table border=\"1\" class=\"dataframe\">\n",
       "  <thead>\n",
       "    <tr style=\"text-align: right;\">\n",
       "      <th></th>\n",
       "      <th>year</th>\n",
       "      <th>misdomeaner_arrests</th>\n",
       "    </tr>\n",
       "  </thead>\n",
       "  <tbody>\n",
       "    <tr>\n",
       "      <th>0</th>\n",
       "      <td>2001.0</td>\n",
       "      <td>NaN</td>\n",
       "    </tr>\n",
       "    <tr>\n",
       "      <th>1</th>\n",
       "      <td>2002.0</td>\n",
       "      <td>907990.0</td>\n",
       "    </tr>\n",
       "    <tr>\n",
       "      <th>2</th>\n",
       "      <td>2003.0</td>\n",
       "      <td>903249.0</td>\n",
       "    </tr>\n",
       "    <tr>\n",
       "      <th>3</th>\n",
       "      <td>2004.0</td>\n",
       "      <td>931782.0</td>\n",
       "    </tr>\n",
       "    <tr>\n",
       "      <th>4</th>\n",
       "      <td>2005.0</td>\n",
       "      <td>945562.0</td>\n",
       "    </tr>\n",
       "    <tr>\n",
       "      <th>5</th>\n",
       "      <td>2006.0</td>\n",
       "      <td>939046.0</td>\n",
       "    </tr>\n",
       "    <tr>\n",
       "      <th>6</th>\n",
       "      <td>2007.0</td>\n",
       "      <td>968408.0</td>\n",
       "    </tr>\n",
       "    <tr>\n",
       "      <th>7</th>\n",
       "      <td>2008.0</td>\n",
       "      <td>992588.0</td>\n",
       "    </tr>\n",
       "    <tr>\n",
       "      <th>8</th>\n",
       "      <td>2009.0</td>\n",
       "      <td>1010038.0</td>\n",
       "    </tr>\n",
       "    <tr>\n",
       "      <th>9</th>\n",
       "      <td>2010.0</td>\n",
       "      <td>970221.0</td>\n",
       "    </tr>\n",
       "    <tr>\n",
       "      <th>10</th>\n",
       "      <td>NaN</td>\n",
       "      <td>918279.0</td>\n",
       "    </tr>\n",
       "  </tbody>\n",
       "</table>\n",
       "</div>"
      ],
      "text/plain": [
       "      year  misdomeaner_arrests\n",
       "0   2001.0                  NaN\n",
       "1   2002.0             907990.0\n",
       "2   2003.0             903249.0\n",
       "3   2004.0             931782.0\n",
       "4   2005.0             945562.0\n",
       "5   2006.0             939046.0\n",
       "6   2007.0             968408.0\n",
       "7   2008.0             992588.0\n",
       "8   2009.0            1010038.0\n",
       "9   2010.0             970221.0\n",
       "10     NaN             918279.0"
      ]
     },
     "execution_count": 4,
     "metadata": {},
     "output_type": "execute_result"
    }
   ],
   "source": [
    "misdomeaners"
   ]
  },
  {
   "cell_type": "markdown",
   "metadata": {},
   "source": [
    "Uh... well that's bad. Not only is there no data for 2001, but there's data for a row with no year?! That *clearly* can't be right. \n",
    "\n",
    "We better go check the source data for this table. Here's what I see when I go back to the CA Bureau of Justice Crime Statistics:\n",
    "\n",
    "![images/source_crime_data.png](images/source_crime_data.png)"
   ]
  },
  {
   "cell_type": "markdown",
   "metadata": {},
   "source": [
    "Hmmm... so the original data says 907,990 is the entry for 2001, but in our table it says that's the value for 2002. You know what I think happened? When the data was transcribed, it was offset one row by accident:\n",
    "\n",
    "![misdomeaner_spreadsheet](images/misdomeaner_spreadsheet.png)"
   ]
  },
  {
   "cell_type": "markdown",
   "metadata": {},
   "source": [
    "Which means... the problem isn't just that I'm missing data from 2001. It means that **all** of my data is wrong, not just 2001! The real result is:"
   ]
  },
  {
   "cell_type": "code",
   "execution_count": 5,
   "metadata": {},
   "outputs": [
    {
     "data": {
      "text/html": [
       "<div>\n",
       "<style scoped>\n",
       "    .dataframe tbody tr th:only-of-type {\n",
       "        vertical-align: middle;\n",
       "    }\n",
       "\n",
       "    .dataframe tbody tr th {\n",
       "        vertical-align: top;\n",
       "    }\n",
       "\n",
       "    .dataframe thead th {\n",
       "        text-align: right;\n",
       "    }\n",
       "</style>\n",
       "<table border=\"1\" class=\"dataframe\">\n",
       "  <thead>\n",
       "    <tr style=\"text-align: right;\">\n",
       "      <th></th>\n",
       "      <th>year</th>\n",
       "      <th>misdomeaner_arrests</th>\n",
       "    </tr>\n",
       "  </thead>\n",
       "  <tbody>\n",
       "    <tr>\n",
       "      <th>1</th>\n",
       "      <td>2001.0</td>\n",
       "      <td>907990.0</td>\n",
       "    </tr>\n",
       "    <tr>\n",
       "      <th>2</th>\n",
       "      <td>2002.0</td>\n",
       "      <td>903249.0</td>\n",
       "    </tr>\n",
       "    <tr>\n",
       "      <th>3</th>\n",
       "      <td>2003.0</td>\n",
       "      <td>931782.0</td>\n",
       "    </tr>\n",
       "    <tr>\n",
       "      <th>4</th>\n",
       "      <td>2004.0</td>\n",
       "      <td>945562.0</td>\n",
       "    </tr>\n",
       "    <tr>\n",
       "      <th>5</th>\n",
       "      <td>2005.0</td>\n",
       "      <td>939046.0</td>\n",
       "    </tr>\n",
       "    <tr>\n",
       "      <th>6</th>\n",
       "      <td>2006.0</td>\n",
       "      <td>968408.0</td>\n",
       "    </tr>\n",
       "    <tr>\n",
       "      <th>7</th>\n",
       "      <td>2007.0</td>\n",
       "      <td>992588.0</td>\n",
       "    </tr>\n",
       "    <tr>\n",
       "      <th>8</th>\n",
       "      <td>2008.0</td>\n",
       "      <td>1010038.0</td>\n",
       "    </tr>\n",
       "    <tr>\n",
       "      <th>9</th>\n",
       "      <td>2009.0</td>\n",
       "      <td>970221.0</td>\n",
       "    </tr>\n",
       "    <tr>\n",
       "      <th>10</th>\n",
       "      <td>2010.0</td>\n",
       "      <td>918279.0</td>\n",
       "    </tr>\n",
       "  </tbody>\n",
       "</table>\n",
       "</div>"
      ],
      "text/plain": [
       "      year  misdomeaner_arrests\n",
       "1   2001.0             907990.0\n",
       "2   2002.0             903249.0\n",
       "3   2003.0             931782.0\n",
       "4   2004.0             945562.0\n",
       "5   2005.0             939046.0\n",
       "6   2006.0             968408.0\n",
       "7   2007.0             992588.0\n",
       "8   2008.0            1010038.0\n",
       "9   2009.0             970221.0\n",
       "10  2010.0             918279.0"
      ]
     },
     "execution_count": 5,
     "metadata": {},
     "output_type": "execute_result"
    }
   ],
   "source": [
    "misdomeaners['year'] = misdomeaners['year'] - 1\n",
    "misdomeaners.loc[misdomeaners['year'].isnull(), 'year'] = 2010\n",
    "misdomeaners = misdomeaners[misdomeaners['year'] != 2000]\n",
    "misdomeaners"
   ]
  },
  {
   "cell_type": "code",
   "execution_count": 6,
   "metadata": {},
   "outputs": [
    {
     "data": {
      "image/png": "[encoded data removed]",
      "text/plain": [
       "<Figure size 640x480 with 1 Axes>"
      ]
     },
     "metadata": {},
     "output_type": "display_data"
    },
    {
     "data": {
      "text/plain": [
       "<ggplot: (8766506697893)>"
      ]
     },
     "execution_count": 6,
     "metadata": {},
     "output_type": "execute_result"
    }
   ],
   "source": [
    "# This time I'll do an outer merge and check it!\n",
    "merged = pd.merge(felonies, misdomeaners, on=\"year\", validate=\"1:1\", \n",
    "                  how='outer', indicator=True)\n",
    "assert (merged._merge == \"both\").all()\n",
    "merged['share_felonies'] = merged['felony_arrests'] / (merged['felony_arrests'] + merged['misdomeaner_arrests'])\n",
    "\n",
    "from plotnine import *\n",
    "(\n",
    "    ggplot(merged, aes(x='year', y='share_felonies')) +\n",
    "           geom_point() + geom_smooth() + \n",
    "           scale_x_continuous(range = [2001, 2010],\n",
    "                      breaks =  range(2001, 2010, 1)\n",
    "                      )\n",
    ")"
   ]
  },
  {
   "cell_type": "markdown",
   "metadata": {},
   "source": [
    "Phew. OK, so the real answer is that there was a big increase in felonies as a share of total arrests in the early 2000s, then an even steeper decline than we saw before. "
   ]
  },
  {
   "cell_type": "markdown",
   "metadata": {},
   "source": [
    "And that, my friends, is the iceberg principle: often times very small anomylies in your data are the only warning you will get about much bigger problems, so you always want to keep an eye out for things you don't expect, and if you see something weird, *make sure you figure out why it's happening*, because while sometimes small problems are just small problems, other times your just seeing the tip of an iceberg:\n",
    "\n",
    "![iceberg](images/iceberg.jpg)"
   ]
  },
  {
   "cell_type": "markdown",
   "metadata": {},
   "source": [
    "And lest you think this is a contrived example: it's not. It is a simplified verison of a problem I encountered in my own research just 2 months ago, in which a single outlier observation lead me to realize that our data entry team had made an off-by-one error during data entry that had corrupted several years of data. I cannot tell you how many times over the years I've had this kind of thing occur -- I was one observation short in a regression, or I had one outlier, and when I dug into I discovered a much, much bigger problem. So *please* heed my warning: if you see something that seems off, no matter how small, figure out what's causing it!"
   ]
  }
 ],
 "metadata": {
  "kernelspec": {
   "display_name": "Python 3",
   "language": "python",
   "name": "python3"
  },
  "language_info": {
   "codemirror_mode": {
    "name": "ipython",
    "version": 3
   },
   "file_extension": ".py",
   "mimetype": "text/x-python",
   "name": "python",
   "nbconvert_exporter": "python",
   "pygments_lexer": "ipython3",
   "version": "3.7.8"
  }
 },
 "nbformat": 4,
 "nbformat_minor": 4
}
