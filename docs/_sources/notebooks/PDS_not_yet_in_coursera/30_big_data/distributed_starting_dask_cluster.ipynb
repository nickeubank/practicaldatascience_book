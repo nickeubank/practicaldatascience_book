{
 "cells": [
  {
   "cell_type": "markdown",
   "metadata": {},
   "source": [
    "# Starting a Cloud Dask Cluster\n",
    "\n",
    "There are number of different tools available for running a dask cluster on the cloud.\n",
    "\n",
    "## Coiled.io\n",
    "\n",
    "The easiest way to get a dask cluster on the cloud, in my view, is through a service called coiled.io. It's a private company that was actually created by the folks who wrote dask precisely with the goal of making it easier to start dask cloud clusters. Basically just created an account at [coiled.io](https://www.coiled.io/), and install their conda package, run their setup wizard from the command line to link your cloud account with AWS or Google Cloud, and you're all set. This is occasionally a _little_ buggy (nothing worse than managing the admin side of cloud services, is there?!), but pretty smooth.\n",
    "\n",
    "Then all you have to do is open a notebook you're off to the races!\n"
   ]
  },
  {
   "cell_type": "code",
   "execution_count": 1,
   "metadata": {},
   "outputs": [
    {
     "data": {
      "application/vnd.jupyter.widget-view+json": {
       "model_id": "962b89b2e0a74e6aa7ff0b0796cce787",
       "version_major": 2,
       "version_minor": 0
      },
      "text/plain": [
       "Output()"
      ]
     },
     "metadata": {},
     "output_type": "display_data"
    },
    {
     "data": {
      "text/html": [
       "<pre style=\"white-space:pre;overflow-x:auto;line-height:normal;font-family:Menlo,'DejaVu Sans Mono',consolas,'Courier New',monospace\"></pre>\n"
      ],
      "text/plain": []
     },
     "metadata": {},
     "output_type": "display_data"
    },
    {
     "name": "stdout",
     "output_type": "stream",
     "text": [
      "Dask Dashboard: http://34.139.118.93:8787\n"
     ]
    },
    {
     "name": "stderr",
     "output_type": "stream",
     "text": [
      "/Users/nce8/opt/miniconda3/lib/python3.10/site-packages/distributed/client.py:1274: VersionMismatchWarning: Mismatched versions found\n",
      "\n",
      "+---------+----------------+----------------+----------------+\n",
      "| Package | client         | scheduler      | workers        |\n",
      "+---------+----------------+----------------+----------------+\n",
      "| python  | 3.10.8.final.0 | 3.9.13.final.0 | 3.9.13.final.0 |\n",
      "+---------+----------------+----------------+----------------+\n",
      "  warnings.warn(version_module.VersionMismatchWarning(msg[0][\"warning\"]))\n"
     ]
    },
    {
     "name": "stderr",
     "output_type": "stream",
     "text": [
      "2022-11-30 14:33:01,356 - distributed.client - ERROR - Failed to reconnect to scheduler after 30.00 seconds, closing client\n",
      "2022-11-30 14:35:13,608 - distributed.deploy.cluster - WARNING - Failed to sync cluster info multiple times - perhaps there's a connection issue? Error:\n",
      "Traceback (most recent call last):\n",
      "  File \"/Users/nce8/opt/miniconda3/lib/python3.10/site-packages/distributed/comm/tcp.py\", line 439, in connect\n",
      "  File \"/Users/nce8/opt/miniconda3/lib/python3.10/site-packages/tornado/tcpclient.py\", line 275, in connect\n",
      "    af, addr, stream = await connector.start(connect_timeout=timeout)\n",
      "asyncio.exceptions.CancelledError\n",
      "\n",
      "During handling of the above exception, another exception occurred:\n",
      "\n",
      "Traceback (most recent call last):\n",
      "  File \"/Users/nce8/opt/miniconda3/lib/python3.10/asyncio/tasks.py\", line 456, in wait_for\n",
      "    return fut.result()\n",
      "asyncio.exceptions.CancelledError\n",
      "\n",
      "The above exception was the direct cause of the following exception:\n",
      "\n",
      "Traceback (most recent call last):\n",
      "  File \"/Users/nce8/opt/miniconda3/lib/python3.10/site-packages/distributed/comm/core.py\", line 289, in connect\n",
      "  File \"/Users/nce8/opt/miniconda3/lib/python3.10/asyncio/tasks.py\", line 458, in wait_for\n",
      "    raise exceptions.TimeoutError() from exc\n",
      "asyncio.exceptions.TimeoutError\n",
      "\n",
      "The above exception was the direct cause of the following exception:\n",
      "\n",
      "Traceback (most recent call last):\n",
      "  File \"/Users/nce8/opt/miniconda3/lib/python3.10/site-packages/distributed/deploy/cluster.py\", line 132, in _sync_cluster_info\n",
      "  File \"/Users/nce8/opt/miniconda3/lib/python3.10/site-packages/distributed/core.py\", line 901, in send_recv_from_rpc\n",
      "  File \"/Users/nce8/opt/miniconda3/lib/python3.10/site-packages/distributed/core.py\", line 858, in live_comm\n",
      "  File \"/Users/nce8/opt/miniconda3/lib/python3.10/site-packages/distributed/comm/core.py\", line 315, in connect\n",
      "OSError: Timed out trying to connect to tls://34.139.118.93:8786 after 30 s\n",
      "WARNING:root:error sending AWS credentials to cluster: Timed out trying to connect to tls://34.139.118.93:8786 after 30 s\n"
     ]
    }
   ],
   "source": [
    "from coiled import Cluster\n",
    "from dask.distributed import Client\n",
    "\n",
    "# create a remote Dask cluster with Coiled\n",
    "cluster = Cluster(name=\"nick_plays_with_coiled\", software=\"coiled/default-py39\")\n",
    "\n",
    "# interact with bCoiled using the Dask distributed client\n",
    "client = Client(cluster)\n",
    "\n",
    "# link to Dask Dashboard\n",
    "print(\"Dask Dashboard:\", client.dashboard_link)\n"
   ]
  },
  {
   "cell_type": "markdown",
   "metadata": {},
   "source": [
    "(You can also see [this detailed here!](https://docs.coiled.io/user_guide/getting_started.html))\n",
    "\n",
    "Because dask uses internet protocol for moving data around, you can write and execute code _on your own computer_, and that code will run on your cloud cluster right up to the moment you ask for a result, at which time that will be delivered locally. So you can load huge datasets off of S3 storage, crunch them, and the final result will appear in the running notebook session on your own computer.\n",
    "\n",
    "It's pretty amazing, honestly.\n",
    "\n",
    "[And coiled.io can help you setup the software environments on workers, which is HUGELY helpful!](https://docs.coiled.io/user_guide/software_environment.html)"
   ]
  },
  {
   "cell_type": "markdown",
   "metadata": {},
   "source": [
    "\n",
    "### Coiled.io Costs\n",
    "\n",
    "What's it cost? Well all the usual cloud fees will apply from your cloud provider, but coiled.io itself [is free for the first 10,000 CPU hours a month, then 5 cents per CPU hour after that.](https://www.coiled.io/pricing) \n",
    "\n",
    "So for most users: it's free. :)"
   ]
  },
  {
   "cell_type": "markdown",
   "metadata": {},
   "source": [
    "## dask_cloudprovider Package\n",
    "\n",
    "You can also just use the [dask_cloudprovider](https://cloudprovider.dask.org/en/latest/) package to directly setup a cloud instance. It has support for AWS, GCP, Azure, DigitalOcean, Hetzner. It's a great set of tools, but you have to do a little more of the cloud admin then you do with coiled."
   ]
  },
  {
   "cell_type": "markdown",
   "metadata": {},
   "source": [
    "## High Performance Compute Clusters (PBS, SLURM, etc.)\n",
    "\n",
    "Most universities and even some companies manage their own local compute clusters. If that's you, don't worry—dask has you covered! [Dask-Jobqueue](https://jobqueue.dask.org/en/latest/) provides tools for deploying jobs on any of these platforms!"
   ]
  },
  {
   "cell_type": "markdown",
   "metadata": {},
   "source": [
    "## A Note on Software Versioning\n",
    "\n",
    "When running dask in the cloud, you may get a warning that looks like this:\n",
    "\n",
    "![dask versioning](images/dask_versoning.png)\n",
    "\n",
    "That's just letting you know that the software running on your personal computer is not exactly the same as the version of software running on your cloud workers. This won't generally be a problem, but occasionally moving information between different versions of software can cause problems, so it's often worth trying to make sure that you have the same versions everywhere.\n",
    "\n",
    "[More on this here.](https://docs.coiled.io/user_guide/software_environment.html)"
   ]
  }
 ],
 "metadata": {
  "kernelspec": {
   "display_name": "Python 3.10.6 ('base')",
   "language": "python",
   "name": "python3"
  },
  "language_info": {
   "codemirror_mode": {
    "name": "ipython",
    "version": 3
   },
   "file_extension": ".py",
   "mimetype": "text/x-python",
   "name": "python",
   "nbconvert_exporter": "python",
   "pygments_lexer": "ipython3",
   "version": "3.10.8"
  },
  "orig_nbformat": 4,
  "vscode": {
   "interpreter": {
    "hash": "718fed28bf9f8c7851519acf2fb923cd655120b36de3b67253eeb0428bd33d2d"
   }
  }
 },
 "nbformat": 4,
 "nbformat_minor": 2
}
