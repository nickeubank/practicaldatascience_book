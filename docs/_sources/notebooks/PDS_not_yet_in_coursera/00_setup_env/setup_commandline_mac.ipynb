{
 "cells": [
  {
   "cell_type": "markdown",
   "metadata": {},
   "source": [
    "# Improving Your Command Line Experience (macOS)\n",
    "\n",
    "In our next reading on [Command Line Basics](command_line_part1.ipynb), we'll learn that there are actually several programs available that allow users to interact with their operating system via text commands instead of using their mouse to click on icons (feel free to follow the link and read ahead if you'd like). \n",
    "\n",
    "In this course, we'll focus on learning to use a tool named `sh` (short for shell) and its near cousins (`bash` and `zsh`) which are pretty ubiquitous in the data science space. Why? Mostly because it is the default command line tool for Linux operating systems, and while you may not know it, *most* of the computers you interact with on a daily basis run Linux. Your personal computer may be a Mac (which is actually very similar to Linux at the operating system level), but the computers running websites, managing your email, running those ticket kiosk you see at the airport, etc. are almost all running on Linux. And when you start doing cloud computing, you'll *probably* be working with a Linux virtual machine. So if you're going to learn a command line tool as a data scientist, learning `sh` or one of its cousins is a natural choice.\n",
    "\n",
    "As a Mac user, the default command line tool that comes with your operating system (which you can access by opening the `Applications` folder, opening the `Utilities` folder, then opening `Terminal`) is actually running `bash`, a close relative of `sh`. So you're already basically setup to learn the tool you want to learn!\n",
    "\n",
    "But while `sh`, `bash`, and `zsh` are all basically the same in terms of how they operate (they use all the same commands and have the same syntax), there are some differences in the bells-and-whistles they provide, and so in this reading we'll discuss how you can install a version of `zsh` and a package of augmentations (called \"Oh-My-Zsh!\") that has better syntax highlighting, tab completion, and customizations that will just make your life easier. Again, none of these changes will affect how the command line works in terms of the commands it accepts, it just makes it a lot friendlier. \n",
    "\n",
    "To get this set up, we'll be:\n",
    "\n",
    "1. Install Oh-My-Zsh! (which installs a nicely configured version of `zsh`)"
   ]
  },
  {
   "cell_type": "markdown",
   "metadata": {},
   "source": [
    "## Installing Oh-My-Zsh!\n",
    "\n",
    "1. Open your Terminal command line tool by going to `Applications` > `Utilities` and opening `Terminal`.\n",
    "2. Go to the Oh-My-Zsh! site by going to [https://ohmyz.sh/](https://ohmyz.sh/)\n",
    "3. Copy the command to install Oh-My-Zsh! from the Oh-My-Zsh! site. As of 2025, it was: `sh -c \"$(curl -fsSL https://raw.githubusercontent.com/ohmyzsh/ohmyzsh/master/tools/install.sh)\"`. (Note there's a `$` at the start of the line on the website -- that's just to indicate your looking at the start of a command. *Don't* copy the `$` into your Terminal session.)\n",
    "4. Now you should see instead of the name of your computer and a `$` as your prompt, you'll see an Oh-My-Zsh welcome message and a nice green arrow showing you where you can enter commands!\n",
    "\n",
    "\n",
    "### Why Did We Do That?\n",
    "\n",
    "I recognize that in having you set this up before we start our command line exercises, all the benefits of a `zsh` shell may not be entirely apparently, but here's a simple comparison of what you see in the regular macOS terminal versus what you'll see now that you have `oh-my-zsh` installed. \n",
    "\n",
    "If, in the normal macOS Terminal running `zsh` I'd used `cd` to navigate to the folder where I keep the materials for this class, then asked for the contents of the folder by running `ls`, I'd see something like this (note the exact colors you see will depend on whether you have on dark mode / have changed themes):\n",
    "\n",
    "\n",
    "![bash](images/default_shell.png)\n"
   ]
  },
  {
   "cell_type": "markdown",
   "metadata": {},
   "source": [
    "Now that I have `zsh` installed, by contrast, I see this: \n",
    "\n",
    "![zsh](images/zsh.png)\n",
    "\n",
    "Not everything you see will make sense to you yet (though it all will by the end of the course!) but `(base)` is telling me about my current `conda` environment, `practicaldatascience` is the currently open folder, `git` tells me I'm in a git repository, and `new_setup_for_2021` tells me about the git branch I'm on.\n",
    "\n",
    "And when I ask for the contents of the current directory, folder names are displayed in bold, and files are displayed in white to make it easier to understand? These are the kinds of little tricks that may this a much easier tool to use!\n",
    "\n",
    "### Wanna Change Color Schemes?\n",
    "\n",
    "If you wanna play with the color scheme on your computer, you can go to the \"Terminal\" menu when `Terminal` is open and select `Preferences`. Then pick a theme and click the \"Default\" button to make it default. You can also download other themes (the one I'm using is called Dracula, and [you can find it here](https://draculatheme.com/terminal)) or customize any of the installed ones!"
   ]
  }
 ],
 "metadata": {
  "kernelspec": {
   "display_name": "Bash",
   "language": "bash",
   "name": "bash"
  },
  "language_info": {
   "name": "bash",
   "version": ""
  }
 },
 "nbformat": 4,
 "nbformat_minor": 4
}
