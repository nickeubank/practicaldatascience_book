{
    "cells": [
        {
            "cell_type": "markdown",
            "id": "a043a762",
            "metadata": {},
            "source": [
                "# Validating Python Installation"
            ]
        },
        {
            "cell_type": "markdown",
            "id": "58abcae3",
            "metadata": {},
            "source": [
                "In the interest of identifying potentially issues quickly, below are some instructions for validating your installation and checking for issues that could cause problems down the line.\n",
                "\n"
            ]
        },
        {
            "cell_type": "markdown",
            "id": "2d95dead",
            "metadata": {},
            "source": [
                "## Checking for Other Python Installations\n",
                "\n",
                "One of the things that makes Python different from many other programs you may be accustomed to — like R or Stata — is that it's possible to have multiple fully independent installations of Python on the same computer. Each installation of Python — also referred to as an interpreter — has its own set of installed packages. Different installations may also be different versions (e.g., `3.9` versus `3.11`), or the same version.\n",
                "\n",
                "As a result, its easy as a beginning programmer to end up in situations where your code won't run because you don't have a specific package installed, but then when you try to install the package, you find it won't fix the problem because the installation of Python that's running your code is different from the installation into which you are installing the package.\n",
                "\n",
                "So, to help avoid problems, a good next step is to check for other Python installations and remove any that aren't needed. \n",
                "\n",
                "**On a Mac:**\n",
                "\n",
                "In a new terminal window:\n",
                "\n",
                "- type `which -a python` and hit enter. You *should* only see one entry, which will be something like `/Users/nick/miniforge3/bin/python`, where the name that follows `/Users/` is your username.\n",
                "- type `which -a python3` and hit enter. You *should* only see two entries: `/Users/nick/miniforge3/bin/python3` and `/usr/bin/python3`. \n",
                "    - `/usr/bin/python3` is a version of Python that is part of macOS. It's ok it's there, and you don't want to play with it. \n",
                "\n",
                "If you see any other entries, such as: \n",
                "\n",
                "- `/Users/nick/miniconda3/bin/python`\n",
                "- `/Users/nick/anaconda3/bin/python`\n",
                "- `/opt/anaconda3/bin/python`\n",
                "- `/opt/homebrew/bin/python3`\n",
                "\n",
                "Then you have other installations of Python you want to remove. To do so:\n",
                "\n",
                "- If you have an installation in your user folder (e.g., `/Users/nick/miniconda3/bin/python` or `/Users/nick/anaconda3/bin/python`), then open your user folder, look for the folder called `miniconda3` or `anaconda3`, put it in the trash and empty the trash. Delete the whole `miniconda3` or `anaconda3` folder.\n",
                "- If you have an installation whose path starts with `/opt/` (e.g., `/opt/anaconda3`) open your terminal and type `cd /opt; open .`. That should cause a Finder window to open in which you should see `anaconda3` or `homebrew`.\n",
                "    - if you see a `anaconda3` or  `miniconda3` folder, drag it to the trash. Your computer will ask for your password or TouchID. \n",
                "    - if you see `homebrew`, you have two choices. If you don't know what homebrew is or how it got there, then drag it to the trash. If you know what it is and want it there because your using it for something else, run `brew uninstall python`.\n",
                "\n",
                "Then open a new terminal and re-run `which -a python` and `which -a python3` again to doublecheck that you only have one entry under `which -a python` and two under `which -a python3`."
            ]
        },
        {
            "cell_type": "markdown",
            "id": "ee7dd454",
            "metadata": {},
            "source": [
                "## Let's Check Functionality by Installing A Few Standard Packages\n",
                "\n",
                "If you plan to do much data science, then it also makes sense to now install a few packages to help make life easier. Doing this install is also a good way to make sure things are installed and working correctly up to this point.\n",
                "\n",
                "To install this first set of packages, open a new terminal window and run the command:\n",
                "\n",
                "`conda install pandas matplotlib jupyter notebook`\n",
                "\n",
                "It'll think a little, then it'll ask you to confirm this is what you want to do. Type `y` and hit enter and let it rip!"
            ]
        },
        {
            "cell_type": "markdown",
            "id": "9e65dc51",
            "metadata": {},
            "source": [
                "## Having Issues?\n",
                "\n",
                "These directions will *hopefully* address most common problems, but if you're still having issues, please bring them to an instructor or TA!"
            ]
        }
    ],
    "metadata": {
        "kernelspec": {
            "display_name": "base",
            "language": "python",
            "name": "python3"
        },
        "language_info": {
            "name": "python",
            "version": "3.12.8"
        },
        "orig_nbformat": 4
    },
    "nbformat": 4,
    "nbformat_minor": 5
}
