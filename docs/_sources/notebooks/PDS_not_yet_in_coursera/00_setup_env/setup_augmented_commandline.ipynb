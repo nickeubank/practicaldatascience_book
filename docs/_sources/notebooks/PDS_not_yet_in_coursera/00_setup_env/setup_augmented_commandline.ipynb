{
    "cells": [
        {
            "cell_type": "markdown",
            "metadata": {},
            "source": [
                "# Set Up an Augmented Command Line\n",
                "\n",
                "The last thing we're gonna do to fully set up our environment is install and configure a better command line tool. How we do this depends on your operating system, though, so please follow the appropriate link below:\n",
                "\n",
                "- [Augmented Command Line Setup for macOS](setup_commandline_mac.ipynb)\n",
                "- [Augmented Command Line Setup for Windows](setup_commandline_windows.ipynb)\n"
            ]
        }
    ],
    "metadata": {
        "kernelspec": {
            "display_name": "Python 3.9.7 ('base')",
            "language": "python",
            "name": "python3"
        },
        "language_info": {
            "name": "python",
            "version": "3.9.7"
        },
        "orig_nbformat": 4,
        "vscode": {
            "interpreter": {
                "hash": "3e0a5228cb9726a24d36227c69ed0d3aac98cecda769d1c9adb080711d57f90d"
            }
        }
    },
    "nbformat": 4,
    "nbformat_minor": 5
}