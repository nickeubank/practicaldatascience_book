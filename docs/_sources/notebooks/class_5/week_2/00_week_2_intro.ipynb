{
 "cells": [
  {
   "cell_type": "markdown",
   "metadata": {
    "vscode": {
     "languageId": "plaintext"
    }
   },
   "source": [
    "# Using Code to Make Predictions from Data: Classification and Regression\n",
    "\n",
    "Data scientists often use code to make predictions from data and understand the relationship between variables in datasets. This week we will discuss two categories of prediction: classification (for discrete variables) and regression (for continuous variables) and you will code up your own algorithms to perform both classification and regression and apply them to data.\n",
    "\n",
    "## Goals of this week\n",
    "\n",
    "- Learn about the basics of classification and regression algorithms for prediction\n",
    "- Implement your own k-nearest-neighbors (KNN) classification and regression algorithm\n",
    "- Apply your prediction models to data and evaluate the performance of those models.\n",
    "\n",
    "## Difference between prediction and inference\n",
    "\n",
    "Before we dive into the details of prediction, it's important to clarify the difference between prediction and inference. You may have seen regression before, for example, in a context where the goal is to understand how certain input variables are related to an output variable and which have the strongest relationship. For example, imagine you are in the real estate industry and are evaluating whether the number of bedrooms, the age of the home, or the presence of a swimming pool is most informative for determining the sales price of the home. This is an inference problem. If instead, you're interested in predicting the sales price of the home itself, then that would be a prediction problem.\n",
    "\n",
    "In this week, we'll focus on prediction. In a later week, we'll explore inference and discuss this difference in more detail.\n",
    "\n",
    "## The approach: active learning and desirable difficulty\n",
    "\n",
    "Over the course of this week you'll be coding your own classification and regression algorithms, you'll program evaluation tools for measuring performance and comparing models, and more. You may ask, \"aren't there tools that do these things already that I could use instead of coding them myself?\" The answer is unequivocally \"yes!\" This course isn't about finding the easiest way to complete each task, it's about learning the coding skills that will enable you to be code effectively on your journey of deepening your skills in data science. That is why you will be actively developing your own algorithms, struggling to get them to work with the numerous details that are required to get just right to make this work, and then enjoying well-earned success at having solved each challenge.\n",
    "\n",
    "Are you up for it?! Let's get started!"
   ]
  }
 ],
 "metadata": {
  "language_info": {
   "name": "python"
  }
 },
 "nbformat": 4,
 "nbformat_minor": 2
}
