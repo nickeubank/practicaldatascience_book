{
 "cells": [
  {
   "cell_type": "markdown",
   "metadata": {},
   "source": [
    "# Introduction to programming for plotting\n",
    "\n",
    "Once you've mastered the basics of programming and are able to gather, process, and query data using code, the next step is to be able to derive insights from data. You've seen how to display tables of your data. Taking that to the next level, a vital skill for data science is to be able to display your data visually.\n",
    "\n",
    "## Why do we plot? Visual exploration, communication, and summarization\n",
    "\n",
    "> The greatest value of a picture is when it forces us to notice what we never expected to see. **John Tukey**\n",
    "\n",
    "For millennia, humans have used data visualization to learn about the world and share it with others. Maps are among the oldest form of data visualization which helped us to understand and communicate how the world was arranged spatially, enabling commerce, law, and science to advance. The data visualization (Figure 1) of John Snow's famous 1854 data visualization that mapped the number of Cholera deaths (black bars stacked along the streets) and showed the proximity to water pumps for wells in London (black dots labeled \"PUMP\"). It turned out that the well at the center of the outbreak had been contaminated by sewage."
   ]
  },
  {
   "cell_type": "markdown",
   "metadata": {},
   "source": [
    "\n",
    "![Cholera Map](img/snow.png)\n",
    "*Figure 1. John Snow's 1854 map of the cholera epidemic in London.*"
   ]
  },
  {
   "cell_type": "markdown",
   "metadata": {},
   "source": [
    "This visualization convinced local authorities to shut down access to the well by removing the handle on the pump. This action has been widely credited with ending the outbreak and saving countless lives: an action resulting from the evidence shared through an effective data visualization."
   ]
  },
  {
   "cell_type": "markdown",
   "metadata": {},
   "source": [
    "\n",
    "## Why do we plot programmatically? \n",
    "\n",
    "You might wonder why, given great tools with graphical user interfaces (GUIs) like Excel and Tableau for being able to make data visualizations, why would we ever choose to create plots programmatically?\n",
    "\n",
    "There are several reasons:\n",
    "1. **Customization**. Tools like the ones we will introduce in this course, allow for nearly limitless customizations if you're willing to dive deep enough into the code. Tools like Excel and Tableau are not able to offer that degree of flexibility.\n",
    "2. **Reproducibility**. If you create a plot with the code, you can instantly regenerate that plot even if your data change. With other tools, the plot creation process requires that you repeat numerous steps. This can be a major time saver. Additionally, it allows others that you are working with or that you share your code with to also reproduce your plots, increasing the impact of the work.\n",
    "3. **Automation and upscaling**. If your plot is part of a process that you will rerun regularly or that needs to be scaled up to larger datasets, having your plots created using code will enable easy integration into those pipelines unlike GUI-based tools.\n",
    "\n",
    "## Overview of this week's module\n",
    "\n",
    "Over the course of this week, you will learn...\n",
    "- Fundamental plotting techniques including line plots, scatter plots, bar plots, pie charts, stackplots, errorbar plots, text, heatmaps, and histograms (both one-dimensional and two-dimensional).\n",
    "- Core components of all plots within matplotlib and how they can be customized including axis labels, axis ticks and limits, titles, legends, and more.\n",
    "- Advanced plotting customizations to create professional publication-worthy plots that both clearly communicate your data and do so in a way that can engage a reader.\n",
    "- How to create multiple plots in the same figure with subplots and how to use different layouts to customize your visualizations.\n",
    "- How to save your data to file so that you can use your visualizations in reports, presentations, and on the web.\n",
    "- How to customize the style of your plots using style sheets that enable you to mimic nearly any style.\n",
    "- Best practices in data visualization that include considerations of how to choose the right plot for the right purpose and how to increase the readability and visual appeal of your plots\n",
    "- How advanced plotting tools like seaborn that provide a wrapper to matplotlib can be used to quickly make intricate plots.\n",
    "- How pandas DataFrames can be used for quickly investigating your data with matplotlib\n",
    "- Other plotting resources that you can explore to learn more.\n",
    "- Practical examples of how visualization can enhance our understanding of data.\n",
    "\n",
    "## Let's get started!\n",
    "\n",
    "We start this course with an introduction to plotting programmatically so that you're then able to use those visualization skills for the other topics we will discuss: using code to make predictions and draw inferences from data, before pulling it all together into a final project applying your Python programming skills."
   ]
  }
 ],
 "metadata": {
  "language_info": {
   "name": "python"
  }
 },
 "nbformat": 4,
 "nbformat_minor": 2
}
