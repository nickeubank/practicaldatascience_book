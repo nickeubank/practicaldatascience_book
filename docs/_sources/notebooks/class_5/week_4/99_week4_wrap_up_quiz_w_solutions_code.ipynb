{
 "cells": [
  {
   "cell_type": "markdown",
   "metadata": {},
   "source": [
    "# Module 4 Wrap-up Quiz\n",
    "\n",
    "One of the most important parts of this module was the data merging that you performed. This quiz will provide an opportunity to evaluate the merge that you just completed and to use the data to ask some additional questions about related to the data. Return to your merged data file and answer the following questions by querying the data.\n",
    "\n",
    "## Q1. For countries with a population of 5 million or more, which country has the highest GDP per capita?\n",
    "\n",
    "(Answer = Singapore)\n"
   ]
  },
  {
   "cell_type": "code",
   "execution_count": 22,
   "metadata": {},
   "outputs": [
    {
     "data": {
      "text/plain": [
       "'Singapore'"
      ]
     },
     "execution_count": 22,
     "metadata": {},
     "output_type": "execute_result"
    }
   ],
   "source": [
    "import pandas as pd\n",
    "\n",
    "df = pd.read_csv('data/intermediate/data.csv')\n",
    "df_geq_5M = df.loc[df['population']>5e6]\n",
    "df_sorted = df_geq_5M.sort_values('income', ascending=False)\n",
    "df_sorted['country'].values[0]"
   ]
  },
  {
   "cell_type": "markdown",
   "metadata": {},
   "source": [
    "\n",
    "## Q2. For the country you identified in Q1, what are it's carbon dioxide emissions per person in metric tonnes for the year provided in the data?\n",
    "\n",
    "(Answer = 7.1)\n"
   ]
  },
  {
   "cell_type": "code",
   "execution_count": 23,
   "metadata": {},
   "outputs": [
    {
     "data": {
      "text/plain": [
       "7.1"
      ]
     },
     "execution_count": 23,
     "metadata": {},
     "output_type": "execute_result"
    }
   ],
   "source": [
    "df_sorted['co2'].values[0]"
   ]
  },
  {
   "cell_type": "markdown",
   "metadata": {},
   "source": [
    "\n",
    "## Q3. For countries with population of 5 million or more, which country has the highest carbon dioxide emissions per person?\n",
    "\n",
    "(Answer = United Arab Emirates)\n"
   ]
  },
  {
   "cell_type": "code",
   "execution_count": 24,
   "metadata": {},
   "outputs": [
    {
     "data": {
      "text/plain": [
       "'United Arab Emirates'"
      ]
     },
     "execution_count": 24,
     "metadata": {},
     "output_type": "execute_result"
    }
   ],
   "source": [
    "df_sorted = df_geq_5M.sort_values('co2', ascending=False)\n",
    "df_sorted['country'].values[0]"
   ]
  },
  {
   "cell_type": "markdown",
   "metadata": {},
   "source": [
    "## Q4. For your answer in Q3, what is the average GDP per person in U.S. Dollars?\n",
    "\n",
    "(Answer = 67000)"
   ]
  },
  {
   "cell_type": "code",
   "execution_count": 25,
   "metadata": {},
   "outputs": [
    {
     "data": {
      "text/plain": [
       "67000.0"
      ]
     },
     "execution_count": 25,
     "metadata": {},
     "output_type": "execute_result"
    }
   ],
   "source": [
    "df_sorted['income'].values[0]"
   ]
  },
  {
   "cell_type": "markdown",
   "metadata": {},
   "source": [
    "\n",
    "## Q5. For countries with a population of more than 10 million, which country has the highest CO2 emissions per person?\n",
    "\n",
    "(Answer = Saudi Arabia)"
   ]
  },
  {
   "cell_type": "code",
   "execution_count": 26,
   "metadata": {},
   "outputs": [
    {
     "data": {
      "text/plain": [
       "'Saudi Arabia'"
      ]
     },
     "execution_count": 26,
     "metadata": {},
     "output_type": "execute_result"
    }
   ],
   "source": [
    "df_geq_10M = df.loc[df['population']>10e6]\n",
    "df_sorted_10M = df_geq_10M.sort_values('co2', ascending=False)\n",
    "df_sorted_10M['country'].values[0]"
   ]
  },
  {
   "cell_type": "markdown",
   "metadata": {},
   "source": [
    "\n",
    "## Q6. For your answer to Q5, what is the average GPD per person in U.S. Dollars?\n",
    "\n",
    "(Answer = 47600)\n"
   ]
  },
  {
   "cell_type": "code",
   "execution_count": 28,
   "metadata": {},
   "outputs": [
    {
     "data": {
      "text/plain": [
       "47600.0"
      ]
     },
     "execution_count": 28,
     "metadata": {},
     "output_type": "execute_result"
    }
   ],
   "source": [
    "df_sorted_10M['income'].values[0]"
   ]
  },
  {
   "cell_type": "markdown",
   "metadata": {},
   "source": [
    "## Q7. Which of the four regions contains the highest number of unique countries in the dataset?\n",
    "\n",
    "A. Africa\n",
    "B. Americas\n",
    "C. Asia\n",
    "D. Europe\n",
    "\n",
    "(Answer = C)\n"
   ]
  },
  {
   "cell_type": "code",
   "execution_count": 32,
   "metadata": {},
   "outputs": [
    {
     "name": "stdout",
     "output_type": "stream",
     "text": [
      "Count by Group:\n",
      "continent\n",
      "Africa      54\n",
      "Americas    35\n",
      "Asia        64\n",
      "Europe      40\n",
      "Name: country, dtype: int64\n"
     ]
    }
   ],
   "source": [
    "counted_df = df.groupby('continent').count()\n",
    "print(\"Count by Group:\")\n",
    "print(counted_df['country'])\n"
   ]
  },
  {
   "cell_type": "markdown",
   "metadata": {},
   "source": [
    "\n",
    "## Q8. How many countries are in the region in the answer to Q7?\n",
    "\n",
    "(Answer = 64)\n",
    "\n",
    "See above for how it was calculated."
   ]
  },
  {
   "cell_type": "markdown",
   "metadata": {},
   "source": [
    "\n",
    "## Q9. Which of the four regions has the smallest population?\n",
    "\n",
    "A. Africa\n",
    "B. Americas\n",
    "C. Asia\n",
    "D. Europe\n",
    "\n",
    "(Answer = D)"
   ]
  },
  {
   "cell_type": "code",
   "execution_count": null,
   "metadata": {},
   "outputs": [
    {
     "name": "stdout",
     "output_type": "stream",
     "text": [
      "Sum by Group:\n",
      "continent\n",
      "Africa      1.274243e+09\n",
      "Americas    1.000924e+09\n",
      "Asia        4.599994e+09\n",
      "Europe      7.461850e+08\n",
      "Name: population, dtype: float64\n"
     ]
    }
   ],
   "source": [
    "summed_df = df.groupby('continent').sum()\n",
    "print(\"Sum by Population:\")\n",
    "print(summed_df['population'])"
   ]
  },
  {
   "cell_type": "markdown",
   "metadata": {},
   "source": [
    "## Q10. What is the total population of the region from Q9?\n",
    "\n",
    "(Answer = 746185000)"
   ]
  },
  {
   "cell_type": "code",
   "execution_count": 36,
   "metadata": {},
   "outputs": [
    {
     "data": {
      "text/plain": [
       "746185000.0"
      ]
     },
     "execution_count": 36,
     "metadata": {},
     "output_type": "execute_result"
    }
   ],
   "source": [
    "d = summed_df['population']\n",
    "d['Europe']"
   ]
  }
 ],
 "metadata": {
  "kernelspec": {
   "display_name": "pds-book",
   "language": "python",
   "name": "python3"
  },
  "language_info": {
   "codemirror_mode": {
    "name": "ipython",
    "version": 3
   },
   "file_extension": ".py",
   "mimetype": "text/x-python",
   "name": "python",
   "nbconvert_exporter": "python",
   "pygments_lexer": "ipython3",
   "version": "3.12.0"
  }
 },
 "nbformat": 4,
 "nbformat_minor": 2
}
