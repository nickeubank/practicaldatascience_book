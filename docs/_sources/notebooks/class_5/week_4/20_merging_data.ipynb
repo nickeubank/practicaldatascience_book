{
 "cells": [
  {
   "cell_type": "markdown",
   "metadata": {},
   "source": [
    "# Project: Data merging\n",
    "\n",
    "Recall our goal is to produce a plot that explores the relationship between carbon dioxide emissions, income, and population for each country/territory. In this step of the project, we'll merge our four data sources together into a single DataFrame that includes:\n",
    "\n",
    "1. Carbon dioxide emissions by country\n",
    "2. Income (as measured by GDP per capita) by country\n",
    "3. Population by country (so we can convert CO2 emissions into per capita emissions)\n",
    "4. List of territories by continent (since we want to be able to group the countries by region of the world)\n",
    "\n",
    "We've already saved the individual datasets we need: `co2`, `income`, `pop` and `continent` and created a series of steps that we could reuse if we need to process a different year of data. Now, we need to merge these into one `DataFrame` so that we can plot the data. \n",
    "\n",
    "## The goal\n",
    "\n",
    "The goal for this part of the project is simple: merge the data into a single DataFrame."
   ]
  },
  {
   "cell_type": "markdown",
   "metadata": {},
   "source": [
    "\n",
    "## The process\n",
    "\n",
    "**(1)** Review each of the datasets you've processed and think about what variable you will merge on (it should be present in all four separate datasets). From this, it should be clear that you want to merge on country, since this is common across all the datasets. You'll want to have one row for each country/region with the values of carbon dioxide, income, population, and continent as columns. Collect any insights about the similarities and differences between the country values across the datasets.\n",
    "\n",
    "**(2)** Merge data with similar country values. In this case, since the same organization processed the carbon dioxide, income, and population data, you should be able to merge each of these without issue. Start with those three datasets and merge them. Determine what type of merge is most appropriate given the data.\n",
    "\n",
    "**(3)** Compare the country names between the new dataset from the three merged datasets in the last step and the continents dataset.\n",
    "\n",
    "**(4)** In the last few steps, you likely noticed that country names are not identical across the datasets if you look closely. Examples of the differences include:\n",
    "\n",
    "- 'Brunei', 'Brunei Darussalam'\n",
    "- 'Bolivia', 'Bolivia (Plurinational State of)'\n",
    "- 'Venezuela','Venezuela (Bolivarian Republic of)'\n",
    "- 'St. Vincent and the Grenadines', 'Saint Vincent and the Grenadines'\n",
    "- 'Cote d'Ivoire', 'Côte d’Ivoire'\n",
    "\n",
    "You will need to reconcile these differences. Create a method for identifying matching pairs of all country names that we can confidently match, and manually label the remaining territories. You will have to consider how to handle 4 categories of possible matches (or lack thereof):\n",
    "1. **Exact matches**. Character-for-character equality. E.g., 'Burundi' <-> 'Burundi'\n",
    "2. **Subset matches**. The \"shorthand\" name is a subset of the full name. E.g., 'Bolivia' <-> 'Bolivia (Plurinational State of)'\n",
    "3. **Near matches**. The names are VERY similar, but a few characters may be different. E.g., 'Cape Verde' <-> 'Cabo Verde'\n",
    "4. **Unmatched examples**. Cases that do not have corresponding pairs. E.g. 'Holy See'\n",
    "\n",
    "Develop a solution for handling each of the above cases and apply them to your data. Once enough of the countries are matched, merge the data. You may need to code a manual solution for a handful of locations to set the content. With programming in data science, a human is often in the loop, but we try to always make sure our solution can be automatically reproduced as needed.\n",
    "\n",
    "Think through how you would solve this problem before proceeding.\n",
    "\n",
    "**(5)** As a recommended approach, use the list of 4 categories of match types above and test for each. What is important here is that order matters. If you perform a match, the matched strings should be removed from further consideration going forward, since they've been matched, and so you don't create duplicate matches. Additionally, match those quantities that most likely match first (e.g. exact matches before subset matches, before near matches, etc.). Since the lengths of the territory lists are 193 and 249, at most there will be 193 matches.\n",
    "\n",
    "You're encouraged to read about and use the `difflib` package and the `SequenceMatcher` object and `get_close_matches` function. `SequenceMatcher` provides a similarity score for comparing two strings and takes on values between 0 and 1 where 1 is an exact match and 0 is no match at all. The `get_close_matches` function provides a list of the closest matches to the input string based on the `SequenceMatcher` similarity score.\n",
    "\n",
    "Our suggested pseudocode for this function is:\n",
    "1. Identify any exact matches and remove them from the list of strings to match\n",
    "2. Identify subset matches and remove them from the list of strings to match\n",
    "3. One at a time, create near matches based on the similarity score of each possible match\n",
    "4. Repeat (3) until all 193 of the territories have been matched\n",
    "5. Return the list of tuples with each match and its corresponding similarity score (set all exact matches and subset matches to a similarity score of 1)\n",
    "6. Determine a threshold for the similarity score, below which assigning a match is not correct\n",
    "7. Manually assign the content for the unmatched examples\n",
    "\n",
    "Review the output of your matching process for correctness before proceeding.\n",
    "\n",
    "**(6)** If you notice in the original plot that we're working to reproduce, there were four continents plotted ('Asia', 'Africa', 'Europe', 'Americas'), but our data has 5 ('Asia', 'Africa', 'Europe', 'Americas', 'Oceania'). Replace the Oceania label with Asia for the sake of this project.\n",
    "\n",
    "**(7)** Save your data to file.\n",
    "\n",
    "**(8)** Create a function for capturing your process so you can easily rerun your code as needed.\n",
    "\n",
    "Coding for data science often involves a lot of preparatory work to ready the data for analysis and visualization. You've taken a big step here and now we can reap the benefits of this hard work through the visualization in the next step of the project!\n",
    "\n",
    "**BEFORE PROCEEDING IN THE COURSE, BE SURE TO WORK THROUGH THIS YOURSELF. YOU CAN DO THIS!**"
   ]
  }
 ],
 "metadata": {
  "kernelspec": {
   "display_name": "Python 3.10.2 ('ds')",
   "language": "python",
   "name": "python3"
  },
  "language_info": {
   "codemirror_mode": {
    "name": "ipython",
    "version": 3
   },
   "file_extension": ".py",
   "mimetype": "text/x-python",
   "name": "python",
   "nbconvert_exporter": "python",
   "pygments_lexer": "ipython3",
   "version": "3.12.0"
  },
  "orig_nbformat": 4,
  "vscode": {
   "interpreter": {
    "hash": "b9e56a7b23b1fac2eea1a993b805ed5c611aea1439c1f46315b23590ab6d3ba0"
   }
  }
 },
 "nbformat": 4,
 "nbformat_minor": 2
}
