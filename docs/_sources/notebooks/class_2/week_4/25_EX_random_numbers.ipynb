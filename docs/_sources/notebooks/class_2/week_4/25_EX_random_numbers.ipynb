{
 "cells": [
  {
   "cell_type": "markdown",
   "metadata": {},
   "source": [
    "# Exercise 1: Calculating the mean and variance of common random variables\n",
    "Earlier we discussed summary statistics.\n",
    "\n",
    "1. Given what we discussed about the standard normal and uniform (between 0 and 1) distribution in the previous lesson, what would you anticipate the mean of each distribution was?\n",
    "2. Generate 10,000 samples from a standard normal distribution using the `numpy` `randn` and `rand` methods and calculate their means to check your guesses"
   ]
  },
  {
   "cell_type": "code",
   "execution_count": 4,
   "metadata": {},
   "outputs": [
    {
     "name": "stdout",
     "output_type": "stream",
     "text": [
      "Normal mean =  0.0068421147598279166\n",
      "Uniform mean =  0.4998530393447958\n"
     ]
    }
   ],
   "source": [
    "import numpy as np\n",
    "\n",
    "normal = np.random.randn(10000)\n",
    "uniform = np.random.rand(10000)\n",
    "print('Normal mean = ', np.mean(normal))\n",
    "print('Uniform mean = ', np.mean(uniform))"
   ]
  },
  {
   "attachments": {},
   "cell_type": "markdown",
   "metadata": {},
   "source": [
    "# Exercise 2: Phrase templates to randomly generate a story\n",
    "Using the list below randomly sample 5 words with replacement (duplicates are allowed). Then, randomly place them into the places indicated with blanks (i.e. \"_____\") in the following sentence (this will be a preview of an exercise to come later in this series):\n",
    "\n",
    "\"In eons past, there lived a wise woman who was very proud of the ancient _____ that she protected. When a village elder came to ask her advice on how to best ensure of strong harvest and offered her the _____ as an offering, her eyes opened wide and she shouted one word, \"_______\". She called the village together and for the next 100 days, at her urging, the villagers searched the forest for a ______. On the 101st day, the youngest child of the village found what they had been looking for and all rushed to the wise woman to give it to her. With a smile from ear-to-ear, and singing songs of celebration, the wise woman looked about her kinfolk and said, \"Now has come the time of feasting - no one shall ever go without a _____ again!\" There was much rejoicing.\""
   ]
  },
  {
   "cell_type": "code",
   "execution_count": 5,
   "metadata": {},
   "outputs": [],
   "source": [
    "word_list =np.array(['SMALL BUT FEROCIOUS CAT','WORM OF EXTRAORDINARY SIZE','TWO-HEADED DRAGON','GREAT BEAR-BEAST','GHOST','WIZARD',\n",
    "                     'BILLY GOAT','SASQUATCH','BARNACLE','HORSERADISH','SALMON','BLUEBERRY PIE','HAMBURGER','NEVERENDING-GOBLET','ALPACA','HUMMINGBIRD',\n",
    "                     'BALLOON','LIGHTNING STRIKE'])"
   ]
  },
  {
   "cell_type": "markdown",
   "metadata": {},
   "source": [
    "An example of one possible output story would be:\n",
    "\n",
    ">In eons past, there lived a wise woman who was very proud of the ancient APPLICATION that she protected. When a village elder came to ask her advice on how to best ensure of strong harvest and offered her the ANNOUNCEMENT as an offering, her eyes opened wide and she shouted one word, \"VARIANT\". She called the village together and for the next 100 days, at her urging, the villagers searched the forest for a BATTERY. On the 101st day, the youngest child of the village found what they had been looking for and all rushed to the wise woman to give it to her. With a smile from ear-to-ear, and singing songs of celebration, the wise woman looked about her kinfolk and said, \"Now has come the time of feasting - no one shall ever go without EMPIRE again!\" There was much rejoicing."
   ]
  },
  {
   "cell_type": "markdown",
   "metadata": {},
   "source": [
    "1. Create a function to pick random words from a list of words. \n",
    "    - The function should take as inputs the list of words and the number of words you want to randomly pick from the list. \n",
    "    - Draw random integers that represent the index of the words in the list and use those indices. Use `np.random.randint` to draw random numbers that correspond to the indices of the words in your list. For example, if you had a list that had 3 words ['this', that', 'other'], then your indices would be 0, 1, and 2, and you would want to randomly draw from those three possible values.\n",
    "    - Using the indices that you drew from your list and your knowledge of indexing techniques with `numpy` - select the words that correspond to those indices and return them from your function.\n",
    "2. Test your function to ensure it outputs the correct number of words and that they appear to be randomly chosen words from the list\n",
    "3. Format the text with blanks above into an f-string and insert the words into the string programmatically. Recall that an f-string allows you to integrate variables into your string with ease by allowing you to enclose variables you want to add to the string in brackets within the string. For an example see below:"
   ]
  },
  {
   "cell_type": "code",
   "execution_count": 6,
   "metadata": {},
   "outputs": [
    {
     "name": "stdout",
     "output_type": "stream",
     "text": [
      "I want to insert a string here (I'm the string!) and number 42\n"
     ]
    }
   ],
   "source": [
    "word = \"(I'm the string!)\"\n",
    "number = 42\n",
    "print(f\"I want to insert a string here {word} and number {number}\")"
   ]
  },
  {
   "cell_type": "markdown",
   "metadata": {},
   "source": [
    "4. Lastly, run your code multiple times and see that the added words vary from run to run."
   ]
  },
  {
   "cell_type": "code",
   "execution_count": 7,
   "metadata": {},
   "outputs": [
    {
     "name": "stdout",
     "output_type": "stream",
     "text": [
      "In eons past, there lived a wise woman who was very proud of the ancient WORM OF EXTRAORDINARY SIZE that she protected. When a village elder came to ask her advice on how to best ensure of strong harvest and offered her the LIGHTNING STRIKE as an offering, her eyes opened wide and she shouted one word, \"SASQUATCH\". She called the village together and for the next 100 days, at her urging, the villagers searched the forest for a TWO-HEADED DRAGON. On the 101st day, the youngest child of the village found what they had been looking for and all rushed to the wise woman to give it to her. With a smile from ear-to-ear, and singing songs of celebration, the wise woman looked about her kinfolk and said, \"Now has come the time of feasting - no one shall ever go without a BALLOON again!\" There was much rejoicing.\n"
     ]
    }
   ],
   "source": [
    "import numpy as np\n",
    "\n",
    "def pick_words(wordlist,numwords):\n",
    "    # Determine how many words there are in the list\n",
    "    N = len(wordlist)\n",
    "    \n",
    "    # Generate numword random integers between 0 and N-1\n",
    "    random_indices = np.random.randint(0, high=N, size=numwords).astype(int)\n",
    "    \n",
    "    # Get the words using the indices you generated\n",
    "    return word_list[random_indices]\n",
    "\n",
    "# Get the words    \n",
    "word = pick_words(word_list,5)\n",
    "\n",
    "# Insert the words into the string and print it\n",
    "print(f\"In eons past, there lived a wise woman who was very proud of the ancient {word[0]} that she protected. When a village elder came to ask her advice on how to best ensure of strong harvest and offered her the {word[1]} as an offering, her eyes opened wide and she shouted one word, \\\"{word[2]}\\\". She called the village together and for the next 100 days, at her urging, the villagers searched the forest for a {word[3]}. On the 101st day, the youngest child of the village found what they had been looking for and all rushed to the wise woman to give it to her. With a smile from ear-to-ear, and singing songs of celebration, the wise woman looked about her kinfolk and said, \\\"Now has come the time of feasting - no one shall ever go without a {word[4]} again!\\\" There was much rejoicing.\")"
   ]
  }
 ],
 "metadata": {
  "kernelspec": {
   "display_name": "base",
   "language": "python",
   "name": "python3"
  },
  "language_info": {
   "codemirror_mode": {
    "name": "ipython",
    "version": 3
   },
   "file_extension": ".py",
   "mimetype": "text/x-python",
   "name": "python",
   "nbconvert_exporter": "python",
   "pygments_lexer": "ipython3",
   "version": "3.6.5"
  },
  "orig_nbformat": 4,
  "vscode": {
   "interpreter": {
    "hash": "f54e0b9f92ceb50229b3b7ea26b5d02f05ce8845dd8d997c014a0efede4c9c20"
   }
  }
 },
 "nbformat": 4,
 "nbformat_minor": 2
}
