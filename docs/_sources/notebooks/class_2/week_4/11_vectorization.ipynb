{
 "cells": [
  {
   "cell_type": "markdown",
   "metadata": {},
   "source": [
    "# Vectorization in Python\n",
    "\n",
    "Vectorizing code is a technique that will typically enable you to create faster and more readable code. Vectorization is the process of performing computation on a set of values at once instead of explicitly looping through individual elements one at a time. The difference can be readily seen in a simple example. Let's say we want to add together each element of two arrays, $a = [a_0, a_1, a_2]$ and $b = [b_0, b_1, b_2]$ such that we create a new array $c = [a_0 + b_0, a_1 + b_1, a_2 + b_2]$. Let's show how this is done in a non-vectorized way (using loops) and using vectorization.\n"
   ]
  },
  {
   "cell_type": "code",
   "execution_count": 2,
   "metadata": {},
   "outputs": [],
   "source": [
    "import numpy as np\n",
    "\n",
    "# create our data\n",
    "a = np.array([1, 2, 3])\n",
    "b = np.array([2, 3, 4])"
   ]
  },
  {
   "cell_type": "markdown",
   "metadata": {},
   "source": [
    "Let's first complete this using a non-vectorized approach that uses a for loop..."
   ]
  },
  {
   "cell_type": "code",
   "execution_count": 3,
   "metadata": {},
   "outputs": [
    {
     "name": "stdout",
     "output_type": "stream",
     "text": [
      "Nonvectorized approach -> [3, 5, 7]\n"
     ]
    }
   ],
   "source": [
    "# nonvectorized approach\n",
    "c = [] # Start with an empty array that we will populate in the loop\n",
    "for i in range(len(a)):\n",
    "    c.append(a[i] + b[i])\n",
    "    \n",
    "print('Nonvectorized approach ->', c)"
   ]
  },
  {
   "cell_type": "markdown",
   "metadata": {},
   "source": [
    "Now, let's try a vectorized approach..."
   ]
  },
  {
   "cell_type": "code",
   "execution_count": 4,
   "metadata": {},
   "outputs": [
    {
     "name": "stdout",
     "output_type": "stream",
     "text": [
      "Vectorized approach -> [3 5 7]\n"
     ]
    }
   ],
   "source": [
    "# vectorized approach\n",
    "c = a + b\n",
    "\n",
    "print('Vectorized approach ->', c)"
   ]
  },
  {
   "cell_type": "markdown",
   "metadata": {},
   "source": [
    "One thing is immediately clear - the notation of the vectorized approach is far clearer than the non-vectorized approach. It says exactly what is happening - an element-wise addition of vectors. This approach is even clearer with 2D matrices since 2D matrices would require nested loops. In data science we are often working with vectors or matrices of data and need to perform element-wise operations on them as we discussed before, so vectorized notation is often preferable for clarity of the code. \n",
    "\n",
    "## Performance benefits of vectorization\n",
    "\n",
    "Perhaps the largest benefit is not the code clarity, but the performance improvement that vectorization provides: an increase in computational efficiency/speed. Let's explore this aspect of vectorization through a simple example. Let's say we have a large array of numbers and we want to double each of them."
   ]
  },
  {
   "cell_type": "markdown",
   "metadata": {},
   "source": [
    "We can start by using a non-vectorized approach which loops through each element in the array, doubling it along the way. Let's create a function that does just that:"
   ]
  },
  {
   "cell_type": "code",
   "execution_count": 13,
   "metadata": {},
   "outputs": [],
   "source": [
    "def double_nonvectorized(array):\n",
    "    doubled = array.copy()\n",
    "    for i in range(len(array)):\n",
    "        doubled[i] = array[i] * 2\n",
    "    return doubled"
   ]
  },
  {
   "cell_type": "markdown",
   "metadata": {},
   "source": [
    "Next, let's create the equivalent function, but vectorize it:"
   ]
  },
  {
   "cell_type": "code",
   "execution_count": 14,
   "metadata": {},
   "outputs": [],
   "source": [
    "def double_vectorized(array):\n",
    "    return array * 2"
   ]
  },
  {
   "cell_type": "markdown",
   "metadata": {},
   "source": [
    "Again, note how comparatively simple this version is. Now let's verify they produce the same, correct output:"
   ]
  },
  {
   "cell_type": "code",
   "execution_count": 17,
   "metadata": {},
   "outputs": [
    {
     "name": "stdout",
     "output_type": "stream",
     "text": [
      "Nonvectorized =  [2 4 6 8]\n",
      "Vectorized    =  [2 4 6 8]\n"
     ]
    }
   ],
   "source": [
    "array = np.array([1,2,3,4])\n",
    "print('Nonvectorized = ',double_nonvectorized(array))\n",
    "print('Vectorized    = ',double_vectorized(array))"
   ]
  },
  {
   "cell_type": "markdown",
   "metadata": {},
   "source": [
    "Now let's evaluate the speed difference between the two. To do that, we need to time our code. There are many strategies for doing so, but let's use Python's built-in timing package `time`. There's often some variability in how long it takes to run depending on other processes that are going on, so let's run the code 5 times each and take the average. We'll get to practice many of the tools we've been learning in the course so far.\n",
    "\n",
    "The `time` package has a function `time` that returns the current time in seconds; so taking the difference between `time.time()` between two points in time provides the number of seconds that have elapsed."
   ]
  },
  {
   "cell_type": "code",
   "execution_count": 18,
   "metadata": {},
   "outputs": [],
   "source": [
    "import time\n",
    "\n",
    "def timer(function,argument,num_runs):\n",
    "    total_time = 0\n",
    "    # Rerun the code num_runs times\n",
    "    for i in range(num_runs): \n",
    "        t0 = time.time() # Capture the initial time\n",
    "        function(argument) # Run the function we're timing\n",
    "        t1 = time.time() # Capture the final time\n",
    "        total_time += t1-t0\n",
    "    return total_time / num_runs # Return the average across the runs"
   ]
  },
  {
   "cell_type": "markdown",
   "metadata": {},
   "source": [
    "All that's left to be done is to create a very large array that we want to double and time how long it takes"
   ]
  },
  {
   "cell_type": "code",
   "execution_count": 62,
   "metadata": {},
   "outputs": [
    {
     "name": "stdout",
     "output_type": "stream",
     "text": [
      "Nonvectorized code took  0.26927862167358396 s\n",
      "Vectorized code took     0.0003796100616455078 s\n",
      "Vectorized code was  709.3558598166059  times faster\n"
     ]
    }
   ],
   "source": [
    "big_array = np.arange(1000000)\n",
    "num_runs = 5\n",
    "\n",
    "time_nonvectorized = timer(double_nonvectorized,big_array,num_runs)\n",
    "time_vectorized = timer(double_vectorized,big_array,num_runs)\n",
    "\n",
    "print('Nonvectorized code took ',time_nonvectorized, 's')\n",
    "print('Vectorized code took    ',time_vectorized, 's')\n",
    "print('Vectorized code was ', time_nonvectorized/time_vectorized ,' times faster')"
   ]
  },
  {
   "cell_type": "markdown",
   "metadata": {},
   "source": [
    "That's more than a *700x* speedup! For the exact same code!!!! *Note: if you rerun this code, your output will likely vary depending on the computer you're using and the activity on that computer, but you will consistently see a speedup.*\n",
    "\n",
    "OK, so why does this happen? The answer is twofold. \n",
    "\n",
    "First, in the vectorized function, Python (or rather, the `numpy` code written in C that gets called) is designed to understand that it's about to do something to every entry of an array, so it remembers where the array is located, and so only has to look up where to find the array once. \n",
    "\n",
    "In addition, arrays are *typed*, meaning that Python also knows that every entry of the array it's modifying is an integer. As a result, it doesn't have to check the type of every entry in the array when the operation is vectorized, it checks once and knows that it's working with an array of integers. "
   ]
  },
  {
   "cell_type": "markdown",
   "metadata": {},
   "source": [
    "### Caution: optimize when needed\n",
    "\n",
    "While starting with efficient coding practices is the best approach, there are times when the solutions we can think of for a problem are effective but inefficient. If you don't think of the most optimized approach to a problem at the start, that's okay. If you follow the practices of creating modular code and never duplicating code, you can always refactor your code later and improve its efficiency through optimization. Don't let the perfect be the enemy of the good. Get a working solution created for your problem or analysis and if it's sufficiently modular, you can optimize the performance as you identify opportunities to do so without delaying your minimum viable product."
   ]
  },
  {
   "cell_type": "markdown",
   "metadata": {},
   "source": [
    "## Vectorization syntax parallels much of the math of data science\n",
    "Often in data science, we use linear algebra to perform matrix operations. Linear regression, principle components analysis, and correlation analyses all involve matrix operations. Many of these matrix operations can be directly expressed through vectorized operations in much the same way that the math would be expressed.  For example, we often need to multiply one matrix by another - a common operation for a data scientist. We will explore in the exercises just how much more concise and readable vectorized code can be in such circumstances, and how much of an increase in speed it results in."
   ]
  },
  {
   "cell_type": "markdown",
   "metadata": {},
   "source": [
    "## Recap\n",
    "- Vectorization can drastically increase the speed of execution versus looping over arrays\n",
    "- Vectorization keeps code simpler and more readable so it's easier to understand and build on later\n",
    "- Much of the math of data science is similar to vectorized implementations, making it easier to translate into vectorized code\n",
    "- While performance may be important for your particular problem, prioritize module implementations that can be optimized later over a delayed deliverable"
   ]
  }
 ],
 "metadata": {
  "kernelspec": {
   "display_name": "Python 3",
   "language": "python",
   "name": "python3"
  },
  "language_info": {
   "codemirror_mode": {
    "name": "ipython",
    "version": 3
   },
   "file_extension": ".py",
   "mimetype": "text/x-python",
   "name": "python",
   "nbconvert_exporter": "python",
   "pygments_lexer": "ipython3",
   "version": "3.9.6"
  },
  "varInspector": {
   "cols": {
    "lenName": 16,
    "lenType": 16,
    "lenVar": 40
   },
   "kernels_config": {
    "python": {
     "delete_cmd_postfix": "",
     "delete_cmd_prefix": "del ",
     "library": "var_list.py",
     "varRefreshCmd": "print(var_dic_list())"
    },
    "r": {
     "delete_cmd_postfix": ") ",
     "delete_cmd_prefix": "rm(",
     "library": "var_list.r",
     "varRefreshCmd": "cat(var_dic_list()) "
    }
   },
   "types_to_exclude": [
    "module",
    "function",
    "builtin_function_or_method",
    "instance",
    "_Feature"
   ],
   "window_display": false
  }
 },
 "nbformat": 4,
 "nbformat_minor": 4
}
