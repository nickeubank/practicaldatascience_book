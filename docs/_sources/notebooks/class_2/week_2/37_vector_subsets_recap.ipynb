{
 "cells": [
  {
   "cell_type": "markdown",
   "metadata": {},
   "source": [
    "# Recap\n",
    "\n",
    "- Like lists, vectors can be subset by index or with Boolean vectors.\n",
    "- Subsetting with Booleans allows you to extract subsets based on the *values* of vector elements.\n",
    "- Assigning values to a vector subset will result in the modification of a subset of entries in the original vector. But this only works if the values being assigned have length 1, or the same length as the subset to which the values are being assigned."
   ]
  }
 ],
 "metadata": {
  "kernelspec": {
   "display_name": "Python 3.10.6 ('base')",
   "language": "python",
   "name": "python3"
  },
  "language_info": {
   "name": "python",
   "version": "3.10.6"
  },
  "orig_nbformat": 4,
  "vscode": {
   "interpreter": {
    "hash": "718fed28bf9f8c7851519acf2fb923cd655120b36de3b67253eeb0428bd33d2d"
   }
  }
 },
 "nbformat": 4,
 "nbformat_minor": 2
}
