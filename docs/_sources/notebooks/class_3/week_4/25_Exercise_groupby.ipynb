{
 "cells": [
  {
   "cell_type": "markdown",
   "metadata": {},
   "source": [
    "# Groupby and Arrest Data\n",
    "\n",
    "In our merging exercises, we examined the relationship between county-level violent arrest totals and county-level drug arrest totals. In those exercises, you were given a dataset that provided you with county-level arrest totals. But that's not actually how the data are provided by the state of California. This week we will work with the *raw* California arrest data, which are not organized by county or even county-year. "
   ]
  },
  {
   "cell_type": "markdown",
   "metadata": {},
   "source": [
    "## Exercise 1: Learning the group structure of your data\n",
    "\n",
    "**(1)** Load the data provided (Arrests.csv) which was downloaded from the California State Attorney General's office [here](https://openjustice.doj.ca.gov/data) (under \"Arrests\")."
   ]
  },
  {
   "cell_type": "markdown",
   "metadata": {},
   "source": [
    "**(2)** What is the unit of observation for this dataset? In other words, when row zero says that there were 505 arrests for `VIOLENT` crimes, what exactly is that telling you -- 505 arrests in 1980? 505 arrests in Alameda County? Or is the data broken down even further?"
   ]
  },
  {
   "cell_type": "markdown",
   "metadata": {},
   "source": [
    "**(3)** Using what we discussed in the reading on \"Checking for Duplicates\", use `duplicated` to test if the variables *you* think uniquely identify rows in your data really do uniquely identify rows. If you were wrong, update your understanding of the data!"
   ]
  },
  {
   "cell_type": "markdown",
   "metadata": {},
   "source": [
    "**(4)** Once you have a handle on how the data are organized now, please **collapse the data** (using `groupby`) to be one observation per county-year-racial group. Make sure that you have the total arrest for violent crimes and the total arrests property crimes in your dataset."
   ]
  },
  {
   "cell_type": "markdown",
   "metadata": {},
   "source": [
    "**Note:** As mentioned in a previous reading, by default, `pandas` likes to make your grouping variables into a hierarchical index. Personally, I find hierarchical indices very weird and not worth dealing with. To avoid this, use the `as_index=False` option in `groupby`. I recommend this as a default option for working with `groupby`."
   ]
  },
  {
   "cell_type": "markdown",
   "metadata": {},
   "source": [
    "## Exercise 2: Investigating a question based on the data\n",
    "\n",
    "In this section we'll work on the following question: does the racial composition of arrests in each county vary by arrest type? In other words, do Blacks make up a larger portion of the people arrested for drug offenses than violent offenses? To answer this question, you will need to compute the proportion of all arrests in a county-year that occur within each racial group. \n",
    "\n",
    "**(5)** We'll take this in steps. We want to get the fraction of violent crimes that correspond to each race and fo the same for property crimes AND we want to have these quantities for each county and each year. Before we can get fractions of a total, we need to calculate the total. Begin by creating a new column of data called \"violent_total\" that includes for each county and year sums violent crime arrests across all races. Hint: use `transform` to help you out.\n",
    "\n",
    "You should be able to check your answer - 'violent_total' should be equal to the sum across all races for a given county and given year."
   ]
  },
  {
   "cell_type": "markdown",
   "metadata": {},
   "source": [
    "**(6)** Repeat this process to create a new column of data called \"property_total\" that includes for each county and year sums property crime arrests across all races. Hint: once again use `transform` to help you out and check that \"property_total\" equals the sum of property crime arrests across all races for a given county and given year."
   ]
  },
  {
   "cell_type": "markdown",
   "metadata": {},
   "source": [
    "## Exercise 3: Trying it on your own"
   ]
  },
  {
   "cell_type": "markdown",
   "metadata": {},
   "source": [
    "**(7)** Now we have what we need to determine the fraction of violent and property crime arrests by race for each county and year. Add two new columns called \"race_percent_violent\" and \"race_percent_property\". To get the first, calculate each as the fraction of violent crime arrests by race divided by the total of violent crime arrests by race, multiplied by 100. Do a similar computation for \"race_percent_property\".\n",
    "\n",
    "Always be sure to check your data to make sure the computation you were expecting worked - for example, percentages should add up to 100."
   ]
  },
  {
   "cell_type": "markdown",
   "metadata": {},
   "source": [
    "*A quick note of warning on interpretation: these results can tell you whether Black Californians make up a larger proportion of *arrests* for certain types of crimes, not whether they make up a larger proportion of people who *commit* a given type of crime! For example, there is extensive data that shows that Black and White Americans *use* drugs at the same rate, but Black Americans are arrested for drug use *much* more often. So be aware that arrests != crimes committed. Further analysis would be needed to explore those questions properly.*"
   ]
  },
  {
   "cell_type": "markdown",
   "metadata": {},
   "source": [
    "**(8)** Let's say we wanted to identify the percentage of arrests by race for violent and property crime across ALL counties in California and compare that breakdown in 1980 to 2022. Repeat the analysis you completed above and modify it to gather this new set of information."
   ]
  },
  {
   "cell_type": "markdown",
   "metadata": {},
   "source": [
    "**From your results, note the percent of violent crime associated with Black Californians in 1980 and in 2022. These values will be answers for your final quiz this week**"
   ]
  }
 ],
 "metadata": {
  "kernelspec": {
   "display_name": "Python 3.10.2 ('ds')",
   "language": "python",
   "name": "python3"
  },
  "language_info": {
   "codemirror_mode": {
    "name": "ipython",
    "version": 3
   },
   "file_extension": ".py",
   "mimetype": "text/x-python",
   "name": "python",
   "nbconvert_exporter": "python",
   "pygments_lexer": "ipython3",
   "version": "3.12.0"
  },
  "vscode": {
   "interpreter": {
    "hash": "b9e56a7b23b1fac2eea1a993b805ed5c611aea1439c1f46315b23590ab6d3ba0"
   }
  }
 },
 "nbformat": 4,
 "nbformat_minor": 4
}
