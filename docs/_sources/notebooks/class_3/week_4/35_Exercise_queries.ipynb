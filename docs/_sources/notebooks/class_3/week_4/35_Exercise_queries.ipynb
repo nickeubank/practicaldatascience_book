{
 "cells": [
  {
   "cell_type": "markdown",
   "metadata": {},
   "source": [
    "# Exercise: queries into the state of electricity production and CO2 emissions in the United States"
   ]
  },
  {
   "cell_type": "markdown",
   "metadata": {},
   "source": [
    "In data science, we often need to have a sense of the idiosyncrasies of the data, how they relate to the questions we are trying to answer, and to use that information to help us to determine what approach, such as machine learning, we may need to apply to achieve our goal. This exercise provides practice in exploring a dataset and answering questions that might arise from applications related to the data.\n",
    "\n",
    "**Data**. The data for this problem can be found in the `data` folder. The filename is `egrid2016.csv`. This dataset is the U.S. Environmental Protection Agency's (EPA) [Emissions & Generation Resource Integrated Database (eGRID)](https://www.epa.gov/energy/emissions-generation-resource-integrated-database-egrid) containing information about all power plants in the United States, the amount of electricity they generate, what fuel they use, emissions produced, the location of the plant, and many more quantities. We'll be using a subset of those data.\n",
    "\n",
    "The fields we'll be using include:\t\t\t\t\t\n",
    "    \n",
    "|field    |description|\n",
    "|:-----   |:-----|\n",
    "|SEQPLT16 |eGRID2016 Plant file sequence number (the index)| \n",
    "|PSTATABB |Plant state abbreviation|\n",
    "|PNAME    |Plant name |\n",
    "|LAT      |Plant latitude |\n",
    "|LON      |Plant longitude|\n",
    "|PLPRMFL  |Plant primary fuel |\n",
    "|NAMEPCAP |Plant nameplate capacity (Megawatts MW)|\n",
    "|PLNGENAN |Plant annual net generation (Megawatt-hours MWh)|\n",
    "|PLCO2EQA |Plant annual CO2 equivalent emissions (tons)|\n",
    "\n",
    "For more details on the data, you can refer to the [eGrid technical documents](https://www.epa.gov/sites/default/files/2021-02/documents/egrid2019_technical_guide.pdf). For example, you may want to review page 45 and the section \"Plant Primary Fuel (PLPRMFL)\", which gives the full names of the fuel types including WND for wind, NG for natural gas, BIT for Bituminous coal, etc. Codebooks for data are common in data science when the variable names would otherwise be onerously long."
   ]
  },
  {
   "cell_type": "markdown",
   "metadata": {},
   "source": [
    "\n",
    "**Your objective**. For this dataset, your goal is to answer the following questions about electricity generation in the United States by constructing appropriate queries of the data:\n",
    "\n",
    "1. Which power plant generated the most energy in 2016 (measured in MWh)? Since there is a column with the annual generation ('PLNGENAN'), consider how this can be used to answer this question.\n",
    "\n",
    "2. Which power plant produced the most CO2 emissions (measured in tons)? \n",
    "\n",
    "3. In what state is the plant with the most CO2 emissions (question 2) located?\n",
    "\n",
    "4. What is the primary fuel of the plant with the most CO2 emissions?\n",
    "\n",
    "5. What is the name of the northern-most power plant in the United States? (hint: latitude is the quantity that measures how far north or south a location is across the globe)\n",
    "\n",
    "6. In what state is the northern-most power plant in the United States located?\n",
    "\n",
    "7. Which state has the largest number of hydroelectric plants? In this case, each power plant counts once so regardless of how large the power plant is, we want to determine which state has the most of them. Note the primary fuel for hydroelectric plants is listed as water in the documentation.\n",
    "\n",
    "8. How many hydroelectric plants does the state with the most (which you identified in the last question) have?\n",
    "\n",
    "9. Which state(s) has the largest generated the most *energy* (MWh) using coal? If there are more than one, list the state abbreviations in alphabetical order, separated with commas (but no spaces). You may also want to explore the documentation for the `isin()` method for `pandas`. Note: in the eGrid documentation, there are multiple types of coal listed; be sure to factor in each type of coal. \n",
    "\n",
    "10. How much energy (in MWh) do the plants in question 9 produce in total? Please round to the nearest whole number.\n",
    "\n",
    "11. Which states have EXACTLY 1 coal plant? List the state abbreviations in alphabetical order, separated with commas (but no spaces).\n",
    "\n",
    "12. Which primary fuel produced the *most* CO2 emissions in the United States? We would like to compare natural gas, coal, oil, and renewables but the current categories are much more specific than that. As a first step, group the data as shown below, replacing the existing labels with the replacements suggested. For example, BIT and LIG should be replaced with COAL.\n",
    "- COAL = BIT, LIG, RC, SUB, WC\n",
    "- OIL = DFO, JF, KER, RFO, WO\n",
    "- GAS = BFG, COG, LFG, NG, OG, PG, PRG \n",
    "- RENEW = GEO, SUN, WAT, WDL, WDS, WND\n",
    "\n",
    "You may want to create a function that does this replacement prior to running your code. You can check whether or not it was successful by verifying that each of the values that should be replaced has been replaced - check that before moving on with the question.\n",
    "\n",
    "You will want to use 'PLCO2EQA' to answer this question as it's the quantity of emissions each plant generates."
   ]
  },
  {
   "cell_type": "markdown",
   "metadata": {},
   "source": [
    "**Note your responses to each of these questions. You will be asked about these on the final quiz this week.**"
   ]
  }
 ],
 "metadata": {
  "kernelspec": {
   "display_name": "Python 3.10.2 ('ds')",
   "language": "python",
   "name": "python3"
  },
  "language_info": {
   "codemirror_mode": {
    "name": "ipython",
    "version": 3
   },
   "file_extension": ".py",
   "mimetype": "text/x-python",
   "name": "python",
   "nbconvert_exporter": "python",
   "pygments_lexer": "ipython3",
   "version": "3.10.2"
  },
  "nteract": {
   "version": "0.28.0"
  },
  "varInspector": {
   "cols": {
    "lenName": 16,
    "lenType": 16,
    "lenVar": 40
   },
   "kernels_config": {
    "python": {
     "delete_cmd_postfix": "",
     "delete_cmd_prefix": "del ",
     "library": "var_list.py",
     "varRefreshCmd": "print(var_dic_list())"
    },
    "r": {
     "delete_cmd_postfix": ") ",
     "delete_cmd_prefix": "rm(",
     "library": "var_list.r",
     "varRefreshCmd": "cat(var_dic_list()) "
    }
   },
   "position": {
    "height": "643px",
    "left": "1548px",
    "right": "20px",
    "top": "121px",
    "width": "350px"
   },
   "types_to_exclude": [
    "module",
    "function",
    "builtin_function_or_method",
    "instance",
    "_Feature"
   ],
   "window_display": true
  },
  "vscode": {
   "interpreter": {
    "hash": "b9e56a7b23b1fac2eea1a993b805ed5c611aea1439c1f46315b23590ab6d3ba0"
   }
  }
 },
 "nbformat": 4,
 "nbformat_minor": 2
}
