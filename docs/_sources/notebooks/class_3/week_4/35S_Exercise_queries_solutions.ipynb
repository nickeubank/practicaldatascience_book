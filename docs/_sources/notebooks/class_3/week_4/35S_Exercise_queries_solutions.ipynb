{
 "cells": [
  {
   "cell_type": "markdown",
   "metadata": {},
   "source": [
    "# Exercise Solutions: NOTE FOR POSTING\n",
    "# Queries into the state of electricity production and CO2 emissions in the United States"
   ]
  },
  {
   "cell_type": "markdown",
   "metadata": {},
   "source": [
    "In data science, we often need to have a sense of the idiosyncrasies of the data, how they relate to the questions we are trying to answer, and to use that information to help us to determine what approach, such as machine learning, we may need to apply to achieve our goal. This exercise provides practice in exploring a dataset and answering questions that might arise from applications related to the data.\n",
    "\n",
    "**Data**. The data for this problem can be found in the `data` folder. The filename is `egrid2016.xlsx`. This dataset is the U.S. Environmental Protection Agency's (EPA) [Emissions & Generation Resource Integrated Database (eGRID)](https://www.epa.gov/energy/emissions-generation-resource-integrated-database-egrid) containing information about all power plants in the United States, the amount of electricity they generate, what fuel they use, emissions produced, the location of the plant, and many more quantities. We'll be using a subset of those data.\n",
    "\n",
    "The fields we'll be using include:\t\t\t\t\t\n",
    "    \n",
    "|field    |description|\n",
    "|:-----   |:-----|\n",
    "|SEQPLT16 |eGRID2016 Plant file sequence number (the index)| \n",
    "|PSTATABB |Plant state abbreviation|\n",
    "|PNAME    |Plant name |\n",
    "|LAT      |Plant latitude |\n",
    "|LON      |Plant longitude|\n",
    "|PLPRMFL  |Plant primary fuel |\n",
    "|NAMEPCAP |Plant nameplate capacity (Megawatts MW)|\n",
    "|PLNGENAN |Plant annual net generation (Megawatt-hours MWh)|\n",
    "|PLCO2EQA |Plant annual CO2 equivalent emissions (tons)|\n",
    "\n",
    "For more details on the data, you can refer to the [eGrid technical documents](https://www.epa.gov/sites/default/files/2021-02/documents/egrid2019_technical_guide.pdf). For example, you may want to review page 45 and the section \"Plant Primary Fuel (PLPRMFL)\", which gives the full names of the fuel types including WND for wind, NG for natural gas, BIT for Bituminous coal, etc. Codebooks for data are common in data science when the variable names would otherwise be onerously long."
   ]
  },
  {
   "cell_type": "code",
   "execution_count": 28,
   "metadata": {},
   "outputs": [],
   "source": [
    "import pandas as pd\n",
    "\n",
    "egrid = pd.read_csv('./data/egrid2016.csv')"
   ]
  },
  {
   "cell_type": "code",
   "execution_count": 2,
   "metadata": {},
   "outputs": [
    {
     "data": {
      "text/html": [
       "<div>\n",
       "<style scoped>\n",
       "    .dataframe tbody tr th:only-of-type {\n",
       "        vertical-align: middle;\n",
       "    }\n",
       "\n",
       "    .dataframe tbody tr th {\n",
       "        vertical-align: top;\n",
       "    }\n",
       "\n",
       "    .dataframe thead th {\n",
       "        text-align: right;\n",
       "    }\n",
       "</style>\n",
       "<table border=\"1\" class=\"dataframe\">\n",
       "  <thead>\n",
       "    <tr style=\"text-align: right;\">\n",
       "      <th></th>\n",
       "      <th>SEQPLT16</th>\n",
       "      <th>PSTATABB</th>\n",
       "      <th>PNAME</th>\n",
       "      <th>LAT</th>\n",
       "      <th>LON</th>\n",
       "      <th>PLPRMFL</th>\n",
       "      <th>NAMEPCAP</th>\n",
       "      <th>PLNGENAN</th>\n",
       "      <th>PLCO2EQA</th>\n",
       "    </tr>\n",
       "  </thead>\n",
       "  <tbody>\n",
       "    <tr>\n",
       "      <th>0</th>\n",
       "      <td>1</td>\n",
       "      <td>AK</td>\n",
       "      <td>7-Mile Ridge Wind Project</td>\n",
       "      <td>63.210689</td>\n",
       "      <td>-143.247156</td>\n",
       "      <td>WND</td>\n",
       "      <td>1.8</td>\n",
       "      <td>0.00</td>\n",
       "      <td>0.00</td>\n",
       "    </tr>\n",
       "    <tr>\n",
       "      <th>1</th>\n",
       "      <td>2</td>\n",
       "      <td>AK</td>\n",
       "      <td>Agrium Kenai Nitrogen Operations</td>\n",
       "      <td>60.673200</td>\n",
       "      <td>-151.378400</td>\n",
       "      <td>NG</td>\n",
       "      <td>21.6</td>\n",
       "      <td>0.00</td>\n",
       "      <td>0.00</td>\n",
       "    </tr>\n",
       "    <tr>\n",
       "      <th>2</th>\n",
       "      <td>3</td>\n",
       "      <td>AK</td>\n",
       "      <td>Alakanuk</td>\n",
       "      <td>62.683300</td>\n",
       "      <td>-164.654400</td>\n",
       "      <td>DFO</td>\n",
       "      <td>2.6</td>\n",
       "      <td>1213.00</td>\n",
       "      <td>1049.86</td>\n",
       "    </tr>\n",
       "    <tr>\n",
       "      <th>3</th>\n",
       "      <td>4</td>\n",
       "      <td>AK</td>\n",
       "      <td>Allison Creek Hydro</td>\n",
       "      <td>61.084444</td>\n",
       "      <td>-146.353333</td>\n",
       "      <td>WAT</td>\n",
       "      <td>6.5</td>\n",
       "      <td>881.00</td>\n",
       "      <td>0.00</td>\n",
       "    </tr>\n",
       "    <tr>\n",
       "      <th>4</th>\n",
       "      <td>5</td>\n",
       "      <td>AK</td>\n",
       "      <td>Ambler</td>\n",
       "      <td>67.087980</td>\n",
       "      <td>-157.856719</td>\n",
       "      <td>DFO</td>\n",
       "      <td>1.1</td>\n",
       "      <td>1316.00</td>\n",
       "      <td>1087.88</td>\n",
       "    </tr>\n",
       "    <tr>\n",
       "      <th>...</th>\n",
       "      <td>...</td>\n",
       "      <td>...</td>\n",
       "      <td>...</td>\n",
       "      <td>...</td>\n",
       "      <td>...</td>\n",
       "      <td>...</td>\n",
       "      <td>...</td>\n",
       "      <td>...</td>\n",
       "      <td>...</td>\n",
       "    </tr>\n",
       "    <tr>\n",
       "      <th>9704</th>\n",
       "      <td>9705</td>\n",
       "      <td>WY</td>\n",
       "      <td>Western Sugar Coop - Torrington</td>\n",
       "      <td>42.046900</td>\n",
       "      <td>-104.186300</td>\n",
       "      <td>NG</td>\n",
       "      <td>2.0</td>\n",
       "      <td>6893.79</td>\n",
       "      <td>2377.68</td>\n",
       "    </tr>\n",
       "    <tr>\n",
       "      <th>9705</th>\n",
       "      <td>9706</td>\n",
       "      <td>WY</td>\n",
       "      <td>Wygen I</td>\n",
       "      <td>44.285800</td>\n",
       "      <td>-105.383300</td>\n",
       "      <td>SUB</td>\n",
       "      <td>90.0</td>\n",
       "      <td>710524.00</td>\n",
       "      <td>926215.62</td>\n",
       "    </tr>\n",
       "    <tr>\n",
       "      <th>9706</th>\n",
       "      <td>9707</td>\n",
       "      <td>WY</td>\n",
       "      <td>Wygen II</td>\n",
       "      <td>44.291900</td>\n",
       "      <td>-105.381100</td>\n",
       "      <td>SUB</td>\n",
       "      <td>95.0</td>\n",
       "      <td>734354.00</td>\n",
       "      <td>909354.80</td>\n",
       "    </tr>\n",
       "    <tr>\n",
       "      <th>9707</th>\n",
       "      <td>9708</td>\n",
       "      <td>WY</td>\n",
       "      <td>Wygen III</td>\n",
       "      <td>44.291900</td>\n",
       "      <td>-105.380600</td>\n",
       "      <td>SUB</td>\n",
       "      <td>116.0</td>\n",
       "      <td>821699.00</td>\n",
       "      <td>975147.43</td>\n",
       "    </tr>\n",
       "    <tr>\n",
       "      <th>9708</th>\n",
       "      <td>9709</td>\n",
       "      <td>WY</td>\n",
       "      <td>Wyodak</td>\n",
       "      <td>44.290128</td>\n",
       "      <td>-105.381482</td>\n",
       "      <td>SUB</td>\n",
       "      <td>402.3</td>\n",
       "      <td>2056358.00</td>\n",
       "      <td>2708379.82</td>\n",
       "    </tr>\n",
       "  </tbody>\n",
       "</table>\n",
       "<p>9709 rows × 9 columns</p>\n",
       "</div>"
      ],
      "text/plain": [
       "      SEQPLT16 PSTATABB                             PNAME        LAT  \\\n",
       "0            1       AK         7-Mile Ridge Wind Project  63.210689   \n",
       "1            2       AK  Agrium Kenai Nitrogen Operations  60.673200   \n",
       "2            3       AK                          Alakanuk  62.683300   \n",
       "3            4       AK               Allison Creek Hydro  61.084444   \n",
       "4            5       AK                            Ambler  67.087980   \n",
       "...        ...      ...                               ...        ...   \n",
       "9704      9705       WY   Western Sugar Coop - Torrington  42.046900   \n",
       "9705      9706       WY                           Wygen I  44.285800   \n",
       "9706      9707       WY                          Wygen II  44.291900   \n",
       "9707      9708       WY                         Wygen III  44.291900   \n",
       "9708      9709       WY                            Wyodak  44.290128   \n",
       "\n",
       "             LON PLPRMFL  NAMEPCAP    PLNGENAN    PLCO2EQA  \n",
       "0    -143.247156     WND       1.8        0.00        0.00  \n",
       "1    -151.378400      NG      21.6        0.00        0.00  \n",
       "2    -164.654400     DFO       2.6     1213.00     1049.86  \n",
       "3    -146.353333     WAT       6.5      881.00        0.00  \n",
       "4    -157.856719     DFO       1.1     1316.00     1087.88  \n",
       "...          ...     ...       ...         ...         ...  \n",
       "9704 -104.186300      NG       2.0     6893.79     2377.68  \n",
       "9705 -105.383300     SUB      90.0   710524.00   926215.62  \n",
       "9706 -105.381100     SUB      95.0   734354.00   909354.80  \n",
       "9707 -105.380600     SUB     116.0   821699.00   975147.43  \n",
       "9708 -105.381482     SUB     402.3  2056358.00  2708379.82  \n",
       "\n",
       "[9709 rows x 9 columns]"
      ]
     },
     "execution_count": 2,
     "metadata": {},
     "output_type": "execute_result"
    }
   ],
   "source": [
    "egrid"
   ]
  },
  {
   "cell_type": "markdown",
   "metadata": {},
   "source": [
    "**Your objective**. For this dataset, your goal is to answer the following questions about electricity generation in the United States by constructing appropriate queries of the data:\n",
    "\n",
    "1. Which power plant generated the most energy in 2016 (measured in MWh)? Since there is a column with the annual generation ('PLNGENAN'), consider how this can be used to answer this question."
   ]
  },
  {
   "cell_type": "code",
   "execution_count": 3,
   "metadata": {},
   "outputs": [
    {
     "data": {
      "text/plain": [
       "'Palo Verde'"
      ]
     },
     "execution_count": 3,
     "metadata": {},
     "output_type": "execute_result"
    }
   ],
   "source": [
    "egrid.sort_values(by='PLNGENAN', ascending=False)['PNAME'].iloc[0]"
   ]
  },
  {
   "cell_type": "markdown",
   "metadata": {},
   "source": [
    "2. Which power plant produced the most CO2 emissions (measured in tons)? "
   ]
  },
  {
   "cell_type": "code",
   "execution_count": 4,
   "metadata": {},
   "outputs": [
    {
     "data": {
      "text/plain": [
       "'James H Miller Jr'"
      ]
     },
     "execution_count": 4,
     "metadata": {},
     "output_type": "execute_result"
    }
   ],
   "source": [
    "egrid.sort_values(by='PLCO2EQA', ascending=False)['PNAME'].iloc[0]"
   ]
  },
  {
   "cell_type": "markdown",
   "metadata": {},
   "source": [
    "3. In what state is the plant with the most CO2 emissions (question 2) located?"
   ]
  },
  {
   "cell_type": "code",
   "execution_count": 5,
   "metadata": {},
   "outputs": [
    {
     "data": {
      "text/plain": [
       "'AL'"
      ]
     },
     "execution_count": 5,
     "metadata": {},
     "output_type": "execute_result"
    }
   ],
   "source": [
    "egrid.sort_values(by='PLCO2EQA', ascending=False)['PSTATABB'].iloc[0]"
   ]
  },
  {
   "cell_type": "markdown",
   "metadata": {},
   "source": [
    "4. What is the primary fuel of the plant with the most CO2 emissions?"
   ]
  },
  {
   "cell_type": "code",
   "execution_count": 6,
   "metadata": {},
   "outputs": [
    {
     "data": {
      "text/plain": [
       "'SUB'"
      ]
     },
     "execution_count": 6,
     "metadata": {},
     "output_type": "execute_result"
    }
   ],
   "source": [
    "egrid.sort_values(by='PLCO2EQA', ascending=False)['PLPRMFL'].iloc[0]"
   ]
  },
  {
   "cell_type": "markdown",
   "metadata": {},
   "source": [
    "5. What is the name of the northern-most power plant in the United States? (hint: latitude is the quantity that measures how far north or south a location is across the globe)"
   ]
  },
  {
   "cell_type": "code",
   "execution_count": 7,
   "metadata": {},
   "outputs": [
    {
     "data": {
      "text/plain": [
       "'Barrow'"
      ]
     },
     "execution_count": 7,
     "metadata": {},
     "output_type": "execute_result"
    }
   ],
   "source": [
    "egrid.sort_values(by='LAT', ascending=False)['PNAME'].iloc[0]"
   ]
  },
  {
   "cell_type": "markdown",
   "metadata": {},
   "source": [
    "6. In what state is the northern-most power plant in the United States located?"
   ]
  },
  {
   "cell_type": "code",
   "execution_count": 8,
   "metadata": {},
   "outputs": [
    {
     "data": {
      "text/plain": [
       "'AK'"
      ]
     },
     "execution_count": 8,
     "metadata": {},
     "output_type": "execute_result"
    }
   ],
   "source": [
    "egrid.sort_values(by='LAT', ascending=False)['PSTATABB'].iloc[0]"
   ]
  },
  {
   "cell_type": "markdown",
   "metadata": {},
   "source": [
    "7. Which state has the largest number of hydroelectric plants? In this case, each power plant counts once so regardless of how large the power plant is, we want to determine which state has the most of them. Note the primary fuel for hydroelectric plants is listed as water in the documentation."
   ]
  },
  {
   "cell_type": "code",
   "execution_count": 9,
   "metadata": {},
   "outputs": [
    {
     "data": {
      "text/plain": [
       "'CA'"
      ]
     },
     "execution_count": 9,
     "metadata": {},
     "output_type": "execute_result"
    }
   ],
   "source": [
    "hydro = egrid[egrid['PLPRMFL']=='WAT']\n",
    "hydro_grouped = hydro.groupby(by='PSTATABB').count().reset_index()\n",
    "hydro_grouped.sort_values(by='PNAME', ascending=False)[\"PSTATABB\"].iloc[0]"
   ]
  },
  {
   "cell_type": "markdown",
   "metadata": {},
   "source": [
    "8. How many hydroelectric plants does the state with the most (which you identified in the last question) have?"
   ]
  },
  {
   "cell_type": "code",
   "execution_count": 10,
   "metadata": {},
   "outputs": [
    {
     "data": {
      "text/plain": [
       "264"
      ]
     },
     "execution_count": 10,
     "metadata": {},
     "output_type": "execute_result"
    }
   ],
   "source": [
    "hydro_grouped.sort_values(by='PNAME', ascending=False)[\"PNAME\"].iloc[0]"
   ]
  },
  {
   "cell_type": "markdown",
   "metadata": {},
   "source": [
    "9. Which state(s) has generated the most *energy* (MWh) using coal? If there are more than one, list the state abbreviations in alphabetical order, separated with commas (but no spaces). You may also want to explore the documentation for the `isin()` method for `pandas`. Note: in the eGrid documentation, there are multiple types of coal listed; be sure to factor in each type of coal. "
   ]
  },
  {
   "cell_type": "code",
   "execution_count": 11,
   "metadata": {},
   "outputs": [
    {
     "data": {
      "text/plain": [
       "'TX'"
      ]
     },
     "execution_count": 11,
     "metadata": {},
     "output_type": "execute_result"
    }
   ],
   "source": [
    "coal = ['BIT','LIG','RC','SUB','WC']\n",
    "coal_plants = egrid[egrid['PLPRMFL'].isin(coal)]\n",
    "coal_plants_grouped = coal_plants.groupby(by='PSTATABB').sum().reset_index().drop(columns=['PNAME','LAT','LON','PLPRMFL','SEQPLT16'])\n",
    "coal_plants_grouped.sort_values(by='PLNGENAN', ascending=False)['PSTATABB'].iloc[0]"
   ]
  },
  {
   "cell_type": "markdown",
   "metadata": {},
   "source": [
    "10. How much energy (in MWh) do the plants in question 9 produce in total? Please round to the nearest whole number."
   ]
  },
  {
   "cell_type": "code",
   "execution_count": 12,
   "metadata": {},
   "outputs": [
    {
     "data": {
      "text/plain": [
       "122545095.0"
      ]
     },
     "execution_count": 12,
     "metadata": {},
     "output_type": "execute_result"
    }
   ],
   "source": [
    "coal_plants_grouped.sort_values(by='PLNGENAN', ascending=False)['PLNGENAN'].iloc[0]"
   ]
  },
  {
   "cell_type": "markdown",
   "metadata": {},
   "source": [
    "11. Which states have EXACTLY 1 coal plant? List the state abbreviations in alphabetical order, separated with commas (but no spaces)."
   ]
  },
  {
   "cell_type": "code",
   "execution_count": 13,
   "metadata": {},
   "outputs": [
    {
     "data": {
      "text/plain": [
       "array(['SD', 'OR', 'DE', 'HI', 'NH', 'ID'], dtype=object)"
      ]
     },
     "execution_count": 13,
     "metadata": {},
     "output_type": "execute_result"
    }
   ],
   "source": [
    "coal = ['BIT','LIG','RC','SUB','WC']\n",
    "coal_plants = egrid[egrid['PLPRMFL'].isin(coal)]\n",
    "coal_plants_grouped = coal_plants.groupby(by='PSTATABB').count().reset_index().drop(columns=['PNAME','LAT','LON','PLPRMFL','SEQPLT16'])\n",
    "coal_plants_grouped_sorted = coal_plants_grouped.sort_values(by='PLNGENAN', ascending=True)\n",
    "coal_plants_grouped_sorted[coal_plants_grouped_sorted['PLNGENAN']==1]['PSTATABB'].values"
   ]
  },
  {
   "cell_type": "code",
   "execution_count": 31,
   "metadata": {},
   "outputs": [
    {
     "data": {
      "text/plain": [
       "array(['DC', 'ME', 'RI', 'VT'], dtype=object)"
      ]
     },
     "execution_count": 31,
     "metadata": {},
     "output_type": "execute_result"
    }
   ],
   "source": [
    "# If we wanted EXACTLY 0 coals plants:\n",
    "coal_plants = egrid[egrid['PLPRMFL'].isin(coal)]\n",
    "coal_states = coal_plants['PSTATABB'].unique()\n",
    "non_coal_plant_states = egrid[~egrid['PSTATABB'].isin(coal_states)]\n",
    "non_coal_plant_states['PSTATABB'].unique()"
   ]
  },
  {
   "cell_type": "markdown",
   "metadata": {},
   "source": [
    "12. Which primary fuel produced the *most* CO2 emissions in the United States? We would like to compare natural gas, coal, oil, and renewables but the current categories are much more specific than that. As a first step, group the data as shown below, replacing the existing labels with the replacements suggested. For example, BIT and LIG should be replaced with COAL.\n",
    "- COAL = BIT, LIG, RC, SUB, WC\n",
    "- OIL = DFO, JF, KER, RFO, WO\n",
    "- GAS = BFG, COG, LFG, NG, OG, PG, PRG \n",
    "- RENEW = GEO, SUN, WAT, WDL, WDS, WND\n",
    "\n",
    "You may want to create a function that does this replacement prior to running your code. You can check whether or not it was successful by verifying that each of the values that should be replaced has been replaced - check that before moving on with the question.\n",
    "\n",
    "You will want to use 'PLCO2EQA' to answer this question as it's the quantity of emissions each plant generates."
   ]
  },
  {
   "cell_type": "code",
   "execution_count": 14,
   "metadata": {},
   "outputs": [
    {
     "data": {
      "text/html": [
       "<div>\n",
       "<style scoped>\n",
       "    .dataframe tbody tr th:only-of-type {\n",
       "        vertical-align: middle;\n",
       "    }\n",
       "\n",
       "    .dataframe tbody tr th {\n",
       "        vertical-align: top;\n",
       "    }\n",
       "\n",
       "    .dataframe thead th {\n",
       "        text-align: right;\n",
       "    }\n",
       "</style>\n",
       "<table border=\"1\" class=\"dataframe\">\n",
       "  <thead>\n",
       "    <tr style=\"text-align: right;\">\n",
       "      <th></th>\n",
       "      <th>SEQPLT16</th>\n",
       "      <th>PSTATABB</th>\n",
       "      <th>PNAME</th>\n",
       "      <th>LAT</th>\n",
       "      <th>LON</th>\n",
       "      <th>PLPRMFL</th>\n",
       "      <th>NAMEPCAP</th>\n",
       "      <th>PLNGENAN</th>\n",
       "      <th>PLCO2EQA</th>\n",
       "    </tr>\n",
       "  </thead>\n",
       "  <tbody>\n",
       "    <tr>\n",
       "      <th>0</th>\n",
       "      <td>1</td>\n",
       "      <td>AK</td>\n",
       "      <td>7-Mile Ridge Wind Project</td>\n",
       "      <td>63.210689</td>\n",
       "      <td>-143.247156</td>\n",
       "      <td>RENEW</td>\n",
       "      <td>1.8</td>\n",
       "      <td>0.00</td>\n",
       "      <td>0.00</td>\n",
       "    </tr>\n",
       "    <tr>\n",
       "      <th>1</th>\n",
       "      <td>2</td>\n",
       "      <td>AK</td>\n",
       "      <td>Agrium Kenai Nitrogen Operations</td>\n",
       "      <td>60.673200</td>\n",
       "      <td>-151.378400</td>\n",
       "      <td>GAS</td>\n",
       "      <td>21.6</td>\n",
       "      <td>0.00</td>\n",
       "      <td>0.00</td>\n",
       "    </tr>\n",
       "    <tr>\n",
       "      <th>2</th>\n",
       "      <td>3</td>\n",
       "      <td>AK</td>\n",
       "      <td>Alakanuk</td>\n",
       "      <td>62.683300</td>\n",
       "      <td>-164.654400</td>\n",
       "      <td>OIL</td>\n",
       "      <td>2.6</td>\n",
       "      <td>1213.00</td>\n",
       "      <td>1049.86</td>\n",
       "    </tr>\n",
       "    <tr>\n",
       "      <th>3</th>\n",
       "      <td>4</td>\n",
       "      <td>AK</td>\n",
       "      <td>Allison Creek Hydro</td>\n",
       "      <td>61.084444</td>\n",
       "      <td>-146.353333</td>\n",
       "      <td>RENEW</td>\n",
       "      <td>6.5</td>\n",
       "      <td>881.00</td>\n",
       "      <td>0.00</td>\n",
       "    </tr>\n",
       "    <tr>\n",
       "      <th>4</th>\n",
       "      <td>5</td>\n",
       "      <td>AK</td>\n",
       "      <td>Ambler</td>\n",
       "      <td>67.087980</td>\n",
       "      <td>-157.856719</td>\n",
       "      <td>OIL</td>\n",
       "      <td>1.1</td>\n",
       "      <td>1316.00</td>\n",
       "      <td>1087.88</td>\n",
       "    </tr>\n",
       "    <tr>\n",
       "      <th>...</th>\n",
       "      <td>...</td>\n",
       "      <td>...</td>\n",
       "      <td>...</td>\n",
       "      <td>...</td>\n",
       "      <td>...</td>\n",
       "      <td>...</td>\n",
       "      <td>...</td>\n",
       "      <td>...</td>\n",
       "      <td>...</td>\n",
       "    </tr>\n",
       "    <tr>\n",
       "      <th>9704</th>\n",
       "      <td>9705</td>\n",
       "      <td>WY</td>\n",
       "      <td>Western Sugar Coop - Torrington</td>\n",
       "      <td>42.046900</td>\n",
       "      <td>-104.186300</td>\n",
       "      <td>GAS</td>\n",
       "      <td>2.0</td>\n",
       "      <td>6893.79</td>\n",
       "      <td>2377.68</td>\n",
       "    </tr>\n",
       "    <tr>\n",
       "      <th>9705</th>\n",
       "      <td>9706</td>\n",
       "      <td>WY</td>\n",
       "      <td>Wygen I</td>\n",
       "      <td>44.285800</td>\n",
       "      <td>-105.383300</td>\n",
       "      <td>COAL</td>\n",
       "      <td>90.0</td>\n",
       "      <td>710524.00</td>\n",
       "      <td>926215.62</td>\n",
       "    </tr>\n",
       "    <tr>\n",
       "      <th>9706</th>\n",
       "      <td>9707</td>\n",
       "      <td>WY</td>\n",
       "      <td>Wygen II</td>\n",
       "      <td>44.291900</td>\n",
       "      <td>-105.381100</td>\n",
       "      <td>COAL</td>\n",
       "      <td>95.0</td>\n",
       "      <td>734354.00</td>\n",
       "      <td>909354.80</td>\n",
       "    </tr>\n",
       "    <tr>\n",
       "      <th>9707</th>\n",
       "      <td>9708</td>\n",
       "      <td>WY</td>\n",
       "      <td>Wygen III</td>\n",
       "      <td>44.291900</td>\n",
       "      <td>-105.380600</td>\n",
       "      <td>COAL</td>\n",
       "      <td>116.0</td>\n",
       "      <td>821699.00</td>\n",
       "      <td>975147.43</td>\n",
       "    </tr>\n",
       "    <tr>\n",
       "      <th>9708</th>\n",
       "      <td>9709</td>\n",
       "      <td>WY</td>\n",
       "      <td>Wyodak</td>\n",
       "      <td>44.290128</td>\n",
       "      <td>-105.381482</td>\n",
       "      <td>COAL</td>\n",
       "      <td>402.3</td>\n",
       "      <td>2056358.00</td>\n",
       "      <td>2708379.82</td>\n",
       "    </tr>\n",
       "  </tbody>\n",
       "</table>\n",
       "<p>9709 rows × 9 columns</p>\n",
       "</div>"
      ],
      "text/plain": [
       "      SEQPLT16 PSTATABB                             PNAME        LAT  \\\n",
       "0            1       AK         7-Mile Ridge Wind Project  63.210689   \n",
       "1            2       AK  Agrium Kenai Nitrogen Operations  60.673200   \n",
       "2            3       AK                          Alakanuk  62.683300   \n",
       "3            4       AK               Allison Creek Hydro  61.084444   \n",
       "4            5       AK                            Ambler  67.087980   \n",
       "...        ...      ...                               ...        ...   \n",
       "9704      9705       WY   Western Sugar Coop - Torrington  42.046900   \n",
       "9705      9706       WY                           Wygen I  44.285800   \n",
       "9706      9707       WY                          Wygen II  44.291900   \n",
       "9707      9708       WY                         Wygen III  44.291900   \n",
       "9708      9709       WY                            Wyodak  44.290128   \n",
       "\n",
       "             LON PLPRMFL  NAMEPCAP    PLNGENAN    PLCO2EQA  \n",
       "0    -143.247156   RENEW       1.8        0.00        0.00  \n",
       "1    -151.378400     GAS      21.6        0.00        0.00  \n",
       "2    -164.654400     OIL       2.6     1213.00     1049.86  \n",
       "3    -146.353333   RENEW       6.5      881.00        0.00  \n",
       "4    -157.856719     OIL       1.1     1316.00     1087.88  \n",
       "...          ...     ...       ...         ...         ...  \n",
       "9704 -104.186300     GAS       2.0     6893.79     2377.68  \n",
       "9705 -105.383300    COAL      90.0   710524.00   926215.62  \n",
       "9706 -105.381100    COAL      95.0   734354.00   909354.80  \n",
       "9707 -105.380600    COAL     116.0   821699.00   975147.43  \n",
       "9708 -105.381482    COAL     402.3  2056358.00  2708379.82  \n",
       "\n",
       "[9709 rows x 9 columns]"
      ]
     },
     "execution_count": 14,
     "metadata": {},
     "output_type": "execute_result"
    }
   ],
   "source": [
    "replacements = {\n",
    "    'COAL': ['BIT', 'LIG', 'RC', 'SUB', 'WC'],\n",
    "    'OIL': ['DFO', 'JF', 'KER', 'RFO', 'WO'],\n",
    "    'GAS': ['BFG', 'COG', 'LFG', 'NG', 'OG', 'PG', 'PRG'],\n",
    "    'RENEW': ['GEO','SUN','WAT','WDL','WDS','WND']\n",
    "}\n",
    "\n",
    "def replace(df, replacement_dict):\n",
    "    for key in replacement_dict:\n",
    "        df = df.replace(to_replace = replacements[key], value = key)\n",
    "    return df\n",
    "\n",
    "egrid = replace(egrid, replacements)\n",
    "egrid"
   ]
  },
  {
   "cell_type": "code",
   "execution_count": 15,
   "metadata": {},
   "outputs": [
    {
     "data": {
      "text/plain": [
       "'COAL'"
      ]
     },
     "execution_count": 15,
     "metadata": {},
     "output_type": "execute_result"
    }
   ],
   "source": [
    "co2emitters = egrid.groupby(by='PLPRMFL', as_index=False).sum().drop(columns=['PNAME','PSTATABB','LAT','LON','SEQPLT16'])\n",
    "result = co2emitters.sort_values(by='PLCO2EQA', ascending=False)\n",
    "result['PLPRMFL'].iloc[0]"
   ]
  }
 ],
 "metadata": {
  "kernelspec": {
   "display_name": "pds-book",
   "language": "python",
   "name": "python3"
  },
  "language_info": {
   "codemirror_mode": {
    "name": "ipython",
    "version": 3
   },
   "file_extension": ".py",
   "mimetype": "text/x-python",
   "name": "python",
   "nbconvert_exporter": "python",
   "pygments_lexer": "ipython3",
   "version": "3.12.0"
  },
  "nteract": {
   "version": "0.28.0"
  },
  "varInspector": {
   "cols": {
    "lenName": 16,
    "lenType": 16,
    "lenVar": 40
   },
   "kernels_config": {
    "python": {
     "delete_cmd_postfix": "",
     "delete_cmd_prefix": "del ",
     "library": "var_list.py",
     "varRefreshCmd": "print(var_dic_list())"
    },
    "r": {
     "delete_cmd_postfix": ") ",
     "delete_cmd_prefix": "rm(",
     "library": "var_list.r",
     "varRefreshCmd": "cat(var_dic_list()) "
    }
   },
   "position": {
    "height": "643px",
    "left": "1548px",
    "right": "20px",
    "top": "121px",
    "width": "350px"
   },
   "types_to_exclude": [
    "module",
    "function",
    "builtin_function_or_method",
    "instance",
    "_Feature"
   ],
   "window_display": true
  }
 },
 "nbformat": 4,
 "nbformat_minor": 2
}
