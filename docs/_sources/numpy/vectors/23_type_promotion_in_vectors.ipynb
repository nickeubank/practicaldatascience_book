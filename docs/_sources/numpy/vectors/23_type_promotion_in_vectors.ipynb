{
 "cells": [
  {
   "cell_type": "markdown",
   "id": "d724418f",
   "metadata": {},
   "source": [
    "# Type Promotion in numpy"
   ]
  },
  {
   "cell_type": "markdown",
   "id": "eda1eb38",
   "metadata": {},
   "source": [
    "There's one last lesson that's worth learning about vectors, because it can get you in trouble. \n",
    "\n",
    "As noted above, vectors can only contain one type of data, but if you try pass a list with different kinds of data to `np.array`, numpy will try and be clever and *find* a way to put all that data in one array by doing something called \"Type Promotion.\" Type promotion is the practice of converting all the data you give it to the same type. For example, if I tried to create a vector by combining a string vector and a numeric vector, numpy would convert the numeric value to a string so all the data could fit in a string vector:\n"
   ]
  },
  {
   "cell_type": "code",
   "execution_count": null,
   "id": "913b47b7",
   "metadata": {},
   "outputs": [
    {
     "data": {
      "text/plain": [
       "array(['Nick', '42'], dtype='<U21')"
      ]
     },
     "metadata": {},
     "output_type": "display_data"
    }
   ],
   "source": [
    "import numpy as np\n",
    "np.array([\"Nick\", 42])"
   ]
  },
  {
   "cell_type": "markdown",
   "id": "20b03368",
   "metadata": {},
   "source": [
    "Why did numpy convert `42` to `\"42\"` and not convert `\"Nick\"` to a numeric type? Well because `\"Nick\"` can't be represented as a numeric type in any meaningful sense while any number (like `42`) can always be represented as a character in a meaningful way.\n",
    "\n",
    "Indeed, there's a hierarchy of data types, where a type lower on the hierarchy can **always** be converted into something higher in the order, but not the other way around. That hierarchy is:\n",
    "\n",
    "`Boolean` --> `integer` --> `float` --> `string`\n",
    "\n",
    "When Python is asked to combine data of different types, it will try to move things up this hierarchy by the smallest amount possible in order to make everything the same type.\n",
    "\n",
    "(Note there are individual cases that can move backwards -- the character `\"5\"` could logically be turned into `5` -- but you can't always convert a character to a numeric, so for consistently Python only moves in directions that are **always** possible. \n",
    "\n",
    "For example, if you combine `Boolean` and `float` vectors, Python will convert all of the data into `float` (Remember from our previous reading that Python thinks of `True` as being like `1`, and `False` as being like `0`).\n"
   ]
  },
  {
   "cell_type": "code",
   "execution_count": null,
   "id": "e5cd0593",
   "metadata": {},
   "outputs": [
    {
     "data": {
      "text/plain": [
       "array([1. , 2.4, 1. ])"
      ]
     },
     "metadata": {},
     "output_type": "display_data"
    }
   ],
   "source": [
    "np.array([1, 2.4, True])"
   ]
  },
  {
   "cell_type": "markdown",
   "id": "2eca3650",
   "metadata": {},
   "source": [
    "But it **doesn't** convert that data into a `string` vector (even though it could!) because it's trying to make the smallest movements up that hierarchy that it can. \n",
    "\n",
    "But if we try to combine `Boolean`, `float`, *and* `string` data, Python would be forced to convert everything into a `string` vector:"
   ]
  },
  {
   "cell_type": "code",
   "execution_count": null,
   "id": "6f9a9406",
   "metadata": {},
   "outputs": [
    {
     "data": {
      "text/plain": [
       "array(['True', '42', 'Julio'], dtype='<U21')"
      ]
     },
     "metadata": {},
     "output_type": "display_data"
    }
   ],
   "source": [
    "np.array([True, 42, \"Julio\"])"
   ]
  },
  {
   "cell_type": "markdown",
   "id": "a02f568a",
   "metadata": {},
   "source": [
    "## Exercises\n",
    "\n",
    "1. Now we are going to create a vector with the numbers `42`, `47`, and `1.618`. Before you create it, what do you think the `dtype` will be?\n",
    "2. Now create the vector and check your intuition!\n",
    "3. Now we are going to create a vector from the list `[47, True, 3.14]`. Before you create it, what do you think the `dtype` will be? What do you think the array will look like?\n",
    "4. Now create the vector and check your intuition!\n"
   ]
  }
 ],
 "metadata": {
  "language_info": {
   "name": "python"
  },
  "orig_nbformat": 4
 },
 "nbformat": 4,
 "nbformat_minor": 2
}
