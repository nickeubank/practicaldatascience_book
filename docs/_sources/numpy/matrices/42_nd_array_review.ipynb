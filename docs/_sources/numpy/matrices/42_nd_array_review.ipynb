{
 "cells": [
  {
   "cell_type": "markdown",
   "metadata": {},
   "source": [
    "## Review of ND-Arrays\n",
    "\n",
    "- Vectors and matrices are just special cases of a more general data structure: arrays (or sometimes, ND-arrays).\n",
    "- Everything we learned about vectors and matrices can be generalized in a relatively straightforward manner to arrays with more than two dimensions (mostly just by including more entries between our square brackets when subsetting).\n",
    "- We can often do mathematical operations with arrays of different shapes and even arrays with different numbers of dimensions. The way this works is governed by the rules of *broadcasting*."
   ]
  }
 ],
 "metadata": {
  "interpreter": {
   "hash": "3e0a5228cb9726a24d36227c69ed0d3aac98cecda769d1c9adb080711d57f90d"
  },
  "kernelspec": {
   "display_name": "Python 3.9.7 64-bit ('base': conda)",
   "language": "python",
   "name": "python3"
  },
  "language_info": {
   "codemirror_mode": {
    "name": "ipython",
    "version": 3
   },
   "file_extension": ".py",
   "mimetype": "text/x-python",
   "name": "python",
   "nbconvert_exporter": "python",
   "pygments_lexer": "ipython3",
   "version": "3.9.7"
  },
  "orig_nbformat": 4
 },
 "nbformat": 4,
 "nbformat_minor": 2
}
